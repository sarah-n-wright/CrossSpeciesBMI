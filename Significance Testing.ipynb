{
 "cells": [
  {
   "cell_type": "markdown",
   "metadata": {},
   "source": [
    "## Setup"
   ]
  },
  {
   "cell_type": "code",
   "execution_count": 72,
   "metadata": {
    "ExecuteTime": {
     "end_time": "2022-02-17T00:36:21.126408Z",
     "start_time": "2022-02-17T00:36:21.124233Z"
    }
   },
   "outputs": [],
   "source": [
    "import pandas as pd\n",
    "from matplotlib_venn import venn2\n",
    "from scipy.stats import hypergeom\n",
    "from scipy.stats import norm\n",
    "import math\n",
    "import numpy as np\n",
    "import seaborn as sns\n",
    "import random as rn\n",
    "import matplotlib.pyplot as plt"
   ]
  },
  {
   "cell_type": "code",
   "execution_count": 15,
   "metadata": {
    "ExecuteTime": {
     "end_time": "2022-02-17T00:04:56.236293Z",
     "start_time": "2022-02-17T00:04:56.234493Z"
    }
   },
   "outputs": [],
   "source": [
    "DATADIR= '~/Data/rat/data/final/'# location of input datasets\n",
    "OUTDIR= '/cellar/users/snwright/Data/Transfer/rat/' # path to save intermediate and final datasets\n",
    "ratThresh='relaxed'\n",
    "num_reps=1000\n",
    "#mapper='PASCAL'\n",
    "#adj_type='bonf'\n",
    "#rerun_analysis=False"
   ]
  },
  {
   "cell_type": "markdown",
   "metadata": {},
   "source": [
    "## Import PCNet"
   ]
  },
  {
   "cell_type": "code",
   "execution_count": 2,
   "metadata": {
    "ExecuteTime": {
     "end_time": "2022-02-17T00:00:12.073309Z",
     "start_time": "2022-02-16T23:59:42.605944Z"
    }
   },
   "outputs": [
    {
     "name": "stdout",
     "output_type": "stream",
     "text": [
      "number of nodes: 18820\n",
      "number of edges: 2693250\n"
     ]
    }
   ],
   "source": [
    "import ndex2\n",
    "interactome_uuid='4de852d9-9908-11e9-bcaf-0ac135e8bacf'\n",
    "ndex_server='public.ndexbio.org'\n",
    "ndex_user=None\n",
    "ndex_password=None\n",
    "G_PC = ndex2.create_nice_cx_from_server(\n",
    "            ndex_server, \n",
    "            username=ndex_user, \n",
    "            password=ndex_password, \n",
    "            uuid=interactome_uuid\n",
    "        ).to_networkx()\n",
    "nodes = list(G_PC.nodes)\n",
    "\n",
    "# print out interactome num nodes and edges for diagnostic purposes\n",
    "print('number of nodes:', len(G_PC.nodes))\n",
    "print('number of edges:', len(G_PC.edges))"
   ]
  },
  {
   "cell_type": "code",
   "execution_count": 5,
   "metadata": {
    "ExecuteTime": {
     "end_time": "2022-02-17T00:00:49.026977Z",
     "start_time": "2022-02-17T00:00:49.023859Z"
    }
   },
   "outputs": [],
   "source": [
    "pc_nodes = list(G_PC.nodes)"
   ]
  },
  {
   "cell_type": "markdown",
   "metadata": {},
   "source": [
    "## Functions"
   ]
  },
  {
   "cell_type": "code",
   "execution_count": 74,
   "metadata": {
    "ExecuteTime": {
     "end_time": "2022-02-17T00:38:02.491999Z",
     "start_time": "2022-02-17T00:38:02.465509Z"
    },
    "code_folding": [
     0,
     16,
     32,
     47,
     106,
     117,
     223,
     278
    ]
   },
   "outputs": [],
   "source": [
    "def load_human_seed_genes(filepath, interactome_nodes, trait=''):\n",
    "    \"\"\"\n",
    "    :param filepath:\n",
    "    :param interactome_nodes:\n",
    "    :param trait:\n",
    "    \"\"\"\n",
    "    all_scores = pd.read_csv(filepath, sep=\"\\t\", index_col='gene_symbol')\n",
    "    # subset to genes in the interactome\n",
    "    all_scores = all_scores.loc[list(np.intersect1d(all_scores.index.tolist(), interactome_nodes))]\n",
    "    # Calculate bonferroni corrected pvalue (alpha=0.05)\n",
    "    bonf_p = .05/len(all_scores)\n",
    "    # Get significant genes\n",
    "    seeds = all_scores[all_scores['pvalue'] < bonf_p].index.tolist()\n",
    "    print(\"Number of\",trait,\"seeds:\", len(seeds))\n",
    "    return seeds\n",
    "\n",
    "def get_consensus_z_scores(sampled_results, percentile=.75):\n",
    "    \"\"\"\n",
    "    returns the consensus z score for each gene across all samples\n",
    "    :param sampled_results: output of netprop_zscore.calculate_heat_zscores_with_sampling\n",
    "    :type sampled_results: str (file path) or pandas.DataFrame\n",
    "    :param percentile: Percentile cut off for determining consensus score (default=0.75)\n",
    "    :type percentile: float\n",
    "    :return: Consensus z-scores for all genes based on sampling\n",
    "    \"\"\"\n",
    "    if type(sampled_results) == str:\n",
    "        results = pd.read_csv(sampled_results, sep=\"\\t\", index_col=0)\n",
    "    else:\n",
    "        results = sampled_results\n",
    "    consensus_z = pd.DataFrame({'z': results.quantile(q=percentile, axis=1)})\n",
    "    return consensus_z\n",
    "\n",
    "def significance_of_gene_overlap(trait1, trait2, pc_nodes, seed_dict, plot=False):\n",
    "    seeds1 = seed_dict[trait1]\n",
    "    seeds2 = seed_dict[trait2]\n",
    "    hyper = hypergeom(M=len(pc_nodes), n=len(seeds1), N=len(seeds2))\n",
    "    intersect = set(seeds1).intersection(set(seeds2))\n",
    "    p_intersect = hyper.sf(len(intersect))\n",
    "    if plot:\n",
    "        venn2([len(seeds1)-len(intersect), len(seeds2)-len(intersect), len(intersect)], [trait1, trait2], \n",
    "             set_colors=('purple', 'skyblue'), alpha=0.7)\n",
    "    print(\"Overlapping genes:\", len(intersect))\n",
    "    print(\"P:\", p_intersect)\n",
    "    \n",
    "    return len(intersect), p_intersect\n",
    "\n",
    "\n",
    "def calculate_mean_z_score_distribution(trait1, trait2, num_reps, seed_dict, z_dict ,zero_double_negatives=False, \n",
    "                               overlap_control=\"remove\"):\n",
    "    \"\"\"\n",
    "    :param z1:\n",
    "    :param z2:\n",
    "    :param num_reps:\n",
    "    :param zero_double_negatives:\n",
    "    :param remove_seeds:\n",
    "    :param seed1:\n",
    "    :param seed2:\n",
    "    \"\"\"\n",
    "    print(\"Estimated time:\", num_reps * 2 / 100, \"seconds\")\n",
    "    z1 = z_dict[trait1]\n",
    "    z2 = z_dict[trait2]\n",
    "    seed1 = seed_dict[trait1]\n",
    "    seed2 = seed_dict[trait2]\n",
    "    z1z2 = z1.join(z2, lsuffix=\"1\", rsuffix=\"2\")\n",
    "    z1z2 = z1z2.assign(zz=z1z2.z1 * z1z2.z2)\n",
    "    if overlap_control == \"remove\":\n",
    "        seed_overlap = list(set(seed1).intersection(set(seed2)))\n",
    "        print(\"Overlap seed genes:\", len(seed_overlap))\n",
    "        z1z2.drop(seed_overlap, axis=0, inplace=True)\n",
    "    elif overlap_control == \"bin\":\n",
    "        seed_overlap = list(set(seed1).intersection(set(seed2)))\n",
    "        print(\"Overlap seed genes:\", len(seed_overlap))\n",
    "        overlap_z1z2 = z1z2.loc[seed_overlap]\n",
    "        overlap_z1 = np.array(overlap_z1z2.z1)\n",
    "        z1z2.drop(seed_overlap, axis=0, inplace=True)\n",
    "    z1 = np.array(z1z2.z1)\n",
    "    z2 = np.array(z1z2.z2)\n",
    "    if zero_double_negatives:\n",
    "        for node in z1z2.index:\n",
    "            if (z1z2.loc[node].z1 < 0 and z1z2.loc[node].z2 < 0):\n",
    "                z1z2.loc[node, 'zz'] = 0\n",
    "    permutation_means = np.zeros(num_reps)\n",
    "    for i in range(num_reps):\n",
    "        perm_z1z2 = np.zeros(len(z1))\n",
    "        np.random.shuffle(z1)\n",
    "\n",
    "        for node in range(len(z1)):\n",
    "            if not zero_double_negatives or not (z1[node] < 0 and z2[node] < 0):\n",
    "                perm_z1z2[node] = z1[node] * z2[node]\n",
    "            else:\n",
    "                perm_z1z2[node] = 0\n",
    "        if overlap_control == \"bin\":\n",
    "            overlap_perm_z1z2 = np.zeros(len(overlap_z1))\n",
    "            np.random.shuffle(overlap_z1) \n",
    "            for node in range(len(overlap_z1)):\n",
    "                if zero_double_negatives and (overlap_z1[node] < 0 and z2[node] < 0):\n",
    "                    overlap_perm_z1z2[node] = 0\n",
    "                else:\n",
    "                    overlap_perm_z1z2[node] = overlap_z1[node] * z2[node]\n",
    "            perm_z1z2 = np.concatenate([perm_z1z2, overlap_perm_z1z2])\n",
    "                    \n",
    "        \n",
    "        permutation_means[i] = np.mean(perm_z1z2)\n",
    "    return np.mean(z1z2.zz), permutation_means\n",
    "\n",
    "\n",
    "def get_p_from_permutation_results(observed, permuted):\n",
    "    \"\"\"\n",
    "    Calculates the significance of the observed mean relative to the empirical normal distribution of permuted means.\n",
    "    :param observed: observed mean NPS_hr\n",
    "    :param permuted: vector of means from permuted NPS_hr\n",
    "    \"\"\"\n",
    "    p = norm.sf((observed-np.mean(permuted))/np.std(permuted))\n",
    "    p = round(p, 4 - int(math.floor(math.log10(abs(p)))) - 1)\n",
    "    return(p)\n",
    "\n",
    "\n",
    "def calculate_expected_overlap(trait1, trait2, seed_dict, z_dict, \n",
    "                               z_score_threshold=3, z1_threshold=1.5,\n",
    "                               z2_threshold=1.5,\n",
    "                               num_reps=1000, plot=False, overlap_control=None):\n",
    "    \"\"\"\n",
    "    Determines size of expected network overlap by randomly\n",
    "    shuffling gene names\n",
    "\n",
    "    :param z_scores_1: Result from :py:func:`~netcoloc.netprop_zscore.netprop_zscore`\n",
    "                       or :py:func:`~netcoloc.netprop_zscore.calculate_heat_zscores`\n",
    "                       containing the z-scores of each gene following network\n",
    "                       propagation. The index consists of gene names\n",
    "    :type z_scores_1: :py:class:`pandas.Series`\n",
    "    :param z_scores_2: Similar to **z_scores_1**. This and **z_scores_1**\n",
    "                       must contain the same genes (ie. come from the same\n",
    "                       interactome network)\n",
    "    :type z_scores_2: :py:class:`pandas.Series`\n",
    "    :param z_score_threshold: threshold to determine whether a gene is\n",
    "        a part of the network overlap or not. Genes with combined z-scores\n",
    "        below this threshold will be discarded\n",
    "    :type z_score_threshold: float\n",
    "    :param z1_threshold: individual z1-score threshold to determine whether a gene is\n",
    "        a part of the network overlap or not. Genes with z1-scores\n",
    "        below this threshold will be discarded\n",
    "    :type z1_threshold: float\n",
    "    :param z2_threshold: individual z2-score threshold to determine whether a gene is\n",
    "        a part of the network overlap or not. Genes with z2-scores\n",
    "        below this threshold will be discarded\n",
    "    :type z2_threshold: float\n",
    "    :param num_reps:\n",
    "    :param plot: If ``True``, distribution will be plotted\n",
    "    :type plot: bool\n",
    "    :return:\n",
    "    :rtype: float\n",
    "    \"\"\"\n",
    "    z_scores_1 = z_dict[trait1]\n",
    "    z_scores_2 = z_dict[trait2]\n",
    "    seed1 = seed_dict[trait1]\n",
    "    seed2 = seed_dict[trait2]\n",
    "    print(\"Estimated time:\", num_reps * 2 / 100, \"seconds\")\n",
    "    # Build a distribution of expected network overlap sizes by shuffling node names\n",
    "    random_network_overlap_sizes = []\n",
    "    if isinstance(z_scores_1, pd.DataFrame):\n",
    "        z1z2 = z_scores_1.join(z_scores_2, lsuffix=\"1\", rsuffix=\"2\")\n",
    "        z1z2 = z1z2.assign(zz=z1z2.z1 * z1z2.z2)\n",
    "    elif isinstance(z_scores_1, pd.Series):\n",
    "        z1z2 = pd.concat([z_scores_1, z_scores_2], axis=1)\n",
    "    if overlap_control == \"remove\":\n",
    "        seed_overlap = list(set(seed1).intersection(set(seed2)))\n",
    "        print(\"Overlap seed genes:\", len(seed_overlap))\n",
    "        z1z2.drop(seed_overlap, axis=0, inplace=True)\n",
    "    elif overlap_control == \"bin\":\n",
    "        seed_overlap = list(set(seed1).intersection(set(seed2)))\n",
    "        print(\"Overlap seed genes:\", len(seed_overlap))\n",
    "        overlap_z1z2 = z1z2.loc[seed_overlap]\n",
    "        overlap_z1 = np.array(overlap_z1z2.z1)\n",
    "        overlap_z2 = np.array(overlap_z1z2.z2)\n",
    "        z1z2.drop(seed_overlap, axis=0, inplace=True)\n",
    "    z1 = np.array(z1z2.z1)\n",
    "    z2 = np.array(z1z2.z2)\n",
    "    \n",
    "    network_overlap_size = len(calculate_network_overlap(z1z2.z1, z1z2.z2,\n",
    "                                                         z_score_threshold=z_score_threshold,\n",
    "                                                         z1_threshold=z1_threshold,\n",
    "                                                         z2_threshold=z2_threshold))\n",
    "    network_overlap_size += len(calculate_network_overlap(overlap_z1z2.z1, overlap_z1z2.z2,\n",
    "                                                         z_score_threshold=z_score_threshold,\n",
    "                                                         z1_threshold=z1_threshold,\n",
    "                                                         z2_threshold=z2_threshold))\n",
    "    \n",
    "    random_network_overlap_sizes = np.zeros(num_reps)\n",
    "    for i in range(num_reps):\n",
    "        perm_z1z2 = np.zeros(len(z1))\n",
    "        rn.shuffle(z1)\n",
    "        perm_size = len(calculate_network_overlap(z1, z2,\n",
    "                                                         z_score_threshold=z_score_threshold,\n",
    "                                                         z1_threshold=z1_threshold,\n",
    "                                                         z2_threshold=z2_threshold))\n",
    "        if overlap_control == \"bin\":\n",
    "            overlap_perm_z1z2 = np.zeros(len(overlap_z1))\n",
    "            rn.shuffle(overlap_z1) \n",
    "            perm_size_overlap = len(calculate_network_overlap(overlap_z1, overlap_z2,\n",
    "                                                         z_score_threshold=z_score_threshold,\n",
    "                                                         z1_threshold=z1_threshold,\n",
    "                                                         z2_threshold=z2_threshold))\n",
    "            \n",
    "            perm_size += perm_size_overlap\n",
    "                    \n",
    "        \n",
    "        random_network_overlap_sizes[i] = perm_size\n",
    "    \n",
    "\n",
    "    if plot:\n",
    "        plt.figure(figsize=(5, 4))\n",
    "        dfig = sns.histplot(random_network_overlap_sizes,\n",
    "                            label='Expected network intersection size')\n",
    "        plt.vlines(network_overlap_size, ymin=0, ymax=dfig.dataLim.bounds[3], color='r',\n",
    "                   label='Observed network intersection size')\n",
    "        plt.xlabel('Size of proximal subgraph, z > ' + str(z_score_threshold),\n",
    "                   fontsize=16)\n",
    "        plt.legend(fontsize=12)\n",
    "\n",
    "    return network_overlap_size, random_network_overlap_sizes\n",
    "\n",
    " \n",
    "    \n",
    "def calculate_network_overlap(z_scores_1, z_scores_2, z_score_threshold=3,\n",
    "                              z1_threshold=1.5, z2_threshold=1.5):\n",
    "    \"\"\"\n",
    "    Function to determine which genes overlap. Returns a list of the\n",
    "    overlapping genes\n",
    "\n",
    "    :param z_scores_1: Result from :py:func:`~netcoloc.netprop_zscore.netprop_zscore`\n",
    "                       or :py:func:`~netcoloc.netprop_zscore.calculate_heat_zscores`\n",
    "                       containing the z-scores of each gene following network\n",
    "                       propagation. The index consists of gene names\n",
    "    :type z_scores_1: :py:class:`pandas.Series`\n",
    "    :param z_scores_2: Similar to **z_scores_1**. This and **z_scores_1**\n",
    "                       must contain the same genes (ie. come from the same\n",
    "                       interactome network)\n",
    "    :type z_scores_2: :py:class:`pandas.Series`\n",
    "    :param z_score_threshold: threshold to determine whether a gene is\n",
    "        a part of the network overlap or not. Genes with combined z-scores\n",
    "        below this threshold will be discarded\n",
    "    :type z_score_threshold: float\n",
    "    :param z1_threshold: individual z1-score threshold to determine whether a gene is\n",
    "        a part of the network overlap or not. Genes with z1-scores\n",
    "        below this threshold will be discarded\n",
    "    :type z1_threshold: float\n",
    "    :param z2_threshold: individual z2-score threshold to determine whether a gene is\n",
    "        a part of the network overlap or not. Genes with z2-scores\n",
    "        below this threshold will be discarded\n",
    "    :type z2_threshold: float\n",
    "    :return: genes in the network overlap (genes with high combined\n",
    "            z-scores)\n",
    "    :rtype: list\n",
    "    \"\"\"\n",
    "    if isinstance(z_scores_1, pd.Series):\n",
    "        z_scores_1 = z_scores_1.to_frame(name='z_scores_1')\n",
    "        z_scores_2 = z_scores_2.to_frame(name='z_scores_2')\n",
    "    elif isinstance(z_scores_1, np.ndarray):\n",
    "        z_scores_1 = pd.DataFrame({\"z_scores_1\":z_scores_1})\n",
    "        z_scores_2 = pd.DataFrame({\"z_scores_2\":z_scores_2})\n",
    "    else:\n",
    "        z_scores_1.columns = [\"z_scores_1\"]\n",
    "        z_scores_2.columns = [\"z_scores_2\"]\n",
    "    z_scores_joined = z_scores_1.join(z_scores_2)\n",
    "    z_scores_combined = (z_scores_joined['z_scores_1']\n",
    "                        * z_scores_joined['z_scores_2']\n",
    "                        * (z_scores_joined['z_scores_1'] > 0)\n",
    "                        * (z_scores_joined['z_scores_2'] > 0))\n",
    "    # get rid of unlikely genes which have low scores in either z1 or z2\n",
    "    high_z_score_genes = z_scores_combined[\n",
    "        (z_scores_combined >= z_score_threshold)\n",
    "         & (z_scores_joined['z_scores_1'] > z1_threshold)\n",
    "         & (z_scores_joined['z_scores_2'] > z2_threshold)\n",
    "    ].index.tolist()\n",
    "\n",
    "    return high_z_score_genes\n",
    "\n",
    "\n",
    "def plot_permutation_histogram(permuted, observed, title, xlabel):\n",
    "    \"\"\"\n",
    "    Plot the observed mean of NPS_hr against a density histrogram of the means of permuted NPS_hr\n",
    "    :param permuted: Vector of means of permuted NPS_hr\n",
    "    :param observed: Observed mean of NPS_hr\n",
    "    :param title: String for plot title\n",
    "    :param xlabel: String for x-axis label\n",
    "    \"\"\"\n",
    "    plt.figure(figsize=(5, 4))\n",
    "    dfig = sns.histplot(permuted, label='Expected', alpha=0.4, stat='density', bins=25, kde=True, \n",
    "                        edgecolor='w')\n",
    "    params = {'mathtext.default': 'regular' }          \n",
    "    plt.rcParams.update(params)\n",
    "    plt.xlabel(xlabel, fontsize=16)\n",
    "    diff = max(observed, max(permuted))-min(permuted)\n",
    "    plt.arrow(x = observed, y=dfig.dataLim.bounds[3]/2, dx=0, dy = -1 * dfig.dataLim.bounds[3]/2,label = \"Observed\",\n",
    "              width=diff/100, head_width=diff/15, head_length=dfig.dataLim.bounds[3]/20, overhang=0.5, \n",
    "              length_includes_head=True, color=\"red\", zorder=50)\n",
    "    #plt.xlabel(xlabel, fontsize=12)\n",
    "    plt.ylabel(\"Density\", fontsize=16)\n",
    "    plt.legend(fontsize=12, loc=(0.6,0.75))\n",
    "    plt.xticks(fontsize=12)\n",
    "    plt.yticks(fontsize=12)\n",
    "    plt.locator_params(axis=\"y\", nbins=6)\n",
    "    plt.title(title+\" (p=\"+str(get_p_from_permutation_results(observed, permuted))+\")\", fontsize=16)"
   ]
  },
  {
   "cell_type": "markdown",
   "metadata": {},
   "source": [
    "## Define comparisons"
   ]
  },
  {
   "cell_type": "code",
   "execution_count": null,
   "metadata": {},
   "outputs": [],
   "source": [
    "comparisons = [('rBMI', 'hBMI'), (\"rBMI\", \"rBL\")]"
   ]
  },
  {
   "cell_type": "markdown",
   "metadata": {},
   "source": [
    "Could put the below functions in a loop structure to do a series of comparisons\n",
    "```\n",
    "for comp in comparisons:\n",
    "    trait1 = comp[0]\n",
    "    trait2 = comp[1]\n",
    "    # <load seed genes for trait1 & 2> as seeds1, seeds2\n",
    "    # <load labeled z_scores for trait1 & 2> as z1, z2\n",
    "    seed_dict = {trait1: seeds1, trait1:seeds2}\n",
    "    z_dict {trait1: z1, trait2: z2}\n",
    "    # Direct overlap\n",
    "    overlap, p_overlap = significance_of_gene_overlap(trait1, trait2, pc_nodes, seed_dict, plot=False)\n",
    "    # Mean NPS\n",
    "    observed_mean, permuted_means = calculate_mean_z_score_distribution(trait1, trait2, num_reps=1000,\n",
    "                                                       zero_double_negatives=False, overlap_control=\"bin\",\n",
    "                                                       seed_dict=seed_dict, z_dict=z_dict)\n",
    "    p_mean = get_p_from_permutation_results(observed_mean, permuted_means)                                             \n",
    "    # Network size\n",
    "    observed_sz, permuted_sz = calculate_expected_overlap(trait1, trait2, seed_dict=seed_dict, z_dict=z_dict, \n",
    "                                                                      z_score_threshold=3, z1_threshold=1.0,\n",
    "                                                                      z2_threshold=1.0, num_reps=1000, plot=False, \n",
    "                                                                              overlap_control=\"bin\")\n",
    "    p_value = get_p_from_permutation_results(observed_sz, permuted_sz)                                                         ```                "
   ]
  },
  {
   "cell_type": "markdown",
   "metadata": {},
   "source": [
    "## In a loop"
   ]
  },
  {
   "cell_type": "markdown",
   "metadata": {
    "ExecuteTime": {
     "end_time": "2022-02-17T00:10:19.101227Z",
     "start_time": "2022-02-17T00:10:19.099633Z"
    }
   },
   "source": [
    "## Import Seed Genes"
   ]
  },
  {
   "cell_type": "code",
   "execution_count": 9,
   "metadata": {
    "ExecuteTime": {
     "end_time": "2022-02-17T00:01:28.140060Z",
     "start_time": "2022-02-17T00:01:27.873919Z"
    }
   },
   "outputs": [
    {
     "name": "stdout",
     "output_type": "stream",
     "text": [
      "Number of BMI seeds: 1958\n"
     ]
    }
   ],
   "source": [
    "# if results have not already been subset to significant, otherwise just load\n",
    "seed_bin_human_BMI = load_human_seed_genes(DATADIR+'GIANT_BMI_pascal.sum.genescores.txt', \n",
    "                                           pc_nodes, 'BMI')"
   ]
  },
  {
   "cell_type": "code",
   "execution_count": 19,
   "metadata": {
    "ExecuteTime": {
     "end_time": "2022-02-17T00:10:15.421236Z",
     "start_time": "2022-02-17T00:10:15.412440Z"
    }
   },
   "outputs": [],
   "source": [
    "seed_bin_rat_BMI=pd.read_csv(DATADIR+'ratBMI_seed_'+ratThresh+'.txt',sep='\\t')['0'].tolist()\n",
    "seed_bin_rat_BL=pd.read_csv(DATADIR+'ratBL_seed_'+ratThresh+'.txt',sep='\\t')['0'].tolist()"
   ]
  },
  {
   "cell_type": "code",
   "execution_count": 20,
   "metadata": {
    "ExecuteTime": {
     "end_time": "2022-02-17T00:10:16.418039Z",
     "start_time": "2022-02-17T00:10:16.416437Z"
    }
   },
   "outputs": [],
   "source": [
    "# put into dictionary for ease of access. \n",
    "seed_dict = {'hBMI':seed_bin_human_BMI,\n",
    "             'rBMI':seed_bin_rat_BMI, 'rBL':seed_bin_rat_BL}"
   ]
  },
  {
   "cell_type": "markdown",
   "metadata": {
    "ExecuteTime": {
     "end_time": "2022-02-17T00:10:19.101227Z",
     "start_time": "2022-02-17T00:10:19.099633Z"
    }
   },
   "source": [
    "## Import Z-scores"
   ]
  },
  {
   "cell_type": "code",
   "execution_count": 21,
   "metadata": {
    "ExecuteTime": {
     "end_time": "2022-02-17T00:10:19.101227Z",
     "start_time": "2022-02-17T00:10:19.099633Z"
    }
   },
   "outputs": [],
   "source": [
    "# if consensus has not been previously calculated, otherwise just load\n",
    "z_human_bin_BMI =get_consensus_z_scores(DATADIR+'z_human_bin_BMI_SAMPLED_500_100_weighted.tsv')"
   ]
  },
  {
   "cell_type": "code",
   "execution_count": 22,
   "metadata": {
    "ExecuteTime": {
     "end_time": "2022-02-17T00:10:18.290500Z",
     "start_time": "2022-02-17T00:10:18.264624Z"
    }
   },
   "outputs": [],
   "source": [
    "out_name = 'rat_BMI_'+ratThresh\n",
    "z_rat_BMI=pd.read_csv(DATADIR+'z_'+out_name+'_'+str(num_reps)+'_reps.tsv',sep='\\t',\n",
    "                          index_col='gene',names=['gene','z'], header=0)\n",
    "out_name = 'rat_BL_'+ratThresh\n",
    "z_rat_BL=pd.read_csv(DATADIR + 'z_'+out_name+'_'+str(num_reps)+'_reps.tsv',sep='\\t',\n",
    "                         index_col='gene', names=['gene', 'z'], header=0)"
   ]
  },
  {
   "cell_type": "code",
   "execution_count": 23,
   "metadata": {
    "ExecuteTime": {
     "end_time": "2022-02-17T00:10:19.101227Z",
     "start_time": "2022-02-17T00:10:19.099633Z"
    }
   },
   "outputs": [],
   "source": [
    "z_dict = {'hBMI':z_human_bin_BMI,\n",
    "          'rBMI':z_rat_BMI,'rBL':z_rat_BL}"
   ]
  },
  {
   "cell_type": "code",
   "execution_count": 37,
   "metadata": {
    "ExecuteTime": {
     "end_time": "2022-02-17T00:20:35.525511Z",
     "start_time": "2022-02-17T00:20:35.485643Z"
    }
   },
   "outputs": [
    {
     "data": {
      "text/html": [
       "<div>\n",
       "<style scoped>\n",
       "    .dataframe tbody tr th:only-of-type {\n",
       "        vertical-align: middle;\n",
       "    }\n",
       "\n",
       "    .dataframe tbody tr th {\n",
       "        vertical-align: top;\n",
       "    }\n",
       "\n",
       "    .dataframe thead th {\n",
       "        text-align: right;\n",
       "    }\n",
       "</style>\n",
       "<table border=\"1\" class=\"dataframe\">\n",
       "  <thead>\n",
       "    <tr style=\"text-align: right;\">\n",
       "      <th></th>\n",
       "      <th>z</th>\n",
       "    </tr>\n",
       "  </thead>\n",
       "  <tbody>\n",
       "    <tr>\n",
       "      <th>UBE2Q1</th>\n",
       "      <td>-0.059048</td>\n",
       "    </tr>\n",
       "    <tr>\n",
       "      <th>RNF14</th>\n",
       "      <td>-0.413490</td>\n",
       "    </tr>\n",
       "    <tr>\n",
       "      <th>UBE2Q2</th>\n",
       "      <td>-0.090295</td>\n",
       "    </tr>\n",
       "    <tr>\n",
       "      <th>TMCO1</th>\n",
       "      <td>-0.319948</td>\n",
       "    </tr>\n",
       "    <tr>\n",
       "      <th>UBAC1</th>\n",
       "      <td>1.268305</td>\n",
       "    </tr>\n",
       "    <tr>\n",
       "      <th>...</th>\n",
       "      <td>...</td>\n",
       "    </tr>\n",
       "    <tr>\n",
       "      <th>CD300LD</th>\n",
       "      <td>0.397138</td>\n",
       "    </tr>\n",
       "    <tr>\n",
       "      <th>SLC10A5</th>\n",
       "      <td>-0.270149</td>\n",
       "    </tr>\n",
       "    <tr>\n",
       "      <th>BAGE4</th>\n",
       "      <td>0.301993</td>\n",
       "    </tr>\n",
       "    <tr>\n",
       "      <th>FAM181B</th>\n",
       "      <td>2.324852</td>\n",
       "    </tr>\n",
       "    <tr>\n",
       "      <th>TPT1P8</th>\n",
       "      <td>0.245410</td>\n",
       "    </tr>\n",
       "  </tbody>\n",
       "</table>\n",
       "<p>18820 rows × 1 columns</p>\n",
       "</div>"
      ],
      "text/plain": [
       "                z\n",
       "UBE2Q1  -0.059048\n",
       "RNF14   -0.413490\n",
       "UBE2Q2  -0.090295\n",
       "TMCO1   -0.319948\n",
       "UBAC1    1.268305\n",
       "...           ...\n",
       "CD300LD  0.397138\n",
       "SLC10A5 -0.270149\n",
       "BAGE4    0.301993\n",
       "FAM181B  2.324852\n",
       "TPT1P8   0.245410\n",
       "\n",
       "[18820 rows x 1 columns]"
      ]
     },
     "execution_count": 37,
     "metadata": {},
     "output_type": "execute_result"
    }
   ],
   "source": [
    "# Each z series should look like this for functions to work properly\n",
    "z_dict['hBMI']"
   ]
  },
  {
   "cell_type": "markdown",
   "metadata": {
    "ExecuteTime": {
     "end_time": "2022-02-17T00:10:19.101227Z",
     "start_time": "2022-02-17T00:10:19.099633Z"
    }
   },
   "source": [
    "## Significance of gene overlap"
   ]
  },
  {
   "cell_type": "code",
   "execution_count": 35,
   "metadata": {
    "ExecuteTime": {
     "end_time": "2022-02-17T00:17:51.293653Z",
     "start_time": "2022-02-17T00:17:51.175274Z"
    }
   },
   "outputs": [
    {
     "name": "stdout",
     "output_type": "stream",
     "text": [
      "Overlapping genes: 29\n",
      "P: 0.5813676573237017\n"
     ]
    },
    {
     "data": {
      "text/plain": [
       "(29, 0.5813676573237017)"
      ]
     },
     "execution_count": 35,
     "metadata": {},
     "output_type": "execute_result"
    },
    {
     "data": {
      "image/png": "[encoded data removed]",
      "text/plain": [
       "<Figure size 432x288 with 1 Axes>"
      ]
     },
     "metadata": {},
     "output_type": "display_data"
    }
   ],
   "source": [
    "significance_of_gene_overlap('hBMI', 'rBMI', pc_nodes, seed_dict, plot=True)"
   ]
  },
  {
   "cell_type": "code",
   "execution_count": 39,
   "metadata": {
    "ExecuteTime": {
     "end_time": "2022-02-17T00:22:11.912955Z",
     "start_time": "2022-02-17T00:22:11.809843Z"
    }
   },
   "outputs": [
    {
     "name": "stdout",
     "output_type": "stream",
     "text": [
      "Overlapping genes: 25\n",
      "P: 2.4520867473107065e-11\n"
     ]
    },
    {
     "data": {
      "text/plain": [
       "(25, 2.4520867473107065e-11)"
      ]
     },
     "execution_count": 39,
     "metadata": {},
     "output_type": "execute_result"
    },
    {
     "data": {
      "image/png": "[encoded data removed]",
      "text/plain": [
       "<Figure size 432x288 with 1 Axes>"
      ]
     },
     "metadata": {},
     "output_type": "display_data"
    }
   ],
   "source": [
    "significance_of_gene_overlap('rBL', 'rBMI', pc_nodes, seed_dict, plot=True)"
   ]
  },
  {
   "cell_type": "markdown",
   "metadata": {},
   "source": [
    "## Significance of mean NPS"
   ]
  },
  {
   "cell_type": "code",
   "execution_count": 76,
   "metadata": {
    "ExecuteTime": {
     "end_time": "2022-02-17T00:39:28.760187Z",
     "start_time": "2022-02-17T00:39:22.104496Z"
    }
   },
   "outputs": [
    {
     "name": "stdout",
     "output_type": "stream",
     "text": [
      "Estimated time: 20.0 seconds\n",
      "Overlap seed genes: 29\n"
     ]
    },
    {
     "data": {
      "image/png": "[encoded data removed]",
      "text/plain": [
       "<Figure size 360x288 with 1 Axes>"
      ]
     },
     "metadata": {
      "needs_background": "light"
     },
     "output_type": "display_data"
    }
   ],
   "source": [
    "observed_mean, permuted_means = calculate_mean_z_score_distribution('rBMI', 'hBMI', num_reps=1000,\n",
    "                                                       zero_double_negatives=False, overlap_control=\"bin\",\n",
    "                                                       seed_dict=seed_dict, z_dict=z_dict)\n",
    "plot_permutation_histogram(observed=observed_mean,permuted=permuted_means, title='rBMI/hBMI', xlabel='Mean NPS' )"
   ]
  },
  {
   "cell_type": "code",
   "execution_count": 56,
   "metadata": {
    "ExecuteTime": {
     "end_time": "2022-02-17T00:28:38.431219Z",
     "start_time": "2022-02-17T00:28:38.429008Z"
    }
   },
   "outputs": [
    {
     "name": "stdout",
     "output_type": "stream",
     "text": [
      "0.001242\n"
     ]
    }
   ],
   "source": [
    "p_value = get_p_from_permutation_results(observed_mean, permuted_means)\n",
    "print(p_value)"
   ]
  },
  {
   "cell_type": "code",
   "execution_count": 77,
   "metadata": {
    "ExecuteTime": {
     "end_time": "2022-02-17T00:39:42.522057Z",
     "start_time": "2022-02-17T00:39:36.172473Z"
    }
   },
   "outputs": [
    {
     "name": "stdout",
     "output_type": "stream",
     "text": [
      "Estimated time: 20.0 seconds\n",
      "Overlap seed genes: 25\n"
     ]
    },
    {
     "data": {
      "image/png": "[encoded data removed]",
      "text/plain": [
       "<Figure size 360x288 with 1 Axes>"
      ]
     },
     "metadata": {
      "needs_background": "light"
     },
     "output_type": "display_data"
    }
   ],
   "source": [
    "observed_mean, permuted_means = calculate_mean_z_score_distribution('rBMI', 'rBL', num_reps=1000,\n",
    "                                                       zero_double_negatives=False, overlap_control=\"bin\",\n",
    "                                                       seed_dict=seed_dict, z_dict=z_dict)\n",
    "plot_permutation_histogram(observed=observed_mean,permuted=permuted_means, title='rBMI/rBL', xlabel='Mean NPS' )"
   ]
  },
  {
   "cell_type": "code",
   "execution_count": 58,
   "metadata": {
    "ExecuteTime": {
     "end_time": "2022-02-17T00:29:03.228409Z",
     "start_time": "2022-02-17T00:29:03.226207Z"
    }
   },
   "outputs": [
    {
     "name": "stdout",
     "output_type": "stream",
     "text": [
      "1.298e-08\n"
     ]
    }
   ],
   "source": [
    "p_value = get_p_from_permutation_results(observed_mean, permuted_means)\n",
    "print(p_value)"
   ]
  },
  {
   "cell_type": "markdown",
   "metadata": {},
   "source": [
    "## Significance of network size"
   ]
  },
  {
   "cell_type": "code",
   "execution_count": 78,
   "metadata": {
    "ExecuteTime": {
     "end_time": "2022-02-17T00:40:32.370884Z",
     "start_time": "2022-02-17T00:40:18.052651Z"
    }
   },
   "outputs": [
    {
     "name": "stdout",
     "output_type": "stream",
     "text": [
      "Estimated time: 20.0 seconds\n",
      "Overlap seed genes: 29\n"
     ]
    },
    {
     "data": {
      "image/png": "[encoded data removed]",
      "text/plain": [
       "<Figure size 360x288 with 1 Axes>"
      ]
     },
     "metadata": {
      "needs_background": "light"
     },
     "output_type": "display_data"
    }
   ],
   "source": [
    "observed_sz, permuted_sz = calculate_expected_overlap('rBMI', 'hBMI', seed_dict=seed_dict, z_dict=z_dict, \n",
    "                                                                      z_score_threshold=3, z1_threshold=1.0,\n",
    "                                                                      z2_threshold=1.0, num_reps=1000, plot=False, \n",
    "                                                                              overlap_control=\"bin\")\n",
    "plot_permutation_histogram(observed=observed_sz,permuted=permuted_sz, title='rBMI/hBMI', xlabel='Size of colocalized network' )"
   ]
  },
  {
   "cell_type": "code",
   "execution_count": 79,
   "metadata": {
    "ExecuteTime": {
     "end_time": "2022-02-17T00:40:39.269611Z",
     "start_time": "2022-02-17T00:40:39.265921Z"
    }
   },
   "outputs": [
    {
     "name": "stdout",
     "output_type": "stream",
     "text": [
      "1.148e-08\n"
     ]
    }
   ],
   "source": [
    "p_value = get_p_from_permutation_results(observed_sz, permuted_sz)\n",
    "print(p_value)"
   ]
  },
  {
   "cell_type": "code",
   "execution_count": 80,
   "metadata": {
    "ExecuteTime": {
     "end_time": "2022-02-17T00:41:19.596416Z",
     "start_time": "2022-02-17T00:41:05.226014Z"
    }
   },
   "outputs": [
    {
     "name": "stdout",
     "output_type": "stream",
     "text": [
      "Estimated time: 20.0 seconds\n",
      "Overlap seed genes: 25\n"
     ]
    },
    {
     "data": {
      "image/png": "[encoded data removed]",
      "text/plain": [
       "<Figure size 360x288 with 1 Axes>"
      ]
     },
     "metadata": {
      "needs_background": "light"
     },
     "output_type": "display_data"
    }
   ],
   "source": [
    "observed_sz, permuted_sz = calculate_expected_overlap('rBMI', 'rBL', seed_dict=seed_dict, z_dict=z_dict, \n",
    "                                                                      z_score_threshold=3, z1_threshold=1.0,\n",
    "                                                                      z2_threshold=1.0, num_reps=1000, plot=False, \n",
    "                                                                              overlap_control=\"bin\")\n",
    "plot_permutation_histogram(observed=observed_sz,permuted=permuted_sz, title='rBMI/rBL', xlabel='Size of colocalized network' )"
   ]
  },
  {
   "cell_type": "code",
   "execution_count": 81,
   "metadata": {
    "ExecuteTime": {
     "end_time": "2022-02-17T00:41:27.708039Z",
     "start_time": "2022-02-17T00:41:27.703987Z"
    }
   },
   "outputs": [
    {
     "name": "stdout",
     "output_type": "stream",
     "text": [
      "2.401e-08\n"
     ]
    }
   ],
   "source": [
    "p_value = get_p_from_permutation_results(observed_sz, permuted_sz)\n",
    "print(p_value)"
   ]
  }
 ],
 "metadata": {
  "kernelspec": {
   "display_name": "Python [conda env:netcoloc]",
   "language": "python",
   "name": "conda-env-netcoloc-py"
  },
  "language_info": {
   "codemirror_mode": {
    "name": "ipython",
    "version": 3
   },
   "file_extension": ".py",
   "mimetype": "text/x-python",
   "name": "python",
   "nbconvert_exporter": "python",
   "pygments_lexer": "ipython3",
   "version": "3.9.7"
  },
  "toc": {
   "base_numbering": 1,
   "nav_menu": {},
   "number_sections": true,
   "sideBar": true,
   "skip_h1_title": false,
   "title_cell": "Table of Contents",
   "title_sidebar": "Contents",
   "toc_cell": false,
   "toc_position": {},
   "toc_section_display": true,
   "toc_window_display": true
  },
  "varInspector": {
   "cols": {
    "lenName": 16,
    "lenType": 16,
    "lenVar": 40
   },
   "kernels_config": {
    "python": {
     "delete_cmd_postfix": "",
     "delete_cmd_prefix": "del ",
     "library": "var_list.py",
     "varRefreshCmd": "print(var_dic_list())"
    },
    "r": {
     "delete_cmd_postfix": ") ",
     "delete_cmd_prefix": "rm(",
     "library": "var_list.r",
     "varRefreshCmd": "cat(var_dic_list()) "
    }
   },
   "types_to_exclude": [
    "module",
    "function",
    "builtin_function_or_method",
    "instance",
    "_Feature"
   ],
   "window_display": false
  }
 },
 "nbformat": 4,
 "nbformat_minor": 2
}
