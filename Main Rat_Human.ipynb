{
 "cells": [
  {
   "cell_type": "markdown",
   "metadata": {
    "toc": true
   },
   "source": [
    "<h1>Table of Contents<span class=\"tocSkip\"></span></h1>\n",
    "<div class=\"toc\"><ul class=\"toc-item\"><li><span><a href=\"#Environment-Set-Up\" data-toc-modified-id=\"Environment-Set-Up-1\"><span class=\"toc-item-num\">1&nbsp;&nbsp;</span>Environment Set Up</a></span><ul class=\"toc-item\"><li><span><a href=\"#Global-variables\" data-toc-modified-id=\"Global-variables-1.1\"><span class=\"toc-item-num\">1.1&nbsp;&nbsp;</span>Global variables</a></span></li><li><span><a href=\"#Required-packages\" data-toc-modified-id=\"Required-packages-1.2\"><span class=\"toc-item-num\">1.2&nbsp;&nbsp;</span>Required packages</a></span></li><li><span><a href=\"#Helper-Functions\" data-toc-modified-id=\"Helper-Functions-1.3\"><span class=\"toc-item-num\">1.3&nbsp;&nbsp;</span>Helper Functions</a></span></li><li><span><a href=\"#Load-seed-genes\" data-toc-modified-id=\"Load-seed-genes-1.4\"><span class=\"toc-item-num\">1.4&nbsp;&nbsp;</span>Load seed genes</a></span></li></ul></li><li><span><a href=\"#Network-Propagation\" data-toc-modified-id=\"Network-Propagation-2\"><span class=\"toc-item-num\">2&nbsp;&nbsp;</span>Network Propagation</a></span><ul class=\"toc-item\"><li><span><a href=\"#Z-normalization-of-gene-scores\" data-toc-modified-id=\"Z-normalization-of-gene-scores-2.1\"><span class=\"toc-item-num\">2.1&nbsp;&nbsp;</span>Z-normalization of gene scores</a></span></li><li><span><a href=\"#Save-results\" data-toc-modified-id=\"Save-results-2.2\"><span class=\"toc-item-num\">2.2&nbsp;&nbsp;</span>Save results</a></span></li></ul></li><li><span><a href=\"#Network-Colocalization\" data-toc-modified-id=\"Network-Colocalization-3\"><span class=\"toc-item-num\">3&nbsp;&nbsp;</span>Network Colocalization</a></span><ul class=\"toc-item\"><li><span><a href=\"#Significance-of-gene-level-overlaps\" data-toc-modified-id=\"Significance-of-gene-level-overlaps-3.1\"><span class=\"toc-item-num\">3.1&nbsp;&nbsp;</span>Significance of gene-level overlaps</a></span></li><li><span><a href=\"#Colocalization-of-Human/Rat-BMI\" data-toc-modified-id=\"Colocalization-of-Human/Rat-BMI-3.2\"><span class=\"toc-item-num\">3.2&nbsp;&nbsp;</span>Colocalization of Human/Rat BMI</a></span><ul class=\"toc-item\"><li><span><a href=\"#Load-required-data\" data-toc-modified-id=\"Load-required-data-3.2.1\"><span class=\"toc-item-num\">3.2.1&nbsp;&nbsp;</span>Load required data</a></span></li><li><span><a href=\"#Perform-colocalization\" data-toc-modified-id=\"Perform-colocalization-3.2.2\"><span class=\"toc-item-num\">3.2.2&nbsp;&nbsp;</span>Perform colocalization</a></span></li><li><span><a href=\"#Significance-of-network-colocalization-by-permutation\" data-toc-modified-id=\"Significance-of-network-colocalization-by-permutation-3.2.3\"><span class=\"toc-item-num\">3.2.3&nbsp;&nbsp;</span>Significance of network colocalization by permutation</a></span></li></ul></li><li><span><a href=\"#Colocalization-of-Human-height/Rat-body-length\" data-toc-modified-id=\"Colocalization-of-Human-height/Rat-body-length-3.3\"><span class=\"toc-item-num\">3.3&nbsp;&nbsp;</span>Colocalization of Human height/Rat body length</a></span><ul class=\"toc-item\"><li><span><a href=\"#Load-required-data\" data-toc-modified-id=\"Load-required-data-3.3.1\"><span class=\"toc-item-num\">3.3.1&nbsp;&nbsp;</span>Load required data</a></span></li><li><span><a href=\"#Perform-colocalization\" data-toc-modified-id=\"Perform-colocalization-3.3.2\"><span class=\"toc-item-num\">3.3.2&nbsp;&nbsp;</span>Perform colocalization</a></span></li><li><span><a href=\"#Significance-of-network-colocalization-by-permutation\" data-toc-modified-id=\"Significance-of-network-colocalization-by-permutation-3.3.3\"><span class=\"toc-item-num\">3.3.3&nbsp;&nbsp;</span>Significance of network colocalization by permutation</a></span></li></ul></li><li><span><a href=\"#Negative-controls-with-non-correlated-traits\" data-toc-modified-id=\"Negative-controls-with-non-correlated-traits-3.4\"><span class=\"toc-item-num\">3.4&nbsp;&nbsp;</span>Negative controls with non-correlated traits</a></span></li></ul></li><li><span><a href=\"#Heirarchy-Building???\" data-toc-modified-id=\"Heirarchy-Building???-4\"><span class=\"toc-item-num\">4&nbsp;&nbsp;</span>Heirarchy Building???</a></span></li></ul></div>"
   ]
  },
  {
   "cell_type": "markdown",
   "metadata": {},
   "source": [
    "## Environment Set Up\n",
    "* System requirements \n",
    "* Instructions for install of NetColoc package\n",
    "\n",
    "**Introduction/Overview**  \n"
   ]
  },
  {
   "cell_type": "markdown",
   "metadata": {},
   "source": [
    "### Global variables"
   ]
  },
  {
   "cell_type": "code",
   "execution_count": null,
   "metadata": {},
   "outputs": [],
   "source": [
    "DATADIR= # location of input datasets\n",
    "OUTDIR=DATADIR # path to save intermediate and final datasets\n",
    "ratThresh=\n",
    "numreps="
   ]
  },
  {
   "cell_type": "markdown",
   "metadata": {},
   "source": [
    "### Required packages"
   ]
  },
  {
   "cell_type": "markdown",
   "metadata": {},
   "source": [
    "### Helper Functions"
   ]
  },
  {
   "cell_type": "markdown",
   "metadata": {},
   "source": [
    "### Load seed genes\n",
    "Seed or gene scores?"
   ]
  },
  {
   "cell_type": "markdown",
   "metadata": {},
   "source": [
    "## Network Propagation"
   ]
  },
  {
   "cell_type": "markdown",
   "metadata": {},
   "source": [
    "### Z-normalization of gene scores"
   ]
  },
  {
   "cell_type": "markdown",
   "metadata": {},
   "source": [
    "### Save results"
   ]
  },
  {
   "cell_type": "markdown",
   "metadata": {},
   "source": [
    "## Network Colocalization"
   ]
  },
  {
   "cell_type": "markdown",
   "metadata": {},
   "source": [
    "### Significance of gene-level overlaps"
   ]
  },
  {
   "cell_type": "markdown",
   "metadata": {},
   "source": [
    "### Colocalization of Human/Rat BMI"
   ]
  },
  {
   "cell_type": "markdown",
   "metadata": {},
   "source": [
    "#### Load required data"
   ]
  },
  {
   "cell_type": "markdown",
   "metadata": {},
   "source": [
    "#### Perform colocalization"
   ]
  },
  {
   "cell_type": "markdown",
   "metadata": {},
   "source": [
    "#### Significance of network colocalization by permutation"
   ]
  },
  {
   "cell_type": "markdown",
   "metadata": {},
   "source": [
    "### Colocalization of Human height/Rat body length"
   ]
  },
  {
   "cell_type": "markdown",
   "metadata": {},
   "source": [
    "#### Load required data"
   ]
  },
  {
   "cell_type": "markdown",
   "metadata": {},
   "source": [
    "#### Perform colocalization"
   ]
  },
  {
   "cell_type": "markdown",
   "metadata": {},
   "source": [
    "#### Significance of network colocalization by permutation"
   ]
  },
  {
   "cell_type": "markdown",
   "metadata": {},
   "source": [
    "### Negative controls with non-correlated traits"
   ]
  },
  {
   "cell_type": "markdown",
   "metadata": {},
   "source": [
    "## Heirarchy Building???"
   ]
  }
 ],
 "metadata": {
  "kernelspec": {
   "display_name": "Python [conda env:netcoloc]",
   "language": "python",
   "name": "conda-env-netcoloc-py"
  },
  "language_info": {
   "codemirror_mode": {
    "name": "ipython",
    "version": 3
   },
   "file_extension": ".py",
   "mimetype": "text/x-python",
   "name": "python",
   "nbconvert_exporter": "python",
   "pygments_lexer": "ipython3",
   "version": "3.9.6"
  },
  "toc": {
   "base_numbering": 1,
   "nav_menu": {},
   "number_sections": true,
   "sideBar": true,
   "skip_h1_title": true,
   "title_cell": "Table of Contents",
   "title_sidebar": "Contents",
   "toc_cell": true,
   "toc_position": {},
   "toc_section_display": true,
   "toc_window_display": true
  },
  "varInspector": {
   "cols": {
    "lenName": 16,
    "lenType": 16,
    "lenVar": 40
   },
   "kernels_config": {
    "python": {
     "delete_cmd_postfix": "",
     "delete_cmd_prefix": "del ",
     "library": "var_list.py",
     "varRefreshCmd": "print(var_dic_list())"
    },
    "r": {
     "delete_cmd_postfix": ") ",
     "delete_cmd_prefix": "rm(",
     "library": "var_list.r",
     "varRefreshCmd": "cat(var_dic_list()) "
    }
   },
   "types_to_exclude": [
    "module",
    "function",
    "builtin_function_or_method",
    "instance",
    "_Feature"
   ],
   "window_display": false
  }
 },
 "nbformat": 4,
 "nbformat_minor": 4
}
