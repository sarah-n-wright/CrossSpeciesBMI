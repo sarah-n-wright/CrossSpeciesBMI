{
 "cells": [
  {
   "cell_type": "code",
   "execution_count": 26,
   "metadata": {
    "ExecuteTime": {
     "end_time": "2022-01-12T22:21:04.753423Z",
     "start_time": "2022-01-12T22:21:00.452908Z"
    }
   },
   "outputs": [],
   "source": [
    "import pandas as pd\n",
    "import random as rn\n",
    "import numpy as np\n",
    "from netcoloc import netprop_zscore, netprop\n",
    "import ndex2\n",
    "import matplotlib.pyplot as plt"
   ]
  },
  {
   "cell_type": "code",
   "execution_count": 2,
   "metadata": {
    "ExecuteTime": {
     "end_time": "2022-01-12T22:08:22.016320Z",
     "start_time": "2022-01-12T22:08:22.014820Z"
    }
   },
   "outputs": [],
   "source": [
    "DATADIR = \"~/Data/rat/data/\""
   ]
  },
  {
   "cell_type": "code",
   "execution_count": 4,
   "metadata": {
    "ExecuteTime": {
     "end_time": "2022-01-12T22:08:43.869442Z",
     "start_time": "2022-01-12T22:08:30.684964Z"
    }
   },
   "outputs": [
    {
     "name": "stdout",
     "output_type": "stream",
     "text": [
      "number of nodes: 18820\n",
      "number of edges: 2693250\n"
     ]
    }
   ],
   "source": [
    "import ndex2\n",
    "interactome_uuid='4de852d9-9908-11e9-bcaf-0ac135e8bacf'\n",
    "ndex_server='public.ndexbio.org'\n",
    "ndex_user=None\n",
    "ndex_password=None\n",
    "G_PC = ndex2.create_nice_cx_from_server(\n",
    "            ndex_server, \n",
    "            username=ndex_user, \n",
    "            password=ndex_password, \n",
    "            uuid=interactome_uuid\n",
    "        ).to_networkx()\n",
    "nodes = list(G_PC.nodes)\n",
    "\n",
    "# print out interactome num nodes and edges for diagnostic purposes\n",
    "print('number of nodes:', len(G_PC.nodes))\n",
    "print('number of edges:', len(G_PC.edges))"
   ]
  },
  {
   "cell_type": "code",
   "execution_count": 5,
   "metadata": {
    "ExecuteTime": {
     "end_time": "2022-01-12T22:09:01.412928Z",
     "start_time": "2022-01-12T22:08:47.526767Z"
    }
   },
   "outputs": [],
   "source": [
    "w_prime = netprop.get_normalized_adjacency_matrix(G_PC, conserve_heat=True, weighted=False)"
   ]
  },
  {
   "cell_type": "code",
   "execution_count": 6,
   "metadata": {
    "ExecuteTime": {
     "end_time": "2022-01-12T22:12:12.044025Z",
     "start_time": "2022-01-12T22:09:03.133480Z"
    }
   },
   "outputs": [],
   "source": [
    "indiv_heats = netprop.get_individual_heats_matrix(w_prime, alpha=0.5)"
   ]
  },
  {
   "cell_type": "code",
   "execution_count": 7,
   "metadata": {
    "ExecuteTime": {
     "end_time": "2022-01-12T22:14:00.086856Z",
     "start_time": "2022-01-12T22:14:00.047737Z"
    }
   },
   "outputs": [],
   "source": [
    "data = pd.read_csv(DATADIR+\"GIANT_genomics/BMI/GIANT_BMI_pascal.sum.genescores.txt\", sep=\"\\t\")"
   ]
  },
  {
   "cell_type": "markdown",
   "metadata": {},
   "source": [
    "## Perform sampling"
   ]
  },
  {
   "cell_type": "code",
   "execution_count": 13,
   "metadata": {
    "ExecuteTime": {
     "end_time": "2022-01-12T22:15:34.786925Z",
     "start_time": "2022-01-12T22:15:34.766954Z"
    }
   },
   "outputs": [],
   "source": [
    "# -*- coding: utf-8 -*-\n",
    "\n",
    "\"\"\"Functions for getting z-scores from network propagation.\n",
    "\"\"\"\n",
    "\n",
    "# External library imports\n",
    "\n",
    "import os\n",
    "import warnings\n",
    "from tqdm.auto import tqdm\n",
    "import ndex2\n",
    "# Internal module convenience imports\n",
    "from netcoloc.netcoloc_utils import *\n",
    "from netcoloc.netprop import *\n",
    "import random as rn\n",
    "\n",
    "\n",
    "def netprop_zscore(seed_gene_file, seed_gene_file_delimiter=None, num_reps=10, alpha=0.5, minimum_bin_size=10,\n",
    "                   interactome_file=None, interactome_uuid='f93f402c-86d4-11e7-a10d-0ac135e8bacf',\n",
    "                   ndex_server='public.ndexbio.org', ndex_user=None, ndex_password=None, out_name='out',\n",
    "                   save_z_scores=False, save_final_heat=False, save_random_final_heats=False, verbose=True):\n",
    "    \"\"\"\n",
    "    Performs network heat propagation on the given interactome with the given\n",
    "    seed genes, then returns the z-scores of the final heat values of each node\n",
    "    in the interactome.\n",
    "\n",
    "    The z-scores are calculated based on a null model, which is built by running\n",
    "    the network propagation multiple times using randomly selected seed genes\n",
    "    with similar degree distributions to the original seed gene set.\n",
    "\n",
    "    This method returns a tuple containing the following:\n",
    "\n",
    "    * :py:class:`pandas.Series` containing z-scores for each gene. Gene names comprise the index column\n",
    "    * :py:class:`numpy.ndarray` containing square matrix where each row contains the final heat scores\n",
    "      for each gene from a network propagation from random seed genes\n",
    "\n",
    "    :param seed_gene_file: Location of file containing a delimited list of\n",
    "            seed genes\n",
    "    :type seed_gene_file: str\n",
    "    :param seed_gene_file_delimiter: Delimiter used to separate genes in seed\n",
    "                                     gene file. Default any whitespace\n",
    "    :type seed_gene_file_delimiter: str\n",
    "    :param num_reps: Number of times the network propagation algorithm should\n",
    "            be run using random seed genes in order to build the null model\n",
    "    :type num_reps: int\n",
    "    :param alpha: Number between 0 and 1. Denotes the importance of the\n",
    "            propagation step in the network propagation, as opposed to the step\n",
    "            where heat is added to seed genes only. Recommended to be 0.5 or\n",
    "            greater\n",
    "    :type alpha: float\n",
    "    :param minimum_bin_size: minimum number of genes that should be in\n",
    "            each degree matching bin.\n",
    "    :type minimum_bin_size: int\n",
    "    :param interactome_file: Location of file containing the interactome in\n",
    "            NetworkX gpickle format. Either the interactome_file argument or the\n",
    "            interactome_uuid argument must be defined.\n",
    "    :type interactome_file: str\n",
    "    :param interactome_uuid: UUID of the interactome on NDEx. Either the\n",
    "            interactome_file argument or the interactome_uuid argument must be\n",
    "            defined. (Default: The UUID of PCNet, the Parsimonious Composite\n",
    "            Network: f93f402c-86d4-11e7-a10d-0ac135e8bacf)\n",
    "    :type interactome_uuid: str\n",
    "    :param ndex_server: NDEx server on which the interactome is stored.\n",
    "            Only needs to be defined if interactome_uuid is defined\n",
    "    :type ndex_server: str\n",
    "    :param ndex_user: NDEx user that the interactome belongs to. Only\n",
    "            needs to be defined if interactome_uuid is defined, and the\n",
    "            interactome is private\n",
    "    :type ndex_user: str\n",
    "    :param ndex_password: password of the NDEx user's account. Only needs\n",
    "            to be defined if interactome_uuid is defined, and the interactome is\n",
    "            private\n",
    "    :type ndex_password: str\n",
    "    :param out_name: Prefix for saving output files\n",
    "    :type out_name: str\n",
    "    :param save_z_scores:\n",
    "    :param save_final_heat: If ``True``, then the raw network\n",
    "            propagation heat scores for the original seed gene set will be saved\n",
    "            in the form of a tsv file in the current directory\n",
    "    :type save_final_heat: bool\n",
    "    :param save_random_final_heats: If ``True``, then the raw\n",
    "            network propagation heat scores for every repetition of the\n",
    "            algorithm using random seed genes will be saved in the form of a tsv\n",
    "            file in the current directory. (Beware: This can be a large file if\n",
    "            num_reps is large.)\n",
    "    :type save_random_final_heats: bool\n",
    "    :param verbose: If ``True``, then progress information will\n",
    "            be logged. Otherwise, nothing will be printed\n",
    "    :return: (:py:class:`pandas.Series`, :py:class:`numpy.ndarray`)\n",
    "    :rtype: tuple\n",
    "    :raises TypeError: If neither interactome_file or interactome_uuid is provided or if\n",
    "                       **num_reps** is not an ``int``\n",
    "    \"\"\"\n",
    "    # Process arguments\n",
    "\n",
    "    # seed_gene_file\n",
    "    seed_gene_file = os.path.abspath(seed_gene_file)\n",
    "    # num_reps\n",
    "    try:\n",
    "        num_reps = int(num_reps)\n",
    "    except TypeError:\n",
    "        raise TypeError(\"The num_reps argument should be an integer\")\n",
    "    # int_file and int_uuid\n",
    "    if interactome_file is None and interactome_uuid is None:\n",
    "        raise TypeError(\"Either interactome_file or interactome_uuid argument must be provided\")\n",
    "\n",
    "    # Load interactome\n",
    "    if verbose:\n",
    "        print('Loading interactome')\n",
    "    if interactome_file is not None:\n",
    "        interactome_file = os.path.abspath(interactome_file)\n",
    "        # interactome = nx.Graph()\n",
    "        interactome = nx.read_gpickle(interactome_file)\n",
    "    else:\n",
    "        interactome = ndex2.create_nice_cx_from_server(\n",
    "            ndex_server,\n",
    "            username=ndex_user,\n",
    "            password=ndex_password,\n",
    "            uuid=interactome_uuid\n",
    "        ).to_networkx()\n",
    "    if 'None' in interactome.nodes():\n",
    "        interactome.remove_node('None')\n",
    "    nodes = list(interactome.nodes)\n",
    "\n",
    "    # Log interactome num nodes and edges for diagnostic purposes\n",
    "    if verbose:\n",
    "        print('Number of nodes: ' + str(len(interactome.nodes)))\n",
    "        print('Number of edges: ' + str(len(interactome.edges)))\n",
    "\n",
    "    # Load seed genes\n",
    "    seed_file = open(seed_gene_file, 'r')\n",
    "    seed_genes = list(np.intersect1d(nodes, seed_file.read().split(seed_gene_file_delimiter)))\n",
    "    if verbose:\n",
    "        print('\\nNumber of seed genes in interactome: ' + str(len(seed_genes)))\n",
    "\n",
    "    # Calculate individual_heats_matrix from interactome\n",
    "    if verbose:\n",
    "        print('\\nCalculating w_prime')\n",
    "    w_prime = get_normalized_adjacency_matrix(interactome, conserve_heat=True)\n",
    "    if verbose:\n",
    "        print('\\nCalculating individual_heats_matrix')\n",
    "    individual_heats_matrix = get_individual_heats_matrix(w_prime, alpha)\n",
    "\n",
    "    # Calculate the z-score\n",
    "    if verbose:\n",
    "        print('\\nCalculating z-scores: ' + seed_gene_file)\n",
    "    z_scores, final_heat, random_final_heats = calculate_heat_zscores(\n",
    "        individual_heats_matrix,\n",
    "        nodes,\n",
    "        dict(interactome.degree),\n",
    "        seed_genes,\n",
    "        num_reps=num_reps,\n",
    "        minimum_bin_size=minimum_bin_size)\n",
    "\n",
    "    # Save z-score results\n",
    "    z_scores.name = 'z-scores'\n",
    "    if save_z_scores:\n",
    "        z_scores.to_csv(out_name + '_z_scores_' + str(num_reps) + '_reps.tsv', sep='\\t')\n",
    "\n",
    "    # If save_final_heat is true, save out the final heat vector\n",
    "    if save_final_heat:\n",
    "        final_heat_df = pd.DataFrame(final_heat, columns=['z-scores'])\n",
    "        final_heat_df.to_csv(out_name + '_final_heat_' + str(num_reps) + '_reps.tsv', sep='\\t')\n",
    "\n",
    "    # If save_random_final_heats is true, save out the vector of randoms (this can be a large file)\n",
    "    if save_random_final_heats:\n",
    "        random_final_heats_df = pd.DataFrame(\n",
    "            random_final_heats.T,\n",
    "            index=nodes,\n",
    "            columns=range(1, random_final_heats.shape[0] + 1)\n",
    "        )\n",
    "        random_final_heats_df.to_csv(out_name + '_final_heat_random_' + str(num_reps) + '_reps.tsv', sep='\\t')\n",
    "\n",
    "    return z_scores, random_final_heats\n",
    "\n",
    "\n",
    "def calculate_heat_zscores(individual_heats_matrix, nodes, degrees, seed_genes, num_reps=10,\n",
    "                           minimum_bin_size=10, random_seed=1):\n",
    "    \"\"\"\n",
    "    Helper function to perform network heat propagation using the given\n",
    "    individual heats matrix with the given seed genes and return the z-scores of\n",
    "    the final heat values of each node.\n",
    "\n",
    "    The z-scores are calculated based on a null model, which is built by running\n",
    "    the network propagation multiple times using randomly selected seed genes\n",
    "    with similar degree distributions to the original seed gene set.\n",
    "\n",
    "    The returned tuple contains the following:\n",
    "\n",
    "    * :py:class:`pandas.Series` containing z-scores for each gene. Gene names comprise the index column\n",
    "    * :py:class:`pandas.Series` containing the final heat scores for each gene. Gene names comprise the index column,\n",
    "    * :py:class:`numpy.ndarray` containing square matrix in which each row contains the final heat scores for each gene\n",
    "    from a network propagation from random seed genes)\n",
    "\n",
    "    :param individual_heats_matrix: output of the\n",
    "            netprop.get_individual_heats_matrix. A square matrix containing the\n",
    "            final heat contributions of each gene\n",
    "    :type individual_heats_matrix: :py:class:`numpy.ndarray`\n",
    "    :param nodes: nodes, in the order in which they were supplied to\n",
    "            the :py:func:`~netcoloc.netprop.get_normalized_adjacency_matrix` method\n",
    "            which returns the precursor to the individual_heats_matrix\n",
    "    :type nodes: list\n",
    "    :param degrees: Mapping of node names to node degrees\n",
    "    :type degrees: dict\n",
    "    :param seed_genes: list of genes to use for network propagation. The\n",
    "            results of this network propagation will be compared to a set of\n",
    "            random results in order to obtain z-scores\n",
    "    :type seed_genes: list\n",
    "    :param num_reps: Number of times the network propagation algorithm should\n",
    "            be run using random seed genes in order to build the null model\n",
    "    :type num_reps: int\n",
    "    :param minimum_bin_size: minimum number of genes that should be in\n",
    "            each degree matching bin\n",
    "    :type minimum_bin_size: int\n",
    "    :param random_seed:\n",
    "    :return: (:py:class:`pandas.Series`, :py:class:`pandas.Series`, :py:class:`numpy.ndarray`)\n",
    "    :rtype: tuple\n",
    "    \"\"\"\n",
    "    # set random seed for reproducibility\n",
    "    np.random.seed(random_seed)\n",
    "\n",
    "    # Calculate network propagation results given gene set\n",
    "    seed_genes = list(np.intersect1d(nodes, seed_genes))\n",
    "    final_heat = network_propagation(individual_heats_matrix, nodes, seed_genes)\n",
    "\n",
    "    # Initialize empty matrix for results of random network propagations\n",
    "    random_final_heats = np.zeros([num_reps, len(final_heat)])\n",
    "\n",
    "    # Create bins containing genes of similar degree\n",
    "    bins, actual_degree_to_bin_index = get_degree_binning(degrees, minimum_bin_size)\n",
    "\n",
    "    # Perform network propagation many times with random seed genes\n",
    "    for repetition in tqdm(range(num_reps)):\n",
    "        # Create list of random, degree-matched seed genes\n",
    "        random_seed_genes = []\n",
    "        for gene in seed_genes:\n",
    "            # Find genes with similar degrees to focal gene degree\n",
    "            degree = degrees[gene]\n",
    "            genes_of_similar_degree = bins[actual_degree_to_bin_index[degree]]\n",
    "            # Shuffle the genes in the bin\n",
    "            np.random.shuffle(genes_of_similar_degree)\n",
    "\n",
    "            # Add genes to list that haven't already been added\n",
    "            index = 0\n",
    "            while genes_of_similar_degree[index] in random_seed_genes:\n",
    "                index += 1\n",
    "            random_seed_genes.append(genes_of_similar_degree[index])\n",
    "\n",
    "        # Perform network propagation with random seed genes\n",
    "        random_final_heat = network_propagation(individual_heats_matrix, nodes, random_seed_genes)\n",
    "        # Set seeds to NaN so they don't bias results\n",
    "        random_final_heat.loc[random_seed_genes] = np.nan\n",
    "        # Add results to random_final_heats matrix\n",
    "        random_final_heats[repetition] = random_final_heat\n",
    "\n",
    "    # Calculate z-scores\n",
    "    with warnings.catch_warnings():\n",
    "        warnings.simplefilter(\"ignore\")\n",
    "        z_scores = (np.log(final_heat) - np.nanmean(np.log(random_final_heats),\n",
    "                                                    axis=0)) / np.nanstd(np.log(random_final_heats), axis=0)\n",
    "\n",
    "    return z_scores, final_heat, random_final_heats\n",
    "\n",
    "\n",
    "def calculate_heat_zscores_with_sampling(data, nodes, individual_heats, G_PC, trait=\"BMI\", max_genes=500,\n",
    "                                         num_samples=100,\n",
    "                                         nominal_sig=0.05, num_reps=1000, out_path=\"\", minimum_bin_size=10):\n",
    "    \"\"\"\n",
    "    Takes a set of summary statistics and a molecular interaction and performs sampling of the significant genes.\n",
    "    For each sample a random selection of seed genes is chosen, weighted by the p-value of each gene in the summary\n",
    "    statistics. Network propagation with zscore calculation is performed for each sample to generate a distribution\n",
    "    of z-scores for each gene in the seed_gene set.\n",
    "    :param data: Gene level summary statistics\n",
    "    :param nodes: list of nodes in the interaction network\n",
    "    :param individual_heats: Heat matrix calculated by `netprop_zscore.get_individual_heats_matrix())\n",
    "    :param G_PC: molecular interaction network\n",
    "    :param trait: name of trait being investigated\n",
    "    :param max_genes: Maximum number of seed genes to include in each sample (default=500, maximum=500)\n",
    "    :param num_samples: Number of times to perform sampling (default=100)\n",
    "    :param nominal_sig: Significance cutoff for keeping genes in data (Note: this value will be Bonferroni corrected)\n",
    "    :param num_reps: Number of repetitions of randomization for generating null distribution for z_scores\n",
    "    :param out_path: prefix for saving results of sampling\n",
    "    :param minimum_bin_size: minimum number of genes that should be in\n",
    "            each degree matching bin\n",
    "    :type minimum_bin_size: int\n",
    "    :return:\n",
    "    \"\"\"\n",
    "    assert max_genes <= 500, \"NetColoc is only valid for sets of 500 or less genes so maximum number of genes for \" \\\n",
    "                             \"sampling must be <= 500\"\n",
    "    outfile = out_path + trait + \"sampling_\" + str(max_genes) + \"_\" + str(num_samples) + \".tsv\"\n",
    "    data = data.loc[data.gene_symbol.isin(nodes)]  # subset to genes in interaction network\n",
    "    all_seeds = data.loc[data.pvalue <= nominal_sig / len(data)]  # Bonferroni correction\n",
    "    all_seeds = all_seeds.assign(log10p=-1 * np.log10(all_seeds.pvalue))  # get -log10p for weighted sampling\n",
    "    sampling_results = []\n",
    "    for i in range(num_samples):\n",
    "        # perform propagation for sample\n",
    "        sample_seeds = rn.choices(population=all_seeds.gene_symbol.values, weights=all_seeds.log10p.values, k=max_genes)\n",
    "        sample_results = calculate_heat_zscores(individual_heats, nodes=list(G_PC.nodes), degrees=dict(G_PC.degree),\n",
    "                                                seed_genes=sample_seeds, num_reps=num_reps,\n",
    "                                                minimum_bin_size=minimum_bin_size, random_seed=i)[0]\n",
    "        sample_z = pd.DataFrame(sample_results, columns=[\"z\" + str(i)])\n",
    "        # save running results of sampling\n",
    "        if i == 0:\n",
    "            sample_z.to_csv(outfile, sep=\"\\t\")\n",
    "        else:\n",
    "            existing = pd.read_csv(outfile, sep=\"\\t\", index_col=0)\n",
    "            existing = existing.join(sample_z)\n",
    "            existing.to_csv(outfile, sep=\"\\t\")\n",
    "        sampling_results.append(sample_z)\n",
    "\n",
    "    return pd.concat(sampling_results, axis=1)\n",
    "\n",
    "\n",
    "def get_consensus_z_scores(sampled_results, percentile=.75):\n",
    "    \"\"\"\n",
    "    returns the consensus z score for each gene across all samples\n",
    "    :param sampled_results: output of netprop_zscore.calculate_heat_zscores_with_sampling\n",
    "    :type sampled_results: str (file path) or pandas.DataFrame\n",
    "    :param percentile: Percentile cut off for determining consensus score (default=0.75)\n",
    "    :type percentile: float\n",
    "    :return: Consensus z-scores for all genes based on sampling\n",
    "    \"\"\"\n",
    "    if type(sampled_results) == str:\n",
    "        results = pd.read_csv(sampled_results, sep=\"\\t\", index_col=0)\n",
    "    else:\n",
    "        results = sampled_results\n",
    "    consensus_z = pd.DataFrame({'z': results.quantile(q=percentile, axis=1)})\n",
    "    return consensus_z\n"
   ]
  },
  {
   "cell_type": "code",
   "execution_count": 33,
   "metadata": {
    "ExecuteTime": {
     "end_time": "2022-01-13T05:04:49.681223Z",
     "start_time": "2022-01-13T02:00:06.545096Z"
    }
   },
   "outputs": [
    {
     "data": {
      "application/vnd.jupyter.widget-view+json": {
       "model_id": "519e9b4e4a9449218554ed7155474399",
       "version_major": 2,
       "version_minor": 0
      },
      "text/plain": [
       "  0%|          | 0/1000 [00:00<?, ?it/s]"
      ]
     },
     "metadata": {},
     "output_type": "display_data"
    },
    {
     "data": {
      "application/vnd.jupyter.widget-view+json": {
       "model_id": "0ca1fd8c1a184527a5781491880443c4",
       "version_major": 2,
       "version_minor": 0
      },
      "text/plain": [
       "  0%|          | 0/1000 [00:00<?, ?it/s]"
      ]
     },
     "metadata": {},
     "output_type": "display_data"
    },
    {
     "data": {
      "application/vnd.jupyter.widget-view+json": {
       "model_id": "c79b2456140d4f26a9266e23fc590989",
       "version_major": 2,
       "version_minor": 0
      },
      "text/plain": [
       "  0%|          | 0/1000 [00:00<?, ?it/s]"
      ]
     },
     "metadata": {},
     "output_type": "display_data"
    },
    {
     "data": {
      "application/vnd.jupyter.widget-view+json": {
       "model_id": "19c0ecd2ac284ff994b03473afaad65e",
       "version_major": 2,
       "version_minor": 0
      },
      "text/plain": [
       "  0%|          | 0/1000 [00:00<?, ?it/s]"
      ]
     },
     "metadata": {},
     "output_type": "display_data"
    },
    {
     "data": {
      "application/vnd.jupyter.widget-view+json": {
       "model_id": "fd615d1b6c5942678a048004bd686831",
       "version_major": 2,
       "version_minor": 0
      },
      "text/plain": [
       "  0%|          | 0/1000 [00:00<?, ?it/s]"
      ]
     },
     "metadata": {},
     "output_type": "display_data"
    },
    {
     "data": {
      "application/vnd.jupyter.widget-view+json": {
       "model_id": "6f5d7df09b794868afcea1556c3c6417",
       "version_major": 2,
       "version_minor": 0
      },
      "text/plain": [
       "  0%|          | 0/1000 [00:00<?, ?it/s]"
      ]
     },
     "metadata": {},
     "output_type": "display_data"
    },
    {
     "data": {
      "application/vnd.jupyter.widget-view+json": {
       "model_id": "e130d4157b0340669962edeb7a552465",
       "version_major": 2,
       "version_minor": 0
      },
      "text/plain": [
       "  0%|          | 0/1000 [00:00<?, ?it/s]"
      ]
     },
     "metadata": {},
     "output_type": "display_data"
    },
    {
     "data": {
      "application/vnd.jupyter.widget-view+json": {
       "model_id": "a0a65d07ea4a423486a7dfff8aee9834",
       "version_major": 2,
       "version_minor": 0
      },
      "text/plain": [
       "  0%|          | 0/1000 [00:00<?, ?it/s]"
      ]
     },
     "metadata": {},
     "output_type": "display_data"
    },
    {
     "data": {
      "application/vnd.jupyter.widget-view+json": {
       "model_id": "b768872af877454295a6b91d2b8f6336",
       "version_major": 2,
       "version_minor": 0
      },
      "text/plain": [
       "  0%|          | 0/1000 [00:00<?, ?it/s]"
      ]
     },
     "metadata": {},
     "output_type": "display_data"
    },
    {
     "data": {
      "application/vnd.jupyter.widget-view+json": {
       "model_id": "59351f0ecf5f4068b0c6f3cd1732a738",
       "version_major": 2,
       "version_minor": 0
      },
      "text/plain": [
       "  0%|          | 0/1000 [00:00<?, ?it/s]"
      ]
     },
     "metadata": {},
     "output_type": "display_data"
    },
    {
     "data": {
      "application/vnd.jupyter.widget-view+json": {
       "model_id": "7625fa400b1c494e91cd835e28e495e6",
       "version_major": 2,
       "version_minor": 0
      },
      "text/plain": [
       "  0%|          | 0/1000 [00:00<?, ?it/s]"
      ]
     },
     "metadata": {},
     "output_type": "display_data"
    },
    {
     "data": {
      "application/vnd.jupyter.widget-view+json": {
       "model_id": "a5c9b97fd58d4deab9785f411fa2ddbe",
       "version_major": 2,
       "version_minor": 0
      },
      "text/plain": [
       "  0%|          | 0/1000 [00:00<?, ?it/s]"
      ]
     },
     "metadata": {},
     "output_type": "display_data"
    },
    {
     "data": {
      "application/vnd.jupyter.widget-view+json": {
       "model_id": "4ef17c9304ec4e5d98f32891e7188e32",
       "version_major": 2,
       "version_minor": 0
      },
      "text/plain": [
       "  0%|          | 0/1000 [00:00<?, ?it/s]"
      ]
     },
     "metadata": {},
     "output_type": "display_data"
    },
    {
     "data": {
      "application/vnd.jupyter.widget-view+json": {
       "model_id": "34a1e5cb5b8141e3807fde45c9b72ae5",
       "version_major": 2,
       "version_minor": 0
      },
      "text/plain": [
       "  0%|          | 0/1000 [00:00<?, ?it/s]"
      ]
     },
     "metadata": {},
     "output_type": "display_data"
    },
    {
     "data": {
      "application/vnd.jupyter.widget-view+json": {
       "model_id": "7bf8de5dfdbb42c986f47b0c0def087f",
       "version_major": 2,
       "version_minor": 0
      },
      "text/plain": [
       "  0%|          | 0/1000 [00:00<?, ?it/s]"
      ]
     },
     "metadata": {},
     "output_type": "display_data"
    },
    {
     "data": {
      "application/vnd.jupyter.widget-view+json": {
       "model_id": "2fe2ac9df44e4bb8887047a0f1c857fb",
       "version_major": 2,
       "version_minor": 0
      },
      "text/plain": [
       "  0%|          | 0/1000 [00:00<?, ?it/s]"
      ]
     },
     "metadata": {},
     "output_type": "display_data"
    },
    {
     "data": {
      "application/vnd.jupyter.widget-view+json": {
       "model_id": "82e5097d143c4e438cb9a7c4204c346e",
       "version_major": 2,
       "version_minor": 0
      },
      "text/plain": [
       "  0%|          | 0/1000 [00:00<?, ?it/s]"
      ]
     },
     "metadata": {},
     "output_type": "display_data"
    },
    {
     "data": {
      "application/vnd.jupyter.widget-view+json": {
       "model_id": "2b3b1a598eb944c090280c50082cc7c1",
       "version_major": 2,
       "version_minor": 0
      },
      "text/plain": [
       "  0%|          | 0/1000 [00:00<?, ?it/s]"
      ]
     },
     "metadata": {},
     "output_type": "display_data"
    },
    {
     "data": {
      "application/vnd.jupyter.widget-view+json": {
       "model_id": "41a576420a0f4ffc86c8e1d4ead057a6",
       "version_major": 2,
       "version_minor": 0
      },
      "text/plain": [
       "  0%|          | 0/1000 [00:00<?, ?it/s]"
      ]
     },
     "metadata": {},
     "output_type": "display_data"
    },
    {
     "data": {
      "application/vnd.jupyter.widget-view+json": {
       "model_id": "f8fb1e9099214773b965d8a0113661b6",
       "version_major": 2,
       "version_minor": 0
      },
      "text/plain": [
       "  0%|          | 0/1000 [00:00<?, ?it/s]"
      ]
     },
     "metadata": {},
     "output_type": "display_data"
    },
    {
     "data": {
      "application/vnd.jupyter.widget-view+json": {
       "model_id": "1962ce2229384d6191f95f5d85a92f2e",
       "version_major": 2,
       "version_minor": 0
      },
      "text/plain": [
       "  0%|          | 0/1000 [00:00<?, ?it/s]"
      ]
     },
     "metadata": {},
     "output_type": "display_data"
    },
    {
     "data": {
      "application/vnd.jupyter.widget-view+json": {
       "model_id": "b5c8d7d01977451a8b53764d9de36ea4",
       "version_major": 2,
       "version_minor": 0
      },
      "text/plain": [
       "  0%|          | 0/1000 [00:00<?, ?it/s]"
      ]
     },
     "metadata": {},
     "output_type": "display_data"
    },
    {
     "data": {
      "application/vnd.jupyter.widget-view+json": {
       "model_id": "301183b965144c6b85bc18d0d6f596ab",
       "version_major": 2,
       "version_minor": 0
      },
      "text/plain": [
       "  0%|          | 0/1000 [00:00<?, ?it/s]"
      ]
     },
     "metadata": {},
     "output_type": "display_data"
    },
    {
     "data": {
      "application/vnd.jupyter.widget-view+json": {
       "model_id": "0af10bbb5869463c93e64dd8b375af4d",
       "version_major": 2,
       "version_minor": 0
      },
      "text/plain": [
       "  0%|          | 0/1000 [00:00<?, ?it/s]"
      ]
     },
     "metadata": {},
     "output_type": "display_data"
    },
    {
     "data": {
      "application/vnd.jupyter.widget-view+json": {
       "model_id": "ce58a594dbd34e8c8d2e00487cbd7345",
       "version_major": 2,
       "version_minor": 0
      },
      "text/plain": [
       "  0%|          | 0/1000 [00:00<?, ?it/s]"
      ]
     },
     "metadata": {},
     "output_type": "display_data"
    },
    {
     "data": {
      "application/vnd.jupyter.widget-view+json": {
       "model_id": "f4bd89dbb24f4cb5a1f10f63d2920544",
       "version_major": 2,
       "version_minor": 0
      },
      "text/plain": [
       "  0%|          | 0/1000 [00:00<?, ?it/s]"
      ]
     },
     "metadata": {},
     "output_type": "display_data"
    },
    {
     "data": {
      "application/vnd.jupyter.widget-view+json": {
       "model_id": "8c6ed067ab484d538159d6ecc0a26c37",
       "version_major": 2,
       "version_minor": 0
      },
      "text/plain": [
       "  0%|          | 0/1000 [00:00<?, ?it/s]"
      ]
     },
     "metadata": {},
     "output_type": "display_data"
    },
    {
     "data": {
      "application/vnd.jupyter.widget-view+json": {
       "model_id": "eaa16554cb7c4de0aa4ce044855e9376",
       "version_major": 2,
       "version_minor": 0
      },
      "text/plain": [
       "  0%|          | 0/1000 [00:00<?, ?it/s]"
      ]
     },
     "metadata": {},
     "output_type": "display_data"
    },
    {
     "data": {
      "application/vnd.jupyter.widget-view+json": {
       "model_id": "eb36f3d79b024dfabef715023f982877",
       "version_major": 2,
       "version_minor": 0
      },
      "text/plain": [
       "  0%|          | 0/1000 [00:00<?, ?it/s]"
      ]
     },
     "metadata": {},
     "output_type": "display_data"
    },
    {
     "data": {
      "application/vnd.jupyter.widget-view+json": {
       "model_id": "f5db411a49314760ac988af1e82d07f8",
       "version_major": 2,
       "version_minor": 0
      },
      "text/plain": [
       "  0%|          | 0/1000 [00:00<?, ?it/s]"
      ]
     },
     "metadata": {},
     "output_type": "display_data"
    },
    {
     "data": {
      "application/vnd.jupyter.widget-view+json": {
       "model_id": "13e204495f2844ecad944b19db836f18",
       "version_major": 2,
       "version_minor": 0
      },
      "text/plain": [
       "  0%|          | 0/1000 [00:00<?, ?it/s]"
      ]
     },
     "metadata": {},
     "output_type": "display_data"
    },
    {
     "data": {
      "application/vnd.jupyter.widget-view+json": {
       "model_id": "42882fa237a64d6e8816885ff1ef822d",
       "version_major": 2,
       "version_minor": 0
      },
      "text/plain": [
       "  0%|          | 0/1000 [00:00<?, ?it/s]"
      ]
     },
     "metadata": {},
     "output_type": "display_data"
    },
    {
     "data": {
      "application/vnd.jupyter.widget-view+json": {
       "model_id": "430777f5466543d48535ec0fd2e67926",
       "version_major": 2,
       "version_minor": 0
      },
      "text/plain": [
       "  0%|          | 0/1000 [00:00<?, ?it/s]"
      ]
     },
     "metadata": {},
     "output_type": "display_data"
    },
    {
     "data": {
      "application/vnd.jupyter.widget-view+json": {
       "model_id": "64063a7e84ad4051a51196c42588e34e",
       "version_major": 2,
       "version_minor": 0
      },
      "text/plain": [
       "  0%|          | 0/1000 [00:00<?, ?it/s]"
      ]
     },
     "metadata": {},
     "output_type": "display_data"
    },
    {
     "data": {
      "application/vnd.jupyter.widget-view+json": {
       "model_id": "e40779164c574d00aabbfd5931c23a48",
       "version_major": 2,
       "version_minor": 0
      },
      "text/plain": [
       "  0%|          | 0/1000 [00:00<?, ?it/s]"
      ]
     },
     "metadata": {},
     "output_type": "display_data"
    },
    {
     "data": {
      "application/vnd.jupyter.widget-view+json": {
       "model_id": "aa2873e147d74e0b94ab5999c38fd73e",
       "version_major": 2,
       "version_minor": 0
      },
      "text/plain": [
       "  0%|          | 0/1000 [00:00<?, ?it/s]"
      ]
     },
     "metadata": {},
     "output_type": "display_data"
    },
    {
     "data": {
      "application/vnd.jupyter.widget-view+json": {
       "model_id": "4dc4134bf7ad4d82bef27eb3fda243f7",
       "version_major": 2,
       "version_minor": 0
      },
      "text/plain": [
       "  0%|          | 0/1000 [00:00<?, ?it/s]"
      ]
     },
     "metadata": {},
     "output_type": "display_data"
    },
    {
     "name": "stderr",
     "output_type": "stream",
     "text": [
      "IOPub message rate exceeded.\n",
      "The notebook server will temporarily stop sending output\n",
      "to the client in order to avoid crashing it.\n",
      "To change this limit, set the config variable\n",
      "`--NotebookApp.iopub_msg_rate_limit`.\n",
      "\n",
      "Current values:\n",
      "NotebookApp.iopub_msg_rate_limit=1000.0 (msgs/sec)\n",
      "NotebookApp.rate_limit_window=3.0 (secs)\n",
      "\n"
     ]
    },
    {
     "data": {
      "application/vnd.jupyter.widget-view+json": {
       "model_id": "46e37f90a1a94b12849d4c88383d611b",
       "version_major": 2,
       "version_minor": 0
      },
      "text/plain": [
       "  0%|          | 0/1000 [00:00<?, ?it/s]"
      ]
     },
     "metadata": {},
     "output_type": "display_data"
    },
    {
     "name": "stderr",
     "output_type": "stream",
     "text": [
      "IOPub message rate exceeded.\n",
      "The notebook server will temporarily stop sending output\n",
      "to the client in order to avoid crashing it.\n",
      "To change this limit, set the config variable\n",
      "`--NotebookApp.iopub_msg_rate_limit`.\n",
      "\n",
      "Current values:\n",
      "NotebookApp.iopub_msg_rate_limit=1000.0 (msgs/sec)\n",
      "NotebookApp.rate_limit_window=3.0 (secs)\n",
      "\n"
     ]
    },
    {
     "data": {
      "application/vnd.jupyter.widget-view+json": {
       "model_id": "f2c276e2a81644d9a9b59c7816cc5338",
       "version_major": 2,
       "version_minor": 0
      },
      "text/plain": [
       "  0%|          | 0/1000 [00:00<?, ?it/s]"
      ]
     },
     "metadata": {},
     "output_type": "display_data"
    },
    {
     "data": {
      "application/vnd.jupyter.widget-view+json": {
       "model_id": "56f3d2b6f7c143ccb1b3303cc39bb2c5",
       "version_major": 2,
       "version_minor": 0
      },
      "text/plain": [
       "  0%|          | 0/1000 [00:00<?, ?it/s]"
      ]
     },
     "metadata": {},
     "output_type": "display_data"
    },
    {
     "name": "stderr",
     "output_type": "stream",
     "text": [
      "IOPub message rate exceeded.\n",
      "The notebook server will temporarily stop sending output\n",
      "to the client in order to avoid crashing it.\n",
      "To change this limit, set the config variable\n",
      "`--NotebookApp.iopub_msg_rate_limit`.\n",
      "\n",
      "Current values:\n",
      "NotebookApp.iopub_msg_rate_limit=1000.0 (msgs/sec)\n",
      "NotebookApp.rate_limit_window=3.0 (secs)\n",
      "\n"
     ]
    },
    {
     "data": {
      "application/vnd.jupyter.widget-view+json": {
       "model_id": "90912c8eabf84f0783d20a9b879711ca",
       "version_major": 2,
       "version_minor": 0
      },
      "text/plain": [
       "  0%|          | 0/1000 [00:00<?, ?it/s]"
      ]
     },
     "metadata": {},
     "output_type": "display_data"
    },
    {
     "data": {
      "application/vnd.jupyter.widget-view+json": {
       "model_id": "8def617281954951af346aa6defeb3ec",
       "version_major": 2,
       "version_minor": 0
      },
      "text/plain": [
       "  0%|          | 0/1000 [00:00<?, ?it/s]"
      ]
     },
     "metadata": {},
     "output_type": "display_data"
    },
    {
     "name": "stderr",
     "output_type": "stream",
     "text": [
      "IOPub message rate exceeded.\n",
      "The notebook server will temporarily stop sending output\n",
      "to the client in order to avoid crashing it.\n",
      "To change this limit, set the config variable\n",
      "`--NotebookApp.iopub_msg_rate_limit`.\n",
      "\n",
      "Current values:\n",
      "NotebookApp.iopub_msg_rate_limit=1000.0 (msgs/sec)\n",
      "NotebookApp.rate_limit_window=3.0 (secs)\n",
      "\n"
     ]
    },
    {
     "data": {
      "application/vnd.jupyter.widget-view+json": {
       "model_id": "f8e5d0a6e17c4bffbd90206e00c477fd",
       "version_major": 2,
       "version_minor": 0
      },
      "text/plain": [
       "  0%|          | 0/1000 [00:00<?, ?it/s]"
      ]
     },
     "metadata": {},
     "output_type": "display_data"
    },
    {
     "name": "stderr",
     "output_type": "stream",
     "text": [
      "IOPub message rate exceeded.\n",
      "The notebook server will temporarily stop sending output\n",
      "to the client in order to avoid crashing it.\n",
      "To change this limit, set the config variable\n",
      "`--NotebookApp.iopub_msg_rate_limit`.\n",
      "\n",
      "Current values:\n",
      "NotebookApp.iopub_msg_rate_limit=1000.0 (msgs/sec)\n",
      "NotebookApp.rate_limit_window=3.0 (secs)\n",
      "\n"
     ]
    },
    {
     "data": {
      "application/vnd.jupyter.widget-view+json": {
       "model_id": "75aaa0d7900a47779c655179a84bbde6",
       "version_major": 2,
       "version_minor": 0
      },
      "text/plain": [
       "  0%|          | 0/1000 [00:00<?, ?it/s]"
      ]
     },
     "metadata": {},
     "output_type": "display_data"
    },
    {
     "name": "stderr",
     "output_type": "stream",
     "text": [
      "IOPub message rate exceeded.\n",
      "The notebook server will temporarily stop sending output\n",
      "to the client in order to avoid crashing it.\n",
      "To change this limit, set the config variable\n",
      "`--NotebookApp.iopub_msg_rate_limit`.\n",
      "\n",
      "Current values:\n",
      "NotebookApp.iopub_msg_rate_limit=1000.0 (msgs/sec)\n",
      "NotebookApp.rate_limit_window=3.0 (secs)\n",
      "\n"
     ]
    },
    {
     "data": {
      "application/vnd.jupyter.widget-view+json": {
       "model_id": "eae1e0fea27d4da6a5107b6e83ca8282",
       "version_major": 2,
       "version_minor": 0
      },
      "text/plain": [
       "  0%|          | 0/1000 [00:00<?, ?it/s]"
      ]
     },
     "metadata": {},
     "output_type": "display_data"
    },
    {
     "data": {
      "application/vnd.jupyter.widget-view+json": {
       "model_id": "d0194be77be14a4bb801d8835301511c",
       "version_major": 2,
       "version_minor": 0
      },
      "text/plain": [
       "  0%|          | 0/1000 [00:00<?, ?it/s]"
      ]
     },
     "metadata": {},
     "output_type": "display_data"
    },
    {
     "name": "stderr",
     "output_type": "stream",
     "text": [
      "IOPub message rate exceeded.\n",
      "The notebook server will temporarily stop sending output\n",
      "to the client in order to avoid crashing it.\n",
      "To change this limit, set the config variable\n",
      "`--NotebookApp.iopub_msg_rate_limit`.\n",
      "\n",
      "Current values:\n",
      "NotebookApp.iopub_msg_rate_limit=1000.0 (msgs/sec)\n",
      "NotebookApp.rate_limit_window=3.0 (secs)\n",
      "\n"
     ]
    },
    {
     "data": {
      "application/vnd.jupyter.widget-view+json": {
       "model_id": "9e6efae17b974dad8eae381d69eea5e9",
       "version_major": 2,
       "version_minor": 0
      },
      "text/plain": [
       "  0%|          | 0/1000 [00:00<?, ?it/s]"
      ]
     },
     "metadata": {},
     "output_type": "display_data"
    },
    {
     "name": "stderr",
     "output_type": "stream",
     "text": [
      "IOPub message rate exceeded.\n",
      "The notebook server will temporarily stop sending output\n",
      "to the client in order to avoid crashing it.\n",
      "To change this limit, set the config variable\n",
      "`--NotebookApp.iopub_msg_rate_limit`.\n",
      "\n",
      "Current values:\n",
      "NotebookApp.iopub_msg_rate_limit=1000.0 (msgs/sec)\n",
      "NotebookApp.rate_limit_window=3.0 (secs)\n",
      "\n"
     ]
    },
    {
     "data": {
      "application/vnd.jupyter.widget-view+json": {
       "model_id": "2004b99c5ec74d1793cc116331453c23",
       "version_major": 2,
       "version_minor": 0
      },
      "text/plain": [
       "  0%|          | 0/1000 [00:00<?, ?it/s]"
      ]
     },
     "metadata": {},
     "output_type": "display_data"
    },
    {
     "name": "stderr",
     "output_type": "stream",
     "text": [
      "IOPub message rate exceeded.\n",
      "The notebook server will temporarily stop sending output\n",
      "to the client in order to avoid crashing it.\n",
      "To change this limit, set the config variable\n",
      "`--NotebookApp.iopub_msg_rate_limit`.\n",
      "\n",
      "Current values:\n",
      "NotebookApp.iopub_msg_rate_limit=1000.0 (msgs/sec)\n",
      "NotebookApp.rate_limit_window=3.0 (secs)\n",
      "\n"
     ]
    },
    {
     "data": {
      "application/vnd.jupyter.widget-view+json": {
       "model_id": "acd9fdd1e7d549fca085a509847ab693",
       "version_major": 2,
       "version_minor": 0
      },
      "text/plain": [
       "  0%|          | 0/1000 [00:00<?, ?it/s]"
      ]
     },
     "metadata": {},
     "output_type": "display_data"
    },
    {
     "name": "stderr",
     "output_type": "stream",
     "text": [
      "IOPub message rate exceeded.\n",
      "The notebook server will temporarily stop sending output\n",
      "to the client in order to avoid crashing it.\n",
      "To change this limit, set the config variable\n",
      "`--NotebookApp.iopub_msg_rate_limit`.\n",
      "\n",
      "Current values:\n",
      "NotebookApp.iopub_msg_rate_limit=1000.0 (msgs/sec)\n",
      "NotebookApp.rate_limit_window=3.0 (secs)\n",
      "\n"
     ]
    },
    {
     "data": {
      "application/vnd.jupyter.widget-view+json": {
       "model_id": "64dc4a2a38db4620a72ada8a7e90e19f",
       "version_major": 2,
       "version_minor": 0
      },
      "text/plain": [
       "  0%|          | 0/1000 [00:00<?, ?it/s]"
      ]
     },
     "metadata": {},
     "output_type": "display_data"
    },
    {
     "name": "stderr",
     "output_type": "stream",
     "text": [
      "IOPub message rate exceeded.\n",
      "The notebook server will temporarily stop sending output\n",
      "to the client in order to avoid crashing it.\n",
      "To change this limit, set the config variable\n",
      "`--NotebookApp.iopub_msg_rate_limit`.\n",
      "\n",
      "Current values:\n",
      "NotebookApp.iopub_msg_rate_limit=1000.0 (msgs/sec)\n",
      "NotebookApp.rate_limit_window=3.0 (secs)\n",
      "\n"
     ]
    },
    {
     "data": {
      "application/vnd.jupyter.widget-view+json": {
       "model_id": "5a2db48da2ad4304986cc8630bd116db",
       "version_major": 2,
       "version_minor": 0
      },
      "text/plain": [
       "  0%|          | 0/1000 [00:00<?, ?it/s]"
      ]
     },
     "metadata": {},
     "output_type": "display_data"
    },
    {
     "name": "stderr",
     "output_type": "stream",
     "text": [
      "IOPub message rate exceeded.\n",
      "The notebook server will temporarily stop sending output\n",
      "to the client in order to avoid crashing it.\n",
      "To change this limit, set the config variable\n",
      "`--NotebookApp.iopub_msg_rate_limit`.\n",
      "\n",
      "Current values:\n",
      "NotebookApp.iopub_msg_rate_limit=1000.0 (msgs/sec)\n",
      "NotebookApp.rate_limit_window=3.0 (secs)\n",
      "\n"
     ]
    },
    {
     "data": {
      "application/vnd.jupyter.widget-view+json": {
       "model_id": "69b43b48062942ea986e2e998b6a9a8d",
       "version_major": 2,
       "version_minor": 0
      },
      "text/plain": [
       "  0%|          | 0/1000 [00:00<?, ?it/s]"
      ]
     },
     "metadata": {},
     "output_type": "display_data"
    },
    {
     "name": "stderr",
     "output_type": "stream",
     "text": [
      "IOPub message rate exceeded.\n",
      "The notebook server will temporarily stop sending output\n",
      "to the client in order to avoid crashing it.\n",
      "To change this limit, set the config variable\n",
      "`--NotebookApp.iopub_msg_rate_limit`.\n",
      "\n",
      "Current values:\n",
      "NotebookApp.iopub_msg_rate_limit=1000.0 (msgs/sec)\n",
      "NotebookApp.rate_limit_window=3.0 (secs)\n",
      "\n"
     ]
    }
   ],
   "source": [
    "sampled_data = calculate_heat_zscores_with_sampling(data, nodes, indiv_heats, G_PC, trait=\"BMI\", num_samples=100, \n",
    "                                                                  num_reps=1000)"
   ]
  },
  {
   "cell_type": "code",
   "execution_count": 34,
   "metadata": {
    "ExecuteTime": {
     "end_time": "2022-01-13T19:31:33.451414Z",
     "start_time": "2022-01-13T19:31:33.407405Z"
    }
   },
   "outputs": [],
   "source": [
    "sampled_consensus = get_consensus_z_scores(sampled_data, percentile=0.75)"
   ]
  },
  {
   "cell_type": "markdown",
   "metadata": {},
   "source": [
    "## Compare to previous results"
   ]
  },
  {
   "cell_type": "code",
   "execution_count": 35,
   "metadata": {
    "ExecuteTime": {
     "end_time": "2022-01-13T19:31:36.013518Z",
     "start_time": "2022-01-13T19:31:35.384760Z"
    }
   },
   "outputs": [],
   "source": [
    "original_results = get_consensus_z_scores(DATADIR+'final/z_human_bin_BMI_SAMPLED_500_100_weighted.tsv')"
   ]
  },
  {
   "cell_type": "code",
   "execution_count": 36,
   "metadata": {
    "ExecuteTime": {
     "end_time": "2022-01-13T19:31:36.942306Z",
     "start_time": "2022-01-13T19:31:36.934546Z"
    }
   },
   "outputs": [],
   "source": [
    "all_results = original_results.join(sampled_consensus, rsuffix=\"_new\", lsuffix=\"_original\")"
   ]
  },
  {
   "cell_type": "code",
   "execution_count": 43,
   "metadata": {
    "ExecuteTime": {
     "end_time": "2022-01-13T20:02:30.247870Z",
     "start_time": "2022-01-13T20:02:29.993989Z"
    }
   },
   "outputs": [
    {
     "data": {
      "text/plain": [
       "Text(0, 0.5, 'New Scores')"
      ]
     },
     "execution_count": 43,
     "metadata": {},
     "output_type": "execute_result"
    },
    {
     "data": {
      "image/png": "[encoded data removed]",
      "text/plain": [
       "<Figure size 432x288 with 1 Axes>"
      ]
     },
     "metadata": {
      "needs_background": "light"
     },
     "output_type": "display_data"
    }
   ],
   "source": [
    "plt.scatter(data=all_results, x = \"z_original\", y=\"z_new\", s=1)\n",
    "plt.xlabel(\"Original Scores\")\n",
    "plt.ylabel(\"New Scores\")"
   ]
  },
  {
   "cell_type": "code",
   "execution_count": 38,
   "metadata": {
    "ExecuteTime": {
     "end_time": "2022-01-13T19:32:56.232153Z",
     "start_time": "2022-01-13T19:32:55.664009Z"
    }
   },
   "outputs": [],
   "source": [
    "sample_a = get_consensus_z_scores(\"~/Git/rat_genetics/BMIsampling_500_100_a.tsv\")"
   ]
  },
  {
   "cell_type": "code",
   "execution_count": 39,
   "metadata": {
    "ExecuteTime": {
     "end_time": "2022-01-13T19:33:38.899529Z",
     "start_time": "2022-01-13T19:33:38.894084Z"
    }
   },
   "outputs": [],
   "source": [
    "sample_combo = sample_a.join(sampled_consensus, rsuffix='b', lsuffix='a')"
   ]
  },
  {
   "cell_type": "code",
   "execution_count": 41,
   "metadata": {
    "ExecuteTime": {
     "end_time": "2022-01-13T19:34:23.742536Z",
     "start_time": "2022-01-13T19:34:23.738216Z"
    }
   },
   "outputs": [
    {
     "data": {
      "text/html": [
       "<div>\n",
       "<style scoped>\n",
       "    .dataframe tbody tr th:only-of-type {\n",
       "        vertical-align: middle;\n",
       "    }\n",
       "\n",
       "    .dataframe tbody tr th {\n",
       "        vertical-align: top;\n",
       "    }\n",
       "\n",
       "    .dataframe thead th {\n",
       "        text-align: right;\n",
       "    }\n",
       "</style>\n",
       "<table border=\"1\" class=\"dataframe\">\n",
       "  <thead>\n",
       "    <tr style=\"text-align: right;\">\n",
       "      <th></th>\n",
       "      <th>za</th>\n",
       "      <th>zb</th>\n",
       "    </tr>\n",
       "  </thead>\n",
       "  <tbody>\n",
       "    <tr>\n",
       "      <th>UBE2Q1</th>\n",
       "      <td>-0.186779</td>\n",
       "      <td>-0.035184</td>\n",
       "    </tr>\n",
       "    <tr>\n",
       "      <th>RNF14</th>\n",
       "      <td>-0.477954</td>\n",
       "      <td>-0.410932</td>\n",
       "    </tr>\n",
       "    <tr>\n",
       "      <th>UBE2Q2</th>\n",
       "      <td>0.102486</td>\n",
       "      <td>0.226293</td>\n",
       "    </tr>\n",
       "    <tr>\n",
       "      <th>TMCO1</th>\n",
       "      <td>-0.531951</td>\n",
       "      <td>-0.312104</td>\n",
       "    </tr>\n",
       "    <tr>\n",
       "      <th>UBAC1</th>\n",
       "      <td>1.591813</td>\n",
       "      <td>1.919019</td>\n",
       "    </tr>\n",
       "  </tbody>\n",
       "</table>\n",
       "</div>"
      ],
      "text/plain": [
       "              za        zb\n",
       "UBE2Q1 -0.186779 -0.035184\n",
       "RNF14  -0.477954 -0.410932\n",
       "UBE2Q2  0.102486  0.226293\n",
       "TMCO1  -0.531951 -0.312104\n",
       "UBAC1   1.591813  1.919019"
      ]
     },
     "execution_count": 41,
     "metadata": {},
     "output_type": "execute_result"
    }
   ],
   "source": [
    "sample_combo.head()"
   ]
  },
  {
   "cell_type": "code",
   "execution_count": 53,
   "metadata": {
    "ExecuteTime": {
     "end_time": "2022-01-13T20:08:54.006866Z",
     "start_time": "2022-01-13T20:08:53.826650Z"
    }
   },
   "outputs": [
    {
     "data": {
      "text/plain": [
       "Text(0, 0.5, 'sample_b')"
      ]
     },
     "execution_count": 53,
     "metadata": {},
     "output_type": "execute_result"
    },
    {
     "data": {
      "image/png": "[encoded data removed]",
      "text/plain": [
       "<Figure size 432x288 with 1 Axes>"
      ]
     },
     "metadata": {
      "needs_background": "light"
     },
     "output_type": "display_data"
    }
   ],
   "source": [
    "plt.scatter(data=sample_combo, x=\"za\",y=\"zb\", s=1)\n",
    "plt.xlabel(\"sample_a\")\n",
    "plt.ylabel(\"sample_b\")"
   ]
  },
  {
   "cell_type": "code",
   "execution_count": 48,
   "metadata": {
    "ExecuteTime": {
     "end_time": "2022-01-13T20:06:25.569439Z",
     "start_time": "2022-01-13T20:06:25.567694Z"
    }
   },
   "outputs": [],
   "source": [
    "from scipy.stats import pearsonr, spearmanr\n"
   ]
  },
  {
   "cell_type": "code",
   "execution_count": 51,
   "metadata": {
    "ExecuteTime": {
     "end_time": "2022-01-13T20:07:31.763768Z",
     "start_time": "2022-01-13T20:07:31.756868Z"
    }
   },
   "outputs": [
    {
     "data": {
      "text/plain": [
       "SpearmanrResult(correlation=0.9485776306387278, pvalue=0.0)"
      ]
     },
     "execution_count": 51,
     "metadata": {},
     "output_type": "execute_result"
    }
   ],
   "source": [
    "spearmanr(sample_combo.za, sample_combo.zb)"
   ]
  },
  {
   "cell_type": "code",
   "execution_count": 52,
   "metadata": {
    "ExecuteTime": {
     "end_time": "2022-01-13T20:07:33.175286Z",
     "start_time": "2022-01-13T20:07:33.168072Z"
    }
   },
   "outputs": [
    {
     "data": {
      "text/plain": [
       "SpearmanrResult(correlation=0.9126193769465397, pvalue=0.0)"
      ]
     },
     "execution_count": 52,
     "metadata": {},
     "output_type": "execute_result"
    }
   ],
   "source": [
    "spearmanr(all_results.z_original, all_results.z_new)"
   ]
  },
  {
   "cell_type": "markdown",
   "metadata": {},
   "source": [
    "# OLD ---------------------------------------------"
   ]
  },
  {
   "cell_type": "code",
   "execution_count": 46,
   "metadata": {
    "ExecuteTime": {
     "end_time": "2021-12-08T00:05:15.327139Z",
     "start_time": "2021-12-08T00:05:15.316698Z"
    },
    "code_folding": [
     0,
     31,
     57,
     65
    ]
   },
   "outputs": [],
   "source": [
    "def sampling_from_pascal(pascal_file_list, trait_list, outpath, num_samps=100, num_reps=1000):\n",
    "    # import PCNET\n",
    "    print(\"Loading PCNet\")\n",
    "    interactome_uuid='4de852d9-9908-11e9-bcaf-0ac135e8bacf'\n",
    "    ndex_server='public.ndexbio.org'\n",
    "    ndex_user=None\n",
    "    ndex_password=None\n",
    "    G_PC = ndex2.create_nice_cx_from_server(\n",
    "            ndex_server, \n",
    "            username=ndex_user, \n",
    "            password=ndex_password, \n",
    "            uuid=interactome_uuid\n",
    "        ).to_networkx()\n",
    "    nodes = list(G_PC.nodes)\n",
    "    # calculate heat matrix\n",
    "    print(\"Calculating w_prime\")\n",
    "    w_prime = netprop.get_normalized_adjacency_matrix(G_PC, conserve_heat=True, weighted=False)\n",
    "    print(\"Calculating heat matrix\")\n",
    "    indiv_heats = netprop.get_individual_heats_matrix(w_prime, alpha=0.5)\n",
    "    # perform each sampling analysis\n",
    "    consensus_z_scores = {}\n",
    "    for i, file in enumerate(pascal_file_list):\n",
    "        data = pd.read_csv(file, sep=\"\\t\")\n",
    "        trait = trait_list[i]\n",
    "        print(\"Sampling\", trait)\n",
    "        res = sample_seed_genes(data, nodes, indiv_heats, G_PC, trait=trait, max_genes=500, num_samps=num_samps,\n",
    "                             outdir=outpath, num_reps=num_reps)\n",
    "        print(\"Finished sampling\", trait)\n",
    "        consensus_z_scores[trait] = get_consensus_z_scores(res)\n",
    "    return consensus_z_scores\n",
    "        \n",
    "def sample_seed_genes(data, nodes, indiv_heats, G_PC, trait=\"BMI\", max_genes=500, num_samps=100, \n",
    "                      sig=0.05, num_reps=1000, parallel=False, outdir=DATADIR):\n",
    "    outfile=outdir+trait+\"sampling_\"+str(max_genes)+\"_\"+str(num_samps)+\".tsv\"\n",
    "    data = data.loc[data.gene_symbol.isin(nodes)] # subset to genes in PCNET\n",
    "    all_seeds = data.loc[data.pvalue <= sig/len(data)] # bonferonni correction\n",
    "    all_seeds = all_seeds.assign(log10p=-1*np.log10(all_seeds.pvalue)) # get -log10p for weighted sampling\n",
    "    sampling_results = []\n",
    "    if parallel:\n",
    "        pool = mp.Pool(2)\n",
    "        #sampling_results = [pool.apply(_do_propagation, args=(all_seeds, G_PC, indiv_heats, num_reps, max_genes)) for i in range(3)]\n",
    "        pool.close()\n",
    "    else:\n",
    "        for i in range(num_samps):\n",
    "            sample_results = _do_propagation(all_seeds, G_PC, indiv_heats, num_reps, max_genes)\n",
    "            sample_z = pd.DataFrame(sample_results, columns=[\"z\"+str(i)])\n",
    "            if i ==0 :\n",
    "                sample_z.to_csv(outfile, sep=\"\\t\")\n",
    "            else:\n",
    "                existing = pd.read_csv(outfile, sep=\"\\t\", index_col=0)\n",
    "                existing = existing.join(sample_z)\n",
    "                existing.to_csv(outfile, sep=\"\\t\")\n",
    "            sampling_results.append(sample_z)\n",
    "    \n",
    "    return pd.concat(sampling_results, axis=1)\n",
    "\n",
    "\n",
    "def _do_propagation(all_seeds, G_PC, indiv_heats, num_reps=1000, max_genes=500):\n",
    "    sample_seeds = rn.choices(population=all_seeds.gene_symbol.values, weights=all_seeds.log10p.values, k=max_genes)\n",
    "    samp_results = netprop_zscore.calculate_heat_zscores(indiv_heats, nodes=list(G_PC.nodes), degrees=dict(G_PC.degree),\n",
    "                                                         seed_genes=sample_seeds,num_reps=num_reps, alpha=0.05, \n",
    "                                                         minimum_bin_size=10, random_seed=1)\n",
    "    return samp_results[0]\n",
    "\n",
    "\n",
    "def get_consensus_z_scores(sampled_results, percentile=.75):\n",
    "    \"\"\"\n",
    "    returns the consensus z score for each gene across all samples\n",
    "    \"\"\"\n",
    "    if type(sampled_results) == str:\n",
    "        results = pd.read_csv(sampled_results, sep=\"\\t\", index_col=0)\n",
    "    else:\n",
    "        results = sampled_results\n",
    "    consensus_z = pd.DataFrame({'z':results.quantile(q=percentile, axis=1)})\n",
    "    return consensus_z"
   ]
  },
  {
   "cell_type": "markdown",
   "metadata": {},
   "source": [
    "### Option 1 - run a list of pascal files"
   ]
  },
  {
   "cell_type": "code",
   "execution_count": 47,
   "metadata": {
    "ExecuteTime": {
     "end_time": "2021-12-08T00:09:23.165424Z",
     "start_time": "2021-12-08T00:05:36.945540Z"
    }
   },
   "outputs": [
    {
     "name": "stdout",
     "output_type": "stream",
     "text": [
      "Loading PCNet\n",
      "Calculating w_prime\n",
      "Calculating heat matrix\n",
      "Sampling BMI\n"
     ]
    },
    {
     "data": {
      "application/vnd.jupyter.widget-view+json": {
       "model_id": "d5388dbbd4a54fb19f9d5725b6613afa",
       "version_major": 2,
       "version_minor": 0
      },
      "text/plain": [
       "  0%|          | 0/10 [00:00<?, ?it/s]"
      ]
     },
     "metadata": {},
     "output_type": "display_data"
    },
    {
     "data": {
      "application/vnd.jupyter.widget-view+json": {
       "model_id": "4211c1f7902c4afebd7b880d5f600dd4",
       "version_major": 2,
       "version_minor": 0
      },
      "text/plain": [
       "  0%|          | 0/10 [00:00<?, ?it/s]"
      ]
     },
     "metadata": {},
     "output_type": "display_data"
    },
    {
     "data": {
      "application/vnd.jupyter.widget-view+json": {
       "model_id": "193a9b615e5c41499558e007f6460fc6",
       "version_major": 2,
       "version_minor": 0
      },
      "text/plain": [
       "  0%|          | 0/10 [00:00<?, ?it/s]"
      ]
     },
     "metadata": {},
     "output_type": "display_data"
    },
    {
     "data": {
      "application/vnd.jupyter.widget-view+json": {
       "model_id": "1f2451fc0304417794684986d69601aa",
       "version_major": 2,
       "version_minor": 0
      },
      "text/plain": [
       "  0%|          | 0/10 [00:00<?, ?it/s]"
      ]
     },
     "metadata": {},
     "output_type": "display_data"
    },
    {
     "name": "stdout",
     "output_type": "stream",
     "text": [
      "Finished sampling BMI\n"
     ]
    },
    {
     "data": {
      "text/plain": [
       "{'BMI':                 z\n",
       " UBE2Q1  -0.050077\n",
       " RNF14    0.065487\n",
       " UBE2Q2   2.744207\n",
       " TMCO1    0.133241\n",
       " UBAC1    0.375765\n",
       " ...           ...\n",
       " CD300LD  1.243231\n",
       " SLC10A5  0.226971\n",
       " BAGE4   -0.482724\n",
       " FAM181B  1.738547\n",
       " TPT1P8   0.507057\n",
       " \n",
       " [18820 rows x 1 columns]}"
      ]
     },
     "execution_count": 47,
     "metadata": {},
     "output_type": "execute_result"
    }
   ],
   "source": [
    "file_list=[DATADIR+\"GIANT_genomics/BMI/GIANT_BMI_pascal.sum.genescores.txt\"] # list of tab-separated pascal files\n",
    "trait_list=[\"BMI\"] # trait names for naming output files\n",
    "outpath=\"\" # location to save results\n",
    "sampling_from_pascal(file_list, trait_list, outpath, num_samps=4, num_reps=10)"
   ]
  },
  {
   "cell_type": "markdown",
   "metadata": {},
   "source": [
    "### Option 2 - run one trait at a time, but precalculate pcnet heat matrix"
   ]
  },
  {
   "cell_type": "code",
   "execution_count": null,
   "metadata": {},
   "outputs": [],
   "source": []
  },
  {
   "cell_type": "code",
   "execution_count": 21,
   "metadata": {
    "ExecuteTime": {
     "end_time": "2021-12-07T23:25:40.756928Z",
     "start_time": "2021-12-07T23:25:35.290247Z"
    },
    "scrolled": true
   },
   "outputs": [
    {
     "data": {
      "application/vnd.jupyter.widget-view+json": {
       "model_id": "7d923a545c9243d68ef4a3d9c0f227ea",
       "version_major": 2,
       "version_minor": 0
      },
      "text/plain": [
       "  0%|          | 0/10 [00:00<?, ?it/s]"
      ]
     },
     "metadata": {},
     "output_type": "display_data"
    },
    {
     "data": {
      "application/vnd.jupyter.widget-view+json": {
       "model_id": "82984192e2f64a83ba3279cb43883da2",
       "version_major": 2,
       "version_minor": 0
      },
      "text/plain": [
       "  0%|          | 0/10 [00:00<?, ?it/s]"
      ]
     },
     "metadata": {},
     "output_type": "display_data"
    },
    {
     "data": {
      "application/vnd.jupyter.widget-view+json": {
       "model_id": "f53c5d7f68f547f59cdde983fd6985b4",
       "version_major": 2,
       "version_minor": 0
      },
      "text/plain": [
       "  0%|          | 0/10 [00:00<?, ?it/s]"
      ]
     },
     "metadata": {},
     "output_type": "display_data"
    },
    {
     "data": {
      "application/vnd.jupyter.widget-view+json": {
       "model_id": "62fcda55aae14b368bd1cf0eda5212c1",
       "version_major": 2,
       "version_minor": 0
      },
      "text/plain": [
       "  0%|          | 0/10 [00:00<?, ?it/s]"
      ]
     },
     "metadata": {},
     "output_type": "display_data"
    }
   ],
   "source": [
    "a = sample_seed_genes(data, nodes, indiv_heats, G_PC, num_reps=10, num_samps=4, trait=\"BMI\")"
   ]
  },
  {
   "cell_type": "code",
   "execution_count": 44,
   "metadata": {
    "ExecuteTime": {
     "end_time": "2021-12-08T00:02:11.293357Z",
     "start_time": "2021-12-08T00:02:11.285268Z"
    }
   },
   "outputs": [
    {
     "data": {
      "text/html": [
       "<div>\n",
       "<style scoped>\n",
       "    .dataframe tbody tr th:only-of-type {\n",
       "        vertical-align: middle;\n",
       "    }\n",
       "\n",
       "    .dataframe tbody tr th {\n",
       "        vertical-align: top;\n",
       "    }\n",
       "\n",
       "    .dataframe thead th {\n",
       "        text-align: right;\n",
       "    }\n",
       "</style>\n",
       "<table border=\"1\" class=\"dataframe\">\n",
       "  <thead>\n",
       "    <tr style=\"text-align: right;\">\n",
       "      <th></th>\n",
       "      <th>z</th>\n",
       "    </tr>\n",
       "  </thead>\n",
       "  <tbody>\n",
       "    <tr>\n",
       "      <th>UBE2Q1</th>\n",
       "      <td>0.046308</td>\n",
       "    </tr>\n",
       "    <tr>\n",
       "      <th>RNF14</th>\n",
       "      <td>-1.284102</td>\n",
       "    </tr>\n",
       "    <tr>\n",
       "      <th>UBE2Q2</th>\n",
       "      <td>0.304512</td>\n",
       "    </tr>\n",
       "    <tr>\n",
       "      <th>TMCO1</th>\n",
       "      <td>-0.603054</td>\n",
       "    </tr>\n",
       "    <tr>\n",
       "      <th>UBAC1</th>\n",
       "      <td>0.536572</td>\n",
       "    </tr>\n",
       "    <tr>\n",
       "      <th>...</th>\n",
       "      <td>...</td>\n",
       "    </tr>\n",
       "    <tr>\n",
       "      <th>CD300LD</th>\n",
       "      <td>1.944859</td>\n",
       "    </tr>\n",
       "    <tr>\n",
       "      <th>SLC10A5</th>\n",
       "      <td>10.460008</td>\n",
       "    </tr>\n",
       "    <tr>\n",
       "      <th>BAGE4</th>\n",
       "      <td>2.367835</td>\n",
       "    </tr>\n",
       "    <tr>\n",
       "      <th>FAM181B</th>\n",
       "      <td>1.499096</td>\n",
       "    </tr>\n",
       "    <tr>\n",
       "      <th>TPT1P8</th>\n",
       "      <td>-0.692387</td>\n",
       "    </tr>\n",
       "  </tbody>\n",
       "</table>\n",
       "<p>18820 rows × 1 columns</p>\n",
       "</div>"
      ],
      "text/plain": [
       "                 z\n",
       "UBE2Q1    0.046308\n",
       "RNF14    -1.284102\n",
       "UBE2Q2    0.304512\n",
       "TMCO1    -0.603054\n",
       "UBAC1     0.536572\n",
       "...            ...\n",
       "CD300LD   1.944859\n",
       "SLC10A5  10.460008\n",
       "BAGE4     2.367835\n",
       "FAM181B   1.499096\n",
       "TPT1P8   -0.692387\n",
       "\n",
       "[18820 rows x 1 columns]"
      ]
     },
     "execution_count": 44,
     "metadata": {},
     "output_type": "execute_result"
    }
   ],
   "source": [
    "get_consensus_z_scores(a)"
   ]
  }
 ],
 "metadata": {
  "kernelspec": {
   "display_name": "Python [conda env:netcoloc_dev]",
   "language": "python",
   "name": "conda-env-netcoloc_dev-py"
  },
  "language_info": {
   "codemirror_mode": {
    "name": "ipython",
    "version": 3
   },
   "file_extension": ".py",
   "mimetype": "text/x-python",
   "name": "python",
   "nbconvert_exporter": "python",
   "pygments_lexer": "ipython3",
   "version": "3.9.7"
  },
  "toc": {
   "base_numbering": 1,
   "nav_menu": {},
   "number_sections": true,
   "sideBar": true,
   "skip_h1_title": false,
   "title_cell": "Table of Contents",
   "title_sidebar": "Contents",
   "toc_cell": false,
   "toc_position": {},
   "toc_section_display": true,
   "toc_window_display": true
  },
  "varInspector": {
   "cols": {
    "lenName": 16,
    "lenType": 16,
    "lenVar": 40
   },
   "kernels_config": {
    "python": {
     "delete_cmd_postfix": "",
     "delete_cmd_prefix": "del ",
     "library": "var_list.py",
     "varRefreshCmd": "print(var_dic_list())"
    },
    "r": {
     "delete_cmd_postfix": ") ",
     "delete_cmd_prefix": "rm(",
     "library": "var_list.r",
     "varRefreshCmd": "cat(var_dic_list()) "
    }
   },
   "types_to_exclude": [
    "module",
    "function",
    "builtin_function_or_method",
    "instance",
    "_Feature"
   ],
   "window_display": false
  }
 },
 "nbformat": 4,
 "nbformat_minor": 2
}
