{
 "cells": [
  {
   "cell_type": "code",
   "execution_count": 1,
   "metadata": {
    "ExecuteTime": {
     "end_time": "2021-12-07T23:13:34.677375Z",
     "start_time": "2021-12-07T23:13:33.027014Z"
    }
   },
   "outputs": [],
   "source": [
    "import pandas as pd\n",
    "import random as rn\n",
    "import numpy as np\n",
    "from netcoloc import netprop_zscore, netprop\n",
    "import ndex2"
   ]
  },
  {
   "cell_type": "code",
   "execution_count": 46,
   "metadata": {
    "ExecuteTime": {
     "end_time": "2021-12-08T00:05:15.327139Z",
     "start_time": "2021-12-08T00:05:15.316698Z"
    },
    "code_folding": [
     29,
     36,
     55
    ]
   },
   "outputs": [],
   "source": [
    "def sampling_from_pascal(pascal_file_list, trait_list, outpath, num_samps=100, num_reps=1000):\n",
    "    # import PCNET\n",
    "    print(\"Loading PCNet\")\n",
    "    interactome_uuid='4de852d9-9908-11e9-bcaf-0ac135e8bacf'\n",
    "    ndex_server='public.ndexbio.org'\n",
    "    ndex_user=None\n",
    "    ndex_password=None\n",
    "    G_PC = ndex2.create_nice_cx_from_server(\n",
    "            ndex_server, \n",
    "            username=ndex_user, \n",
    "            password=ndex_password, \n",
    "            uuid=interactome_uuid\n",
    "        ).to_networkx()\n",
    "    nodes = list(G_PC.nodes)\n",
    "    # calculate heat matrix\n",
    "    print(\"Calculating w_prime\")\n",
    "    w_prime = netprop.get_normalized_adjacency_matrix(G_PC, conserve_heat=True, weighted=False)\n",
    "    print(\"Calculating heat matrix\")\n",
    "    indiv_heats = netprop.get_individual_heats_matrix(w_prime, alpha=0.5)\n",
    "    # perform each sampling analysis\n",
    "    consensus_z_scores = {}\n",
    "    for i, file in enumerate(pascal_file_list):\n",
    "        data = pd.read_csv(file, sep=\"\\t\")\n",
    "        trait = trait_list[i]\n",
    "        print(\"Sampling\", trait)\n",
    "        res = sample_seed_genes(data, nodes, indiv_heats, G_PC, trait=trait, max_genes=500, num_samps=num_samps,\n",
    "                             outdir=outpath, num_reps=num_reps)\n",
    "        print(\"Finished sampling\", trait)\n",
    "        consensus_z_scores[trait] = get_consensus_z_scores(res)\n",
    "    return consensus_z_scores\n",
    "        \n",
    "def sample_seed_genes(data, nodes, indiv_heats, G_PC, trait=\"BMI\", max_genes=500, num_samps=100, \n",
    "                      sig=0.05, num_reps=1000, parallel=False, outdir=DATADIR):\n",
    "    outfile=outdir+trait+\"sampling_\"+str(max_genes)+\"_\"+str(num_samps)+\".tsv\"\n",
    "    data = data.loc[data.gene_symbol.isin(nodes)] # subset to genes in PCNET\n",
    "    all_seeds = data.loc[data.pvalue <= sig/len(data)] # bonferonni correction\n",
    "    all_seeds = all_seeds.assign(log10p=-1*np.log10(all_seeds.pvalue)) # get -log10p for weighted sampling\n",
    "    sampling_results = []\n",
    "    if parallel:\n",
    "        pool = mp.Pool(2)\n",
    "        #sampling_results = [pool.apply(_do_propagation, args=(all_seeds, G_PC, indiv_heats, num_reps, max_genes)) for i in range(3)]\n",
    "        pool.close()\n",
    "    else:\n",
    "        for i in range(num_samps):\n",
    "            sample_results = _do_propagation(all_seeds, G_PC, indiv_heats, num_reps, max_genes)\n",
    "            sample_z = pd.DataFrame(sample_results, columns=[\"z\"+str(i)])\n",
    "            if i ==0 :\n",
    "                sample_z.to_csv(outfile, sep=\"\\t\")\n",
    "            else:\n",
    "                existing = pd.read_csv(outfile, sep=\"\\t\", index_col=0)\n",
    "                existing = existing.join(sample_z)\n",
    "                existing.to_csv(outfile, sep=\"\\t\")\n",
    "            sampling_results.append(sample_z)\n",
    "    \n",
    "    return pd.concat(sampling_results, axis=1)\n",
    "\n",
    "\n",
    "def _do_propagation(all_seeds, G_PC, indiv_heats, num_reps=1000, max_genes=500):\n",
    "    sample_seeds = rn.choices(population=all_seeds.gene_symbol.values, weights=all_seeds.log10p.values, k=max_genes)\n",
    "    samp_results = netprop_zscore.calculate_heat_zscores(indiv_heats, nodes=list(G_PC.nodes), degrees=dict(G_PC.degree),\n",
    "                                                         seed_genes=sample_seeds,num_reps=num_reps, alpha=0.05, \n",
    "                                                         minimum_bin_size=10, random_seed=1)\n",
    "    return samp_results[0]\n",
    "\n",
    "\n",
    "def get_consensus_z_scores(sampled_results, percentile=.75):\n",
    "    \"\"\"\n",
    "    returns the consensus z score for each gene across all samples\n",
    "    \"\"\"\n",
    "    if type(sampled_results) == str:\n",
    "        results = pd.read_csv(sampled_results, sep=\"\\t\", index_col=0)\n",
    "    else:\n",
    "        results = sampled_results\n",
    "    consensus_z = pd.DataFrame({'z':results.quantile(q=percentile, axis=1)})\n",
    "    return consensus_z"
   ]
  },
  {
   "cell_type": "markdown",
   "metadata": {},
   "source": [
    "### Option 1 - run a list of pascal files"
   ]
  },
  {
   "cell_type": "code",
   "execution_count": 30,
   "metadata": {
    "ExecuteTime": {
     "end_time": "2021-12-07T23:40:59.540445Z",
     "start_time": "2021-12-07T23:40:59.537691Z"
    }
   },
   "outputs": [],
   "source": [
    "DATADIR = \"~/Data/rat/data/\""
   ]
  },
  {
   "cell_type": "code",
   "execution_count": 47,
   "metadata": {
    "ExecuteTime": {
     "end_time": "2021-12-08T00:09:23.165424Z",
     "start_time": "2021-12-08T00:05:36.945540Z"
    }
   },
   "outputs": [
    {
     "name": "stdout",
     "output_type": "stream",
     "text": [
      "Loading PCNet\n",
      "Calculating w_prime\n",
      "Calculating heat matrix\n",
      "Sampling BMI\n"
     ]
    },
    {
     "data": {
      "application/vnd.jupyter.widget-view+json": {
       "model_id": "d5388dbbd4a54fb19f9d5725b6613afa",
       "version_major": 2,
       "version_minor": 0
      },
      "text/plain": [
       "  0%|          | 0/10 [00:00<?, ?it/s]"
      ]
     },
     "metadata": {},
     "output_type": "display_data"
    },
    {
     "data": {
      "application/vnd.jupyter.widget-view+json": {
       "model_id": "4211c1f7902c4afebd7b880d5f600dd4",
       "version_major": 2,
       "version_minor": 0
      },
      "text/plain": [
       "  0%|          | 0/10 [00:00<?, ?it/s]"
      ]
     },
     "metadata": {},
     "output_type": "display_data"
    },
    {
     "data": {
      "application/vnd.jupyter.widget-view+json": {
       "model_id": "193a9b615e5c41499558e007f6460fc6",
       "version_major": 2,
       "version_minor": 0
      },
      "text/plain": [
       "  0%|          | 0/10 [00:00<?, ?it/s]"
      ]
     },
     "metadata": {},
     "output_type": "display_data"
    },
    {
     "data": {
      "application/vnd.jupyter.widget-view+json": {
       "model_id": "1f2451fc0304417794684986d69601aa",
       "version_major": 2,
       "version_minor": 0
      },
      "text/plain": [
       "  0%|          | 0/10 [00:00<?, ?it/s]"
      ]
     },
     "metadata": {},
     "output_type": "display_data"
    },
    {
     "name": "stdout",
     "output_type": "stream",
     "text": [
      "Finished sampling BMI\n"
     ]
    },
    {
     "data": {
      "text/plain": [
       "{'BMI':                 z\n",
       " UBE2Q1  -0.050077\n",
       " RNF14    0.065487\n",
       " UBE2Q2   2.744207\n",
       " TMCO1    0.133241\n",
       " UBAC1    0.375765\n",
       " ...           ...\n",
       " CD300LD  1.243231\n",
       " SLC10A5  0.226971\n",
       " BAGE4   -0.482724\n",
       " FAM181B  1.738547\n",
       " TPT1P8   0.507057\n",
       " \n",
       " [18820 rows x 1 columns]}"
      ]
     },
     "execution_count": 47,
     "metadata": {},
     "output_type": "execute_result"
    }
   ],
   "source": [
    "file_list=[DATADIR+\"GIANT_genomics/BMI/GIANT_BMI_pascal.sum.genescores.txt\"] # list of tab-separated pascal files\n",
    "trait_list=[\"BMI\"] # trait names for naming output files\n",
    "outpath=\"\" # location to save results\n",
    "sampling_from_pascal(file_list, trait_list, outpath, num_samps=4, num_reps=10)"
   ]
  },
  {
   "cell_type": "markdown",
   "metadata": {},
   "source": [
    "### Option 2 - run one trait at a time, but precalculate pcnet heat matrix"
   ]
  },
  {
   "cell_type": "code",
   "execution_count": 3,
   "metadata": {
    "ExecuteTime": {
     "end_time": "2021-12-07T23:15:44.433531Z",
     "start_time": "2021-12-07T23:13:45.963729Z"
    }
   },
   "outputs": [
    {
     "name": "stdout",
     "output_type": "stream",
     "text": [
      "number of nodes: 18820\n",
      "number of edges: 2693250\n"
     ]
    }
   ],
   "source": [
    "import ndex2\n",
    "interactome_uuid='4de852d9-9908-11e9-bcaf-0ac135e8bacf'\n",
    "ndex_server='public.ndexbio.org'\n",
    "ndex_user=None\n",
    "ndex_password=None\n",
    "G_PC = ndex2.create_nice_cx_from_server(\n",
    "            ndex_server, \n",
    "            username=ndex_user, \n",
    "            password=ndex_password, \n",
    "            uuid=interactome_uuid\n",
    "        ).to_networkx()\n",
    "nodes = list(G_PC.nodes)\n",
    "\n",
    "# print out interactome num nodes and edges for diagnostic purposes\n",
    "print('number of nodes:', len(G_PC.nodes))\n",
    "print('number of edges:', len(G_PC.edges))"
   ]
  },
  {
   "cell_type": "code",
   "execution_count": 5,
   "metadata": {
    "ExecuteTime": {
     "end_time": "2021-12-07T23:17:26.275373Z",
     "start_time": "2021-12-07T23:16:36.404693Z"
    }
   },
   "outputs": [],
   "source": [
    "w_prime = netprop.get_normalized_adjacency_matrix(G_PC, conserve_heat=True, weighted=False)"
   ]
  },
  {
   "cell_type": "code",
   "execution_count": 6,
   "metadata": {
    "ExecuteTime": {
     "end_time": "2021-12-07T23:20:43.070259Z",
     "start_time": "2021-12-07T23:17:26.365220Z"
    }
   },
   "outputs": [],
   "source": [
    "indiv_heats = netprop.get_individual_heats_matrix(w_prime, alpha=0.5)"
   ]
  },
  {
   "cell_type": "code",
   "execution_count": null,
   "metadata": {},
   "outputs": [],
   "source": [
    "data = pd.read_csv(DATADIR+\"GIANT_genomics/BMI/GIANT_BMI_pascal.sum.genescores.txt\", sep=\"\\t\")"
   ]
  },
  {
   "cell_type": "code",
   "execution_count": 21,
   "metadata": {
    "ExecuteTime": {
     "end_time": "2021-12-07T23:25:40.756928Z",
     "start_time": "2021-12-07T23:25:35.290247Z"
    },
    "scrolled": true
   },
   "outputs": [
    {
     "data": {
      "application/vnd.jupyter.widget-view+json": {
       "model_id": "7d923a545c9243d68ef4a3d9c0f227ea",
       "version_major": 2,
       "version_minor": 0
      },
      "text/plain": [
       "  0%|          | 0/10 [00:00<?, ?it/s]"
      ]
     },
     "metadata": {},
     "output_type": "display_data"
    },
    {
     "data": {
      "application/vnd.jupyter.widget-view+json": {
       "model_id": "82984192e2f64a83ba3279cb43883da2",
       "version_major": 2,
       "version_minor": 0
      },
      "text/plain": [
       "  0%|          | 0/10 [00:00<?, ?it/s]"
      ]
     },
     "metadata": {},
     "output_type": "display_data"
    },
    {
     "data": {
      "application/vnd.jupyter.widget-view+json": {
       "model_id": "f53c5d7f68f547f59cdde983fd6985b4",
       "version_major": 2,
       "version_minor": 0
      },
      "text/plain": [
       "  0%|          | 0/10 [00:00<?, ?it/s]"
      ]
     },
     "metadata": {},
     "output_type": "display_data"
    },
    {
     "data": {
      "application/vnd.jupyter.widget-view+json": {
       "model_id": "62fcda55aae14b368bd1cf0eda5212c1",
       "version_major": 2,
       "version_minor": 0
      },
      "text/plain": [
       "  0%|          | 0/10 [00:00<?, ?it/s]"
      ]
     },
     "metadata": {},
     "output_type": "display_data"
    }
   ],
   "source": [
    "a = sample_seed_genes(data, nodes, indiv_heats, G_PC, num_reps=10, num_samps=4, trait=\"BMI\")"
   ]
  },
  {
   "cell_type": "code",
   "execution_count": 44,
   "metadata": {
    "ExecuteTime": {
     "end_time": "2021-12-08T00:02:11.293357Z",
     "start_time": "2021-12-08T00:02:11.285268Z"
    }
   },
   "outputs": [
    {
     "data": {
      "text/html": [
       "<div>\n",
       "<style scoped>\n",
       "    .dataframe tbody tr th:only-of-type {\n",
       "        vertical-align: middle;\n",
       "    }\n",
       "\n",
       "    .dataframe tbody tr th {\n",
       "        vertical-align: top;\n",
       "    }\n",
       "\n",
       "    .dataframe thead th {\n",
       "        text-align: right;\n",
       "    }\n",
       "</style>\n",
       "<table border=\"1\" class=\"dataframe\">\n",
       "  <thead>\n",
       "    <tr style=\"text-align: right;\">\n",
       "      <th></th>\n",
       "      <th>z</th>\n",
       "    </tr>\n",
       "  </thead>\n",
       "  <tbody>\n",
       "    <tr>\n",
       "      <th>UBE2Q1</th>\n",
       "      <td>0.046308</td>\n",
       "    </tr>\n",
       "    <tr>\n",
       "      <th>RNF14</th>\n",
       "      <td>-1.284102</td>\n",
       "    </tr>\n",
       "    <tr>\n",
       "      <th>UBE2Q2</th>\n",
       "      <td>0.304512</td>\n",
       "    </tr>\n",
       "    <tr>\n",
       "      <th>TMCO1</th>\n",
       "      <td>-0.603054</td>\n",
       "    </tr>\n",
       "    <tr>\n",
       "      <th>UBAC1</th>\n",
       "      <td>0.536572</td>\n",
       "    </tr>\n",
       "    <tr>\n",
       "      <th>...</th>\n",
       "      <td>...</td>\n",
       "    </tr>\n",
       "    <tr>\n",
       "      <th>CD300LD</th>\n",
       "      <td>1.944859</td>\n",
       "    </tr>\n",
       "    <tr>\n",
       "      <th>SLC10A5</th>\n",
       "      <td>10.460008</td>\n",
       "    </tr>\n",
       "    <tr>\n",
       "      <th>BAGE4</th>\n",
       "      <td>2.367835</td>\n",
       "    </tr>\n",
       "    <tr>\n",
       "      <th>FAM181B</th>\n",
       "      <td>1.499096</td>\n",
       "    </tr>\n",
       "    <tr>\n",
       "      <th>TPT1P8</th>\n",
       "      <td>-0.692387</td>\n",
       "    </tr>\n",
       "  </tbody>\n",
       "</table>\n",
       "<p>18820 rows × 1 columns</p>\n",
       "</div>"
      ],
      "text/plain": [
       "                 z\n",
       "UBE2Q1    0.046308\n",
       "RNF14    -1.284102\n",
       "UBE2Q2    0.304512\n",
       "TMCO1    -0.603054\n",
       "UBAC1     0.536572\n",
       "...            ...\n",
       "CD300LD   1.944859\n",
       "SLC10A5  10.460008\n",
       "BAGE4     2.367835\n",
       "FAM181B   1.499096\n",
       "TPT1P8   -0.692387\n",
       "\n",
       "[18820 rows x 1 columns]"
      ]
     },
     "execution_count": 44,
     "metadata": {},
     "output_type": "execute_result"
    }
   ],
   "source": [
    "get_consensus_z_scores(a)"
   ]
  }
 ],
 "metadata": {
  "kernelspec": {
   "display_name": "Python [conda env:netcoloc]",
   "language": "python",
   "name": "conda-env-netcoloc-py"
  },
  "language_info": {
   "codemirror_mode": {
    "name": "ipython",
    "version": 3
   },
   "file_extension": ".py",
   "mimetype": "text/x-python",
   "name": "python",
   "nbconvert_exporter": "python",
   "pygments_lexer": "ipython3",
   "version": "3.9.7"
  },
  "toc": {
   "base_numbering": 1,
   "nav_menu": {},
   "number_sections": true,
   "sideBar": true,
   "skip_h1_title": false,
   "title_cell": "Table of Contents",
   "title_sidebar": "Contents",
   "toc_cell": false,
   "toc_position": {},
   "toc_section_display": true,
   "toc_window_display": false
  },
  "varInspector": {
   "cols": {
    "lenName": 16,
    "lenType": 16,
    "lenVar": 40
   },
   "kernels_config": {
    "python": {
     "delete_cmd_postfix": "",
     "delete_cmd_prefix": "del ",
     "library": "var_list.py",
     "varRefreshCmd": "print(var_dic_list())"
    },
    "r": {
     "delete_cmd_postfix": ") ",
     "delete_cmd_prefix": "rm(",
     "library": "var_list.r",
     "varRefreshCmd": "cat(var_dic_list()) "
    }
   },
   "types_to_exclude": [
    "module",
    "function",
    "builtin_function_or_method",
    "instance",
    "_Feature"
   ],
   "window_display": false
  }
 },
 "nbformat": 4,
 "nbformat_minor": 2
}
