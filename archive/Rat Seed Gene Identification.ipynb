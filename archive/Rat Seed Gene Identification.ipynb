{
 "cells": [
  {
   "cell_type": "markdown",
   "metadata": {},
   "source": [
    "**Conclusions:**\n",
    "* None of the genes with human orthologs that didn't map to PCNet should be added back - updating the PCNet names does not recover any of these missing genes"
   ]
  },
  {
   "cell_type": "code",
   "execution_count": 60,
   "metadata": {
    "ExecuteTime": {
     "end_time": "2022-03-03T18:14:41.567007Z",
     "start_time": "2022-03-03T18:14:39.354707Z"
    }
   },
   "outputs": [],
   "source": [
    "import pandas as pd\n",
    "import mygene\n",
    "mg = mygene.MyGeneInfo()"
   ]
  },
  {
   "cell_type": "code",
   "execution_count": 8,
   "metadata": {
    "ExecuteTime": {
     "end_time": "2022-03-03T17:47:45.767342Z",
     "start_time": "2022-03-03T17:47:45.765627Z"
    }
   },
   "outputs": [],
   "source": [
    "DATADIR = \"/cellar/users/snwright/Data/rat/data/\"\n",
    "OUTDIR = \"/cellar/users/snwright/Data/Transfer/rat/\"\n",
    "threshold = 1e-4"
   ]
  },
  {
   "cell_type": "code",
   "execution_count": 32,
   "metadata": {
    "ExecuteTime": {
     "end_time": "2022-03-03T17:59:18.281821Z",
     "start_time": "2022-03-03T17:59:18.233036Z"
    }
   },
   "outputs": [
    {
     "data": {
      "text/html": [
       "<div>\n",
       "<style scoped>\n",
       "    .dataframe tbody tr th:only-of-type {\n",
       "        vertical-align: middle;\n",
       "    }\n",
       "\n",
       "    .dataframe tbody tr th {\n",
       "        vertical-align: top;\n",
       "    }\n",
       "\n",
       "    .dataframe thead th {\n",
       "        text-align: right;\n",
       "    }\n",
       "</style>\n",
       "<table border=\"1\" class=\"dataframe\">\n",
       "  <thead>\n",
       "    <tr style=\"text-align: right;\">\n",
       "      <th></th>\n",
       "      <th>Gene</th>\n",
       "      <th>Chrom</th>\n",
       "      <th>nSNPS</th>\n",
       "      <th>TopSNP P-Value</th>\n",
       "      <th>TopSNP Position</th>\n",
       "      <th>Binarized Heat</th>\n",
       "      <th>Negative Log</th>\n",
       "      <th>Size Adjusted Heat</th>\n",
       "      <th>HumanGene</th>\n",
       "    </tr>\n",
       "  </thead>\n",
       "  <tbody>\n",
       "    <tr>\n",
       "      <th>18413.0</th>\n",
       "      <td>Prlhr</td>\n",
       "      <td>chr1</td>\n",
       "      <td>23.0</td>\n",
       "      <td>7.310000e-12</td>\n",
       "      <td>281756885.0</td>\n",
       "      <td>1.0</td>\n",
       "      <td>11.136172</td>\n",
       "      <td>4.861444</td>\n",
       "      <td>PRLHR</td>\n",
       "    </tr>\n",
       "    <tr>\n",
       "      <th>4111.0</th>\n",
       "      <td>Fam204a</td>\n",
       "      <td>chr1</td>\n",
       "      <td>141.0</td>\n",
       "      <td>3.470000e-11</td>\n",
       "      <td>281411373.0</td>\n",
       "      <td>1.0</td>\n",
       "      <td>10.459144</td>\n",
       "      <td>4.861444</td>\n",
       "      <td>FAM204A</td>\n",
       "    </tr>\n",
       "    <tr>\n",
       "      <th>11771.0</th>\n",
       "      <td>LOC108349713</td>\n",
       "      <td>chr1</td>\n",
       "      <td>62.0</td>\n",
       "      <td>3.470000e-11</td>\n",
       "      <td>281411373.0</td>\n",
       "      <td>1.0</td>\n",
       "      <td>10.459144</td>\n",
       "      <td>4.861444</td>\n",
       "      <td>NaN</td>\n",
       "    </tr>\n",
       "    <tr>\n",
       "      <th>9622.0</th>\n",
       "      <td>LOC102556108</td>\n",
       "      <td>chr1</td>\n",
       "      <td>33.0</td>\n",
       "      <td>3.700000e-11</td>\n",
       "      <td>281303363.0</td>\n",
       "      <td>1.0</td>\n",
       "      <td>10.431224</td>\n",
       "      <td>4.861444</td>\n",
       "      <td>NaN</td>\n",
       "    </tr>\n",
       "    <tr>\n",
       "      <th>9641.0</th>\n",
       "      <td>LOC102556164</td>\n",
       "      <td>chr1</td>\n",
       "      <td>186.0</td>\n",
       "      <td>3.700000e-11</td>\n",
       "      <td>281303363.0</td>\n",
       "      <td>1.0</td>\n",
       "      <td>10.431224</td>\n",
       "      <td>4.861444</td>\n",
       "      <td>NaN</td>\n",
       "    </tr>\n",
       "  </tbody>\n",
       "</table>\n",
       "</div>"
      ],
      "text/plain": [
       "                 Gene Chrom  nSNPS  TopSNP P-Value  TopSNP Position  \\\n",
       "18413.0         Prlhr  chr1   23.0    7.310000e-12      281756885.0   \n",
       "4111.0        Fam204a  chr1  141.0    3.470000e-11      281411373.0   \n",
       "11771.0  LOC108349713  chr1   62.0    3.470000e-11      281411373.0   \n",
       "9622.0   LOC102556108  chr1   33.0    3.700000e-11      281303363.0   \n",
       "9641.0   LOC102556164  chr1  186.0    3.700000e-11      281303363.0   \n",
       "\n",
       "         Binarized Heat  Negative Log  Size Adjusted Heat HumanGene  \n",
       "18413.0             1.0     11.136172            4.861444     PRLHR  \n",
       "4111.0              1.0     10.459144            4.861444   FAM204A  \n",
       "11771.0             1.0     10.459144            4.861444       NaN  \n",
       "9622.0              1.0     10.431224            4.861444       NaN  \n",
       "9641.0              1.0     10.431224            4.861444       NaN  "
      ]
     },
     "execution_count": 32,
     "metadata": {},
     "output_type": "execute_result"
    }
   ],
   "source": [
    "rat_stats = pd.read_csv(DATADIR+\"rat_BMI_summary_stats_wo_tail.txt\", sep=\"\\t\", index_col=0)\n",
    "pc_nodes = pd.read_csv(\"pcnet_node_list.tsv\", header=None)\n",
    "pc_nodes.columns = [\"Gene\"]\n",
    "rat_stats.head()"
   ]
  },
  {
   "cell_type": "code",
   "execution_count": 19,
   "metadata": {
    "ExecuteTime": {
     "end_time": "2022-03-03T17:55:01.330655Z",
     "start_time": "2022-03-03T17:55:01.327013Z"
    }
   },
   "outputs": [
    {
     "name": "stdout",
     "output_type": "stream",
     "text": [
      "Number genes meeting threshold:\n"
     ]
    },
    {
     "data": {
      "text/plain": [
       "475"
      ]
     },
     "execution_count": 19,
     "metadata": {},
     "output_type": "execute_result"
    }
   ],
   "source": [
    "print(\"Genes meeting threshold:\")\n",
    "all_hits = rat_stats[(rat_stats[\"TopSNP P-Value\"] < threshold) & (rat_stats[\"TopSNP P-Value\"] > 0)]\n",
    "all_hits.shape[0]"
   ]
  },
  {
   "cell_type": "code",
   "execution_count": 23,
   "metadata": {
    "ExecuteTime": {
     "end_time": "2022-03-03T17:55:58.445056Z",
     "start_time": "2022-03-03T17:55:58.441320Z"
    }
   },
   "outputs": [
    {
     "name": "stdout",
     "output_type": "stream",
     "text": [
      "Genes with listed ortholog\n"
     ]
    },
    {
     "data": {
      "text/plain": [
       "308"
      ]
     },
     "execution_count": 23,
     "metadata": {},
     "output_type": "execute_result"
    }
   ],
   "source": [
    "print(\"Genes with listed ortholog\")\n",
    "all_hits.dropna().shape[0]"
   ]
  },
  {
   "cell_type": "code",
   "execution_count": 34,
   "metadata": {
    "ExecuteTime": {
     "end_time": "2022-03-03T17:59:33.147177Z",
     "start_time": "2022-03-03T17:59:33.143310Z"
    }
   },
   "outputs": [
    {
     "name": "stdout",
     "output_type": "stream",
     "text": [
      "Genes in PCNET\n"
     ]
    },
    {
     "data": {
      "text/plain": [
       "295"
      ]
     },
     "execution_count": 34,
     "metadata": {},
     "output_type": "execute_result"
    }
   ],
   "source": [
    "print(\"Genes in PCNET\")\n",
    "all_hits[all_hits[\"HumanGene\"].isin(pc_nodes[\"Gene\"])].shape[0]"
   ]
  },
  {
   "cell_type": "markdown",
   "metadata": {},
   "source": [
    "## Testing"
   ]
  },
  {
   "cell_type": "code",
   "execution_count": 38,
   "metadata": {
    "ExecuteTime": {
     "end_time": "2022-03-03T18:07:48.069776Z",
     "start_time": "2022-03-03T18:07:48.065323Z"
    }
   },
   "outputs": [],
   "source": [
    "not_in_pc = all_hits[~all_hits[\"HumanGene\"].isin(pc_nodes[\"Gene\"])].dropna()"
   ]
  },
  {
   "cell_type": "code",
   "execution_count": 39,
   "metadata": {
    "ExecuteTime": {
     "end_time": "2022-03-03T18:07:50.035576Z",
     "start_time": "2022-03-03T18:07:50.025842Z"
    }
   },
   "outputs": [
    {
     "data": {
      "text/html": [
       "<div>\n",
       "<style scoped>\n",
       "    .dataframe tbody tr th:only-of-type {\n",
       "        vertical-align: middle;\n",
       "    }\n",
       "\n",
       "    .dataframe tbody tr th {\n",
       "        vertical-align: top;\n",
       "    }\n",
       "\n",
       "    .dataframe thead th {\n",
       "        text-align: right;\n",
       "    }\n",
       "</style>\n",
       "<table border=\"1\" class=\"dataframe\">\n",
       "  <thead>\n",
       "    <tr style=\"text-align: right;\">\n",
       "      <th></th>\n",
       "      <th>Gene</th>\n",
       "      <th>Chrom</th>\n",
       "      <th>nSNPS</th>\n",
       "      <th>TopSNP P-Value</th>\n",
       "      <th>TopSNP Position</th>\n",
       "      <th>Binarized Heat</th>\n",
       "      <th>Negative Log</th>\n",
       "      <th>Size Adjusted Heat</th>\n",
       "      <th>HumanGene</th>\n",
       "    </tr>\n",
       "  </thead>\n",
       "  <tbody>\n",
       "    <tr>\n",
       "      <th>19614.0</th>\n",
       "      <td>Rgs9</td>\n",
       "      <td>chr10</td>\n",
       "      <td>179.0</td>\n",
       "      <td>6.350000e-09</td>\n",
       "      <td>97515118.0</td>\n",
       "      <td>1.0</td>\n",
       "      <td>8.197118</td>\n",
       "      <td>4.861444</td>\n",
       "      <td>RGS9</td>\n",
       "    </tr>\n",
       "    <tr>\n",
       "      <th>17406.0</th>\n",
       "      <td>Ovch2</td>\n",
       "      <td>chr1</td>\n",
       "      <td>26.0</td>\n",
       "      <td>7.290000e-07</td>\n",
       "      <td>172037176.0</td>\n",
       "      <td>1.0</td>\n",
       "      <td>6.137280</td>\n",
       "      <td>4.861444</td>\n",
       "      <td>OVCH2</td>\n",
       "    </tr>\n",
       "    <tr>\n",
       "      <th>22373.0</th>\n",
       "      <td>Tpp1</td>\n",
       "      <td>chr1</td>\n",
       "      <td>12.0</td>\n",
       "      <td>4.130000e-06</td>\n",
       "      <td>170596114.0</td>\n",
       "      <td>1.0</td>\n",
       "      <td>5.383528</td>\n",
       "      <td>4.861444</td>\n",
       "      <td>TPP1</td>\n",
       "    </tr>\n",
       "    <tr>\n",
       "      <th>22366.0</th>\n",
       "      <td>Tph2</td>\n",
       "      <td>chr7</td>\n",
       "      <td>121.0</td>\n",
       "      <td>8.970000e-06</td>\n",
       "      <td>58121499.0</td>\n",
       "      <td>0.0</td>\n",
       "      <td>5.047206</td>\n",
       "      <td>4.861444</td>\n",
       "      <td>TPH2</td>\n",
       "    </tr>\n",
       "    <tr>\n",
       "      <th>14889.0</th>\n",
       "      <td>Mga</td>\n",
       "      <td>chr3</td>\n",
       "      <td>176.0</td>\n",
       "      <td>1.020000e-05</td>\n",
       "      <td>111660822.0</td>\n",
       "      <td>0.0</td>\n",
       "      <td>4.991787</td>\n",
       "      <td>4.861444</td>\n",
       "      <td>MGA</td>\n",
       "    </tr>\n",
       "    <tr>\n",
       "      <th>17475.0</th>\n",
       "      <td>Pak6</td>\n",
       "      <td>chr3</td>\n",
       "      <td>80.0</td>\n",
       "      <td>1.150000e-05</td>\n",
       "      <td>110455267.0</td>\n",
       "      <td>0.0</td>\n",
       "      <td>4.940380</td>\n",
       "      <td>4.861444</td>\n",
       "      <td>BUB1B-PAK6</td>\n",
       "    </tr>\n",
       "    <tr>\n",
       "      <th>7047.0</th>\n",
       "      <td>LOC100912849</td>\n",
       "      <td>chr9</td>\n",
       "      <td>65.0</td>\n",
       "      <td>2.050000e-05</td>\n",
       "      <td>15607737.0</td>\n",
       "      <td>0.0</td>\n",
       "      <td>4.687706</td>\n",
       "      <td>4.628876</td>\n",
       "      <td>AL096814.1</td>\n",
       "    </tr>\n",
       "    <tr>\n",
       "      <th>14060.0</th>\n",
       "      <td>LOC691418</td>\n",
       "      <td>chr3</td>\n",
       "      <td>27.0</td>\n",
       "      <td>2.490000e-05</td>\n",
       "      <td>110981596.0</td>\n",
       "      <td>0.0</td>\n",
       "      <td>4.603248</td>\n",
       "      <td>4.564948</td>\n",
       "      <td>C15orf62</td>\n",
       "    </tr>\n",
       "    <tr>\n",
       "      <th>5825.0</th>\n",
       "      <td>Inafm2</td>\n",
       "      <td>chr3</td>\n",
       "      <td>34.0</td>\n",
       "      <td>2.780000e-05</td>\n",
       "      <td>110540063.0</td>\n",
       "      <td>0.0</td>\n",
       "      <td>4.556230</td>\n",
       "      <td>4.516057</td>\n",
       "      <td>INAFM2</td>\n",
       "    </tr>\n",
       "    <tr>\n",
       "      <th>2202.0</th>\n",
       "      <td>Chp1</td>\n",
       "      <td>chr3</td>\n",
       "      <td>96.0</td>\n",
       "      <td>2.800000e-05</td>\n",
       "      <td>111360099.0</td>\n",
       "      <td>0.0</td>\n",
       "      <td>4.552794</td>\n",
       "      <td>4.482543</td>\n",
       "      <td>CHP1</td>\n",
       "    </tr>\n",
       "    <tr>\n",
       "      <th>15728.0</th>\n",
       "      <td>Myrfl</td>\n",
       "      <td>chr7</td>\n",
       "      <td>225.0</td>\n",
       "      <td>2.900000e-05</td>\n",
       "      <td>59854731.0</td>\n",
       "      <td>0.0</td>\n",
       "      <td>4.538168</td>\n",
       "      <td>4.385508</td>\n",
       "      <td>MYRFL</td>\n",
       "    </tr>\n",
       "    <tr>\n",
       "      <th>21719.0</th>\n",
       "      <td>Tcf4</td>\n",
       "      <td>chr18</td>\n",
       "      <td>541.0</td>\n",
       "      <td>3.540000e-05</td>\n",
       "      <td>65513683.0</td>\n",
       "      <td>0.0</td>\n",
       "      <td>4.451198</td>\n",
       "      <td>4.193036</td>\n",
       "      <td>TCF4</td>\n",
       "    </tr>\n",
       "    <tr>\n",
       "      <th>14909.0</th>\n",
       "      <td>Miat</td>\n",
       "      <td>chr12</td>\n",
       "      <td>55.0</td>\n",
       "      <td>7.040000e-05</td>\n",
       "      <td>50450672.0</td>\n",
       "      <td>0.0</td>\n",
       "      <td>4.152433</td>\n",
       "      <td>4.103148</td>\n",
       "      <td>MIAT</td>\n",
       "    </tr>\n",
       "  </tbody>\n",
       "</table>\n",
       "</div>"
      ],
      "text/plain": [
       "                 Gene  Chrom  nSNPS  TopSNP P-Value  TopSNP Position  \\\n",
       "19614.0          Rgs9  chr10  179.0    6.350000e-09       97515118.0   \n",
       "17406.0         Ovch2   chr1   26.0    7.290000e-07      172037176.0   \n",
       "22373.0          Tpp1   chr1   12.0    4.130000e-06      170596114.0   \n",
       "22366.0          Tph2   chr7  121.0    8.970000e-06       58121499.0   \n",
       "14889.0           Mga   chr3  176.0    1.020000e-05      111660822.0   \n",
       "17475.0          Pak6   chr3   80.0    1.150000e-05      110455267.0   \n",
       "7047.0   LOC100912849   chr9   65.0    2.050000e-05       15607737.0   \n",
       "14060.0     LOC691418   chr3   27.0    2.490000e-05      110981596.0   \n",
       "5825.0         Inafm2   chr3   34.0    2.780000e-05      110540063.0   \n",
       "2202.0           Chp1   chr3   96.0    2.800000e-05      111360099.0   \n",
       "15728.0         Myrfl   chr7  225.0    2.900000e-05       59854731.0   \n",
       "21719.0          Tcf4  chr18  541.0    3.540000e-05       65513683.0   \n",
       "14909.0          Miat  chr12   55.0    7.040000e-05       50450672.0   \n",
       "\n",
       "         Binarized Heat  Negative Log  Size Adjusted Heat   HumanGene  \n",
       "19614.0             1.0      8.197118            4.861444        RGS9  \n",
       "17406.0             1.0      6.137280            4.861444       OVCH2  \n",
       "22373.0             1.0      5.383528            4.861444        TPP1  \n",
       "22366.0             0.0      5.047206            4.861444        TPH2  \n",
       "14889.0             0.0      4.991787            4.861444         MGA  \n",
       "17475.0             0.0      4.940380            4.861444  BUB1B-PAK6  \n",
       "7047.0              0.0      4.687706            4.628876  AL096814.1  \n",
       "14060.0             0.0      4.603248            4.564948    C15orf62  \n",
       "5825.0              0.0      4.556230            4.516057      INAFM2  \n",
       "2202.0              0.0      4.552794            4.482543        CHP1  \n",
       "15728.0             0.0      4.538168            4.385508       MYRFL  \n",
       "21719.0             0.0      4.451198            4.193036        TCF4  \n",
       "14909.0             0.0      4.152433            4.103148        MIAT  "
      ]
     },
     "execution_count": 39,
     "metadata": {},
     "output_type": "execute_result"
    }
   ],
   "source": [
    "not_in_pc"
   ]
  },
  {
   "cell_type": "code",
   "execution_count": 63,
   "metadata": {
    "ExecuteTime": {
     "end_time": "2022-03-03T18:17:02.350943Z",
     "start_time": "2022-03-03T18:17:02.347786Z"
    }
   },
   "outputs": [],
   "source": [
    "find_genes = not_in_pc.HumanGene.values"
   ]
  },
  {
   "cell_type": "markdown",
   "metadata": {},
   "source": [
    "### Get updated PC Nodes"
   ]
  },
  {
   "cell_type": "code",
   "execution_count": 61,
   "metadata": {
    "ExecuteTime": {
     "end_time": "2022-03-03T18:15:49.460088Z",
     "start_time": "2022-03-03T18:15:08.627513Z"
    }
   },
   "outputs": [
    {
     "name": "stdout",
     "output_type": "stream",
     "text": [
      "querying 1-1000...done.\n",
      "querying 1001-2000...done.\n",
      "querying 2001-3000...done.\n",
      "querying 3001-4000...done.\n",
      "querying 4001-5000...done.\n",
      "querying 5001-6000...done.\n",
      "querying 6001-7000...done.\n",
      "querying 7001-8000...done.\n",
      "querying 8001-9000...done.\n",
      "querying 9001-10000...done.\n",
      "querying 10001-11000...done.\n",
      "querying 11001-12000...done.\n",
      "querying 12001-13000...done.\n",
      "querying 13001-14000...done.\n",
      "querying 14001-15000...done.\n",
      "querying 15001-16000...done.\n",
      "querying 16001-17000...done.\n",
      "querying 17001-18000...done.\n",
      "querying 18001-18820...done.\n",
      "Finished.\n",
      "894 input query terms found dup hits:\n",
      "\t[('FBXO30', 2), ('ARF1', 2), ('UBE2F-SCLY', 2), ('FHL3', 2), ('UBC', 2), ('COP1', 2), ('SP3', 2), ('\n",
      "159 input query terms found no hit:\n",
      "\t['AC022826.2', 'AL136295.5', 'MT-CO3', 'LOC105369243', 'AL136295.1', 'LOC101060399', 'AC006486.1', '\n",
      "Pass \"returnall=True\" to return complete lists of duplicate or missing query terms.\n"
     ]
    }
   ],
   "source": [
    "updated_pc_nodes = mg.querymany(pc_nodes.Gene.values, as_dataframe=True, species='human', scopes='symbol, alias', fields='symbol')"
   ]
  },
  {
   "cell_type": "code",
   "execution_count": 64,
   "metadata": {
    "ExecuteTime": {
     "end_time": "2022-03-03T18:17:35.543498Z",
     "start_time": "2022-03-03T18:17:35.532658Z"
    }
   },
   "outputs": [
    {
     "data": {
      "text/html": [
       "<div>\n",
       "<style scoped>\n",
       "    .dataframe tbody tr th:only-of-type {\n",
       "        vertical-align: middle;\n",
       "    }\n",
       "\n",
       "    .dataframe tbody tr th {\n",
       "        vertical-align: top;\n",
       "    }\n",
       "\n",
       "    .dataframe thead th {\n",
       "        text-align: right;\n",
       "    }\n",
       "</style>\n",
       "<table border=\"1\" class=\"dataframe\">\n",
       "  <thead>\n",
       "    <tr style=\"text-align: right;\">\n",
       "      <th></th>\n",
       "      <th>_id</th>\n",
       "      <th>_score</th>\n",
       "      <th>symbol</th>\n",
       "      <th>notfound</th>\n",
       "    </tr>\n",
       "    <tr>\n",
       "      <th>query</th>\n",
       "      <th></th>\n",
       "      <th></th>\n",
       "      <th></th>\n",
       "      <th></th>\n",
       "    </tr>\n",
       "  </thead>\n",
       "  <tbody>\n",
       "    <tr>\n",
       "      <th>PAK6</th>\n",
       "      <td>106821730</td>\n",
       "      <td>19.556128</td>\n",
       "      <td>BUB1B-PAK6</td>\n",
       "      <td>NaN</td>\n",
       "    </tr>\n",
       "    <tr>\n",
       "      <th>PAK5</th>\n",
       "      <td>106821730</td>\n",
       "      <td>22.174385</td>\n",
       "      <td>BUB1B-PAK6</td>\n",
       "      <td>NaN</td>\n",
       "    </tr>\n",
       "  </tbody>\n",
       "</table>\n",
       "</div>"
      ],
      "text/plain": [
       "             _id     _score      symbol notfound\n",
       "query                                           \n",
       "PAK6   106821730  19.556128  BUB1B-PAK6      NaN\n",
       "PAK5   106821730  22.174385  BUB1B-PAK6      NaN"
      ]
     },
     "execution_count": 64,
     "metadata": {},
     "output_type": "execute_result"
    }
   ],
   "source": [
    "updated_pc_nodes[updated_pc_nodes[\"symbol\"].isin(find_genes)]"
   ]
  }
 ],
 "metadata": {
  "kernelspec": {
   "display_name": "Python [conda env:netcoloc]",
   "language": "python",
   "name": "conda-env-netcoloc-py"
  },
  "language_info": {
   "codemirror_mode": {
    "name": "ipython",
    "version": 3
   },
   "file_extension": ".py",
   "mimetype": "text/x-python",
   "name": "python",
   "nbconvert_exporter": "python",
   "pygments_lexer": "ipython3",
   "version": "3.9.7"
  },
  "toc": {
   "base_numbering": 1,
   "nav_menu": {},
   "number_sections": true,
   "sideBar": true,
   "skip_h1_title": false,
   "title_cell": "Table of Contents",
   "title_sidebar": "Contents",
   "toc_cell": false,
   "toc_position": {},
   "toc_section_display": true,
   "toc_window_display": false
  },
  "varInspector": {
   "cols": {
    "lenName": 16,
    "lenType": 16,
    "lenVar": 40
   },
   "kernels_config": {
    "python": {
     "delete_cmd_postfix": "",
     "delete_cmd_prefix": "del ",
     "library": "var_list.py",
     "varRefreshCmd": "print(var_dic_list())"
    },
    "r": {
     "delete_cmd_postfix": ") ",
     "delete_cmd_prefix": "rm(",
     "library": "var_list.r",
     "varRefreshCmd": "cat(var_dic_list()) "
    }
   },
   "types_to_exclude": [
    "module",
    "function",
    "builtin_function_or_method",
    "instance",
    "_Feature"
   ],
   "window_display": false
  }
 },
 "nbformat": 4,
 "nbformat_minor": 2
}
