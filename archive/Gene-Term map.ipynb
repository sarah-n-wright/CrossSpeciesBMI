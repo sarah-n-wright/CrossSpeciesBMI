{
 "cells": [
  {
   "cell_type": "code",
   "execution_count": 9,
   "metadata": {
    "ExecuteTime": {
     "end_time": "2022-02-17T18:14:45.360304Z",
     "start_time": "2022-02-17T18:14:45.357364Z"
    }
   },
   "outputs": [],
   "source": [
    "from netcoloc import validation\n",
    "import pandas as pd"
   ]
  },
  {
   "cell_type": "code",
   "execution_count": 5,
   "metadata": {
    "ExecuteTime": {
     "end_time": "2022-02-17T18:12:39.923406Z",
     "start_time": "2022-02-17T18:12:39.918500Z"
    }
   },
   "outputs": [],
   "source": [
    "def _get_mp_graph(datafile=\"parsed_mp.txt\"):\n",
    "    mp_data = pd.read_csv(datafile, sep=\"\\t\", header=None)\n",
    "    mp_data.head()\n",
    "    mp_graph = nx.from_pandas_edgelist(mp_data, 0,1, create_using=nx.DiGraph)\n",
    "    return mp_graph\n",
    "\n",
    "def genes_per_node(MPO):\n",
    "    node_order = MPO.topological_sorting(top_down=False)\n",
    "    nodes = [i for i in node_order]\n",
    "    results = {i: set(MPO.term_2_gene[i]) for i in node_order}\n",
    "    genes = {i: set(MPO.gene_2_term[i]) for i in MPO.genes}\n",
    "    while len(nodes) > 0:\n",
    "        current = nodes.pop()\n",
    "        children = MPO.parent_2_child[current]\n",
    "        if len(children) > 0:\n",
    "            for child in children:\n",
    "                if child != current:\n",
    "                    results[current] = results[current].union(results[child])\n",
    "        for gene in results[current]:\n",
    "            if gene not in genes.keys():\n",
    "                genes[gene] = set([current])\n",
    "            else:\n",
    "                genes[gene] = genes[gene].union(set([current]))\n",
    "        else:\n",
    "            pass\n",
    "    counts = {k: len(results[k]) for k in results.keys()}\n",
    "    return counts, genes, results"
   ]
  },
  {
   "cell_type": "markdown",
   "metadata": {
    "run_control": {
     "marked": false
    }
   },
   "source": [
    "## Import MPO data"
   ]
  },
  {
   "cell_type": "code",
   "execution_count": 2,
   "metadata": {
    "ExecuteTime": {
     "end_time": "2022-02-17T18:11:49.778432Z",
     "start_time": "2022-02-17T18:10:54.763256Z"
    }
   },
   "outputs": [
    {
     "name": "stdout",
     "output_type": "stream",
     "text": [
      "querying 1-1000...done.\n",
      "querying 1001-2000...done.\n",
      "querying 2001-3000...done.\n",
      "querying 3001-4000...done.\n",
      "querying 4001-5000...done.\n",
      "querying 5001-6000...done.\n",
      "querying 6001-7000...done.\n",
      "querying 7001-8000...done.\n",
      "querying 8001-9000...done.\n",
      "querying 9001-10000...done.\n",
      "querying 10001-11000...done.\n",
      "querying 11001-12000...done.\n",
      "querying 12001-13000...done.\n",
      "querying 13001-14000...done.\n",
      "querying 14001-15000...done.\n",
      "querying 15001-16000...done.\n",
      "querying 16001-17000...done.\n",
      "querying 17001-18000...done.\n",
      "querying 18001-19000...done.\n",
      "querying 19001-20000...done.\n",
      "querying 20001-21000...done.\n",
      "querying 21001-22000...done.\n",
      "querying 22001-23000...done.\n",
      "querying 23001-24000...done.\n",
      "querying 24001-24184...done.\n",
      "Finished.\n",
      "38 input query terms found dup hits:\n",
      "\t[('Abo', 3), ('Adam1a', 2), ('Adam1b', 2), ('Adam5', 2), ('Casp12', 2), ('Ccdc39', 2), ('Chaserr', 2\n",
      "12279 input query terms found no hit:\n",
      "\t['+|Cav1', '+|Cm', '+|Del(10Prmt2-Pdxk)4Yey', '+|Del(11Mpo-Chad)18Brd', '+|Del(11Stat5a-Stat5b)1Mam'\n",
      "Pass \"returnall=True\" to return complete lists of duplicate or missing query terms.\n",
      "24231\n",
      "11952\n",
      "11905\n"
     ]
    }
   ],
   "source": [
    "# load mappings between genes and mammalian phenotypes\n",
    "mgi_df = validation.load_MGI_mouseKO_data(url='http://www.informatics.jax.org/downloads/reports/MGI_PhenoGenoMP.rpt')"
   ]
  },
  {
   "cell_type": "code",
   "execution_count": 3,
   "metadata": {
    "ExecuteTime": {
     "end_time": "2022-02-17T18:11:52.704816Z",
     "start_time": "2022-02-17T18:11:49.809655Z"
    }
   },
   "outputs": [
    {
     "name": "stdout",
     "output_type": "stream",
     "text": [
      "14598\n",
      "WARNING: Dropping 58837 duplicate gene-term connections\n"
     ]
    }
   ],
   "source": [
    "MPO = validation.load_MPO(url='http://www.informatics.jax.org/downloads/reports/MPheno_OBO.ontology', use_genes=True, mapping=mgi_df)"
   ]
  },
  {
   "cell_type": "code",
   "execution_count": 7,
   "metadata": {
    "ExecuteTime": {
     "end_time": "2022-02-17T18:13:21.635410Z",
     "start_time": "2022-02-17T18:13:19.781414Z"
    }
   },
   "outputs": [],
   "source": [
    "term_counts, gene_mapping, term_mapping = genes_per_node(MPO)"
   ]
  },
  {
   "cell_type": "markdown",
   "metadata": {},
   "source": [
    "## Import community data"
   ]
  },
  {
   "cell_type": "code",
   "execution_count": 15,
   "metadata": {
    "ExecuteTime": {
     "end_time": "2022-02-17T18:16:19.798086Z",
     "start_time": "2022-02-17T18:16:19.790416Z"
    }
   },
   "outputs": [
    {
     "data": {
      "text/html": [
       "<div>\n",
       "<style scoped>\n",
       "    .dataframe tbody tr th:only-of-type {\n",
       "        vertical-align: middle;\n",
       "    }\n",
       "\n",
       "    .dataframe tbody tr th {\n",
       "        vertical-align: top;\n",
       "    }\n",
       "\n",
       "    .dataframe thead th {\n",
       "        text-align: right;\n",
       "    }\n",
       "</style>\n",
       "<table border=\"1\" class=\"dataframe\">\n",
       "  <thead>\n",
       "    <tr style=\"text-align: right;\">\n",
       "      <th></th>\n",
       "      <th>CD_MemberList</th>\n",
       "      <th>frac_d1_seeds</th>\n",
       "      <th>frac_d2_seeds</th>\n",
       "    </tr>\n",
       "  </thead>\n",
       "  <tbody>\n",
       "    <tr>\n",
       "      <th>C877</th>\n",
       "      <td>HELZ EMX2 HIST1H3A RAD51 SYT12 GYPC KDM3B ERC1...</td>\n",
       "      <td>0.353583</td>\n",
       "      <td>0.177570</td>\n",
       "    </tr>\n",
       "    <tr>\n",
       "      <th>C898</th>\n",
       "      <td>STX4 LSAMP SPOCK1 SGCB STXBP5 TRP-AGG2-6 GPRC5...</td>\n",
       "      <td>0.363636</td>\n",
       "      <td>0.181818</td>\n",
       "    </tr>\n",
       "    <tr>\n",
       "      <th>C904</th>\n",
       "      <td>BCL11B PKIB PKIA LMO1 NR2F1 LDB2 ZFPM2 GATA3 A...</td>\n",
       "      <td>0.300000</td>\n",
       "      <td>0.200000</td>\n",
       "    </tr>\n",
       "    <tr>\n",
       "      <th>C906</th>\n",
       "      <td>PROM2 SPINT1 TNIK PKP3 SSH3 FEZ2 CORIN WWC1 CAPN1</td>\n",
       "      <td>0.333333</td>\n",
       "      <td>0.111111</td>\n",
       "    </tr>\n",
       "    <tr>\n",
       "      <th>C911</th>\n",
       "      <td>ZNF629 ZKSCAN5 LINGO1 ZNF202 ZKSCAN2 ZNF263 ZN...</td>\n",
       "      <td>0.571429</td>\n",
       "      <td>0.142857</td>\n",
       "    </tr>\n",
       "  </tbody>\n",
       "</table>\n",
       "</div>"
      ],
      "text/plain": [
       "                                          CD_MemberList  frac_d1_seeds  \\\n",
       "C877  HELZ EMX2 HIST1H3A RAD51 SYT12 GYPC KDM3B ERC1...       0.353583   \n",
       "C898  STX4 LSAMP SPOCK1 SGCB STXBP5 TRP-AGG2-6 GPRC5...       0.363636   \n",
       "C904  BCL11B PKIB PKIA LMO1 NR2F1 LDB2 ZFPM2 GATA3 A...       0.300000   \n",
       "C906  PROM2 SPINT1 TNIK PKP3 SSH3 FEZ2 CORIN WWC1 CAPN1       0.333333   \n",
       "C911  ZNF629 ZKSCAN5 LINGO1 ZNF202 ZKSCAN2 ZNF263 ZN...       0.571429   \n",
       "\n",
       "      frac_d2_seeds  \n",
       "C877       0.177570  \n",
       "C898       0.181818  \n",
       "C904       0.200000  \n",
       "C906       0.111111  \n",
       "C911       0.142857  "
      ]
     },
     "execution_count": 15,
     "metadata": {},
     "output_type": "execute_result"
    }
   ],
   "source": [
    "hier_df_genes = pd.read_csv(\"hier_df_genes.tsv\", sep=\"\\t\", index_col=0)\n",
    "hier_df_genes.head()"
   ]
  },
  {
   "cell_type": "code",
   "execution_count": 107,
   "metadata": {
    "ExecuteTime": {
     "end_time": "2022-02-17T18:59:56.307461Z",
     "start_time": "2022-02-17T18:59:56.303350Z"
    }
   },
   "outputs": [],
   "source": [
    "community_genes = {comm: list(set(hier_df_genes.loc[comm, \"CD_MemberList\"].split(\" \"))) for comm in hier_df_genes.index}"
   ]
  },
  {
   "cell_type": "markdown",
   "metadata": {},
   "source": [
    "## Get lists of MP terms"
   ]
  },
  {
   "cell_type": "code",
   "execution_count": 142,
   "metadata": {
    "ExecuteTime": {
     "end_time": "2022-02-17T19:08:16.749915Z",
     "start_time": "2022-02-17T19:08:16.745511Z"
    }
   },
   "outputs": [],
   "source": [
    "def get_gene_term_map(communities, terms, MPO, community_names=None):\n",
    "    results = pd.DataFrame({\"genes\":[]})\n",
    "    for comm in communities:\n",
    "        results = results.merge(pd.DataFrame({comm:1, \"genes\":community_genes[comm]}), on=[\"genes\"], how=\"outer\")\n",
    "    for term in terms:\n",
    "       \n",
    "        col_name = get_MP_description(term, MPO) + \" (\"+ term + \")\"\n",
    "        results = results.merge(pd.DataFrame({col_name:1, 'genes':list(set([MPO.genes[i] for i in term_mapping[term]]))}), on= \"genes\", how='left')\n",
    "    results = results.fillna(0)\n",
    "    results.set_index(\"genes\", inplace=True)\n",
    "    results.index.name=None\n",
    "    if community_names is not None:\n",
    "        new_names = {communities[i]:community_names[i] + \" (\"+communities[i]+\")\" for i in range(len(communities))}\n",
    "        results.rename(columns=new_names, inplace=True)\n",
    "    return results.astype(int)\n",
    "\n",
    "def get_MP_description(term, MPO):\n",
    "    return MPO.node_attr.loc[term].description\n",
    "    "
   ]
  },
  {
   "cell_type": "code",
   "execution_count": 95,
   "metadata": {
    "ExecuteTime": {
     "end_time": "2022-02-17T18:56:04.241765Z",
     "start_time": "2022-02-17T18:56:04.239115Z"
    }
   },
   "outputs": [],
   "source": [
    "prenatal_terms = ['MP:0010866', 'MP:0001697', 'MP:0005076', 'MP:0013202', 'MP:0012555', 'MP:0010770', 'MP:0008762', \n",
    "                  'MP:0003861', 'MP:0002152', 'MP:0004811', 'MP:0001614', 'MP:0002925', 'MP:0002019', 'MP:0002085', \n",
    "                  'MP:0001672']\n",
    "postnatal_terms = ['MP:0001259', 'MP:0001265', 'MP:0001264', 'MP:0001256', 'MP:0012321', 'MP:0005164', 'MP:0009642', \n",
    "                   'MP:0003953', 'MP:0002078', 'MP:0013561', 'MP:0013560', 'MP:0013558', 'MP:0002069', 'MP:0014114', \n",
    "                   'MP:0002067', 'MP:0008946', 'MP:0002723', 'MP:0005330', 'MP:0005620', 'MP:0002269', 'MP:0004087', \n",
    "                   'MP:0000759', 'MP:0004215', 'MP:0002972', 'MP:0010630', 'MP:0000266']"
   ]
  },
  {
   "cell_type": "code",
   "execution_count": 149,
   "metadata": {
    "ExecuteTime": {
     "end_time": "2022-02-17T19:11:10.195177Z",
     "start_time": "2022-02-17T19:11:09.969466Z"
    }
   },
   "outputs": [],
   "source": [
    "postnatal = get_gene_term_map(['C907','C894'], postnatal_terms, MPO, [\"MSC\", \"GSR\"])\n",
    "prenatal = get_gene_term_map(['C882', 'C889', 'C909'],prenatal_terms, MPO, [\"DM1\", \"PP\", \"RPA\"])\n",
    "combined = get_gene_term_map(['C907','C894','C882', 'C889', 'C909' ], postnatal_terms+prenatal_terms, MPO, \n",
    "                             [\"MSC\", \"GSR\", \"DM1\", \"PP\", \"RPA\"])"
   ]
  },
  {
   "cell_type": "code",
   "execution_count": 147,
   "metadata": {
    "ExecuteTime": {
     "end_time": "2022-02-17T19:09:33.790780Z",
     "start_time": "2022-02-17T19:09:33.739033Z"
    }
   },
   "outputs": [],
   "source": [
    "postnatal.to_csv(\"~/Data/Transfer/rat/postnatal_gene_term_map_C907_C894.tsv\", sep=\"\\t\")"
   ]
  },
  {
   "cell_type": "code",
   "execution_count": 148,
   "metadata": {
    "ExecuteTime": {
     "end_time": "2022-02-17T19:10:08.905948Z",
     "start_time": "2022-02-17T19:10:08.857923Z"
    }
   },
   "outputs": [],
   "source": [
    "prenatal.to_csv(\"~/Data/Transfer/rat/prenatal_gene_term_map_C882_C889_C909.tsv\", sep=\"\\t\")"
   ]
  },
  {
   "cell_type": "code",
   "execution_count": 150,
   "metadata": {
    "ExecuteTime": {
     "end_time": "2022-02-17T19:11:33.683563Z",
     "start_time": "2022-02-17T19:11:33.640107Z"
    }
   },
   "outputs": [],
   "source": [
    "combined.to_csv(\"~/Data/Transfer/rat/combined_gene_term_map_C907_C894_C882_C889_C909.tsv\", sep=\"\\t\")"
   ]
  }
 ],
 "metadata": {
  "kernelspec": {
   "display_name": "Python [conda env:netcoloc_dev]",
   "language": "python",
   "name": "conda-env-netcoloc_dev-py"
  },
  "language_info": {
   "codemirror_mode": {
    "name": "ipython",
    "version": 3
   },
   "file_extension": ".py",
   "mimetype": "text/x-python",
   "name": "python",
   "nbconvert_exporter": "python",
   "pygments_lexer": "ipython3",
   "version": "3.9.7"
  },
  "toc": {
   "base_numbering": 1,
   "nav_menu": {},
   "number_sections": true,
   "sideBar": true,
   "skip_h1_title": false,
   "title_cell": "Table of Contents",
   "title_sidebar": "Contents",
   "toc_cell": false,
   "toc_position": {},
   "toc_section_display": true,
   "toc_window_display": true
  },
  "varInspector": {
   "cols": {
    "lenName": 16,
    "lenType": 16,
    "lenVar": 40
   },
   "kernels_config": {
    "python": {
     "delete_cmd_postfix": "",
     "delete_cmd_prefix": "del ",
     "library": "var_list.py",
     "varRefreshCmd": "print(var_dic_list())"
    },
    "r": {
     "delete_cmd_postfix": ") ",
     "delete_cmd_prefix": "rm(",
     "library": "var_list.r",
     "varRefreshCmd": "cat(var_dic_list()) "
    }
   },
   "types_to_exclude": [
    "module",
    "function",
    "builtin_function_or_method",
    "instance",
    "_Feature"
   ],
   "window_display": false
  }
 },
 "nbformat": 4,
 "nbformat_minor": 2
}
