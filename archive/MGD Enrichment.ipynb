{
 "cells": [
  {
   "cell_type": "markdown",
   "metadata": {},
   "source": [
    "# Setup"
   ]
  },
  {
   "cell_type": "code",
   "execution_count": 5,
   "metadata": {
    "ExecuteTime": {
     "end_time": "2022-03-03T19:04:07.215962Z",
     "start_time": "2022-03-03T19:04:07.210631Z"
    },
    "init_cell": true
   },
   "outputs": [],
   "source": [
    "import pandas as pd\n",
    "import numpy as np\n",
    "\n",
    "from statsmodels.stats.multitest import fdrcorrection\n",
    "from scipy.stats import hypergeom\n",
    "from statsmodels.stats import contingency_tables\n",
    "\n",
    "import getpass\n",
    "import ndex2\n",
    "\n",
    "# need ddot to parse the ontology\n",
    "import ddot\n",
    "from ddot import Ontology\n",
    "\n",
    "import networkx as nx\n",
    "import requests\n",
    "\n",
    "import random\n",
    "\n",
    "from os.path import exists\n",
    "import mygene\n",
    "mg = mygene.MyGeneInfo()\n",
    "\n",
    "import matplotlib.pyplot as plt\n",
    "from matplotlib.patches import BoxStyle as bx\n",
    "from matplotlib.patches import Patch\n",
    "import seaborn as sns\n",
    "\n",
    "import matplotlib as mpl\n",
    "mpl.rc('text', usetex = False)\n",
    "mpl.rc('font', family = 'serif')\n",
    "\n",
    "from matplotlib import rcParams\n",
    "rcParams['font.family'] = 'sans-serif'\n",
    "rcParams['font.sans-serif'] = ['Arial']\n",
    "\n",
    "sns.set(font_scale=1.4)\n",
    "\n",
    "sns.set_style('white')\n",
    "\n",
    "sns.set_style(\"ticks\", {\"xtick.major.size\": 15, \"ytick.major.size\": 15})\n",
    "plt.rcParams['svg.fonttype'] = 'none'"
   ]
  },
  {
   "cell_type": "code",
   "execution_count": 6,
   "metadata": {
    "ExecuteTime": {
     "end_time": "2022-03-03T19:04:08.196474Z",
     "start_time": "2022-03-03T19:04:08.162308Z"
    }
   },
   "outputs": [],
   "source": [
    "import sys\n",
    "sys.path.append(\"..\")\n",
    "\n",
    "from analysis_functions import *\n",
    "from plotting_functions import *\n",
    "from updated_netcoloc_functions import *"
   ]
  },
  {
   "cell_type": "markdown",
   "metadata": {},
   "source": [
    "### Analysis Functions"
   ]
  },
  {
   "cell_type": "markdown",
   "metadata": {},
   "source": [
    "### Plotting Functions"
   ]
  },
  {
   "cell_type": "markdown",
   "metadata": {},
   "source": [
    "## Load Data"
   ]
  },
  {
   "cell_type": "code",
   "execution_count": 7,
   "metadata": {
    "ExecuteTime": {
     "end_time": "2022-03-03T19:04:30.407931Z",
     "start_time": "2022-03-03T19:04:16.606820Z"
    }
   },
   "outputs": [
    {
     "name": "stdout",
     "output_type": "stream",
     "text": [
      "number of nodes:\n",
      "18820\n",
      "\n",
      "number of edges:\n",
      "2693109\n"
     ]
    }
   ],
   "source": [
    "nodes, G_int = load_pcnet()"
   ]
  },
  {
   "cell_type": "code",
   "execution_count": 10,
   "metadata": {
    "ExecuteTime": {
     "end_time": "2022-03-03T19:05:15.529974Z",
     "start_time": "2022-03-03T19:04:34.580871Z"
    }
   },
   "outputs": [
    {
     "name": "stdout",
     "output_type": "stream",
     "text": [
      "querying 1-1000...done.\n",
      "querying 1001-2000...done.\n",
      "querying 2001-3000...done.\n",
      "querying 3001-4000...done.\n",
      "querying 4001-5000...done.\n",
      "querying 5001-6000...done.\n",
      "querying 6001-7000...done.\n",
      "querying 7001-8000...done.\n",
      "querying 8001-9000...done.\n",
      "querying 9001-10000...done.\n",
      "querying 10001-11000...done.\n",
      "querying 11001-12000...done.\n",
      "querying 12001-13000...done.\n",
      "querying 13001-14000...done.\n",
      "querying 14001-15000...done.\n",
      "querying 15001-16000...done.\n",
      "querying 16001-17000...done.\n",
      "querying 17001-18000...done.\n",
      "querying 18001-18820...done.\n",
      "Finished.\n",
      "894 input query terms found dup hits:\n",
      "\t[('FBXO30', 2), ('ARF1', 2), ('UBE2F-SCLY', 2), ('FHL3', 2), ('UBC', 2), ('COP1', 2), ('SP3', 2), ('\n",
      "159 input query terms found no hit:\n",
      "\t['AC022826.2', 'AL136295.5', 'MT-CO3', 'LOC105369243', 'AL136295.1', 'LOC101060399', 'AC006486.1', '\n",
      "Pass \"returnall=True\" to return complete lists of duplicate or missing query terms.\n"
     ]
    }
   ],
   "source": [
    "updated_pc_nodes = mg.querymany(nodes, as_dataframe=True, species='human', scopes='symbol, alias', fields='symbol')"
   ]
  },
  {
   "cell_type": "code",
   "execution_count": 11,
   "metadata": {
    "ExecuteTime": {
     "end_time": "2022-03-03T19:05:15.698859Z",
     "start_time": "2022-03-03T19:05:15.628473Z"
    }
   },
   "outputs": [],
   "source": [
    "updated_pc_nodes = updated_pc_nodes.sort_values(by=\"_score\", ascending=False)\n",
    "updated_pc_nodes = updated_pc_nodes.drop_duplicates(subset=[\"symbol\"])"
   ]
  },
  {
   "cell_type": "code",
   "execution_count": 8,
   "metadata": {
    "ExecuteTime": {
     "end_time": "2022-03-03T19:04:30.499522Z",
     "start_time": "2022-03-03T19:04:30.494668Z"
    },
    "init_cell": true
   },
   "outputs": [],
   "source": [
    "## LOAD Hierarchy\n",
    "hier_df_genes = pd.read_csv(\"BMI_hierarchy/hier_df_genes.tsv\", sep=\"\\t\", index_col=0)"
   ]
  },
  {
   "cell_type": "code",
   "execution_count": 9,
   "metadata": {
    "ExecuteTime": {
     "end_time": "2022-03-03T19:04:30.589108Z",
     "start_time": "2022-03-03T19:04:30.587377Z"
    },
    "init_cell": true
   },
   "outputs": [],
   "source": [
    "## LOAD Seed Genes\n",
    "human_seeds = []\n",
    "rat_seeds = []\n",
    "all_seeds = human_seeds + rat_seeds"
   ]
  },
  {
   "cell_type": "markdown",
   "metadata": {},
   "source": [
    "### Load Mouse Data"
   ]
  },
  {
   "cell_type": "code",
   "execution_count": null,
   "metadata": {
    "ExecuteTime": {
     "end_time": "2022-03-03T19:04:04.476755Z",
     "start_time": "2022-03-03T19:04:04.476742Z"
    },
    "init_cell": true
   },
   "outputs": [],
   "source": [
    "mgi_df = load_MGI_mouseKO_data(url='http://www.informatics.jax.org/downloads/reports/MGI_PhenoGenoMP.rpt',\n",
    "                                         map_using=\"mgi\")"
   ]
  },
  {
   "cell_type": "code",
   "execution_count": null,
   "metadata": {
    "ExecuteTime": {
     "end_time": "2022-03-03T19:04:04.477415Z",
     "start_time": "2022-03-03T19:04:04.477405Z"
    },
    "init_cell": true
   },
   "outputs": [],
   "source": [
    "mgi_df = change_symbols(mgi_df, updated_pc_nodes)"
   ]
  },
  {
   "cell_type": "code",
   "execution_count": null,
   "metadata": {
    "ExecuteTime": {
     "end_time": "2022-03-03T19:04:04.478079Z",
     "start_time": "2022-03-03T19:04:04.478068Z"
    },
    "init_cell": true
   },
   "outputs": [],
   "source": [
    "MPO2 = load_MPO(url='http://www.informatics.jax.org/downloads/reports/MPheno_OBO.ontology', use_genes=True, mapping=mgi_df)"
   ]
  },
  {
   "cell_type": "code",
   "execution_count": null,
   "metadata": {
    "ExecuteTime": {
     "end_time": "2022-03-03T19:04:04.478738Z",
     "start_time": "2022-03-03T19:04:04.478726Z"
    },
    "init_cell": true
   },
   "outputs": [],
   "source": [
    "mp_graph = _get_mp_graph()\n",
    "top_level = [node for node in nx.dfs_preorder_nodes(mp_graph, \"MP:0000001\", 1) if node not in [\"MP:0003012\", \"MP:0002873\"]][1:]"
   ]
  },
  {
   "cell_type": "markdown",
   "metadata": {},
   "source": [
    "# Perform Enrichment"
   ]
  },
  {
   "cell_type": "code",
   "execution_count": null,
   "metadata": {
    "ExecuteTime": {
     "end_time": "2022-03-03T19:04:04.470015Z",
     "start_time": "2022-03-03T19:04:04.470005Z"
    }
   },
   "outputs": [],
   "source": [
    "phenotypes = []\n",
    "term_counts, gene_mapping, term_mapping = genes_per_node(MPO2)\n",
    "for community in hier_df_genes.index:\n",
    "    x = community_term_enrichment(community, hier_df_genes, MPO2, mgi_df, term_counts, gene_mapping, exclude_genes=all_seeds)\n",
    "    x = x.assign(name=community)\n",
    "    phenotypes.append(x)"
   ]
  },
  {
   "cell_type": "code",
   "execution_count": null,
   "metadata": {
    "ExecuteTime": {
     "end_time": "2022-03-03T19:04:04.470687Z",
     "start_time": "2022-03-03T19:04:04.470676Z"
    }
   },
   "outputs": [],
   "source": [
    "results = pd.concat(phenotypes)\n",
    "results = results.assign(MP=results.index)"
   ]
  },
  {
   "cell_type": "code",
   "execution_count": null,
   "metadata": {
    "ExecuteTime": {
     "end_time": "2022-03-03T19:04:04.471362Z",
     "start_time": "2022-03-03T19:04:04.471351Z"
    }
   },
   "outputs": [],
   "source": [
    "results.to_csv(\"BMI_hierarchy/updated_enrichment_results_02_28_22.tsv\", sep=\"\\t\")"
   ]
  },
  {
   "cell_type": "markdown",
   "metadata": {},
   "source": [
    "## Get Gene Hits"
   ]
  },
  {
   "cell_type": "code",
   "execution_count": null,
   "metadata": {
    "ExecuteTime": {
     "end_time": "2022-03-03T19:04:04.472035Z",
     "start_time": "2022-03-03T19:04:04.472025Z"
    }
   },
   "outputs": [],
   "source": [
    "hits = get_gene_hits_no_annotation(genes=hier_df_genes.loc[\"C877\", \"CD_MemberList\"], term=\"MP:0005451\", MPO=MPO2, term_mapping=term_mapping)\n",
    "for hit in hits:\n",
    "    print(hit)"
   ]
  },
  {
   "cell_type": "code",
   "execution_count": null,
   "metadata": {
    "ExecuteTime": {
     "end_time": "2022-03-03T19:04:04.472697Z",
     "start_time": "2022-03-03T19:04:04.472686Z"
    }
   },
   "outputs": [],
   "source": [
    "hits = get_gene_hits_no_annotation(genes=hier_df_genes.loc[\"C877\", \"CD_MemberList\"], term=\"MP:0005378\", MPO=MPO2, term_mapping=term_mapping)\n",
    "print(len(hits))"
   ]
  },
  {
   "cell_type": "markdown",
   "metadata": {},
   "source": [
    "## Visualize Results\n",
    "### Bar chart"
   ]
  },
  {
   "cell_type": "code",
   "execution_count": null,
   "metadata": {
    "ExecuteTime": {
     "end_time": "2022-03-03T19:04:04.473391Z",
     "start_time": "2022-03-03T19:04:04.473378Z"
    },
    "hide_input": false,
    "run_control": {
     "marked": true
    }
   },
   "outputs": [],
   "source": [
    "a = plot_hbar_comparison(results, communities=[\"C877\"], mps=top_level, color_idx=3, vert = 12, mp_graph=mp_graph,\n",
    "                         sig_level=0.05, community_names=[\"conserved BMI\"], sort_by=\"q\", label_number=\"percent_community\")"
   ]
  },
  {
   "cell_type": "markdown",
   "metadata": {},
   "source": [
    "### Network Plot"
   ]
  },
  {
   "cell_type": "code",
   "execution_count": null,
   "metadata": {
    "ExecuteTime": {
     "end_time": "2022-03-03T19:04:04.474074Z",
     "start_time": "2022-03-03T19:04:04.474063Z"
    },
    "scrolled": true
   },
   "outputs": [],
   "source": [
    "n = draw_significance_hierarchy(results.loc[results.observed>=2], \"C877\", \"MP:0009642\", mp_graph, MPO2, hier_df_genes, \n",
    "                                term_mapping, select_on=\"ppv\", \n",
    "                                size_by=\"obs\", alpha_by=\"x\",color_by=\"q\", vert=12, label=\"leaf\", \n",
    "                                descriptive_labels=True, adjust_root=0.1)"
   ]
  }
 ],
 "metadata": {
  "celltoolbar": "Initialization Cell",
  "kernelspec": {
   "display_name": "Python [conda env:netcoloc]",
   "language": "python",
   "name": "conda-env-netcoloc-py"
  },
  "language_info": {
   "codemirror_mode": {
    "name": "ipython",
    "version": 3
   },
   "file_extension": ".py",
   "mimetype": "text/x-python",
   "name": "python",
   "nbconvert_exporter": "python",
   "pygments_lexer": "ipython3",
   "version": "3.9.7"
  },
  "toc": {
   "base_numbering": 1,
   "nav_menu": {},
   "number_sections": true,
   "sideBar": true,
   "skip_h1_title": false,
   "title_cell": "Table of Contents",
   "title_sidebar": "Contents",
   "toc_cell": false,
   "toc_position": {
    "height": "calc(100% - 180px)",
    "left": "10px",
    "top": "150px",
    "width": "341.449px"
   },
   "toc_section_display": true,
   "toc_window_display": true
  },
  "varInspector": {
   "cols": {
    "lenName": 16,
    "lenType": 16,
    "lenVar": 40
   },
   "kernels_config": {
    "python": {
     "delete_cmd_postfix": "",
     "delete_cmd_prefix": "del ",
     "library": "var_list.py",
     "varRefreshCmd": "print(var_dic_list())"
    },
    "r": {
     "delete_cmd_postfix": ") ",
     "delete_cmd_prefix": "rm(",
     "library": "var_list.r",
     "varRefreshCmd": "cat(var_dic_list()) "
    }
   },
   "types_to_exclude": [
    "module",
    "function",
    "builtin_function_or_method",
    "instance",
    "_Feature"
   ],
   "window_display": false
  }
 },
 "nbformat": 4,
 "nbformat_minor": 2
}
