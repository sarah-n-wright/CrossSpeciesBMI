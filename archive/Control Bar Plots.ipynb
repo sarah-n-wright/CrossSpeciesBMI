{
 "cells": [
  {
   "cell_type": "markdown",
   "metadata": {},
   "source": [
    "# Set Up"
   ]
  },
  {
   "cell_type": "code",
   "execution_count": 2,
   "metadata": {
    "ExecuteTime": {
     "end_time": "2022-07-01T18:12:15.878447Z",
     "start_time": "2022-07-01T18:11:43.601700Z"
    }
   },
   "outputs": [],
   "source": [
    "import pandas as pd\n",
    "import matplotlib.pyplot as plt\n",
    "import numpy as np\n",
    "from netcoloc import network_colocalization, netprop_zscore\n",
    "import seaborn as sns"
   ]
  },
  {
   "cell_type": "code",
   "execution_count": 3,
   "metadata": {
    "ExecuteTime": {
     "end_time": "2022-07-01T18:12:17.871308Z",
     "start_time": "2022-07-01T18:12:15.888000Z"
    }
   },
   "outputs": [],
   "source": [
    "from analysis_functions import *\n",
    "from plotting_functions import *\n",
    "from updated_netcoloc_functions import *"
   ]
  },
  {
   "cell_type": "code",
   "execution_count": 4,
   "metadata": {
    "ExecuteTime": {
     "end_time": "2022-07-01T18:12:17.881979Z",
     "start_time": "2022-07-01T18:12:17.880183Z"
    }
   },
   "outputs": [],
   "source": [
    "DATADIR= '~/Data/rat/data/final/'# location of input datasets\n",
    "OUTDIR= '/cellar/users/snwright/Data/Transfer/rat/' # path to save intermediate and final datasets\n",
    "ratThresh='relaxed'\n",
    "num_reps=1000\n",
    "mapper='PASCAL'\n",
    "adj_type='bonf'\n",
    "rerun_analysis=False"
   ]
  },
  {
   "cell_type": "code",
   "execution_count": 5,
   "metadata": {
    "ExecuteTime": {
     "end_time": "2022-07-01T18:12:25.927090Z",
     "start_time": "2022-07-01T18:12:25.852328Z"
    }
   },
   "outputs": [],
   "source": [
    "\n",
    "def calculate_significance_colocalized_network(z_dict, seed_dict, num_permutations=100, verbose=True, zthresh=3,\n",
    "                                              overlap_control=None, d1=None, d2=None):\n",
    "    \"\"\"\n",
    "    :param z_dict:\n",
    "    :param seed_dict:\n",
    "    :param num_permutations:\n",
    "    :param verbose:\n",
    "    :param zthresh:\n",
    "    \"\"\"\n",
    "\n",
    "    focal_diseases = list(z_dict.keys())\n",
    "    focal_diseases.reverse()\n",
    "    # get all combinations of diseases\n",
    "    focal_combinations = itertools.combinations(focal_diseases, 2)\n",
    "    # set up data frame to store results\n",
    "    network_overlap = pd.DataFrame({\"trait_pair\": focal_combinations})\n",
    "    network_overlap = network_overlap.reindex(columns=[\"num_overlap\", \"obs_exp\", \"pval_overlap\", \n",
    "                                                       \"exp_mean_overlap\", \"exp_std_overlap\"], \n",
    "                                              index = network_overlap.trait_pair.values)\n",
    "    # iterate over trait pairs\n",
    "    for trait_pair in network_overlap.index.values:\n",
    "        #extract the two traits\n",
    "        d1, d2 = trait_pair\n",
    "        # get the associated seed genes\n",
    "        seed1 = seed_dict[d1]\n",
    "        seed2 = seed_dict[d2]\n",
    "        # get the z scores following network propagation\n",
    "        z1=z_dict[d1]\n",
    "        z2=z_dict[d2] \n",
    "        if overlap_control == \"remove\":\n",
    "            overlapping_seeds = np.intersect1d(seed1,seed2)\n",
    "            z1_noseeds = z1.drop(overlapping_seeds, axis=0, inplace=True)\n",
    "            z2_noseeds = z2.drop(overlapping_seeds, axis=0, inplace=True)\n",
    "        elif overlap_control == \"bin\":\n",
    "            overlapping_seeds = np.intersect1d(seed1,seed2)\n",
    "            overlap_z1 = z1.loc[overlapping_seeds]\n",
    "            overlap_z2 = z2.loc[overlapping_seeds]\n",
    "            z1_noseeds = z1.drop(overlapping_seeds, axis=0, inplace=True)\n",
    "            z2_noseeds = z2.drop(overlapping_seeds, axis=0, inplace=True)\n",
    "\n",
    "        if preserve_topology == False:   \n",
    "            # perform permutations to calculate expected size of colocalized network\n",
    "            if overlap_control in [\"remove\", \"bin\"]:\n",
    "                z_d1d2_size,high_z_rand=network_colocalization.calculate_expected_overlap(z1_noseeds['z'],z2_noseeds['z'],\n",
    "                                                                                      plot=False,num_reps=num_permutations,\n",
    "                                                                                      z_score_threshold=zthresh,\n",
    "                                                                                      z1_threshold=1.0,\n",
    "                                                                                      z2_threshold=1.0)\n",
    "                if overlap_control == \"bin\":\n",
    "                    z_d1d2_size_overlap, high_z_rand_overlap = network_colocalization.calculate_expected_overlap(overlap_z1['z'],overlap_z2['z'],\n",
    "                                                                                      plot=False,num_reps=num_permutations,\n",
    "                                                                                      z_score_threshold=zthresh,\n",
    "                                                                                      z1_threshold=1.0,\n",
    "                                                                                      z2_threshold=1.0)\n",
    "                    z_d1d2_size += z_d1d2_size_overlap\n",
    "                    high_z_rand = list(np.array(high_z_rand) + np.array(high_z_rand_overlap))\n",
    "            else:\n",
    "                z_d1d2_size,high_z_rand=network_colocalization.calculate_expected_overlap(z1['z'],z2['z'],\n",
    "                                                                                      plot=False,num_reps=num_permutations,\n",
    "                                                                                      z_score_threshold=zthresh,\n",
    "                                                                                      z1_threshold=1.0,\n",
    "                                                                                      z2_threshold=1.0)\n",
    "        # store statistics in results table\n",
    "        ztemp = (z_d1d2_size-np.mean(high_z_rand))/np.std(high_z_rand)\n",
    "        ptemp = norm.sf(ztemp)\n",
    "        obs_exp_temp = float(z_d1d2_size)/np.mean(high_z_rand)\n",
    "    \n",
    "        network_overlap.loc[[trait_pair]] = [z_d1d2_size,obs_exp_temp, ptemp,np.mean(high_z_rand), np.std(high_z_rand)]\n",
    "        if verbose:\n",
    "            print(d1+' + '+d2+'\\ninclude seeds')\n",
    "            print('overlapping seeds = '+str(len(np.intersect1d(seed1,seed2))))\n",
    "            print(\"Observed overlap:\", z_d1d2_size)\n",
    "            print(\"Observed/expected:\",obs_exp_temp)\n",
    "            print(\"Probability of observed\", ptemp)\n",
    "            print('\\n')   \n",
    "        \n",
    "    return(network_overlap)\n",
    "\n",
    "## Added to netcoloc\n",
    "def calculate_expected_overlap(z_scores_1, z_scores_2, seed1=None, seed2=None, \n",
    "                               z_score_threshold=3, z1_threshold=1.5,\n",
    "                               z2_threshold=1.5,\n",
    "                               num_reps=1000, plot=False, overlap_control=None):\n",
    "    \"\"\"\n",
    "    Determines size of expected network overlap by randomly\n",
    "    shuffling gene names\n",
    "\n",
    "    :param z_scores_1: Result from :py:func:`~netcoloc.netprop_zscore.netprop_zscore`\n",
    "                       or :py:func:`~netcoloc.netprop_zscore.calculate_heat_zscores`\n",
    "                       containing the z-scores of each gene following network\n",
    "                       propagation. The index consists of gene names\n",
    "    :type z_scores_1: :py:class:`pandas.Series`\n",
    "    :param z_scores_2: Similar to **z_scores_1**. This and **z_scores_1**\n",
    "                       must contain the same genes (ie. come from the same\n",
    "                       interactome network)\n",
    "    :type z_scores_2: :py:class:`pandas.Series`\n",
    "    :param z_score_threshold: threshold to determine whether a gene is\n",
    "        a part of the network overlap or not. Genes with combined z-scores\n",
    "        below this threshold will be discarded\n",
    "    :type z_score_threshold: float\n",
    "    :param z1_threshold: individual z1-score threshold to determine whether a gene is\n",
    "        a part of the network overlap or not. Genes with z1-scores\n",
    "        below this threshold will be discarded\n",
    "    :type z1_threshold: float\n",
    "    :param z2_threshold: individual z2-score threshold to determine whether a gene is\n",
    "        a part of the network overlap or not. Genes with z2-scores\n",
    "        below this threshold will be discarded\n",
    "    :type z2_threshold: float\n",
    "    :param num_reps:\n",
    "    :param plot: If ``True``, distribution will be plotted\n",
    "    :type plot: bool\n",
    "    :return:\n",
    "    :rtype: float\n",
    "    \"\"\"\n",
    "    # Build a distribution of expected network overlap sizes by shuffling node names\n",
    "    random_network_overlap_sizes = []\n",
    "    if isinstance(z_scores_1, pd.DataFrame):\n",
    "        z1z2 = z_scores_1.join(z_scores_2, lsuffix=\"1\", rsuffix=\"2\")\n",
    "        z1z2 = z1z2.assign(zz=z1z2.z1 * z1z2.z2)\n",
    "    elif isinstance(z_scores_1, pd.Series):\n",
    "        z1z2 = pd.concat([z_scores_1, z_scores_2], axis=1)\n",
    "    if overlap_control == \"remove\":\n",
    "        seed_overlap = list(set(seed1).intersection(set(seed2)))\n",
    "        print(\"Overlap seed genes:\", len(seed_overlap))\n",
    "        z1z2.drop(seed_overlap, axis=0, inplace=True)\n",
    "    elif overlap_control == \"bin\":\n",
    "        seed_overlap = list(set(seed1).intersection(set(seed2)))\n",
    "        print(\"Overlap seed genes:\", len(seed_overlap))\n",
    "        overlap_z1z2 = z1z2.loc[seed_overlap]\n",
    "        overlap_z1 = np.array(overlap_z1z2.z1)\n",
    "        overlap_z2 = np.array(overlap_z1z2.z2)\n",
    "        z1z2.drop(seed_overlap, axis=0, inplace=True)\n",
    "    z1 = np.array(z1z2.z1)\n",
    "    z2 = np.array(z1z2.z2)\n",
    "    \n",
    "    network_overlap_size = len(calculate_network_overlap(z1z2.z1, z1z2.z2,\n",
    "                                                         z_score_threshold=z_score_threshold,\n",
    "                                                         z1_threshold=z1_threshold,\n",
    "                                                         z2_threshold=z2_threshold))\n",
    "    network_overlap_size += len(calculate_network_overlap(overlap_z1z2.z1, overlap_z1z2.z2,\n",
    "                                                         z_score_threshold=z_score_threshold,\n",
    "                                                         z1_threshold=z1_threshold,\n",
    "                                                         z2_threshold=z2_threshold))\n",
    "    \n",
    "    random_network_overlap_sizes = np.zeros(num_reps)\n",
    "    for i in tqdm(range(num_reps)):\n",
    "        perm_z1z2 = np.zeros(len(z1))\n",
    "        rn.shuffle(z1)\n",
    "        perm_size = len(calculate_network_overlap(z1, z2,\n",
    "                                                         z_score_threshold=z_score_threshold,\n",
    "                                                         z1_threshold=z1_threshold,\n",
    "                                                         z2_threshold=z2_threshold))\n",
    "        if overlap_control == \"bin\":\n",
    "            overlap_perm_z1z2 = np.zeros(len(overlap_z1))\n",
    "            rn.shuffle(overlap_z1) \n",
    "            perm_size_overlap = len(calculate_network_overlap(overlap_z1, overlap_z2,\n",
    "                                                         z_score_threshold=z_score_threshold,\n",
    "                                                         z1_threshold=z1_threshold,\n",
    "                                                         z2_threshold=z2_threshold))\n",
    "            \n",
    "            perm_size += perm_size_overlap\n",
    "                    \n",
    "        \n",
    "        random_network_overlap_sizes[i] = perm_size\n",
    "    \n",
    "\n",
    "    if plot:\n",
    "        plt.figure(figsize=(5, 4))\n",
    "        dfig = sns.histplot(random_network_overlap_sizes,\n",
    "                            label='Expected network intersection size')\n",
    "        plt.vlines(network_overlap_size, ymin=0, ymax=dfig.dataLim.bounds[3], color='r',\n",
    "                   label='Observed network intersection size')\n",
    "        plt.xlabel('Size of proximal subgraph, z > ' + str(z_score_threshold),\n",
    "                   fontsize=16)\n",
    "        plt.legend(fontsize=12)\n",
    "\n",
    "    return network_overlap_size, random_network_overlap_sizes\n",
    "\n",
    "     \n",
    "def plot_overlap_significance(primary, secondary, results_table):\n",
    "    \"\"\"\n",
    "    :param primary:\n",
    "    :param secondary:\n",
    "    :param results_table:\n",
    "    \"\"\"\n",
    "    pairs = [(primary, s)  if (primary, s) in results_table.index else (s, primary) for s in secondary]\n",
    "    pairs_data = results_table.loc[pairs]\n",
    "    pairs_data['xlabel'] = [primary+ \"-\" + s for s in secondary]\n",
    "    pairs_data['yerr_lower'] = pairs_data.apply(lambda x: x.obs_exp - x.num_overlap/(x.exp_mean_overlap + 1.96*x.exp_std_overlap), axis = 1)\n",
    "    pairs_data['yerr_upper'] = pairs_data.apply(lambda x: x.num_overlap/(x.exp_mean_overlap - 1.96*x.exp_std_overlap) - x.obs_exp, axis = 1)\n",
    "\n",
    "    plt.figure(figsize = (4,3))\n",
    "    plt.errorbar(np.arange(len(pairs_data)),pairs_data['obs_exp'],\n",
    "             yerr=[pairs_data['yerr_lower'],pairs_data['yerr_upper']],\n",
    "             fmt='o',color='k')\n",
    "    tmp=plt.xticks(np.arange(len(pairs_data)), pairs_data['xlabel'],fontsize=16,rotation='vertical')\n",
    "    plt.ylabel('observed/expected size \\nof network intersection\\n(95% CI)',fontsize=16)\n",
    "    plt.hlines(1,xmin=-.5,xmax=len(pairs_data),color='gray',linestyles='dashed')\n",
    "    plt.yticks(fontsize=16)\n",
    "    plt.xlim([-.5,len(pairs_data)-.5])\n",
    "    \n",
    "def plot_permutation_histogram(permuted, observed, title, xlabel, color=\"cornflowerblue\", arrow_color=\"red\"):\n",
    "    \"\"\"\n",
    "    Plot the observed mean of NPS_hr against a density histrogram of the means of permuted NPS_hr\n",
    "    :param permuted: Vector of means of permuted NPS_hr\n",
    "    :param observed: Observed mean of NPS_hr\n",
    "    :param title: String for plot title\n",
    "    :param xlabel: String for x-axis label\n",
    "    \"\"\"\n",
    "    plt.figure(figsize=(5, 4))\n",
    "    dfig = sns.histplot(permuted, label='Permuted', alpha=0.4, stat='density', bins=25, kde=True, \n",
    "                        edgecolor='w', color=color)\n",
    "    params = {'mathtext.default': 'regular' }          \n",
    "    plt.rcParams.update(params)\n",
    "    plt.xlabel(xlabel, fontsize=16)\n",
    "    diff = max(observed, max(permuted))-min(permuted)\n",
    "    plt.arrow(x = observed, y=dfig.dataLim.bounds[3]/2, dx=0, dy = -1 * dfig.dataLim.bounds[3]/2,label = \"Observed\",\n",
    "              width=diff/100, head_width=diff/15, head_length=dfig.dataLim.bounds[3]/20, overhang=0.5, \n",
    "              length_includes_head=True, color=arrow_color, zorder=50)\n",
    "    #plt.xlabel(xlabel, fontsize=12)\n",
    "    plt.ylabel(\"Density\", fontsize=16)\n",
    "    plt.legend(fontsize=12, loc=(0.6,0.75))\n",
    "    plt.xticks(fontsize=12)\n",
    "    plt.yticks(fontsize=12)\n",
    "    plt.locator_params(axis=\"y\", nbins=6)\n",
    "    plt.title(title+\" (p=\"+str(get_p_from_permutation_results(observed, permuted))+\")\", fontsize=16)\n",
    "\n",
    "## Added to netcoloc\n",
    "def get_p_from_permutation_results(observed, permuted):\n",
    "    \"\"\"\n",
    "    Calculates the significance of the observed mean relative to the empirical normal distribution of permuted means.\n",
    "    :param observed: observed mean NPS_hr\n",
    "    :param permuted: vector of means from permuted NPS_hr\n",
    "    \"\"\"\n",
    "    p = norm.sf((observed-np.mean(permuted))/np.std(permuted))\n",
    "    p = round(p, 4 - int(math.floor(math.log10(abs(p)))) - 1)\n",
    "    return(p)\n",
    "\n",
    "\n",
    "## Added to netcoloc\n",
    "def calculate_network_overlap(z_scores_1, z_scores_2, z_score_threshold=3,\n",
    "                              z1_threshold=1.5, z2_threshold=1.5):\n",
    "    \"\"\"\n",
    "    Function to determine which genes overlap. Returns a list of the\n",
    "    overlapping genes\n",
    "\n",
    "    :param z_scores_1: Result from :py:func:`~netcoloc.netprop_zscore.netprop_zscore`\n",
    "                       or :py:func:`~netcoloc.netprop_zscore.calculate_heat_zscores`\n",
    "                       containing the z-scores of each gene following network\n",
    "                       propagation. The index consists of gene names\n",
    "    :type z_scores_1: :py:class:`pandas.Series`\n",
    "    :param z_scores_2: Similar to **z_scores_1**. This and **z_scores_1**\n",
    "                       must contain the same genes (ie. come from the same\n",
    "                       interactome network)\n",
    "    :type z_scores_2: :py:class:`pandas.Series`\n",
    "    :param z_score_threshold: threshold to determine whether a gene is\n",
    "        a part of the network overlap or not. Genes with combined z-scores\n",
    "        below this threshold will be discarded\n",
    "    :type z_score_threshold: float\n",
    "    :param z1_threshold: individual z1-score threshold to determine whether a gene is\n",
    "        a part of the network overlap or not. Genes with z1-scores\n",
    "        below this threshold will be discarded\n",
    "    :type z1_threshold: float\n",
    "    :param z2_threshold: individual z2-score threshold to determine whether a gene is\n",
    "        a part of the network overlap or not. Genes with z2-scores\n",
    "        below this threshold will be discarded\n",
    "    :type z2_threshold: float\n",
    "    :return: genes in the network overlap (genes with high combined\n",
    "            z-scores)\n",
    "    :rtype: list\n",
    "    \"\"\"\n",
    "    if isinstance(z_scores_1, pd.Series):\n",
    "        z_scores_1 = z_scores_1.to_frame(name='z_scores_1')\n",
    "        z_scores_2 = z_scores_2.to_frame(name='z_scores_2')\n",
    "    elif isinstance(z_scores_1, np.ndarray):\n",
    "        z_scores_1 = pd.DataFrame({\"z_scores_1\":z_scores_1})\n",
    "        z_scores_2 = pd.DataFrame({\"z_scores_2\":z_scores_2})\n",
    "    else:\n",
    "        z_scores_1.columns = [\"z_scores_1\"]\n",
    "        z_scores_2.columns = [\"z_scores_2\"]\n",
    "    z_scores_joined = z_scores_1.join(z_scores_2)\n",
    "    z_scores_combined = (z_scores_joined['z_scores_1']\n",
    "                        * z_scores_joined['z_scores_2']\n",
    "                        * (z_scores_joined['z_scores_1'] > 0)\n",
    "                        * (z_scores_joined['z_scores_2'] > 0))\n",
    "    # get rid of unlikely genes which have low scores in either z1 or z2\n",
    "    high_z_score_genes = z_scores_combined[\n",
    "        (z_scores_combined >= z_score_threshold)\n",
    "         & (z_scores_joined['z_scores_1'] > z1_threshold)\n",
    "         & (z_scores_joined['z_scores_2'] > z2_threshold)\n",
    "    ].index.tolist()\n",
    "\n",
    "    return high_z_score_genes\n"
   ]
  },
  {
   "cell_type": "code",
   "execution_count": 6,
   "metadata": {
    "ExecuteTime": {
     "end_time": "2022-07-01T18:12:31.211249Z",
     "start_time": "2022-07-01T18:12:31.207604Z"
    }
   },
   "outputs": [],
   "source": [
    "def plot_trait_bar(obs, perm, ci=0.95):\n",
    "    transform = np.mean(perm) / perm\n",
    "    avg = np.mean(transform)\n",
    "    upper = np.quantile(transform, ci)\n",
    "    lower = np.quantile(transform, 1-ci)\n",
    "    observation = obs / np.mean(perm)\n",
    "    p_value = get_p_from_permutation_results(obs, perm)\n",
    "    plt.bar([\"observed\", \"permuted\"], [observation, avg], yerr=[[0, avg - lower], [0, upper- avg]], capsize=4,edgecolor=\"black\")\n",
    "\n",
    "def plot_control_bar(obs, perm, trait, ci=0.95):\n",
    "    transform = obs / perm\n",
    "    avg = np.mean(transform)\n",
    "    upper = np.quantile(transform, ci)\n",
    "    lower = np.quantile(transform, 1-ci)\n",
    "    p_value = get_p_from_permutation_results(obs, perm)\n",
    "    return pd.DataFrame({\"Mean\":avg, \"Upper\":upper, \"Lower\":lower, \"p\":p_value}, index=[trait])\n",
    "    #plt.bar([\"control\"], [avg], yerr=[[avg-lower], [upper-avg]])    "
   ]
  },
  {
   "cell_type": "code",
   "execution_count": 7,
   "metadata": {
    "ExecuteTime": {
     "end_time": "2022-07-01T18:12:31.848901Z",
     "start_time": "2022-07-01T18:12:31.846280Z"
    }
   },
   "outputs": [],
   "source": [
    "def load_human_seed_genes(filepath, interactome_nodes, trait=''):\n",
    "    \"\"\"\n",
    "    :param filepath:\n",
    "    :param interactome_nodes:\n",
    "    :param trait:\n",
    "    \"\"\"\n",
    "    all_scores = pd.read_csv(filepath, sep=\"\\t\", index_col='gene_symbol')\n",
    "    # subset to genes in the interactome\n",
    "    all_scores = all_scores.loc[list(np.intersect1d(all_scores.index.tolist(), interactome_nodes))]\n",
    "    # Calculate bonferroni corrected pvalue (alpha=0.05)\n",
    "    bonf_p = .05/len(all_scores)\n",
    "    # Get significant genes\n",
    "    seeds = all_scores[all_scores['pvalue'] < bonf_p].index.tolist()\n",
    "    print(\"Number of\",trait,\"seeds:\", len(seeds))\n",
    "    return seeds"
   ]
  },
  {
   "cell_type": "code",
   "execution_count": 19,
   "metadata": {
    "ExecuteTime": {
     "end_time": "2022-07-01T18:48:00.156210Z",
     "start_time": "2022-07-01T18:47:46.121299Z"
    }
   },
   "outputs": [
    {
     "name": "stdout",
     "output_type": "stream",
     "text": [
      "number of nodes:\n",
      "18820\n",
      "\n",
      "number of edges:\n",
      "2693109\n"
     ]
    }
   ],
   "source": [
    "pc_nodes, G_PC = load_pcnet()"
   ]
  },
  {
   "cell_type": "code",
   "execution_count": 20,
   "metadata": {
    "ExecuteTime": {
     "end_time": "2022-07-01T18:48:03.488693Z",
     "start_time": "2022-07-01T18:48:03.122911Z"
    }
   },
   "outputs": [
    {
     "name": "stdout",
     "output_type": "stream",
     "text": [
      "Number of BMI seeds: 1958\n",
      "Number of height seeds: 6140\n"
     ]
    }
   ],
   "source": [
    "# Human BMI seed genes\n",
    "seed_bin_human_BMI = load_human_seed_genes(DATADIR+'GIANT_BMI_pascal.sum.genescores.txt', \n",
    "                                           pc_nodes, 'BMI')\n",
    "# Human standing height seed genes\n",
    "seed_bin_human_height = load_human_seed_genes(DATADIR+'GIANT_standing_height_pascal.sum.genescores.txt', \n",
    "                                              pc_nodes, 'height')"
   ]
  },
  {
   "cell_type": "code",
   "execution_count": 21,
   "metadata": {
    "ExecuteTime": {
     "end_time": "2022-07-01T18:48:04.226375Z",
     "start_time": "2022-07-01T18:48:04.180475Z"
    }
   },
   "outputs": [
    {
     "name": "stdout",
     "output_type": "stream",
     "text": [
      "Number of rat BL seeds: 337\n",
      "Number of rat BMI seeds: 295\n"
     ]
    }
   ],
   "source": [
    "seed_bin_rat_BL=pd.read_csv(DATADIR+'ratBL_seed_'+ratThresh+'.txt',sep='\\t')['0'].tolist()\n",
    "print(\"Number of rat BL seeds:\", len(seed_bin_rat_BL))\n",
    "\n",
    "seed_bin_rat_BMI=pd.read_csv(DATADIR+'ratBMI_seed_'+ratThresh+'.txt',sep='\\t')['0'].tolist()\n",
    "print(\"Number of rat BMI seeds:\", len(seed_bin_rat_BMI))"
   ]
  },
  {
   "cell_type": "code",
   "execution_count": 60,
   "metadata": {
    "ExecuteTime": {
     "end_time": "2022-07-01T18:58:31.532932Z",
     "start_time": "2022-07-01T18:58:31.480509Z"
    },
    "init_cell": true
   },
   "outputs": [
    {
     "name": "stdout",
     "output_type": "stream",
     "text": [
      "Number of AR seeds: 34\n",
      "Number of BP1 seeds: 316\n",
      "Number of BP4 seeds: 239\n"
     ]
    }
   ],
   "source": [
    "# Human control trait seed genes\n",
    "seed_bin_human_AR = pd.read_csv(DATADIR+'humanAR_seed_'+mapper+'_'+adj_type+'_'+ratThresh+'.txt',\n",
    "                               sep=\"\\t\")['0'].tolist() # Arthritis\n",
    "seed_bin_human_BP1 = pd.read_csv(DATADIR+'humanBP1_seed_'+mapper+'_'+adj_type+'_'+ratThresh+'.txt',\n",
    "                               sep=\"\\t\")['0'].tolist() # Balding pattern 1\n",
    "seed_bin_human_BP4 = pd.read_csv(DATADIR+'humanBP4_seed_'+mapper+'_'+adj_type+'_'+ratThresh+'.txt',\n",
    "                               sep=\"\\t\")['0'].tolist() # Balding pattern 4\n",
    "print(\"Number of AR seeds:\", len(seed_bin_human_AR))\n",
    "print(\"Number of BP1 seeds:\", len(seed_bin_human_BP1))\n",
    "print(\"Number of BP4 seeds:\", len(seed_bin_human_BP4))"
   ]
  },
  {
   "cell_type": "code",
   "execution_count": 61,
   "metadata": {
    "ExecuteTime": {
     "end_time": "2022-07-01T18:58:32.949697Z",
     "start_time": "2022-07-01T18:58:32.014530Z"
    }
   },
   "outputs": [],
   "source": [
    "z_human_bin_BMI = netprop_zscore.get_consensus_z_scores(DATADIR+'z_human_bin_BMI_SAMPLED_500_100_weighted.tsv')\n",
    "z_human_bin_height = netprop_zscore.get_consensus_z_scores(DATADIR+'z_human_bin_Height_SAMPLED_500_100_weighted.tsv')\n",
    "out_name = 'rat_BMI_'+ratThresh\n",
    "z_rat_BMI=pd.read_csv(DATADIR+'z_'+out_name+'_'+str(num_reps)+'_reps.tsv',sep='\\t',\n",
    "                          index_col='gene',names=['gene','z'], header=0)\n",
    "out_name = 'rat_BL_'+ratThresh\n",
    "z_rat_BL=pd.read_csv(DATADIR + 'z_'+out_name+'_'+str(num_reps)+'_reps.tsv',sep='\\t',\n",
    "                         index_col='gene', names=['gene', 'z'], header=0)"
   ]
  },
  {
   "cell_type": "code",
   "execution_count": 62,
   "metadata": {
    "ExecuteTime": {
     "end_time": "2022-07-01T18:58:33.265314Z",
     "start_time": "2022-07-01T18:58:33.051156Z"
    }
   },
   "outputs": [],
   "source": [
    "out_name = 'human_AR_'+mapper+'_'+adj_type\n",
    "z_human_bin_AR=pd.read_csv(DATADIR+'z_'+out_name+'_'+str(num_reps)+'_reps.tsv',sep='\\t',\n",
    "                            index_col='gene',names=['gene','z'], header=0)\n",
    "\n",
    "out_name = 'human_BP1_'+mapper+'_'+adj_type\n",
    "z_human_bin_BP1=pd.read_csv(DATADIR+'z_'+out_name+'_'+str(num_reps)+'_reps.tsv',sep='\\t',\n",
    "                            index_col='gene',names=['gene','z'], header=0)\n",
    "\n",
    "out_name = 'human_BP4_'+mapper+'_'+adj_type\n",
    "z_human_bin_BP4=pd.read_csv(DATADIR+'z_'+out_name+'_'+str(num_reps)+'_reps.tsv',sep='\\t',\n",
    "                            index_col='gene',names=['gene','z'], header=0)"
   ]
  },
  {
   "cell_type": "code",
   "execution_count": 63,
   "metadata": {
    "ExecuteTime": {
     "end_time": "2022-07-01T18:58:33.380115Z",
     "start_time": "2022-07-01T18:58:33.377822Z"
    }
   },
   "outputs": [],
   "source": [
    "z_dict = {'hBMI':z_human_bin_BMI,'hHeight':z_human_bin_height,\n",
    "          'rBMI':z_rat_BMI,'rBL':z_rat_BL,\n",
    "          'hAR':z_human_bin_AR,'hBP1':z_human_bin_BP1,\n",
    "          'hBP4':z_human_bin_BP4}\n",
    "\n",
    "seed_dict = {'hBMI':seed_bin_human_BMI,'hHeight':seed_bin_human_height,\n",
    "             'rBMI':seed_bin_rat_BMI,'rBL':seed_bin_rat_BL,\n",
    "             'hAR':seed_bin_human_AR,'hBP1':seed_bin_human_BP1,\n",
    "             'hBP4':seed_bin_human_BP4}"
   ]
  },
  {
   "cell_type": "markdown",
   "metadata": {},
   "source": [
    "# Do Analysis"
   ]
  },
  {
   "cell_type": "code",
   "execution_count": 64,
   "metadata": {
    "ExecuteTime": {
     "end_time": "2022-07-01T18:58:37.095230Z",
     "start_time": "2022-07-01T18:58:37.093676Z"
    }
   },
   "outputs": [],
   "source": [
    "control_results = []"
   ]
  },
  {
   "cell_type": "code",
   "execution_count": 65,
   "metadata": {
    "ExecuteTime": {
     "end_time": "2022-07-01T18:58:51.367527Z",
     "start_time": "2022-07-01T18:58:37.577373Z"
    }
   },
   "outputs": [
    {
     "name": "stdout",
     "output_type": "stream",
     "text": [
      "Overlap seed genes: 2\n"
     ]
    },
    {
     "name": "stderr",
     "output_type": "stream",
     "text": [
      "100%|██████████| 1000/1000 [00:13<00:00, 72.59it/s]\n"
     ]
    }
   ],
   "source": [
    "obs_a, perm_a = calculate_expected_overlap(z_dict['rBMI'], z_dict['hAR'], \n",
    "                                                                      z_score_threshold=3, z1_threshold=1.0,\n",
    "                                                                      z2_threshold=1.0, num_reps=1000, plot=False, \n",
    "                                                                              overlap_control=\"bin\",\n",
    "                                                                              seed1=seed_dict['rBMI'], seed2=seed_dict['hAR'])"
   ]
  },
  {
   "cell_type": "code",
   "execution_count": 66,
   "metadata": {
    "ExecuteTime": {
     "end_time": "2022-07-01T18:58:51.826940Z",
     "start_time": "2022-07-01T18:58:51.510098Z"
    }
   },
   "outputs": [
    {
     "name": "stdout",
     "output_type": "stream",
     "text": [
      "Significance of colocalized network size: 0.9998\n"
     ]
    },
    {
     "data": {
      "image/png": "[encoded data removed]",
      "text/plain": [
       "<Figure size 360x288 with 1 Axes>"
      ]
     },
     "metadata": {
      "needs_background": "light"
     },
     "output_type": "display_data"
    }
   ],
   "source": [
    "\n",
    "control_results.append(plot_control_bar(obs_a, perm_a, \"hAR\"))\n",
    "plot_permutation_histogram(perm_a, obs_a,'rBMI/hAR', 'Size')\n",
    "print(\"Significance of colocalized network size:\", get_p_from_permutation_results(obs_a, perm_a))"
   ]
  },
  {
   "cell_type": "code",
   "execution_count": 67,
   "metadata": {
    "ExecuteTime": {
     "end_time": "2022-07-01T18:59:05.737711Z",
     "start_time": "2022-07-01T18:58:51.961442Z"
    }
   },
   "outputs": [
    {
     "name": "stdout",
     "output_type": "stream",
     "text": [
      "Overlap seed genes: 2\n"
     ]
    },
    {
     "name": "stderr",
     "output_type": "stream",
     "text": [
      "100%|██████████| 1000/1000 [00:13<00:00, 72.66it/s]\n"
     ]
    }
   ],
   "source": [
    "obs_b, perm_b = calculate_expected_overlap(z_dict['rBMI'], z_dict['hBP1'], \n",
    "                                                                      z_score_threshold=3, z1_threshold=1.0,\n",
    "                                                                      z2_threshold=1.0, num_reps=1000, plot=False, \n",
    "                                                                              overlap_control=\"bin\",\n",
    "                                                                              seed1=seed_dict['rBMI'], seed2=seed_dict['hBP1'])"
   ]
  },
  {
   "cell_type": "code",
   "execution_count": 68,
   "metadata": {
    "ExecuteTime": {
     "end_time": "2022-07-01T18:59:06.265812Z",
     "start_time": "2022-07-01T18:59:05.885306Z"
    }
   },
   "outputs": [
    {
     "name": "stdout",
     "output_type": "stream",
     "text": [
      "Significance of colocalized network size: 0.47\n"
     ]
    },
    {
     "data": {
      "image/png": "[encoded data removed]",
      "text/plain": [
       "<Figure size 360x288 with 1 Axes>"
      ]
     },
     "metadata": {
      "needs_background": "light"
     },
     "output_type": "display_data"
    }
   ],
   "source": [
    "control_results.append(plot_control_bar(obs_b, perm_b, \"hBP1\"))\n",
    "plot_permutation_histogram(perm_b, obs_b,'rBMI/hAR', 'Size')\n",
    "print(\"Significance of colocalized network size:\", get_p_from_permutation_results(obs_b, perm_b))"
   ]
  },
  {
   "cell_type": "code",
   "execution_count": null,
   "metadata": {},
   "outputs": [],
   "source": []
  },
  {
   "cell_type": "code",
   "execution_count": 69,
   "metadata": {
    "ExecuteTime": {
     "end_time": "2022-07-01T18:59:20.229228Z",
     "start_time": "2022-07-01T18:59:06.412035Z"
    }
   },
   "outputs": [
    {
     "name": "stdout",
     "output_type": "stream",
     "text": [
      "Overlap seed genes: 1\n"
     ]
    },
    {
     "name": "stderr",
     "output_type": "stream",
     "text": [
      "100%|██████████| 1000/1000 [00:13<00:00, 72.45it/s]\n"
     ]
    }
   ],
   "source": [
    "obs_c, perm_c = calculate_expected_overlap(z_dict['rBMI'], z_dict['hBP4'], \n",
    "                                                                      z_score_threshold=3, z1_threshold=1.0,\n",
    "                                                                      z2_threshold=1.0, num_reps=1000, plot=False, \n",
    "                                                                              overlap_control=\"bin\",\n",
    "                                                                              seed1=seed_dict['rBMI'], seed2=seed_dict['hBP4'])"
   ]
  },
  {
   "cell_type": "code",
   "execution_count": 70,
   "metadata": {
    "ExecuteTime": {
     "end_time": "2022-07-01T18:59:20.702870Z",
     "start_time": "2022-07-01T18:59:20.398087Z"
    }
   },
   "outputs": [
    {
     "name": "stdout",
     "output_type": "stream",
     "text": [
      "Significance of colocalized network size: 0.9677\n"
     ]
    },
    {
     "data": {
      "image/png": "[encoded data removed]",
      "text/plain": [
       "<Figure size 360x288 with 1 Axes>"
      ]
     },
     "metadata": {
      "needs_background": "light"
     },
     "output_type": "display_data"
    }
   ],
   "source": [
    "control_results.append(plot_control_bar(obs_c, perm_c, \"hBP4\"))\n",
    "plot_permutation_histogram(perm_c, obs_c,'rBMI/hAR', 'Size')\n",
    "print(\"Significance of colocalized network size:\", get_p_from_permutation_results(obs_c, perm_c))"
   ]
  },
  {
   "cell_type": "code",
   "execution_count": 71,
   "metadata": {
    "ExecuteTime": {
     "end_time": "2022-07-01T18:59:34.509212Z",
     "start_time": "2022-07-01T18:59:20.858905Z"
    }
   },
   "outputs": [
    {
     "name": "stdout",
     "output_type": "stream",
     "text": [
      "Overlap seed genes: 109\n"
     ]
    },
    {
     "name": "stderr",
     "output_type": "stream",
     "text": [
      "100%|██████████| 1000/1000 [00:13<00:00, 73.34it/s]\n"
     ]
    }
   ],
   "source": [
    "obs_d, perm_d = calculate_expected_overlap(z_dict['rBMI'], z_dict['hHeight'], \n",
    "                                                                      z_score_threshold=3, z1_threshold=1.0,\n",
    "                                                                      z2_threshold=1.0, num_reps=1000, plot=False, \n",
    "                                                                              overlap_control=\"bin\",\n",
    "                                                                              seed1=seed_dict['rBMI'], seed2=seed_dict['hHeight'])"
   ]
  },
  {
   "cell_type": "code",
   "execution_count": 72,
   "metadata": {
    "ExecuteTime": {
     "end_time": "2022-07-01T18:59:34.978970Z",
     "start_time": "2022-07-01T18:59:34.672684Z"
    }
   },
   "outputs": [
    {
     "name": "stdout",
     "output_type": "stream",
     "text": [
      "Significance of colocalized network size: 0.9454\n"
     ]
    },
    {
     "data": {
      "image/png": "[encoded data removed]",
      "text/plain": [
       "<Figure size 360x288 with 1 Axes>"
      ]
     },
     "metadata": {
      "needs_background": "light"
     },
     "output_type": "display_data"
    }
   ],
   "source": [
    "control_results.append(plot_control_bar(obs_d, perm_d, \"hHeight\"))\n",
    "plot_permutation_histogram(perm_d, obs_d,'rBMI/hHeight', 'Size')\n",
    "print(\"Significance of colocalized network size:\", get_p_from_permutation_results(obs_d, perm_d))"
   ]
  },
  {
   "cell_type": "code",
   "execution_count": 73,
   "metadata": {
    "ExecuteTime": {
     "end_time": "2022-07-01T18:59:48.796710Z",
     "start_time": "2022-07-01T18:59:35.145344Z"
    }
   },
   "outputs": [
    {
     "name": "stdout",
     "output_type": "stream",
     "text": [
      "Overlap seed genes: 25\n"
     ]
    },
    {
     "name": "stderr",
     "output_type": "stream",
     "text": [
      "100%|██████████| 1000/1000 [00:13<00:00, 73.33it/s]\n"
     ]
    }
   ],
   "source": [
    "obs_e, perm_e = calculate_expected_overlap(z_dict['rBMI'], z_dict['rBL'], \n",
    "                                                                      z_score_threshold=3, z1_threshold=1.0,\n",
    "                                                                      z2_threshold=1.0, num_reps=1000, plot=False, \n",
    "                                                                              overlap_control=\"bin\",\n",
    "                                                                              seed1=seed_dict['rBMI'], seed2=seed_dict['rBL'])"
   ]
  },
  {
   "cell_type": "code",
   "execution_count": 74,
   "metadata": {
    "ExecuteTime": {
     "end_time": "2022-07-01T18:59:49.377940Z",
     "start_time": "2022-07-01T18:59:48.985792Z"
    }
   },
   "outputs": [
    {
     "name": "stdout",
     "output_type": "stream",
     "text": [
      "Significance of colocalized network size: 9.112e-08\n"
     ]
    },
    {
     "data": {
      "image/png": "[encoded data removed]",
      "text/plain": [
       "<Figure size 360x288 with 1 Axes>"
      ]
     },
     "metadata": {
      "needs_background": "light"
     },
     "output_type": "display_data"
    }
   ],
   "source": [
    "control_results.append(plot_control_bar(obs_e, perm_e, \"rBL\"))\n",
    "plot_permutation_histogram(perm_e, obs_e,'rBMI/rBL', 'Size')\n",
    "print(\"Significance of colocalized network size:\", get_p_from_permutation_results(obs_e, perm_e))"
   ]
  },
  {
   "cell_type": "code",
   "execution_count": 75,
   "metadata": {
    "ExecuteTime": {
     "end_time": "2022-07-01T19:00:03.300772Z",
     "start_time": "2022-07-01T18:59:49.560195Z"
    }
   },
   "outputs": [
    {
     "name": "stdout",
     "output_type": "stream",
     "text": [
      "Overlap seed genes: 29\n"
     ]
    },
    {
     "name": "stderr",
     "output_type": "stream",
     "text": [
      "100%|██████████| 1000/1000 [00:13<00:00, 72.86it/s]\n"
     ]
    }
   ],
   "source": [
    "obs_f, perm_f = calculate_expected_overlap(z_dict['rBMI'], z_dict['hBMI'], \n",
    "                                                                      z_score_threshold=3, z1_threshold=1.0,\n",
    "                                                                      z2_threshold=1.0, num_reps=1000, plot=False, \n",
    "                                                                              overlap_control=\"bin\",\n",
    "                                                                              seed1=seed_dict['rBMI'], seed2=seed_dict['hBMI'])"
   ]
  },
  {
   "cell_type": "code",
   "execution_count": 76,
   "metadata": {
    "ExecuteTime": {
     "end_time": "2022-07-01T19:00:03.856005Z",
     "start_time": "2022-07-01T19:00:03.487833Z"
    }
   },
   "outputs": [
    {
     "name": "stdout",
     "output_type": "stream",
     "text": [
      "Significance of colocalized network size: 2.251e-08\n"
     ]
    },
    {
     "data": {
      "image/png": "[encoded data removed]",
      "text/plain": [
       "<Figure size 360x288 with 1 Axes>"
      ]
     },
     "metadata": {
      "needs_background": "light"
     },
     "output_type": "display_data"
    }
   ],
   "source": [
    "control_results.append(plot_control_bar(obs_f, perm_f, \"hBMI\"))\n",
    "plot_permutation_histogram(perm_f, obs_f,'rBMI/rBL', 'Size')\n",
    "print(\"Significance of colocalized network size:\", get_p_from_permutation_results(obs_f, perm_f))"
   ]
  },
  {
   "cell_type": "code",
   "execution_count": 77,
   "metadata": {
    "ExecuteTime": {
     "end_time": "2022-07-01T19:00:17.747208Z",
     "start_time": "2022-07-01T19:00:04.043098Z"
    }
   },
   "outputs": [
    {
     "name": "stdout",
     "output_type": "stream",
     "text": [
      "Overlap seed genes: 57\n"
     ]
    },
    {
     "name": "stderr",
     "output_type": "stream",
     "text": [
      "100%|██████████| 1000/1000 [00:13<00:00, 73.04it/s]\n"
     ]
    }
   ],
   "source": [
    "obs_g, perm_g = calculate_expected_overlap(z_dict['rBL'], z_dict['hBMI'], \n",
    "                                                                      z_score_threshold=3, z1_threshold=1.0,\n",
    "                                                                      z2_threshold=1.0, num_reps=1000, plot=False, \n",
    "                                                                              overlap_control=\"bin\",\n",
    "                                                                              seed1=seed_dict['rBL'], seed2=seed_dict['hBMI'])"
   ]
  },
  {
   "cell_type": "code",
   "execution_count": 78,
   "metadata": {
    "ExecuteTime": {
     "end_time": "2022-07-01T19:00:17.949475Z",
     "start_time": "2022-07-01T19:00:17.947019Z"
    }
   },
   "outputs": [],
   "source": [
    "control_results.append(plot_control_bar(obs_g, perm_g, \"rBL/hBMI\"))"
   ]
  },
  {
   "cell_type": "code",
   "execution_count": 79,
   "metadata": {
    "ExecuteTime": {
     "end_time": "2022-07-01T19:00:31.914874Z",
     "start_time": "2022-07-01T19:00:18.148195Z"
    }
   },
   "outputs": [
    {
     "name": "stdout",
     "output_type": "stream",
     "text": [
      "Overlap seed genes: 166\n"
     ]
    },
    {
     "name": "stderr",
     "output_type": "stream",
     "text": [
      "100%|██████████| 1000/1000 [00:13<00:00, 72.71it/s]\n"
     ]
    }
   ],
   "source": [
    "obs_h, perm_h = calculate_expected_overlap(z_dict['rBL'], z_dict['hHeight'], \n",
    "                                                                      z_score_threshold=3, z1_threshold=1.0,\n",
    "                                                                      z2_threshold=1.0, num_reps=1000, plot=False, \n",
    "                                                                              overlap_control=\"bin\",\n",
    "                                                                              seed1=seed_dict['rBL'], seed2=seed_dict['hHeight'])"
   ]
  },
  {
   "cell_type": "code",
   "execution_count": 80,
   "metadata": {
    "ExecuteTime": {
     "end_time": "2022-07-01T19:00:32.496305Z",
     "start_time": "2022-07-01T19:00:32.493949Z"
    }
   },
   "outputs": [],
   "source": [
    "control_results.append(plot_control_bar(obs_h, perm_h, \"hBL/Height\"))\n"
   ]
  },
  {
   "cell_type": "code",
   "execution_count": 81,
   "metadata": {
    "ExecuteTime": {
     "end_time": "2022-07-01T19:00:32.708003Z",
     "start_time": "2022-07-01T19:00:32.705890Z"
    }
   },
   "outputs": [],
   "source": [
    "control_results = pd.concat(control_results)"
   ]
  },
  {
   "cell_type": "code",
   "execution_count": 82,
   "metadata": {
    "ExecuteTime": {
     "end_time": "2022-07-01T19:00:32.909117Z",
     "start_time": "2022-07-01T19:00:32.903850Z"
    }
   },
   "outputs": [
    {
     "data": {
      "text/html": [
       "<div>\n",
       "<style scoped>\n",
       "    .dataframe tbody tr th:only-of-type {\n",
       "        vertical-align: middle;\n",
       "    }\n",
       "\n",
       "    .dataframe tbody tr th {\n",
       "        vertical-align: top;\n",
       "    }\n",
       "\n",
       "    .dataframe thead th {\n",
       "        text-align: right;\n",
       "    }\n",
       "</style>\n",
       "<table border=\"1\" class=\"dataframe\">\n",
       "  <thead>\n",
       "    <tr style=\"text-align: right;\">\n",
       "      <th></th>\n",
       "      <th>Mean</th>\n",
       "      <th>Upper</th>\n",
       "      <th>Lower</th>\n",
       "      <th>p</th>\n",
       "    </tr>\n",
       "  </thead>\n",
       "  <tbody>\n",
       "    <tr>\n",
       "      <th>hAR</th>\n",
       "      <td>0.799305</td>\n",
       "      <td>0.876349</td>\n",
       "      <td>0.729008</td>\n",
       "      <td>9.998000e-01</td>\n",
       "    </tr>\n",
       "    <tr>\n",
       "      <th>hBP1</th>\n",
       "      <td>1.006463</td>\n",
       "      <td>1.091776</td>\n",
       "      <td>0.925466</td>\n",
       "      <td>4.700000e-01</td>\n",
       "    </tr>\n",
       "    <tr>\n",
       "      <th>hBP4</th>\n",
       "      <td>0.908276</td>\n",
       "      <td>0.992248</td>\n",
       "      <td>0.833876</td>\n",
       "      <td>9.677000e-01</td>\n",
       "    </tr>\n",
       "    <tr>\n",
       "      <th>hHeight</th>\n",
       "      <td>0.924681</td>\n",
       "      <td>1.003788</td>\n",
       "      <td>0.852090</td>\n",
       "      <td>9.454000e-01</td>\n",
       "    </tr>\n",
       "    <tr>\n",
       "      <th>rBL</th>\n",
       "      <td>1.254009</td>\n",
       "      <td>1.358362</td>\n",
       "      <td>1.156977</td>\n",
       "      <td>9.112000e-08</td>\n",
       "    </tr>\n",
       "    <tr>\n",
       "      <th>hBMI</th>\n",
       "      <td>1.189800</td>\n",
       "      <td>1.258621</td>\n",
       "      <td>1.126930</td>\n",
       "      <td>2.251000e-08</td>\n",
       "    </tr>\n",
       "    <tr>\n",
       "      <th>rBL/hBMI</th>\n",
       "      <td>1.222049</td>\n",
       "      <td>1.283761</td>\n",
       "      <td>1.158861</td>\n",
       "      <td>9.124000e-13</td>\n",
       "    </tr>\n",
       "    <tr>\n",
       "      <th>hBL/Height</th>\n",
       "      <td>1.384310</td>\n",
       "      <td>1.469880</td>\n",
       "      <td>1.301333</td>\n",
       "      <td>1.434000e-24</td>\n",
       "    </tr>\n",
       "  </tbody>\n",
       "</table>\n",
       "</div>"
      ],
      "text/plain": [
       "                Mean     Upper     Lower             p\n",
       "hAR         0.799305  0.876349  0.729008  9.998000e-01\n",
       "hBP1        1.006463  1.091776  0.925466  4.700000e-01\n",
       "hBP4        0.908276  0.992248  0.833876  9.677000e-01\n",
       "hHeight     0.924681  1.003788  0.852090  9.454000e-01\n",
       "rBL         1.254009  1.358362  1.156977  9.112000e-08\n",
       "hBMI        1.189800  1.258621  1.126930  2.251000e-08\n",
       "rBL/hBMI    1.222049  1.283761  1.158861  9.124000e-13\n",
       "hBL/Height  1.384310  1.469880  1.301333  1.434000e-24"
      ]
     },
     "execution_count": 82,
     "metadata": {},
     "output_type": "execute_result"
    }
   ],
   "source": [
    "control_results"
   ]
  },
  {
   "cell_type": "markdown",
   "metadata": {},
   "source": [
    "## Rat STRING network"
   ]
  },
  {
   "cell_type": "code",
   "execution_count": 15,
   "metadata": {
    "ExecuteTime": {
     "end_time": "2022-07-01T18:46:56.026684Z",
     "start_time": "2022-07-01T18:46:55.678350Z"
    }
   },
   "outputs": [
    {
     "data": {
      "text/html": [
       "<div>\n",
       "<style scoped>\n",
       "    .dataframe tbody tr th:only-of-type {\n",
       "        vertical-align: middle;\n",
       "    }\n",
       "\n",
       "    .dataframe tbody tr th {\n",
       "        vertical-align: top;\n",
       "    }\n",
       "\n",
       "    .dataframe thead th {\n",
       "        text-align: right;\n",
       "    }\n",
       "</style>\n",
       "<table border=\"1\" class=\"dataframe\">\n",
       "  <thead>\n",
       "    <tr style=\"text-align: right;\">\n",
       "      <th></th>\n",
       "      <th>human_entrez_gene</th>\n",
       "      <th>human_ensembl_gene</th>\n",
       "      <th>hgnc_id</th>\n",
       "      <th>human_name</th>\n",
       "      <th>human_symbol</th>\n",
       "      <th>human_chr</th>\n",
       "      <th>human_assert_ids</th>\n",
       "      <th>rat_entrez_gene</th>\n",
       "      <th>rat_ensembl_gene</th>\n",
       "      <th>rgd_id</th>\n",
       "      <th>rat_name</th>\n",
       "      <th>rat_symbol</th>\n",
       "      <th>rat_chr</th>\n",
       "      <th>rat_assert_ids</th>\n",
       "      <th>support</th>\n",
       "      <th>N_sources</th>\n",
       "    </tr>\n",
       "  </thead>\n",
       "  <tbody>\n",
       "    <tr>\n",
       "      <th>517</th>\n",
       "      <td>1</td>\n",
       "      <td>ENSG00000121410</td>\n",
       "      <td>HGNC:5</td>\n",
       "      <td>alpha-1-B glycoprotein</td>\n",
       "      <td>A1BG</td>\n",
       "      <td>19q13.43</td>\n",
       "      <td>HUMAN|HGNC=5|UniProtKB=P04217,P04217,ENSG00000...</td>\n",
       "      <td>140656</td>\n",
       "      <td>ENSRNOG00000004692</td>\n",
       "      <td>RGD:69417</td>\n",
       "      <td>alpha-1-B glycoprotein</td>\n",
       "      <td>A1bg</td>\n",
       "      <td>7</td>\n",
       "      <td>RAT|RGD=69417|UniProtKB=Q9EPH1,Q9EPH1,ENSRNOG0...</td>\n",
       "      <td>Panther,Inparanoid,Ensembl,HomoloGene,Treefam,...</td>\n",
       "      <td>8</td>\n",
       "    </tr>\n",
       "    <tr>\n",
       "      <th>519</th>\n",
       "      <td>29974</td>\n",
       "      <td>ENSG00000148584</td>\n",
       "      <td>HGNC:24086</td>\n",
       "      <td>APOBEC1 complementation factor</td>\n",
       "      <td>A1CF</td>\n",
       "      <td>10q11.23</td>\n",
       "      <td>HUMAN|HGNC=24086|UniProtKB=Q9NQ94,Q9NQ94,ENSG0...</td>\n",
       "      <td>170912</td>\n",
       "      <td>ENSRNOG00000033195</td>\n",
       "      <td>RGD:619834</td>\n",
       "      <td>APOBEC1 complementation factor</td>\n",
       "      <td>A1cf</td>\n",
       "      <td>1</td>\n",
       "      <td>RAT|RGD=619834|UniProtKB=Q923K9,Q923K9,ENSRNOG...</td>\n",
       "      <td>Panther,Inparanoid,Ensembl,HomoloGene,EggNOG,O...</td>\n",
       "      <td>9</td>\n",
       "    </tr>\n",
       "    <tr>\n",
       "      <th>523</th>\n",
       "      <td>2</td>\n",
       "      <td>ENSG00000175899</td>\n",
       "      <td>HGNC:7</td>\n",
       "      <td>alpha-2-macroglobulin</td>\n",
       "      <td>A2M</td>\n",
       "      <td>12p13.31</td>\n",
       "      <td>HUMAN|HGNC=7|UniProtKB=P01023</td>\n",
       "      <td>408236</td>\n",
       "      <td>ENSRNOG00000065574</td>\n",
       "      <td>RGD:1302962</td>\n",
       "      <td>murinoglobulin 2</td>\n",
       "      <td>Mug2</td>\n",
       "      <td>4</td>\n",
       "      <td>RAT|RGD=1302962|UniProtKB=Q6IE52</td>\n",
       "      <td>Panther</td>\n",
       "      <td>1</td>\n",
       "    </tr>\n",
       "    <tr>\n",
       "      <th>524</th>\n",
       "      <td>2</td>\n",
       "      <td>ENSG00000175899</td>\n",
       "      <td>HGNC:7</td>\n",
       "      <td>alpha-2-macroglobulin</td>\n",
       "      <td>A2M</td>\n",
       "      <td>12p13.31</td>\n",
       "      <td>13407at9347</td>\n",
       "      <td>252922</td>\n",
       "      <td>ENSRNOG00000006709</td>\n",
       "      <td>RGD:628643</td>\n",
       "      <td>pregnancy-zone protein</td>\n",
       "      <td>Pzp</td>\n",
       "      <td>4</td>\n",
       "      <td>13407at9347</td>\n",
       "      <td>OrthoDB</td>\n",
       "      <td>1</td>\n",
       "    </tr>\n",
       "    <tr>\n",
       "      <th>521</th>\n",
       "      <td>2</td>\n",
       "      <td>ENSG00000175899</td>\n",
       "      <td>HGNC:7</td>\n",
       "      <td>alpha-2-macroglobulin</td>\n",
       "      <td>A2M</td>\n",
       "      <td>12p13.31</td>\n",
       "      <td>HUMAN|HGNC=7|UniProtKB=P01023,13407at9347</td>\n",
       "      <td>297568</td>\n",
       "      <td>ENSRNOG00000070375</td>\n",
       "      <td>RGD:1584999</td>\n",
       "      <td>alpha-1-inhibitor III</td>\n",
       "      <td>LOC297568</td>\n",
       "      <td>4</td>\n",
       "      <td>RAT|RGD=1584999|UniProtKB=P14046,13407at9347</td>\n",
       "      <td>Panther,OrthoDB</td>\n",
       "      <td>2</td>\n",
       "    </tr>\n",
       "  </tbody>\n",
       "</table>\n",
       "</div>"
      ],
      "text/plain": [
       "    human_entrez_gene human_ensembl_gene     hgnc_id  \\\n",
       "517                 1    ENSG00000121410      HGNC:5   \n",
       "519             29974    ENSG00000148584  HGNC:24086   \n",
       "523                 2    ENSG00000175899      HGNC:7   \n",
       "524                 2    ENSG00000175899      HGNC:7   \n",
       "521                 2    ENSG00000175899      HGNC:7   \n",
       "\n",
       "                         human_name human_symbol human_chr  \\\n",
       "517          alpha-1-B glycoprotein         A1BG  19q13.43   \n",
       "519  APOBEC1 complementation factor         A1CF  10q11.23   \n",
       "523           alpha-2-macroglobulin          A2M  12p13.31   \n",
       "524           alpha-2-macroglobulin          A2M  12p13.31   \n",
       "521           alpha-2-macroglobulin          A2M  12p13.31   \n",
       "\n",
       "                                      human_assert_ids rat_entrez_gene  \\\n",
       "517  HUMAN|HGNC=5|UniProtKB=P04217,P04217,ENSG00000...          140656   \n",
       "519  HUMAN|HGNC=24086|UniProtKB=Q9NQ94,Q9NQ94,ENSG0...          170912   \n",
       "523                      HUMAN|HGNC=7|UniProtKB=P01023          408236   \n",
       "524                                        13407at9347          252922   \n",
       "521          HUMAN|HGNC=7|UniProtKB=P01023,13407at9347          297568   \n",
       "\n",
       "       rat_ensembl_gene       rgd_id                        rat_name  \\\n",
       "517  ENSRNOG00000004692    RGD:69417          alpha-1-B glycoprotein   \n",
       "519  ENSRNOG00000033195   RGD:619834  APOBEC1 complementation factor   \n",
       "523  ENSRNOG00000065574  RGD:1302962                murinoglobulin 2   \n",
       "524  ENSRNOG00000006709   RGD:628643          pregnancy-zone protein   \n",
       "521  ENSRNOG00000070375  RGD:1584999           alpha-1-inhibitor III   \n",
       "\n",
       "    rat_symbol rat_chr                                     rat_assert_ids  \\\n",
       "517       A1bg       7  RAT|RGD=69417|UniProtKB=Q9EPH1,Q9EPH1,ENSRNOG0...   \n",
       "519       A1cf       1  RAT|RGD=619834|UniProtKB=Q923K9,Q923K9,ENSRNOG...   \n",
       "523       Mug2       4                   RAT|RGD=1302962|UniProtKB=Q6IE52   \n",
       "524        Pzp       4                                        13407at9347   \n",
       "521  LOC297568       4       RAT|RGD=1584999|UniProtKB=P14046,13407at9347   \n",
       "\n",
       "                                               support  N_sources  \n",
       "517  Panther,Inparanoid,Ensembl,HomoloGene,Treefam,...          8  \n",
       "519  Panther,Inparanoid,Ensembl,HomoloGene,EggNOG,O...          9  \n",
       "523                                            Panther          1  \n",
       "524                                            OrthoDB          1  \n",
       "521                                    Panther,OrthoDB          2  "
      ]
     },
     "execution_count": 15,
     "metadata": {},
     "output_type": "execute_result"
    }
   ],
   "source": [
    "# process ortholog mappings from HCOP\n",
    "ortho_map = pd.read_csv(\"human_rat_hcop_fifteen_column.txt.gz\", sep=\"\\t\", index_col=None)\n",
    "# restrict to entries with symbols for both species\n",
    "ortho_map = ortho_map[(ortho_map[\"human_symbol\"] != \"-\")]\n",
    "ortho_map = ortho_map[(ortho_map[\"rat_symbol\"] != \"-\")]\n",
    "# restrict to entries with chromosome information\n",
    "ortho_map = ortho_map[(ortho_map[\"human_chr\"] != \"-\")]\n",
    "ortho_map = ortho_map[(ortho_map[\"rat_chr\"] != \"-\")]\n",
    "# quantify number of supporting sources\n",
    "ortho_map[\"N_sources\"] = ortho_map.support.apply(lambda x: len(x.split(\",\")))\n",
    "ortho_map = ortho_map.sort_values(by=[\"human_symbol\", \"N_sources\"])\n",
    "ortho_map.head()"
   ]
  },
  {
   "cell_type": "code",
   "execution_count": 9,
   "metadata": {
    "ExecuteTime": {
     "end_time": "2022-07-01T18:12:52.506429Z",
     "start_time": "2022-07-01T18:12:48.678351Z"
    }
   },
   "outputs": [
    {
     "name": "stdout",
     "output_type": "stream",
     "text": [
      "number of nodes:\n",
      "16787\n",
      "\n",
      "number of edges:\n",
      "277852\n"
     ]
    }
   ],
   "source": [
    "interactome_uuid='880c7d8c-f5ad-11ec-ac45-0ac135e8bacf' # for PCNet\n",
    "ndex_server='public.ndexbio.org'\n",
    "ndex_user=None\n",
    "ndex_password=None\n",
    "G_rat_HC = ndex2.create_nice_cx_from_server(\n",
    "            ndex_server, \n",
    "            username=ndex_user, \n",
    "            password=ndex_password, \n",
    "            uuid=interactome_uuid\n",
    "        ).to_networkx()\n",
    "nodes_rat_HC = list(G_rat_HC.nodes)\n",
    "\n",
    "    # pcnet appears to have some self edges... should remove them. \n",
    "G_rat_HC.remove_edges_from(nx.selfloop_edges(G_rat_HC))\n",
    "\n",
    "    # print out interactome num nodes and edges for diagnostic purposes\n",
    "print('number of nodes:')\n",
    "print(len(G_rat_HC.nodes))\n",
    "print('\\nnumber of edges:')\n",
    "print(len(G_rat_HC.edges))"
   ]
  },
  {
   "cell_type": "code",
   "execution_count": 10,
   "metadata": {
    "ExecuteTime": {
     "end_time": "2022-07-01T18:12:59.443540Z",
     "start_time": "2022-07-01T18:12:59.435475Z"
    }
   },
   "outputs": [],
   "source": [
    "# remove unconnected nodes\n",
    "remove_nodes = [n[0] for n in G_rat_HC.degree() if n[1]==0]\n",
    "G_rat_HC.remove_nodes_from(remove_nodes)"
   ]
  },
  {
   "cell_type": "code",
   "execution_count": 43,
   "metadata": {
    "ExecuteTime": {
     "end_time": "2022-07-01T18:53:25.833893Z",
     "start_time": "2022-07-01T18:53:24.662832Z"
    }
   },
   "outputs": [],
   "source": [
    "# load z_scores\n",
    "z_rat_bmi_rat_net = pd.read_csv(\"Data/outputs/rat_string_rat_zscores.tsv\", header=None, sep=\"\\t\", index_col=0, names=[\"z\"])\n",
    "z_human_bin_BMI_rat_HC = netprop_zscore.get_consensus_z_scores(\"Data/outputs/rat_string_HC_BMIsampling_500_100.tsv\", 0.75)"
   ]
  },
  {
   "cell_type": "code",
   "execution_count": 22,
   "metadata": {
    "ExecuteTime": {
     "end_time": "2022-07-01T18:48:14.993387Z",
     "start_time": "2022-07-01T18:48:14.980103Z"
    }
   },
   "outputs": [],
   "source": [
    "# map human BMI to rat\n",
    "ortho_map_bmi = ortho_map[ortho_map.human_symbol.isin(seed_bin_human_BMI)]\n",
    "# take ortholog supported by largest number of databases\n",
    "seed_human_bmi_rat_orthos = ortho_map_bmi.drop_duplicates(subset=\"human_symbol\", \n",
    "                                                          keep=\"last\", ignore_index=True).loc[:, (\"human_symbol\", \"rat_symbol\")] "
   ]
  },
  {
   "cell_type": "code",
   "execution_count": 24,
   "metadata": {
    "ExecuteTime": {
     "end_time": "2022-07-01T18:48:30.243185Z",
     "start_time": "2022-07-01T18:48:30.236850Z"
    }
   },
   "outputs": [],
   "source": [
    "# map rat BMI back to rat\n",
    "ortho_map_bmi = ortho_map[ortho_map.human_symbol.isin(seed_bin_rat_BMI)]\n",
    "# take ortholog supported by largest number of databases\n",
    "seed_rat_bmi_rat_orthos = ortho_map_bmi.drop_duplicates(subset=\"human_symbol\", \n",
    "                                                        keep=\"last\", ignore_index=True).rat_symbol.unique() "
   ]
  },
  {
   "cell_type": "code",
   "execution_count": 50,
   "metadata": {
    "ExecuteTime": {
     "end_time": "2022-07-01T18:54:20.155080Z",
     "start_time": "2022-07-01T18:54:20.153463Z"
    }
   },
   "outputs": [],
   "source": [
    "z_rat_bmi_rat_net.index.name=None"
   ]
  },
  {
   "cell_type": "code",
   "execution_count": 47,
   "metadata": {
    "ExecuteTime": {
     "end_time": "2022-07-01T18:53:55.639180Z",
     "start_time": "2022-07-01T18:53:50.136062Z"
    }
   },
   "outputs": [
    {
     "name": "stdout",
     "output_type": "stream",
     "text": [
      "               z1        z2        zz\n",
      "Foxo3   -0.318572  8.176169 -2.604697\n",
      "Rps6kb2  0.574596  0.344198  0.197775\n",
      "Mapk1    2.076539  1.437659  2.985355\n",
      "Rps6kb1  0.478584  1.032921  0.494340\n",
      "Rptor   -0.159442  5.616423 -0.895495\n",
      "Overlap seed genes: 26\n"
     ]
    }
   ],
   "source": [
    "seeds_rat = [n for n in seed_rat_bmi_rat_orthos if n in nodes_rat_HC]\n",
    "seeds_human = [n for n in seed_human_bmi_rat_orthos.rat_symbol.unique() if n in nodes_rat_HC]\n",
    "\n",
    "observed_BMI, permuted_BMI = calculate_mean_z_score_distribution(z_rat_bmi_rat_net.fillna(0), \n",
    "                                                                 z_human_bin_BMI_rat_HC.fillna(0), num_reps=1000,\n",
    "                                                       zero_double_negatives=False, overlap_control=\"bin\",\n",
    "                                                       seed1=seeds_rat, seed2=seeds_human)"
   ]
  },
  {
   "cell_type": "code",
   "execution_count": 51,
   "metadata": {
    "ExecuteTime": {
     "end_time": "2022-07-01T18:54:57.603939Z",
     "start_time": "2022-07-01T18:54:56.435587Z"
    }
   },
   "outputs": [
    {
     "data": {
      "image/png": "[encoded data removed]",
      "text/plain": [
       "<Figure size 360x288 with 1 Axes>"
      ]
     },
     "metadata": {
      "needs_background": "light"
     },
     "output_type": "display_data"
    }
   ],
   "source": [
    "plot_permutation_histogram(permuted_BMI, observed_BMI,'', 'Mean $NPS_{h,r}$')#,color=\"dimgrey\", arrow_color=\"#F5793A\")"
   ]
  },
  {
   "cell_type": "code",
   "execution_count": 54,
   "metadata": {
    "ExecuteTime": {
     "end_time": "2022-07-01T18:56:12.687318Z",
     "start_time": "2022-07-01T18:55:59.760283Z"
    }
   },
   "outputs": [
    {
     "name": "stdout",
     "output_type": "stream",
     "text": [
      "Overlap seed genes: 26\n"
     ]
    },
    {
     "name": "stderr",
     "output_type": "stream",
     "text": [
      "100%|██████████| 1000/1000 [00:12<00:00, 79.71it/s]\n"
     ]
    }
   ],
   "source": [
    "seeds_rat = [n for n in seed_rat_bmi_rat_orthos if n in nodes_rat_HC]\n",
    "seeds_human = [n for n in seed_human_bmi_rat_orthos.rat_symbol.unique() if n in nodes_rat_HC]\n",
    "\n",
    "observed_BMI, permuted_BMI = calculate_expected_overlap(z_rat_bmi_rat_net.fillna(0), \n",
    "                                                        z_human_bin_BMI_rat_HC.fillna(0), num_reps=1000,\n",
    "                                                        overlap_control=\"bin\",\n",
    "                                                       seed1=seeds_rat, seed2=seeds_human)"
   ]
  },
  {
   "cell_type": "code",
   "execution_count": 55,
   "metadata": {
    "ExecuteTime": {
     "end_time": "2022-07-01T18:56:13.127942Z",
     "start_time": "2022-07-01T18:56:12.791139Z"
    }
   },
   "outputs": [
    {
     "data": {
      "image/png": "[encoded data removed]",
      "text/plain": [
       "<Figure size 360x288 with 1 Axes>"
      ]
     },
     "metadata": {
      "needs_background": "light"
     },
     "output_type": "display_data"
    }
   ],
   "source": [
    "plot_permutation_histogram(permuted_BMI, observed_BMI,'', 'Size')"
   ]
  },
  {
   "cell_type": "code",
   "execution_count": 57,
   "metadata": {
    "ExecuteTime": {
     "end_time": "2022-07-01T18:57:49.821434Z",
     "start_time": "2022-07-01T18:57:49.815609Z"
    }
   },
   "outputs": [
    {
     "data": {
      "text/html": [
       "<div>\n",
       "<style scoped>\n",
       "    .dataframe tbody tr th:only-of-type {\n",
       "        vertical-align: middle;\n",
       "    }\n",
       "\n",
       "    .dataframe tbody tr th {\n",
       "        vertical-align: top;\n",
       "    }\n",
       "\n",
       "    .dataframe thead th {\n",
       "        text-align: right;\n",
       "    }\n",
       "</style>\n",
       "<table border=\"1\" class=\"dataframe\">\n",
       "  <thead>\n",
       "    <tr style=\"text-align: right;\">\n",
       "      <th></th>\n",
       "      <th>Mean</th>\n",
       "      <th>Upper</th>\n",
       "      <th>Lower</th>\n",
       "      <th>p</th>\n",
       "    </tr>\n",
       "  </thead>\n",
       "  <tbody>\n",
       "    <tr>\n",
       "      <th>BMI_RatSTRING</th>\n",
       "      <td>1.244483</td>\n",
       "      <td>1.338762</td>\n",
       "      <td>1.157584</td>\n",
       "      <td>4.445000e-08</td>\n",
       "    </tr>\n",
       "  </tbody>\n",
       "</table>\n",
       "</div>"
      ],
      "text/plain": [
       "                   Mean     Upper     Lower             p\n",
       "BMI_RatSTRING  1.244483  1.338762  1.157584  4.445000e-08"
      ]
     },
     "execution_count": 57,
     "metadata": {},
     "output_type": "execute_result"
    }
   ],
   "source": [
    "plot_control_bar(observed_BMI, permuted_BMI, \"BMI_RatSTRING\")"
   ]
  },
  {
   "cell_type": "code",
   "execution_count": 83,
   "metadata": {
    "ExecuteTime": {
     "end_time": "2022-07-01T19:00:33.107395Z",
     "start_time": "2022-07-01T19:00:33.104733Z"
    }
   },
   "outputs": [],
   "source": [
    "control_results = pd.concat([control_results,plot_control_bar(observed_BMI, permuted_BMI, \"BMI_RatSTRING\") ])"
   ]
  },
  {
   "cell_type": "code",
   "execution_count": 84,
   "metadata": {
    "ExecuteTime": {
     "end_time": "2022-07-01T19:01:02.469604Z",
     "start_time": "2022-07-01T19:01:02.463790Z"
    }
   },
   "outputs": [
    {
     "data": {
      "text/html": [
       "<div>\n",
       "<style scoped>\n",
       "    .dataframe tbody tr th:only-of-type {\n",
       "        vertical-align: middle;\n",
       "    }\n",
       "\n",
       "    .dataframe tbody tr th {\n",
       "        vertical-align: top;\n",
       "    }\n",
       "\n",
       "    .dataframe thead th {\n",
       "        text-align: right;\n",
       "    }\n",
       "</style>\n",
       "<table border=\"1\" class=\"dataframe\">\n",
       "  <thead>\n",
       "    <tr style=\"text-align: right;\">\n",
       "      <th></th>\n",
       "      <th>Mean</th>\n",
       "      <th>Upper</th>\n",
       "      <th>Lower</th>\n",
       "      <th>p</th>\n",
       "    </tr>\n",
       "  </thead>\n",
       "  <tbody>\n",
       "    <tr>\n",
       "      <th>hAR</th>\n",
       "      <td>0.799305</td>\n",
       "      <td>0.876349</td>\n",
       "      <td>0.729008</td>\n",
       "      <td>9.998000e-01</td>\n",
       "    </tr>\n",
       "    <tr>\n",
       "      <th>hBP1</th>\n",
       "      <td>1.006463</td>\n",
       "      <td>1.091776</td>\n",
       "      <td>0.925466</td>\n",
       "      <td>4.700000e-01</td>\n",
       "    </tr>\n",
       "    <tr>\n",
       "      <th>hBP4</th>\n",
       "      <td>0.908276</td>\n",
       "      <td>0.992248</td>\n",
       "      <td>0.833876</td>\n",
       "      <td>9.677000e-01</td>\n",
       "    </tr>\n",
       "    <tr>\n",
       "      <th>hHeight</th>\n",
       "      <td>0.924681</td>\n",
       "      <td>1.003788</td>\n",
       "      <td>0.852090</td>\n",
       "      <td>9.454000e-01</td>\n",
       "    </tr>\n",
       "    <tr>\n",
       "      <th>rBL</th>\n",
       "      <td>1.254009</td>\n",
       "      <td>1.358362</td>\n",
       "      <td>1.156977</td>\n",
       "      <td>9.112000e-08</td>\n",
       "    </tr>\n",
       "    <tr>\n",
       "      <th>hBMI</th>\n",
       "      <td>1.189800</td>\n",
       "      <td>1.258621</td>\n",
       "      <td>1.126930</td>\n",
       "      <td>2.251000e-08</td>\n",
       "    </tr>\n",
       "    <tr>\n",
       "      <th>rBL/hBMI</th>\n",
       "      <td>1.222049</td>\n",
       "      <td>1.283761</td>\n",
       "      <td>1.158861</td>\n",
       "      <td>9.124000e-13</td>\n",
       "    </tr>\n",
       "    <tr>\n",
       "      <th>hBL/Height</th>\n",
       "      <td>1.384310</td>\n",
       "      <td>1.469880</td>\n",
       "      <td>1.301333</td>\n",
       "      <td>1.434000e-24</td>\n",
       "    </tr>\n",
       "    <tr>\n",
       "      <th>BMI_RatSTRING</th>\n",
       "      <td>1.244483</td>\n",
       "      <td>1.338762</td>\n",
       "      <td>1.157584</td>\n",
       "      <td>4.445000e-08</td>\n",
       "    </tr>\n",
       "  </tbody>\n",
       "</table>\n",
       "</div>"
      ],
      "text/plain": [
       "                   Mean     Upper     Lower             p\n",
       "hAR            0.799305  0.876349  0.729008  9.998000e-01\n",
       "hBP1           1.006463  1.091776  0.925466  4.700000e-01\n",
       "hBP4           0.908276  0.992248  0.833876  9.677000e-01\n",
       "hHeight        0.924681  1.003788  0.852090  9.454000e-01\n",
       "rBL            1.254009  1.358362  1.156977  9.112000e-08\n",
       "hBMI           1.189800  1.258621  1.126930  2.251000e-08\n",
       "rBL/hBMI       1.222049  1.283761  1.158861  9.124000e-13\n",
       "hBL/Height     1.384310  1.469880  1.301333  1.434000e-24\n",
       "BMI_RatSTRING  1.244483  1.338762  1.157584  4.445000e-08"
      ]
     },
     "execution_count": 84,
     "metadata": {},
     "output_type": "execute_result"
    }
   ],
   "source": [
    "control_results"
   ]
  },
  {
   "cell_type": "markdown",
   "metadata": {},
   "source": [
    "## Plot figures"
   ]
  },
  {
   "cell_type": "code",
   "execution_count": 86,
   "metadata": {
    "ExecuteTime": {
     "end_time": "2022-07-01T19:02:34.731750Z",
     "start_time": "2022-07-01T19:02:33.038947Z"
    },
    "run_control": {
     "marked": true
    },
    "scrolled": true
   },
   "outputs": [
    {
     "data": {
      "image/png": "[encoded data removed]",
      "text/plain": [
       "<Figure size 432x288 with 1 Axes>"
      ]
     },
     "metadata": {
      "needs_background": "light"
     },
     "output_type": "display_data"
    }
   ],
   "source": [
    "#plt.figure(figsize=(3, 4))\n",
    "plot_results = control_results.loc[[\"hBMI\", \"BMI_RatSTRING\",\"rBL\", \"hBL/Height\", \"rBL/hBMI\", \"hHeight\", \"hAR\", \"hBP1\", \"hBP4\"]]\n",
    "plt.bar(x = [\"hBMI\", \"BMI_RatSTRING\", \"rBL\", \"hBL/Height\", \"rBL/hBMI\", \"hHeight\", \"hAR\", \"hBP1\", \"hBP4\"],\n",
    "       bottom= 1, height = plot_results.Mean - 1, capsize=4, edgecolor=\"black\",\n",
    "        yerr = [plot_results.Mean - plot_results.Lower, plot_results.Upper - plot_results.Mean],\n",
    "       color = [\"#f5793a\"]*2 + [\"white\"]*3 + [\"grey\"]*4)\n",
    "\n",
    "plt.xticks(fontsize=16, rotation=90, ticks=[\"hBMI\", \"BMI_RatSTRING\", \"rBL\",\"hBL/Height\", \"rBL/hBMI\", \"hHeight\", \"hAR\", \"hBP1\", \"hBP4\"], \n",
    "          labels = [\"Rat/Human BMI\",  \"BMI_RatSTRING\", \"Rat BMI/BL\", \"Rat BL/Human Height\", \"Rat BL/Human BMI\", \"Rat BMI/Human Height\",\n",
    "                   \"Rat BMI/Human AR\", \"Rat BMI/Human BP1\", \"Rat BMI/Human BP4\"])\n",
    "plt.ylabel(\"Observed/Permuted size \\nof colocalized network\", fontsize=16)\n",
    "plt.yticks(fontsize=16)\n",
    "plt.hlines(y=1, xmin=-0.6, xmax=8.6, linestyle=\"dashed\", color=\"black\")\n",
    "plt.xlim(-0.6, 8.6)\n",
    "plt.ylim(0.7, 1.6)\n",
    "plt.savefig(\"/cellar/users/snwright/Data/Transfer/rat/control_plot2_July1.png\", bbox_inches=\"tight\", dpi=400)"
   ]
  },
  {
   "cell_type": "code",
   "execution_count": 88,
   "metadata": {
    "ExecuteTime": {
     "end_time": "2022-07-01T19:03:49.482942Z",
     "start_time": "2022-07-01T19:03:48.004971Z"
    },
    "run_control": {
     "marked": true
    }
   },
   "outputs": [
    {
     "data": {
      "image/png": "[encoded data removed]",
      "text/plain": [
       "<Figure size 360x216 with 1 Axes>"
      ]
     },
     "metadata": {
      "needs_background": "light"
     },
     "output_type": "display_data"
    }
   ],
   "source": [
    "plt.figure(figsize=(5, 3))\n",
    "plot_results = control_results.loc[[\"hBMI\",  \"BMI_RatSTRING\",\"rBL\", \"hBL/Height\", \"hAR\", \"hBP1\", \"hBP4\"]]\n",
    "plt.bar(x = [\"hBMI\", \"BMI_RatSTRING\", \"rBL\", \"hBL/Height\", \"hAR\", \"hBP1\", \"hBP4\"],\n",
    "       bottom= 1, height = plot_results.Mean - 1, capsize=4, edgecolor=\"black\",\n",
    "        yerr = [plot_results.Mean - plot_results.Lower, plot_results.Upper - plot_results.Mean],\n",
    "       color = [\"#f5793a\"]*2 + [\"white\"]*2 + [\"grey\"]*3)\n",
    "\n",
    "plt.xticks(fontsize=16, rotation=90, ticks=[\"hBMI\", \"BMI_RatSTRING\", \"rBL\",\"hBL/Height\", \"hAR\", \"hBP1\", \"hBP4\"], \n",
    "          labels = [\"Rat/Human BMI\", \"Rat/Human BMI (RS)\", \"Rat BMI/BL\", \"Rat BL/Human Height\",\n",
    "                   \"Rat BMI/Human AR\", \"Rat BMI/Human BP1\", \"Rat BMI/Human BP4\"])\n",
    "plt.yticks(fontsize=16)\n",
    "plt.hlines(y=1, xmin=-0.6, xmax=6.6, linestyle=\"dashed\", color=\"black\")\n",
    "plt.ylabel(\"Observed/Permuted size \\nof colocalized network\", fontsize=16)\n",
    "plt.xlim(-0.6, 6.6)\n",
    "plt.ylim(0.7, 1.6)\n",
    "plt.savefig(\"/cellar/users/snwright/Data/Transfer/rat/control_plot_July1.png\", bbox_inches=\"tight\", dpi=400)"
   ]
  }
 ],
 "metadata": {
  "kernelspec": {
   "display_name": "Python [conda env:netcoloc_dev]",
   "language": "python",
   "name": "conda-env-netcoloc_dev-py"
  },
  "language_info": {
   "codemirror_mode": {
    "name": "ipython",
    "version": 3
   },
   "file_extension": ".py",
   "mimetype": "text/x-python",
   "name": "python",
   "nbconvert_exporter": "python",
   "pygments_lexer": "ipython3",
   "version": "3.9.7"
  },
  "toc": {
   "base_numbering": 1,
   "nav_menu": {},
   "number_sections": true,
   "sideBar": true,
   "skip_h1_title": false,
   "title_cell": "Table of Contents",
   "title_sidebar": "Contents",
   "toc_cell": false,
   "toc_position": {
    "height": "calc(100% - 180px)",
    "left": "10px",
    "top": "150px",
    "width": "341.458px"
   },
   "toc_section_display": true,
   "toc_window_display": true
  },
  "varInspector": {
   "cols": {
    "lenName": 16,
    "lenType": 16,
    "lenVar": 40
   },
   "kernels_config": {
    "python": {
     "delete_cmd_postfix": "",
     "delete_cmd_prefix": "del ",
     "library": "var_list.py",
     "varRefreshCmd": "print(var_dic_list())"
    },
    "r": {
     "delete_cmd_postfix": ") ",
     "delete_cmd_prefix": "rm(",
     "library": "var_list.r",
     "varRefreshCmd": "cat(var_dic_list()) "
    }
   },
   "types_to_exclude": [
    "module",
    "function",
    "builtin_function_or_method",
    "instance",
    "_Feature"
   ],
   "window_display": false
  }
 },
 "nbformat": 4,
 "nbformat_minor": 2
}
