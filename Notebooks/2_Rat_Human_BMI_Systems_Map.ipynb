{
 "cells": [
  {
   "cell_type": "code",
   "execution_count": 10,
   "metadata": {
    "ExecuteTime": {
     "end_time": "2022-06-30T19:11:27.309399Z",
     "start_time": "2022-06-30T19:11:27.306875Z"
    }
   },
   "outputs": [],
   "source": [
    "import os\n",
    "import sys\n",
    "import ndex2\n",
    "from getpass import getpass\n",
    "import cdapsutil\n",
    "import pandas as pd\n",
    "import mygene\n",
    "mg = mygene.MyGeneInfo()\n",
    "import matplotlib.pyplot as plt\n",
    "import seaborn as sns"
   ]
  },
  {
   "cell_type": "code",
   "execution_count": 2,
   "metadata": {
    "ExecuteTime": {
     "end_time": "2022-06-30T18:56:39.749547Z",
     "start_time": "2022-06-30T18:56:39.747433Z"
    }
   },
   "outputs": [],
   "source": [
    "cwd = os.path.dirname(os.getcwd())\n",
    "DATADIR = os.path.join(cwd, \"Data/\")\n",
    "FIGDIR = os.path.join(cwd, \"Figures/\")\n",
    "rerun_analysis=False"
   ]
  },
  {
   "cell_type": "code",
   "execution_count": 3,
   "metadata": {
    "ExecuteTime": {
     "end_time": "2022-06-30T18:56:43.226363Z",
     "start_time": "2022-06-30T18:56:39.759676Z"
    }
   },
   "outputs": [],
   "source": [
    "sys.path.append(cwd)\n",
    "from updated_netcoloc_functions import *\n",
    "from analysis_functions import *"
   ]
  },
  {
   "cell_type": "markdown",
   "metadata": {},
   "source": [
    "## SetUp"
   ]
  },
  {
   "cell_type": "code",
   "execution_count": 12,
   "metadata": {
    "ExecuteTime": {
     "end_time": "2022-06-30T19:12:10.310674Z",
     "start_time": "2022-06-30T19:12:10.307384Z"
    }
   },
   "outputs": [],
   "source": [
    "def load_human_seed_genes(filepath, interactome_nodes, trait=''):\n",
    "    \"\"\"\n",
    "    :param filepath:\n",
    "    :param interactome_nodes:\n",
    "    :param trait:\n",
    "    \"\"\"\n",
    "    all_scores = pd.read_csv(filepath, sep=\"\\t\", index_col='gene_symbol')\n",
    "    # subset to genes in the interactome\n",
    "    all_scores = all_scores.loc[list(np.intersect1d(all_scores.index.tolist(), interactome_nodes))]\n",
    "    # Calculate bonferroni corrected pvalue (alpha=0.05)\n",
    "    bonf_p = .05/len(all_scores)\n",
    "    # Get significant genes\n",
    "    seeds = all_scores[all_scores['pvalue'] < bonf_p].index.tolist()\n",
    "    print(\"Number of\",trait,\"seeds:\", len(seeds))\n",
    "    return seeds"
   ]
  },
  {
   "cell_type": "code",
   "execution_count": 13,
   "metadata": {
    "ExecuteTime": {
     "end_time": "2022-06-30T19:12:10.850785Z",
     "start_time": "2022-06-30T19:12:10.842731Z"
    }
   },
   "outputs": [
    {
     "name": "stdout",
     "output_type": "stream",
     "text": [
      "Number of human BMI seeds: 1958\n",
      "Number of rat BMI seeds: 295\n"
     ]
    }
   ],
   "source": [
    "## Load the seed genes\n",
    "seed_bin_human_BMI = pd.read_csv(DATADIR+\"inputs/human_BMI_all_seed_genes.txt\", header=None)[0].tolist()\n",
    "print(\"Number of human BMI seeds:\", len(seed_bin_human_BMI))\n",
    "\n",
    "seed_bin_rat_BMI=pd.read_csv(DATADIR+'inputs/ratBMI_seed_relaxed.txt',sep='\\t')['0'].tolist()\n",
    "print(\"Number of rat BMI seeds:\", len(seed_bin_rat_BMI))"
   ]
  },
  {
   "cell_type": "code",
   "execution_count": 14,
   "metadata": {
    "ExecuteTime": {
     "end_time": "2022-06-30T19:12:24.122091Z",
     "start_time": "2022-06-30T19:12:11.401345Z"
    }
   },
   "outputs": [
    {
     "name": "stdout",
     "output_type": "stream",
     "text": [
      "number of nodes:\n",
      "18820\n",
      "\n",
      "number of edges:\n",
      "2693109\n"
     ]
    }
   ],
   "source": [
    "pc_nodes, G_PC = load_pcnet()"
   ]
  },
  {
   "cell_type": "code",
   "execution_count": 15,
   "metadata": {
    "ExecuteTime": {
     "end_time": "2022-06-30T19:13:00.733703Z",
     "start_time": "2022-06-30T19:12:24.181484Z"
    }
   },
   "outputs": [
    {
     "name": "stdout",
     "output_type": "stream",
     "text": [
      "querying 1-1000...done.\n",
      "querying 1001-2000...done.\n",
      "querying 2001-3000...done.\n",
      "querying 3001-4000...done.\n",
      "querying 4001-5000...done.\n",
      "querying 5001-6000...done.\n",
      "querying 6001-7000...done.\n",
      "querying 7001-8000...done.\n",
      "querying 8001-9000...done.\n",
      "querying 9001-10000...done.\n",
      "querying 10001-11000...done.\n",
      "querying 11001-12000...done.\n",
      "querying 12001-13000...done.\n",
      "querying 13001-14000...done.\n",
      "querying 14001-15000...done.\n",
      "querying 15001-16000...done.\n",
      "querying 16001-17000...done.\n",
      "querying 17001-18000...done.\n",
      "querying 18001-18820...done.\n",
      "Finished.\n",
      "1116 input query terms found dup hits:\n",
      "\t[('FBXO30', 2), ('KLHL21', 2), ('ARF1', 2), ('CIAO2B', 2), ('ILF2', 2), ('ASB13', 2), ('DZIP3', 2), \n",
      "162 input query terms found no hit:\n",
      "\t['AC022826.2', 'AL136295.5', 'MT-CO3', 'LOC105369243', 'AL136295.1', 'LOC101060399', 'AC006486.1', '\n",
      "Pass \"returnall=True\" to return complete lists of duplicate or missing query terms.\n"
     ]
    }
   ],
   "source": [
    "updated_pc_nodes = mg.querymany(pc_nodes, as_dataframe=True, species='human', scopes='symbol, alias', fields='symbol')"
   ]
  },
  {
   "cell_type": "code",
   "execution_count": 16,
   "metadata": {
    "ExecuteTime": {
     "end_time": "2022-06-30T19:13:00.805104Z",
     "start_time": "2022-06-30T19:13:00.791267Z"
    }
   },
   "outputs": [],
   "source": [
    "updated_pc_nodes = updated_pc_nodes.sort_values(by=\"_score\", ascending=False)\n",
    "updated_pc_nodes = updated_pc_nodes.drop_duplicates(subset=[\"symbol\"])"
   ]
  },
  {
   "cell_type": "markdown",
   "metadata": {},
   "source": [
    "## Load the conserved BMI network"
   ]
  },
  {
   "cell_type": "code",
   "execution_count": 17,
   "metadata": {
    "ExecuteTime": {
     "end_time": "2022-06-30T19:14:26.704233Z",
     "start_time": "2022-06-30T19:13:00.862470Z"
    }
   },
   "outputs": [
    {
     "name": "stdout",
     "output_type": "stream",
     "text": [
      "Username:········\n",
      "Password:········\n",
      "number of nodes: 657\n",
      "\n",
      "number of edges: 5287\n"
     ]
    }
   ],
   "source": [
    "ndex_server='public.ndexbio.org'\n",
    "ndex_user=getpass(\"Username:\")\n",
    "ndex_password=getpass(\"Password:\")\n",
    "G_BMI_coloc_cx = ndex2.create_nice_cx_from_server(\n",
    "            ndex_server, \n",
    "            username=ndex_user, \n",
    "            password=ndex_password, \n",
    "            uuid='e8cc9239-d91a-11eb-b666-0ac135e8bacf'\n",
    "        )\n",
    "\n",
    "\n",
    "# print out interactome num nodes and edges for diagnostic purposes\n",
    "G_BMI_coloc = G_BMI_coloc_cx.to_networkx()\n",
    "print('number of nodes:', len(G_BMI_coloc.nodes))\n",
    "print('\\nnumber of edges:', len(G_BMI_coloc.edges))"
   ]
  },
  {
   "cell_type": "markdown",
   "metadata": {},
   "source": [
    "## Hierarchical Community Detection with HiDeF"
   ]
  },
  {
   "cell_type": "code",
   "execution_count": 18,
   "metadata": {
    "ExecuteTime": {
     "end_time": "2022-06-30T19:14:26.795161Z",
     "start_time": "2022-06-30T19:14:26.758313Z"
    }
   },
   "outputs": [],
   "source": [
    "if rerun_analysis:\n",
    "    cd = cdapsutil.CommunityDetection()\n",
    "    G_BMI_hier = cd.run_community_detection(G_BMI_coloc_cx, algorithm='hidefv1.1beta',arguments={'--maxres':'10'})\n",
    "    # Print information about hierarchy\n",
    "    print('Hierarchy name: ' + str(G_BMI_hier.get_name()))\n",
    "    print('# nodes: ' + str(len(G_BMI_hier.get_nodes())))\n",
    "    print('# edges: ' + str(len(G_BMI_hier.get_edges())))\n",
    "    G_BMI_hier = G_BMI_hier.to_networkx()\n",
    "    BMI_hier_df = pd.DataFrame.from_dict(dict(G_BMI_hier.nodes(data=True)), orient=\"index\")\n",
    "    #hier_df_genes = hier_df.loc[:, [\"CD_MemberList\", \"frac_d1_seeds\", \"frac_d2_seeds\"]]\n",
    "else:\n",
    "    BMI_hier_df = pd.read_csv(DATADIR+ \"outputs/BMI_hierarchy_data.tsv\", sep=\"\\t\", index_col=0)"
   ]
  },
  {
   "cell_type": "markdown",
   "metadata": {},
   "source": [
    "## TODO VISUALIZE NETWORK"
   ]
  },
  {
   "cell_type": "markdown",
   "metadata": {},
   "source": [
    "## Annotation of BMI Systems Map"
   ]
  },
  {
   "cell_type": "code",
   "execution_count": 19,
   "metadata": {
    "ExecuteTime": {
     "end_time": "2022-06-30T19:14:33.087477Z",
     "start_time": "2022-06-30T19:14:33.081815Z"
    }
   },
   "outputs": [],
   "source": [
    "def get_seed_gene_fractions(hier_df, seeds1, seeds2, seed1_name='h_seed', seed2_name='r_seed'):\n",
    "    hier_df[\"CD_MemberList\"] = hier_df.CD_MemberList.apply(lambda x: x if type(x)==list else x.split(\" \"))\n",
    "    comm_genes = hier_df.explode(\"CD_MemberList\")\n",
    "    comm_genes[seed1_name] = [1 if x in seeds1 else 0 for x in comm_genes.CD_MemberList]\n",
    "    comm_genes[seed2_name] = [1 if x in seeds2 else 0 for x in comm_genes.CD_MemberList]\n",
    "    comm_genes[\"overlap\"] = comm_genes.apply(lambda x: x[seed1_name] * x[seed2_name], axis=1)\n",
    "    a = comm_genes.groupby(level=0).overlap.sum()\n",
    "    b = comm_genes[comm_genes.overlap != 1].groupby(level=0)[seed1_name].sum()\n",
    "    c = comm_genes[comm_genes.overlap != 1].groupby(level=0)[seed2_name].sum()\n",
    "    d = comm_genes.groupby(level=0).CD_MemberList.count()\n",
    "    counts = pd.concat([a,b,c,d], axis=1)\n",
    "    counts[\"network\"] = counts.apply(lambda x: x.CD_MemberList - x.overlap - x[seed1_name] - x[seed2_name], axis=1)\n",
    "    fracs = counts.div(counts.CD_MemberList, axis=0)\n",
    "    return fracs"
   ]
  },
  {
   "cell_type": "code",
   "execution_count": 20,
   "metadata": {
    "ExecuteTime": {
     "end_time": "2022-06-30T19:14:33.649242Z",
     "start_time": "2022-06-30T19:14:33.311827Z"
    }
   },
   "outputs": [
    {
     "data": {
      "text/html": [
       "<div>\n",
       "<style scoped>\n",
       "    .dataframe tbody tr th:only-of-type {\n",
       "        vertical-align: middle;\n",
       "    }\n",
       "\n",
       "    .dataframe tbody tr th {\n",
       "        vertical-align: top;\n",
       "    }\n",
       "\n",
       "    .dataframe thead th {\n",
       "        text-align: right;\n",
       "    }\n",
       "</style>\n",
       "<table border=\"1\" class=\"dataframe\">\n",
       "  <thead>\n",
       "    <tr style=\"text-align: right;\">\n",
       "      <th></th>\n",
       "      <th>overlap</th>\n",
       "      <th>h_seed</th>\n",
       "      <th>r_seed</th>\n",
       "      <th>CD_MemberList</th>\n",
       "      <th>network</th>\n",
       "    </tr>\n",
       "  </thead>\n",
       "  <tbody>\n",
       "    <tr>\n",
       "      <th>C877</th>\n",
       "      <td>0.032710</td>\n",
       "      <td>0.320872</td>\n",
       "      <td>0.144860</td>\n",
       "      <td>1.0</td>\n",
       "      <td>0.501558</td>\n",
       "    </tr>\n",
       "    <tr>\n",
       "      <th>C878</th>\n",
       "      <td>0.037383</td>\n",
       "      <td>0.294393</td>\n",
       "      <td>0.130841</td>\n",
       "      <td>1.0</td>\n",
       "      <td>0.537383</td>\n",
       "    </tr>\n",
       "    <tr>\n",
       "      <th>C879</th>\n",
       "      <td>0.041420</td>\n",
       "      <td>0.295858</td>\n",
       "      <td>0.142012</td>\n",
       "      <td>1.0</td>\n",
       "      <td>0.520710</td>\n",
       "    </tr>\n",
       "    <tr>\n",
       "      <th>C880</th>\n",
       "      <td>0.012739</td>\n",
       "      <td>0.369427</td>\n",
       "      <td>0.159236</td>\n",
       "      <td>1.0</td>\n",
       "      <td>0.458599</td>\n",
       "    </tr>\n",
       "    <tr>\n",
       "      <th>C881</th>\n",
       "      <td>0.014706</td>\n",
       "      <td>0.441176</td>\n",
       "      <td>0.161765</td>\n",
       "      <td>1.0</td>\n",
       "      <td>0.382353</td>\n",
       "    </tr>\n",
       "  </tbody>\n",
       "</table>\n",
       "</div>"
      ],
      "text/plain": [
       "       overlap    h_seed    r_seed  CD_MemberList   network\n",
       "C877  0.032710  0.320872  0.144860            1.0  0.501558\n",
       "C878  0.037383  0.294393  0.130841            1.0  0.537383\n",
       "C879  0.041420  0.295858  0.142012            1.0  0.520710\n",
       "C880  0.012739  0.369427  0.159236            1.0  0.458599\n",
       "C881  0.014706  0.441176  0.161765            1.0  0.382353"
      ]
     },
     "execution_count": 20,
     "metadata": {},
     "output_type": "execute_result"
    }
   ],
   "source": [
    "# Get fractions of seed genes\n",
    "seed_fractions = get_seed_gene_fractions(BMI_hier_df, seed_bin_human_BMI, seed_bin_rat_BMI)\n",
    "seed_fractions.to_csv(DATADIR+\"outputs/BMI_hierarchy_community_seed_fractions\", index=True, header=True, sep= \"\\t\")\n",
    "seed_fractions.head()"
   ]
  },
  {
   "cell_type": "markdown",
   "metadata": {},
   "source": [
    "## TODO GO ANNOTATION & VISUALIZE AGAIN"
   ]
  },
  {
   "cell_type": "code",
   "execution_count": 21,
   "metadata": {
    "ExecuteTime": {
     "end_time": "2022-06-30T19:14:36.416387Z",
     "start_time": "2022-06-30T19:14:36.414716Z"
    }
   },
   "outputs": [],
   "source": [
    "# Annotate with GO terms"
   ]
  },
  {
   "cell_type": "markdown",
   "metadata": {},
   "source": [
    "## Validation"
   ]
  },
  {
   "cell_type": "code",
   "execution_count": 22,
   "metadata": {
    "ExecuteTime": {
     "end_time": "2022-06-30T19:14:42.158597Z",
     "start_time": "2022-06-30T19:14:37.845239Z"
    }
   },
   "outputs": [],
   "source": [
    "# load mappings between genes and mammalian phenotypes\n",
    "mgi_df = load_MGI_mouseKO_data(url='http://www.informatics.jax.org/downloads/reports/MGI_PhenoGenoMP.rpt', \n",
    "                               map_using=\"mgi\", update=False, data_loc=DATADIR+\"Reference/\")"
   ]
  },
  {
   "cell_type": "code",
   "execution_count": 23,
   "metadata": {
    "ExecuteTime": {
     "end_time": "2022-06-30T19:14:42.318527Z",
     "start_time": "2022-06-30T19:14:42.244544Z"
    }
   },
   "outputs": [],
   "source": [
    "def change_symbols(mgi_data, pc_node_map):\n",
    "    symbol_map = pd.Series(pc_node_map.index.values, index=pc_node_map[\"symbol\"]).to_dict()\n",
    "    mgi_data[\"human_ortholog\"] = mgi_data[\"human_ortholog\"].map(symbol_map)\n",
    "    return mgi_data\n",
    "\n",
    "mgi_df = change_symbols(mgi_df, updated_pc_nodes)"
   ]
  },
  {
   "cell_type": "code",
   "execution_count": 24,
   "metadata": {
    "ExecuteTime": {
     "end_time": "2022-06-30T19:14:44.389110Z",
     "start_time": "2022-06-30T19:14:42.405760Z"
    }
   },
   "outputs": [
    {
     "name": "stdout",
     "output_type": "stream",
     "text": [
      "14555\n",
      "WARNING: Dropping 97377 duplicate gene-term connections\n"
     ]
    }
   ],
   "source": [
    "MPO = load_MPO(url='http://www.informatics.jax.org/downloads/reports/MPheno_OBO.ontology', \n",
    "                          use_genes=True, mapping=mgi_df, data_loc=DATADIR+\"Reference/\")"
   ]
  },
  {
   "cell_type": "code",
   "execution_count": 25,
   "metadata": {
    "ExecuteTime": {
     "end_time": "2022-06-30T19:14:47.165528Z",
     "start_time": "2022-06-30T19:14:44.481027Z"
    }
   },
   "outputs": [],
   "source": [
    "term_counts, gene_mapping, term_mapping = genes_per_node(MPO)"
   ]
  },
  {
   "cell_type": "code",
   "execution_count": 26,
   "metadata": {
    "ExecuteTime": {
     "end_time": "2022-06-30T19:14:47.962303Z",
     "start_time": "2022-06-30T19:14:47.825333Z"
    }
   },
   "outputs": [],
   "source": [
    "mp_graph = get_mp_graph(DATADIR+\"Reference/parsed_mp.txt\")"
   ]
  },
  {
   "cell_type": "code",
   "execution_count": 187,
   "metadata": {
    "ExecuteTime": {
     "end_time": "2022-06-30T21:42:50.555387Z",
     "start_time": "2022-06-30T21:42:50.553033Z"
    }
   },
   "outputs": [],
   "source": [
    "body_size_traits = [\"MP:0005378\", \"MP:0003956\", \"MP:0010866\", \"MP:0005451\"]\n",
    "body_size_traits = [num_to_mp(x) for x in [ 1697, 10866, 1731, 5451]]"
   ]
  },
  {
   "cell_type": "code",
   "execution_count": 28,
   "metadata": {
    "ExecuteTime": {
     "end_time": "2022-06-30T19:15:43.534621Z",
     "start_time": "2022-06-30T19:14:50.561276Z"
    }
   },
   "outputs": [
    {
     "name": "stderr",
     "output_type": "stream",
     "text": [
      "100%|██████████| 61/61 [00:52<00:00,  1.15it/s]\n"
     ]
    }
   ],
   "source": [
    "bmi_phenotypes = []\n",
    "for community in tqdm(BMI_hier_df.index):\n",
    "    x = community_term_enrichment(community,  BMI_hier_df, MPO, mgi_df, term_counts, gene_mapping, G_int=G_PC)\n",
    "    x = x.assign(name=community)\n",
    "    bmi_phenotypes.append(x)"
   ]
  },
  {
   "cell_type": "code",
   "execution_count": 29,
   "metadata": {
    "ExecuteTime": {
     "end_time": "2022-06-30T19:15:44.839999Z",
     "start_time": "2022-06-30T19:15:44.830600Z"
    }
   },
   "outputs": [],
   "source": [
    "bmi_pheno_results = pd.concat(bmi_phenotypes)"
   ]
  },
  {
   "cell_type": "code",
   "execution_count": 30,
   "metadata": {
    "ExecuteTime": {
     "end_time": "2022-06-30T19:15:57.270091Z",
     "start_time": "2022-06-30T19:15:57.262419Z"
    }
   },
   "outputs": [
    {
     "data": {
      "text/html": [
       "<div>\n",
       "<style scoped>\n",
       "    .dataframe tbody tr th:only-of-type {\n",
       "        vertical-align: middle;\n",
       "    }\n",
       "\n",
       "    .dataframe tbody tr th {\n",
       "        vertical-align: top;\n",
       "    }\n",
       "\n",
       "    .dataframe thead th {\n",
       "        text-align: right;\n",
       "    }\n",
       "</style>\n",
       "<table border=\"1\" class=\"dataframe\">\n",
       "  <thead>\n",
       "    <tr style=\"text-align: right;\">\n",
       "      <th></th>\n",
       "      <th>observed</th>\n",
       "      <th>total</th>\n",
       "      <th>OR</th>\n",
       "      <th>OR_p</th>\n",
       "      <th>OR_CI_lower</th>\n",
       "      <th>OR_CI_upper</th>\n",
       "      <th>hyper_p</th>\n",
       "      <th>sig_5e6</th>\n",
       "      <th>description</th>\n",
       "      <th>size</th>\n",
       "      <th>name</th>\n",
       "    </tr>\n",
       "  </thead>\n",
       "  <tbody>\n",
       "    <tr>\n",
       "      <th>MP:0000001</th>\n",
       "      <td>463</td>\n",
       "      <td>12408</td>\n",
       "      <td>1.349705</td>\n",
       "      <td>0.000794</td>\n",
       "      <td>1.132792</td>\n",
       "      <td>1.608155</td>\n",
       "      <td>0.000270</td>\n",
       "      <td>False</td>\n",
       "      <td>mammalian phenotype</td>\n",
       "      <td>642</td>\n",
       "      <td>C877</td>\n",
       "    </tr>\n",
       "    <tr>\n",
       "      <th>MP:0010768</th>\n",
       "      <td>264</td>\n",
       "      <td>6243</td>\n",
       "      <td>1.424977</td>\n",
       "      <td>0.000015</td>\n",
       "      <td>1.214016</td>\n",
       "      <td>1.672596</td>\n",
       "      <td>0.000008</td>\n",
       "      <td>False</td>\n",
       "      <td>mortality/aging</td>\n",
       "      <td>642</td>\n",
       "      <td>C877</td>\n",
       "    </tr>\n",
       "    <tr>\n",
       "      <th>MP:0010769</th>\n",
       "      <td>253</td>\n",
       "      <td>5839</td>\n",
       "      <td>1.466104</td>\n",
       "      <td>0.000003</td>\n",
       "      <td>1.247577</td>\n",
       "      <td>1.722908</td>\n",
       "      <td>0.000002</td>\n",
       "      <td>True</td>\n",
       "      <td>abnormal survival</td>\n",
       "      <td>642</td>\n",
       "      <td>C877</td>\n",
       "    </tr>\n",
       "    <tr>\n",
       "      <th>MP:0005376</th>\n",
       "      <td>241</td>\n",
       "      <td>6162</td>\n",
       "      <td>1.244119</td>\n",
       "      <td>0.008519</td>\n",
       "      <td>1.057276</td>\n",
       "      <td>1.463980</td>\n",
       "      <td>0.003991</td>\n",
       "      <td>False</td>\n",
       "      <td>homeostasis/metabolism phenotype</td>\n",
       "      <td>642</td>\n",
       "      <td>C877</td>\n",
       "    </tr>\n",
       "    <tr>\n",
       "      <th>MP:0005378</th>\n",
       "      <td>238</td>\n",
       "      <td>5947</td>\n",
       "      <td>1.286670</td>\n",
       "      <td>0.002467</td>\n",
       "      <td>1.092939</td>\n",
       "      <td>1.514742</td>\n",
       "      <td>0.001181</td>\n",
       "      <td>False</td>\n",
       "      <td>growth/size/body region phenotype</td>\n",
       "      <td>642</td>\n",
       "      <td>C877</td>\n",
       "    </tr>\n",
       "  </tbody>\n",
       "</table>\n",
       "</div>"
      ],
      "text/plain": [
       "            observed  total        OR      OR_p  OR_CI_lower  OR_CI_upper  \\\n",
       "MP:0000001       463  12408  1.349705  0.000794     1.132792     1.608155   \n",
       "MP:0010768       264   6243  1.424977  0.000015     1.214016     1.672596   \n",
       "MP:0010769       253   5839  1.466104  0.000003     1.247577     1.722908   \n",
       "MP:0005376       241   6162  1.244119  0.008519     1.057276     1.463980   \n",
       "MP:0005378       238   5947  1.286670  0.002467     1.092939     1.514742   \n",
       "\n",
       "             hyper_p  sig_5e6                        description  size  name  \n",
       "MP:0000001  0.000270    False                mammalian phenotype   642  C877  \n",
       "MP:0010768  0.000008    False                    mortality/aging   642  C877  \n",
       "MP:0010769  0.000002     True                  abnormal survival   642  C877  \n",
       "MP:0005376  0.003991    False   homeostasis/metabolism phenotype   642  C877  \n",
       "MP:0005378  0.001181    False  growth/size/body region phenotype   642  C877  "
      ]
     },
     "execution_count": 30,
     "metadata": {},
     "output_type": "execute_result"
    }
   ],
   "source": [
    "bmi_pheno_results.head()"
   ]
  },
  {
   "cell_type": "markdown",
   "metadata": {},
   "source": [
    "## Volcano Plot"
   ]
  },
  {
   "cell_type": "code",
   "execution_count": 224,
   "metadata": {
    "ExecuteTime": {
     "end_time": "2022-06-30T22:19:10.888364Z",
     "start_time": "2022-06-30T22:19:10.879207Z"
    }
   },
   "outputs": [],
   "source": [
    "comm_results_body_size = bmi_pheno_results.loc[body_size_traits].sort_values(by=\"OR_CI_lower\", ascending=False)\n",
    "comm_results_body_size[\"q\"] = fdrcorrection(list(comm_results_body_size.OR_p.values), method=\"poscorr\")[1]\n",
    "comm_results_body_size[\"-log10q\"] = comm_results_body_size.q.apply(lambda x: -1 * np.log10(x))\n",
    "comm_results_body_size[\"annotate\"] = comm_results_body_size.apply(lambda x: x[\"name\"] if (x[\"q\"] < 0.1) and\n",
    "                                                                  x[\"name\"]!=\"C917\" else \"Other\", axis=1)"
   ]
  },
  {
   "cell_type": "code",
   "execution_count": 203,
   "metadata": {
    "ExecuteTime": {
     "end_time": "2022-06-30T21:48:05.430842Z",
     "start_time": "2022-06-30T21:48:05.427611Z"
    }
   },
   "outputs": [],
   "source": [
    "# get color palette\n",
    "my_palette = sns.color_palette(\"Set1\").as_hex()[0:8] + [sns.color_palette(\"Set2\").as_hex()[i] for i in [0, 2, 4,6,7]]"
   ]
  },
  {
   "cell_type": "code",
   "execution_count": 225,
   "metadata": {
    "ExecuteTime": {
     "end_time": "2022-06-30T22:19:27.736030Z",
     "start_time": "2022-06-30T22:19:24.737326Z"
    },
    "scrolled": true
   },
   "outputs": [
    {
     "data": {
      "image/png": "[encoded data removed]",
      "text/plain": [
       "<Figure size 576x576 with 1 Axes>"
      ]
     },
     "metadata": {
      "needs_background": "light"
     },
     "output_type": "display_data"
    }
   ],
   "source": [
    "fig, ax = plt.subplots(figsize=(8, 8))\n",
    "sns.scatterplot(data=comm_results_body_size, x=\"OR\", y=\"-log10q\", style=\"description\", hue=\"annotate\",\n",
    "               hue_order=[\"C877\", \"C889\", \"C882\", \"C900\", \"C921\", \"C914\",\"C933\", \"C886\", \"C880\",\n",
    "                      \"C885\", \"C894\",\"C879\", \"Other\"],\n",
    "               legend=\"brief\", palette=my_palette,\n",
    "               s=100, ax=ax)\n",
    "plt.xscale(\"log\")\n",
    "plt.xlabel(\"Odds Ratio\", fontsize=16)\n",
    "plt.xticks(fontsize=16)\n",
    "plt.yticks(fontsize=16)\n",
    "plt.ylabel(\"$\\minus log_{10}q$\", fontsize=16)\n",
    "plt.vlines(1, 0, 2.7, \"black\", \"dashed\", zorder=0, linewidths=1)\n",
    "plt.hlines(-1 * np.log10(0.1), 0.1, 25, \"black\", \"dashed\", linewidths=1)\n",
    "ax.margins(0)\n",
    "plt.savefig(FIGDIR+\"volcano_with_legend.png\", bbox_inches=\"tight\", dpi=400)"
   ]
  },
  {
   "cell_type": "markdown",
   "metadata": {},
   "source": [
    "## TODO Heatmap?"
   ]
  }
 ],
 "metadata": {
  "kernelspec": {
   "display_name": "Python [conda env:rat_pub]",
   "language": "python",
   "name": "conda-env-rat_pub-py"
  },
  "language_info": {
   "codemirror_mode": {
    "name": "ipython",
    "version": 3
   },
   "file_extension": ".py",
   "mimetype": "text/x-python",
   "name": "python",
   "nbconvert_exporter": "python",
   "pygments_lexer": "ipython3",
   "version": "3.9.13"
  },
  "toc": {
   "base_numbering": 1,
   "nav_menu": {},
   "number_sections": true,
   "sideBar": true,
   "skip_h1_title": false,
   "title_cell": "Table of Contents",
   "title_sidebar": "Contents",
   "toc_cell": false,
   "toc_position": {
    "height": "calc(100% - 180px)",
    "left": "10px",
    "top": "150px",
    "width": "341.453px"
   },
   "toc_section_display": true,
   "toc_window_display": true
  },
  "varInspector": {
   "cols": {
    "lenName": 16,
    "lenType": 16,
    "lenVar": 40
   },
   "kernels_config": {
    "python": {
     "delete_cmd_postfix": "",
     "delete_cmd_prefix": "del ",
     "library": "var_list.py",
     "varRefreshCmd": "print(var_dic_list())"
    },
    "r": {
     "delete_cmd_postfix": ") ",
     "delete_cmd_prefix": "rm(",
     "library": "var_list.r",
     "varRefreshCmd": "cat(var_dic_list()) "
    }
   },
   "types_to_exclude": [
    "module",
    "function",
    "builtin_function_or_method",
    "instance",
    "_Feature"
   ],
   "window_display": false
  }
 },
 "nbformat": 4,
 "nbformat_minor": 2
}
