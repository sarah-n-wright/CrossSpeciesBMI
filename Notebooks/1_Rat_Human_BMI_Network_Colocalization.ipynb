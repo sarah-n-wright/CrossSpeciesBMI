{
 "cells": [
  {
   "cell_type": "markdown",
   "metadata": {},
   "source": [
    "# Todo\n",
    "\n",
    "* update all plots to latest versions and correct figure numbers, reorder intro as needed\n",
    "* test all again on new environment\n",
    "* Check rat seed genes - should not use sampling\n",
    "* Get and incorporate new control traits, including AR as well!\n",
    "* Two versions of control trait plots\n",
    "* Need to add sampling for the control traits...\n",
    "\n",
    "**DONE**  \n",
    "* plot control results - DONE\n",
    "* test all for rerun_analysis = False - DONE\n",
    "* test all for rerun_analysis = True - mostly tested, need to run the long ones - DONE\n",
    "* make sure all points in text are covered here in the order presented. - DONE\n",
    "* Incorporate other control stuff - to go in supplemental\n",
    "* Rat-rat on Rat String - DONE\n",
    "\n",
    "\n",
    "THIS NOTEBOOK SHOULD PRODUCE ALL PLOTS FOR FIGURE 2 + RELEVANT EXTENDED DATA FIGURES"
   ]
  },
  {
   "cell_type": "markdown",
   "metadata": {},
   "source": [
    "# Introduction\n",
    "\n",
    "This notebook takes gene level summary statistics for body mass index (BMI) in humans and rats, performs network colocalization and defines a cross-species conserved BMI network. The significance of this colocalization is assessed via comparison to an empirical null distribution and analysis of positive and negative control traits.  Analysis of the conserved BMI network can be found in Notebook 2. \n",
    "\n",
    "**Figures produced in this notebook:**\n",
    "* Figure 2X. Venn diagram of overlap between input BMI gene sets\n",
    "* Extended Data X. Distribution of mean $NPS_{hr}$ scores\n",
    "* Figure 2X. Distribution of colocalized network sizes\n",
    "* Figure 2X, Extended Data X. Scatter plots of $NPS_h$ vs $NPS_r$ defining the conserved BMI network\n",
    "* Figure 2X. Venn diagram of overlap between rat and human input sets at the network level\n",
    "* Extended Data X. Venn diagram of overlap between input height/body length gene sets\n",
    "* Figure 2X. Bar plot of network colocalizations for control traits\n",
    "\n",
    "\n",
    "**Note on rerunning the analysis:**\n",
    "- If `rerun_analysis == False` (default) this notebook will load precomputed values for network propagation. The permutation analyses will still be rerun. Because the permutation analysis involves random shuffling of the data the results generated will differ slightly from those reported.\n",
    "- If `rerun_analysis == True` this notebook will rerun all network propagation steps, including sampling analysis for human BMI and height. This requires significant memory (32GB+) and takes > 6 hours. Due to randomization in the sampling analysis the results generated will differ slightly from those reported. \n"
   ]
  },
  {
   "cell_type": "code",
   "execution_count": 1,
   "metadata": {
    "ExecuteTime": {
     "end_time": "2022-09-06T23:14:12.634276Z",
     "start_time": "2022-09-06T23:14:12.632517Z"
    }
   },
   "outputs": [],
   "source": [
    "# set whether all analyses should be rerun (see note above)\n",
    "rerun_analysis = False\n",
    "if rerun_analysis:\n",
    "    num_samples=100 # how many sampling runs should be performed (~2min per run)"
   ]
  },
  {
   "cell_type": "markdown",
   "metadata": {},
   "source": [
    "# Set Up"
   ]
  },
  {
   "cell_type": "code",
   "execution_count": 2,
   "metadata": {
    "ExecuteTime": {
     "end_time": "2022-09-06T23:14:19.155088Z",
     "start_time": "2022-09-06T23:14:12.795842Z"
    }
   },
   "outputs": [
    {
     "name": "stderr",
     "output_type": "stream",
     "text": [
      "DISCLAIMIER: cdapsutil is experimental and may contain errors and interfaces may change\n"
     ]
    }
   ],
   "source": [
    "# Import required libraries\n",
    "import os\n",
    "import sys\n",
    "import ndex2\n",
    "from getpass import getpass\n",
    "import cdapsutil\n",
    "import pandas as pd\n",
    "import mygene\n",
    "mg = mygene.MyGeneInfo()\n",
    "from netcoloc import netprop_zscore, netprop\n",
    "\n",
    "import matplotlib.pyplot as plt\n",
    "import seaborn as sns\n",
    "from matplotlib_venn import venn2, venn3"
   ]
  },
  {
   "cell_type": "code",
   "execution_count": 3,
   "metadata": {
    "ExecuteTime": {
     "end_time": "2022-09-06T23:14:19.159828Z",
     "start_time": "2022-09-06T23:14:19.156522Z"
    }
   },
   "outputs": [],
   "source": [
    "# Set up directory paths. Defaults to the Data/ and Figures/ folders within the repository.\n",
    "cwd = os.path.dirname(os.getcwd())\n",
    "DATADIR = os.path.join(cwd, \"Data/\")\n",
    "FIGDIR = os.path.join(cwd, \"Figures/rerun_\")"
   ]
  },
  {
   "cell_type": "code",
   "execution_count": 5,
   "metadata": {
    "ExecuteTime": {
     "end_time": "2022-09-06T23:14:25.245298Z",
     "start_time": "2022-09-06T23:14:25.243398Z"
    }
   },
   "outputs": [],
   "source": [
    "# Import functions specific to this study\n",
    "sys.path.append(cwd)\n",
    "from updated_netcoloc_functions import *\n",
    "from analysis_functions import *\n",
    "from plotting_functions import *"
   ]
  },
  {
   "cell_type": "markdown",
   "metadata": {},
   "source": [
    "# Load Input Data\n",
    "\n",
    "Seed gene sets are loaded from gene-level GWAS summary statistics.\n",
    "* Human BMI seed genes are defined as those meeting a Bonferonni corrected p-value of  p < 0.05 following PASCAL SNP-to-Gene mapping, that are present in PCNet\n",
    "* Rat BMI seed genes are defined as those meeting a relaxed threshold of p < 1E-6 following positional SNP-to-Gene mapping, that have a human ortholog present in PCNet"
   ]
  },
  {
   "cell_type": "markdown",
   "metadata": {},
   "source": [
    "## Load molecular interaction network\n",
    "\n",
    "Note: if you receive a connection error, please try again"
   ]
  },
  {
   "cell_type": "code",
   "execution_count": 6,
   "metadata": {
    "ExecuteTime": {
     "end_time": "2022-09-06T23:14:39.398839Z",
     "start_time": "2022-09-06T23:14:26.945832Z"
    }
   },
   "outputs": [
    {
     "name": "stdout",
     "output_type": "stream",
     "text": [
      "number of nodes:\n",
      "18820\n",
      "\n",
      "number of edges:\n",
      "2693109\n"
     ]
    }
   ],
   "source": [
    "pc_nodes, G_PC = load_pcnet()"
   ]
  },
  {
   "cell_type": "markdown",
   "metadata": {},
   "source": [
    "## Load human and rat BMI seed genes"
   ]
  },
  {
   "cell_type": "code",
   "execution_count": 7,
   "metadata": {
    "ExecuteTime": {
     "end_time": "2022-09-06T23:14:39.785480Z",
     "start_time": "2022-09-06T23:14:39.513404Z"
    }
   },
   "outputs": [
    {
     "name": "stdout",
     "output_type": "stream",
     "text": [
      "Number of BMI seeds: 1958\n"
     ]
    }
   ],
   "source": [
    "# load human seed genes from the PASCAL results\n",
    "seed_bin_human_BMI = load_human_seed_genes(DATADIR+'inputs/GIANT_BMI_pascal.sum.genescores.txt', \n",
    "                                              pc_nodes, 'BMI')"
   ]
  },
  {
   "cell_type": "code",
   "execution_count": 8,
   "metadata": {
    "ExecuteTime": {
     "end_time": "2022-09-06T23:14:40.000132Z",
     "start_time": "2022-09-06T23:14:39.899638Z"
    }
   },
   "outputs": [
    {
     "name": "stdout",
     "output_type": "stream",
     "text": [
      "Number of genes meeting p < 0.0001 : 476\n",
      "Number of significant genes with human orthologs: 308\n",
      "Final number of seed genes in network: 295\n"
     ]
    }
   ],
   "source": [
    "# load the rat seed genes from gene-level summary statistics with human ortholog mapping\n",
    "seed_bin_rat_BMI = load_rat_seed_genes(DATADIR + \"inputs/rat_BMI_summary_stats_wo_tail.tsv\", pc_nodes, th=1e-4)"
   ]
  },
  {
   "cell_type": "code",
   "execution_count": 9,
   "metadata": {
    "ExecuteTime": {
     "end_time": "2022-09-06T23:14:40.115670Z",
     "start_time": "2022-09-06T23:14:40.113833Z"
    }
   },
   "outputs": [],
   "source": [
    "# Initialize dictionary for storing the seed genes\n",
    "seed_dict = {'hBMI': seed_bin_human_BMI, 'rBMI': seed_bin_rat_BMI}"
   ]
  },
  {
   "cell_type": "markdown",
   "metadata": {},
   "source": [
    "# Gene level overlap"
   ]
  },
  {
   "cell_type": "code",
   "execution_count": 10,
   "metadata": {
    "ExecuteTime": {
     "end_time": "2022-09-06T23:14:42.221429Z",
     "start_time": "2022-09-06T23:14:42.218202Z"
    },
    "code_folding": [],
    "run_control": {
     "marked": true
    }
   },
   "outputs": [],
   "source": [
    "def direct_overlap(all_nodes, seeds1, seeds2, labels=[\"Human\", \"Rat\"], trait=\"\"):\n",
    "    hyper = hypergeom(M=len(all_nodes), n=len(seeds1), N=len(seeds2))\n",
    "    intersect = set(seeds1).intersection(set(seeds2))\n",
    "    p_intersect = hyper.sf(len(intersect))\n",
    "    venn2([len(seeds1)-len(intersect), len(seeds2)-len(intersect), len(intersect)], labels,\n",
    "     set_colors=('skyblue', 'purple'), alpha=0.7)\n",
    "    _ = plt.title(\"-\".join(labels) + \" \" +trait +\" seed gene overlap, p=\"+str(p_intersect))"
   ]
  },
  {
   "cell_type": "code",
   "execution_count": 11,
   "metadata": {
    "ExecuteTime": {
     "end_time": "2022-09-06T23:14:43.757758Z",
     "start_time": "2022-09-06T23:14:43.054197Z"
    }
   },
   "outputs": [
    {
     "data": {
      "image/png": "[encoded data removed]",
      "text/plain": [
       "<Figure size 432x288 with 1 Axes>"
      ]
     },
     "metadata": {},
     "output_type": "display_data"
    }
   ],
   "source": [
    "direct_overlap(pc_nodes, seed_bin_human_BMI, seed_bin_rat_BMI, trait=\"BMI\")"
   ]
  },
  {
   "cell_type": "markdown",
   "metadata": {},
   "source": [
    "# Perform BMI network colocalization"
   ]
  },
  {
   "cell_type": "code",
   "execution_count": 12,
   "metadata": {
    "ExecuteTime": {
     "end_time": "2022-09-06T23:14:45.196079Z",
     "start_time": "2022-09-06T23:14:45.193897Z"
    }
   },
   "outputs": [],
   "source": [
    "# set the number of repitions for determining the null distribution at each node\n",
    "num_reps = 1000\n",
    "# precalculate network propagation heats\n",
    "if rerun_analysis:\n",
    "    w_prime = netprop.get_normalized_adjacency_matrix(G_PC, conserve_heat=True, weighted=False)\n",
    "    indiv_heats = netprop.get_individual_heats_matrix(w_prime, alpha=0.5)"
   ]
  },
  {
   "cell_type": "markdown",
   "metadata": {},
   "source": [
    "## Calculate Z-scores"
   ]
  },
  {
   "cell_type": "code",
   "execution_count": 13,
   "metadata": {
    "ExecuteTime": {
     "end_time": "2022-09-06T23:14:46.314423Z",
     "start_time": "2022-09-06T23:14:46.312636Z"
    }
   },
   "outputs": [],
   "source": [
    "# Initialize dictionary for storing z-scores\n",
    "z_dict = {}"
   ]
  },
  {
   "cell_type": "markdown",
   "metadata": {},
   "source": [
    "### Human BMI"
   ]
  },
  {
   "cell_type": "code",
   "execution_count": 14,
   "metadata": {
    "ExecuteTime": {
     "end_time": "2022-09-06T23:14:48.055180Z",
     "start_time": "2022-09-06T23:14:47.482886Z"
    }
   },
   "outputs": [],
   "source": [
    "if rerun_analysis: # perform sampling analysis for network propagation\n",
    "    BMI_pascal_results = pd.read_csv(DATADIR+\"inputs/GIANT_BMI_pascal.sum.genescores.txt\", sep=\"\\t\")\n",
    "    BMI_samples = calculate_heat_zscores_with_sampling(BMI_pascal_results, pc_nodes, indiv_heats, G_PC, trait=\"BMI\",\n",
    "                                                            out_path=DATADIR+\"outputs/rerun_\", num_samples=num_samples)\n",
    "    z_human_bin_BMI = get_consensus_z_scores(BMI_samples, 0.75)\n",
    "else:  # use pre-calculated results\n",
    "    z_human_bin_BMI = get_consensus_z_scores(DATADIR+'outputs/z_human_bin_BMI_SAMPLED_500_100_weighted.tsv')\n",
    "z_dict['hBMI'] = z_human_bin_BMI"
   ]
  },
  {
   "cell_type": "markdown",
   "metadata": {},
   "source": [
    "### Rat BMI"
   ]
  },
  {
   "cell_type": "code",
   "execution_count": 15,
   "metadata": {
    "ExecuteTime": {
     "end_time": "2022-09-06T23:14:48.860398Z",
     "start_time": "2022-09-06T23:14:48.800197Z"
    }
   },
   "outputs": [],
   "source": [
    "if rerun_analysis: # perform network propagation\n",
    "    z_rat_BMI = netprop_zscore.calculate_heat_zscores(indiv_heats, list(G_PC.nodes),\n",
    "                                                    dict(G_PC.degree), \n",
    "                                                    seed_bin_rat_BMI,\n",
    "                                                    num_reps=num_reps, alpha=0.5,\n",
    "                                                    minimum_bin_size=10,\n",
    "                                                    random_seed=1)\n",
    "    pd.DataFrame(z_rat_BMI[0], columns=[\"z\"]).to_csv(DATADIR+\"outputs/rerun_z_rat_BMI.tsv\", sep=\"\\t\", index=True)\n",
    "    z_dict['rBMI'] = pd.DataFrame(z_rat_BMI[0], columns=[\"z\"])\n",
    "else: # use precomputed values\n",
    "    z_rat_BMI=pd.read_csv(DATADIR+'outputs/z_rat_BMI_relaxed_'+str(num_reps)+'_reps.tsv',sep='\\t',\n",
    "                          index_col='gene',names=['gene','z'], header=0)\n",
    "    z_dict['rBMI'] = z_rat_BMI"
   ]
  },
  {
   "cell_type": "code",
   "execution_count": 16,
   "metadata": {
    "ExecuteTime": {
     "end_time": "2022-09-06T23:14:49.563092Z",
     "start_time": "2022-09-06T23:14:49.409506Z"
    }
   },
   "outputs": [],
   "source": [
    "# export a dataframe of NPS scores\n",
    "nps_df = z_rat_BMI.join(z_human_bin_BMI, lsuffix=\"_rat\", rsuffix=\"_human\")\n",
    "nps_df.columns = [\"NPS_r\", \"NPS_h\"]\n",
    "nps_df = nps_df.assign(NPS_hr=nps_df.NPS_r * nps_df.NPS_h)\n",
    "nps_df.sort_index().to_csv(DATADIR + \"outputs/rat_human_BMI_all_NPS.tsv\", sep=\"\\t\")"
   ]
  },
  {
   "cell_type": "markdown",
   "metadata": {},
   "source": [
    "## Permutation Analysis of Mean NPS Score"
   ]
  },
  {
   "cell_type": "code",
   "execution_count": 17,
   "metadata": {
    "ExecuteTime": {
     "end_time": "2022-09-06T23:15:51.649960Z",
     "start_time": "2022-09-06T23:14:50.239337Z"
    }
   },
   "outputs": [
    {
     "name": "stdout",
     "output_type": "stream",
     "text": [
      "Overlap seed genes: 29\n"
     ]
    },
    {
     "name": "stderr",
     "output_type": "stream",
     "text": [
      "100%|██████████| 10000/10000 [01:01<00:00, 163.12it/s]\n"
     ]
    }
   ],
   "source": [
    "# Generate a null distribution of mean NPS by shuffling the z_scores\n",
    "observed_BMI, permuted_BMI = calculate_mean_z_score_distribution(z_dict['rBMI'], z_dict['hBMI'], num_reps=10000,\n",
    "                                                       zero_double_negatives=False, overlap_control=\"bin\",\n",
    "                                                       seed1=seed_dict['rBMI'], seed2=seed_dict['hBMI'])"
   ]
  },
  {
   "cell_type": "code",
   "execution_count": 18,
   "metadata": {
    "ExecuteTime": {
     "end_time": "2022-09-06T23:15:53.477861Z",
     "start_time": "2022-09-06T23:15:51.839044Z"
    }
   },
   "outputs": [
    {
     "data": {
      "image/png": "[encoded data removed]",
      "text/plain": [
       "<Figure size 360x288 with 1 Axes>"
      ]
     },
     "metadata": {
      "needs_background": "light"
     },
     "output_type": "display_data"
    }
   ],
   "source": [
    "plot_permutation_histogram(permuted_BMI, observed_BMI,'', 'Mean $NPS_{h,r}$',color=\"dimgrey\", arrow_color=\"#F5793A\")\n",
    "plt.savefig(FIGDIR + \"ratBMI_humanBMI_mean_NPS_histogram_400dpi.png\",dpi=400, bbox_inches=\"tight\")"
   ]
  },
  {
   "cell_type": "markdown",
   "metadata": {},
   "source": [
    "## Visualize results for BMI network colocalization"
   ]
  },
  {
   "cell_type": "code",
   "execution_count": 19,
   "metadata": {
    "ExecuteTime": {
     "end_time": "2022-09-06T23:15:53.859150Z",
     "start_time": "2022-09-06T23:15:53.653892Z"
    }
   },
   "outputs": [],
   "source": [
    "# compile z scores and seed gene status for each gene in the network\n",
    "netcoloc_data = pd.DataFrame(z_dict['hBMI']).join(z_dict['rBMI'], lsuffix=\"_human\", rsuffix=\"_rat\")\n",
    "netcoloc_data[\"human_seed\"] = netcoloc_data.index.isin(seed_bin_human_BMI) * 1 \n",
    "netcoloc_data[\"rat_seed\"] = netcoloc_data.index.isin(seed_bin_rat_BMI) * 1 \n",
    "netcoloc_data[\"hue\"] = netcoloc_data.apply(lambda x: \"#F5793A\" if (x.z_human > 1) and (x.z_rat > 1) \n",
    "                                           and (x.z_human * x.z_rat > 3) else \"grey\", axis=1)\n",
    "data_non_seed = netcoloc_data.loc[((netcoloc_data.rat_seed ==0) & (netcoloc_data.human_seed==0))]"
   ]
  },
  {
   "cell_type": "code",
   "execution_count": 20,
   "metadata": {
    "ExecuteTime": {
     "end_time": "2022-09-06T23:15:57.583571Z",
     "start_time": "2022-09-06T23:15:54.073557Z"
    }
   },
   "outputs": [
    {
     "data": {
      "image/png": "[encoded data removed]",
      "text/plain": [
       "<Figure size 1008x504 with 2 Axes>"
      ]
     },
     "metadata": {
      "needs_background": "light"
     },
     "output_type": "display_data"
    }
   ],
   "source": [
    "## scatter plot of species NPS scores \n",
    "fig, [ax1, ax2] = plt.subplots(1,2,figsize=(14,7))\n",
    "ax1.scatter(data=netcoloc_data, x=\"z_human\", y=\"z_rat\", color=\"hue\", \n",
    "                s=[1 if netcoloc_data.hue[i]==\"grey\" else 2 for i in range(len(netcoloc_data))], \n",
    "                alpha=[0.5 if netcoloc_data.hue[i]==\"grey\" else 1 for i in range(len(netcoloc_data))], \n",
    "                zorder=0, label=None)\n",
    "ax1.spines['left'].set(position=('data', -5), zorder=2)\n",
    "ax1.spines['bottom'].set(position=('data', -5), zorder=2)\n",
    "ax1.set_xlabel(\"$NPS_h$\", zorder=4, fontsize=12, color=\"#85c0F9\")\n",
    "ax1.set_ylabel(\"$NPS_r$\", fontsize=12, color=\"#A95AA1\")\n",
    "ax1.spines['top'].set_position(('data', 0.0))\n",
    "ax1.spines['right'].set_position(('data', 0.0))\n",
    "ax1.set_xlim((-5, 35))\n",
    "ax1.set_ylim((-5, 35))\n",
    "_ =ax1.set_title(\"All genes\")\n",
    "\n",
    "ax2.scatter(data=data_non_seed, x=\"z_human\", y=\"z_rat\", color=\"hue\", \n",
    "                s=[1 if data_non_seed.hue[i]==\"grey\" else 3 for i in range(len(data_non_seed))], \n",
    "                alpha=[0.5 if data_non_seed.hue[i]==\"grey\" else 1 for i in range(len(data_non_seed))], \n",
    "                zorder=0, label=None)\n",
    "ax2.scatter(data = data_non_seed[data_non_seed.hue != \"grey\"], x=\"z_human\", y=\"z_rat\", color=\"hue\", s=3, alpha=1, \n",
    "                zorder=1, label= \"Conserved BMI Network\" )\n",
    "ax2.set_ylabel(\"$NPS_r$\", fontsize=12, color=\"#A95AA1\")\n",
    "ax2.set_xlim((-3, 7))\n",
    "ax2.set_ylim((-3, 7))\n",
    "ax2.spines['left'].set(position=('data', -3), zorder=2)\n",
    "ax2.spines['bottom'].set(position=('data', -3), zorder=2)\n",
    "ax2.set_xlabel(\"$NPS_h$\", zorder=4, fontsize=12, color=\"#85c0F9\")\n",
    "ax2.spines['top'].set_position(('data', 0.0))\n",
    "ax2.spines['right'].set_position(('data', 0.0))\n",
    "_ =ax2.set_title(\"No seed genes\")\n",
    "plt.legend(fontsize=12)\n",
    "\n",
    "plt.savefig(FIGDIR + \"BMI_NPS_scatter_plots_conserved_network.png\", bbox_inches=\"tight\", dpi=400)"
   ]
  },
  {
   "cell_type": "code",
   "execution_count": 21,
   "metadata": {
    "ExecuteTime": {
     "end_time": "2022-09-06T23:15:57.800332Z",
     "start_time": "2022-09-06T23:15:57.794743Z"
    }
   },
   "outputs": [],
   "source": [
    "## Get gene sets meeting each of the thresholds\n",
    "h_set = set(netcoloc_data[netcoloc_data.z_human > 1].index)\n",
    "r_set = set(netcoloc_data[netcoloc_data.z_rat > 1].index)\n",
    "b_set = set(netcoloc_data[netcoloc_data.hue != \"grey\"].index)"
   ]
  },
  {
   "cell_type": "code",
   "execution_count": 22,
   "metadata": {
    "ExecuteTime": {
     "end_time": "2022-09-06T23:15:58.389466Z",
     "start_time": "2022-09-06T23:15:58.021490Z"
    }
   },
   "outputs": [
    {
     "name": "stderr",
     "output_type": "stream",
     "text": [
      "/cellar/users/snwright/anaconda3/envs/rat_pub/lib/python3.9/site-packages/matplotlib_venn/_venn3.py:117: UserWarning: Bad circle positioning\n",
      "  warnings.warn(\"Bad circle positioning\")\n"
     ]
    },
    {
     "data": {
      "image/png": "[encoded data removed]",
      "text/plain": [
       "<Figure size 432x288 with 1 Axes>"
      ]
     },
     "metadata": {},
     "output_type": "display_data"
    }
   ],
   "source": [
    "# create new venn diagram\n",
    "c = venn3([h_set, r_set, b_set.intersection(h_set).intersection(r_set)], \n",
    "          set_colors = [\"#85c0f9\", \"#a95aa1\", \"#f5793a\"], alpha=1, set_labels=[\"\", \"\", \"\"])\n",
    "c.get_patch_by_id('111').set_color('#f5793a')\n",
    "c.get_patch_by_id('110').set_color('#0051a2')\n",
    "c.get_label_by_id('110').set_color('white')\n",
    "plt.savefig(FIGDIR + \"PostColoc_venn3.png\", dpi=400, bbox_inches=\"tight\")"
   ]
  },
  {
   "cell_type": "code",
   "execution_count": 23,
   "metadata": {
    "ExecuteTime": {
     "end_time": "2022-09-06T23:15:58.618868Z",
     "start_time": "2022-09-06T23:15:58.611956Z"
    }
   },
   "outputs": [
    {
     "name": "stdout",
     "output_type": "stream",
     "text": [
      "Distribution of conserved network genes:\n",
      "Human & Rat Seeds: 21\n",
      "Human Only Seeds: 207\n",
      "Rat Only Seeds: 93\n",
      "Network Genes: 336\n"
     ]
    }
   ],
   "source": [
    "conserved_network = netcoloc_data[netcoloc_data[\"hue\"]!=\"grey\"]\n",
    "print(\"Distribution of conserved network genes:\")\n",
    "print(\"Human & Rat Seeds:\", len(conserved_network[((conserved_network.human_seed==1) & (conserved_network.rat_seed==1))]))\n",
    "print(\"Human Only Seeds:\", len(conserved_network[((conserved_network.human_seed==1) & (conserved_network.rat_seed==0))]))\n",
    "print(\"Rat Only Seeds:\", len(conserved_network[((conserved_network.human_seed==0) & (conserved_network.rat_seed==1))]))\n",
    "print(\"Network Genes:\", len(conserved_network[((conserved_network.human_seed==0) & (conserved_network.rat_seed==0))]))"
   ]
  },
  {
   "cell_type": "markdown",
   "metadata": {},
   "source": [
    "## Permutation Analysis of Conserved Network size"
   ]
  },
  {
   "cell_type": "code",
   "execution_count": 24,
   "metadata": {
    "ExecuteTime": {
     "end_time": "2022-09-06T23:18:15.895492Z",
     "start_time": "2022-09-06T23:15:58.854597Z"
    }
   },
   "outputs": [
    {
     "name": "stdout",
     "output_type": "stream",
     "text": [
      "Overlap seed genes: 29\n"
     ]
    },
    {
     "name": "stderr",
     "output_type": "stream",
     "text": [
      "100%|██████████| 10000/10000 [02:16<00:00, 73.01it/s]\n"
     ]
    }
   ],
   "source": [
    "# Generate a null distribution of colocalized network size by shuffling the z_scores and applying the thresholds:\n",
    "# NPS_r > 1, NPS_h > 1, NPS_hr > 3\n",
    "observed_BMI_sz, permuted_BMI_sz = calculate_expected_overlap(z_dict['rBMI'], z_dict['hBMI'], \n",
    "                                                            z_score_threshold=3, z1_threshold=1.0,\n",
    "                                                            z2_threshold=1.0, num_reps=10000, plot=False, \n",
    "                                                            overlap_control=\"bin\",\n",
    "                                                            seed1=seed_dict['rBMI'], seed2=seed_dict['hBMI'])"
   ]
  },
  {
   "cell_type": "code",
   "execution_count": 25,
   "metadata": {
    "ExecuteTime": {
     "end_time": "2022-09-06T23:18:17.150731Z",
     "start_time": "2022-09-06T23:18:16.147911Z"
    }
   },
   "outputs": [
    {
     "data": {
      "image/png": "[encoded data removed]",
      "text/plain": [
       "<Figure size 360x288 with 1 Axes>"
      ]
     },
     "metadata": {
      "needs_background": "light"
     },
     "output_type": "display_data"
    }
   ],
   "source": [
    "plot_permutation_histogram(permuted_BMI_sz, observed_BMI_sz,'', 'Size of colocalized network', color=\"dimgrey\",\n",
    "                          arrow_color=\"#F5793A\")\n",
    "plt.savefig(FIGDIR + \"ratBMI_humanBMI_netcoloc_size_histogram_400dpi.png\",dpi=400, bbox_inches=\"tight\")"
   ]
  },
  {
   "cell_type": "markdown",
   "metadata": {},
   "source": [
    "# Analysis with Rat String Network"
   ]
  },
  {
   "cell_type": "markdown",
   "metadata": {},
   "source": [
    "## Load control network\n",
    "\n",
    "To test whether the results are reproducible on a rat network we defined a high confidence rat network from STRING v11.5. From all links available for *R. norvegicus* we extracted all links with a score > 700 (equivalent to score > 0.7)."
   ]
  },
  {
   "cell_type": "code",
   "execution_count": 26,
   "metadata": {
    "ExecuteTime": {
     "end_time": "2022-09-06T23:18:21.042742Z",
     "start_time": "2022-09-06T23:18:17.402458Z"
    }
   },
   "outputs": [
    {
     "name": "stdout",
     "output_type": "stream",
     "text": [
      "Number of nodes:\n",
      "16787\n",
      "\n",
      "Number of edges:\n",
      "277852\n"
     ]
    }
   ],
   "source": [
    "interactome_uuid='880c7d8c-f5ad-11ec-ac45-0ac135e8bacf' # for Rat String High Confidence\n",
    "ndex_server='public.ndexbio.org'\n",
    "ndex_user=None\n",
    "ndex_password=None\n",
    "G_rat_HC = ndex2.create_nice_cx_from_server(\n",
    "            ndex_server, \n",
    "            username=ndex_user, \n",
    "            password=ndex_password, \n",
    "            uuid=interactome_uuid\n",
    "        ).to_networkx()\n",
    "nodes_rat_HC = list(G_rat_HC.nodes)\n",
    "\n",
    "# remove any self edges\n",
    "G_rat_HC.remove_edges_from(nx.selfloop_edges(G_rat_HC))\n",
    "\n",
    "# remove unconnected nodes\n",
    "remove_nodes = [n[0] for n in G_rat_HC.degree() if n[1]==0]\n",
    "G_rat_HC.remove_nodes_from(remove_nodes)\n",
    "\n",
    "# print out interactome num nodes and edges for diagnostic purposes\n",
    "print('Number of nodes:')\n",
    "print(len(G_rat_HC.nodes))\n",
    "print('\\nNumber of edges:')\n",
    "print(len(G_rat_HC.edges))\n"
   ]
  },
  {
   "cell_type": "markdown",
   "metadata": {},
   "source": [
    "## Perform network colocalization of BMI on control network"
   ]
  },
  {
   "cell_type": "code",
   "execution_count": 27,
   "metadata": {
    "ExecuteTime": {
     "end_time": "2022-09-06T23:18:21.351170Z",
     "start_time": "2022-09-06T23:18:21.349080Z"
    }
   },
   "outputs": [],
   "source": [
    "# precalculate heats\n",
    "if rerun_analysis:\n",
    "    w_prime_rat_HC = netprop.get_normalized_adjacency_matrix(G_rat_HC, conserve_heat=True, weighted=False)\n",
    "    indiv_heats_rat_HC = netprop.get_individual_heats_matrix(w_prime_rat_HC, alpha=0.5)"
   ]
  },
  {
   "cell_type": "markdown",
   "metadata": {},
   "source": [
    "### Map human BMI seed genes to the rat network"
   ]
  },
  {
   "cell_type": "code",
   "execution_count": 28,
   "metadata": {
    "ExecuteTime": {
     "end_time": "2022-09-06T23:18:22.156166Z",
     "start_time": "2022-09-06T23:18:21.648754Z"
    }
   },
   "outputs": [],
   "source": [
    "# process ortholog mappings from HCOP\n",
    "ortho_map = pd.read_csv(DATADIR + \"Reference/human_rat_hcop_fifteen_column.txt.gz\", sep=\"\\t\", index_col=None)\n",
    "# restrict to entries with symbols for both species\n",
    "ortho_map = ortho_map[(ortho_map[\"human_symbol\"] != \"-\")]\n",
    "ortho_map = ortho_map[(ortho_map[\"rat_symbol\"] != \"-\")]\n",
    "# restrict to entries with chromosome information\n",
    "ortho_map = ortho_map[(ortho_map[\"human_chr\"] != \"-\")]\n",
    "ortho_map = ortho_map[(ortho_map[\"rat_chr\"] != \"-\")]\n",
    "# quantify number of supporting sources\n",
    "ortho_map[\"N_sources\"] = ortho_map.support.apply(lambda x: len(x.split(\",\")))\n",
    "ortho_map = ortho_map.sort_values(by=[\"human_symbol\", \"N_sources\"])"
   ]
  },
  {
   "cell_type": "code",
   "execution_count": 29,
   "metadata": {
    "ExecuteTime": {
     "end_time": "2022-09-06T23:18:22.526503Z",
     "start_time": "2022-09-06T23:18:22.499764Z"
    }
   },
   "outputs": [],
   "source": [
    "# Retrieve all significant genes without filtering through PCNet\n",
    "alpha_corrected_human=2.5e-6\n",
    "all_human_BMI_seed_genes = pd.read_csv(DATADIR+\"inputs/GIANT_BMI_pascal.sum.genescores.txt\", sep=\"\\t\")\n",
    "all_human_BMI_seed_genes = all_human_BMI_seed_genes.loc[all_human_BMI_seed_genes.pvalue < alpha_corrected_human].gene_symbol.unique()"
   ]
  },
  {
   "cell_type": "code",
   "execution_count": 30,
   "metadata": {
    "ExecuteTime": {
     "end_time": "2022-09-06T23:18:22.867572Z",
     "start_time": "2022-09-06T23:18:22.858997Z"
    }
   },
   "outputs": [
    {
     "name": "stdout",
     "output_type": "stream",
     "text": [
      "Number of significant human BMI genes: 1935\n"
     ]
    }
   ],
   "source": [
    "# map human BMI to rat orthologs\n",
    "ortho_map_bmi = ortho_map[ortho_map.human_symbol.isin(all_human_BMI_seed_genes)]\n",
    "# take ortholog supported by largest number of databases\n",
    "seed_human_bmi_rat_orthos = ortho_map_bmi.drop_duplicates(subset=\"human_symbol\", \n",
    "                                                          keep=\"last\", ignore_index=True).loc[:, (\"human_symbol\", \"rat_symbol\")]\n",
    "print(\"Number of significant human BMI genes:\", len(seed_human_bmi_rat_orthos))"
   ]
  },
  {
   "cell_type": "code",
   "execution_count": 31,
   "metadata": {
    "ExecuteTime": {
     "end_time": "2022-09-06T23:18:23.257673Z",
     "start_time": "2022-09-06T23:18:23.251424Z"
    }
   },
   "outputs": [
    {
     "name": "stdout",
     "output_type": "stream",
     "text": [
      "Rat orthologs of human BMI genes in rat STRING: 1598\n"
     ]
    }
   ],
   "source": [
    "# take ortholog supported by largest number of databases\n",
    "seed_human_bmi_rat_orthos = ortho_map_bmi.drop_duplicates(subset=\"human_symbol\", \n",
    "                                                          keep=\"last\", ignore_index=True).loc[:, (\"human_symbol\", \"rat_symbol\")]\n",
    "human_bmi_seed_genes_rat_HC = seed_human_bmi_rat_orthos.rat_symbol.unique()\n",
    "human_bmi_seed_genes_rat_HC = [g for g in human_bmi_seed_genes_rat_HC if g in G_rat_HC.nodes]\n",
    "print(\"Rat orthologs of human BMI genes in rat STRING:\", len(human_bmi_seed_genes_rat_HC))"
   ]
  },
  {
   "cell_type": "code",
   "execution_count": 32,
   "metadata": {
    "ExecuteTime": {
     "end_time": "2022-09-06T23:18:23.641516Z",
     "start_time": "2022-09-06T23:18:23.639567Z"
    }
   },
   "outputs": [],
   "source": [
    "seed_dict[\"hBMI_RS\"] = human_bmi_seed_genes_rat_HC"
   ]
  },
  {
   "cell_type": "markdown",
   "metadata": {},
   "source": [
    "### Map rat BMI genes to rat network"
   ]
  },
  {
   "cell_type": "code",
   "execution_count": 33,
   "metadata": {
    "ExecuteTime": {
     "end_time": "2022-09-06T23:18:24.075055Z",
     "start_time": "2022-09-06T23:18:24.020292Z"
    }
   },
   "outputs": [
    {
     "name": "stdout",
     "output_type": "stream",
     "text": [
      "Total significant rat BMI genes: 475\n"
     ]
    }
   ],
   "source": [
    "rat_bmi_results = pd.read_csv(DATADIR + \"inputs/rat_BMI_summary_stats_wo_tail.tsv\", sep=\"\\t\")\n",
    "rat_bmi_seed_genes_rat_HC = rat_bmi_results.loc[rat_bmi_results[\"TopSNP P-Value\"] < 1e-4, (\"Gene\")].values\n",
    "print(\"Total significant rat BMI genes:\", len(rat_bmi_seed_genes_rat_HC))"
   ]
  },
  {
   "cell_type": "code",
   "execution_count": 34,
   "metadata": {
    "ExecuteTime": {
     "end_time": "2022-09-06T23:18:24.554545Z",
     "start_time": "2022-09-06T23:18:24.499703Z"
    }
   },
   "outputs": [
    {
     "name": "stdout",
     "output_type": "stream",
     "text": [
      "Rat BMI genes in rat STRING network: 266\n"
     ]
    }
   ],
   "source": [
    "# take rat seed genes directly from the results\n",
    "rat_bmi_results = pd.read_csv(DATADIR + \"inputs/rat_BMI_summary_stats_wo_tail.tsv\", sep=\"\\t\")\n",
    "rat_bmi_seed_genes_rat_HC = rat_bmi_results.loc[rat_bmi_results[\"TopSNP P-Value\"] < 1e-4, (\"Gene\")].values\n",
    "rat_bmi_seed_genes_rat_HC = [g for g in rat_bmi_seed_genes_rat_HC if g in G_rat_HC.nodes]\n",
    "print(\"Rat BMI genes in rat STRING network:\", len(rat_bmi_seed_genes_rat_HC))"
   ]
  },
  {
   "cell_type": "code",
   "execution_count": 35,
   "metadata": {
    "ExecuteTime": {
     "end_time": "2022-09-06T23:18:24.973186Z",
     "start_time": "2022-09-06T23:18:24.971480Z"
    }
   },
   "outputs": [],
   "source": [
    "seed_dict[\"rBMI_RS\"] = rat_bmi_seed_genes_rat_HC"
   ]
  },
  {
   "cell_type": "markdown",
   "metadata": {},
   "source": [
    "### Human Z-scores"
   ]
  },
  {
   "cell_type": "code",
   "execution_count": 36,
   "metadata": {
    "ExecuteTime": {
     "end_time": "2022-09-06T23:18:27.157636Z",
     "start_time": "2022-09-06T23:18:25.389486Z"
    }
   },
   "outputs": [],
   "source": [
    "if rerun_analysis:\n",
    "    # map pascal results to rat genes\n",
    "    BMI_pascal_results = pd.read_csv(DATADIR+\"inputs/GIANT_BMI_pascal.sum.genescores.txt\", sep=\"\\t\")\n",
    "    mapped_pascal_results = BMI_pascal_results.merge(seed_human_bmi_rat_orthos, left_on=\"gene_symbol\", right_on=\"human_symbol\")\n",
    "    mapped_pascal_results = mapped_pascal_results.drop(columns = \"gene_symbol\")\n",
    "    mapped_pascal_results = mapped_pascal_results.rename(columns = {\"rat_symbol\":\"gene_symbol\"})\n",
    "    # run the sampling network propagation\n",
    "    BMI_samples_rat_HC = calculate_heat_zscores_with_sampling(mapped_pascal_results, nodes_rat_HC, \n",
    "                                                                      indiv_heats_rat_HC, G_rat_HC, trait=\"BMI\",\n",
    "                                                                        out_path=DATADIR+\"outputs/controls/rerun_rat_string_human_\",\n",
    "                                                                            num_samples=num_samples)\n",
    "    z_human_bin_BMI_rat_HC = get_consensus_z_scores(BMI_samples_rat_HC, 0.75)\n",
    "else: # use precomputed results\n",
    "    z_human_bin_BMI_rat_HC = get_consensus_z_scores(DATADIR+\"outputs/controls/rat_string_human_giant_BMIsampling_500_100.tsv\", \n",
    "                                                                   0.75)\n",
    "    \n",
    "z_dict[\"hBMI_RS\"] = z_human_bin_BMI_rat_HC"
   ]
  },
  {
   "cell_type": "markdown",
   "metadata": {},
   "source": [
    "### Rat Z-scores"
   ]
  },
  {
   "cell_type": "code",
   "execution_count": 37,
   "metadata": {
    "ExecuteTime": {
     "end_time": "2022-09-06T23:18:27.650928Z",
     "start_time": "2022-09-06T23:18:27.593869Z"
    }
   },
   "outputs": [],
   "source": [
    "if rerun_analysis: # perform network propagation\n",
    "    z_rat_bmi_rat_net = netprop_zscore.calculate_heat_zscores(indiv_heats_rat_HC, list(G_rat_HC.nodes),\n",
    "                                                    dict(G_rat_HC.degree), \n",
    "                                                    rat_bmi_seed_genes_rat_HC,\n",
    "                                                    num_reps=num_reps,\n",
    "                                                    minimum_bin_size=10,\n",
    "                                                    random_seed=1)\n",
    "    z_rat_bmi_rat_net = pd.DataFrame(z_rat_bmi_rat_net[0], columns=['z'])\n",
    "    z_rat_bmi_rat_net.to_csv(DATADIR + \"outputs/controls/rerun_rat_string_rat_BMI_zscores.tsv\", sep=\"\\t\", header=False)\n",
    "else: # use precomputed results\n",
    "    z_rat_bmi_rat_net = pd.read_csv(DATADIR + \"outputs/controls/rat_string_rat_BMI_zscores.tsv\", header=None, sep=\"\\t\", index_col=0, names=[\"z\"])\n",
    "z_dict[\"rBMI_RS\"] = z_rat_bmi_rat_net"
   ]
  },
  {
   "cell_type": "markdown",
   "metadata": {},
   "source": [
    "### Permutation analysis"
   ]
  },
  {
   "cell_type": "code",
   "execution_count": 38,
   "metadata": {
    "ExecuteTime": {
     "end_time": "2022-09-06T23:18:40.956742Z",
     "start_time": "2022-09-06T23:18:28.107364Z"
    }
   },
   "outputs": [
    {
     "name": "stdout",
     "output_type": "stream",
     "text": [
      "Overlap seed genes: 27\n"
     ]
    },
    {
     "name": "stderr",
     "output_type": "stream",
     "text": [
      "100%|██████████| 1000/1000 [00:12<00:00, 80.70it/s]\n"
     ]
    },
    {
     "data": {
      "image/png": "[encoded data removed]",
      "text/plain": [
       "<Figure size 360x288 with 1 Axes>"
      ]
     },
     "metadata": {
      "needs_background": "light"
     },
     "output_type": "display_data"
    }
   ],
   "source": [
    "seeds_rat = [n for n in rat_bmi_seed_genes_rat_HC if n in nodes_rat_HC]\n",
    "seeds_human = [n for n in human_bmi_seed_genes_rat_HC if n in nodes_rat_HC]\n",
    "\n",
    "# Generate a null distibution of conserved network sizes\n",
    "observed_rat_HC, permuted_rat_HC = calculate_expected_overlap(z_rat_bmi_rat_net.fillna(0), \n",
    "                                                        z_human_bin_BMI_rat_HC.fillna(0), num_reps=1000,\n",
    "                                                        overlap_control=\"bin\",\n",
    "                                                       seed1=seeds_rat, seed2=seeds_human)\n",
    "plot_permutation_histogram(permuted_rat_HC, observed_rat_HC,'', 'Size', color=\"dimgrey\", arrow_color=\"#F5793A\")"
   ]
  },
  {
   "cell_type": "code",
   "execution_count": 39,
   "metadata": {
    "ExecuteTime": {
     "end_time": "2022-09-06T23:18:41.451977Z",
     "start_time": "2022-09-06T23:18:41.449184Z"
    }
   },
   "outputs": [],
   "source": [
    "# Add to the control results\n",
    "control_results = get_permutation_stats(observed_rat_HC, permuted_rat_HC, \"BMI_RatSTRING\")"
   ]
  },
  {
   "cell_type": "markdown",
   "metadata": {},
   "source": [
    "# Control analysis"
   ]
  },
  {
   "cell_type": "markdown",
   "metadata": {},
   "source": [
    "## Load control trait seed genes"
   ]
  },
  {
   "cell_type": "markdown",
   "metadata": {},
   "source": [
    "### Positive Control Height/BL"
   ]
  },
  {
   "cell_type": "code",
   "execution_count": 40,
   "metadata": {
    "ExecuteTime": {
     "end_time": "2022-09-06T23:18:42.012388Z",
     "start_time": "2022-09-06T23:18:41.949176Z"
    }
   },
   "outputs": [
    {
     "name": "stdout",
     "output_type": "stream",
     "text": [
      "Number of height seeds: 6140\n"
     ]
    }
   ],
   "source": [
    "seed_bin_human_height = load_human_seed_genes(DATADIR+'inputs/GIANT_standing_height_pascal.sum.genescores.txt', \n",
    "                                              pc_nodes, 'height')"
   ]
  },
  {
   "cell_type": "code",
   "execution_count": 41,
   "metadata": {
    "ExecuteTime": {
     "end_time": "2022-09-06T23:18:42.599181Z",
     "start_time": "2022-09-06T23:18:42.517530Z"
    }
   },
   "outputs": [
    {
     "name": "stdout",
     "output_type": "stream",
     "text": [
      "Number of genes meeting p < 0.0001 : 538\n",
      "Number of significant genes with human orthologs: 360\n",
      "Final number of seed genes in network: 337\n"
     ]
    }
   ],
   "source": [
    "seed_bin_rat_BL=load_rat_seed_genes(DATADIR + \"inputs/rat_BL_summary_stats_wo_tail.tsv\", pc_nodes, th=1e-4)"
   ]
  },
  {
   "cell_type": "code",
   "execution_count": 42,
   "metadata": {
    "ExecuteTime": {
     "end_time": "2022-09-06T23:18:43.275058Z",
     "start_time": "2022-09-06T23:18:43.103423Z"
    }
   },
   "outputs": [
    {
     "data": {
      "image/png": "[encoded data removed]",
      "text/plain": [
       "<Figure size 432x288 with 1 Axes>"
      ]
     },
     "metadata": {},
     "output_type": "display_data"
    }
   ],
   "source": [
    "direct_overlap(pc_nodes, seed_bin_human_height, seed_bin_rat_BL, trait=\"Height/BL\")"
   ]
  },
  {
   "cell_type": "code",
   "execution_count": 43,
   "metadata": {
    "ExecuteTime": {
     "end_time": "2022-09-06T23:18:43.830642Z",
     "start_time": "2022-09-06T23:18:43.783054Z"
    }
   },
   "outputs": [
    {
     "name": "stdout",
     "output_type": "stream",
     "text": [
      "Rat BL genes in rat STRING network: 306\n"
     ]
    }
   ],
   "source": [
    "# Also load the set of rat BL genes that are present in the rat STRING network\n",
    "rat_bl_results = pd.read_csv(DATADIR + \"inputs/rat_BL_summary_stats_wo_tail.tsv\", sep=\"\\t\")\n",
    "rat_bl_seed_genes_rat_HC = rat_bl_results.loc[rat_bl_results[\"TopSNP P-Value\"] < 1e-4, (\"Gene\")].values\n",
    "rat_bl_seed_genes_rat_HC = [g for g in rat_bl_seed_genes_rat_HC if g in G_rat_HC.nodes]\n",
    "seed_dict[\"rBL_RS\"] = rat_bl_seed_genes_rat_HC\n",
    "print(\"Rat BL genes in rat STRING network:\", len(rat_bl_seed_genes_rat_HC))"
   ]
  },
  {
   "cell_type": "markdown",
   "metadata": {},
   "source": [
    "### Negative Controls"
   ]
  },
  {
   "cell_type": "code",
   "execution_count": 44,
   "metadata": {
    "ExecuteTime": {
     "end_time": "2022-09-06T23:18:44.379121Z",
     "start_time": "2022-09-06T23:18:44.377429Z"
    }
   },
   "outputs": [],
   "source": [
    "## Need to output these?"
   ]
  },
  {
   "cell_type": "code",
   "execution_count": 45,
   "metadata": {
    "ExecuteTime": {
     "end_time": "2022-09-06T23:18:45.180142Z",
     "start_time": "2022-09-06T23:18:44.914283Z"
    }
   },
   "outputs": [
    {
     "name": "stdout",
     "output_type": "stream",
     "text": [
      "Number of AR seeds: 535\n",
      "Number of FEV1 seeds: 1285\n",
      "Number of SMOK seeds: 209\n",
      "Number of Neo seeds: 166\n"
     ]
    }
   ],
   "source": [
    "# Human control trait seed genes\n",
    "seed_bin_human_AR = pd.read_csv(DATADIR+'inputs/controls/humanAR_seed_PASCAL'+'_bonf.txt',\n",
    "                               sep=\"\\t\", header=None)[0].tolist() # allergic rhinitis symptoms\n",
    "seed_bin_human_FEV1 = pd.read_csv(DATADIR+'inputs/controls/humanFEV1_seed_PASCAL'+'_bonf.txt',\n",
    "                               sep=\"\\t\", header=None)[0].tolist() # Forced expiratory volume per second\n",
    "seed_bin_human_SMOK = pd.read_csv(DATADIR+'inputs/controls/humanSMOK_seed_PASCAL'+'_bonf.txt',\n",
    "                               sep=\"\\t\", header=None)[0].tolist() # never smoked cigarettes\n",
    "seed_bin_human_Neo = pd.read_csv(DATADIR+'inputs/controls/humanNeo_seed_PASCAL'+'_bonf.txt',\n",
    "                               sep=\"\\t\", header=None)[0].tolist() # non-cancer neoplasms\n",
    "\n",
    "print(\"Number of AR seeds:\", len(seed_bin_human_AR))\n",
    "print(\"Number of FEV1 seeds:\", len(seed_bin_human_FEV1))\n",
    "print(\"Number of SMOK seeds:\", len(seed_bin_human_SMOK))\n",
    "print(\"Number of Neo seeds:\", len(seed_bin_human_Neo))"
   ]
  },
  {
   "cell_type": "markdown",
   "metadata": {},
   "source": [
    "## Perform network colocalization of controls"
   ]
  },
  {
   "cell_type": "markdown",
   "metadata": {},
   "source": [
    "### Z-scores"
   ]
  },
  {
   "cell_type": "code",
   "execution_count": 46,
   "metadata": {
    "ExecuteTime": {
     "end_time": "2022-09-06T23:18:46.214475Z",
     "start_time": "2022-09-06T23:18:45.716489Z"
    }
   },
   "outputs": [],
   "source": [
    "# positive control - Human Height vs rat Body Length on PCNet\n",
    "if rerun_analysis:\n",
    "    # human sampling analysis for network propagation\n",
    "    height_pascal_results = pd.read_csv(DATADIR+\"inputs/GIANT_standing_height_pascal.sum.genescores.txt\", sep=\"\\t\")\n",
    "    height_samples = calculate_heat_zscores_with_sampling(height_pascal_results, pc_nodes, indiv_heats, G_PC, trait=\"height\",\n",
    "                                                            out_path=DATADIR+\"outputs/controls/rerun_\", num_samples=num_samples)\n",
    "    z_human_bin_height = get_consensus_z_scores(height_samples, 0.75)\n",
    "    z_dict['hHeight'] = z_human_bin_height\n",
    "    # rat network propagation\n",
    "    z_rat_BL = netprop_zscore.calculate_heat_zscores(indiv_heats, list(G_PC.nodes),\n",
    "                                                    dict(G_PC.degree), \n",
    "                                                    seed_bin_rat_BL,\n",
    "                                                    num_reps=num_reps, alpha=0.5,\n",
    "                                                    minimum_bin_size=10,\n",
    "                                                    random_seed=1)\n",
    "    pd.DataFrame(z_rat_BL[0], columns=[\"z\"]).to_csv(DATADIR+\"outputs/controls/rerun_z_rat_BL.tsv\", sep=\"\\t\", index=True)\n",
    "    z_dict['rBL'] = pd.DataFrame(z_rat_BL[0], columns=[\"z\"])\n",
    "else:\n",
    "    # human precomputed scores\n",
    "    z_human_bin_height = get_consensus_z_scores(DATADIR+'outputs/controls/z_human_bin_Height_SAMPLED_500_100_weighted.tsv')\n",
    "    z_dict['hHeight'] = z_human_bin_height\n",
    "    # rat precomputed scores\n",
    "    out_name = 'rat_BL_relaxed'\n",
    "    z_rat_BL=pd.read_csv(DATADIR + 'outputs/controls/z_'+out_name+'_'+str(num_reps)+'_reps.tsv',sep='\\t',\n",
    "                         index_col='gene', names=['gene', 'z'], header=0)\n",
    "    z_dict['rBL'] = z_rat_BL"
   ]
  },
  {
   "cell_type": "code",
   "execution_count": 47,
   "metadata": {
    "ExecuteTime": {
     "end_time": "2022-09-06T23:18:46.798534Z",
     "start_time": "2022-09-06T23:18:46.784818Z"
    }
   },
   "outputs": [],
   "source": [
    "if rerun_analysis: # perform network propagation\n",
    "    z_rat_BL_rat_net = netprop_zscore.calculate_heat_zscores(indiv_heats_rat_HC, list(G_rat_HC.nodes),\n",
    "                                                    dict(G_rat_HC.degree), \n",
    "                                                    rat_bl_seed_genes_rat_HC,\n",
    "                                                    num_reps=num_reps,\n",
    "                                                    minimum_bin_size=10,\n",
    "                                                    random_seed=1)\n",
    "    z_rat_BL_rat_net = pd.DataFrame(z_rat_BL_rat_net[0], columns=['z'])\n",
    "    z_rat_BL_rat_net.to_csv(DATADIR + \"outputs/controls/rerun_rat_string_rat_BL_zscores.tsv\", sep=\"\\t\", header=False)\n",
    "else: # use precomputed results\n",
    "    z_rat_BL_rat_net = pd.read_csv(DATADIR + \"outputs/controls/rat_string_rat_BL_zscores.tsv\", header=None, sep=\"\\t\", index_col=0, names=[\"z\"])\n",
    "\n",
    "z_dict['rBL_RS'] = z_rat_BL_rat_net"
   ]
  },
  {
   "cell_type": "code",
   "execution_count": 48,
   "metadata": {
    "ExecuteTime": {
     "end_time": "2022-09-06T23:18:48.159086Z",
     "start_time": "2022-09-06T23:18:47.383969Z"
    }
   },
   "outputs": [],
   "source": [
    "# negative controls. Both AR and FEV1 have > 500 seed genes so were run with sampling, which is not repeated here. \n",
    "if rerun_analysis:\n",
    "    # Allergic Rhinitis (AR)\n",
    "    z_human_bin_AR = get_consensus_z_scores(DATADIR+\"outputs/controls/z_human_AR_sampling_500_100.tsv\", 0.75)\n",
    "    z_dict['hAR'] = z_human_bin_AR\n",
    "    # Forced expiratory volume (FEV1)\n",
    "    z_human_bin_FEV1 = get_consensus_z_scores(DATADIR+\"outputs/controls/z_human_FEV1_sampling_500_100.tsv\")\n",
    "    z_dict['hFEV1'] = z_human_bin_FEV1\n",
    "    # Never smoked cigarettes (SMOK)\n",
    "    z_human_bin_SMOK = netprop_zscore.calculate_heat_zscores(indiv_heats, list(G_PC.nodes),\n",
    "                                                    dict(G_PC.degree), \n",
    "                                                    seed_bin_human_SMOK,\n",
    "                                                    num_reps=num_reps, alpha=0.5,\n",
    "                                                    minimum_bin_size=10,\n",
    "                                                    random_seed=1)\n",
    "    pd.DataFrame(z_human_bin_SMOK[0], columns=[\"z\"]).to_csv(DATADIR+\"outputs/controls/rerun_z_human_SMOK.tsv\", sep=\"\\t\", index=True)\n",
    "    z_dict['hSMOK'] = pd.DataFrame(z_human_bin_SMOK[0], columns=[\"z\"])\n",
    "    # Non-cancer neoplasms (Neo)\n",
    "    z_human_bin_Neo = netprop_zscore.calculate_heat_zscores(indiv_heats, list(G_PC.nodes),\n",
    "                                                    dict(G_PC.degree), \n",
    "                                                    seed_bin_human_Neo,\n",
    "                                                    num_reps=num_reps, alpha=0.5,\n",
    "                                                    minimum_bin_size=10,\n",
    "                                                    random_seed=1)\n",
    "    pd.DataFrame(z_human_bin_Neo[0], columns=[\"z\"]).to_csv(DATADIR+\"outputs/controls/rerun_z_human_Neo.tsv\", sep=\"\\t\", index=True)\n",
    "    z_dict['hNeo'] = pd.DataFrame(z_human_bin_Neo[0], columns=[\"z\"])\n",
    "else: # use precomputed scores\n",
    "    # Allergic Rhinitis (AR)\n",
    "    z_human_bin_AR=get_consensus_z_scores(DATADIR+\"outputs/controls/z_human_AR_sampling_500_100.tsv\", 0.75)\n",
    "    z_dict['hAR'] = z_human_bin_AR\n",
    "    # Forced expiratory volume (FEV1)\n",
    "    z_human_bin_FEV1=get_consensus_z_scores(DATADIR+\"outputs/controls/z_human_FEV1_sampling_500_100.tsv\")\n",
    "    z_dict['hFEV1'] = z_human_bin_FEV1\n",
    "    # Never smoked cigarettes (SMOK)\n",
    "    out_name = 'human_SMOK_PASCAL'+'_bonf'\n",
    "    z_human_bin_SMOK=pd.read_csv(DATADIR+'outputs/controls/z_'+out_name+'_'+str(num_reps)+'_reps.tsv',sep='\\t',\n",
    "                            index_col='gene',names=['gene','z'], header=0)\n",
    "    z_dict['hSMOK'] = z_human_bin_SMOK\n",
    "    # Non-cancer neoplasms (Neo)\n",
    "    out_name = 'human_Neo_PASCAL'+'_bonf'\n",
    "    z_human_bin_Neo=pd.read_csv(DATADIR+'outputs/controls/z_'+out_name+'_'+str(num_reps)+'_reps.tsv',sep='\\t',\n",
    "                            index_col='gene',names=['gene','z'], header=0)\n",
    "    z_dict['hNeo'] = z_human_bin_Neo"
   ]
  },
  {
   "cell_type": "code",
   "execution_count": 49,
   "metadata": {
    "ExecuteTime": {
     "end_time": "2022-09-06T23:18:49.100750Z",
     "start_time": "2022-09-06T23:18:49.098733Z"
    }
   },
   "outputs": [],
   "source": [
    "# add control seed genes to the seed gene dictionary\n",
    "seed_dict = {'hHeight': seed_bin_human_height,\n",
    "    'rBMI':seed_bin_rat_BMI,'rBL':seed_bin_rat_BL,\n",
    "             'hAR':seed_bin_human_AR,'hFEV1':seed_bin_human_FEV1,\n",
    "             'hSMOK':seed_bin_human_SMOK, 'hNeo':seed_bin_human_Neo, **seed_dict}"
   ]
  },
  {
   "cell_type": "markdown",
   "metadata": {},
   "source": [
    "### Permutation analysis"
   ]
  },
  {
   "cell_type": "raw",
   "metadata": {
    "ExecuteTime": {
     "end_time": "2022-08-08T01:43:48.575859Z",
     "start_time": "2022-08-08T01:43:48.573709Z"
    }
   },
   "source": [
    "# define the comparisons to be made\n",
    "control_combinations = [('rBMI', 'hBMI'),('hHeight', 'rBL'), ('rBMI', 'rBL'), ('hBMI', 'hHeight'), ('rBMI', 'hAR'), ('rBMI', 'hBP1'),\n",
    "                       ('rBMI', 'hBP4')]"
   ]
  },
  {
   "cell_type": "code",
   "execution_count": 59,
   "metadata": {
    "ExecuteTime": {
     "end_time": "2022-09-06T23:27:26.414084Z",
     "start_time": "2022-09-06T23:27:26.411361Z"
    }
   },
   "outputs": [],
   "source": [
    "# define the comparisons to be made\n",
    "control_combinations = [('rBMI', 'hBMI'), ('rBMI_RS', 'hBMI_RS'),  \n",
    "                        ('rBMI', 'rBL'),('rBMI_RS', 'rBL_RS'), ('hBMI', 'hHeight'),\n",
    "                        ('rBMI', 'hHeight'),('rBL', 'hHeight'), ('rBL', 'hBMI'),  \n",
    "                        ('rBMI', 'hAR'), ('rBMI', 'hFEV1'), ('rBMI', 'hNeo'), ('rBMI', 'hSMOK')]"
   ]
  },
  {
   "cell_type": "code",
   "execution_count": 51,
   "metadata": {
    "ExecuteTime": {
     "end_time": "2022-09-06T23:18:56.483547Z",
     "start_time": "2022-09-06T23:18:50.428400Z"
    }
   },
   "outputs": [
    {
     "name": "stdout",
     "output_type": "stream",
     "text": [
      "Overlap seed genes: 166\n"
     ]
    },
    {
     "name": "stderr",
     "output_type": "stream",
     "text": [
      "100%|██████████| 1000/1000 [00:06<00:00, 165.47it/s]\n"
     ]
    }
   ],
   "source": [
    "## height/BL\n",
    "observed_height, permuted_height = calculate_mean_z_score_distribution(z_dict['rBL'], z_dict['hHeight'], num_reps=1000,\n",
    "                                                       zero_double_negatives=False, overlap_control=\"bin\",\n",
    "                                                       seed1=seed_dict['rBL'], seed2=seed_dict['hHeight'])"
   ]
  },
  {
   "cell_type": "code",
   "execution_count": 52,
   "metadata": {
    "ExecuteTime": {
     "end_time": "2022-09-06T23:18:57.965460Z",
     "start_time": "2022-09-06T23:18:57.178506Z"
    }
   },
   "outputs": [
    {
     "data": {
      "image/png": "[encoded data removed]",
      "text/plain": [
       "<Figure size 360x288 with 1 Axes>"
      ]
     },
     "metadata": {
      "needs_background": "light"
     },
     "output_type": "display_data"
    }
   ],
   "source": [
    "plot_permutation_histogram(permuted_height, observed_height,'', 'Mean $NPS_{h,r}$',color=\"dimgrey\", arrow_color=\"#F5793A\")\n",
    "plt.savefig(FIGDIR + \"ratBL_humanHeight_mean_NPS_histogram_400dpi.png\",dpi=400, bbox_inches=\"tight\")"
   ]
  },
  {
   "cell_type": "code",
   "execution_count": 53,
   "metadata": {
    "ExecuteTime": {
     "end_time": "2022-09-06T23:19:12.300543Z",
     "start_time": "2022-09-06T23:18:58.664652Z"
    }
   },
   "outputs": [
    {
     "name": "stdout",
     "output_type": "stream",
     "text": [
      "Overlap seed genes: 166\n"
     ]
    },
    {
     "name": "stderr",
     "output_type": "stream",
     "text": [
      "100%|██████████| 1000/1000 [00:13<00:00, 73.41it/s]\n"
     ]
    }
   ],
   "source": [
    "# Generate a null distribution of colocalized network size by shuffling the z_scores and applying the thresholds:\n",
    "# NPS_r > 1, NPS_h > 1, NPS_hr > 3\n",
    "observed_height_sz, permuted_height_sz = calculate_expected_overlap(z_dict['rBL'], z_dict['hHeight'], \n",
    "                                                            z_score_threshold=3, z1_threshold=1.0,\n",
    "                                                            z2_threshold=1.0, num_reps=1000, plot=False, \n",
    "                                                            overlap_control=\"bin\",\n",
    "                                                            seed1=seed_dict['rBL'], seed2=seed_dict['hHeight'])"
   ]
  },
  {
   "cell_type": "code",
   "execution_count": 54,
   "metadata": {
    "ExecuteTime": {
     "end_time": "2022-09-06T23:19:13.958735Z",
     "start_time": "2022-09-06T23:19:13.029856Z"
    }
   },
   "outputs": [
    {
     "data": {
      "image/png": "[encoded data removed]",
      "text/plain": [
       "<Figure size 360x288 with 1 Axes>"
      ]
     },
     "metadata": {
      "needs_background": "light"
     },
     "output_type": "display_data"
    }
   ],
   "source": [
    "plot_permutation_histogram(permuted_height_sz, observed_height_sz,'', 'Size of colocalized network', color=\"dimgrey\",\n",
    "                          arrow_color=\"#F5793A\")\n",
    "plt.savefig(FIGDIR + \"ratBL_humanHeight_netcoloc_size_histogram_400dpi.png\",dpi=400, bbox_inches=\"tight\")"
   ]
  },
  {
   "cell_type": "code",
   "execution_count": 55,
   "metadata": {
    "ExecuteTime": {
     "end_time": "2022-09-06T23:21:56.563154Z",
     "start_time": "2022-09-06T23:19:14.683497Z"
    },
    "code_folding": []
   },
   "outputs": [
    {
     "name": "stdout",
     "output_type": "stream",
     "text": [
      "Overlap seed genes: 29\n"
     ]
    },
    {
     "name": "stderr",
     "output_type": "stream",
     "text": [
      "100%|██████████| 1000/1000 [00:13<00:00, 73.42it/s]\n"
     ]
    },
    {
     "name": "stdout",
     "output_type": "stream",
     "text": [
      "Overlap seed genes: 27\n"
     ]
    },
    {
     "name": "stderr",
     "output_type": "stream",
     "text": [
      "100%|██████████| 1000/1000 [00:12<00:00, 80.74it/s]\n"
     ]
    },
    {
     "name": "stdout",
     "output_type": "stream",
     "text": [
      "Overlap seed genes: 25\n"
     ]
    },
    {
     "name": "stderr",
     "output_type": "stream",
     "text": [
      "100%|██████████| 1000/1000 [00:13<00:00, 72.92it/s]\n"
     ]
    },
    {
     "name": "stdout",
     "output_type": "stream",
     "text": [
      "Overlap seed genes: 23\n"
     ]
    },
    {
     "name": "stderr",
     "output_type": "stream",
     "text": [
      "100%|██████████| 1000/1000 [00:12<00:00, 80.71it/s]\n"
     ]
    },
    {
     "name": "stdout",
     "output_type": "stream",
     "text": [
      "Overlap seed genes: 109\n"
     ]
    },
    {
     "name": "stderr",
     "output_type": "stream",
     "text": [
      "100%|██████████| 1000/1000 [00:13<00:00, 73.26it/s]\n"
     ]
    },
    {
     "name": "stdout",
     "output_type": "stream",
     "text": [
      "Overlap seed genes: 166\n"
     ]
    },
    {
     "name": "stderr",
     "output_type": "stream",
     "text": [
      "100%|██████████| 1000/1000 [00:13<00:00, 73.11it/s]\n"
     ]
    },
    {
     "name": "stdout",
     "output_type": "stream",
     "text": [
      "Overlap seed genes: 57\n"
     ]
    },
    {
     "name": "stderr",
     "output_type": "stream",
     "text": [
      "100%|██████████| 1000/1000 [00:13<00:00, 72.89it/s]\n"
     ]
    },
    {
     "name": "stdout",
     "output_type": "stream",
     "text": [
      "Overlap seed genes: 1057\n"
     ]
    },
    {
     "name": "stderr",
     "output_type": "stream",
     "text": [
      "100%|██████████| 1000/1000 [00:13<00:00, 72.80it/s]\n"
     ]
    },
    {
     "name": "stdout",
     "output_type": "stream",
     "text": [
      "Overlap seed genes: 8\n"
     ]
    },
    {
     "name": "stderr",
     "output_type": "stream",
     "text": [
      "100%|██████████| 1000/1000 [00:13<00:00, 73.03it/s]\n"
     ]
    },
    {
     "name": "stdout",
     "output_type": "stream",
     "text": [
      "Overlap seed genes: 6\n"
     ]
    },
    {
     "name": "stderr",
     "output_type": "stream",
     "text": [
      "100%|██████████| 1000/1000 [00:13<00:00, 72.81it/s]\n"
     ]
    },
    {
     "name": "stdout",
     "output_type": "stream",
     "text": [
      "Overlap seed genes: 1\n"
     ]
    },
    {
     "name": "stderr",
     "output_type": "stream",
     "text": [
      "100%|██████████| 1000/1000 [00:13<00:00, 73.08it/s]\n"
     ]
    },
    {
     "name": "stdout",
     "output_type": "stream",
     "text": [
      "Overlap seed genes: 0\n"
     ]
    },
    {
     "name": "stderr",
     "output_type": "stream",
     "text": [
      "100%|██████████| 1000/1000 [00:13<00:00, 72.85it/s]\n"
     ]
    }
   ],
   "source": [
    "control_analysis = []\n",
    "for combo in control_combinations:\n",
    "    observed, permuted = calculate_expected_overlap(z_dict[combo[0]], z_dict[combo[1]], \n",
    "                                                    z_score_threshold=3, z1_threshold=1.0,\n",
    "                                                    z2_threshold=1.0, num_reps=1000, plot=False, \n",
    "                                                    overlap_control=\"bin\",\n",
    "                                                    seed1=seed_dict[combo[0]], seed2=seed_dict[combo[1]])\n",
    "    control_analysis.append(get_permutation_stats(observed, permuted, \"-\".join(combo)))"
   ]
  },
  {
   "cell_type": "code",
   "execution_count": 57,
   "metadata": {
    "ExecuteTime": {
     "end_time": "2022-09-06T23:24:50.747214Z",
     "start_time": "2022-09-06T23:24:50.744442Z"
    }
   },
   "outputs": [],
   "source": [
    "control_results = pd.concat(control_analysis)"
   ]
  },
  {
   "cell_type": "code",
   "execution_count": 58,
   "metadata": {
    "ExecuteTime": {
     "end_time": "2022-09-06T23:24:56.191466Z",
     "start_time": "2022-09-06T23:24:56.161436Z"
    }
   },
   "outputs": [
    {
     "data": {
      "text/html": [
       "<div>\n",
       "<style scoped>\n",
       "    .dataframe tbody tr th:only-of-type {\n",
       "        vertical-align: middle;\n",
       "    }\n",
       "\n",
       "    .dataframe tbody tr th {\n",
       "        vertical-align: top;\n",
       "    }\n",
       "\n",
       "    .dataframe thead th {\n",
       "        text-align: right;\n",
       "    }\n",
       "</style>\n",
       "<table border=\"1\" class=\"dataframe\">\n",
       "  <thead>\n",
       "    <tr style=\"text-align: right;\">\n",
       "      <th></th>\n",
       "      <th>Mean</th>\n",
       "      <th>Upper</th>\n",
       "      <th>Lower</th>\n",
       "      <th>p</th>\n",
       "    </tr>\n",
       "  </thead>\n",
       "  <tbody>\n",
       "    <tr>\n",
       "      <th>rBMI-hBMI</th>\n",
       "      <td>1.190756</td>\n",
       "      <td>1.265896</td>\n",
       "      <td>1.125000</td>\n",
       "      <td>5.677000e-08</td>\n",
       "    </tr>\n",
       "    <tr>\n",
       "      <th>rBMI_RS-hBMI_RS</th>\n",
       "      <td>1.121391</td>\n",
       "      <td>1.192469</td>\n",
       "      <td>1.055556</td>\n",
       "      <td>6.108000e-04</td>\n",
       "    </tr>\n",
       "    <tr>\n",
       "      <th>rBMI-rBL</th>\n",
       "      <td>1.253863</td>\n",
       "      <td>1.358594</td>\n",
       "      <td>1.156977</td>\n",
       "      <td>1.135000e-07</td>\n",
       "    </tr>\n",
       "    <tr>\n",
       "      <th>rBMI_RS-rBL_RS</th>\n",
       "      <td>1.303589</td>\n",
       "      <td>1.428571</td>\n",
       "      <td>1.187050</td>\n",
       "      <td>1.434000e-08</td>\n",
       "    </tr>\n",
       "    <tr>\n",
       "      <th>rBMI-hHeight</th>\n",
       "      <td>0.923982</td>\n",
       "      <td>1.000000</td>\n",
       "      <td>0.854839</td>\n",
       "      <td>9.481000e-01</td>\n",
       "    </tr>\n",
       "    <tr>\n",
       "      <th>rBL-hHeight</th>\n",
       "      <td>1.381597</td>\n",
       "      <td>1.474320</td>\n",
       "      <td>1.294430</td>\n",
       "      <td>3.915000e-22</td>\n",
       "    </tr>\n",
       "    <tr>\n",
       "      <th>rBL-hBMI</th>\n",
       "      <td>1.224396</td>\n",
       "      <td>1.288275</td>\n",
       "      <td>1.164341</td>\n",
       "      <td>8.658000e-13</td>\n",
       "    </tr>\n",
       "    <tr>\n",
       "      <th>hBMI-hHeight</th>\n",
       "      <td>1.311280</td>\n",
       "      <td>1.375963</td>\n",
       "      <td>1.250700</td>\n",
       "      <td>2.006000e-28</td>\n",
       "    </tr>\n",
       "    <tr>\n",
       "      <th>rBMI-hAR</th>\n",
       "      <td>0.764383</td>\n",
       "      <td>0.813364</td>\n",
       "      <td>0.717407</td>\n",
       "      <td>1.000000e+00</td>\n",
       "    </tr>\n",
       "    <tr>\n",
       "      <th>rBMI-hFEV1</th>\n",
       "      <td>0.881550</td>\n",
       "      <td>0.937132</td>\n",
       "      <td>0.831010</td>\n",
       "      <td>9.995000e-01</td>\n",
       "    </tr>\n",
       "    <tr>\n",
       "      <th>rBMI-hSMOK</th>\n",
       "      <td>0.896430</td>\n",
       "      <td>0.974790</td>\n",
       "      <td>0.819788</td>\n",
       "      <td>9.766000e-01</td>\n",
       "    </tr>\n",
       "    <tr>\n",
       "      <th>rBMI-hNeo</th>\n",
       "      <td>0.797006</td>\n",
       "      <td>0.865306</td>\n",
       "      <td>0.733438</td>\n",
       "      <td>1.000000e+00</td>\n",
       "    </tr>\n",
       "  </tbody>\n",
       "</table>\n",
       "</div>"
      ],
      "text/plain": [
       "                     Mean     Upper     Lower             p\n",
       "rBMI-hBMI        1.190756  1.265896  1.125000  5.677000e-08\n",
       "rBMI_RS-hBMI_RS  1.121391  1.192469  1.055556  6.108000e-04\n",
       "rBMI-rBL         1.253863  1.358594  1.156977  1.135000e-07\n",
       "rBMI_RS-rBL_RS   1.303589  1.428571  1.187050  1.434000e-08\n",
       "rBMI-hHeight     0.923982  1.000000  0.854839  9.481000e-01\n",
       "rBL-hHeight      1.381597  1.474320  1.294430  3.915000e-22\n",
       "rBL-hBMI         1.224396  1.288275  1.164341  8.658000e-13\n",
       "hBMI-hHeight     1.311280  1.375963  1.250700  2.006000e-28\n",
       "rBMI-hAR         0.764383  0.813364  0.717407  1.000000e+00\n",
       "rBMI-hFEV1       0.881550  0.937132  0.831010  9.995000e-01\n",
       "rBMI-hSMOK       0.896430  0.974790  0.819788  9.766000e-01\n",
       "rBMI-hNeo        0.797006  0.865306  0.733438  1.000000e+00"
      ]
     },
     "execution_count": 58,
     "metadata": {},
     "output_type": "execute_result"
    }
   ],
   "source": [
    "control_results"
   ]
  },
  {
   "cell_type": "markdown",
   "metadata": {},
   "source": [
    "## Plot results of control analysis"
   ]
  },
  {
   "cell_type": "code",
   "execution_count": 61,
   "metadata": {
    "ExecuteTime": {
     "end_time": "2022-09-06T23:27:39.660349Z",
     "start_time": "2022-09-06T23:27:39.656668Z"
    },
    "code_folding": []
   },
   "outputs": [],
   "source": [
    "tick_list = [\"-\".join(combo) for combo in control_combinations]\n",
    "\n",
    "def combo_label(combo):\n",
    "    label = \"/\".join(combo)\n",
    "    label = label.replace(\"r\", \"Rat \")\n",
    "    label = label.replace(\"/h\", \"/Human \")\n",
    "    label = label.replace(\"_RS\", \" (RS)\")\n",
    "    label = label.replace(\" (RS)/\", \"/\")\n",
    "    label = label.replace(\"hBMI\", \"Human BMI\")\n",
    "    return label\n",
    "\n",
    "label_list = [combo_label(combo) for combo in control_combinations]"
   ]
  },
  {
   "cell_type": "code",
   "execution_count": 64,
   "metadata": {
    "ExecuteTime": {
     "end_time": "2022-09-06T23:29:26.373430Z",
     "start_time": "2022-09-06T23:29:26.370807Z"
    }
   },
   "outputs": [
    {
     "data": {
      "text/plain": [
       "['rBMI-hBMI',\n",
       " 'rBMI_RS-hBMI_RS',\n",
       " 'rBMI-rBL',\n",
       " 'rBMI_RS-rBL_RS',\n",
       " 'hBMI-hHeight',\n",
       " 'rBMI-hHeight',\n",
       " 'rBL-hHeight',\n",
       " 'rBL-hBMI',\n",
       " 'rBMI-hAR',\n",
       " 'rBMI-hFEV1',\n",
       " 'rBMI-hNeo',\n",
       " 'rBMI-hSMOK']"
      ]
     },
     "execution_count": 64,
     "metadata": {},
     "output_type": "execute_result"
    }
   ],
   "source": [
    "tick_list"
   ]
  },
  {
   "cell_type": "code",
   "execution_count": 63,
   "metadata": {
    "ExecuteTime": {
     "end_time": "2022-09-06T23:28:23.058197Z",
     "start_time": "2022-09-06T23:28:23.051940Z"
    }
   },
   "outputs": [
    {
     "data": {
      "text/html": [
       "<div>\n",
       "<style scoped>\n",
       "    .dataframe tbody tr th:only-of-type {\n",
       "        vertical-align: middle;\n",
       "    }\n",
       "\n",
       "    .dataframe tbody tr th {\n",
       "        vertical-align: top;\n",
       "    }\n",
       "\n",
       "    .dataframe thead th {\n",
       "        text-align: right;\n",
       "    }\n",
       "</style>\n",
       "<table border=\"1\" class=\"dataframe\">\n",
       "  <thead>\n",
       "    <tr style=\"text-align: right;\">\n",
       "      <th></th>\n",
       "      <th>Mean</th>\n",
       "      <th>Upper</th>\n",
       "      <th>Lower</th>\n",
       "      <th>p</th>\n",
       "    </tr>\n",
       "  </thead>\n",
       "  <tbody>\n",
       "    <tr>\n",
       "      <th>rBMI-hBMI</th>\n",
       "      <td>1.190756</td>\n",
       "      <td>1.265896</td>\n",
       "      <td>1.125000</td>\n",
       "      <td>5.677000e-08</td>\n",
       "    </tr>\n",
       "    <tr>\n",
       "      <th>rBMI_RS-hBMI_RS</th>\n",
       "      <td>1.121391</td>\n",
       "      <td>1.192469</td>\n",
       "      <td>1.055556</td>\n",
       "      <td>6.108000e-04</td>\n",
       "    </tr>\n",
       "    <tr>\n",
       "      <th>rBMI-rBL</th>\n",
       "      <td>1.253863</td>\n",
       "      <td>1.358594</td>\n",
       "      <td>1.156977</td>\n",
       "      <td>1.135000e-07</td>\n",
       "    </tr>\n",
       "    <tr>\n",
       "      <th>rBMI_RS-rBL_RS</th>\n",
       "      <td>1.303589</td>\n",
       "      <td>1.428571</td>\n",
       "      <td>1.187050</td>\n",
       "      <td>1.434000e-08</td>\n",
       "    </tr>\n",
       "    <tr>\n",
       "      <th>rBMI-hHeight</th>\n",
       "      <td>0.923982</td>\n",
       "      <td>1.000000</td>\n",
       "      <td>0.854839</td>\n",
       "      <td>9.481000e-01</td>\n",
       "    </tr>\n",
       "    <tr>\n",
       "      <th>rBL-hHeight</th>\n",
       "      <td>1.381597</td>\n",
       "      <td>1.474320</td>\n",
       "      <td>1.294430</td>\n",
       "      <td>3.915000e-22</td>\n",
       "    </tr>\n",
       "    <tr>\n",
       "      <th>rBL-hBMI</th>\n",
       "      <td>1.224396</td>\n",
       "      <td>1.288275</td>\n",
       "      <td>1.164341</td>\n",
       "      <td>8.658000e-13</td>\n",
       "    </tr>\n",
       "    <tr>\n",
       "      <th>hBMI-hHeight</th>\n",
       "      <td>1.311280</td>\n",
       "      <td>1.375963</td>\n",
       "      <td>1.250700</td>\n",
       "      <td>2.006000e-28</td>\n",
       "    </tr>\n",
       "    <tr>\n",
       "      <th>rBMI-hAR</th>\n",
       "      <td>0.764383</td>\n",
       "      <td>0.813364</td>\n",
       "      <td>0.717407</td>\n",
       "      <td>1.000000e+00</td>\n",
       "    </tr>\n",
       "    <tr>\n",
       "      <th>rBMI-hFEV1</th>\n",
       "      <td>0.881550</td>\n",
       "      <td>0.937132</td>\n",
       "      <td>0.831010</td>\n",
       "      <td>9.995000e-01</td>\n",
       "    </tr>\n",
       "    <tr>\n",
       "      <th>rBMI-hSMOK</th>\n",
       "      <td>0.896430</td>\n",
       "      <td>0.974790</td>\n",
       "      <td>0.819788</td>\n",
       "      <td>9.766000e-01</td>\n",
       "    </tr>\n",
       "    <tr>\n",
       "      <th>rBMI-hNeo</th>\n",
       "      <td>0.797006</td>\n",
       "      <td>0.865306</td>\n",
       "      <td>0.733438</td>\n",
       "      <td>1.000000e+00</td>\n",
       "    </tr>\n",
       "  </tbody>\n",
       "</table>\n",
       "</div>"
      ],
      "text/plain": [
       "                     Mean     Upper     Lower             p\n",
       "rBMI-hBMI        1.190756  1.265896  1.125000  5.677000e-08\n",
       "rBMI_RS-hBMI_RS  1.121391  1.192469  1.055556  6.108000e-04\n",
       "rBMI-rBL         1.253863  1.358594  1.156977  1.135000e-07\n",
       "rBMI_RS-rBL_RS   1.303589  1.428571  1.187050  1.434000e-08\n",
       "rBMI-hHeight     0.923982  1.000000  0.854839  9.481000e-01\n",
       "rBL-hHeight      1.381597  1.474320  1.294430  3.915000e-22\n",
       "rBL-hBMI         1.224396  1.288275  1.164341  8.658000e-13\n",
       "hBMI-hHeight     1.311280  1.375963  1.250700  2.006000e-28\n",
       "rBMI-hAR         0.764383  0.813364  0.717407  1.000000e+00\n",
       "rBMI-hFEV1       0.881550  0.937132  0.831010  9.995000e-01\n",
       "rBMI-hSMOK       0.896430  0.974790  0.819788  9.766000e-01\n",
       "rBMI-hNeo        0.797006  0.865306  0.733438  1.000000e+00"
      ]
     },
     "execution_count": 63,
     "metadata": {},
     "output_type": "execute_result"
    }
   ],
   "source": [
    "control_results"
   ]
  },
  {
   "cell_type": "code",
   "execution_count": 74,
   "metadata": {
    "ExecuteTime": {
     "end_time": "2022-09-06T23:37:05.398613Z",
     "start_time": "2022-09-06T23:37:04.402055Z"
    }
   },
   "outputs": [
    {
     "data": {
      "image/png": "[encoded data removed]",
      "text/plain": [
       "<Figure size 288x432 with 1 Axes>"
      ]
     },
     "metadata": {
      "needs_background": "light"
     },
     "output_type": "display_data"
    }
   ],
   "source": [
    "plt.figure(figsize=(4, 6))\n",
    "main_fig = control_results.loc[['rBMI-hBMI', 'rBMI-hFEV1', 'rBMI-hAR']]\n",
    "plt.bar(x = main_fig.index,\n",
    "       bottom= 1, height = main_fig.Mean - 1, capsize=4, edgecolor=\"black\",\n",
    "        yerr = [main_fig.Mean - main_fig.Lower, main_fig.Upper - main_fig.Mean],\n",
    "       color = [\"#f5793a\"]*1 + [\"grey\"]*2)\n",
    "\n",
    "plt.xticks(fontsize=16, rotation=90, ticks=main_fig.index, \n",
    "          labels = ['Rat BMI/Human BMI', 'Rat BMI/Human FEV1', 'Rat BMI/Human AR'])\n",
    "plt.ylabel(\"Observed/expected size \\nof colocalized network\", fontsize=16)\n",
    "plt.yticks(fontsize=16)\n",
    "plt.hlines(y=1, xmin=-0.6, xmax=11.6, linestyle=\"dashed\", color=\"black\")\n",
    "plt.xlim(-0.6, 2.6)\n",
    "plt.ylim(0.6, 1.3)\n",
    "plt.savefig(\"control_plot_main_BSL.png\", format='png', bbox_inches=\"tight\", dpi=500)"
   ]
  },
  {
   "cell_type": "code",
   "execution_count": 75,
   "metadata": {
    "ExecuteTime": {
     "end_time": "2022-09-06T23:37:57.837821Z",
     "start_time": "2022-09-06T23:37:56.181901Z"
    }
   },
   "outputs": [
    {
     "name": "stdout",
     "output_type": "stream",
     "text": [
      "Orange: BMI/BMI\n",
      "White: Positive Controls\n",
      "Grey: Negative Controls\n"
     ]
    },
    {
     "data": {
      "image/png": "[encoded data removed]",
      "text/plain": [
       "<Figure size 360x216 with 1 Axes>"
      ]
     },
     "metadata": {
      "needs_background": "light"
     },
     "output_type": "display_data"
    }
   ],
   "source": [
    "plt.figure(figsize=(5, 3))\n",
    "plot_results = control_results.loc[tick_list]\n",
    "plt.bar(x = tick_list,\n",
    "       bottom= 1, height = plot_results.Mean - 1, capsize=4, edgecolor=\"black\",\n",
    "        yerr = [plot_results.Mean - plot_results.Lower, plot_results.Upper - plot_results.Mean],\n",
    "       color = [\"#f5793a\"]*2 + [\"white\"]*6 + [\"grey\"]*4)\n",
    "\n",
    "plt.xticks(fontsize=16, rotation=90, ticks= tick_list,\n",
    "          labels =label_list)\n",
    "plt.yticks(fontsize=16)\n",
    "plt.hlines(y=1, xmin=-0.6, xmax=11.6, linestyle=\"dashed\", color=\"black\")\n",
    "plt.ylabel(\"Observed/Permuted size \\nof colocalized network\", fontsize=16)\n",
    "plt.xlim(-0.6, 11.6)\n",
    "plt.ylim(0.7, 1.6)\n",
    "plt.savefig(FIGDIR + \"control_plot.png\", bbox_inches=\"tight\", dpi=400)\n",
    "print(\"Orange: BMI/BMI\\nWhite: Positive Controls\\nGrey: Negative Controls\")"
   ]
  },
  {
   "cell_type": "markdown",
   "metadata": {},
   "source": [
    "# Scaled figures\n",
    "\n",
    "Create to-scale figures for publication. "
   ]
  },
  {
   "cell_type": "code",
   "execution_count": 70,
   "metadata": {
    "ExecuteTime": {
     "end_time": "2022-07-25T20:18:05.662273Z",
     "start_time": "2022-07-25T20:18:05.657975Z"
    },
    "code_folding": [
     0
    ]
   },
   "outputs": [],
   "source": [
    "def direct_overlap2(all_nodes, seeds1, seeds2, labels=[\"Human\", \"Rat\"], trait=\"\"):\n",
    "    fig, ax  = plt.subplots(ncols=1, nrows=1, figsize=(2.5, 3))\n",
    "    hyper = hypergeom(M=len(all_nodes), n=len(seeds1), N=len(seeds2))\n",
    "    intersect = set(seeds1).intersection(set(seeds2))\n",
    "    p_intersect = hyper.sf(len(intersect))\n",
    "    v = venn2([len(seeds1)-len(intersect), len(seeds2)-len(intersect), len(intersect)], labels,\n",
    "     set_colors=('skyblue', 'purple'), alpha=0.7, ax=ax)\n",
    "    v.get_label_by_id('10').set_fontsize(7)\n",
    "    v.get_label_by_id('11').set_fontsize(7)\n",
    "    v.get_label_by_id('01').set_fontsize(7)\n",
    "    v.get_label_by_id('A').set_fontsize(7)\n",
    "    v.get_label_by_id('B').set_fontsize(7)\n",
    "    v.get_label_by_id('01').set_color(\"white\")"
   ]
  },
  {
   "cell_type": "code",
   "execution_count": 72,
   "metadata": {
    "ExecuteTime": {
     "end_time": "2022-07-25T20:18:50.084170Z",
     "start_time": "2022-07-25T20:18:49.824665Z"
    }
   },
   "outputs": [
    {
     "data": {
      "image/png": "[encoded data removed]",
      "text/plain": [
       "<Figure size 180x216 with 1 Axes>"
      ]
     },
     "metadata": {},
     "output_type": "display_data"
    }
   ],
   "source": [
    "direct_overlap2(pc_nodes, seed_bin_human_height, seed_bin_rat_BL, trait=\"Height/BL\")\n",
    "plt.savefig(FIGDIR + \"scaled_height_venn.png\", dpi=500, bbox_inches=\"tight\")"
   ]
  },
  {
   "cell_type": "code",
   "execution_count": 28,
   "metadata": {
    "ExecuteTime": {
     "end_time": "2022-07-25T19:50:53.882972Z",
     "start_time": "2022-07-25T19:50:53.876360Z"
    },
    "code_folding": [
     0
    ]
   },
   "outputs": [],
   "source": [
    "def plot_permutation_histogram2(permuted, observed, title=\"\", xlabel=\"Observed vs Permuted\", color=\"cornflowerblue\", arrow_color=\"red\"):\n",
    "    \"\"\"Plot an observed value against a distribution of permuted values\n",
    "\n",
    "    Args:\n",
    "        permuted (list): A list of permuted values that form the disribution\n",
    "        observed (float): The observed value of interest\n",
    "        title (str): Plot title. Defaults to \"\".\n",
    "        xlabel (str): The x axis title. Defaults to \"Observed vs Permuted\".\n",
    "        color (str, optional): The color of the histogram. Defaults to \"cornflowerblue\".\n",
    "        arrow_color (str, optional): The color of the arrow pointing to observed value. Defaults to \"red\".\n",
    "    \"\"\"\n",
    "    plt.figure(figsize=(2.5, 2))\n",
    "    dfig = sns.histplot(permuted, label='Permuted', alpha=0.4, stat='density', bins=25, kde=True, \n",
    "                        edgecolor='w', color=color)\n",
    "    params = {'mathtext.default': 'regular' }          \n",
    "    plt.rcParams.update(params)\n",
    "    plt.xlabel(xlabel, fontsize=7)\n",
    "    diff = max(observed, max(permuted))-min(permuted)\n",
    "    plt.arrow(x = observed, y=dfig.dataLim.bounds[3]/2, dx=0, dy = -1 * dfig.dataLim.bounds[3]/2,label = \"Observed\",\n",
    "                width=diff/100, head_width=diff/15, head_length=dfig.dataLim.bounds[3]/20, overhang=0.5, \n",
    "                length_includes_head=True, color=arrow_color, zorder=50)\n",
    "    #plt.xlabel(xlabel, fontsize=12)\n",
    "    plt.ylabel(\"Density\", fontsize=7)\n",
    "    plt.legend(fontsize=7, loc=(0.6,0.75), handlelength=1, handleheight=1, handletextpad=0.4)\n",
    "    plt.tick_params(pad=1)\n",
    "    plt.xticks(fontsize=7)\n",
    "    plt.yticks(fontsize=7)\n",
    "    plt.locator_params(axis=\"y\", nbins=6)\n",
    "    plt.title(title+\" (p=\"+str(get_p_from_permutation_results(observed, permuted))+\")\", fontsize=7)"
   ]
  },
  {
   "cell_type": "code",
   "execution_count": 32,
   "metadata": {
    "ExecuteTime": {
     "end_time": "2022-07-25T19:56:33.527713Z",
     "start_time": "2022-07-25T19:56:32.788252Z"
    }
   },
   "outputs": [
    {
     "data": {
      "image/png": "[encoded data removed]",
      "text/plain": [
       "<Figure size 180x144 with 1 Axes>"
      ]
     },
     "metadata": {
      "needs_background": "light"
     },
     "output_type": "display_data"
    }
   ],
   "source": [
    "plot_permutation_histogram2(permuted_BMI, observed_BMI,'', 'Mean $NPS_{h,r}$',color=\"dimgrey\", arrow_color=\"#F5793A\")\n",
    "plt.savefig(FIGDIR + \"scaled_bmi_mean_nps.png\", dpi=600, bbox_inches=\"tight\",\n",
    "           transparent=True)"
   ]
  },
  {
   "cell_type": "code",
   "execution_count": 41,
   "metadata": {
    "ExecuteTime": {
     "end_time": "2022-07-25T20:00:53.138230Z",
     "start_time": "2022-07-25T20:00:52.450977Z"
    }
   },
   "outputs": [
    {
     "data": {
      "image/png": "[encoded data removed]",
      "text/plain": [
       "<Figure size 180x144 with 1 Axes>"
      ]
     },
     "metadata": {
      "needs_background": "light"
     },
     "output_type": "display_data"
    }
   ],
   "source": [
    "plot_permutation_histogram2(permuted_height, observed_height,'', 'Mean $NPS_{h,r}$',color=\"dimgrey\", arrow_color=\"#F5793A\")\n",
    "plt.savefig(FIGDIR + \"height_mean_nps_histogram.png\", dpi=600, bbox_inches=\"tight\",\n",
    "           transparent=True)"
   ]
  },
  {
   "cell_type": "code",
   "execution_count": null,
   "metadata": {},
   "outputs": [],
   "source": [
    "plot_permutation_histogram2(permuted_height_sz, observed_height_sz,'', 'Size of colocalized network',color=\"dimgrey\", arrow_color=\"#F5793A\")\n",
    "plt.savefig(FIGDIR + \"scaled_height_size_histogram.png\", dpi=600, bbox_inches=\"tight\",\n",
    "           transparent=True)"
   ]
  }
 ],
 "metadata": {
  "kernelspec": {
   "display_name": "Python [conda env:rat_pub]",
   "language": "python",
   "name": "conda-env-rat_pub-py"
  },
  "language_info": {
   "codemirror_mode": {
    "name": "ipython",
    "version": 3
   },
   "file_extension": ".py",
   "mimetype": "text/x-python",
   "name": "python",
   "nbconvert_exporter": "python",
   "pygments_lexer": "ipython3",
   "version": "3.9.13"
  },
  "toc": {
   "base_numbering": 1,
   "nav_menu": {},
   "number_sections": true,
   "sideBar": true,
   "skip_h1_title": false,
   "title_cell": "Table of Contents",
   "title_sidebar": "Contents",
   "toc_cell": false,
   "toc_position": {
    "height": "calc(100% - 180px)",
    "left": "10px",
    "top": "150px",
    "width": "280.44px"
   },
   "toc_section_display": true,
   "toc_window_display": true
  },
  "varInspector": {
   "cols": {
    "lenName": 16,
    "lenType": 16,
    "lenVar": 40
   },
   "kernels_config": {
    "python": {
     "delete_cmd_postfix": "",
     "delete_cmd_prefix": "del ",
     "library": "var_list.py",
     "varRefreshCmd": "print(var_dic_list())"
    },
    "r": {
     "delete_cmd_postfix": ") ",
     "delete_cmd_prefix": "rm(",
     "library": "var_list.r",
     "varRefreshCmd": "cat(var_dic_list()) "
    }
   },
   "types_to_exclude": [
    "module",
    "function",
    "builtin_function_or_method",
    "instance",
    "_Feature"
   ],
   "window_display": false
  }
 },
 "nbformat": 4,
 "nbformat_minor": 2
}
