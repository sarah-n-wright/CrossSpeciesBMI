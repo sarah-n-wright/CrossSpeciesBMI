{
 "cells": [
  {
   "cell_type": "markdown",
   "metadata": {},
   "source": [
    "# Todo\n",
    "\n",
    "* [MAYBE] add venn for ortholog only genes\n",
    "* update all plots to latest versions\n",
    "* make sure all points in text are covered here in the order presented.\n",
    "\n",
    "**DONE**  \n",
    "* plot control results - DONE\n",
    "* test all for rerun_analysis = False - DONE\n",
    "* test all for rerun_analysis = True - mostly tested, need to run the long ones - DONE\n",
    "\n",
    "THIS NOTEBOOK SHOULD PRODUCE ALL PLOTS FOR FIGURE 2 + RELEVANT EXTENDED DATA FIGURES"
   ]
  },
  {
   "cell_type": "markdown",
   "metadata": {},
   "source": [
    "# Introduction\n",
    "\n",
    "This notebook loads\n",
    "\n",
    "**Figures produced in this notebook:**\n",
    "* Figure 2X. Venn diagram of overlap between input BMI gene sets\n",
    "* Extended Data X. Distribution of mean $NPS_{hr}$ scores\n",
    "* Figure 2X. Distribution of colocalized network sizes\n",
    "* Figure 2X, Extended Data X. Scatter plots of $NPS_h$ vs $NPS_r$ defining the conserved BMI network\n",
    "* Figure 2X. Venn diagram of overlap between rat and human input sets at the network level\n",
    "* Extended Data X. Venn diagram of overlap between input height/body length gene sets\n",
    "* Figure 2X. Bar plot of network colocalizations for control traits\n",
    "\n",
    "\n",
    "**Note on rerunning the analysis:**\n",
    "- If `rerun_analysis == False` (default) this notebook will load precomputed values for network propagation. The permutation analyses will still be rerun. Because the permutation analysis involves random shuffling of the data the results generated will differ slightly from those reported.\n",
    "- If `rerun_analysis == True` this notebook will rerun all network propagation steps, including sampling analysis for human BMI and height. This requires significant memory (32GB+) and takes > 6 hours. Due to randomization in the sampling analysis the results generated will differ slightly from those reported. \n"
   ]
  },
  {
   "cell_type": "code",
   "execution_count": 1,
   "metadata": {
    "ExecuteTime": {
     "end_time": "2022-07-02T21:41:26.984344Z",
     "start_time": "2022-07-02T21:41:26.982564Z"
    }
   },
   "outputs": [],
   "source": [
    "# set whether all analyses should be rerun (see note above)\n",
    "rerun_analysis = True\n",
    "if rerun_analysis:\n",
    "    num_samples=100 # how many sampling runs should be performed (~2min per run)"
   ]
  },
  {
   "cell_type": "markdown",
   "metadata": {},
   "source": [
    "# Set Up"
   ]
  },
  {
   "cell_type": "code",
   "execution_count": 2,
   "metadata": {
    "ExecuteTime": {
     "end_time": "2022-07-02T21:41:31.284273Z",
     "start_time": "2022-07-02T21:41:27.080574Z"
    }
   },
   "outputs": [
    {
     "name": "stderr",
     "output_type": "stream",
     "text": [
      "DISCLAIMIER: cdapsutil is experimental and may contain errors and interfaces may change\n"
     ]
    }
   ],
   "source": [
    "# Import required libraries\n",
    "\n",
    "import os\n",
    "import sys\n",
    "import ndex2\n",
    "from getpass import getpass\n",
    "import cdapsutil\n",
    "import pandas as pd\n",
    "import mygene\n",
    "mg = mygene.MyGeneInfo()\n",
    "from netcoloc import netprop_zscore, netprop\n",
    "\n",
    "import matplotlib.pyplot as plt\n",
    "import seaborn as sns\n",
    "from matplotlib_venn import venn2, venn3"
   ]
  },
  {
   "cell_type": "code",
   "execution_count": 3,
   "metadata": {
    "ExecuteTime": {
     "end_time": "2022-07-02T21:41:31.288948Z",
     "start_time": "2022-07-02T21:41:31.285702Z"
    }
   },
   "outputs": [],
   "source": [
    "# Set up directory paths. Defaults to the Data/ and Figures/ folders within the repository.\n",
    "cwd = os.path.dirname(os.getcwd())\n",
    "DATADIR = os.path.join(cwd, \"Data/\")\n",
    "FIGDIR = os.path.join(cwd, \"Figures/rerun_\")"
   ]
  },
  {
   "cell_type": "code",
   "execution_count": 4,
   "metadata": {
    "ExecuteTime": {
     "end_time": "2022-07-02T21:41:31.498927Z",
     "start_time": "2022-07-02T21:41:31.289782Z"
    }
   },
   "outputs": [],
   "source": [
    "# Import functions specific to this study\n",
    "sys.path.append(cwd)\n",
    "from updated_netcoloc_functions import *\n",
    "from analysis_functions import *\n",
    "from plotting_functions import *"
   ]
  },
  {
   "cell_type": "markdown",
   "metadata": {},
   "source": [
    "# Load Input Data"
   ]
  },
  {
   "cell_type": "code",
   "execution_count": 5,
   "metadata": {
    "ExecuteTime": {
     "end_time": "2022-07-02T21:41:31.503331Z",
     "start_time": "2022-07-02T21:41:31.500448Z"
    }
   },
   "outputs": [],
   "source": [
    "# insert load from raw data"
   ]
  },
  {
   "cell_type": "markdown",
   "metadata": {},
   "source": [
    "## Load human and rat BMI seed genes"
   ]
  },
  {
   "cell_type": "code",
   "execution_count": 6,
   "metadata": {
    "ExecuteTime": {
     "end_time": "2022-07-02T21:41:31.526365Z",
     "start_time": "2022-07-02T21:41:31.504183Z"
    }
   },
   "outputs": [
    {
     "name": "stdout",
     "output_type": "stream",
     "text": [
      "Number of human BMI seeds: 1958\n",
      "Number of rat BMI seeds: 295\n"
     ]
    }
   ],
   "source": [
    "## Load the seed genes\n",
    "seed_bin_human_BMI = pd.read_csv(DATADIR+\"inputs/human_BMI_all_seed_genes.txt\", header=None)[0].tolist()\n",
    "print(\"Number of human BMI seeds:\", len(seed_bin_human_BMI))\n",
    "\n",
    "seed_bin_rat_BMI=pd.read_csv(DATADIR+'inputs/ratBMI_seed_relaxed.txt',sep='\\t')['0'].tolist()\n",
    "print(\"Number of rat BMI seeds:\", len(seed_bin_rat_BMI))"
   ]
  },
  {
   "cell_type": "code",
   "execution_count": 7,
   "metadata": {
    "ExecuteTime": {
     "end_time": "2022-07-02T21:41:31.529161Z",
     "start_time": "2022-07-02T21:41:31.527266Z"
    }
   },
   "outputs": [],
   "source": [
    "# Initialize dictionary for storing the seed genes\n",
    "seed_dict = {'hBMI': seed_bin_human_BMI, 'rBMI': seed_bin_rat_BMI}"
   ]
  },
  {
   "cell_type": "markdown",
   "metadata": {},
   "source": [
    "## Load molecular interaction network"
   ]
  },
  {
   "cell_type": "code",
   "execution_count": 8,
   "metadata": {
    "ExecuteTime": {
     "end_time": "2022-07-02T21:41:44.271680Z",
     "start_time": "2022-07-02T21:41:31.530187Z"
    }
   },
   "outputs": [
    {
     "name": "stdout",
     "output_type": "stream",
     "text": [
      "number of nodes:\n",
      "18820\n",
      "\n",
      "number of edges:\n",
      "2693109\n"
     ]
    }
   ],
   "source": [
    "pc_nodes, G_PC = load_pcnet()"
   ]
  },
  {
   "cell_type": "markdown",
   "metadata": {},
   "source": [
    "# Gene level overlap"
   ]
  },
  {
   "cell_type": "code",
   "execution_count": 9,
   "metadata": {
    "ExecuteTime": {
     "end_time": "2022-07-02T21:41:44.276664Z",
     "start_time": "2022-07-02T21:41:44.273100Z"
    }
   },
   "outputs": [],
   "source": [
    "def direct_overlap(all_nodes, seeds1, seeds2, labels=[\"Human\", \"Rat\"], trait=\"\"):\n",
    "    hyper = hypergeom(M=len(all_nodes), n=len(seeds1), N=len(seeds2))\n",
    "    intersect = set(seeds1).intersection(set(seeds2))\n",
    "    p_intersect = hyper.sf(len(intersect))\n",
    "    venn2([len(seeds1)-len(intersect), len(seeds2)-len(intersect), len(intersect)], labels,\n",
    "     set_colors=('skyblue', 'purple'), alpha=0.7)\n",
    "    _ = plt.title(\"-\".join(labels) + \" \" +trait +\" seed gene overlap, p=\"+str(p_intersect))"
   ]
  },
  {
   "cell_type": "code",
   "execution_count": 10,
   "metadata": {
    "ExecuteTime": {
     "end_time": "2022-07-02T21:41:44.591427Z",
     "start_time": "2022-07-02T21:41:44.277594Z"
    }
   },
   "outputs": [
    {
     "data": {
      "image/png": "[encoded data removed]",
      "text/plain": [
       "<Figure size 432x288 with 1 Axes>"
      ]
     },
     "metadata": {},
     "output_type": "display_data"
    }
   ],
   "source": [
    "direct_overlap(pc_nodes, seed_bin_human_BMI, seed_bin_rat_BMI, trait=\"BMI\")"
   ]
  },
  {
   "cell_type": "markdown",
   "metadata": {},
   "source": [
    "# Perform BMI network colocalization"
   ]
  },
  {
   "cell_type": "code",
   "execution_count": 11,
   "metadata": {
    "ExecuteTime": {
     "end_time": "2022-07-02T21:45:07.087438Z",
     "start_time": "2022-07-02T21:41:44.593875Z"
    }
   },
   "outputs": [],
   "source": [
    "# set the number of repitions for determining the null distribution at each node\n",
    "num_reps = 1000\n",
    "# precalculate network propagation heats\n",
    "if rerun_analysis:\n",
    "    w_prime = netprop.get_normalized_adjacency_matrix(G_PC, conserve_heat=True, weighted=False)\n",
    "    indiv_heats = netprop.get_individual_heats_matrix(w_prime, alpha=0.5)"
   ]
  },
  {
   "cell_type": "markdown",
   "metadata": {},
   "source": [
    "## Calculate Z-scores"
   ]
  },
  {
   "cell_type": "code",
   "execution_count": 12,
   "metadata": {
    "ExecuteTime": {
     "end_time": "2022-07-02T21:45:07.091115Z",
     "start_time": "2022-07-02T21:45:07.088839Z"
    }
   },
   "outputs": [],
   "source": [
    "# Initialize dictionary for storing z-scores\n",
    "z_dict = {}"
   ]
  },
  {
   "cell_type": "markdown",
   "metadata": {},
   "source": [
    "### Human BMI"
   ]
  },
  {
   "cell_type": "code",
   "execution_count": 13,
   "metadata": {
    "ExecuteTime": {
     "end_time": "2022-07-02T22:04:02.374772Z",
     "start_time": "2022-07-02T21:45:07.092057Z"
    }
   },
   "outputs": [
    {
     "data": {
      "application/vnd.jupyter.widget-view+json": {
       "model_id": "58d09805e1184d1cbeeb6a7cd06ac304",
       "version_major": 2,
       "version_minor": 0
      },
      "text/plain": [
       "  0%|          | 0/1000 [00:00<?, ?it/s]"
      ]
     },
     "metadata": {},
     "output_type": "display_data"
    },
    {
     "data": {
      "application/vnd.jupyter.widget-view+json": {
       "model_id": "a92616af2741465ba92eaaff2f780d8c",
       "version_major": 2,
       "version_minor": 0
      },
      "text/plain": [
       "  0%|          | 0/1000 [00:00<?, ?it/s]"
      ]
     },
     "metadata": {},
     "output_type": "display_data"
    },
    {
     "data": {
      "application/vnd.jupyter.widget-view+json": {
       "model_id": "a14223f2abd840b79bd63679d7338aed",
       "version_major": 2,
       "version_minor": 0
      },
      "text/plain": [
       "  0%|          | 0/1000 [00:00<?, ?it/s]"
      ]
     },
     "metadata": {},
     "output_type": "display_data"
    },
    {
     "data": {
      "application/vnd.jupyter.widget-view+json": {
       "model_id": "08ab7f096375458f8bfe374b8477000b",
       "version_major": 2,
       "version_minor": 0
      },
      "text/plain": [
       "  0%|          | 0/1000 [00:00<?, ?it/s]"
      ]
     },
     "metadata": {},
     "output_type": "display_data"
    },
    {
     "data": {
      "application/vnd.jupyter.widget-view+json": {
       "model_id": "c427209d62a640d5bb5750b13b0ac5e7",
       "version_major": 2,
       "version_minor": 0
      },
      "text/plain": [
       "  0%|          | 0/1000 [00:00<?, ?it/s]"
      ]
     },
     "metadata": {},
     "output_type": "display_data"
    },
    {
     "data": {
      "application/vnd.jupyter.widget-view+json": {
       "model_id": "bd6d1217cb2e4d8aa7211d353be28a16",
       "version_major": 2,
       "version_minor": 0
      },
      "text/plain": [
       "  0%|          | 0/1000 [00:00<?, ?it/s]"
      ]
     },
     "metadata": {},
     "output_type": "display_data"
    },
    {
     "data": {
      "application/vnd.jupyter.widget-view+json": {
       "model_id": "05e1e1ffe74e4695a220865d2e0262b0",
       "version_major": 2,
       "version_minor": 0
      },
      "text/plain": [
       "  0%|          | 0/1000 [00:00<?, ?it/s]"
      ]
     },
     "metadata": {},
     "output_type": "display_data"
    },
    {
     "data": {
      "application/vnd.jupyter.widget-view+json": {
       "model_id": "51e223145aba447d896934fc5c740bfb",
       "version_major": 2,
       "version_minor": 0
      },
      "text/plain": [
       "  0%|          | 0/1000 [00:00<?, ?it/s]"
      ]
     },
     "metadata": {},
     "output_type": "display_data"
    },
    {
     "data": {
      "application/vnd.jupyter.widget-view+json": {
       "model_id": "7eb105826634411dbbe57e40279fc021",
       "version_major": 2,
       "version_minor": 0
      },
      "text/plain": [
       "  0%|          | 0/1000 [00:00<?, ?it/s]"
      ]
     },
     "metadata": {},
     "output_type": "display_data"
    },
    {
     "data": {
      "application/vnd.jupyter.widget-view+json": {
       "model_id": "4b09363beacd498b9585d81167a7a23a",
       "version_major": 2,
       "version_minor": 0
      },
      "text/plain": [
       "  0%|          | 0/1000 [00:00<?, ?it/s]"
      ]
     },
     "metadata": {},
     "output_type": "display_data"
    }
   ],
   "source": [
    "if rerun_analysis: # perform sampling analysis for network propagation\n",
    "    BMI_pascal_results = pd.read_csv(DATADIR+\"inputs/GIANT_BMI_pascal.sum.genescores.txt\", sep=\"\\t\")\n",
    "    BMI_samples = calculate_heat_zscores_with_sampling(BMI_pascal_results, pc_nodes, indiv_heats, G_PC, trait=\"BMI\",\n",
    "                                                            out_path=DATADIR+\"outputs/rerun_\", num_samples=num_samples)\n",
    "    z_human_bin_BMI = get_consensus_z_scores(BMI_samples, 0.75)\n",
    "else:  # use pre-calculated results\n",
    "    z_human_bin_BMI = get_consensus_z_scores(DATADIR+'outputs/z_human_bin_BMI_SAMPLED_500_100_weighted.tsv')\n",
    "z_dict['hBMI'] = z_human_bin_BMI"
   ]
  },
  {
   "cell_type": "markdown",
   "metadata": {},
   "source": [
    "### Rat BMI"
   ]
  },
  {
   "cell_type": "code",
   "execution_count": 14,
   "metadata": {
    "ExecuteTime": {
     "end_time": "2022-07-02T22:05:22.720281Z",
     "start_time": "2022-07-02T22:04:02.376054Z"
    }
   },
   "outputs": [
    {
     "data": {
      "application/vnd.jupyter.widget-view+json": {
       "model_id": "d32f49e7e1ae498fa6195a89667e2d96",
       "version_major": 2,
       "version_minor": 0
      },
      "text/plain": [
       "  0%|          | 0/1000 [00:00<?, ?it/s]"
      ]
     },
     "metadata": {},
     "output_type": "display_data"
    }
   ],
   "source": [
    "if rerun_analysis: # perform network propagation\n",
    "    z_rat_BMI = netprop_zscore.calculate_heat_zscores(indiv_heats, list(G_PC.nodes),\n",
    "                                                    dict(G_PC.degree), \n",
    "                                                    seed_bin_rat_BMI,\n",
    "                                                    num_reps=num_reps, alpha=0.5,\n",
    "                                                    minimum_bin_size=10,\n",
    "                                                    random_seed=1)\n",
    "    pd.DataFrame(z_rat_BMI[0], columns=[\"z\"]).to_csv(DATADIR+\"outputs/z_rat_BMI_rerun.tsv\", sep=\"\\t\", index=True)\n",
    "    z_dict['rBMI'] = pd.DataFrame(z_rat_BMI[0], columns=[\"z\"])\n",
    "else: # use precomputed values\n",
    "    out_name = 'rat_BMI_relaxed'\n",
    "    z_rat_BMI=pd.read_csv(DATADIR+'outputs/z_'+out_name+'_'+str(num_reps)+'_reps.tsv',sep='\\t',\n",
    "                          index_col='gene',names=['gene','z'], header=0)\n",
    "    z_dict['rBMI'] = z_rat_BMI"
   ]
  },
  {
   "cell_type": "markdown",
   "metadata": {},
   "source": [
    "## Permutation Analysis"
   ]
  },
  {
   "cell_type": "code",
   "execution_count": 15,
   "metadata": {
    "ExecuteTime": {
     "end_time": "2022-07-02T22:06:24.541773Z",
     "start_time": "2022-07-02T22:05:22.721601Z"
    }
   },
   "outputs": [
    {
     "name": "stdout",
     "output_type": "stream",
     "text": [
      "Overlap seed genes: 29\n"
     ]
    },
    {
     "name": "stderr",
     "output_type": "stream",
     "text": [
      "100%|██████████| 10000/10000 [01:01<00:00, 161.79it/s]\n"
     ]
    }
   ],
   "source": [
    "# Generate a null distribution of mean NPS by shuffling the z_scores\n",
    "observed_BMI, permuted_BMI = calculate_mean_z_score_distribution(z_dict['rBMI'], z_dict['hBMI'], num_reps=10000,\n",
    "                                                       zero_double_negatives=False, overlap_control=\"bin\",\n",
    "                                                       seed1=seed_dict['rBMI'], seed2=seed_dict['hBMI'])"
   ]
  },
  {
   "cell_type": "code",
   "execution_count": 16,
   "metadata": {
    "ExecuteTime": {
     "end_time": "2022-07-02T22:06:25.721039Z",
     "start_time": "2022-07-02T22:06:24.543181Z"
    }
   },
   "outputs": [
    {
     "data": {
      "image/png": "[encoded data removed]",
      "text/plain": [
       "<Figure size 360x288 with 1 Axes>"
      ]
     },
     "metadata": {
      "needs_background": "light"
     },
     "output_type": "display_data"
    }
   ],
   "source": [
    "plot_permutation_histogram(permuted_BMI, observed_BMI,'', 'Mean $NPS_{h,r}$',color=\"dimgrey\", arrow_color=\"#F5793A\")\n",
    "plt.savefig(FIGDIR + \"ratBMI_humanBMI_mean_NPS_histogram_400dpi.png\",dpi=400, bbox_inches=\"tight\")"
   ]
  },
  {
   "cell_type": "code",
   "execution_count": 17,
   "metadata": {
    "ExecuteTime": {
     "end_time": "2022-07-02T22:08:40.291553Z",
     "start_time": "2022-07-02T22:06:25.722058Z"
    }
   },
   "outputs": [
    {
     "name": "stdout",
     "output_type": "stream",
     "text": [
      "Overlap seed genes: 29\n"
     ]
    },
    {
     "name": "stderr",
     "output_type": "stream",
     "text": [
      "100%|██████████| 10000/10000 [02:14<00:00, 74.32it/s]\n"
     ]
    }
   ],
   "source": [
    "# Generate a null distribution of colocalized network size by shuffling the z_scores and applying the thresholds:\n",
    "# NPS_r > 1, NPS_h > 1, NPS_hr > 3\n",
    "observed_BMI_sz, permuted_BMI_sz = calculate_expected_overlap(z_dict['rBMI'], z_dict['hBMI'], \n",
    "                                                            z_score_threshold=3, z1_threshold=1.0,\n",
    "                                                            z2_threshold=1.0, num_reps=10000, plot=False, \n",
    "                                                            overlap_control=\"bin\",\n",
    "                                                            seed1=seed_dict['rBMI'], seed2=seed_dict['hBMI'])"
   ]
  },
  {
   "cell_type": "code",
   "execution_count": 18,
   "metadata": {
    "ExecuteTime": {
     "end_time": "2022-07-02T22:08:41.338952Z",
     "start_time": "2022-07-02T22:08:40.292862Z"
    }
   },
   "outputs": [
    {
     "data": {
      "image/png": "[encoded data removed]",
      "text/plain": [
       "<Figure size 360x288 with 1 Axes>"
      ]
     },
     "metadata": {
      "needs_background": "light"
     },
     "output_type": "display_data"
    }
   ],
   "source": [
    "plot_permutation_histogram(permuted_BMI_sz, observed_BMI_sz,'', 'Size of colocalized network', color=\"dimgrey\",\n",
    "                          arrow_color=\"#F5793A\")\n",
    "plt.savefig(FIGDIR + \"ratBMI_humanBMI_netcoloc_size_histogram_400dpi.png\",dpi=400, bbox_inches=\"tight\")"
   ]
  },
  {
   "cell_type": "markdown",
   "metadata": {},
   "source": [
    "## Visualize results for BMI network colocalization"
   ]
  },
  {
   "cell_type": "code",
   "execution_count": 19,
   "metadata": {
    "ExecuteTime": {
     "end_time": "2022-07-02T22:08:41.537421Z",
     "start_time": "2022-07-02T22:08:41.340039Z"
    }
   },
   "outputs": [],
   "source": [
    "# compile z scores and seed gene status for each gene in the network\n",
    "netcoloc_data = pd.DataFrame(z_dict['hBMI']).join(z_dict['rBMI'], lsuffix=\"_human\", rsuffix=\"_rat\")\n",
    "netcoloc_data[\"human_seed\"] = netcoloc_data.index.isin(seed_bin_human_BMI) * 1 \n",
    "netcoloc_data[\"rat_seed\"] = netcoloc_data.index.isin(seed_bin_rat_BMI) * 1 \n",
    "netcoloc_data[\"hue\"] = netcoloc_data.apply(lambda x: \"#F5793A\" if (x.z_human > 1) and (x.z_rat > 1) \n",
    "                                           and (x.z_human * x.z_rat > 3) else \"grey\", axis=1)\n",
    "data_non_seed = netcoloc_data.loc[((netcoloc_data.rat_seed ==0) & (netcoloc_data.human_seed==0))]"
   ]
  },
  {
   "cell_type": "code",
   "execution_count": 20,
   "metadata": {
    "ExecuteTime": {
     "end_time": "2022-07-02T22:08:47.385540Z",
     "start_time": "2022-07-02T22:08:41.538378Z"
    }
   },
   "outputs": [
    {
     "data": {
      "image/png": "[encoded data removed]",
      "text/plain": [
       "<Figure size 1008x504 with 2 Axes>"
      ]
     },
     "metadata": {
      "needs_background": "light"
     },
     "output_type": "display_data"
    }
   ],
   "source": [
    "## scatter plot of species NPS scores \n",
    "fig, [ax1, ax2] = plt.subplots(1,2,figsize=(14,7))\n",
    "ax1.scatter(data=netcoloc_data, x=\"z_human\", y=\"z_rat\", color=\"hue\", \n",
    "                s=[1 if netcoloc_data.hue[i]==\"grey\" else 2 for i in range(len(netcoloc_data))], \n",
    "                alpha=[0.5 if netcoloc_data.hue[i]==\"grey\" else 1 for i in range(len(netcoloc_data))], \n",
    "                zorder=0, label=None)\n",
    "ax1.spines['left'].set(position=('data', -5), zorder=2)\n",
    "ax1.spines['bottom'].set(position=('data', -5), zorder=2)\n",
    "ax1.set_xlabel(\"NPS_h\", zorder=4, fontsize=12, color=\"#85c0F9\")\n",
    "ax1.set_ylabel(\"NPS_r\", fontsize=12, color=\"#A95AA1\")\n",
    "ax1.spines['top'].set_position(('data', 0.0))\n",
    "ax1.spines['right'].set_position(('data', 0.0))\n",
    "ax1.set_xlim((-5, 35))\n",
    "ax1.set_ylim((-5, 35))\n",
    "_ =ax1.set_title(\"All genes\")\n",
    "\n",
    "ax2.scatter(data=data_non_seed, x=\"z_human\", y=\"z_rat\", color=\"hue\", \n",
    "                s=[1 if data_non_seed.hue[i]==\"grey\" else 3 for i in range(len(data_non_seed))], \n",
    "                alpha=[0.5 if data_non_seed.hue[i]==\"grey\" else 1 for i in range(len(data_non_seed))], \n",
    "                zorder=0, label=None)\n",
    "ax2.scatter(data = data_non_seed[data_non_seed.hue != \"grey\"], x=\"z_human\", y=\"z_rat\", color=\"hue\", s=3, alpha=1, \n",
    "                zorder=1, label= \"Conserved BMI Network\" )\n",
    "ax2.set_ylabel(\"NPS_r\", fontsize=12, color=\"#A95AA1\")\n",
    "ax2.set_xlim((-3, 7))\n",
    "ax2.set_ylim((-3, 7))\n",
    "ax2.spines['left'].set(position=('data', -3), zorder=2)\n",
    "ax2.spines['bottom'].set(position=('data', -3), zorder=2)\n",
    "ax2.set_xlabel(\"NPS_h\", zorder=4, fontsize=12, color=\"#85c0F9\")\n",
    "ax2.spines['top'].set_position(('data', 0.0))\n",
    "ax2.spines['right'].set_position(('data', 0.0))\n",
    "_ =ax2.set_title(\"No seed genes\")\n",
    "plt.legend(fontsize=12)\n",
    "\n",
    "plt.savefig(FIGDIR + \"BMI_NPS_scatter_plots_conserved_network.png\", bbox_inches=\"tight\", dpi=400)"
   ]
  },
  {
   "cell_type": "code",
   "execution_count": 21,
   "metadata": {
    "ExecuteTime": {
     "end_time": "2022-07-02T22:08:47.392401Z",
     "start_time": "2022-07-02T22:08:47.386512Z"
    }
   },
   "outputs": [],
   "source": [
    "## Get gene sets meeting each of the thresholds\n",
    "h_set = set(netcoloc_data[netcoloc_data.z_human > 1].index)\n",
    "r_set = set(netcoloc_data[netcoloc_data.z_rat > 1].index)\n",
    "b_set = set(netcoloc_data[netcoloc_data.hue != \"grey\"].index)"
   ]
  },
  {
   "cell_type": "code",
   "execution_count": 22,
   "metadata": {
    "ExecuteTime": {
     "end_time": "2022-07-02T22:08:47.672545Z",
     "start_time": "2022-07-02T22:08:47.394543Z"
    }
   },
   "outputs": [
    {
     "data": {
      "image/png": "[encoded data removed]",
      "text/plain": [
       "<Figure size 432x288 with 1 Axes>"
      ]
     },
     "metadata": {},
     "output_type": "display_data"
    }
   ],
   "source": [
    "# create new venn diagram\n",
    "c = venn3([h_set, r_set, b_set.intersection(h_set).intersection(r_set)], \n",
    "          set_colors = [\"#85c0f9\", \"#a95aa1\", \"#f5793a\"], alpha=1, set_labels=[\"\", \"\", \"\"])\n",
    "c.get_patch_by_id('111').set_color('#f5793a')\n",
    "c.get_patch_by_id('110').set_color('#0051a2')\n",
    "c.get_label_by_id('110').set_color('white')\n",
    "plt.savefig(\"/cellar/users/snwright/Data/Transfer/rat/UpdatedFigures/PostColoc_venn3_v2.png\", dpi=400, bbox_inches=\"tight\")"
   ]
  },
  {
   "cell_type": "markdown",
   "metadata": {},
   "source": [
    "# Control analysis"
   ]
  },
  {
   "cell_type": "markdown",
   "metadata": {},
   "source": [
    "## Load control trait seed genes"
   ]
  },
  {
   "cell_type": "markdown",
   "metadata": {},
   "source": [
    "### Positive Control Height/BL"
   ]
  },
  {
   "cell_type": "code",
   "execution_count": 23,
   "metadata": {
    "ExecuteTime": {
     "end_time": "2022-07-02T22:08:47.823333Z",
     "start_time": "2022-07-02T22:08:47.673747Z"
    }
   },
   "outputs": [
    {
     "name": "stdout",
     "output_type": "stream",
     "text": [
      "Number of height seeds: 6140\n",
      "Number of rat BL seeds: 337\n"
     ]
    }
   ],
   "source": [
    "seed_bin_human_height = load_human_seed_genes(DATADIR+'inputs/GIANT_standing_height_pascal.sum.genescores.txt', \n",
    "                                              pc_nodes, 'height')\n",
    "seed_bin_rat_BL=pd.read_csv(DATADIR+'inputs/ratBL_seed_relaxed.txt',sep='\\t')['0'].tolist()\n",
    "print(\"Number of rat BL seeds:\", len(seed_bin_rat_BL))"
   ]
  },
  {
   "cell_type": "code",
   "execution_count": 24,
   "metadata": {
    "ExecuteTime": {
     "end_time": "2022-07-02T22:08:48.011736Z",
     "start_time": "2022-07-02T22:08:47.824374Z"
    }
   },
   "outputs": [
    {
     "data": {
      "image/png": "[encoded data removed]",
      "text/plain": [
       "<Figure size 432x288 with 1 Axes>"
      ]
     },
     "metadata": {},
     "output_type": "display_data"
    }
   ],
   "source": [
    "direct_overlap(pc_nodes, seed_bin_human_height, seed_bin_rat_BL, trait=\"Height/BL\")"
   ]
  },
  {
   "cell_type": "markdown",
   "metadata": {},
   "source": [
    "### Negative Controls"
   ]
  },
  {
   "cell_type": "code",
   "execution_count": 25,
   "metadata": {
    "ExecuteTime": {
     "end_time": "2022-07-02T22:08:48.049593Z",
     "start_time": "2022-07-02T22:08:48.014758Z"
    }
   },
   "outputs": [
    {
     "name": "stdout",
     "output_type": "stream",
     "text": [
      "Number of AR seeds: 34\n",
      "Number of BP1 seeds: 316\n",
      "Number of BP4 seeds: 239\n"
     ]
    }
   ],
   "source": [
    "# Human control trait seed genes\n",
    "seed_bin_human_AR = pd.read_csv(DATADIR+'inputs/humanAR_seed_PASCAL'+'_bonf.txt',\n",
    "                               sep=\"\\t\")['0'].tolist() # Allergic Rhinitis\n",
    "seed_bin_human_BP1 = pd.read_csv(DATADIR+'inputs/humanBP1_seed_PASCAL'+'_bonf.txt',\n",
    "                               sep=\"\\t\")['0'].tolist() # Balding pattern 1\n",
    "seed_bin_human_BP4 = pd.read_csv(DATADIR+'inputs/humanBP4_seed_PASCAL'+'_bonf.txt',\n",
    "                               sep=\"\\t\")['0'].tolist() # Balding pattern 4\n",
    "print(\"Number of AR seeds:\", len(seed_bin_human_AR))\n",
    "print(\"Number of BP1 seeds:\", len(seed_bin_human_BP1))\n",
    "print(\"Number of BP4 seeds:\", len(seed_bin_human_BP4))"
   ]
  },
  {
   "cell_type": "markdown",
   "metadata": {},
   "source": [
    "## Perform network colocalization of controls"
   ]
  },
  {
   "cell_type": "markdown",
   "metadata": {},
   "source": [
    "### Z-scores"
   ]
  },
  {
   "cell_type": "code",
   "execution_count": 26,
   "metadata": {
    "ExecuteTime": {
     "end_time": "2022-07-02T22:30:54.768904Z",
     "start_time": "2022-07-02T22:08:48.052091Z"
    }
   },
   "outputs": [
    {
     "data": {
      "application/vnd.jupyter.widget-view+json": {
       "model_id": "86fca13bd19947648ccb616f491b1e21",
       "version_major": 2,
       "version_minor": 0
      },
      "text/plain": [
       "  0%|          | 0/1000 [00:00<?, ?it/s]"
      ]
     },
     "metadata": {},
     "output_type": "display_data"
    },
    {
     "data": {
      "application/vnd.jupyter.widget-view+json": {
       "model_id": "09a342c1dfd544619127c16e7a169c9a",
       "version_major": 2,
       "version_minor": 0
      },
      "text/plain": [
       "  0%|          | 0/1000 [00:00<?, ?it/s]"
      ]
     },
     "metadata": {},
     "output_type": "display_data"
    },
    {
     "data": {
      "application/vnd.jupyter.widget-view+json": {
       "model_id": "4ff396315f084490b7d3e70a8f033770",
       "version_major": 2,
       "version_minor": 0
      },
      "text/plain": [
       "  0%|          | 0/1000 [00:00<?, ?it/s]"
      ]
     },
     "metadata": {},
     "output_type": "display_data"
    },
    {
     "data": {
      "application/vnd.jupyter.widget-view+json": {
       "model_id": "b38b4fad80984fb1ac2f5db1ab9f79f0",
       "version_major": 2,
       "version_minor": 0
      },
      "text/plain": [
       "  0%|          | 0/1000 [00:00<?, ?it/s]"
      ]
     },
     "metadata": {},
     "output_type": "display_data"
    },
    {
     "data": {
      "application/vnd.jupyter.widget-view+json": {
       "model_id": "fd621afe7f864916928bf8a9a78311a4",
       "version_major": 2,
       "version_minor": 0
      },
      "text/plain": [
       "  0%|          | 0/1000 [00:00<?, ?it/s]"
      ]
     },
     "metadata": {},
     "output_type": "display_data"
    },
    {
     "data": {
      "application/vnd.jupyter.widget-view+json": {
       "model_id": "d44e0bf2f90f4175a508a3bd8e864dee",
       "version_major": 2,
       "version_minor": 0
      },
      "text/plain": [
       "  0%|          | 0/1000 [00:00<?, ?it/s]"
      ]
     },
     "metadata": {},
     "output_type": "display_data"
    },
    {
     "data": {
      "application/vnd.jupyter.widget-view+json": {
       "model_id": "7362eb014f4847d0858204ff42aa47b2",
       "version_major": 2,
       "version_minor": 0
      },
      "text/plain": [
       "  0%|          | 0/1000 [00:00<?, ?it/s]"
      ]
     },
     "metadata": {},
     "output_type": "display_data"
    },
    {
     "data": {
      "application/vnd.jupyter.widget-view+json": {
       "model_id": "c57356bbb98a47d791f2517edd0722eb",
       "version_major": 2,
       "version_minor": 0
      },
      "text/plain": [
       "  0%|          | 0/1000 [00:00<?, ?it/s]"
      ]
     },
     "metadata": {},
     "output_type": "display_data"
    },
    {
     "data": {
      "application/vnd.jupyter.widget-view+json": {
       "model_id": "53150ded5ea14129a28f6f02f856cca2",
       "version_major": 2,
       "version_minor": 0
      },
      "text/plain": [
       "  0%|          | 0/1000 [00:00<?, ?it/s]"
      ]
     },
     "metadata": {},
     "output_type": "display_data"
    },
    {
     "data": {
      "application/vnd.jupyter.widget-view+json": {
       "model_id": "76359b573cac4ee6b646c18e134181e2",
       "version_major": 2,
       "version_minor": 0
      },
      "text/plain": [
       "  0%|          | 0/1000 [00:00<?, ?it/s]"
      ]
     },
     "metadata": {},
     "output_type": "display_data"
    },
    {
     "data": {
      "application/vnd.jupyter.widget-view+json": {
       "model_id": "2576a0b6c1e84de0a2732f2ebdebabd8",
       "version_major": 2,
       "version_minor": 0
      },
      "text/plain": [
       "  0%|          | 0/1000 [00:00<?, ?it/s]"
      ]
     },
     "metadata": {},
     "output_type": "display_data"
    }
   ],
   "source": [
    "# positive control\n",
    "if rerun_analysis:\n",
    "    # human sampling analysis for network propagation\n",
    "    height_pascal_results = pd.read_csv(DATADIR+\"inputs/GIANT_standing_height_pascal.sum.genescores.txt\", sep=\"\\t\")\n",
    "    height_samples = calculate_heat_zscores_with_sampling(height_pascal_results, pc_nodes, indiv_heats, G_PC, trait=\"height\",\n",
    "                                                            out_path=DATADIR+\"outputs/rerun_\", num_samples=num_samples)\n",
    "    z_human_bin_height = get_consensus_z_scores(height_samples, 0.75)\n",
    "    z_dict['hHeight'] = z_human_bin_height\n",
    "    # rat network propagation\n",
    "    z_rat_BL = netprop_zscore.calculate_heat_zscores(indiv_heats, list(G_PC.nodes),\n",
    "                                                    dict(G_PC.degree), \n",
    "                                                    seed_bin_rat_BL,\n",
    "                                                    num_reps=num_reps, alpha=0.5,\n",
    "                                                    minimum_bin_size=10,\n",
    "                                                    random_seed=1)\n",
    "    pd.DataFrame(z_rat_BL[0], columns=[\"z\"]).to_csv(DATADIR+\"outputs/z_rat_BL_rerun.tsv\", sep=\"\\t\", index=True)\n",
    "    z_dict['rBL'] = pd.DataFrame(z_rat_BL[0], columns=[\"z\"])\n",
    "else:\n",
    "    # human precomputed scores\n",
    "    z_human_bin_height = get_consensus_z_scores(DATADIR+'outputs/z_human_bin_Height_SAMPLED_500_100_weighted.tsv')\n",
    "    z_dict['hHeight'] = z_human_bin_height\n",
    "    # rat precomputed scores\n",
    "    out_name = 'rat_BL_relaxed'\n",
    "    z_rat_BL=pd.read_csv(DATADIR + 'outputs/z_'+out_name+'_'+str(num_reps)+'_reps.tsv',sep='\\t',\n",
    "                         index_col='gene', names=['gene', 'z'], header=0)\n",
    "    z_dict['rBL'] = z_rat_BL"
   ]
  },
  {
   "cell_type": "code",
   "execution_count": 27,
   "metadata": {
    "ExecuteTime": {
     "end_time": "2022-07-02T22:33:48.131634Z",
     "start_time": "2022-07-02T22:30:54.770273Z"
    }
   },
   "outputs": [
    {
     "data": {
      "application/vnd.jupyter.widget-view+json": {
       "model_id": "64edf9ea0aac4f2aa1876555180aa9ef",
       "version_major": 2,
       "version_minor": 0
      },
      "text/plain": [
       "  0%|          | 0/1000 [00:00<?, ?it/s]"
      ]
     },
     "metadata": {},
     "output_type": "display_data"
    },
    {
     "data": {
      "application/vnd.jupyter.widget-view+json": {
       "model_id": "14779bcf3d5842349c493a03768e86ac",
       "version_major": 2,
       "version_minor": 0
      },
      "text/plain": [
       "  0%|          | 0/1000 [00:00<?, ?it/s]"
      ]
     },
     "metadata": {},
     "output_type": "display_data"
    },
    {
     "data": {
      "application/vnd.jupyter.widget-view+json": {
       "model_id": "88fcb972188d4df49ab1c78825d32814",
       "version_major": 2,
       "version_minor": 0
      },
      "text/plain": [
       "  0%|          | 0/1000 [00:00<?, ?it/s]"
      ]
     },
     "metadata": {},
     "output_type": "display_data"
    }
   ],
   "source": [
    "# negative controls\n",
    "if rerun_analysis:\n",
    "    # Allergic Rhinitis (AR)\n",
    "    z_human_bin_AR = netprop_zscore.calculate_heat_zscores(indiv_heats, list(G_PC.nodes),\n",
    "                                                    dict(G_PC.degree), \n",
    "                                                    seed_bin_human_AR,\n",
    "                                                    num_reps=num_reps, alpha=0.5,\n",
    "                                                    minimum_bin_size=10,\n",
    "                                                    random_seed=1)\n",
    "    pd.DataFrame(z_human_bin_AR[0], columns=[\"z\"]).to_csv(DATADIR+\"outputs/z_human_AR_rerun.tsv\", sep=\"\\t\", index=True)\n",
    "    z_dict['hAR'] = pd.DataFrame(z_human_bin_AR[0], columns=[\"z\"])\n",
    "    # Balding pattern 1 (BP1)\n",
    "    z_human_bin_BP1 = netprop_zscore.calculate_heat_zscores(indiv_heats, list(G_PC.nodes),\n",
    "                                                    dict(G_PC.degree), \n",
    "                                                    seed_bin_human_BP1,\n",
    "                                                    num_reps=num_reps, alpha=0.5,\n",
    "                                                    minimum_bin_size=10,\n",
    "                                                    random_seed=1)\n",
    "    pd.DataFrame(z_human_bin_BP1[0], columns=[\"z\"]).to_csv(DATADIR+\"outputs/z_human_BP1_rerun.tsv\", sep=\"\\t\", index=True)\n",
    "    z_dict['hBP1'] = pd.DataFrame(z_human_bin_BP1[0], columns=[\"z\"])\n",
    "    # Balding pattern 4 (BP4)\n",
    "    z_human_bin_BP4 = netprop_zscore.calculate_heat_zscores(indiv_heats, list(G_PC.nodes),\n",
    "                                                    dict(G_PC.degree), \n",
    "                                                    seed_bin_human_BP4,\n",
    "                                                    num_reps=num_reps, alpha=0.5,\n",
    "                                                    minimum_bin_size=10,\n",
    "                                                    random_seed=1)\n",
    "    pd.DataFrame(z_human_bin_BP4[0], columns=[\"z\"]).to_csv(DATADIR+\"outputs/z_human_BP4_rerun.tsv\", sep=\"\\t\", index=True)\n",
    "    z_dict['hBP4'] = pd.DataFrame(z_human_bin_BP4[0], columns=[\"z\"])\n",
    "else: # use precomputed scores\n",
    "    out_name = 'human_AR_PASCAL'+'_bonf'\n",
    "    z_human_bin_AR=pd.read_csv(DATADIR+'outputs/z_'+out_name+'_'+str(num_reps)+'_reps.tsv',sep='\\t',\n",
    "                            index_col='gene',names=['gene','z'], header=0)\n",
    "    z_dict['hAR'] = z_human_bin_AR\n",
    "    out_name = 'human_BP1_PASCAL'+'_bonf'\n",
    "    z_human_bin_BP1=pd.read_csv(DATADIR+'outputs/z_'+out_name+'_'+str(num_reps)+'_reps.tsv',sep='\\t',\n",
    "                            index_col='gene',names=['gene','z'], header=0)\n",
    "    z_dict['hBP1'] = z_human_bin_AR\n",
    "    out_name = 'human_BP4_PASCAL'+'_bonf'\n",
    "    z_human_bin_BP4=pd.read_csv(DATADIR+'outputs/z_'+out_name+'_'+str(num_reps)+'_reps.tsv',sep='\\t',\n",
    "                            index_col='gene',names=['gene','z'], header=0)\n",
    "    z_dict['hBP4'] = z_human_bin_AR"
   ]
  },
  {
   "cell_type": "code",
   "execution_count": 28,
   "metadata": {
    "ExecuteTime": {
     "end_time": "2022-07-02T22:33:48.135487Z",
     "start_time": "2022-07-02T22:33:48.132938Z"
    }
   },
   "outputs": [],
   "source": [
    "# add control seed genes to the seed gene dictionary\n",
    "seed_dict = {'hHeight': seed_bin_human_height,\n",
    "    'rBMI':seed_bin_rat_BMI,'rBL':seed_bin_rat_BL,\n",
    "             'hAR':seed_bin_human_AR,'hBP1':seed_bin_human_BP1,\n",
    "             'hBP4':seed_bin_human_BP4, **seed_dict}"
   ]
  },
  {
   "cell_type": "markdown",
   "metadata": {},
   "source": [
    "### Permutation analysis"
   ]
  },
  {
   "cell_type": "code",
   "execution_count": 29,
   "metadata": {
    "ExecuteTime": {
     "end_time": "2022-07-02T22:33:48.148579Z",
     "start_time": "2022-07-02T22:33:48.140699Z"
    }
   },
   "outputs": [],
   "source": [
    "# define the comparisons to be made\n",
    "control_combinations = [('rBMI', 'hBMI'),('hHeight', 'rBL'), ('rBMI', 'rBL'), ('hBMI', 'hHeight'), ('rBMI', 'hAR'), ('rBMI', 'hBP1'),\n",
    "                       ('rBMI', 'hBP4')]"
   ]
  },
  {
   "cell_type": "code",
   "execution_count": 30,
   "metadata": {
    "ExecuteTime": {
     "end_time": "2022-07-02T22:35:22.047895Z",
     "start_time": "2022-07-02T22:33:48.149582Z"
    },
    "code_folding": []
   },
   "outputs": [
    {
     "name": "stdout",
     "output_type": "stream",
     "text": [
      "Overlap seed genes: 29\n"
     ]
    },
    {
     "name": "stderr",
     "output_type": "stream",
     "text": [
      "100%|██████████| 1000/1000 [00:13<00:00, 74.58it/s]\n"
     ]
    },
    {
     "name": "stdout",
     "output_type": "stream",
     "text": [
      "Overlap seed genes: 166\n"
     ]
    },
    {
     "name": "stderr",
     "output_type": "stream",
     "text": [
      "100%|██████████| 1000/1000 [00:13<00:00, 74.25it/s]\n"
     ]
    },
    {
     "name": "stdout",
     "output_type": "stream",
     "text": [
      "Overlap seed genes: 25\n"
     ]
    },
    {
     "name": "stderr",
     "output_type": "stream",
     "text": [
      "100%|██████████| 1000/1000 [00:13<00:00, 74.69it/s]\n"
     ]
    },
    {
     "name": "stdout",
     "output_type": "stream",
     "text": [
      "Overlap seed genes: 1057\n"
     ]
    },
    {
     "name": "stderr",
     "output_type": "stream",
     "text": [
      "100%|██████████| 1000/1000 [00:13<00:00, 74.71it/s]\n"
     ]
    },
    {
     "name": "stdout",
     "output_type": "stream",
     "text": [
      "Overlap seed genes: 2\n"
     ]
    },
    {
     "name": "stderr",
     "output_type": "stream",
     "text": [
      "100%|██████████| 1000/1000 [00:13<00:00, 74.75it/s]\n"
     ]
    },
    {
     "name": "stdout",
     "output_type": "stream",
     "text": [
      "Overlap seed genes: 2\n"
     ]
    },
    {
     "name": "stderr",
     "output_type": "stream",
     "text": [
      "100%|██████████| 1000/1000 [00:13<00:00, 74.70it/s]\n"
     ]
    },
    {
     "name": "stdout",
     "output_type": "stream",
     "text": [
      "Overlap seed genes: 1\n"
     ]
    },
    {
     "name": "stderr",
     "output_type": "stream",
     "text": [
      "100%|██████████| 1000/1000 [00:13<00:00, 74.68it/s]\n"
     ]
    }
   ],
   "source": [
    "control_results = []\n",
    "for combo in control_combinations:\n",
    "    observed, permuted = calculate_expected_overlap(z_dict[combo[0]], z_dict[combo[1]], \n",
    "                                                    z_score_threshold=3, z1_threshold=1.0,\n",
    "                                                    z2_threshold=1.0, num_reps=1000, plot=False, \n",
    "                                                    overlap_control=\"bin\",\n",
    "                                                    seed1=seed_dict[combo[0]], seed2=seed_dict[combo[1]])\n",
    "    control_results.append(get_permutation_stats(observed, permuted, \"-\".join(combo)))"
   ]
  },
  {
   "cell_type": "code",
   "execution_count": 31,
   "metadata": {
    "ExecuteTime": {
     "end_time": "2022-07-02T22:35:22.051983Z",
     "start_time": "2022-07-02T22:35:22.049296Z"
    }
   },
   "outputs": [],
   "source": [
    "control_results = pd.concat(control_results)"
   ]
  },
  {
   "cell_type": "markdown",
   "metadata": {},
   "source": [
    "## Load control network\n",
    "\n",
    "To test whether the results are reproducible on a rat network we defined a high confidence rat network from STRING v11.5. From all links available for *R. norvegicus* we extracted all links with a score > 700 (equivalent to score > 0.7)."
   ]
  },
  {
   "cell_type": "code",
   "execution_count": 34,
   "metadata": {
    "ExecuteTime": {
     "end_time": "2022-07-02T22:47:57.055292Z",
     "start_time": "2022-07-02T22:47:53.536054Z"
    }
   },
   "outputs": [
    {
     "name": "stdout",
     "output_type": "stream",
     "text": [
      "Number of nodes:\n",
      "16787\n",
      "\n",
      "Number of edges:\n",
      "277852\n"
     ]
    }
   ],
   "source": [
    "interactome_uuid='880c7d8c-f5ad-11ec-ac45-0ac135e8bacf' # for Rat String High Confidence\n",
    "ndex_server='public.ndexbio.org'\n",
    "ndex_user=None\n",
    "ndex_password=None\n",
    "G_rat_HC = ndex2.create_nice_cx_from_server(\n",
    "            ndex_server, \n",
    "            username=ndex_user, \n",
    "            password=ndex_password, \n",
    "            uuid=interactome_uuid\n",
    "        ).to_networkx()\n",
    "nodes_rat_HC = list(G_rat_HC.nodes)\n",
    "\n",
    "# remove any self edges\n",
    "G_rat_HC.remove_edges_from(nx.selfloop_edges(G_rat_HC))\n",
    "\n",
    "# remove unconnected nodes\n",
    "remove_nodes = [n[0] for n in G_rat_HC.degree() if n[1]==0]\n",
    "G_rat_HC.remove_nodes_from(remove_nodes)\n",
    "\n",
    "# print out interactome num nodes and edges for diagnostic purposes\n",
    "print('Number of nodes:')\n",
    "print(len(G_rat_HC.nodes))\n",
    "print('\\nNumber of edges:')\n",
    "print(len(G_rat_HC.edges))\n"
   ]
  },
  {
   "cell_type": "markdown",
   "metadata": {},
   "source": [
    "## Perform network colocalization of BMI on control network"
   ]
  },
  {
   "cell_type": "code",
   "execution_count": 35,
   "metadata": {
    "ExecuteTime": {
     "end_time": "2022-07-02T22:50:15.599812Z",
     "start_time": "2022-07-02T22:47:57.056666Z"
    }
   },
   "outputs": [],
   "source": [
    "# precalculate heats\n",
    "if rerun_analysis:\n",
    "    w_prime_rat_HC = netprop.get_normalized_adjacency_matrix(G_rat_HC, conserve_heat=True, weighted=False)\n",
    "    indiv_heats_rat_HC = netprop.get_individual_heats_matrix(w_prime_rat_HC, alpha=0.5)"
   ]
  },
  {
   "cell_type": "markdown",
   "metadata": {},
   "source": [
    "### Map seed genes to the rat network"
   ]
  },
  {
   "cell_type": "code",
   "execution_count": 36,
   "metadata": {
    "ExecuteTime": {
     "end_time": "2022-07-02T22:50:16.111893Z",
     "start_time": "2022-07-02T22:50:15.601359Z"
    }
   },
   "outputs": [],
   "source": [
    "# process ortholog mappings from HCOP\n",
    "ortho_map = pd.read_csv(DATADIR + \"Reference/human_rat_hcop_fifteen_column.txt.gz\", sep=\"\\t\", index_col=None)\n",
    "# restrict to entries with symbols for both species\n",
    "ortho_map = ortho_map[(ortho_map[\"human_symbol\"] != \"-\")]\n",
    "ortho_map = ortho_map[(ortho_map[\"rat_symbol\"] != \"-\")]\n",
    "# restrict to entries with chromosome information\n",
    "ortho_map = ortho_map[(ortho_map[\"human_chr\"] != \"-\")]\n",
    "ortho_map = ortho_map[(ortho_map[\"rat_chr\"] != \"-\")]\n",
    "# quantify number of supporting sources\n",
    "ortho_map[\"N_sources\"] = ortho_map.support.apply(lambda x: len(x.split(\",\")))\n",
    "ortho_map = ortho_map.sort_values(by=[\"human_symbol\", \"N_sources\"])"
   ]
  },
  {
   "cell_type": "code",
   "execution_count": 37,
   "metadata": {
    "ExecuteTime": {
     "end_time": "2022-07-02T22:50:16.123224Z",
     "start_time": "2022-07-02T22:50:16.113526Z"
    }
   },
   "outputs": [],
   "source": [
    "# map human BMI to rat\n",
    "ortho_map_bmi = ortho_map[ortho_map.human_symbol.isin(seed_bin_human_BMI)]\n",
    "# take ortholog supported by largest number of databases\n",
    "seed_human_bmi_rat_orthos = ortho_map_bmi.drop_duplicates(subset=\"human_symbol\", \n",
    "                                                          keep=\"last\", ignore_index=True).loc[:, (\"human_symbol\", \"rat_symbol\")] "
   ]
  },
  {
   "cell_type": "code",
   "execution_count": 38,
   "metadata": {
    "ExecuteTime": {
     "end_time": "2022-07-02T22:50:16.161129Z",
     "start_time": "2022-07-02T22:50:16.124416Z"
    }
   },
   "outputs": [],
   "source": [
    "# map rat BMI back to rat\n",
    "ortho_map_bmi = ortho_map[ortho_map.human_symbol.isin(seed_bin_rat_BMI)]\n",
    "# take ortholog supported by largest number of databases\n",
    "seed_rat_bmi_rat_orthos = ortho_map_bmi.drop_duplicates(subset=\"human_symbol\", \n",
    "                                                        keep=\"last\", ignore_index=True).rat_symbol.unique() "
   ]
  },
  {
   "cell_type": "markdown",
   "metadata": {},
   "source": [
    "### Human Z-scores"
   ]
  },
  {
   "cell_type": "code",
   "execution_count": 39,
   "metadata": {
    "ExecuteTime": {
     "end_time": "2022-07-02T23:09:30.191931Z",
     "start_time": "2022-07-02T22:50:16.162086Z"
    }
   },
   "outputs": [
    {
     "data": {
      "application/vnd.jupyter.widget-view+json": {
       "model_id": "9313fafc4cc748129d3d96879b45fabf",
       "version_major": 2,
       "version_minor": 0
      },
      "text/plain": [
       "  0%|          | 0/1000 [00:00<?, ?it/s]"
      ]
     },
     "metadata": {},
     "output_type": "display_data"
    },
    {
     "data": {
      "application/vnd.jupyter.widget-view+json": {
       "model_id": "3e085cbee34a4190abef520038608c3e",
       "version_major": 2,
       "version_minor": 0
      },
      "text/plain": [
       "  0%|          | 0/1000 [00:00<?, ?it/s]"
      ]
     },
     "metadata": {},
     "output_type": "display_data"
    },
    {
     "data": {
      "application/vnd.jupyter.widget-view+json": {
       "model_id": "99fb15ea14a3486fbee2dedc9404b94b",
       "version_major": 2,
       "version_minor": 0
      },
      "text/plain": [
       "  0%|          | 0/1000 [00:00<?, ?it/s]"
      ]
     },
     "metadata": {},
     "output_type": "display_data"
    },
    {
     "data": {
      "application/vnd.jupyter.widget-view+json": {
       "model_id": "395d57b0bb0d47acb949509dfa00ecf1",
       "version_major": 2,
       "version_minor": 0
      },
      "text/plain": [
       "  0%|          | 0/1000 [00:00<?, ?it/s]"
      ]
     },
     "metadata": {},
     "output_type": "display_data"
    },
    {
     "data": {
      "application/vnd.jupyter.widget-view+json": {
       "model_id": "1035b226498b44e89784e17f29227e65",
       "version_major": 2,
       "version_minor": 0
      },
      "text/plain": [
       "  0%|          | 0/1000 [00:00<?, ?it/s]"
      ]
     },
     "metadata": {},
     "output_type": "display_data"
    },
    {
     "data": {
      "application/vnd.jupyter.widget-view+json": {
       "model_id": "5a2a89e7564846a7be3209058bcfae59",
       "version_major": 2,
       "version_minor": 0
      },
      "text/plain": [
       "  0%|          | 0/1000 [00:00<?, ?it/s]"
      ]
     },
     "metadata": {},
     "output_type": "display_data"
    },
    {
     "data": {
      "application/vnd.jupyter.widget-view+json": {
       "model_id": "0149616e37814cdc845c5a14c32de493",
       "version_major": 2,
       "version_minor": 0
      },
      "text/plain": [
       "  0%|          | 0/1000 [00:00<?, ?it/s]"
      ]
     },
     "metadata": {},
     "output_type": "display_data"
    },
    {
     "data": {
      "application/vnd.jupyter.widget-view+json": {
       "model_id": "609a60dfd3eb4d5496b0f0dea53e349a",
       "version_major": 2,
       "version_minor": 0
      },
      "text/plain": [
       "  0%|          | 0/1000 [00:00<?, ?it/s]"
      ]
     },
     "metadata": {},
     "output_type": "display_data"
    },
    {
     "data": {
      "application/vnd.jupyter.widget-view+json": {
       "model_id": "54a5e02ff3964afa91dfe7d8fbd20531",
       "version_major": 2,
       "version_minor": 0
      },
      "text/plain": [
       "  0%|          | 0/1000 [00:00<?, ?it/s]"
      ]
     },
     "metadata": {},
     "output_type": "display_data"
    },
    {
     "data": {
      "application/vnd.jupyter.widget-view+json": {
       "model_id": "2666910adfdf492ca1b24e895dc7020d",
       "version_major": 2,
       "version_minor": 0
      },
      "text/plain": [
       "  0%|          | 0/1000 [00:00<?, ?it/s]"
      ]
     },
     "metadata": {},
     "output_type": "display_data"
    }
   ],
   "source": [
    "if rerun_analysis:\n",
    "    # map pascal results to rat genes\n",
    "    BMI_pascal_results = pd.read_csv(DATADIR+\"inputs/GIANT_BMI_pascal.sum.genescores.txt\", sep=\"\\t\")\n",
    "    mapped_pascal_results = BMI_pascal_results.merge(seed_human_bmi_rat_orthos, left_on=\"gene_symbol\", right_on=\"human_symbol\")\n",
    "    mapped_pascal_results = mapped_pascal_results.drop(columns = \"gene_symbol\")\n",
    "    mapped_pascal_results = mapped_pascal_results.rename(columns = {\"rat_symbol\":\"gene_symbol\"})\n",
    "    # run the sampling network propagation\n",
    "    BMI_samples_rat_HC = calculate_heat_zscores_with_sampling(mapped_pascal_results, nodes_rat_HC, \n",
    "                                                                      indiv_heats_rat_HC, G_rat_HC, trait=\"BMI\",\n",
    "                                                                        out_path=DATADIR+\"outputs/rerun_rat_string_HC_\",\n",
    "                                                                            num_samples=num_samples)\n",
    "    z_human_bin_BMI_rat_HC = get_consensus_z_scores(BMI_samples_rat_HC, 0.75)\n",
    "else: # use precomputed results\n",
    "    z_human_bin_BMI_rat_HC = get_consensus_z_scores(DATADIR+\"outputs/rat_string_HC_BMIsampling_500_100.tsv\", \n",
    "                                                                   0.75)"
   ]
  },
  {
   "cell_type": "markdown",
   "metadata": {},
   "source": [
    "### Rat Z-scores"
   ]
  },
  {
   "cell_type": "code",
   "execution_count": 40,
   "metadata": {
    "ExecuteTime": {
     "end_time": "2022-07-02T23:10:40.915724Z",
     "start_time": "2022-07-02T23:09:30.193528Z"
    }
   },
   "outputs": [
    {
     "data": {
      "application/vnd.jupyter.widget-view+json": {
       "model_id": "10d4e2484d19494593f1c9f8a90e2d0a",
       "version_major": 2,
       "version_minor": 0
      },
      "text/plain": [
       "  0%|          | 0/1000 [00:00<?, ?it/s]"
      ]
     },
     "metadata": {},
     "output_type": "display_data"
    }
   ],
   "source": [
    "if rerun_analysis: # perform network propagation\n",
    "    z_rat_bmi_rat_net = netprop_zscore.calculate_heat_zscores(indiv_heats_rat_HC, list(G_rat_HC.nodes),\n",
    "                                                    dict(G_rat_HC.degree), \n",
    "                                                    seed_rat_bmi_rat_orthos,\n",
    "                                                    num_reps=num_reps,\n",
    "                                                    minimum_bin_size=10,\n",
    "                                                    random_seed=1)\n",
    "    z_rat_bmi_rat_net = pd.DataFrame(z_rat_bmi_rat_net[0], columns=['z'])\n",
    "else: # use precomputed results\n",
    "    z_rat_bmi_rat_net = pd.read_csv(DATADIR + \"outputs/rat_string_rat_zscores.tsv\", header=None, sep=\"\\t\", index_col=0, names=[\"z\"])\n",
    "    z_rat_bmi_rat_net.index.name=None"
   ]
  },
  {
   "cell_type": "markdown",
   "metadata": {},
   "source": [
    "### Permutation analysis"
   ]
  },
  {
   "cell_type": "code",
   "execution_count": 41,
   "metadata": {
    "ExecuteTime": {
     "end_time": "2022-07-02T23:10:53.587837Z",
     "start_time": "2022-07-02T23:10:40.917129Z"
    }
   },
   "outputs": [
    {
     "name": "stdout",
     "output_type": "stream",
     "text": [
      "Overlap seed genes: 26\n"
     ]
    },
    {
     "name": "stderr",
     "output_type": "stream",
     "text": [
      "100%|██████████| 1000/1000 [00:12<00:00, 82.49it/s]\n"
     ]
    },
    {
     "data": {
      "image/png": "[encoded data removed]",
      "text/plain": [
       "<Figure size 360x288 with 1 Axes>"
      ]
     },
     "metadata": {
      "needs_background": "light"
     },
     "output_type": "display_data"
    }
   ],
   "source": [
    "seeds_rat = [n for n in seed_rat_bmi_rat_orthos if n in nodes_rat_HC]\n",
    "seeds_human = [n for n in seed_human_bmi_rat_orthos.rat_symbol.unique() if n in nodes_rat_HC]\n",
    "\n",
    "# Generate a null distibution of conserved network sizes\n",
    "observed_rat_HC, permuted_rat_HC = calculate_expected_overlap(z_rat_bmi_rat_net.fillna(0), \n",
    "                                                        z_human_bin_BMI_rat_HC.fillna(0), num_reps=1000,\n",
    "                                                        overlap_control=\"bin\",\n",
    "                                                       seed1=seeds_rat, seed2=seeds_human)\n",
    "plot_permutation_histogram(permuted_rat_HC, observed_rat_HC,'', 'Size')"
   ]
  },
  {
   "cell_type": "code",
   "execution_count": 42,
   "metadata": {
    "ExecuteTime": {
     "end_time": "2022-07-02T23:10:53.592536Z",
     "start_time": "2022-07-02T23:10:53.588903Z"
    }
   },
   "outputs": [],
   "source": [
    "# Add to the control results\n",
    "control_results = pd.concat([control_results, get_permutation_stats(observed_rat_HC, permuted_rat_HC, \"BMI_RatSTRING\") ])"
   ]
  },
  {
   "cell_type": "code",
   "execution_count": 43,
   "metadata": {
    "ExecuteTime": {
     "end_time": "2022-07-02T23:10:53.617255Z",
     "start_time": "2022-07-02T23:10:53.594919Z"
    }
   },
   "outputs": [
    {
     "data": {
      "text/html": [
       "<div>\n",
       "<style scoped>\n",
       "    .dataframe tbody tr th:only-of-type {\n",
       "        vertical-align: middle;\n",
       "    }\n",
       "\n",
       "    .dataframe tbody tr th {\n",
       "        vertical-align: top;\n",
       "    }\n",
       "\n",
       "    .dataframe thead th {\n",
       "        text-align: right;\n",
       "    }\n",
       "</style>\n",
       "<table border=\"1\" class=\"dataframe\">\n",
       "  <thead>\n",
       "    <tr style=\"text-align: right;\">\n",
       "      <th></th>\n",
       "      <th>Mean</th>\n",
       "      <th>Upper</th>\n",
       "      <th>Lower</th>\n",
       "      <th>p</th>\n",
       "    </tr>\n",
       "  </thead>\n",
       "  <tbody>\n",
       "    <tr>\n",
       "      <th>rBMI-hBMI</th>\n",
       "      <td>1.091934</td>\n",
       "      <td>1.161220</td>\n",
       "      <td>1.028958</td>\n",
       "      <td>7.174000e-03</td>\n",
       "    </tr>\n",
       "    <tr>\n",
       "      <th>hHeight-rBL</th>\n",
       "      <td>1.116466</td>\n",
       "      <td>1.189944</td>\n",
       "      <td>1.044118</td>\n",
       "      <td>1.942000e-03</td>\n",
       "    </tr>\n",
       "    <tr>\n",
       "      <th>rBMI-rBL</th>\n",
       "      <td>1.242050</td>\n",
       "      <td>1.351351</td>\n",
       "      <td>1.149425</td>\n",
       "      <td>3.118000e-07</td>\n",
       "    </tr>\n",
       "    <tr>\n",
       "      <th>hBMI-hHeight</th>\n",
       "      <td>1.247097</td>\n",
       "      <td>1.311148</td>\n",
       "      <td>1.190332</td>\n",
       "      <td>8.770000e-18</td>\n",
       "    </tr>\n",
       "    <tr>\n",
       "      <th>rBMI-hAR</th>\n",
       "      <td>0.858914</td>\n",
       "      <td>0.948837</td>\n",
       "      <td>0.787645</td>\n",
       "      <td>9.949000e-01</td>\n",
       "    </tr>\n",
       "    <tr>\n",
       "      <th>rBMI-hBP1</th>\n",
       "      <td>0.990980</td>\n",
       "      <td>1.080000</td>\n",
       "      <td>0.911043</td>\n",
       "      <td>5.891000e-01</td>\n",
       "    </tr>\n",
       "    <tr>\n",
       "      <th>rBMI-hBP4</th>\n",
       "      <td>0.942645</td>\n",
       "      <td>1.027226</td>\n",
       "      <td>0.866450</td>\n",
       "      <td>8.807000e-01</td>\n",
       "    </tr>\n",
       "    <tr>\n",
       "      <th>BMI_RatSTRING</th>\n",
       "      <td>1.179305</td>\n",
       "      <td>1.275472</td>\n",
       "      <td>1.090323</td>\n",
       "      <td>1.188000e-04</td>\n",
       "    </tr>\n",
       "  </tbody>\n",
       "</table>\n",
       "</div>"
      ],
      "text/plain": [
       "                   Mean     Upper     Lower             p\n",
       "rBMI-hBMI      1.091934  1.161220  1.028958  7.174000e-03\n",
       "hHeight-rBL    1.116466  1.189944  1.044118  1.942000e-03\n",
       "rBMI-rBL       1.242050  1.351351  1.149425  3.118000e-07\n",
       "hBMI-hHeight   1.247097  1.311148  1.190332  8.770000e-18\n",
       "rBMI-hAR       0.858914  0.948837  0.787645  9.949000e-01\n",
       "rBMI-hBP1      0.990980  1.080000  0.911043  5.891000e-01\n",
       "rBMI-hBP4      0.942645  1.027226  0.866450  8.807000e-01\n",
       "BMI_RatSTRING  1.179305  1.275472  1.090323  1.188000e-04"
      ]
     },
     "execution_count": 43,
     "metadata": {},
     "output_type": "execute_result"
    }
   ],
   "source": [
    "control_results"
   ]
  },
  {
   "cell_type": "markdown",
   "metadata": {},
   "source": [
    "## Plot results of control analysis"
   ]
  },
  {
   "cell_type": "code",
   "execution_count": 44,
   "metadata": {
    "ExecuteTime": {
     "end_time": "2022-07-02T23:10:54.898470Z",
     "start_time": "2022-07-02T23:10:53.618077Z"
    }
   },
   "outputs": [
    {
     "name": "stdout",
     "output_type": "stream",
     "text": [
      "Orange: BMI/BMI\n",
      "White: Positive Controls\n",
      "Grey: Negative Controls\n"
     ]
    },
    {
     "data": {
      "image/png": "[encoded data removed]",
      "text/plain": [
       "<Figure size 360x216 with 1 Axes>"
      ]
     },
     "metadata": {
      "needs_background": "light"
     },
     "output_type": "display_data"
    }
   ],
   "source": [
    "plt.figure(figsize=(5, 3))\n",
    "plot_results = control_results.loc[[\"rBMI-hBMI\",  \"BMI_RatSTRING\",\"hHeight-rBL\", \"rBMI-rBL\", \"hBMI-hHeight\", \"rBMI-hAR\",\"rBMI-hBP1\", \"rBMI-hBP4\"]]\n",
    "plt.bar(x = [\"rBMI-hBMI\",  \"BMI_RatSTRING\",\"hHeight-rBL\", \"rBMI-rBL\", \"hBMI-hHeight\", \"rBMI-hAR\",\"rBMI-hBP1\", \"rBMI-hBP4\"],\n",
    "       bottom= 1, height = plot_results.Mean - 1, capsize=4, edgecolor=\"black\",\n",
    "        yerr = [plot_results.Mean - plot_results.Lower, plot_results.Upper - plot_results.Mean],\n",
    "       color = [\"#f5793a\"]*2 + [\"white\"]*3 + [\"grey\"]*3)\n",
    "\n",
    "plt.xticks(fontsize=16, rotation=90, ticks=[\"rBMI-hBMI\",  \"BMI_RatSTRING\",\"hHeight-rBL\", \"rBMI-rBL\", \"hBMI-hHeight\", \"rBMI-hAR\",\"rBMI-hBP1\", \"rBMI-hBP4\"], \n",
    "          labels = [\"Rat/Human BMI\", \"Rat/Human BMI (RS)\",  \"Rat BL/Human Height\",\"Rat BMI/BL\",\"Human BMI/Height\",\n",
    "                   \"Rat BMI/Human AR\", \"Rat BMI/Human BP1\", \"Rat BMI/Human BP4\"])\n",
    "plt.yticks(fontsize=16)\n",
    "plt.hlines(y=1, xmin=-0.6, xmax=7.6, linestyle=\"dashed\", color=\"black\")\n",
    "plt.ylabel(\"Observed/Permuted size \\nof colocalized network\", fontsize=16)\n",
    "plt.xlim(-0.6, 7.6)\n",
    "plt.ylim(0.7, 1.6)\n",
    "plt.savefig(\"/cellar/users/snwright/Data/Transfer/rat/control_plot_July2.png\", bbox_inches=\"tight\", dpi=400)\n",
    "print(\"Orange: BMI/BMI\\nWhite: Positive Controls\\nGrey: Negative Controls\")"
   ]
  }
 ],
 "metadata": {
  "kernelspec": {
   "display_name": "Python [conda env:rat_pub]",
   "language": "python",
   "name": "conda-env-rat_pub-py"
  },
  "language_info": {
   "codemirror_mode": {
    "name": "ipython",
    "version": 3
   },
   "file_extension": ".py",
   "mimetype": "text/x-python",
   "name": "python",
   "nbconvert_exporter": "python",
   "pygments_lexer": "ipython3",
   "version": "3.9.13"
  },
  "toc": {
   "base_numbering": 1,
   "nav_menu": {},
   "number_sections": true,
   "sideBar": true,
   "skip_h1_title": false,
   "title_cell": "Table of Contents",
   "title_sidebar": "Contents",
   "toc_cell": false,
   "toc_position": {},
   "toc_section_display": true,
   "toc_window_display": true
  },
  "varInspector": {
   "cols": {
    "lenName": 16,
    "lenType": 16,
    "lenVar": 40
   },
   "kernels_config": {
    "python": {
     "delete_cmd_postfix": "",
     "delete_cmd_prefix": "del ",
     "library": "var_list.py",
     "varRefreshCmd": "print(var_dic_list())"
    },
    "r": {
     "delete_cmd_postfix": ") ",
     "delete_cmd_prefix": "rm(",
     "library": "var_list.r",
     "varRefreshCmd": "cat(var_dic_list()) "
    }
   },
   "types_to_exclude": [
    "module",
    "function",
    "builtin_function_or_method",
    "instance",
    "_Feature"
   ],
   "window_display": false
  }
 },
 "nbformat": 4,
 "nbformat_minor": 2
}
