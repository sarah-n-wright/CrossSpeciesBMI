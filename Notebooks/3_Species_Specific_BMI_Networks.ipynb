{
 "cells": [
  {
   "cell_type": "markdown",
   "metadata": {},
   "source": [
    "# TODO\n",
    "\n",
    "* test with `rerun_analysis = True`\n",
    "* test with `rerun_analysis = False`\n",
    "* Write intro\n",
    "* Briefly describe each section under section headers\n"
   ]
  },
  {
   "cell_type": "markdown",
   "metadata": {},
   "source": [
    "# Introduction\n",
    "\n",
    "TODO"
   ]
  },
  {
   "cell_type": "markdown",
   "metadata": {},
   "source": [
    "# Set Up"
   ]
  },
  {
   "cell_type": "markdown",
   "metadata": {},
   "source": [
    "## Libraries and paths"
   ]
  },
  {
   "cell_type": "code",
   "execution_count": 227,
   "metadata": {
    "ExecuteTime": {
     "end_time": "2022-07-13T18:39:30.147325Z",
     "start_time": "2022-07-13T18:39:30.144127Z"
    },
    "init_cell": true
   },
   "outputs": [],
   "source": [
    "import os\n",
    "import sys\n",
    "import pandas as pd\n",
    "import matplotlib.pyplot as plt\n",
    "import matplotlib\n",
    "import seaborn as sns\n",
    "import numpy as np\n",
    "from tqdm import tqdm\n",
    "import cdapsutil\n",
    "import ndex2\n",
    "from scipy.stats import hypergeom\n",
    "from gprofiler import GProfiler\n",
    "gp = GProfiler(\"MyToolName/0.1\")"
   ]
  },
  {
   "cell_type": "code",
   "execution_count": 228,
   "metadata": {
    "ExecuteTime": {
     "end_time": "2022-07-13T18:39:30.383720Z",
     "start_time": "2022-07-13T18:39:30.161786Z"
    },
    "init_cell": true
   },
   "outputs": [],
   "source": [
    "# Set up directory paths. Defaults to the Data/ and Figures/ folders within the repository.\n",
    "cwd = os.path.dirname(os.getcwd())\n",
    "DATADIR = os.path.join(cwd, \"Data/\")\n",
    "#FIGDIR = os.path.join(cwd, \"Figures/rerun_\")\n",
    "FIGDIR = os.path.join(cwd, \"Figures/\")"
   ]
  },
  {
   "cell_type": "code",
   "execution_count": null,
   "metadata": {},
   "outputs": [],
   "source": [
    "rerun_analysis = False"
   ]
  },
  {
   "cell_type": "code",
   "execution_count": 93,
   "metadata": {
    "ExecuteTime": {
     "end_time": "2022-07-12T17:45:50.741765Z",
     "start_time": "2022-07-12T17:45:50.668237Z"
    }
   },
   "outputs": [],
   "source": [
    "sys.path.append(cwd)\n",
    "from analysis_functions import *"
   ]
  },
  {
   "cell_type": "markdown",
   "metadata": {},
   "source": [
    "## Input Data"
   ]
  },
  {
   "cell_type": "code",
   "execution_count": 229,
   "metadata": {
    "ExecuteTime": {
     "end_time": "2022-07-13T18:39:30.706849Z",
     "start_time": "2022-07-13T18:39:30.384886Z"
    },
    "init_cell": true,
    "scrolled": true
   },
   "outputs": [
    {
     "data": {
      "text/html": [
       "<div>\n",
       "<style scoped>\n",
       "    .dataframe tbody tr th:only-of-type {\n",
       "        vertical-align: middle;\n",
       "    }\n",
       "\n",
       "    .dataframe tbody tr th {\n",
       "        vertical-align: top;\n",
       "    }\n",
       "\n",
       "    .dataframe thead th {\n",
       "        text-align: right;\n",
       "    }\n",
       "</style>\n",
       "<table border=\"1\" class=\"dataframe\">\n",
       "  <thead>\n",
       "    <tr style=\"text-align: right;\">\n",
       "      <th></th>\n",
       "      <th>NPS_r</th>\n",
       "      <th>NPS_h</th>\n",
       "      <th>NPS_hr</th>\n",
       "    </tr>\n",
       "    <tr>\n",
       "      <th>gene</th>\n",
       "      <th></th>\n",
       "      <th></th>\n",
       "      <th></th>\n",
       "    </tr>\n",
       "  </thead>\n",
       "  <tbody>\n",
       "    <tr>\n",
       "      <th>A1BG</th>\n",
       "      <td>0.125314</td>\n",
       "      <td>-0.488576</td>\n",
       "      <td>-0.061226</td>\n",
       "    </tr>\n",
       "    <tr>\n",
       "      <th>A1CF</th>\n",
       "      <td>2.540447</td>\n",
       "      <td>2.186042</td>\n",
       "      <td>5.553524</td>\n",
       "    </tr>\n",
       "    <tr>\n",
       "      <th>A2M</th>\n",
       "      <td>0.651845</td>\n",
       "      <td>-0.581848</td>\n",
       "      <td>-0.379275</td>\n",
       "    </tr>\n",
       "    <tr>\n",
       "      <th>A2ML1</th>\n",
       "      <td>-1.315517</td>\n",
       "      <td>-1.108608</td>\n",
       "      <td>1.458393</td>\n",
       "    </tr>\n",
       "    <tr>\n",
       "      <th>A3GALT2</th>\n",
       "      <td>-0.546107</td>\n",
       "      <td>-0.243477</td>\n",
       "      <td>0.132964</td>\n",
       "    </tr>\n",
       "  </tbody>\n",
       "</table>\n",
       "</div>"
      ],
      "text/plain": [
       "            NPS_r     NPS_h    NPS_hr\n",
       "gene                                 \n",
       "A1BG     0.125314 -0.488576 -0.061226\n",
       "A1CF     2.540447  2.186042  5.553524\n",
       "A2M      0.651845 -0.581848 -0.379275\n",
       "A2ML1   -1.315517 -1.108608  1.458393\n",
       "A3GALT2 -0.546107 -0.243477  0.132964"
      ]
     },
     "execution_count": 229,
     "metadata": {},
     "output_type": "execute_result"
    }
   ],
   "source": [
    "# load data, contains original subgraphs\n",
    "data = pd.read_csv(DATADIR + \"outputs/rat_human_BMI_all_NPS.tsv\", sep = \"\\t\", index_col=0)\n",
    "data.head()"
   ]
  },
  {
   "cell_type": "code",
   "execution_count": 95,
   "metadata": {
    "ExecuteTime": {
     "end_time": "2022-07-12T17:45:50.828519Z",
     "start_time": "2022-07-12T17:45:50.820039Z"
    }
   },
   "outputs": [
    {
     "name": "stdout",
     "output_type": "stream",
     "text": [
      "Number of human BMI seeds: 1958\n",
      "Number of rat BMI seeds: 295\n"
     ]
    }
   ],
   "source": [
    "# load seed genes\n",
    "seed_bin_human_BMI = pd.read_csv(DATADIR+\"inputs/human_BMI_all_seed_genes.txt\", header=None)[0].tolist()\n",
    "print(\"Number of human BMI seeds:\", len(seed_bin_human_BMI))\n",
    "\n",
    "seed_bin_rat_BMI=pd.read_csv(DATADIR+'inputs/ratBMI_seed_relaxed.txt',sep='\\t')['0'].tolist()\n",
    "print(\"Number of rat BMI seeds:\", len(seed_bin_rat_BMI))"
   ]
  },
  {
   "cell_type": "code",
   "execution_count": 96,
   "metadata": {
    "ExecuteTime": {
     "end_time": "2022-07-12T17:45:51.190211Z",
     "start_time": "2022-07-12T17:45:50.829450Z"
    }
   },
   "outputs": [],
   "source": [
    "# classify each genes based on seed gene status\n",
    "data = data.assign(rat_seed=[1 if gene in seed_bin_rat_BMI else 0 for gene in data.index])\n",
    "data = data.assign(human_seed=[1 if gene in seed_bin_human_BMI else 0 for gene in data.index])"
   ]
  },
  {
   "cell_type": "markdown",
   "metadata": {},
   "source": [
    "# Defining species specific Networks"
   ]
  },
  {
   "cell_type": "markdown",
   "metadata": {},
   "source": [
    "## Distributions of the species NPS\n",
    "\n",
    "To determine appropriate thresholds for each species we examine the distribution of network proximity scores (NPS). "
   ]
  },
  {
   "cell_type": "code",
   "execution_count": 97,
   "metadata": {
    "ExecuteTime": {
     "end_time": "2022-07-12T17:45:51.958249Z",
     "start_time": "2022-07-12T17:45:51.191148Z"
    }
   },
   "outputs": [
    {
     "data": {
      "text/plain": [
       "<matplotlib.legend.Legend at 0x155509eafbe0>"
      ]
     },
     "execution_count": 97,
     "metadata": {},
     "output_type": "execute_result"
    },
    {
     "data": {
      "image/png": "[encoded data removed]",
      "text/plain": [
       "<Figure size 1008x216 with 2 Axes>"
      ]
     },
     "metadata": {
      "needs_background": "light"
     },
     "output_type": "display_data"
    }
   ],
   "source": [
    "matplotlib.rcParams.update({'font.size': 14})\n",
    "fig, [ax1, ax2] = plt.subplots(nrows=1, ncols=2, figsize=(14, 3))\n",
    "_, bins, _ = ax1.hist(data.NPS_r, bins=100, alpha=0.7, density=True, label=\"Rat\", color=\"#a95aa1\")\n",
    "_ = ax1.hist(data.NPS_h, bins=bins, alpha=0.7, density=True, label=\"Human\", color=\"#85c0f9\")\n",
    "ax1.set_ylabel(\"Density\")\n",
    "ax1.set_xlabel(\"NPS\")\n",
    "ax1.legend()\n",
    "\n",
    "_, bins, _ = ax2.hist(data[data.rat_seed==0].NPS_r, bins=50, alpha=0.7, density=True, label=\"Rat\", color=\"#a95aa1\")\n",
    "_ = ax2.hist(data[data.human_seed==0].NPS_h, bins=bins, alpha=0.7, density=True, label=\"Human\", color=\"#85c0f9\")\n",
    "ax2.set_ylabel(\"Density\")\n",
    "ax2.set_xlabel(\"NPS (no seed genes)\")\n",
    "ax2.legend()\n"
   ]
  },
  {
   "cell_type": "code",
   "execution_count": 98,
   "metadata": {
    "ExecuteTime": {
     "end_time": "2022-07-12T17:45:51.968995Z",
     "start_time": "2022-07-12T17:45:51.959083Z"
    }
   },
   "outputs": [
    {
     "data": {
      "text/html": [
       "<div>\n",
       "<style scoped>\n",
       "    .dataframe tbody tr th:only-of-type {\n",
       "        vertical-align: middle;\n",
       "    }\n",
       "\n",
       "    .dataframe tbody tr th {\n",
       "        vertical-align: top;\n",
       "    }\n",
       "\n",
       "    .dataframe thead th {\n",
       "        text-align: right;\n",
       "    }\n",
       "</style>\n",
       "<table border=\"1\" class=\"dataframe\">\n",
       "  <thead>\n",
       "    <tr style=\"text-align: right;\">\n",
       "      <th></th>\n",
       "      <th>NPS_r</th>\n",
       "      <th>NPS_h</th>\n",
       "    </tr>\n",
       "  </thead>\n",
       "  <tbody>\n",
       "    <tr>\n",
       "      <th>count</th>\n",
       "      <td>18820.000000</td>\n",
       "      <td>18820.000000</td>\n",
       "    </tr>\n",
       "    <tr>\n",
       "      <th>mean</th>\n",
       "      <td>0.166117</td>\n",
       "      <td>1.064944</td>\n",
       "    </tr>\n",
       "    <tr>\n",
       "      <th>std</th>\n",
       "      <td>1.819963</td>\n",
       "      <td>3.034380</td>\n",
       "    </tr>\n",
       "    <tr>\n",
       "      <th>min</th>\n",
       "      <td>-2.908312</td>\n",
       "      <td>-3.953688</td>\n",
       "    </tr>\n",
       "    <tr>\n",
       "      <th>25%</th>\n",
       "      <td>-0.699091</td>\n",
       "      <td>-0.227384</td>\n",
       "    </tr>\n",
       "    <tr>\n",
       "      <th>50%</th>\n",
       "      <td>-0.220273</td>\n",
       "      <td>0.450951</td>\n",
       "    </tr>\n",
       "    <tr>\n",
       "      <th>75%</th>\n",
       "      <td>0.566990</td>\n",
       "      <td>1.240185</td>\n",
       "    </tr>\n",
       "    <tr>\n",
       "      <th>max</th>\n",
       "      <td>31.286290</td>\n",
       "      <td>34.273300</td>\n",
       "    </tr>\n",
       "  </tbody>\n",
       "</table>\n",
       "</div>"
      ],
      "text/plain": [
       "              NPS_r         NPS_h\n",
       "count  18820.000000  18820.000000\n",
       "mean       0.166117      1.064944\n",
       "std        1.819963      3.034380\n",
       "min       -2.908312     -3.953688\n",
       "25%       -0.699091     -0.227384\n",
       "50%       -0.220273      0.450951\n",
       "75%        0.566990      1.240185\n",
       "max       31.286290     34.273300"
      ]
     },
     "execution_count": 98,
     "metadata": {},
     "output_type": "execute_result"
    }
   ],
   "source": [
    "data.loc[:, (\"NPS_r\", \"NPS_h\")].describe()"
   ]
  },
  {
   "cell_type": "code",
   "execution_count": 99,
   "metadata": {
    "ExecuteTime": {
     "end_time": "2022-07-12T17:45:51.994791Z",
     "start_time": "2022-07-12T17:45:51.969860Z"
    }
   },
   "outputs": [
    {
     "data": {
      "text/plain": [
       "count    18525.000000\n",
       "mean        -0.013611\n",
       "std          1.030633\n",
       "min         -2.908312\n",
       "50%         -0.237388\n",
       "75%          0.518693\n",
       "80%          0.729556\n",
       "85%          1.005072\n",
       "90%          1.354651\n",
       "95%          1.952714\n",
       "max          6.798332\n",
       "Name: NPS_r, dtype: float64"
      ]
     },
     "execution_count": 99,
     "metadata": {},
     "output_type": "execute_result"
    }
   ],
   "source": [
    "data[data.rat_seed==0].NPS_r.describe(percentiles=[0.5, 0.75, 0.8, 0.85, 0.9, 0.95])"
   ]
  },
  {
   "cell_type": "code",
   "execution_count": 100,
   "metadata": {
    "ExecuteTime": {
     "end_time": "2022-07-12T17:45:52.005235Z",
     "start_time": "2022-07-12T17:45:51.995657Z"
    }
   },
   "outputs": [
    {
     "data": {
      "text/plain": [
       "count    16862.000000\n",
       "mean         0.425921\n",
       "std          1.047217\n",
       "min         -3.953688\n",
       "50%          0.348532\n",
       "75%          1.069361\n",
       "80%          1.240472\n",
       "85%          1.464345\n",
       "90%          1.742707\n",
       "95%          2.219446\n",
       "max          6.620334\n",
       "Name: NPS_h, dtype: float64"
      ]
     },
     "execution_count": 100,
     "metadata": {},
     "output_type": "execute_result"
    }
   ],
   "source": [
    "data[data.human_seed==0].NPS_h.describe(percentiles=[0.5, 0.75, 0.8, 0.85, 0.9, 0.95])"
   ]
  },
  {
   "cell_type": "markdown",
   "metadata": {},
   "source": [
    "## Set thresholds\n",
    "\n",
    "TODO"
   ]
  },
  {
   "cell_type": "code",
   "execution_count": 230,
   "metadata": {
    "ExecuteTime": {
     "end_time": "2022-07-13T18:39:30.711871Z",
     "start_time": "2022-07-13T18:39:30.708348Z"
    },
    "init_cell": true
   },
   "outputs": [],
   "source": [
    "# set thresholds:\n",
    "conserved = {\"rat\":1, \"human\":1, \"combo\":3}\n",
    "rat_only = {\"rat\":1, \"human\":0.5, \"combo\":-2}\n",
    "human_only = {\"rat\":0, \"human\":1.5, \"combo\":-4}"
   ]
  },
  {
   "cell_type": "markdown",
   "metadata": {},
   "source": [
    "Original SubGraph designations come from thresholds:  \n",
    "`conserved = {\"rat\":1, \"human\":1, \"combo\":3}`  \n",
    "`rat_only = {\"rat\":1, \"human\":0.5, \"combo\":-1.5}`  \n",
    "`human_only = {\"rat\":0.5, \"human\":1, \"combo\":-1.5}`\n",
    "\n",
    "**Combo scores are used as follows:**  \n",
    "\n",
    "  \n",
    "Conserved: $z_{rat}\\bullet z_{human} > combo$  \n",
    "  \n",
    "Rat Only: $z_{rat}\\bullet (z_{human} - 1) < combo$  \n",
    "  \n",
    "Human Only: $(z_{rat}-1)\\bullet z_{human} < combo$"
   ]
  },
  {
   "cell_type": "markdown",
   "metadata": {},
   "source": [
    "## Identify subgraphs"
   ]
  },
  {
   "cell_type": "code",
   "execution_count": 102,
   "metadata": {
    "ExecuteTime": {
     "end_time": "2022-07-12T17:45:52.055615Z",
     "start_time": "2022-07-12T17:45:52.045891Z"
    },
    "code_folding": []
   },
   "outputs": [],
   "source": [
    "def assign_sub_graph(data, rat_th=None, human_th=None, combo_th=None, th_dict=None, name=\"conserved\"):\n",
    "    if th_dict is not None:\n",
    "        rat_th = th_dict[\"rat\"]\n",
    "        combo_th = th_dict[\"combo\"]\n",
    "        human_th = th_dict[\"human\"]\n",
    "    if \"subgraph\" not in data.columns:\n",
    "        data = data.assign(subgraph=\"PCNet\")\n",
    "    if name == \"rat\":\n",
    "        data.loc[((data.NPS_r > rat_th) & (data.NPS_h < human_th) & (data.NPS_r * (data.NPS_h - 1) < combo_th)), \n",
    "                 (\"subgraph\")] = \"Rat-Only\"\n",
    "    elif name == \"human\":\n",
    "        data.loc[((data.NPS_r < rat_th) & (data.NPS_h > human_th) & ((data.NPS_r - 1)*(data.NPS_h) < combo_th)), \n",
    "                 (\"subgraph\")] = \"Human-Only\"\n",
    "    else:\n",
    "        data.loc[((data.NPS_r > rat_th) & (data.NPS_h > human_th) & (data.NPS_hr > combo_th)), (\"subgraph\")] = \"Conserved\"\n",
    "    return data"
   ]
  },
  {
   "cell_type": "code",
   "execution_count": 103,
   "metadata": {
    "ExecuteTime": {
     "end_time": "2022-07-12T17:45:52.068962Z",
     "start_time": "2022-07-12T17:45:52.056376Z"
    }
   },
   "outputs": [],
   "source": [
    "# classify each gene based on membership to sub networks\n",
    "data = assign_sub_graph(data, th_dict = conserved, name=\"conserved\")\n",
    "data = assign_sub_graph(data, th_dict = rat_only, name=\"rat\")\n",
    "data = assign_sub_graph(data, th_dict = human_only, name=\"human\")"
   ]
  },
  {
   "cell_type": "code",
   "execution_count": 104,
   "metadata": {
    "ExecuteTime": {
     "end_time": "2022-07-12T17:45:52.078164Z",
     "start_time": "2022-07-12T17:45:52.069720Z"
    }
   },
   "outputs": [
    {
     "data": {
      "text/plain": [
       "subgraph\n",
       "PCNet         16550\n",
       "Human-Only      925\n",
       "Rat-Only        688\n",
       "Conserved       657\n",
       "dtype: int64"
      ]
     },
     "execution_count": 104,
     "metadata": {},
     "output_type": "execute_result"
    }
   ],
   "source": [
    "data.value_counts(\"subgraph\", dropna=False)"
   ]
  },
  {
   "cell_type": "code",
   "execution_count": 105,
   "metadata": {
    "ExecuteTime": {
     "end_time": "2022-07-12T17:45:52.159484Z",
     "start_time": "2022-07-12T17:45:52.078886Z"
    }
   },
   "outputs": [],
   "source": [
    "# export the data\n",
    "data.to_csv(DATADIR + \"outputs/rat_only_human_only_networks.tsv\", sep=\"\\t\")"
   ]
  },
  {
   "cell_type": "markdown",
   "metadata": {},
   "source": [
    "## Visualize the species specific networks"
   ]
  },
  {
   "cell_type": "code",
   "execution_count": 107,
   "metadata": {
    "ExecuteTime": {
     "end_time": "2022-07-12T17:45:52.180352Z",
     "start_time": "2022-07-12T17:45:52.163475Z"
    },
    "code_folding": [],
    "run_control": {
     "marked": true
    }
   },
   "outputs": [],
   "source": [
    "def plot_species_nps(data, subgraph, th_dict=None, ax=None, legend=None):\n",
    "    x_points = [(i+0.0001)/10 for i in range(-50,250)]\n",
    "    if subgraph == \"conserved\":\n",
    "        cmap = {\"Conserved\": \"#F5793A\", **{k:\"grey\" for k in [\"Rat-Only\", \"PCNet\", \"Human-Only\"]}}\n",
    "        combo_line = [th_dict[\"combo\"]/x for x in x_points if x > th_dict[\"combo\"]/25]\n",
    "        ax.plot([x for x in x_points if x > th_dict[\"combo\"]/25], combo_line, color=\"#f5793a\")\n",
    "        ax.text(x=10, y=30, s=\"$NPS_r > \"+str(th_dict[\"rat\"])+\"$\", color=\"#a95aa1\")\n",
    "        ax.text(x=10, y=26, s=\"$NPS_h > \"+str(th_dict[\"human\"])+\"$\", color=\"#85c0f9\")\n",
    "        ax.text(x=10, y=22, s=\"$NPS_{hr} > \"+str(th_dict[\"combo\"])+\"$\", color=\"#f5793a\")\n",
    "    elif subgraph == \"rat\":\n",
    "        cmap = {\"Rat-Only\": \"#a95aa1\", **{k:\"grey\" for k in [\"Conserved\", \"PCNet\", \"Human-Only\"]}}\n",
    "        combo_line = [th_dict[\"combo\"]/(x-1) for x in x_points if x < 1 + th_dict[\"combo\"]/25]\n",
    "        ax.plot([x for x in x_points if x < 1 + th_dict[\"combo\"]/25], combo_line, color=\"#f5793a\")\n",
    "        ax.text(x=10, y=30, s=\"$NPS_r > \"+str(th_dict[\"rat\"])+\"$\", color=\"#a95aa1\")\n",
    "        ax.text(x=10, y=26, s=\"$NPS_h < \"+str(th_dict[\"human\"])+\"$\", color=\"#85c0f9\")\n",
    "        ax.text(x=10, y=22, s=\"$NPS_r(NPS_h-1) < \"+str(th_dict[\"combo\"])+\"$\", color=\"#f5793a\")\n",
    "    elif subgraph == \"human\":\n",
    "        cmap = {\"Human-Only\": \"#85c0f9\", **{k:\"grey\" for k in [\"Rat-Only\", \"PCNet\", \"Conserved\"]}}\n",
    "        combo_line = [1 + th_dict[\"combo\"]/x for x in x_points if x > th_dict[\"combo\"]/-6]\n",
    "        ax.plot([x for x in x_points if x > th_dict[\"combo\"]/-6], combo_line, color=\"#f5793a\")\n",
    "        ax.text(x=10, y=30, s=\"$NPS_r < \"+str(th_dict[\"rat\"])+\"$\", color=\"#a95aa1\")\n",
    "        ax.text(x=10, y=26, s=\"$NPS_h > \"+str(th_dict[\"human\"])+\"$\", color=\"#85c0f9\")\n",
    "        ax.text(x=10, y=22, s=\"$NPS_h(NPS_r-1) < \"+str(th_dict[\"combo\"])+\"$\", color=\"#f5793a\")\n",
    "    else:\n",
    "        cmap = {\"Conserved\": \"#F5793A\",\"Rat-Only\": \"#a95aa1\", \"Human-Only\": \"#85c0f9\", \"PCNet\":\"grey\" }\n",
    "    \n",
    "    sns.scatterplot(data=data, x=\"NPS_h\", y=\"NPS_r\", hue=\"subgraph\", palette=cmap, s=5, ax=ax, markers=True, alpha=0.8,\n",
    "                legend=legend)\n",
    "    if th_dict is not None:\n",
    "        ax.hlines(y=th_dict[\"rat\"], xmin=-5, xmax=25, color=\"#a95aa1\", alpha=1, zorder=4)\n",
    "        ax.vlines(x=th_dict[\"human\"], ymin=-5, ymax=25, color=\"#85c0f9\", alpha=1, zorder=3)\n",
    "    ax.set_ylabel(\"NPS$_r$\")\n",
    "    ax.set_xlabel(\"NPS$_h$\")\n",
    "    ax.spines['left'].set(position=('data', 0.0), zorder=2)\n",
    "    ax.spines['bottom'].set(position=('data', 0.0), zorder=2)\n",
    "    ax.spines['top'].set_position(('data', 0.0))\n",
    "    ax.spines['right'].set_position(('data', 0.0))"
   ]
  },
  {
   "cell_type": "code",
   "execution_count": 108,
   "metadata": {
    "ExecuteTime": {
     "end_time": "2022-07-12T17:45:56.896988Z",
     "start_time": "2022-07-12T17:45:52.181025Z"
    }
   },
   "outputs": [
    {
     "data": {
      "image/png": "[encoded data removed]",
      "text/plain": [
       "<Figure size 1296x432 with 3 Axes>"
      ]
     },
     "metadata": {
      "needs_background": "light"
     },
     "output_type": "display_data"
    }
   ],
   "source": [
    "fig, [ax1, ax2, ax3] = plt.subplots(nrows=1, ncols=3, figsize=(18, 6))\n",
    "plot_species_nps(data, \"conserved\", conserved, ax1)\n",
    "plot_species_nps(data, \"rat\", rat_only, ax2)\n",
    "plot_species_nps(data, \"human\", human_only, ax3)\n",
    "ax1.set_title(\"A\", loc=\"left\")\n",
    "ax2.set_title(\"B\", loc=\"left\")\n",
    "ax3.set_title(\"C\", loc=\"left\")\n",
    "plt.savefig(FIGDIR + \"definition_of_networks.png\", dpi=400, bbox_inches=\"tight\")"
   ]
  },
  {
   "cell_type": "code",
   "execution_count": 109,
   "metadata": {
    "ExecuteTime": {
     "end_time": "2022-07-12T17:45:58.762244Z",
     "start_time": "2022-07-12T17:45:56.897856Z"
    }
   },
   "outputs": [
    {
     "data": {
      "image/png": "[encoded data removed]",
      "text/plain": [
       "<Figure size 864x288 with 2 Axes>"
      ]
     },
     "metadata": {
      "needs_background": "light"
     },
     "output_type": "display_data"
    }
   ],
   "source": [
    "fig, [ax1, ax2] = plt.subplots(nrows=1, ncols=2, figsize=(12,4))\n",
    "plot_species_nps(data, \"all\", ax=ax1, legend=\"brief\")\n",
    "plot_species_nps(data[data.rat_seed+data.human_seed==0], \"all\", ax=ax2, legend=\"brief\")\n",
    "_ = ax2.set_title(\"No seed genes\")\n",
    "_ = ax1.set_title(\"All genes\")"
   ]
  },
  {
   "cell_type": "markdown",
   "metadata": {},
   "source": [
    "## Assess seed gene fractions"
   ]
  },
  {
   "cell_type": "code",
   "execution_count": 110,
   "metadata": {
    "ExecuteTime": {
     "end_time": "2022-07-12T17:45:58.770596Z",
     "start_time": "2022-07-12T17:45:58.763453Z"
    }
   },
   "outputs": [
    {
     "data": {
      "text/html": [
       "<div>\n",
       "<style scoped>\n",
       "    .dataframe tbody tr th:only-of-type {\n",
       "        vertical-align: middle;\n",
       "    }\n",
       "\n",
       "    .dataframe tbody tr th {\n",
       "        vertical-align: top;\n",
       "    }\n",
       "\n",
       "    .dataframe thead th {\n",
       "        text-align: right;\n",
       "    }\n",
       "</style>\n",
       "<table border=\"1\" class=\"dataframe\">\n",
       "  <thead>\n",
       "    <tr style=\"text-align: right;\">\n",
       "      <th></th>\n",
       "      <th>NPS_r</th>\n",
       "      <th>NPS_h</th>\n",
       "      <th>NPS_hr</th>\n",
       "      <th>rat_seed</th>\n",
       "      <th>human_seed</th>\n",
       "      <th>subgraph</th>\n",
       "      <th>overlapping_seeds</th>\n",
       "    </tr>\n",
       "    <tr>\n",
       "      <th>gene</th>\n",
       "      <th></th>\n",
       "      <th></th>\n",
       "      <th></th>\n",
       "      <th></th>\n",
       "      <th></th>\n",
       "      <th></th>\n",
       "      <th></th>\n",
       "    </tr>\n",
       "  </thead>\n",
       "  <tbody>\n",
       "    <tr>\n",
       "      <th>A1BG</th>\n",
       "      <td>0.125314</td>\n",
       "      <td>-0.488576</td>\n",
       "      <td>-0.061226</td>\n",
       "      <td>0</td>\n",
       "      <td>0</td>\n",
       "      <td>PCNet</td>\n",
       "      <td>0</td>\n",
       "    </tr>\n",
       "    <tr>\n",
       "      <th>A1CF</th>\n",
       "      <td>2.540447</td>\n",
       "      <td>2.186042</td>\n",
       "      <td>5.553524</td>\n",
       "      <td>0</td>\n",
       "      <td>0</td>\n",
       "      <td>Conserved</td>\n",
       "      <td>0</td>\n",
       "    </tr>\n",
       "    <tr>\n",
       "      <th>A2M</th>\n",
       "      <td>0.651845</td>\n",
       "      <td>-0.581848</td>\n",
       "      <td>-0.379275</td>\n",
       "      <td>0</td>\n",
       "      <td>0</td>\n",
       "      <td>PCNet</td>\n",
       "      <td>0</td>\n",
       "    </tr>\n",
       "    <tr>\n",
       "      <th>A2ML1</th>\n",
       "      <td>-1.315517</td>\n",
       "      <td>-1.108608</td>\n",
       "      <td>1.458393</td>\n",
       "      <td>0</td>\n",
       "      <td>0</td>\n",
       "      <td>PCNet</td>\n",
       "      <td>0</td>\n",
       "    </tr>\n",
       "    <tr>\n",
       "      <th>A3GALT2</th>\n",
       "      <td>-0.546107</td>\n",
       "      <td>-0.243477</td>\n",
       "      <td>0.132964</td>\n",
       "      <td>0</td>\n",
       "      <td>1</td>\n",
       "      <td>PCNet</td>\n",
       "      <td>0</td>\n",
       "    </tr>\n",
       "  </tbody>\n",
       "</table>\n",
       "</div>"
      ],
      "text/plain": [
       "            NPS_r     NPS_h    NPS_hr  rat_seed  human_seed   subgraph  \\\n",
       "gene                                                                     \n",
       "A1BG     0.125314 -0.488576 -0.061226         0           0      PCNet   \n",
       "A1CF     2.540447  2.186042  5.553524         0           0  Conserved   \n",
       "A2M      0.651845 -0.581848 -0.379275         0           0      PCNet   \n",
       "A2ML1   -1.315517 -1.108608  1.458393         0           0      PCNet   \n",
       "A3GALT2 -0.546107 -0.243477  0.132964         0           1      PCNet   \n",
       "\n",
       "         overlapping_seeds  \n",
       "gene                        \n",
       "A1BG                     0  \n",
       "A1CF                     0  \n",
       "A2M                      0  \n",
       "A2ML1                    0  \n",
       "A3GALT2                  0  "
      ]
     },
     "execution_count": 110,
     "metadata": {},
     "output_type": "execute_result"
    }
   ],
   "source": [
    "data = data.assign(overlapping_seeds=1*(data.rat_seed + data.human_seed==2))\n",
    "data.head()"
   ]
  },
  {
   "cell_type": "code",
   "execution_count": 111,
   "metadata": {
    "ExecuteTime": {
     "end_time": "2022-07-12T17:45:58.783441Z",
     "start_time": "2022-07-12T17:45:58.771502Z"
    }
   },
   "outputs": [],
   "source": [
    "subgraph_stats = data.groupby(\"subgraph\").sum().loc[:, (\"rat_seed\", \"human_seed\", \"overlapping_seeds\")]"
   ]
  },
  {
   "cell_type": "code",
   "execution_count": 112,
   "metadata": {
    "ExecuteTime": {
     "end_time": "2022-07-12T17:45:58.794556Z",
     "start_time": "2022-07-12T17:45:58.784215Z"
    }
   },
   "outputs": [],
   "source": [
    "subgraph_stats = subgraph_stats.join(data.groupby(\"subgraph\").count().loc[:, \"NPS_r\"])\n",
    "subgraph_stats = subgraph_stats.rename(columns={\"NPS_r\":\"count\"})\n",
    "subgraph_stats[\"Network\"] = subgraph_stats[\"count\"].values - subgraph_stats.loc[:,(\"rat_seed\", \"human_seed\", \"overlapping_seeds\")].sum(axis=1).values\n",
    "subgraph_stats.drop(columns=[\"count\"], inplace=True)\n",
    "subgraph_stats = subgraph_stats.loc[:,( \"human_seed\", \"overlapping_seeds\",\"rat_seed\", \"Network\") ]"
   ]
  },
  {
   "cell_type": "code",
   "execution_count": 113,
   "metadata": {
    "ExecuteTime": {
     "end_time": "2022-07-12T17:45:59.199305Z",
     "start_time": "2022-07-12T17:45:58.795297Z"
    }
   },
   "outputs": [
    {
     "data": {
      "text/plain": [
       "(0.0, 1300.0)"
      ]
     },
     "execution_count": 113,
     "metadata": {},
     "output_type": "execute_result"
    },
    {
     "data": {
      "image/png": "[encoded data removed]",
      "text/plain": [
       "<Figure size 432x288 with 1 Axes>"
      ]
     },
     "metadata": {
      "needs_background": "light"
     },
     "output_type": "display_data"
    }
   ],
   "source": [
    "subgraph_stats.loc[[\"Conserved\", \"Rat-Only\", \"Human-Only\"]].plot(kind=\"bar\", stacked=True, color=[\"#85c0f9\", \"#0051a2\",\n",
    "                                                                                                 \"#a95aa1\", \"#F5793a\"])\n",
    "plt.ylim((0, 1300))"
   ]
  },
  {
   "cell_type": "markdown",
   "metadata": {},
   "source": [
    "# Tissue enrichments of conserved & species specific networks\n",
    "\n",
    "TODO\n",
    "Link to where tissue enrichment done\n",
    "\n",
    "Mouse: https://tissueenrich.gdcb.iastate.edu/"
   ]
  },
  {
   "cell_type": "code",
   "execution_count": null,
   "metadata": {},
   "outputs": [],
   "source": [
    "def to_mouse_genes(gene_list, mgi_df):\n",
    "    orthos = mgi_df.loc[mgi_df.human_ortholog.isin(gene_list), (\"gene_name\")].unique()\n",
    "    return orthos"
   ]
  },
  {
   "cell_type": "markdown",
   "metadata": {},
   "source": [
    "## Get gene lists for each subnetwork"
   ]
  },
  {
   "cell_type": "code",
   "execution_count": 114,
   "metadata": {
    "ExecuteTime": {
     "end_time": "2022-07-12T17:48:22.871895Z",
     "start_time": "2022-07-12T17:48:22.854093Z"
    }
   },
   "outputs": [],
   "source": [
    "# create lists of genes within the three subgraphs\n",
    "with open(DATADIR + \"outputs/conserved_subgraph_genes.txt\", 'w') as fp:\n",
    "    fp.write('\\n'.join(data.loc[data.subgraph==\"Conserved\"].index.values))\n",
    "with open(DATADIR + \"outputs/rat_subgraph_genes.txt\", 'w') as fp:\n",
    "    fp.write('\\n'.join(data.loc[data.subgraph==\"Rat-Only\"].index.values))\n",
    "with open(DATADIR + \"outputs/human_subgraph_genes.txt\", 'w') as fp:\n",
    "    fp.write('\\n'.join(data.loc[data.subgraph==\"Human-Only\"].index.values))"
   ]
  },
  {
   "cell_type": "code",
   "execution_count": 115,
   "metadata": {
    "ExecuteTime": {
     "end_time": "2022-07-12T17:48:32.637936Z",
     "start_time": "2022-07-12T17:48:27.639146Z"
    }
   },
   "outputs": [],
   "source": [
    "mgi_df = load_MGI_mouseKO_data(url='http://www.informatics.jax.org/downloads/reports/MGI_PhenoGenoMP.rpt',\n",
    "                                         map_using=\"mgi\", update=False, data_loc=DATADIR+\"Reference/\")"
   ]
  },
  {
   "cell_type": "code",
   "execution_count": 116,
   "metadata": {
    "ExecuteTime": {
     "end_time": "2022-07-12T17:48:32.823379Z",
     "start_time": "2022-07-12T17:48:32.751037Z"
    }
   },
   "outputs": [],
   "source": [
    "# create subgraph lists with mouse orthologs\n",
    "with open(DATADIR + \"outputs/conserved_subgraph_genes_mouse.txt\", 'w') as fp:\n",
    "    fp.write('\\n'.join(to_mouse_genes(data.loc[data.subgraph==\"Conserved\"].index.values, mgi_df)))\n",
    "with open(DATADIR + \"outputs/rat_subgraph_genes_mouse.txt\", 'w') as fp:\n",
    "    fp.write('\\n'.join(to_mouse_genes(data.loc[data.subgraph==\"Rat-Only\"].index.values, mgi_df)))\n",
    "with open(DATADIR + \"outputs/human_subgraph_genes_mouse.txt\", 'w') as fp:\n",
    "    fp.write('\\n'.join(to_mouse_genes(data.loc[data.subgraph==\"Human-Only\"].index.values, mgi_df)))"
   ]
  },
  {
   "cell_type": "markdown",
   "metadata": {},
   "source": [
    "## Import tissue enrichment results"
   ]
  },
  {
   "cell_type": "code",
   "execution_count": 123,
   "metadata": {
    "ExecuteTime": {
     "end_time": "2022-07-12T17:52:27.184313Z",
     "start_time": "2022-07-12T17:52:27.168278Z"
    }
   },
   "outputs": [],
   "source": [
    "# read in the results of tissue enrichments in human tissue\n",
    "human_te_files = {\"C\":DATADIR+\"outputs/C_TSEA.txt\", \"R\":DATADIR+\"outputs/R_TSEA.txt\", \"H\":DATADIR+\"outputs/H_TSEA.txt\"}\n",
    "human_te = {}\n",
    "for subgraph in human_te_files:\n",
    "    tsea = pd.read_csv(human_te_files[subgraph], index_col=0, sep=\"\\t\")\n",
    "    tsea[subgraph+\"_FDR\"] = tsea[\"0.05\"].apply(lambda x: -1 * np.log10(float(x.split(\" \")[2])))\n",
    "    human_te[subgraph] = tsea.loc[:, (subgraph+\"_FDR\")]\n",
    "human_te = pd.DataFrame.from_dict(human_te)"
   ]
  },
  {
   "cell_type": "code",
   "execution_count": 136,
   "metadata": {
    "ExecuteTime": {
     "end_time": "2022-07-12T18:13:42.696175Z",
     "start_time": "2022-07-12T18:13:42.691478Z"
    }
   },
   "outputs": [
    {
     "data": {
      "text/plain": [
       "array([2.00119881e-05, 9.73241233e-05, 1.87774864e-04, 5.84066597e-04,\n",
       "       2.85877456e-01, 9.99214794e-01, 9.99214794e-01, 9.99214794e-01,\n",
       "       9.99214794e-01, 9.99214794e-01, 9.99214794e-01, 9.99214794e-01,\n",
       "       9.99214794e-01, 9.99214794e-01, 9.99214794e-01, 9.99214794e-01,\n",
       "       9.99214794e-01])"
      ]
     },
     "execution_count": 136,
     "metadata": {},
     "output_type": "execute_result"
    }
   ],
   "source": [
    "fdrcorrection(10**(-1* tsea[\"-Log10PValue\"]))[1]"
   ]
  },
  {
   "cell_type": "code",
   "execution_count": 140,
   "metadata": {
    "ExecuteTime": {
     "end_time": "2022-07-12T18:15:03.398937Z",
     "start_time": "2022-07-12T18:15:03.380085Z"
    }
   },
   "outputs": [],
   "source": [
    "# read in the results of tissue enrichments in mouse tissue\n",
    "mouse_te_files = {\"C\":DATADIR+\"outputs/C_TSEA_mouse_ENCODE.tsv\", \n",
    "                  \"R\":DATADIR+\"outputs/R_TSEA_mouse_ENCODE.tsv\", \n",
    "                  \"H\":DATADIR+\"outputs/H_TSEA_mouse_ENCODE.tsv\"}\n",
    "mouse_te = {}\n",
    "for subgraph in mouse_te_files:\n",
    "    tsea = pd.read_csv(mouse_te_files[subgraph], index_col=0, sep=\"\\t\")\n",
    "    tsea[subgraph+\"_FDR\"] = -1* np.log10(fdrcorrection(10**(-1* tsea[\"-Log10PValue\"]))[1])\n",
    "    mouse_te[subgraph] = tsea.loc[:, (subgraph+\"_FDR\")]\n",
    "mouse_te = pd.DataFrame.from_dict(mouse_te)"
   ]
  },
  {
   "cell_type": "markdown",
   "metadata": {},
   "source": [
    "## Visualize tissue enrichment results"
   ]
  },
  {
   "cell_type": "code",
   "execution_count": 147,
   "metadata": {
    "ExecuteTime": {
     "end_time": "2022-07-12T18:21:26.011529Z",
     "start_time": "2022-07-12T18:21:23.589139Z"
    }
   },
   "outputs": [
    {
     "data": {
      "image/png": "[encoded data removed]",
      "text/plain": [
       "<Figure size 720x144 with 1 Axes>"
      ]
     },
     "metadata": {
      "needs_background": "light"
     },
     "output_type": "display_data"
    }
   ],
   "source": [
    "human_te.columns = [\"Conserved\", \"Rat-Specific\", \"Human-Specific\"]\n",
    "human_te = human_te.sort_values(by=[\"Conserved\", \"Rat-Specific\"], ascending=False)\n",
    "fig, ax = plt.subplots(figsize=(10,2))\n",
    "human_te.plot.bar(ax=ax, width=0.8, color=[\"#f5793a\", \"#a95aa1\", \"#85c0f9\"], fontsize=14)\n",
    "ax.set_ylabel(\"-log10(q)\", fontsize=14)\n",
    "ax.set_xlabel(None)\n",
    "plt.hlines(-1 *np.log10(0.05),-0.5, 24.5, color=\"black\", linestyle=\"dashed\", linewidth=0.5)\n",
    "plt.legend(fontsize=12)\n",
    "plt.savefig(FIGDIR+\"tissue_enrichment_human_GTEx.png\", bbox_inches=\"tight\", dpi=400)"
   ]
  },
  {
   "cell_type": "code",
   "execution_count": 146,
   "metadata": {
    "ExecuteTime": {
     "end_time": "2022-07-12T18:21:06.895615Z",
     "start_time": "2022-07-12T18:21:04.483575Z"
    }
   },
   "outputs": [
    {
     "data": {
      "image/png": "[encoded data removed]",
      "text/plain": [
       "<Figure size 720x144 with 1 Axes>"
      ]
     },
     "metadata": {
      "needs_background": "light"
     },
     "output_type": "display_data"
    }
   ],
   "source": [
    "mouse_te.columns = [\"Conserved\", \"Rat-Specific\", \"Human-Specific\"]\n",
    "mouse_te = mouse_te.sort_values(by=[\"Conserved\", \"Rat-Specific\", \"Human-Specific\"], ascending=False)\n",
    "fig, ax = plt.subplots(figsize=(10,2))\n",
    "mouse_te.plot.bar(ax=ax, width=0.8, color=[\"#f5793a\", \"#a95aa1\", \"#85c0f9\"], fontsize=14)\n",
    "ax.set_ylabel(\"-log10(q)\", fontsize=14)\n",
    "ax.set_xlabel(None)\n",
    "plt.hlines(-1 *np.log10(0.05),-0.5, 24.5, color=\"black\", linestyle=\"dashed\", linewidth=0.5)\n",
    "plt.legend(fontsize=12)\n",
    "plt.title(\"Enrichment of Tissue-Specific Genes from mouse ENCODE\")\n",
    "plt.savefig(FIGDIR+\"tissue_enrichment_mouse_ENCODE.png\", bbox_inches=\"tight\", dpi=400)\n",
    "#plt.savefig(\"/cellar/users/snwright/Data/Transfer/rat/triple_tissue_enrich.png\", bbox_inches=\"tight\", dpi=400)"
   ]
  },
  {
   "cell_type": "markdown",
   "metadata": {},
   "source": [
    "# Hierarchical Community Detection of Species Specific Networks"
   ]
  },
  {
   "cell_type": "markdown",
   "metadata": {},
   "source": [
    "## Define the combined network\n",
    "\n",
    "To create a unified network for analyzing conserved, rat-specific and human-specific genes we take all genes with $NPS_r > 1$ **or** $NPS_h$ > 1.5 as per the thresholds defined above. "
   ]
  },
  {
   "cell_type": "code",
   "execution_count": 148,
   "metadata": {
    "ExecuteTime": {
     "end_time": "2022-07-12T19:27:09.980403Z",
     "start_time": "2022-07-12T19:26:51.987403Z"
    }
   },
   "outputs": [
    {
     "name": "stdout",
     "output_type": "stream",
     "text": [
      "number of nodes:\n",
      "18820\n",
      "\n",
      "number of edges:\n",
      "2693109\n"
     ]
    }
   ],
   "source": [
    "pc_nodes, G = load_pcnet()"
   ]
  },
  {
   "cell_type": "code",
   "execution_count": null,
   "metadata": {
    "ExecuteTime": {
     "end_time": "2022-07-12T19:32:07.496879Z",
     "start_time": "2022-07-12T19:32:04.985086Z"
    }
   },
   "outputs": [],
   "source": [
    "# extract just the nodes meeting our criteria\n",
    "G_all = G.subgraph(nodes=data.loc[(data.NPS_r > rat_only[\"rat\"]) | (data.NPS_h > human_only[\"human\"])].index)"
   ]
  },
  {
   "cell_type": "code",
   "execution_count": 158,
   "metadata": {
    "ExecuteTime": {
     "end_time": "2022-07-12T19:32:07.496879Z",
     "start_time": "2022-07-12T19:32:04.985086Z"
    }
   },
   "outputs": [],
   "source": [
    "G_all_cx = ndex2.create_nice_cx_from_networkx(G_all)\n",
    "G_all_cx.set_name(\"Combined Rat-Human-Conserved BMI Network\")"
   ]
  },
  {
   "cell_type": "code",
   "execution_count": null,
   "metadata": {},
   "outputs": [],
   "source": [
    "# Save the network to NDEx\n",
    "username = getpass(\"Username:\")\n",
    "passwd = getpass(\"Password:\")\n",
    "client = ndex2.client.Ndex2(username=username, password=passwd)\n",
    "client.save_new_network(G_all_cx.to_cx(), visibility='PRIVATE')"
   ]
  },
  {
   "cell_type": "code",
   "execution_count": 277,
   "metadata": {
    "ExecuteTime": {
     "end_time": "2022-07-13T22:56:09.005622Z",
     "start_time": "2022-07-13T22:56:09.001305Z"
    }
   },
   "outputs": [
    {
     "name": "stdout",
     "output_type": "stream",
     "text": [
      "Number of genes in combined network: 6025\n"
     ]
    }
   ],
   "source": [
    "print(\"Number of genes in combined network:\", len(G_all.nodes))"
   ]
  },
  {
   "cell_type": "markdown",
   "metadata": {},
   "source": [
    "## Perform hierarchical community detection"
   ]
  },
  {
   "cell_type": "code",
   "execution_count": null,
   "metadata": {},
   "outputs": [],
   "source": [
    "if rerun_analysis:\n",
    "    cd = cdapsutil.CommunityDetection()\n",
    "    G_all_hier = cd.run_community_detection(G_all_cx, algorithm='hidefv1.1beta',arguments={'--maxres':str(10)})\n",
    "    print('Hierarchy name: ' + str(G_all_hier.get_name()))\n",
    "    print('# nodes: ' + str(len(G_all_hier.get_nodes())))\n",
    "    print('# edges: ' + str(len(G_all_hier.get_edges())))\n",
    "    all_hier_nx = G_all_hier.to_networkx(mode='default')\n",
    "    nodes = all_hier_nx.nodes()\n",
    "# print out interactome num nodes and edges for diagnostic purposes\n",
    "    print('number of nodes:')\n",
    "    print(len(all_hier_nx.nodes()))\n",
    "    print('\\nnumber of edges:')\n",
    "    print(len(all_hier_nx.edges()))\n",
    "# add node attributes to dataframe for easier access\n",
    "    all_hier_df = pd.DataFrame.from_dict(dict(all_hier_nx.nodes(data=True)), orient='index')\n",
    "    all_hier_df['system_ID']=all_hier_df.index.tolist()\n",
    "# fix column types\n",
    "    all_hier_df['CD_MemberList_Size']=[int(x) for x in all_hier_df['CD_MemberList_Size'].tolist()]\n",
    "    all_hier_df['HiDeF_persistence']=[int(x) for x in all_hier_df['HiDeF_persistence'].tolist()]\n",
    "    all_hier_df.set_index(\"name\", inplace=True, drop=True)\n",
    "    all_hier_df.index.name=None\n",
    "else:\n",
    "    # load the hierarchy data\n",
    "    all_hier_df = pd.DataFrame(DATADIR + \"outputs/species_combined_hierarchy_data.tsv\", sep=\"\\t\")"
   ]
  },
  {
   "cell_type": "markdown",
   "metadata": {},
   "source": [
    "## Annotate the hiearchy with GO terms"
   ]
  },
  {
   "cell_type": "code",
   "execution_count": 175,
   "metadata": {
    "ExecuteTime": {
     "end_time": "2022-07-12T19:43:28.443352Z",
     "start_time": "2022-07-12T19:43:28.438220Z"
    }
   },
   "outputs": [],
   "source": [
    "\n",
    "def filter_go_annotations(go_df, term_min=50, term_max=1000, p_th=1e-4, min_intersection=3):\n",
    "    go_df = go_df[(go_df['term_size'] <= term_max) & (go_df['term_size'] >= term_min)]\n",
    "    go_df = go_df[go_df['intersection_size'] >= min_intersection]\n",
    "    go_df = go_df[go_df['p_value'] < p_th] # set a stringent pvalue threshold\n",
    "    go_df['sum_PR'] = go_df['recall'] + go_df['precision']\n",
    "    go_df = go_df.sort_values('sum_PR',ascending=False)\n",
    "    return go_df"
   ]
  },
  {
   "cell_type": "code",
   "execution_count": 176,
   "metadata": {
    "ExecuteTime": {
     "end_time": "2022-07-12T19:46:03.854264Z",
     "start_time": "2022-07-12T19:43:30.673038Z"
    }
   },
   "outputs": [
    {
     "name": "stderr",
     "output_type": "stream",
     "text": [
      "\r",
      "  0%|          | 0/81 [00:00<?, ?it/s]"
     ]
    },
    {
     "name": "stdout",
     "output_type": "stream",
     "text": [
      "C6025 : 6022\n"
     ]
    },
    {
     "name": "stderr",
     "output_type": "stream",
     "text": [
      "\r",
      "  1%|          | 1/81 [00:24<32:11, 24.14s/it]"
     ]
    },
    {
     "name": "stdout",
     "output_type": "stream",
     "text": [
      "C6026 : 2493\n"
     ]
    },
    {
     "name": "stderr",
     "output_type": "stream",
     "text": [
      "\r",
      "  2%|▏         | 2/81 [00:41<26:33, 20.17s/it]"
     ]
    },
    {
     "name": "stdout",
     "output_type": "stream",
     "text": [
      "C6028 : 1188\n"
     ]
    },
    {
     "name": "stderr",
     "output_type": "stream",
     "text": [
      "\r",
      "  4%|▎         | 3/81 [00:44<15:50, 12.18s/it]"
     ]
    },
    {
     "name": "stdout",
     "output_type": "stream",
     "text": [
      "C6029 : 1144\n"
     ]
    },
    {
     "name": "stderr",
     "output_type": "stream",
     "text": [
      "\r",
      "  5%|▍         | 4/81 [00:50<12:24,  9.67s/it]"
     ]
    },
    {
     "name": "stdout",
     "output_type": "stream",
     "text": [
      "C6041 : 87\n"
     ]
    },
    {
     "name": "stderr",
     "output_type": "stream",
     "text": [
      "\r",
      "  6%|▌         | 5/81 [00:51<08:35,  6.78s/it]"
     ]
    },
    {
     "name": "stdout",
     "output_type": "stream",
     "text": [
      "C6045 : 69\n"
     ]
    },
    {
     "name": "stderr",
     "output_type": "stream",
     "text": [
      "\r",
      "  7%|▋         | 6/81 [00:53<06:10,  4.94s/it]"
     ]
    },
    {
     "name": "stdout",
     "output_type": "stream",
     "text": [
      "C6047 : 56\n"
     ]
    },
    {
     "name": "stderr",
     "output_type": "stream",
     "text": [
      "\r",
      "  9%|▊         | 7/81 [00:54<04:34,  3.71s/it]"
     ]
    },
    {
     "name": "stdout",
     "output_type": "stream",
     "text": [
      "C6050 : 52\n"
     ]
    },
    {
     "name": "stderr",
     "output_type": "stream",
     "text": [
      "\r",
      " 10%|▉         | 8/81 [00:55<03:37,  2.98s/it]"
     ]
    },
    {
     "name": "stdout",
     "output_type": "stream",
     "text": [
      "C6053 : 47\n"
     ]
    },
    {
     "name": "stderr",
     "output_type": "stream",
     "text": [
      "\r",
      " 11%|█         | 9/81 [00:57<03:03,  2.55s/it]"
     ]
    },
    {
     "name": "stdout",
     "output_type": "stream",
     "text": [
      "C6055 : 44\n"
     ]
    },
    {
     "name": "stderr",
     "output_type": "stream",
     "text": [
      "\r",
      " 12%|█▏        | 10/81 [00:58<02:31,  2.13s/it]"
     ]
    },
    {
     "name": "stdout",
     "output_type": "stream",
     "text": [
      "C6058 : 37\n"
     ]
    },
    {
     "name": "stderr",
     "output_type": "stream",
     "text": [
      "\r",
      " 14%|█▎        | 11/81 [00:59<02:08,  1.83s/it]"
     ]
    },
    {
     "name": "stdout",
     "output_type": "stream",
     "text": [
      "C6059 : 37\n"
     ]
    },
    {
     "name": "stderr",
     "output_type": "stream",
     "text": [
      "\r",
      " 15%|█▍        | 12/81 [01:00<01:47,  1.56s/it]"
     ]
    },
    {
     "name": "stdout",
     "output_type": "stream",
     "text": [
      "C6064 : 34\n"
     ]
    },
    {
     "name": "stderr",
     "output_type": "stream",
     "text": [
      "\r",
      " 16%|█▌        | 13/81 [01:02<01:45,  1.55s/it]"
     ]
    },
    {
     "name": "stdout",
     "output_type": "stream",
     "text": [
      "C6065 : 34\n"
     ]
    },
    {
     "name": "stderr",
     "output_type": "stream",
     "text": [
      "\r",
      " 17%|█▋        | 14/81 [01:03<01:35,  1.42s/it]"
     ]
    },
    {
     "name": "stdout",
     "output_type": "stream",
     "text": [
      "C6067 : 29\n"
     ]
    },
    {
     "name": "stderr",
     "output_type": "stream",
     "text": [
      "\r",
      " 19%|█▊        | 15/81 [01:04<01:24,  1.28s/it]"
     ]
    },
    {
     "name": "stdout",
     "output_type": "stream",
     "text": [
      "C6068 : 29\n"
     ]
    },
    {
     "name": "stderr",
     "output_type": "stream",
     "text": [
      "\r",
      " 20%|█▉        | 16/81 [01:05<01:17,  1.19s/it]"
     ]
    },
    {
     "name": "stdout",
     "output_type": "stream",
     "text": [
      "C6069 : 29\n"
     ]
    },
    {
     "name": "stderr",
     "output_type": "stream",
     "text": [
      "\r",
      " 21%|██        | 17/81 [01:06<01:22,  1.29s/it]"
     ]
    },
    {
     "name": "stdout",
     "output_type": "stream",
     "text": [
      "C6070 : 27\n"
     ]
    },
    {
     "name": "stderr",
     "output_type": "stream",
     "text": [
      "\r",
      " 22%|██▏       | 18/81 [01:07<01:14,  1.19s/it]"
     ]
    },
    {
     "name": "stdout",
     "output_type": "stream",
     "text": [
      "C6071 : 27\n"
     ]
    },
    {
     "name": "stderr",
     "output_type": "stream",
     "text": [
      "\r",
      " 23%|██▎       | 19/81 [01:08<01:08,  1.11s/it]"
     ]
    },
    {
     "name": "stdout",
     "output_type": "stream",
     "text": [
      "C6074 : 24\n"
     ]
    },
    {
     "name": "stderr",
     "output_type": "stream",
     "text": [
      "\r",
      " 25%|██▍       | 20/81 [01:09<01:07,  1.10s/it]"
     ]
    },
    {
     "name": "stdout",
     "output_type": "stream",
     "text": [
      "C6075 : 21\n"
     ]
    },
    {
     "name": "stderr",
     "output_type": "stream",
     "text": [
      "\r",
      " 26%|██▌       | 21/81 [01:10<01:05,  1.09s/it]"
     ]
    },
    {
     "name": "stdout",
     "output_type": "stream",
     "text": [
      "C6076 : 20\n"
     ]
    },
    {
     "name": "stderr",
     "output_type": "stream",
     "text": [
      "\r",
      " 27%|██▋       | 22/81 [01:11<01:06,  1.13s/it]"
     ]
    },
    {
     "name": "stdout",
     "output_type": "stream",
     "text": [
      "C6079 : 19\n"
     ]
    },
    {
     "name": "stderr",
     "output_type": "stream",
     "text": [
      "\r",
      " 28%|██▊       | 23/81 [01:13<01:09,  1.19s/it]"
     ]
    },
    {
     "name": "stdout",
     "output_type": "stream",
     "text": [
      "C6081 : 16\n"
     ]
    },
    {
     "name": "stderr",
     "output_type": "stream",
     "text": [
      "\r",
      " 30%|██▉       | 24/81 [01:14<01:03,  1.12s/it]"
     ]
    },
    {
     "name": "stdout",
     "output_type": "stream",
     "text": [
      "C6082 : 14\n"
     ]
    },
    {
     "name": "stderr",
     "output_type": "stream",
     "text": [
      "\r",
      " 31%|███       | 25/81 [01:15<00:59,  1.07s/it]"
     ]
    },
    {
     "name": "stdout",
     "output_type": "stream",
     "text": [
      "C6083 : 14\n"
     ]
    },
    {
     "name": "stderr",
     "output_type": "stream",
     "text": [
      "\r",
      " 32%|███▏      | 26/81 [01:16<00:58,  1.07s/it]"
     ]
    },
    {
     "name": "stdout",
     "output_type": "stream",
     "text": [
      "C6084 : 13\n"
     ]
    },
    {
     "name": "stderr",
     "output_type": "stream",
     "text": [
      "\r",
      " 33%|███▎      | 27/81 [01:17<00:57,  1.06s/it]"
     ]
    },
    {
     "name": "stdout",
     "output_type": "stream",
     "text": [
      "C6085 : 12\n"
     ]
    },
    {
     "name": "stderr",
     "output_type": "stream",
     "text": [
      "\r",
      " 35%|███▍      | 28/81 [01:18<00:54,  1.02s/it]"
     ]
    },
    {
     "name": "stdout",
     "output_type": "stream",
     "text": [
      "C6086 : 11\n"
     ]
    },
    {
     "name": "stderr",
     "output_type": "stream",
     "text": [
      "\r",
      " 36%|███▌      | 29/81 [01:19<00:52,  1.01s/it]"
     ]
    },
    {
     "name": "stdout",
     "output_type": "stream",
     "text": [
      "C6087 : 11\n"
     ]
    },
    {
     "name": "stderr",
     "output_type": "stream",
     "text": [
      "\r",
      " 37%|███▋      | 30/81 [01:20<00:50,  1.01it/s]"
     ]
    },
    {
     "name": "stdout",
     "output_type": "stream",
     "text": [
      "C6089 : 11\n"
     ]
    },
    {
     "name": "stderr",
     "output_type": "stream",
     "text": [
      "\r",
      " 38%|███▊      | 31/81 [01:21<00:52,  1.04s/it]"
     ]
    },
    {
     "name": "stdout",
     "output_type": "stream",
     "text": [
      "C6090 : 10\n"
     ]
    },
    {
     "name": "stderr",
     "output_type": "stream",
     "text": [
      "\r",
      " 40%|███▉      | 32/81 [01:22<00:53,  1.09s/it]"
     ]
    },
    {
     "name": "stdout",
     "output_type": "stream",
     "text": [
      "C6091 : 10\n"
     ]
    },
    {
     "name": "stderr",
     "output_type": "stream",
     "text": [
      "\r",
      " 41%|████      | 33/81 [01:23<00:51,  1.07s/it]"
     ]
    },
    {
     "name": "stdout",
     "output_type": "stream",
     "text": [
      "C6092 : 8\n"
     ]
    },
    {
     "name": "stderr",
     "output_type": "stream",
     "text": [
      "\r",
      " 42%|████▏     | 34/81 [01:24<00:49,  1.06s/it]"
     ]
    },
    {
     "name": "stdout",
     "output_type": "stream",
     "text": [
      "C6093 : 8\n"
     ]
    },
    {
     "name": "stderr",
     "output_type": "stream",
     "text": [
      "\r",
      " 43%|████▎     | 35/81 [01:25<00:47,  1.02s/it]"
     ]
    },
    {
     "name": "stdout",
     "output_type": "stream",
     "text": [
      "C6095 : 6\n"
     ]
    },
    {
     "name": "stderr",
     "output_type": "stream",
     "text": [
      "\r",
      " 44%|████▍     | 36/81 [01:26<00:44,  1.01it/s]"
     ]
    },
    {
     "name": "stdout",
     "output_type": "stream",
     "text": [
      "C6101 : 4\n"
     ]
    },
    {
     "name": "stderr",
     "output_type": "stream",
     "text": [
      "\r",
      " 46%|████▌     | 37/81 [01:27<00:43,  1.02it/s]"
     ]
    },
    {
     "name": "stdout",
     "output_type": "stream",
     "text": [
      "C6103 : 4\n"
     ]
    },
    {
     "name": "stderr",
     "output_type": "stream",
     "text": [
      "\r",
      " 47%|████▋     | 38/81 [01:28<00:42,  1.02it/s]"
     ]
    },
    {
     "name": "stdout",
     "output_type": "stream",
     "text": [
      "C6104 : 4\n"
     ]
    },
    {
     "name": "stderr",
     "output_type": "stream",
     "text": [
      "\r",
      " 48%|████▊     | 39/81 [01:29<00:40,  1.03it/s]"
     ]
    },
    {
     "name": "stdout",
     "output_type": "stream",
     "text": [
      "C6048 : 53\n"
     ]
    },
    {
     "name": "stderr",
     "output_type": "stream",
     "text": [
      "\r",
      " 49%|████▉     | 40/81 [01:30<00:42,  1.04s/it]"
     ]
    },
    {
     "name": "stdout",
     "output_type": "stream",
     "text": [
      "C6088 : 11\n"
     ]
    },
    {
     "name": "stderr",
     "output_type": "stream",
     "text": [
      "\r",
      " 51%|█████     | 41/81 [01:31<00:40,  1.02s/it]"
     ]
    },
    {
     "name": "stdout",
     "output_type": "stream",
     "text": [
      "C6027 : 1393\n"
     ]
    },
    {
     "name": "stderr",
     "output_type": "stream",
     "text": [
      "\r",
      " 52%|█████▏    | 42/81 [01:39<02:02,  3.14s/it]"
     ]
    },
    {
     "name": "stdout",
     "output_type": "stream",
     "text": [
      "C6061 : 34\n"
     ]
    },
    {
     "name": "stderr",
     "output_type": "stream",
     "text": [
      "\r",
      " 53%|█████▎    | 43/81 [01:40<01:39,  2.63s/it]"
     ]
    },
    {
     "name": "stdout",
     "output_type": "stream",
     "text": [
      "C6062 : 34\n"
     ]
    },
    {
     "name": "stderr",
     "output_type": "stream",
     "text": [
      "\r",
      " 54%|█████▍    | 44/81 [01:42<01:21,  2.20s/it]"
     ]
    },
    {
     "name": "stdout",
     "output_type": "stream",
     "text": [
      "C6033 : 147\n"
     ]
    },
    {
     "name": "stderr",
     "output_type": "stream",
     "text": [
      "\r",
      " 56%|█████▌    | 45/81 [01:43<01:14,  2.08s/it]"
     ]
    },
    {
     "name": "stdout",
     "output_type": "stream",
     "text": [
      "C6097 : 6\n"
     ]
    },
    {
     "name": "stderr",
     "output_type": "stream",
     "text": [
      "\r",
      " 57%|█████▋    | 46/81 [01:44<01:00,  1.74s/it]"
     ]
    },
    {
     "name": "stdout",
     "output_type": "stream",
     "text": [
      "C6035 : 129\n"
     ]
    },
    {
     "name": "stderr",
     "output_type": "stream",
     "text": [
      "\r",
      " 58%|█████▊    | 47/81 [01:46<00:53,  1.58s/it]"
     ]
    },
    {
     "name": "stdout",
     "output_type": "stream",
     "text": [
      "C6036 : 123\n"
     ]
    },
    {
     "name": "stderr",
     "output_type": "stream",
     "text": [
      "\r",
      " 59%|█████▉    | 48/81 [01:47<00:48,  1.47s/it]"
     ]
    },
    {
     "name": "stdout",
     "output_type": "stream",
     "text": [
      "C6102 : 4\n"
     ]
    },
    {
     "name": "stderr",
     "output_type": "stream",
     "text": [
      "\r",
      " 60%|██████    | 49/81 [01:48<00:43,  1.34s/it]"
     ]
    },
    {
     "name": "stdout",
     "output_type": "stream",
     "text": [
      "C6039 : 101\n"
     ]
    },
    {
     "name": "stderr",
     "output_type": "stream",
     "text": [
      "\r",
      " 62%|██████▏   | 50/81 [01:50<00:45,  1.47s/it]"
     ]
    },
    {
     "name": "stdout",
     "output_type": "stream",
     "text": [
      "C6042 : 84\n"
     ]
    },
    {
     "name": "stderr",
     "output_type": "stream",
     "text": [
      "\r",
      " 63%|██████▎   | 51/81 [01:51<00:40,  1.37s/it]"
     ]
    },
    {
     "name": "stdout",
     "output_type": "stream",
     "text": [
      "C6080 : 17\n"
     ]
    },
    {
     "name": "stderr",
     "output_type": "stream",
     "text": [
      "\r",
      " 64%|██████▍   | 52/81 [01:52<00:36,  1.25s/it]"
     ]
    },
    {
     "name": "stdout",
     "output_type": "stream",
     "text": [
      "C6051 : 50\n"
     ]
    },
    {
     "name": "stderr",
     "output_type": "stream",
     "text": [
      "\r",
      " 65%|██████▌   | 53/81 [01:53<00:33,  1.20s/it]"
     ]
    },
    {
     "name": "stdout",
     "output_type": "stream",
     "text": [
      "C6060 : 36\n"
     ]
    },
    {
     "name": "stderr",
     "output_type": "stream",
     "text": [
      "\r",
      " 67%|██████▋   | 54/81 [01:54<00:32,  1.21s/it]"
     ]
    },
    {
     "name": "stdout",
     "output_type": "stream",
     "text": [
      "C6098 : 4\n"
     ]
    },
    {
     "name": "stderr",
     "output_type": "stream",
     "text": [
      "\r",
      " 68%|██████▊   | 55/81 [01:55<00:32,  1.24s/it]"
     ]
    },
    {
     "name": "stdout",
     "output_type": "stream",
     "text": [
      "C6037 : 120\n"
     ]
    },
    {
     "name": "stderr",
     "output_type": "stream",
     "text": [
      "\r",
      " 69%|██████▉   | 56/81 [01:57<00:32,  1.32s/it]"
     ]
    },
    {
     "name": "stdout",
     "output_type": "stream",
     "text": [
      "C6105 : 4\n"
     ]
    },
    {
     "name": "stderr",
     "output_type": "stream",
     "text": [
      "\r",
      " 70%|███████   | 57/81 [01:58<00:29,  1.24s/it]"
     ]
    },
    {
     "name": "stdout",
     "output_type": "stream",
     "text": [
      "C6044 : 80\n"
     ]
    },
    {
     "name": "stderr",
     "output_type": "stream",
     "text": [
      "\r",
      " 72%|███████▏  | 58/81 [01:59<00:30,  1.33s/it]"
     ]
    },
    {
     "name": "stdout",
     "output_type": "stream",
     "text": [
      "C6077 : 20\n"
     ]
    },
    {
     "name": "stderr",
     "output_type": "stream",
     "text": [
      "\r",
      " 73%|███████▎  | 59/81 [02:01<00:27,  1.24s/it]"
     ]
    },
    {
     "name": "stdout",
     "output_type": "stream",
     "text": [
      "C6054 : 45\n"
     ]
    },
    {
     "name": "stderr",
     "output_type": "stream",
     "text": [
      "\r",
      " 74%|███████▍  | 60/81 [02:02<00:24,  1.18s/it]"
     ]
    },
    {
     "name": "stdout",
     "output_type": "stream",
     "text": [
      "C6056 : 38\n"
     ]
    },
    {
     "name": "stderr",
     "output_type": "stream",
     "text": [
      "\r",
      " 75%|███████▌  | 61/81 [02:03<00:22,  1.12s/it]"
     ]
    },
    {
     "name": "stdout",
     "output_type": "stream",
     "text": [
      "C6057 : 37\n"
     ]
    },
    {
     "name": "stderr",
     "output_type": "stream",
     "text": [
      "\r",
      " 77%|███████▋  | 62/81 [02:04<00:22,  1.20s/it]"
     ]
    },
    {
     "name": "stdout",
     "output_type": "stream",
     "text": [
      "C6063 : 34\n"
     ]
    },
    {
     "name": "stderr",
     "output_type": "stream",
     "text": [
      "\r",
      " 78%|███████▊  | 63/81 [02:05<00:22,  1.23s/it]"
     ]
    },
    {
     "name": "stdout",
     "output_type": "stream",
     "text": [
      "C6031 : 350\n"
     ]
    },
    {
     "name": "stderr",
     "output_type": "stream",
     "text": [
      "\r",
      " 79%|███████▉  | 64/81 [02:07<00:24,  1.44s/it]"
     ]
    },
    {
     "name": "stdout",
     "output_type": "stream",
     "text": [
      "C6072 : 26\n"
     ]
    },
    {
     "name": "stderr",
     "output_type": "stream",
     "text": [
      "\r",
      " 80%|████████  | 65/81 [02:08<00:21,  1.35s/it]"
     ]
    },
    {
     "name": "stdout",
     "output_type": "stream",
     "text": [
      "C6073 : 25\n"
     ]
    },
    {
     "name": "stderr",
     "output_type": "stream",
     "text": [
      "\r",
      " 81%|████████▏ | 66/81 [02:10<00:19,  1.33s/it]"
     ]
    },
    {
     "name": "stdout",
     "output_type": "stream",
     "text": [
      "C6078 : 19\n"
     ]
    },
    {
     "name": "stderr",
     "output_type": "stream",
     "text": [
      "\r",
      " 83%|████████▎ | 67/81 [02:11<00:17,  1.25s/it]"
     ]
    },
    {
     "name": "stdout",
     "output_type": "stream",
     "text": [
      "C6052 : 49\n"
     ]
    },
    {
     "name": "stderr",
     "output_type": "stream",
     "text": [
      "\r",
      " 84%|████████▍ | 68/81 [02:12<00:16,  1.24s/it]"
     ]
    },
    {
     "name": "stdout",
     "output_type": "stream",
     "text": [
      "C6094 : 7\n"
     ]
    },
    {
     "name": "stderr",
     "output_type": "stream",
     "text": [
      "\r",
      " 85%|████████▌ | 69/81 [02:13<00:14,  1.18s/it]"
     ]
    },
    {
     "name": "stdout",
     "output_type": "stream",
     "text": [
      "C6030 : 744\n"
     ]
    },
    {
     "name": "stderr",
     "output_type": "stream",
     "text": [
      "\r",
      " 86%|████████▋ | 70/81 [02:16<00:20,  1.90s/it]"
     ]
    },
    {
     "name": "stdout",
     "output_type": "stream",
     "text": [
      "C6034 : 144\n"
     ]
    },
    {
     "name": "stderr",
     "output_type": "stream",
     "text": [
      "\r",
      " 88%|████████▊ | 71/81 [02:20<00:22,  2.28s/it]"
     ]
    },
    {
     "name": "stdout",
     "output_type": "stream",
     "text": [
      "C6100 : 4\n"
     ]
    },
    {
     "name": "stderr",
     "output_type": "stream",
     "text": [
      "\r",
      " 89%|████████▉ | 72/81 [02:21<00:16,  1.88s/it]"
     ]
    },
    {
     "name": "stdout",
     "output_type": "stream",
     "text": [
      "C6099 : 4\n"
     ]
    },
    {
     "name": "stderr",
     "output_type": "stream",
     "text": [
      "\r",
      " 90%|█████████ | 73/81 [02:22<00:13,  1.70s/it]"
     ]
    },
    {
     "name": "stdout",
     "output_type": "stream",
     "text": [
      "C6046 : 58\n"
     ]
    },
    {
     "name": "stderr",
     "output_type": "stream",
     "text": [
      "\r",
      " 91%|█████████▏| 74/81 [02:23<00:10,  1.48s/it]"
     ]
    },
    {
     "name": "stdout",
     "output_type": "stream",
     "text": [
      "C6032 : 248\n"
     ]
    },
    {
     "name": "stderr",
     "output_type": "stream",
     "text": [
      "\r",
      " 93%|█████████▎| 75/81 [02:24<00:08,  1.43s/it]"
     ]
    },
    {
     "name": "stdout",
     "output_type": "stream",
     "text": [
      "C6038 : 104\n"
     ]
    },
    {
     "name": "stderr",
     "output_type": "stream",
     "text": [
      "\r",
      " 94%|█████████▍| 76/81 [02:25<00:06,  1.37s/it]"
     ]
    },
    {
     "name": "stdout",
     "output_type": "stream",
     "text": [
      "C6043 : 81\n"
     ]
    },
    {
     "name": "stderr",
     "output_type": "stream",
     "text": [
      "\r",
      " 95%|█████████▌| 77/81 [02:27<00:05,  1.43s/it]"
     ]
    },
    {
     "name": "stdout",
     "output_type": "stream",
     "text": [
      "C6040 : 88\n"
     ]
    },
    {
     "name": "stderr",
     "output_type": "stream",
     "text": [
      "\r",
      " 96%|█████████▋| 78/81 [02:28<00:04,  1.37s/it]"
     ]
    },
    {
     "name": "stdout",
     "output_type": "stream",
     "text": [
      "C6066 : 32\n"
     ]
    },
    {
     "name": "stderr",
     "output_type": "stream",
     "text": [
      "\r",
      " 98%|█████████▊| 79/81 [02:29<00:02,  1.24s/it]"
     ]
    },
    {
     "name": "stdout",
     "output_type": "stream",
     "text": [
      "C6096 : 6\n"
     ]
    },
    {
     "name": "stderr",
     "output_type": "stream",
     "text": [
      "\r",
      " 99%|█████████▉| 80/81 [02:30<00:01,  1.16s/it]"
     ]
    },
    {
     "name": "stdout",
     "output_type": "stream",
     "text": [
      "C6049 : 53\n"
     ]
    },
    {
     "name": "stderr",
     "output_type": "stream",
     "text": [
      "100%|██████████| 81/81 [02:32<00:00,  1.88s/it]\n"
     ]
    }
   ],
   "source": [
    "# Annotate with GO terms\n",
    "# gprofiler annotation of clusters\n",
    "if rerun_analysis:\n",
    "    system_names = {}\n",
    "    all_results = []\n",
    "    for comm in tqdm(all_hier_df.index.tolist()):\n",
    "        if isinstance(all_hier_df['CD_MemberList'].loc[comm], str):\n",
    "            focal_genes=all_hier_df['CD_MemberList'].loc[comm].split(' ')\n",
    "        else:\n",
    "            focal_genes=all_hier_df['CD_MemberList'].loc[comm]\n",
    "        print(comm,\":\", len(focal_genes))\n",
    "        system_names[comm] = comm # default is to keep identifier as name, will be replaced if confident annotation available\n",
    "        if len(focal_genes)>2:\n",
    "            gp_temp = pd.DataFrame(gp.profile(focal_genes,significance_threshold_method='fdr',\n",
    "                                               sources=['GO:BP'], no_evidences=False))\n",
    "            if len(gp_temp)>0: # make sure data is not empty\n",
    "                gp_temp[\"community\"] = comm\n",
    "                all_results.append(gp_temp)\n",
    "                gp_temp = filter_go_annotations(gp_temp, 50, 1000, 1e-3, 3)\n",
    "                if len(gp_temp)>1:\n",
    "                    system_names[comm] = gp_temp.head(1)['name'].tolist()[0]\n",
    "                    #all_results.append(gp_temp)\n",
    "    go_results = pd.concat(all_results)\n",
    "    go_results.to_csv(DATADIR+\"outputs/combined_hierarchy_GO_enrichment.tsv\", index=True, sep=\"\\t\")\n",
    "            \n",
    "else:\n",
    "    go_results = pd.read_csv(DATADIR+ \"outputs/combined_hierarchy_GO_enrichment.tsv\", index_col=None, sep=\"\\t\")\n",
    "    go_results = filter_go_annotations(go_results, 50, 1000, 1e-3, 3)\n",
    "    system_names = {}\n",
    "    for comm in all_hier_df.index.tolist():\n",
    "        if comm in go_results['community'].tolist():\n",
    "            system_names[comm] = go_results[go_results['community']==comm]['name'].tolist()[0]\n",
    "        else:\n",
    "            system_names[comm] = comm"
   ]
  },
  {
   "cell_type": "code",
   "execution_count": 225,
   "metadata": {
    "ExecuteTime": {
     "end_time": "2022-07-12T20:47:13.863213Z",
     "start_time": "2022-07-12T20:47:13.816743Z"
    }
   },
   "outputs": [],
   "source": [
    "# Save the system annotations\n",
    "pd.DataFrame.from_dict(system_names, orient=\"index\").to_csv(DATADIR + \"outputs/combined_hierarchy_system_names.tsv\", sep=\"\\t\")"
   ]
  },
  {
   "cell_type": "markdown",
   "metadata": {
    "ExecuteTime": {
     "end_time": "2022-07-12T19:49:09.856949Z",
     "start_time": "2022-07-12T19:49:09.855240Z"
    }
   },
   "source": [
    "## Annotate the global systems map"
   ]
  },
  {
   "cell_type": "code",
   "execution_count": 183,
   "metadata": {
    "ExecuteTime": {
     "end_time": "2022-07-12T19:51:29.676614Z",
     "start_time": "2022-07-12T19:51:29.669213Z"
    }
   },
   "outputs": [],
   "source": [
    "# split the gene list into a list object\n",
    "all_hier_df[\"CD_MemberList\"] = all_hier_df.CD_MemberList.apply(lambda x: x.split(\" \"))"
   ]
  },
  {
   "cell_type": "code",
   "execution_count": 195,
   "metadata": {
    "ExecuteTime": {
     "end_time": "2022-07-12T19:57:07.455576Z",
     "start_time": "2022-07-12T19:57:06.732062Z"
    }
   },
   "outputs": [],
   "source": [
    "# Fraction of genes from each subnetwork\n",
    "all_hier_df[\"frac_conserved\"] = all_hier_df.CD_MemberList.apply(lambda x: len(data.loc[(data.index.isin(x)) & (data.subgraph==\"Conserved\")].index.values)/len(x))\n",
    "all_hier_df[\"frac_rat\"] = all_hier_df.CD_MemberList.apply(lambda x: len(data.loc[(data.index.isin(x)) & (data.subgraph==\"Rat-Only\")].index.values)/len(x))\n",
    "all_hier_df[\"frac_human\"] = all_hier_df.CD_MemberList.apply(lambda x: len(data.loc[(data.index.isin(x)) & (data.subgraph==\"Human-Only\")].index.values)/len(x))"
   ]
  },
  {
   "cell_type": "code",
   "execution_count": 258,
   "metadata": {
    "ExecuteTime": {
     "end_time": "2022-07-13T18:59:04.578008Z",
     "start_time": "2022-07-13T18:59:04.530022Z"
    }
   },
   "outputs": [],
   "source": [
    "# significance of the number of genes from each subnetwork\n",
    "M = 6025\n",
    "all_hier_df[\"p_rat\"] = all_hier_df.apply(lambda x: hypergeom.sf(M=6025, n=688, N=x.CD_MemberList_Size, \n",
    "                                                                k=int(x.frac_rat*x.CD_MemberList_Size)), axis=1)\n",
    "all_hier_df[\"p_human\"] = all_hier_df.apply(lambda x: hypergeom.sf(M=6025, n=925, N=x.CD_MemberList_Size, \n",
    "                                                                k=int(x.frac_human*x.CD_MemberList_Size)), axis=1)\n",
    "all_hier_df[\"p_conserved\"] = all_hier_df.apply(lambda x: hypergeom.sf(M=6025, n=657, N=x.CD_MemberList_Size, \n",
    "                                                                k=int(x.frac_conserved*x.CD_MemberList_Size)), axis=1)"
   ]
  },
  {
   "cell_type": "code",
   "execution_count": 262,
   "metadata": {
    "ExecuteTime": {
     "end_time": "2022-07-13T18:59:58.819441Z",
     "start_time": "2022-07-13T18:59:58.816239Z"
    }
   },
   "outputs": [],
   "source": [
    "# perform multiple hypothesis correction for each test\n",
    "all_hier_df[\"q_rat\"] = fdrcorrection(all_hier_df[\"p_rat\"])[1]\n",
    "all_hier_df[\"q_human\"] = fdrcorrection(all_hier_df[\"p_human\"])[1]\n",
    "all_hier_df[\"q_conserved\"] = fdrcorrection(all_hier_df[\"p_conserved\"])[1]"
   ]
  },
  {
   "cell_type": "code",
   "execution_count": 273,
   "metadata": {
    "ExecuteTime": {
     "end_time": "2022-07-13T19:17:36.750927Z",
     "start_time": "2022-07-13T19:17:36.744109Z"
    }
   },
   "outputs": [],
   "source": [
    "# identify the significantly over-represented communities\n",
    "all_hier_df[\"sig_rat\"] = 1 * (all_hier_df[\"q_rat\"] < 0.05)\n",
    "all_hier_df[\"sig_human\"] = 1 * (all_hier_df[\"q_human\"] < 0.05)\n",
    "all_hier_df[\"sig_conserved\"] = 1 * (all_hier_df[\"q_conserved\"] < 0.05)\n",
    "all_hier_df[\"sig_network\"] = \"\"\n",
    "all_hier_df.loc[all_hier_df[\"sig_rat\"] == 1, \"sig_network\"] += \"rat\"\n",
    "all_hier_df.loc[all_hier_df[\"sig_human\"] == 1, \"sig_network\"] += \"human\"\n",
    "all_hier_df.loc[all_hier_df[\"sig_conserved\"] == 1, \"sig_network\"] += \"conserved\""
   ]
  },
  {
   "cell_type": "code",
   "execution_count": 293,
   "metadata": {
    "ExecuteTime": {
     "end_time": "2022-07-13T23:13:24.137559Z",
     "start_time": "2022-07-13T23:13:24.129969Z"
    }
   },
   "outputs": [],
   "source": [
    "# assign these attributes to the combined hierarchy\n",
    "for idx, node in G_all_hier.get_nodes():\n",
    "    for attr in [\"frac_conserved\", \"frac_rat\", \"frac_human\", \"q_conserved\",\"q_rat\", \"q_human\", \"sig_rat\", \"sig_network\"]:\n",
    "        G_all_hier.set_node_attribute(idx, attr, all_hier_df.loc[node['n'], attr])\n",
    "    G_all_hier.set_node_attribute(idx, \"Annotation\", system_names[node['n']])"
   ]
  },
  {
   "cell_type": "markdown",
   "metadata": {},
   "source": [
    "## Upload the combined systems map"
   ]
  },
  {
   "cell_type": "code",
   "execution_count": 294,
   "metadata": {
    "ExecuteTime": {
     "end_time": "2022-07-13T23:14:35.567556Z",
     "start_time": "2022-07-13T23:13:31.316057Z"
    }
   },
   "outputs": [
    {
     "name": "stdout",
     "output_type": "stream",
     "text": [
      "Username:········\n",
      "Password:········\n"
     ]
    }
   ],
   "source": [
    "username = getpass(\"Username:\")\n",
    "passwd = getpass(\"Password:\")\n",
    "client = ndex2.client.Ndex2(username=username, password=passwd)"
   ]
  },
  {
   "cell_type": "code",
   "execution_count": 295,
   "metadata": {
    "ExecuteTime": {
     "end_time": "2022-07-13T23:14:42.636726Z",
     "start_time": "2022-07-13T23:14:42.635054Z"
    }
   },
   "outputs": [],
   "source": [
    "G_all_hier.set_name(\"Combined Rat-Human-Conserved BMI Hierarchy\")"
   ]
  },
  {
   "cell_type": "code",
   "execution_count": 296,
   "metadata": {
    "ExecuteTime": {
     "end_time": "2022-07-13T23:14:49.924395Z",
     "start_time": "2022-07-13T23:14:49.713109Z"
    }
   },
   "outputs": [
    {
     "name": "stdout",
     "output_type": "stream",
     "text": [
      "Generating CX\n"
     ]
    },
    {
     "data": {
      "text/plain": [
       "'https://www.ndexbio.org/v2/network/9809e829-0301-11ed-ac45-0ac135e8bacf'"
      ]
     },
     "execution_count": 296,
     "metadata": {},
     "output_type": "execute_result"
    }
   ],
   "source": [
    "if rerun_analysis:\n",
    "    client.save_new_network(G_all_hier.to_cx(), visibility='PRIVATE')"
   ]
  },
  {
   "cell_type": "code",
   "execution_count": 307,
   "metadata": {
    "ExecuteTime": {
     "end_time": "2022-07-13T23:21:52.005010Z",
     "start_time": "2022-07-13T23:21:51.949327Z"
    }
   },
   "outputs": [],
   "source": [
    "# save the table of hierarchy data\n",
    "if rerun_analysis:\n",
    "    all_hier_df.to_csv(DATADIR + \"outputs/species_combined_hierarchy_data.tsv\", sep=\"\\t\")"
   ]
  },
  {
   "cell_type": "markdown",
   "metadata": {},
   "source": [
    "## Visualize over-represented communities"
   ]
  },
  {
   "cell_type": "code",
   "execution_count": 308,
   "metadata": {
    "ExecuteTime": {
     "end_time": "2022-07-13T23:33:35.075282Z",
     "start_time": "2022-07-13T23:33:29.605065Z"
    }
   },
   "outputs": [
    {
     "data": {
      "text/plain": [
       "Text(0.5, 1.0, 'Results of hypergeometric test for number of subnetwork genes in each community')"
      ]
     },
     "execution_count": 308,
     "metadata": {},
     "output_type": "execute_result"
    },
    {
     "data": {
      "image/png": "[encoded data removed]",
      "text/plain": [
       "<Figure size 1440x288 with 1 Axes>"
      ]
     },
     "metadata": {
      "needs_background": "light"
     },
     "output_type": "display_data"
    }
   ],
   "source": [
    "fig, ax = plt.subplots(nrows=1, ncols=1, figsize=(20, 4))\n",
    "plot_data = all_hier_df.sort_values(by=[\"q_conserved\", \"q_rat\", \"q_human\"]).loc[:, (\"q_conserved\", \"q_rat\", \"q_human\")]\n",
    "(-1 * np.log10(plot_data)).plot.bar(ax=ax, width=0.8, color=[\"#f5793a\", \"#a95aa1\", \"#85c0f9\"])\n",
    "plt.xlabel(\"Community\", fontsize=16)\n",
    "_ = plt.ylabel(\"-log$_{10}(q)$\", fontsize=16)\n",
    "_ = plt.title(\"Results of hypergeometric test for number of subnetwork genes in each community\")"
   ]
  }
 ],
 "metadata": {
  "celltoolbar": "Initialization Cell",
  "kernelspec": {
   "display_name": "Python [conda env:netcoloc]",
   "language": "python",
   "name": "conda-env-netcoloc-py"
  },
  "language_info": {
   "codemirror_mode": {
    "name": "ipython",
    "version": 3
   },
   "file_extension": ".py",
   "mimetype": "text/x-python",
   "name": "python",
   "nbconvert_exporter": "python",
   "pygments_lexer": "ipython3",
   "version": "3.9.7"
  },
  "toc": {
   "base_numbering": 1,
   "nav_menu": {},
   "number_sections": true,
   "sideBar": true,
   "skip_h1_title": false,
   "title_cell": "Table of Contents",
   "title_sidebar": "Contents",
   "toc_cell": false,
   "toc_position": {
    "height": "47.7135px",
    "left": "83px",
    "top": "111.125px",
    "width": "251px"
   },
   "toc_section_display": true,
   "toc_window_display": true
  },
  "varInspector": {
   "cols": {
    "lenName": 16,
    "lenType": 16,
    "lenVar": 40
   },
   "kernels_config": {
    "python": {
     "delete_cmd_postfix": "",
     "delete_cmd_prefix": "del ",
     "library": "var_list.py",
     "varRefreshCmd": "print(var_dic_list())"
    },
    "r": {
     "delete_cmd_postfix": ") ",
     "delete_cmd_prefix": "rm(",
     "library": "var_list.r",
     "varRefreshCmd": "cat(var_dic_list()) "
    }
   },
   "types_to_exclude": [
    "module",
    "function",
    "builtin_function_or_method",
    "instance",
    "_Feature"
   ],
   "window_display": false
  }
 },
 "nbformat": 4,
 "nbformat_minor": 2
}
