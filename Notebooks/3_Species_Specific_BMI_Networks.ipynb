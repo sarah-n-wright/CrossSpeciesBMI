{
 "cells": [
  {
   "cell_type": "markdown",
   "metadata": {},
   "source": [
    "# Introduction"
   ]
  },
  {
   "cell_type": "markdown",
   "metadata": {},
   "source": [
    "# Set Up"
   ]
  },
  {
   "cell_type": "code",
   "execution_count": 219,
   "metadata": {
    "ExecuteTime": {
     "end_time": "2022-07-08T22:05:55.522759Z",
     "start_time": "2022-07-08T22:05:46.596632Z"
    },
    "init_cell": true
   },
   "outputs": [
    {
     "name": "stderr",
     "output_type": "stream",
     "text": [
      "DISCLAIMIER: cdapsutil is experimental and may contain errors and interfaces may change\n"
     ]
    }
   ],
   "source": [
    "import os\n",
    "import sys\n",
    "import pandas as pd\n",
    "import matplotlib.pyplot as plt\n",
    "import matplotlib\n",
    "import numpy as np\n",
    "from tqdm import tqdm\n",
    "import cdapsutil\n",
    "import ndex2"
   ]
  },
  {
   "cell_type": "code",
   "execution_count": 12,
   "metadata": {
    "ExecuteTime": {
     "end_time": "2022-07-08T20:19:51.632396Z",
     "start_time": "2022-07-08T20:19:51.630422Z"
    },
    "init_cell": true
   },
   "outputs": [],
   "source": [
    "# Set up directory paths. Defaults to the Data/ and Figures/ folders within the repository.\n",
    "cwd = os.path.dirname(os.getcwd())\n",
    "DATADIR = os.path.join(cwd, \"Data/\")\n",
    "FIGDIR = os.path.join(cwd, \"Figures/rerun_\")"
   ]
  },
  {
   "cell_type": "code",
   "execution_count": 220,
   "metadata": {
    "ExecuteTime": {
     "end_time": "2022-07-08T22:05:58.217564Z",
     "start_time": "2022-07-08T22:05:55.555403Z"
    }
   },
   "outputs": [],
   "source": [
    "sys.path.append(cwd)\n",
    "from analysis_functions import *"
   ]
  },
  {
   "cell_type": "code",
   "execution_count": 64,
   "metadata": {
    "ExecuteTime": {
     "end_time": "2022-07-08T20:51:41.660639Z",
     "start_time": "2022-07-08T20:51:41.613546Z"
    },
    "init_cell": true,
    "scrolled": true
   },
   "outputs": [
    {
     "data": {
      "text/html": [
       "<div>\n",
       "<style scoped>\n",
       "    .dataframe tbody tr th:only-of-type {\n",
       "        vertical-align: middle;\n",
       "    }\n",
       "\n",
       "    .dataframe tbody tr th {\n",
       "        vertical-align: top;\n",
       "    }\n",
       "\n",
       "    .dataframe thead th {\n",
       "        text-align: right;\n",
       "    }\n",
       "</style>\n",
       "<table border=\"1\" class=\"dataframe\">\n",
       "  <thead>\n",
       "    <tr style=\"text-align: right;\">\n",
       "      <th></th>\n",
       "      <th>NPS_r</th>\n",
       "      <th>NPS_h</th>\n",
       "      <th>NPS_hr</th>\n",
       "    </tr>\n",
       "    <tr>\n",
       "      <th>gene</th>\n",
       "      <th></th>\n",
       "      <th></th>\n",
       "      <th></th>\n",
       "    </tr>\n",
       "  </thead>\n",
       "  <tbody>\n",
       "    <tr>\n",
       "      <th>A1BG</th>\n",
       "      <td>0.125314</td>\n",
       "      <td>-0.488576</td>\n",
       "      <td>-0.061226</td>\n",
       "    </tr>\n",
       "    <tr>\n",
       "      <th>A1CF</th>\n",
       "      <td>2.540447</td>\n",
       "      <td>2.186042</td>\n",
       "      <td>5.553524</td>\n",
       "    </tr>\n",
       "    <tr>\n",
       "      <th>A2M</th>\n",
       "      <td>0.651845</td>\n",
       "      <td>-0.581848</td>\n",
       "      <td>-0.379275</td>\n",
       "    </tr>\n",
       "    <tr>\n",
       "      <th>A2ML1</th>\n",
       "      <td>-1.315517</td>\n",
       "      <td>-1.108608</td>\n",
       "      <td>1.458393</td>\n",
       "    </tr>\n",
       "    <tr>\n",
       "      <th>A3GALT2</th>\n",
       "      <td>-0.546107</td>\n",
       "      <td>-0.243477</td>\n",
       "      <td>0.132964</td>\n",
       "    </tr>\n",
       "  </tbody>\n",
       "</table>\n",
       "</div>"
      ],
      "text/plain": [
       "            NPS_r     NPS_h    NPS_hr\n",
       "gene                                 \n",
       "A1BG     0.125314 -0.488576 -0.061226\n",
       "A1CF     2.540447  2.186042  5.553524\n",
       "A2M      0.651845 -0.581848 -0.379275\n",
       "A2ML1   -1.315517 -1.108608  1.458393\n",
       "A3GALT2 -0.546107 -0.243477  0.132964"
      ]
     },
     "execution_count": 64,
     "metadata": {},
     "output_type": "execute_result"
    }
   ],
   "source": [
    "# load data, contains original subgraphs\n",
    "data = pd.read_csv(DATADIR + \"outputs/rat_human_BMI_all_NPS.tsv\", sep = \"\\t\", index_col=0)\n",
    "data.head()"
   ]
  },
  {
   "cell_type": "code",
   "execution_count": 37,
   "metadata": {
    "ExecuteTime": {
     "end_time": "2022-07-08T20:29:55.791091Z",
     "start_time": "2022-07-08T20:29:55.694017Z"
    }
   },
   "outputs": [
    {
     "name": "stdout",
     "output_type": "stream",
     "text": [
      "Number of human BMI seeds: 1958\n",
      "Number of rat BMI seeds: 295\n"
     ]
    }
   ],
   "source": [
    "# load seed genes\n",
    "seed_bin_human_BMI = pd.read_csv(DATADIR+\"inputs/human_BMI_all_seed_genes.txt\", header=None)[0].tolist()\n",
    "print(\"Number of human BMI seeds:\", len(seed_bin_human_BMI))\n",
    "\n",
    "seed_bin_rat_BMI=pd.read_csv(DATADIR+'inputs/ratBMI_seed_relaxed.txt',sep='\\t')['0'].tolist()\n",
    "print(\"Number of rat BMI seeds:\", len(seed_bin_rat_BMI))"
   ]
  },
  {
   "cell_type": "code",
   "execution_count": 65,
   "metadata": {
    "ExecuteTime": {
     "end_time": "2022-07-08T20:51:47.415678Z",
     "start_time": "2022-07-08T20:51:47.070826Z"
    }
   },
   "outputs": [],
   "source": [
    "data = data.assign(rat_seed=[1 if gene in seed_bin_rat_BMI else 0 for gene in data.index])\n",
    "data = data.assign(human_seed=[1 if gene in seed_bin_human_BMI else 0 for gene in data.index])"
   ]
  },
  {
   "cell_type": "markdown",
   "metadata": {},
   "source": [
    "# Examine the distributions of the species NPS"
   ]
  },
  {
   "cell_type": "code",
   "execution_count": 43,
   "metadata": {
    "ExecuteTime": {
     "end_time": "2022-07-08T20:31:23.651213Z",
     "start_time": "2022-07-08T20:31:22.729975Z"
    }
   },
   "outputs": [
    {
     "data": {
      "text/plain": [
       "<matplotlib.legend.Legend at 0x15551b9d9cd0>"
      ]
     },
     "execution_count": 43,
     "metadata": {},
     "output_type": "execute_result"
    },
    {
     "data": {
      "image/png": "[encoded data removed]",
      "text/plain": [
       "<Figure size 1008x216 with 2 Axes>"
      ]
     },
     "metadata": {
      "needs_background": "light"
     },
     "output_type": "display_data"
    }
   ],
   "source": [
    "matplotlib.rcParams.update({'font.size': 14})\n",
    "fig, [ax1, ax2] = plt.subplots(nrows=1, ncols=2, figsize=(14, 3))\n",
    "_, bins, _ = ax1.hist(data.NPS_r, bins=100, alpha=0.7, density=True, label=\"Rat\", color=\"#a95aa1\")\n",
    "_ = ax1.hist(data.NPS_h, bins=bins, alpha=0.7, density=True, label=\"Human\", color=\"#85c0f9\")\n",
    "ax1.set_ylabel(\"Density\")\n",
    "ax1.set_xlabel(\"NPS\")\n",
    "ax1.legend()\n",
    "\n",
    "_, bins, _ = ax2.hist(data[data.rat_seed==0].NPS_r, bins=50, alpha=0.7, density=True, label=\"Rat\", color=\"#a95aa1\")\n",
    "_ = ax2.hist(data[data.human_seed==0].NPS_h, bins=bins, alpha=0.7, density=True, label=\"Human\", color=\"#85c0f9\")\n",
    "ax2.set_ylabel(\"Density\")\n",
    "ax2.set_xlabel(\"NPS (no seed genes)\")\n",
    "ax2.legend()\n"
   ]
  },
  {
   "cell_type": "code",
   "execution_count": 6,
   "metadata": {
    "ExecuteTime": {
     "end_time": "2022-03-24T19:27:54.328827Z",
     "start_time": "2022-03-24T19:27:54.299917Z"
    }
   },
   "outputs": [
    {
     "data": {
      "text/html": [
       "<div>\n",
       "<style scoped>\n",
       "    .dataframe tbody tr th:only-of-type {\n",
       "        vertical-align: middle;\n",
       "    }\n",
       "\n",
       "    .dataframe tbody tr th {\n",
       "        vertical-align: top;\n",
       "    }\n",
       "\n",
       "    .dataframe thead th {\n",
       "        text-align: right;\n",
       "    }\n",
       "</style>\n",
       "<table border=\"1\" class=\"dataframe\">\n",
       "  <thead>\n",
       "    <tr style=\"text-align: right;\">\n",
       "      <th></th>\n",
       "      <th>z_rat</th>\n",
       "      <th>z_human</th>\n",
       "    </tr>\n",
       "  </thead>\n",
       "  <tbody>\n",
       "    <tr>\n",
       "      <th>count</th>\n",
       "      <td>18820.000000</td>\n",
       "      <td>18820.000000</td>\n",
       "    </tr>\n",
       "    <tr>\n",
       "      <th>mean</th>\n",
       "      <td>0.166117</td>\n",
       "      <td>1.064944</td>\n",
       "    </tr>\n",
       "    <tr>\n",
       "      <th>std</th>\n",
       "      <td>1.819963</td>\n",
       "      <td>3.034380</td>\n",
       "    </tr>\n",
       "    <tr>\n",
       "      <th>min</th>\n",
       "      <td>-2.908312</td>\n",
       "      <td>-3.953688</td>\n",
       "    </tr>\n",
       "    <tr>\n",
       "      <th>25%</th>\n",
       "      <td>-0.699091</td>\n",
       "      <td>-0.227384</td>\n",
       "    </tr>\n",
       "    <tr>\n",
       "      <th>50%</th>\n",
       "      <td>-0.220273</td>\n",
       "      <td>0.450951</td>\n",
       "    </tr>\n",
       "    <tr>\n",
       "      <th>75%</th>\n",
       "      <td>0.566990</td>\n",
       "      <td>1.240185</td>\n",
       "    </tr>\n",
       "    <tr>\n",
       "      <th>max</th>\n",
       "      <td>31.286290</td>\n",
       "      <td>34.273300</td>\n",
       "    </tr>\n",
       "  </tbody>\n",
       "</table>\n",
       "</div>"
      ],
      "text/plain": [
       "              z_rat       z_human\n",
       "count  18820.000000  18820.000000\n",
       "mean       0.166117      1.064944\n",
       "std        1.819963      3.034380\n",
       "min       -2.908312     -3.953688\n",
       "25%       -0.699091     -0.227384\n",
       "50%       -0.220273      0.450951\n",
       "75%        0.566990      1.240185\n",
       "max       31.286290     34.273300"
      ]
     },
     "execution_count": 6,
     "metadata": {},
     "output_type": "execute_result"
    }
   ],
   "source": [
    "data.loc[:, (\"NPS_r\", \"NPS_h\")].describe()"
   ]
  },
  {
   "cell_type": "code",
   "execution_count": 7,
   "metadata": {
    "ExecuteTime": {
     "end_time": "2022-03-24T19:27:54.336155Z",
     "start_time": "2022-03-24T19:27:54.329610Z"
    }
   },
   "outputs": [
    {
     "data": {
      "text/plain": [
       "count    18525.000000\n",
       "mean        -0.013611\n",
       "std          1.030633\n",
       "min         -2.908312\n",
       "50%         -0.237388\n",
       "75%          0.518693\n",
       "80%          0.729556\n",
       "85%          1.005072\n",
       "90%          1.354651\n",
       "95%          1.952714\n",
       "max          6.798332\n",
       "Name: z_rat, dtype: float64"
      ]
     },
     "execution_count": 7,
     "metadata": {},
     "output_type": "execute_result"
    }
   ],
   "source": [
    "data[data.rat_seed==0].NPS_r.describe(percentiles=[0.5, 0.75, 0.8, 0.85, 0.9, 0.95])"
   ]
  },
  {
   "cell_type": "code",
   "execution_count": 8,
   "metadata": {
    "ExecuteTime": {
     "end_time": "2022-03-24T19:27:54.361568Z",
     "start_time": "2022-03-24T19:27:54.336923Z"
    }
   },
   "outputs": [
    {
     "data": {
      "text/plain": [
       "count    16862.000000\n",
       "mean         0.425921\n",
       "std          1.047217\n",
       "min         -3.953688\n",
       "50%          0.348532\n",
       "75%          1.069361\n",
       "80%          1.240472\n",
       "85%          1.464345\n",
       "90%          1.742707\n",
       "95%          2.219446\n",
       "max          6.620334\n",
       "Name: z_human, dtype: float64"
      ]
     },
     "execution_count": 8,
     "metadata": {},
     "output_type": "execute_result"
    }
   ],
   "source": [
    "data[data.human_seed==0].NPS_h.describe(percentiles=[0.5, 0.75, 0.8, 0.85, 0.9, 0.95])"
   ]
  },
  {
   "cell_type": "markdown",
   "metadata": {},
   "source": [
    "# Defining species specific Networks"
   ]
  },
  {
   "cell_type": "markdown",
   "metadata": {},
   "source": [
    "## Set thresholds"
   ]
  },
  {
   "cell_type": "code",
   "execution_count": 66,
   "metadata": {
    "ExecuteTime": {
     "end_time": "2022-07-08T20:51:54.900762Z",
     "start_time": "2022-07-08T20:51:54.898642Z"
    },
    "init_cell": true
   },
   "outputs": [],
   "source": [
    "# set thresholds:\n",
    "conserved = {\"rat\":1, \"human\":1, \"combo\":3}\n",
    "rat_only = {\"rat\":1, \"human\":0.5, \"combo\":-2}\n",
    "human_only = {\"rat\":0, \"human\":1.5, \"combo\":-4}"
   ]
  },
  {
   "cell_type": "markdown",
   "metadata": {},
   "source": [
    "Original SubGraph designations come from thresholds:  \n",
    "`conserved = {\"rat\":1, \"human\":1, \"combo\":3}`  \n",
    "`rat_only = {\"rat\":1, \"human\":0.5, \"combo\":-1.5}`  \n",
    "`human_only = {\"rat\":0.5, \"human\":1, \"combo\":-1.5}`\n",
    "\n",
    "**Combo scores are used as follows:**  \n",
    "\n",
    "  \n",
    "Conserved: $z_{rat}\\bullet z_{human} > combo$  \n",
    "  \n",
    "Rat Only: $z_{rat}\\bullet (z_{human} - 1) < combo$  \n",
    "  \n",
    "Human Only: $(z_{rat}-1)\\bullet z_{human} < combo$"
   ]
  },
  {
   "cell_type": "markdown",
   "metadata": {},
   "source": [
    "## Identify subgraphs"
   ]
  },
  {
   "cell_type": "code",
   "execution_count": 91,
   "metadata": {
    "ExecuteTime": {
     "end_time": "2022-07-08T21:03:31.160523Z",
     "start_time": "2022-07-08T21:03:31.155222Z"
    },
    "code_folding": []
   },
   "outputs": [],
   "source": [
    "def assign_sub_graph(data, rat_th=None, human_th=None, combo_th=None, th_dict=None, name=\"conserved\"):\n",
    "    if th_dict is not None:\n",
    "        rat_th = th_dict[\"rat\"]\n",
    "        combo_th = th_dict[\"combo\"]\n",
    "        human_th = th_dict[\"human\"]\n",
    "    if \"subgraph\" not in data.columns:\n",
    "        data = data.assign(subgraph=\"PCNet\")\n",
    "    if name == \"rat\":\n",
    "        data.loc[((data.NPS_r > rat_th) & (data.NPS_h < human_th) & (data.NPS_r * (data.NPS_h - 1) < combo_th)), \n",
    "                 (\"subgraph\")] = \"Rat-Only\"\n",
    "    elif name == \"human\":\n",
    "        data.loc[((data.NPS_r < rat_th) & (data.NPS_h > human_th) & ((data.NPS_r - 1)*(data.NPS_h) < combo_th)), \n",
    "                 (\"subgraph\")] = \"Human-Only\"\n",
    "    else:\n",
    "        data.loc[((data.NPS_r > rat_th) & (data.NPS_h > human_th) & (data.NPS_hr > combo_th)), (\"subgraph\")] = \"Conserved\"\n",
    "    return data"
   ]
  },
  {
   "cell_type": "code",
   "execution_count": 92,
   "metadata": {
    "ExecuteTime": {
     "end_time": "2022-07-08T21:03:31.749177Z",
     "start_time": "2022-07-08T21:03:31.743248Z"
    }
   },
   "outputs": [],
   "source": [
    "data = assign_sub_graph(data, th_dict = conserved, name=\"conserved\")\n",
    "data = assign_sub_graph(data, th_dict = rat_only, name=\"rat\")\n",
    "data = assign_sub_graph(data, th_dict = human_only, name=\"human\")"
   ]
  },
  {
   "cell_type": "code",
   "execution_count": 93,
   "metadata": {
    "ExecuteTime": {
     "end_time": "2022-07-08T21:03:34.647933Z",
     "start_time": "2022-07-08T21:03:34.643428Z"
    }
   },
   "outputs": [
    {
     "data": {
      "text/plain": [
       "subgraph\n",
       "PCNet         16550\n",
       "Human-Only      925\n",
       "Rat-Only        688\n",
       "Conserved       657\n",
       "dtype: int64"
      ]
     },
     "execution_count": 93,
     "metadata": {},
     "output_type": "execute_result"
    }
   ],
   "source": [
    "data.value_counts(\"subgraph\", dropna=False)"
   ]
  },
  {
   "cell_type": "code",
   "execution_count": null,
   "metadata": {},
   "outputs": [],
   "source": [
    "# export the data\n",
    "data.to_csv(DATADIR + \"outputs/rat_only_human_only_networks.tsv\", sep=\"\\t\")"
   ]
  },
  {
   "cell_type": "markdown",
   "metadata": {},
   "source": [
    "## Visualize the species specific networks"
   ]
  },
  {
   "cell_type": "code",
   "execution_count": 86,
   "metadata": {
    "ExecuteTime": {
     "end_time": "2022-07-08T21:02:01.396564Z",
     "start_time": "2022-07-08T21:01:50.342755Z"
    }
   },
   "outputs": [],
   "source": [
    "import seaborn as sns"
   ]
  },
  {
   "cell_type": "code",
   "execution_count": 199,
   "metadata": {
    "ExecuteTime": {
     "end_time": "2022-07-08T21:58:41.834242Z",
     "start_time": "2022-07-08T21:58:41.826089Z"
    },
    "code_folding": [
     0
    ],
    "run_control": {
     "marked": true
    }
   },
   "outputs": [],
   "source": [
    "def plot_species_nps(data, subgraph, th_dict=None, ax=None):\n",
    "    x_points = [(i+0.0001)/10 for i in range(-50,250)]\n",
    "    if subgraph == \"conserved\":\n",
    "        cmap = {\"Conserved\": \"#F5793A\", **{k:\"grey\" for k in [\"Rat-Only\", \"PCNet\", \"Human-Only\"]}}\n",
    "        combo_line = [th_dict[\"combo\"]/x for x in x_points if x > th_dict[\"combo\"]/25]\n",
    "        ax.plot([x for x in x_points if x > th_dict[\"combo\"]/25], combo_line, color=\"#f5793a\")\n",
    "    elif subgraph == \"rat\":\n",
    "        cmap = {\"Rat-Only\": \"#a95aa1\", **{k:\"grey\" for k in [\"Conserved\", \"PCNet\", \"Human-Only\"]}}\n",
    "        combo_line = [th_dict[\"combo\"]/(x-1) for x in x_points if x < 1 + th_dict[\"combo\"]/25]\n",
    "        ax.plot([x for x in x_points if x < 1 + th_dict[\"combo\"]/25], combo_line, color=\"#f5793a\")\n",
    "    elif subgraph == \"human\":\n",
    "        cmap = {\"Human-Only\": \"#85c0f9\", **{k:\"grey\" for k in [\"Rat-Only\", \"PCNet\", \"Conserved\"]}}\n",
    "        combo_line = [1 + th_dict[\"combo\"]/x for x in x_points if x > th_dict[\"combo\"]/-6]\n",
    "        ax.plot([x for x in x_points if x > th_dict[\"combo\"]/-6], combo_line, color=\"#f5793a\")\n",
    "    else:\n",
    "        cmap = {\"Conserved\": \"#F5793A\",\"Rat-Only\": \"#a95aa1\", \"Human-Only\": \"#85c0f9\", \"PCNet\":\"grey\" }\n",
    "    \n",
    "    sns.scatterplot(data=data, x=\"NPS_h\", y=\"NPS_r\", hue=\"subgraph\", palette=cmap, s=5, ax=ax, markers=True, alpha=0.8\n",
    "                )\n",
    "    if th_dict is not None:\n",
    "        ax.hlines(y=th_dict[\"rat\"], xmin=-5, xmax=25, color=\"#a95aa1\", alpha=1, zorder=4)\n",
    "        ax.vlines(x=th_dict[\"human\"], ymin=-5, ymax=25, color=\"#85c0f9\", alpha=1, zorder=3)\n",
    "    \n",
    "    ax.spines['left'].set(position=('data', 0.0), zorder=2)\n",
    "    ax.spines['bottom'].set(position=('data', 0.0), zorder=2)\n",
    "    ax.spines['top'].set_position(('data', 0.0))\n",
    "    ax.spines['right'].set_position(('data', 0.0))"
   ]
  },
  {
   "cell_type": "code",
   "execution_count": 200,
   "metadata": {
    "ExecuteTime": {
     "end_time": "2022-07-08T21:58:46.332307Z",
     "start_time": "2022-07-08T21:58:44.630494Z"
    }
   },
   "outputs": [
    {
     "data": {
      "image/png": "[encoded data removed]",
      "text/plain": [
       "<Figure size 1296x432 with 3 Axes>"
      ]
     },
     "metadata": {
      "needs_background": "light"
     },
     "output_type": "display_data"
    }
   ],
   "source": [
    "fig, [ax1, ax2, ax3] = plt.subplots(nrows=1, ncols=3, figsize=(18, 6))\n",
    "plot_species_nps(data, \"conserved\", conserved, ax1)\n",
    "plot_species_nps(data, \"rat\", rat_only, ax2)\n",
    "plot_species_nps(data, \"human\", human_only, ax3)"
   ]
  },
  {
   "cell_type": "code",
   "execution_count": 216,
   "metadata": {
    "ExecuteTime": {
     "end_time": "2022-07-08T22:03:18.528165Z",
     "start_time": "2022-07-08T22:03:17.025621Z"
    }
   },
   "outputs": [
    {
     "data": {
      "image/png": "[encoded data removed]",
      "text/plain": [
       "<Figure size 864x432 with 2 Axes>"
      ]
     },
     "metadata": {
      "needs_background": "light"
     },
     "output_type": "display_data"
    }
   ],
   "source": [
    "fig, [ax1, ax2] = plt.subplots(nrows=1, ncols=2, figsize=(12,6))\n",
    "plot_species_nps(data, \"all\", ax=ax1)\n",
    "plot_species_nps(data[data.rat_seed+data.human_seed==0], \"all\", ax=ax2)\n",
    "_ = ax2.set_title(\"No seed genes\")\n",
    "_ = ax1.set_title(\"All genes\")"
   ]
  },
  {
   "cell_type": "markdown",
   "metadata": {},
   "source": [
    "## Assess seed gene fractions"
   ]
  },
  {
   "cell_type": "code",
   "execution_count": 227,
   "metadata": {
    "ExecuteTime": {
     "end_time": "2022-07-08T22:11:26.293960Z",
     "start_time": "2022-07-08T22:11:26.286533Z"
    }
   },
   "outputs": [
    {
     "data": {
      "text/html": [
       "<div>\n",
       "<style scoped>\n",
       "    .dataframe tbody tr th:only-of-type {\n",
       "        vertical-align: middle;\n",
       "    }\n",
       "\n",
       "    .dataframe tbody tr th {\n",
       "        vertical-align: top;\n",
       "    }\n",
       "\n",
       "    .dataframe thead th {\n",
       "        text-align: right;\n",
       "    }\n",
       "</style>\n",
       "<table border=\"1\" class=\"dataframe\">\n",
       "  <thead>\n",
       "    <tr style=\"text-align: right;\">\n",
       "      <th></th>\n",
       "      <th>NPS_r</th>\n",
       "      <th>NPS_h</th>\n",
       "      <th>NPS_hr</th>\n",
       "      <th>rat_seed</th>\n",
       "      <th>human_seed</th>\n",
       "      <th>subgraph</th>\n",
       "      <th>overlapping_seeds</th>\n",
       "    </tr>\n",
       "    <tr>\n",
       "      <th>gene</th>\n",
       "      <th></th>\n",
       "      <th></th>\n",
       "      <th></th>\n",
       "      <th></th>\n",
       "      <th></th>\n",
       "      <th></th>\n",
       "      <th></th>\n",
       "    </tr>\n",
       "  </thead>\n",
       "  <tbody>\n",
       "    <tr>\n",
       "      <th>A1BG</th>\n",
       "      <td>0.125314</td>\n",
       "      <td>-0.488576</td>\n",
       "      <td>-0.061226</td>\n",
       "      <td>0</td>\n",
       "      <td>0</td>\n",
       "      <td>PCNet</td>\n",
       "      <td>0</td>\n",
       "    </tr>\n",
       "    <tr>\n",
       "      <th>A1CF</th>\n",
       "      <td>2.540447</td>\n",
       "      <td>2.186042</td>\n",
       "      <td>5.553524</td>\n",
       "      <td>0</td>\n",
       "      <td>0</td>\n",
       "      <td>Conserved</td>\n",
       "      <td>0</td>\n",
       "    </tr>\n",
       "    <tr>\n",
       "      <th>A2M</th>\n",
       "      <td>0.651845</td>\n",
       "      <td>-0.581848</td>\n",
       "      <td>-0.379275</td>\n",
       "      <td>0</td>\n",
       "      <td>0</td>\n",
       "      <td>PCNet</td>\n",
       "      <td>0</td>\n",
       "    </tr>\n",
       "    <tr>\n",
       "      <th>A2ML1</th>\n",
       "      <td>-1.315517</td>\n",
       "      <td>-1.108608</td>\n",
       "      <td>1.458393</td>\n",
       "      <td>0</td>\n",
       "      <td>0</td>\n",
       "      <td>PCNet</td>\n",
       "      <td>0</td>\n",
       "    </tr>\n",
       "    <tr>\n",
       "      <th>A3GALT2</th>\n",
       "      <td>-0.546107</td>\n",
       "      <td>-0.243477</td>\n",
       "      <td>0.132964</td>\n",
       "      <td>0</td>\n",
       "      <td>1</td>\n",
       "      <td>PCNet</td>\n",
       "      <td>0</td>\n",
       "    </tr>\n",
       "  </tbody>\n",
       "</table>\n",
       "</div>"
      ],
      "text/plain": [
       "            NPS_r     NPS_h    NPS_hr  rat_seed  human_seed   subgraph  \\\n",
       "gene                                                                     \n",
       "A1BG     0.125314 -0.488576 -0.061226         0           0      PCNet   \n",
       "A1CF     2.540447  2.186042  5.553524         0           0  Conserved   \n",
       "A2M      0.651845 -0.581848 -0.379275         0           0      PCNet   \n",
       "A2ML1   -1.315517 -1.108608  1.458393         0           0      PCNet   \n",
       "A3GALT2 -0.546107 -0.243477  0.132964         0           1      PCNet   \n",
       "\n",
       "         overlapping_seeds  \n",
       "gene                        \n",
       "A1BG                     0  \n",
       "A1CF                     0  \n",
       "A2M                      0  \n",
       "A2ML1                    0  \n",
       "A3GALT2                  0  "
      ]
     },
     "execution_count": 227,
     "metadata": {},
     "output_type": "execute_result"
    }
   ],
   "source": [
    "data = data.assign(overlapping_seeds=1*(data.rat_seed + data.human_seed==2))\n",
    "data.head()"
   ]
  },
  {
   "cell_type": "code",
   "execution_count": 266,
   "metadata": {
    "ExecuteTime": {
     "end_time": "2022-07-08T22:22:02.968683Z",
     "start_time": "2022-07-08T22:22:02.963738Z"
    }
   },
   "outputs": [],
   "source": [
    "subgraph_stats = data.groupby(\"subgraph\").sum().loc[:, (\"rat_seed\", \"human_seed\", \"overlapping_seeds\")]"
   ]
  },
  {
   "cell_type": "code",
   "execution_count": 273,
   "metadata": {
    "ExecuteTime": {
     "end_time": "2022-07-08T22:23:49.574977Z",
     "start_time": "2022-07-08T22:23:49.567915Z"
    }
   },
   "outputs": [],
   "source": [
    "subgraph_stats = subgraph_stats.join(data.groupby(\"subgraph\").count().loc[:, \"NPS_r\"])\n",
    "subgraph_stats = subgraph_stats.rename(columns={\"NPS_r\":\"count\"})\n",
    "subgraph_stats[\"Network\"] = subgraph_stats[\"count\"].values - subgraph_stats.loc[:,(\"rat_seed\", \"human_seed\", \"overlapping_seeds\")].sum(axis=1).values\n",
    "subgraph_stats.drop(columns=[\"count\"], inplace=True)\n",
    "subgraph_stats = subgraph_stats.loc[:,( \"human_seed\", \"overlapping_seeds\",\"rat_seed\", \"Network\") ]"
   ]
  },
  {
   "cell_type": "code",
   "execution_count": 280,
   "metadata": {
    "ExecuteTime": {
     "end_time": "2022-07-08T22:25:17.710315Z",
     "start_time": "2022-07-08T22:25:17.370873Z"
    }
   },
   "outputs": [
    {
     "data": {
      "text/plain": [
       "(0.0, 1300.0)"
      ]
     },
     "execution_count": 280,
     "metadata": {},
     "output_type": "execute_result"
    },
    {
     "data": {
      "image/png": "[encoded data removed]",
      "text/plain": [
       "<Figure size 432x288 with 1 Axes>"
      ]
     },
     "metadata": {
      "needs_background": "light"
     },
     "output_type": "display_data"
    }
   ],
   "source": [
    "subgraph_stats.loc[[\"Conserved\", \"Rat-Only\", \"Human-Only\"]].plot(kind=\"bar\", stacked=True, color=[\"#85c0f9\", \"#0051a2\",\n",
    "                                                                                                 \"#a95aa1\", \"#F5793a\"])\n",
    "plt.ylim((0, 1300))"
   ]
  },
  {
   "cell_type": "markdown",
   "metadata": {},
   "source": [
    "# Hierarchical Community Detection of Species Specific Networks"
   ]
  },
  {
   "cell_type": "code",
   "execution_count": 32,
   "metadata": {
    "ExecuteTime": {
     "end_time": "2022-03-24T19:28:22.336224Z",
     "start_time": "2022-03-24T19:28:08.440846Z"
    }
   },
   "outputs": [
    {
     "name": "stdout",
     "output_type": "stream",
     "text": [
      "number of nodes:\n",
      "18820\n",
      "\n",
      "number of edges:\n",
      "2693109\n"
     ]
    }
   ],
   "source": [
    "pc_nodes, G = load_pcnet()"
   ]
  },
  {
   "cell_type": "code",
   "execution_count": 33,
   "metadata": {
    "ExecuteTime": {
     "end_time": "2022-03-24T19:28:22.346747Z",
     "start_time": "2022-03-24T19:28:22.337383Z"
    }
   },
   "outputs": [
    {
     "data": {
      "text/html": [
       "<div>\n",
       "<style scoped>\n",
       "    .dataframe tbody tr th:only-of-type {\n",
       "        vertical-align: middle;\n",
       "    }\n",
       "\n",
       "    .dataframe tbody tr th {\n",
       "        vertical-align: top;\n",
       "    }\n",
       "\n",
       "    .dataframe thead th {\n",
       "        text-align: right;\n",
       "    }\n",
       "</style>\n",
       "<table border=\"1\" class=\"dataframe\">\n",
       "  <thead>\n",
       "    <tr style=\"text-align: right;\">\n",
       "      <th></th>\n",
       "      <th>z_rat</th>\n",
       "      <th>z_human</th>\n",
       "      <th>z_both</th>\n",
       "      <th>SubGraph</th>\n",
       "      <th>rat_seed</th>\n",
       "      <th>human_seed</th>\n",
       "      <th>hue</th>\n",
       "      <th>NewSubGraph</th>\n",
       "    </tr>\n",
       "  </thead>\n",
       "  <tbody>\n",
       "    <tr>\n",
       "      <th>UBE2Q1</th>\n",
       "      <td>-1.046722</td>\n",
       "      <td>-0.059048</td>\n",
       "      <td>0.061807</td>\n",
       "      <td>None</td>\n",
       "      <td>0</td>\n",
       "      <td>0</td>\n",
       "      <td>grey</td>\n",
       "      <td>None</td>\n",
       "    </tr>\n",
       "    <tr>\n",
       "      <th>RNF14</th>\n",
       "      <td>0.246439</td>\n",
       "      <td>-0.413490</td>\n",
       "      <td>-0.101900</td>\n",
       "      <td>None</td>\n",
       "      <td>0</td>\n",
       "      <td>0</td>\n",
       "      <td>grey</td>\n",
       "      <td>None</td>\n",
       "    </tr>\n",
       "    <tr>\n",
       "      <th>UBE2Q2</th>\n",
       "      <td>0.128908</td>\n",
       "      <td>-0.090295</td>\n",
       "      <td>-0.011640</td>\n",
       "      <td>None</td>\n",
       "      <td>0</td>\n",
       "      <td>1</td>\n",
       "      <td>grey</td>\n",
       "      <td>None</td>\n",
       "    </tr>\n",
       "    <tr>\n",
       "      <th>TMCO1</th>\n",
       "      <td>1.451465</td>\n",
       "      <td>-0.319948</td>\n",
       "      <td>-0.464393</td>\n",
       "      <td>rat-only</td>\n",
       "      <td>0</td>\n",
       "      <td>0</td>\n",
       "      <td>grey</td>\n",
       "      <td>None</td>\n",
       "    </tr>\n",
       "    <tr>\n",
       "      <th>UBAC1</th>\n",
       "      <td>-0.464716</td>\n",
       "      <td>1.268305</td>\n",
       "      <td>-0.589401</td>\n",
       "      <td>human-only</td>\n",
       "      <td>0</td>\n",
       "      <td>0</td>\n",
       "      <td>grey</td>\n",
       "      <td>None</td>\n",
       "    </tr>\n",
       "  </tbody>\n",
       "</table>\n",
       "</div>"
      ],
      "text/plain": [
       "           z_rat   z_human    z_both    SubGraph  rat_seed  human_seed   hue  \\\n",
       "UBE2Q1 -1.046722 -0.059048  0.061807        None         0           0  grey   \n",
       "RNF14   0.246439 -0.413490 -0.101900        None         0           0  grey   \n",
       "UBE2Q2  0.128908 -0.090295 -0.011640        None         0           1  grey   \n",
       "TMCO1   1.451465 -0.319948 -0.464393    rat-only         0           0  grey   \n",
       "UBAC1  -0.464716  1.268305 -0.589401  human-only         0           0  grey   \n",
       "\n",
       "       NewSubGraph  \n",
       "UBE2Q1        None  \n",
       "RNF14         None  \n",
       "UBE2Q2        None  \n",
       "TMCO1         None  \n",
       "UBAC1         None  "
      ]
     },
     "execution_count": 33,
     "metadata": {},
     "output_type": "execute_result"
    }
   ],
   "source": [
    "data_all.head()"
   ]
  },
  {
   "cell_type": "markdown",
   "metadata": {},
   "source": [
    "### Set Up/Functions"
   ]
  },
  {
   "cell_type": "code",
   "execution_count": null,
   "metadata": {
    "ExecuteTime": {
     "end_time": "2022-07-08T20:19:20.558247Z",
     "start_time": "2022-07-08T20:19:20.558238Z"
    },
    "code_folding": [],
    "init_cell": true,
    "run_control": {
     "marked": true
    }
   },
   "outputs": [],
   "source": [
    "from gprofiler import GProfiler\n",
    "gp = GProfiler(\"MyToolName/0.1\")\n",
    "\n",
    "def create_hierarchy(G_cx, max_resolution=10):\n",
    "    cd = cdapsutil.CommunityDetection()\n",
    "    G_hier = cd.run_community_detection(G_cx, algorithm='hidefv1.1beta',arguments={'--maxres':str(max_resolution)})\n",
    "    print('Hierarchy name: ' + str(G_hier.get_name()))\n",
    "    print('# nodes: ' + str(len(G_hier.get_nodes())))\n",
    "    print('# edges: ' + str(len(G_hier.get_edges())))\n",
    "    hier_nx = G_hier.to_networkx(mode='default')\n",
    "    nodes = hier_nx.nodes()\n",
    "    # print out interactome num nodes and edges for diagnostic purposes\n",
    "    print('number of nodes:')\n",
    "    print(len(hier_nx.nodes()))\n",
    "    print('\\nnumber of edges:')\n",
    "    print(len(hier_nx.edges()))\n",
    "    # add node attributes to dataframe for easier access\n",
    "    hier_df = pd.DataFrame.from_dict(dict(hier_nx.nodes(data=True)), orient='index')\n",
    "    # relabel nodes in G_ASD\n",
    "    # G_ASD=nx.relabel_nodes(G_ASD,dict(hier_df['CD_CommunityName']))\n",
    "    hier_df['system_ID']=hier_df.index.tolist()\n",
    "    # some columns are not the right type\n",
    "    hier_df['CD_MemberList_Size']=[int(x) for x in hier_df['CD_MemberList_Size'].tolist()]\n",
    "    hier_df['HiDeF_persistence']=[int(x) for x in hier_df['HiDeF_persistence'].tolist()]\n",
    "    hier_df.set_index(\"name\", inplace=True, drop=True)\n",
    "    hier_df.index.name=None\n",
    "    return G_hier, hier_df\n",
    "\n",
    "\n",
    "def annotate_hierarchy(hier_df):\n",
    "    system_name_list = []\n",
    "    all_results = []\n",
    "    for p in hier_df.index.tolist():\n",
    "        try:\n",
    "            focal_genes=hier_df['CD_MemberList'].loc[p].split(' ')\n",
    "        except AttributeError:\n",
    "            focal_genes = hier_df['CD_MemberList'].loc[p]\n",
    "        print(p, \":\", len(focal_genes))\n",
    "        if len(focal_genes)>2:\n",
    "            gp_temp = pd.DataFrame(gp.profile(focal_genes,significance_threshold_method='fdr',\n",
    "                                               sources=['GO:BP'],no_evidences=False))\n",
    "            if len(gp_temp)>0: # make sure data is not empty\n",
    "            \n",
    "            # make sure terms are specific, and overlap with at least 3 genes\n",
    "                gp_temp = gp_temp[(gp_temp['term_size']<1000)]\n",
    "                gp_temp = gp_temp[gp_temp['intersection_size']>=3]\n",
    "            \n",
    "                gp_temp = gp_temp[gp_temp['p_value']<1E-3] # set a stringent pvalue threshold\n",
    "            \n",
    "            # try sorting by precision + recall\n",
    "            #gp_temp['prec_plus_recall']=gp_temp['precision']+gp_temp['recall']\n",
    "                gp_temp = gp_temp.sort_values('p_value',ascending=True)\n",
    "            \n",
    "                gp_temp.index=gp_temp['name']\n",
    "                for t in gp_temp.index.tolist():\n",
    "                    if t.lower().find('dopamin')>-1:\n",
    "                        print(gp_temp.loc[t][['p_value','intersections']])\n",
    "                    \n",
    "                gp_cols_keep = ['description','name','p_value','precision','recall',\n",
    "                            'query_size','effective_domain_size','intersection_size','native','source',\n",
    "                           'term_size','intersections', 'community']\n",
    "\n",
    "            \n",
    "                if len(gp_temp)>1:\n",
    "                    system_name_list.append(gp_temp.head(1)['name'].tolist()[0])\n",
    "                #gp_temp[gp_cols_keep].to_csv('../tables/rat_human_BMI_hierarchy_GO/'+str(p)+'.csv',sep=',',\n",
    "                      #    index=False)\n",
    "                    gp_temp = gp_temp.assign(community=p)\n",
    "                    all_results.append(gp_temp[gp_cols_keep])\n",
    "                else:\n",
    "                    system_name_list.append(p)\n",
    "            else:\n",
    "                system_name_list.append(p)\n",
    "        else:\n",
    "            system_name_list.append(p)\n",
    "    return pd.concat(all_results)\n",
    "        "
   ]
  },
  {
   "cell_type": "code",
   "execution_count": null,
   "metadata": {
    "ExecuteTime": {
     "end_time": "2022-07-08T20:19:20.558712Z",
     "start_time": "2022-07-08T20:19:20.558703Z"
    },
    "init_cell": true
   },
   "outputs": [],
   "source": [
    "import sys\n",
    "sys.path.append(\"..\")\n",
    "\n",
    "from analysis_functions import *\n",
    "from plotting_functions import *\n",
    "from updated_netcoloc_functions import *"
   ]
  },
  {
   "cell_type": "code",
   "execution_count": null,
   "metadata": {
    "ExecuteTime": {
     "end_time": "2022-07-08T20:19:20.559239Z",
     "start_time": "2022-07-08T20:19:20.559231Z"
    },
    "init_cell": true
   },
   "outputs": [],
   "source": [
    "pc_nodes, G = load_pcnet()"
   ]
  },
  {
   "cell_type": "code",
   "execution_count": null,
   "metadata": {
    "ExecuteTime": {
     "end_time": "2022-07-08T20:19:20.559688Z",
     "start_time": "2022-07-08T20:19:20.559679Z"
    },
    "init_cell": true
   },
   "outputs": [],
   "source": [
    "updated_pc_nodes = mg.querymany(pc_nodes, as_dataframe=True, species='human', scopes='symbol, alias', fields='symbol')"
   ]
  },
  {
   "cell_type": "code",
   "execution_count": null,
   "metadata": {
    "ExecuteTime": {
     "end_time": "2022-07-08T20:19:20.560112Z",
     "start_time": "2022-07-08T20:19:20.560104Z"
    },
    "init_cell": true
   },
   "outputs": [],
   "source": [
    "updated_pc_nodes = updated_pc_nodes.sort_values(by=\"_score\", ascending=False)\n",
    "updated_pc_nodes = updated_pc_nodes.drop_duplicates(subset=[\"symbol\"])"
   ]
  },
  {
   "cell_type": "code",
   "execution_count": null,
   "metadata": {
    "ExecuteTime": {
     "end_time": "2022-07-08T20:19:20.560554Z",
     "start_time": "2022-07-08T20:19:20.560545Z"
    },
    "init_cell": true
   },
   "outputs": [],
   "source": [
    "mgi_df = load_MGI_mouseKO_data(url='http://www.informatics.jax.org/downloads/reports/MGI_PhenoGenoMP.rpt',\n",
    "                                         map_using=\"mgi\")"
   ]
  },
  {
   "cell_type": "code",
   "execution_count": null,
   "metadata": {
    "ExecuteTime": {
     "end_time": "2022-07-08T20:19:20.560976Z",
     "start_time": "2022-07-08T20:19:20.560968Z"
    },
    "init_cell": true
   },
   "outputs": [],
   "source": [
    "mgi_df = change_symbols(mgi_df, updated_pc_nodes)"
   ]
  },
  {
   "cell_type": "code",
   "execution_count": null,
   "metadata": {
    "ExecuteTime": {
     "end_time": "2022-07-08T20:19:20.561410Z",
     "start_time": "2022-07-08T20:19:20.561402Z"
    },
    "init_cell": true
   },
   "outputs": [],
   "source": [
    "MPO2 = load_MPO(url='http://www.informatics.jax.org/downloads/reports/MPheno_OBO.ontology', use_genes=True, mapping=mgi_df)"
   ]
  },
  {
   "cell_type": "code",
   "execution_count": null,
   "metadata": {
    "ExecuteTime": {
     "end_time": "2022-07-08T20:19:20.561883Z",
     "start_time": "2022-07-08T20:19:20.561875Z"
    },
    "init_cell": true
   },
   "outputs": [],
   "source": [
    "mp_graph = get_mp_graph()\n",
    "top_level = [node for node in nx.dfs_preorder_nodes(mp_graph, \"MP:0000001\", 1) if node not in [\"MP:0003012\", \"MP:0002873\"]][1:]"
   ]
  },
  {
   "cell_type": "code",
   "execution_count": null,
   "metadata": {
    "ExecuteTime": {
     "end_time": "2022-07-08T20:19:20.562446Z",
     "start_time": "2022-07-08T20:19:20.562438Z"
    },
    "init_cell": true
   },
   "outputs": [],
   "source": [
    "def get_seed_gene_fractions(hier_df, seed_human, seed_rat):\n",
    "    try:\n",
    "        hier_df[\"CD_MemberList\"] = hier_df.CD_MemberList.apply(lambda x: x.split(\" \"))\n",
    "    except AttributeError:\n",
    "        pass\n",
    "    comm_genes = hier_df.explode(\"CD_MemberList\")\n",
    "    comm_genes[\"h_seed\"] = [1 if x in seed_human else 0 for x in comm_genes.CD_MemberList]\n",
    "    comm_genes[\"r_seed\"] = [1 if x in seed_rat else 0 for x in comm_genes.CD_MemberList]\n",
    "    comm_genes[\"overlap\"] = comm_genes.apply(lambda x: x.h_seed * x.r_seed, axis=1)\n",
    "    a = comm_genes.groupby(level=0).overlap.sum()\n",
    "    b = comm_genes[comm_genes.overlap != 1].groupby(level=0).h_seed.sum()\n",
    "    c = comm_genes[comm_genes.overlap != 1].groupby(level=0).r_seed.sum()\n",
    "    d = comm_genes.groupby(level=0).CD_MemberList.count()\n",
    "    counts = pd.concat([a,b,c,d], axis=1)\n",
    "    counts[\"network\"] = counts.apply(lambda x: x.CD_MemberList - x.overlap - x.h_seed - x.r_seed, axis=1)\n",
    "    fracs = counts.div(counts.CD_MemberList, axis=0)\n",
    "    return fracs\n",
    "    \n",
    "def load_human_seed_genes(filepath, interactome_nodes, trait=''):\n",
    "    \"\"\"\n",
    "    :param filepath:\n",
    "    :param interactome_nodes:\n",
    "    :param trait:\n",
    "    \"\"\"\n",
    "    all_scores = pd.read_csv(filepath, sep=\"\\t\", index_col='gene_symbol')\n",
    "    # subset to genes in the interactome\n",
    "    all_scores = all_scores.loc[list(np.intersect1d(all_scores.index.tolist(), interactome_nodes))]\n",
    "    # Calculate bonferroni corrected pvalue (alpha=0.05)\n",
    "    bonf_p = .05/len(all_scores)\n",
    "    # Get significant genes\n",
    "    seeds = all_scores[all_scores['pvalue'] < bonf_p].index.tolist()\n",
    "    print(\"Number of\",trait,\"seeds:\", len(seeds))\n",
    "    return seeds"
   ]
  },
  {
   "cell_type": "code",
   "execution_count": null,
   "metadata": {
    "ExecuteTime": {
     "end_time": "2022-07-08T20:19:20.562882Z",
     "start_time": "2022-07-08T20:19:20.562874Z"
    },
    "init_cell": true
   },
   "outputs": [],
   "source": [
    "SEEDDIR= '~/Data/rat/data/final/'# location of input datasets\n"
   ]
  },
  {
   "cell_type": "code",
   "execution_count": 68,
   "metadata": {
    "ExecuteTime": {
     "end_time": "2022-03-24T22:36:58.888102Z",
     "start_time": "2022-03-24T22:36:58.683432Z"
    }
   },
   "outputs": [
    {
     "name": "stdout",
     "output_type": "stream",
     "text": [
      "Number of BMI seeds: 1958\n"
     ]
    }
   ],
   "source": [
    "# add fractions seed genes\n",
    "seed_bin_rat_BMI=pd.read_csv(SEEDDIR+'ratBMI_seed_'+'relaxed'+'.txt',sep='\\t')['0'].tolist()\n",
    "seed_bin_human_BMI = load_human_seed_genes(SEEDDIR+'GIANT_BMI_pascal.sum.genescores.txt', \n",
    "                                           pc_nodes, 'BMI')"
   ]
  },
  {
   "cell_type": "code",
   "execution_count": null,
   "metadata": {
    "ExecuteTime": {
     "end_time": "2022-07-08T20:19:20.563481Z",
     "start_time": "2022-07-08T20:19:20.563472Z"
    },
    "init_cell": true
   },
   "outputs": [],
   "source": [
    "# add key annotations for BMI\n",
    "mps = [num_to_mp(x) for x in [5378, 2089,5451,4196, 3956,10866, 1697]]"
   ]
  },
  {
   "cell_type": "markdown",
   "metadata": {},
   "source": [
    "### Rat"
   ]
  },
  {
   "cell_type": "code",
   "execution_count": 100,
   "metadata": {
    "ExecuteTime": {
     "end_time": "2022-03-24T19:48:19.283734Z",
     "start_time": "2022-03-24T19:48:19.160232Z"
    }
   },
   "outputs": [],
   "source": [
    "G_rat = G.subgraph(nodes=data_all.loc[data_all.NewSubGraph==\"rat-only\"].index)\n",
    "G_rat_cx = ndex2.create_nice_cx_from_networkx(G_rat)\n",
    "G_rat_cx.set_name(\"RatOnly\")"
   ]
  },
  {
   "cell_type": "code",
   "execution_count": 101,
   "metadata": {
    "ExecuteTime": {
     "end_time": "2022-03-24T19:48:23.343892Z",
     "start_time": "2022-03-24T19:48:19.285381Z"
    }
   },
   "outputs": [
    {
     "name": "stdout",
     "output_type": "stream",
     "text": [
      "Hierarchy name: hidefv1.1beta_(none)_RatOnly\n",
      "# nodes: 67\n",
      "# edges: 69\n",
      "number of nodes:\n",
      "67\n",
      "\n",
      "number of edges:\n",
      "69\n"
     ]
    }
   ],
   "source": [
    "G_rat, hier_rat_df = create_hierarchy(G_rat_cx)"
   ]
  },
  {
   "cell_type": "code",
   "execution_count": 102,
   "metadata": {
    "ExecuteTime": {
     "end_time": "2022-03-24T19:49:34.426207Z",
     "start_time": "2022-03-24T19:48:23.344668Z"
    },
    "scrolled": true
   },
   "outputs": [
    {
     "name": "stdout",
     "output_type": "stream",
     "text": [
      "C688 : 654\n",
      "C689 : 236\n",
      "C690 : 206\n",
      "C691 : 56\n",
      "C695 : 26\n",
      "C699 : 19\n",
      "C700 : 18\n",
      "C702 : 17\n",
      "C703 : 16\n",
      "C704 : 15\n",
      "C712 : 11\n",
      "C715 : 11\n",
      "C716 : 11\n",
      "C718 : 10\n",
      "C722 : 9\n",
      "C724 : 8\n",
      "C727 : 8\n",
      "C729 : 8\n",
      "C730 : 8\n",
      "C731 : 7\n",
      "C734 : 7\n",
      "C735 : 6\n",
      "C750 : 4\n",
      "C736 : 6\n",
      "C737 : 6\n",
      "C741 : 5\n",
      "C742 : 5\n",
      "C746 : 4\n",
      "C747 : 4\n",
      "C748 : 4\n",
      "C719 : 10\n",
      "C720 : 10\n",
      "C751 : 4\n",
      "C726 : 8\n",
      "C694 : 33\n",
      "C728 : 8\n",
      "C732 : 7\n",
      "C705 : 13\n",
      "C708 : 12\n",
      "C709 : 12\n",
      "C710 : 12\n",
      "C743 : 5\n",
      "C744 : 5\n",
      "C692 : 41\n",
      "C696 : 26\n",
      "C701 : 17\n",
      "C753 : 4\n",
      "C738 : 6\n",
      "C693 : 33\n",
      "C697 : 21\n",
      "C706 : 12\n",
      "C698 : 20\n",
      "C752 : 4\n",
      "C714 : 11\n",
      "C711 : 12\n",
      "C721 : 9\n",
      "C717 : 11\n",
      "C754 : 4\n",
      "C733 : 7\n",
      "C707 : 12\n",
      "C713 : 11\n",
      "C723 : 8\n",
      "C739 : 6\n",
      "C749 : 4\n",
      "C725 : 8\n",
      "C745 : 5\n",
      "C740 : 6\n"
     ]
    }
   ],
   "source": [
    "rat_anno = annotate_hierarchy(hier_rat_df)"
   ]
  },
  {
   "cell_type": "code",
   "execution_count": 103,
   "metadata": {
    "ExecuteTime": {
     "end_time": "2022-03-24T19:49:34.444362Z",
     "start_time": "2022-03-24T19:49:34.427238Z"
    }
   },
   "outputs": [],
   "source": [
    "rat_anno.to_csv(\"~/Data/Transfer/rat/rat_only_all_annotations.tsv\", sep=\"\\t\")"
   ]
  },
  {
   "cell_type": "code",
   "execution_count": 23,
   "metadata": {
    "ExecuteTime": {
     "end_time": "2022-03-24T21:53:45.341328Z",
     "start_time": "2022-03-24T21:53:17.227130Z"
    }
   },
   "outputs": [
    {
     "name": "stderr",
     "output_type": "stream",
     "text": [
      "100%|██████████| 67/67 [00:25<00:00,  2.65it/s]\n"
     ]
    }
   ],
   "source": [
    "rat_phenotypes = []\n",
    "term_counts, gene_mapping, term_mapping = genes_per_node(MPO2)\n",
    "for community in tqdm(hier_rat_df.index):\n",
    "    x = community_term_enrichment(community, hier_rat_df, MPO2, mgi_df, term_counts, gene_mapping, G_int=G)\n",
    "    x = x.assign(name=community)\n",
    "    rat_phenotypes.append(x)"
   ]
  },
  {
   "cell_type": "code",
   "execution_count": 24,
   "metadata": {
    "ExecuteTime": {
     "end_time": "2022-03-24T21:54:12.921238Z",
     "start_time": "2022-03-24T21:54:12.906081Z"
    }
   },
   "outputs": [],
   "source": [
    "rat_results = pd.concat(rat_phenotypes)"
   ]
  },
  {
   "cell_type": "code",
   "execution_count": 26,
   "metadata": {
    "ExecuteTime": {
     "end_time": "2022-03-24T21:54:51.703643Z",
     "start_time": "2022-03-24T21:54:51.391653Z"
    }
   },
   "outputs": [],
   "source": [
    "rat_results.to_csv(DATADIR+\"rat_only_enrichment_results.tsv\", sep=\"\\t\")"
   ]
  },
  {
   "cell_type": "code",
   "execution_count": 106,
   "metadata": {
    "ExecuteTime": {
     "end_time": "2022-03-24T19:50:03.931336Z",
     "start_time": "2022-03-24T19:50:03.804922Z"
    }
   },
   "outputs": [],
   "source": [
    "rat_fracs = get_seed_gene_fractions(hier_rat_df, seed_bin_human_BMI, seed_bin_rat_BMI)\n",
    "hier_rat_df= hier_rat_df.join(rat_fracs.loc[:, (\"h_seed\", \"r_seed\", \"overlap\", \"network\")])"
   ]
  },
  {
   "cell_type": "code",
   "execution_count": 107,
   "metadata": {
    "ExecuteTime": {
     "end_time": "2022-03-24T19:50:03.940495Z",
     "start_time": "2022-03-24T19:50:03.932239Z"
    }
   },
   "outputs": [],
   "source": [
    "\n",
    "rat_gbs = rat_results.loc[mps]\n",
    "rat_gbs = rat_gbs[rat_gbs[\"OR_p\"] < 0.05]\n",
    "rat_gbs = rat_gbs.pivot(index=\"name\", columns=[\"description\"], values=[\"OR\"])"
   ]
  },
  {
   "cell_type": "code",
   "execution_count": 108,
   "metadata": {
    "ExecuteTime": {
     "end_time": "2022-03-24T19:50:03.984601Z",
     "start_time": "2022-03-24T19:50:03.941382Z"
    }
   },
   "outputs": [],
   "source": [
    "hier_rat_df = hier_rat_df.join(rat_gbs.droplevel(level=0, axis=1))"
   ]
  },
  {
   "cell_type": "code",
   "execution_count": 109,
   "metadata": {
    "ExecuteTime": {
     "end_time": "2022-03-24T19:50:04.038486Z",
     "start_time": "2022-03-24T19:50:03.985381Z"
    }
   },
   "outputs": [],
   "source": [
    "# add initial name from gprofiler\n",
    "rat_anno_filt = rat_anno[rat_anno[\"term_size\"] < 1000]\n",
    "rat_anno_filt[\"percent\"] = rat_anno_filt[\"intersection_size\"] / rat_anno_filt[\"query_size\"]\n",
    "rat_annot_filt = rat_anno_filt[rat_anno_filt[\"percent\"] > 0.25].sort_values(by=\"p_value\")"
   ]
  },
  {
   "cell_type": "code",
   "execution_count": 110,
   "metadata": {
    "ExecuteTime": {
     "end_time": "2022-03-24T19:50:04.050067Z",
     "start_time": "2022-03-24T19:50:04.039368Z"
    }
   },
   "outputs": [],
   "source": [
    "rat_annotations = rat_annot_filt.drop_duplicates(subset=\"community\").loc[:, (\"name\", \"p_value\", \"intersection_size\", \"community\")]\n",
    "rat_annotations.set_index(\"community\", inplace=True, drop=True)\n",
    "rat_annotations.index.name=None\n",
    "rat_annotations.columns = [\"go_annotation\", \"GO_p\", \"GO_intersect\"]"
   ]
  },
  {
   "cell_type": "code",
   "execution_count": 111,
   "metadata": {
    "ExecuteTime": {
     "end_time": "2022-03-24T19:50:04.060213Z",
     "start_time": "2022-03-24T19:50:04.052793Z"
    }
   },
   "outputs": [],
   "source": [
    "hier_rat_df= hier_rat_df.join(rat_annotations)"
   ]
  },
  {
   "cell_type": "code",
   "execution_count": 112,
   "metadata": {
    "ExecuteTime": {
     "end_time": "2022-03-24T19:50:04.089524Z",
     "start_time": "2022-03-24T19:50:04.060963Z"
    }
   },
   "outputs": [],
   "source": [
    "\n",
    "hier_rat_df.to_csv(DATADIR+\"hier_rat_only_df.tsv\", sep=\"\\t\")"
   ]
  },
  {
   "cell_type": "code",
   "execution_count": null,
   "metadata": {},
   "outputs": [],
   "source": []
  },
  {
   "cell_type": "markdown",
   "metadata": {},
   "source": [
    "### Human"
   ]
  },
  {
   "cell_type": "code",
   "execution_count": 113,
   "metadata": {
    "ExecuteTime": {
     "end_time": "2022-03-24T19:50:04.218952Z",
     "start_time": "2022-03-24T19:50:04.091415Z"
    }
   },
   "outputs": [],
   "source": [
    "G_human = G.subgraph(nodes=data_all.loc[data_all.NewSubGraph==\"human-only\"].index)\n",
    "G_human_cx = ndex2.create_nice_cx_from_networkx(G_human)\n",
    "G_human_cx.set_name(\"HumanOnly\")"
   ]
  },
  {
   "cell_type": "code",
   "execution_count": 114,
   "metadata": {
    "ExecuteTime": {
     "end_time": "2022-03-24T19:50:09.283265Z",
     "start_time": "2022-03-24T19:50:04.219904Z"
    }
   },
   "outputs": [
    {
     "name": "stdout",
     "output_type": "stream",
     "text": [
      "Hierarchy name: hidefv1.1beta_(none)_HumanOnly\n",
      "# nodes: 54\n",
      "# edges: 54\n",
      "number of nodes:\n",
      "54\n",
      "\n",
      "number of edges:\n",
      "54\n"
     ]
    }
   ],
   "source": [
    "G_human, hier_human_df = create_hierarchy(G_human_cx)"
   ]
  },
  {
   "cell_type": "code",
   "execution_count": 115,
   "metadata": {
    "ExecuteTime": {
     "end_time": "2022-03-24T19:50:09.298138Z",
     "start_time": "2022-03-24T19:50:09.284178Z"
    }
   },
   "outputs": [
    {
     "data": {
      "text/html": [
       "<div>\n",
       "<style scoped>\n",
       "    .dataframe tbody tr th:only-of-type {\n",
       "        vertical-align: middle;\n",
       "    }\n",
       "\n",
       "    .dataframe tbody tr th {\n",
       "        vertical-align: top;\n",
       "    }\n",
       "\n",
       "    .dataframe thead th {\n",
       "        text-align: right;\n",
       "    }\n",
       "</style>\n",
       "<table border=\"1\" class=\"dataframe\">\n",
       "  <thead>\n",
       "    <tr style=\"text-align: right;\">\n",
       "      <th></th>\n",
       "      <th>CD_MemberList</th>\n",
       "      <th>CD_MemberList_Size</th>\n",
       "      <th>CD_Labeled</th>\n",
       "      <th>CD_MemberList_LogSize</th>\n",
       "      <th>CD_CommunityName</th>\n",
       "      <th>CD_AnnotatedMembers</th>\n",
       "      <th>CD_AnnotatedMembers_Size</th>\n",
       "      <th>CD_AnnotatedMembers_Overlap</th>\n",
       "      <th>CD_AnnotatedMembers_Pvalue</th>\n",
       "      <th>HiDeF_persistence</th>\n",
       "      <th>represents</th>\n",
       "      <th>system_ID</th>\n",
       "    </tr>\n",
       "  </thead>\n",
       "  <tbody>\n",
       "    <tr>\n",
       "      <th>C925</th>\n",
       "      <td>GXYLT2 DDX19B CDC37 HOXC12 FREM3 ULK1 ARPC1A C...</td>\n",
       "      <td>914</td>\n",
       "      <td>False</td>\n",
       "      <td>9.836</td>\n",
       "      <td></td>\n",
       "      <td></td>\n",
       "      <td>0</td>\n",
       "      <td>0.0</td>\n",
       "      <td>0.0</td>\n",
       "      <td>110</td>\n",
       "      <td>C925</td>\n",
       "      <td>0</td>\n",
       "    </tr>\n",
       "    <tr>\n",
       "      <th>C928</th>\n",
       "      <td>BOLL C3orf20 LRRC66 ITLN1 JUND FIBCD1 PRSS55 I...</td>\n",
       "      <td>49</td>\n",
       "      <td>False</td>\n",
       "      <td>5.615</td>\n",
       "      <td></td>\n",
       "      <td></td>\n",
       "      <td>0</td>\n",
       "      <td>0.0</td>\n",
       "      <td>0.0</td>\n",
       "      <td>8</td>\n",
       "      <td>C928</td>\n",
       "      <td>1</td>\n",
       "    </tr>\n",
       "    <tr>\n",
       "      <th>C960</th>\n",
       "      <td>TGFB1 SLC35F4 SLC35G5 SLC35G2 SLC35F5</td>\n",
       "      <td>5</td>\n",
       "      <td>False</td>\n",
       "      <td>2.322</td>\n",
       "      <td></td>\n",
       "      <td></td>\n",
       "      <td>0</td>\n",
       "      <td>0.0</td>\n",
       "      <td>0.0</td>\n",
       "      <td>97</td>\n",
       "      <td>C960</td>\n",
       "      <td>2</td>\n",
       "    </tr>\n",
       "    <tr>\n",
       "      <th>C964</th>\n",
       "      <td>SENP3 NCKAP5L ZNF438 CCDC122 RABEP1</td>\n",
       "      <td>5</td>\n",
       "      <td>False</td>\n",
       "      <td>2.322</td>\n",
       "      <td></td>\n",
       "      <td></td>\n",
       "      <td>0</td>\n",
       "      <td>0.0</td>\n",
       "      <td>0.0</td>\n",
       "      <td>6</td>\n",
       "      <td>C964</td>\n",
       "      <td>3</td>\n",
       "    </tr>\n",
       "    <tr>\n",
       "      <th>C969</th>\n",
       "      <td>SEC16B PRDX2 MSRA ERP44</td>\n",
       "      <td>4</td>\n",
       "      <td>False</td>\n",
       "      <td>2.0</td>\n",
       "      <td></td>\n",
       "      <td></td>\n",
       "      <td>0</td>\n",
       "      <td>0.0</td>\n",
       "      <td>0.0</td>\n",
       "      <td>12</td>\n",
       "      <td>C969</td>\n",
       "      <td>4</td>\n",
       "    </tr>\n",
       "    <tr>\n",
       "      <th>C938</th>\n",
       "      <td>KCNRG AP5B1 KCTD13 KIAA1841 AGBL5 AGBL4 AGBL3 ...</td>\n",
       "      <td>11</td>\n",
       "      <td>False</td>\n",
       "      <td>3.459</td>\n",
       "      <td></td>\n",
       "      <td></td>\n",
       "      <td>0</td>\n",
       "      <td>0.0</td>\n",
       "      <td>0.0</td>\n",
       "      <td>13</td>\n",
       "      <td>C938</td>\n",
       "      <td>5</td>\n",
       "    </tr>\n",
       "    <tr>\n",
       "      <th>C970</th>\n",
       "      <td>ATP2A3 ATP13A1 ATP8B3 ATP13A5</td>\n",
       "      <td>4</td>\n",
       "      <td>False</td>\n",
       "      <td>2.0</td>\n",
       "      <td></td>\n",
       "      <td></td>\n",
       "      <td>0</td>\n",
       "      <td>0.0</td>\n",
       "      <td>0.0</td>\n",
       "      <td>21</td>\n",
       "      <td>C970</td>\n",
       "      <td>6</td>\n",
       "    </tr>\n",
       "    <tr>\n",
       "      <th>C941</th>\n",
       "      <td>BCL3 ANKRD54 ANKRD29 ANKRD39 NFKBID ANKDD1B AN...</td>\n",
       "      <td>9</td>\n",
       "      <td>False</td>\n",
       "      <td>3.17</td>\n",
       "      <td></td>\n",
       "      <td></td>\n",
       "      <td>0</td>\n",
       "      <td>0.0</td>\n",
       "      <td>0.0</td>\n",
       "      <td>28</td>\n",
       "      <td>C941</td>\n",
       "      <td>7</td>\n",
       "    </tr>\n",
       "    <tr>\n",
       "      <th>C942</th>\n",
       "      <td>BHLHE22 MAMLD1 CCND1 NCOR1 HES5 HEYL HEY2 MAML...</td>\n",
       "      <td>9</td>\n",
       "      <td>False</td>\n",
       "      <td>3.17</td>\n",
       "      <td></td>\n",
       "      <td></td>\n",
       "      <td>0</td>\n",
       "      <td>0.0</td>\n",
       "      <td>0.0</td>\n",
       "      <td>19</td>\n",
       "      <td>C942</td>\n",
       "      <td>8</td>\n",
       "    </tr>\n",
       "    <tr>\n",
       "      <th>C958</th>\n",
       "      <td>PEPD AFG1L C12orf60 CCDC171 LDHAL6B MDH2</td>\n",
       "      <td>6</td>\n",
       "      <td>False</td>\n",
       "      <td>2.585</td>\n",
       "      <td></td>\n",
       "      <td></td>\n",
       "      <td>0</td>\n",
       "      <td>0.0</td>\n",
       "      <td>0.0</td>\n",
       "      <td>7</td>\n",
       "      <td>C958</td>\n",
       "      <td>9</td>\n",
       "    </tr>\n",
       "    <tr>\n",
       "      <th>C949</th>\n",
       "      <td>RGL3 ZBTB26 FAM200A GIPC2 BTBD19 HRAS SUMO1P1</td>\n",
       "      <td>7</td>\n",
       "      <td>False</td>\n",
       "      <td>2.807</td>\n",
       "      <td></td>\n",
       "      <td></td>\n",
       "      <td>0</td>\n",
       "      <td>0.0</td>\n",
       "      <td>0.0</td>\n",
       "      <td>23</td>\n",
       "      <td>C949</td>\n",
       "      <td>10</td>\n",
       "    </tr>\n",
       "    <tr>\n",
       "      <th>C952</th>\n",
       "      <td>NCKAP5L TSC2 MTOR GDI2P1 RPTOR CCDC122 RABEP1</td>\n",
       "      <td>7</td>\n",
       "      <td>False</td>\n",
       "      <td>2.807</td>\n",
       "      <td></td>\n",
       "      <td></td>\n",
       "      <td>0</td>\n",
       "      <td>0.0</td>\n",
       "      <td>0.0</td>\n",
       "      <td>7</td>\n",
       "      <td>C952</td>\n",
       "      <td>11</td>\n",
       "    </tr>\n",
       "    <tr>\n",
       "      <th>C959</th>\n",
       "      <td>TMEM60 ZBTB26 BTBD19 GIPC2 MSANTD4 SUMO1P1</td>\n",
       "      <td>6</td>\n",
       "      <td>False</td>\n",
       "      <td>2.585</td>\n",
       "      <td></td>\n",
       "      <td></td>\n",
       "      <td>0</td>\n",
       "      <td>0.0</td>\n",
       "      <td>0.0</td>\n",
       "      <td>5</td>\n",
       "      <td>C959</td>\n",
       "      <td>12</td>\n",
       "    </tr>\n",
       "    <tr>\n",
       "      <th>C926</th>\n",
       "      <td>GXYLT2 DDX19B CDC37 ULK1 ARPC1A CORO1A DECR2 C...</td>\n",
       "      <td>475</td>\n",
       "      <td>False</td>\n",
       "      <td>8.892</td>\n",
       "      <td></td>\n",
       "      <td></td>\n",
       "      <td>0</td>\n",
       "      <td>0.0</td>\n",
       "      <td>0.0</td>\n",
       "      <td>12</td>\n",
       "      <td>C926</td>\n",
       "      <td>13</td>\n",
       "    </tr>\n",
       "    <tr>\n",
       "      <th>C927</th>\n",
       "      <td>HOXC12 FREM3 CTSW TLR9 ZFAT POU6F2 IKZF4 BCDIN...</td>\n",
       "      <td>362</td>\n",
       "      <td>False</td>\n",
       "      <td>8.5</td>\n",
       "      <td></td>\n",
       "      <td></td>\n",
       "      <td>0</td>\n",
       "      <td>0.0</td>\n",
       "      <td>0.0</td>\n",
       "      <td>14</td>\n",
       "      <td>C927</td>\n",
       "      <td>14</td>\n",
       "    </tr>\n",
       "    <tr>\n",
       "      <th>C929</th>\n",
       "      <td>HIST1H3B HIST1H4I RARB LEO1 HIST4H4 C5orf64 ZF...</td>\n",
       "      <td>27</td>\n",
       "      <td>False</td>\n",
       "      <td>4.755</td>\n",
       "      <td></td>\n",
       "      <td></td>\n",
       "      <td>0</td>\n",
       "      <td>0.0</td>\n",
       "      <td>0.0</td>\n",
       "      <td>29</td>\n",
       "      <td>C929</td>\n",
       "      <td>15</td>\n",
       "    </tr>\n",
       "    <tr>\n",
       "      <th>C931</th>\n",
       "      <td>KLHL26 KDM2B PDXDC2P UBA7 CXXC5 UBE2R2 UBE2L3 ...</td>\n",
       "      <td>21</td>\n",
       "      <td>False</td>\n",
       "      <td>4.392</td>\n",
       "      <td></td>\n",
       "      <td></td>\n",
       "      <td>0</td>\n",
       "      <td>0.0</td>\n",
       "      <td>0.0</td>\n",
       "      <td>5</td>\n",
       "      <td>C931</td>\n",
       "      <td>16</td>\n",
       "    </tr>\n",
       "    <tr>\n",
       "      <th>C937</th>\n",
       "      <td>TTC17 USP37 ZNF131 LSM14A ZCCHC8 HNRNPA1 MSL2 ...</td>\n",
       "      <td>13</td>\n",
       "      <td>False</td>\n",
       "      <td>3.7</td>\n",
       "      <td></td>\n",
       "      <td></td>\n",
       "      <td>0</td>\n",
       "      <td>0.0</td>\n",
       "      <td>0.0</td>\n",
       "      <td>18</td>\n",
       "      <td>C937</td>\n",
       "      <td>17</td>\n",
       "    </tr>\n",
       "    <tr>\n",
       "      <th>C939</th>\n",
       "      <td>XRCC1 ZNHIT3 NHEJ1 XRCC3 LIG3 MUS81 RAD51D WRN...</td>\n",
       "      <td>10</td>\n",
       "      <td>False</td>\n",
       "      <td>3.322</td>\n",
       "      <td></td>\n",
       "      <td></td>\n",
       "      <td>0</td>\n",
       "      <td>0.0</td>\n",
       "      <td>0.0</td>\n",
       "      <td>19</td>\n",
       "      <td>C939</td>\n",
       "      <td>18</td>\n",
       "    </tr>\n",
       "    <tr>\n",
       "      <th>C940</th>\n",
       "      <td>TTC12 FTO LRRCC1 FAM160B1 CSPP1 RPGRIP1L CEP12...</td>\n",
       "      <td>10</td>\n",
       "      <td>False</td>\n",
       "      <td>3.322</td>\n",
       "      <td></td>\n",
       "      <td></td>\n",
       "      <td>0</td>\n",
       "      <td>0.0</td>\n",
       "      <td>0.0</td>\n",
       "      <td>9</td>\n",
       "      <td>C940</td>\n",
       "      <td>19</td>\n",
       "    </tr>\n",
       "    <tr>\n",
       "      <th>C945</th>\n",
       "      <td>NUP88 AURKB SAE1 TSR1 DDX20 POM121C AAAS SLC37...</td>\n",
       "      <td>9</td>\n",
       "      <td>False</td>\n",
       "      <td>3.17</td>\n",
       "      <td></td>\n",
       "      <td></td>\n",
       "      <td>0</td>\n",
       "      <td>0.0</td>\n",
       "      <td>0.0</td>\n",
       "      <td>5</td>\n",
       "      <td>C945</td>\n",
       "      <td>20</td>\n",
       "    </tr>\n",
       "    <tr>\n",
       "      <th>C946</th>\n",
       "      <td>LAMTOR2 ATP6V1F PEPD SNF8 TPGS2 TRMT112 FIBP TBCB</td>\n",
       "      <td>8</td>\n",
       "      <td>False</td>\n",
       "      <td>3.0</td>\n",
       "      <td></td>\n",
       "      <td></td>\n",
       "      <td>0</td>\n",
       "      <td>0.0</td>\n",
       "      <td>0.0</td>\n",
       "      <td>5</td>\n",
       "      <td>C946</td>\n",
       "      <td>21</td>\n",
       "    </tr>\n",
       "    <tr>\n",
       "      <th>C947</th>\n",
       "      <td>RPL5 RPL22L1 SMG6 RPL10A RPLP2 UBQLN4 RPS10 SSR3</td>\n",
       "      <td>8</td>\n",
       "      <td>False</td>\n",
       "      <td>3.0</td>\n",
       "      <td></td>\n",
       "      <td></td>\n",
       "      <td>0</td>\n",
       "      <td>0.0</td>\n",
       "      <td>0.0</td>\n",
       "      <td>7</td>\n",
       "      <td>C947</td>\n",
       "      <td>22</td>\n",
       "    </tr>\n",
       "    <tr>\n",
       "      <th>C948</th>\n",
       "      <td>ZNF747 KPNA2 KPNA4 ZNF689 ZNF688 ZNF764 ZNF785</td>\n",
       "      <td>7</td>\n",
       "      <td>False</td>\n",
       "      <td>2.807</td>\n",
       "      <td></td>\n",
       "      <td></td>\n",
       "      <td>0</td>\n",
       "      <td>0.0</td>\n",
       "      <td>0.0</td>\n",
       "      <td>25</td>\n",
       "      <td>C948</td>\n",
       "      <td>23</td>\n",
       "    </tr>\n",
       "    <tr>\n",
       "      <th>C951</th>\n",
       "      <td>TIPIN KNTC1 POLK TRAIP CDCA5 ZWILCH CENPO</td>\n",
       "      <td>7</td>\n",
       "      <td>False</td>\n",
       "      <td>2.807</td>\n",
       "      <td></td>\n",
       "      <td></td>\n",
       "      <td>0</td>\n",
       "      <td>0.0</td>\n",
       "      <td>0.0</td>\n",
       "      <td>7</td>\n",
       "      <td>C951</td>\n",
       "      <td>24</td>\n",
       "    </tr>\n",
       "    <tr>\n",
       "      <th>C953</th>\n",
       "      <td>RPL5 RPS10 RPL22L1 RPL10A RPLP2 SMG6 BOLA2</td>\n",
       "      <td>7</td>\n",
       "      <td>False</td>\n",
       "      <td>2.807</td>\n",
       "      <td></td>\n",
       "      <td></td>\n",
       "      <td>0</td>\n",
       "      <td>0.0</td>\n",
       "      <td>0.0</td>\n",
       "      <td>6</td>\n",
       "      <td>C953</td>\n",
       "      <td>25</td>\n",
       "    </tr>\n",
       "    <tr>\n",
       "      <th>C954</th>\n",
       "      <td>LUZP1 TMOD3 CFL1 FBXO46 BASP1 MYO19 KIAA1211</td>\n",
       "      <td>7</td>\n",
       "      <td>False</td>\n",
       "      <td>2.807</td>\n",
       "      <td></td>\n",
       "      <td></td>\n",
       "      <td>0</td>\n",
       "      <td>0.0</td>\n",
       "      <td>0.0</td>\n",
       "      <td>6</td>\n",
       "      <td>C954</td>\n",
       "      <td>26</td>\n",
       "    </tr>\n",
       "    <tr>\n",
       "      <th>C955</th>\n",
       "      <td>CACYBP CPSF6 RANBP17 AP3M1 IPO9 IPO11 ARL13B</td>\n",
       "      <td>7</td>\n",
       "      <td>False</td>\n",
       "      <td>2.807</td>\n",
       "      <td></td>\n",
       "      <td></td>\n",
       "      <td>0</td>\n",
       "      <td>0.0</td>\n",
       "      <td>0.0</td>\n",
       "      <td>6</td>\n",
       "      <td>C955</td>\n",
       "      <td>27</td>\n",
       "    </tr>\n",
       "    <tr>\n",
       "      <th>C956</th>\n",
       "      <td>ZC4H2 SORT1 RANBP17 IPO11 IPO9 GTF2IRD2B GTF2IRD1</td>\n",
       "      <td>7</td>\n",
       "      <td>False</td>\n",
       "      <td>2.807</td>\n",
       "      <td></td>\n",
       "      <td></td>\n",
       "      <td>0</td>\n",
       "      <td>0.0</td>\n",
       "      <td>0.0</td>\n",
       "      <td>6</td>\n",
       "      <td>C956</td>\n",
       "      <td>28</td>\n",
       "    </tr>\n",
       "    <tr>\n",
       "      <th>C957</th>\n",
       "      <td>MSH6 MLH3 PMS2P3 PMS2P5 MSH3 YJEFN3</td>\n",
       "      <td>6</td>\n",
       "      <td>False</td>\n",
       "      <td>2.585</td>\n",
       "      <td></td>\n",
       "      <td></td>\n",
       "      <td>0</td>\n",
       "      <td>0.0</td>\n",
       "      <td>0.0</td>\n",
       "      <td>28</td>\n",
       "      <td>C957</td>\n",
       "      <td>29</td>\n",
       "    </tr>\n",
       "    <tr>\n",
       "      <th>C961</th>\n",
       "      <td>GYS1 PHKG2 PPP1R3A PDRG1 PPP1R3B</td>\n",
       "      <td>5</td>\n",
       "      <td>False</td>\n",
       "      <td>2.322</td>\n",
       "      <td></td>\n",
       "      <td></td>\n",
       "      <td>0</td>\n",
       "      <td>0.0</td>\n",
       "      <td>0.0</td>\n",
       "      <td>13</td>\n",
       "      <td>C961</td>\n",
       "      <td>30</td>\n",
       "    </tr>\n",
       "    <tr>\n",
       "      <th>C962</th>\n",
       "      <td>FOSL1 CREB3L3 NFE2L1 NQO1 NFE2</td>\n",
       "      <td>5</td>\n",
       "      <td>False</td>\n",
       "      <td>2.322</td>\n",
       "      <td></td>\n",
       "      <td></td>\n",
       "      <td>0</td>\n",
       "      <td>0.0</td>\n",
       "      <td>0.0</td>\n",
       "      <td>7</td>\n",
       "      <td>C962</td>\n",
       "      <td>31</td>\n",
       "    </tr>\n",
       "    <tr>\n",
       "      <th>C965</th>\n",
       "      <td>ATXN2L CHD8 SETD1A KMT2B PHLPP1</td>\n",
       "      <td>5</td>\n",
       "      <td>False</td>\n",
       "      <td>2.322</td>\n",
       "      <td></td>\n",
       "      <td></td>\n",
       "      <td>0</td>\n",
       "      <td>0.0</td>\n",
       "      <td>0.0</td>\n",
       "      <td>5</td>\n",
       "      <td>C965</td>\n",
       "      <td>32</td>\n",
       "    </tr>\n",
       "    <tr>\n",
       "      <th>C966</th>\n",
       "      <td>BCL7C ARID1B BCL7A ARID1A</td>\n",
       "      <td>4</td>\n",
       "      <td>False</td>\n",
       "      <td>2.0</td>\n",
       "      <td></td>\n",
       "      <td></td>\n",
       "      <td>0</td>\n",
       "      <td>0.0</td>\n",
       "      <td>0.0</td>\n",
       "      <td>22</td>\n",
       "      <td>C966</td>\n",
       "      <td>33</td>\n",
       "    </tr>\n",
       "    <tr>\n",
       "      <th>C967</th>\n",
       "      <td>ZNF789 SP2 EZH2 MYSM1</td>\n",
       "      <td>4</td>\n",
       "      <td>False</td>\n",
       "      <td>2.0</td>\n",
       "      <td></td>\n",
       "      <td></td>\n",
       "      <td>0</td>\n",
       "      <td>0.0</td>\n",
       "      <td>0.0</td>\n",
       "      <td>17</td>\n",
       "      <td>C967</td>\n",
       "      <td>34</td>\n",
       "    </tr>\n",
       "    <tr>\n",
       "      <th>C971</th>\n",
       "      <td>ZCCHC9 TMEM161B DDX41 ZCCHC7</td>\n",
       "      <td>4</td>\n",
       "      <td>False</td>\n",
       "      <td>2.0</td>\n",
       "      <td></td>\n",
       "      <td></td>\n",
       "      <td>0</td>\n",
       "      <td>0.0</td>\n",
       "      <td>0.0</td>\n",
       "      <td>9</td>\n",
       "      <td>C971</td>\n",
       "      <td>35</td>\n",
       "    </tr>\n",
       "    <tr>\n",
       "      <th>C972</th>\n",
       "      <td>ASXL2 MAGI1 ASXL3 SCMH1</td>\n",
       "      <td>4</td>\n",
       "      <td>False</td>\n",
       "      <td>2.0</td>\n",
       "      <td></td>\n",
       "      <td></td>\n",
       "      <td>0</td>\n",
       "      <td>0.0</td>\n",
       "      <td>0.0</td>\n",
       "      <td>12</td>\n",
       "      <td>C972</td>\n",
       "      <td>36</td>\n",
       "    </tr>\n",
       "    <tr>\n",
       "      <th>C973</th>\n",
       "      <td>MPG REXO1 AC108488.2 PAFAH1B2</td>\n",
       "      <td>4</td>\n",
       "      <td>False</td>\n",
       "      <td>2.0</td>\n",
       "      <td></td>\n",
       "      <td></td>\n",
       "      <td>0</td>\n",
       "      <td>0.0</td>\n",
       "      <td>0.0</td>\n",
       "      <td>7</td>\n",
       "      <td>C973</td>\n",
       "      <td>37</td>\n",
       "    </tr>\n",
       "    <tr>\n",
       "      <th>C974</th>\n",
       "      <td>ADARB1 DRAP1 IFRD2 CCDC124</td>\n",
       "      <td>4</td>\n",
       "      <td>False</td>\n",
       "      <td>2.0</td>\n",
       "      <td></td>\n",
       "      <td></td>\n",
       "      <td>0</td>\n",
       "      <td>0.0</td>\n",
       "      <td>0.0</td>\n",
       "      <td>6</td>\n",
       "      <td>C974</td>\n",
       "      <td>38</td>\n",
       "    </tr>\n",
       "    <tr>\n",
       "      <th>C975</th>\n",
       "      <td>TCP1 PTPA TSSK6 ALKBH3</td>\n",
       "      <td>4</td>\n",
       "      <td>False</td>\n",
       "      <td>2.0</td>\n",
       "      <td></td>\n",
       "      <td></td>\n",
       "      <td>0</td>\n",
       "      <td>0.0</td>\n",
       "      <td>0.0</td>\n",
       "      <td>6</td>\n",
       "      <td>C975</td>\n",
       "      <td>39</td>\n",
       "    </tr>\n",
       "    <tr>\n",
       "      <th>C976</th>\n",
       "      <td>ARMCX4 DECR2 GRID1 DPAGT1</td>\n",
       "      <td>4</td>\n",
       "      <td>False</td>\n",
       "      <td>2.0</td>\n",
       "      <td></td>\n",
       "      <td></td>\n",
       "      <td>0</td>\n",
       "      <td>0.0</td>\n",
       "      <td>0.0</td>\n",
       "      <td>6</td>\n",
       "      <td>C976</td>\n",
       "      <td>40</td>\n",
       "    </tr>\n",
       "    <tr>\n",
       "      <th>C978</th>\n",
       "      <td>FARSA MPV17L2 ACO2 TOMM40L</td>\n",
       "      <td>4</td>\n",
       "      <td>False</td>\n",
       "      <td>2.0</td>\n",
       "      <td></td>\n",
       "      <td></td>\n",
       "      <td>0</td>\n",
       "      <td>0.0</td>\n",
       "      <td>0.0</td>\n",
       "      <td>5</td>\n",
       "      <td>C978</td>\n",
       "      <td>41</td>\n",
       "    </tr>\n",
       "    <tr>\n",
       "      <th>C930</th>\n",
       "      <td>SHOX2 HOXC12 ATG9B POU3F3 HOXA13 HOXA4 EBF2 HO...</td>\n",
       "      <td>25</td>\n",
       "      <td>False</td>\n",
       "      <td>4.644</td>\n",
       "      <td></td>\n",
       "      <td></td>\n",
       "      <td>0</td>\n",
       "      <td>0.0</td>\n",
       "      <td>0.0</td>\n",
       "      <td>32</td>\n",
       "      <td>C930</td>\n",
       "      <td>42</td>\n",
       "    </tr>\n",
       "    <tr>\n",
       "      <th>C932</th>\n",
       "      <td>RPRML FAIM2 NEFL OPCML NTM ADAM22 GRIA1 BSN NP...</td>\n",
       "      <td>19</td>\n",
       "      <td>False</td>\n",
       "      <td>4.248</td>\n",
       "      <td></td>\n",
       "      <td></td>\n",
       "      <td>0</td>\n",
       "      <td>0.0</td>\n",
       "      <td>0.0</td>\n",
       "      <td>14</td>\n",
       "      <td>C932</td>\n",
       "      <td>43</td>\n",
       "    </tr>\n",
       "    <tr>\n",
       "      <th>C933</th>\n",
       "      <td>CTSW LIMD2 AC004997.1 LRRC25 APOBR MYO1F ITGAD...</td>\n",
       "      <td>17</td>\n",
       "      <td>False</td>\n",
       "      <td>4.087</td>\n",
       "      <td></td>\n",
       "      <td></td>\n",
       "      <td>0</td>\n",
       "      <td>0.0</td>\n",
       "      <td>0.0</td>\n",
       "      <td>14</td>\n",
       "      <td>C933</td>\n",
       "      <td>44</td>\n",
       "    </tr>\n",
       "    <tr>\n",
       "      <th>C935</th>\n",
       "      <td>ZCCHC4 PDZK1IP1 LCN15 ITLN1 FUT6 RAB25 ANGPTL6...</td>\n",
       "      <td>15</td>\n",
       "      <td>False</td>\n",
       "      <td>3.907</td>\n",
       "      <td></td>\n",
       "      <td></td>\n",
       "      <td>0</td>\n",
       "      <td>0.0</td>\n",
       "      <td>0.0</td>\n",
       "      <td>6</td>\n",
       "      <td>C935</td>\n",
       "      <td>45</td>\n",
       "    </tr>\n",
       "    <tr>\n",
       "      <th>C936</th>\n",
       "      <td>KCNJ12 TMEM236 SOWAHD QRFP DGKI GNB1 GPR4 PLCB...</td>\n",
       "      <td>14</td>\n",
       "      <td>False</td>\n",
       "      <td>3.807</td>\n",
       "      <td></td>\n",
       "      <td></td>\n",
       "      <td>0</td>\n",
       "      <td>0.0</td>\n",
       "      <td>0.0</td>\n",
       "      <td>14</td>\n",
       "      <td>C936</td>\n",
       "      <td>46</td>\n",
       "    </tr>\n",
       "    <tr>\n",
       "      <th>C943</th>\n",
       "      <td>NCOA7 ENDOD1 PRKCD INSM2 LYSMD2 LYSMD4 SMPD3 F...</td>\n",
       "      <td>9</td>\n",
       "      <td>False</td>\n",
       "      <td>3.17</td>\n",
       "      <td></td>\n",
       "      <td></td>\n",
       "      <td>0</td>\n",
       "      <td>0.0</td>\n",
       "      <td>0.0</td>\n",
       "      <td>7</td>\n",
       "      <td>C943</td>\n",
       "      <td>47</td>\n",
       "    </tr>\n",
       "    <tr>\n",
       "      <th>C944</th>\n",
       "      <td>KRTAP9-9 KRTAP1-3 FBLL1 LGR4 DMPK KRTAP4-3 PLE...</td>\n",
       "      <td>9</td>\n",
       "      <td>False</td>\n",
       "      <td>3.17</td>\n",
       "      <td></td>\n",
       "      <td></td>\n",
       "      <td>0</td>\n",
       "      <td>0.0</td>\n",
       "      <td>0.0</td>\n",
       "      <td>11</td>\n",
       "      <td>C944</td>\n",
       "      <td>48</td>\n",
       "    </tr>\n",
       "    <tr>\n",
       "      <th>C977</th>\n",
       "      <td>TP73 TBX6 TP63 LOC613037</td>\n",
       "      <td>4</td>\n",
       "      <td>False</td>\n",
       "      <td>2.0</td>\n",
       "      <td></td>\n",
       "      <td></td>\n",
       "      <td>0</td>\n",
       "      <td>0.0</td>\n",
       "      <td>0.0</td>\n",
       "      <td>5</td>\n",
       "      <td>C977</td>\n",
       "      <td>49</td>\n",
       "    </tr>\n",
       "    <tr>\n",
       "      <th>C950</th>\n",
       "      <td>DEFB105A SPAG11B DEFB105B DEFB110 DEFB114 DEFB...</td>\n",
       "      <td>7</td>\n",
       "      <td>False</td>\n",
       "      <td>2.807</td>\n",
       "      <td></td>\n",
       "      <td></td>\n",
       "      <td>0</td>\n",
       "      <td>0.0</td>\n",
       "      <td>0.0</td>\n",
       "      <td>11</td>\n",
       "      <td>C950</td>\n",
       "      <td>50</td>\n",
       "    </tr>\n",
       "    <tr>\n",
       "      <th>C968</th>\n",
       "      <td>PRR20D ZC3H10 PRR20C JUND</td>\n",
       "      <td>4</td>\n",
       "      <td>False</td>\n",
       "      <td>2.0</td>\n",
       "      <td></td>\n",
       "      <td></td>\n",
       "      <td>0</td>\n",
       "      <td>0.0</td>\n",
       "      <td>0.0</td>\n",
       "      <td>14</td>\n",
       "      <td>C968</td>\n",
       "      <td>51</td>\n",
       "    </tr>\n",
       "    <tr>\n",
       "      <th>C934</th>\n",
       "      <td>IPP UBE2R2 KLHL26 KDM2B FBH1 FBXO46 MIB2 FBXO3...</td>\n",
       "      <td>16</td>\n",
       "      <td>False</td>\n",
       "      <td>4.0</td>\n",
       "      <td></td>\n",
       "      <td></td>\n",
       "      <td>0</td>\n",
       "      <td>0.0</td>\n",
       "      <td>0.0</td>\n",
       "      <td>24</td>\n",
       "      <td>C934</td>\n",
       "      <td>52</td>\n",
       "    </tr>\n",
       "    <tr>\n",
       "      <th>C963</th>\n",
       "      <td>RPL5 RPL22L1 RPLP2 SMG6 RPS10</td>\n",
       "      <td>5</td>\n",
       "      <td>False</td>\n",
       "      <td>2.322</td>\n",
       "      <td></td>\n",
       "      <td></td>\n",
       "      <td>0</td>\n",
       "      <td>0.0</td>\n",
       "      <td>0.0</td>\n",
       "      <td>6</td>\n",
       "      <td>C963</td>\n",
       "      <td>53</td>\n",
       "    </tr>\n",
       "  </tbody>\n",
       "</table>\n",
       "</div>"
      ],
      "text/plain": [
       "                                          CD_MemberList  CD_MemberList_Size  \\\n",
       "C925  GXYLT2 DDX19B CDC37 HOXC12 FREM3 ULK1 ARPC1A C...                 914   \n",
       "C928  BOLL C3orf20 LRRC66 ITLN1 JUND FIBCD1 PRSS55 I...                  49   \n",
       "C960              TGFB1 SLC35F4 SLC35G5 SLC35G2 SLC35F5                   5   \n",
       "C964                SENP3 NCKAP5L ZNF438 CCDC122 RABEP1                   5   \n",
       "C969                            SEC16B PRDX2 MSRA ERP44                   4   \n",
       "C938  KCNRG AP5B1 KCTD13 KIAA1841 AGBL5 AGBL4 AGBL3 ...                  11   \n",
       "C970                      ATP2A3 ATP13A1 ATP8B3 ATP13A5                   4   \n",
       "C941  BCL3 ANKRD54 ANKRD29 ANKRD39 NFKBID ANKDD1B AN...                   9   \n",
       "C942  BHLHE22 MAMLD1 CCND1 NCOR1 HES5 HEYL HEY2 MAML...                   9   \n",
       "C958           PEPD AFG1L C12orf60 CCDC171 LDHAL6B MDH2                   6   \n",
       "C949      RGL3 ZBTB26 FAM200A GIPC2 BTBD19 HRAS SUMO1P1                   7   \n",
       "C952      NCKAP5L TSC2 MTOR GDI2P1 RPTOR CCDC122 RABEP1                   7   \n",
       "C959         TMEM60 ZBTB26 BTBD19 GIPC2 MSANTD4 SUMO1P1                   6   \n",
       "C926  GXYLT2 DDX19B CDC37 ULK1 ARPC1A CORO1A DECR2 C...                 475   \n",
       "C927  HOXC12 FREM3 CTSW TLR9 ZFAT POU6F2 IKZF4 BCDIN...                 362   \n",
       "C929  HIST1H3B HIST1H4I RARB LEO1 HIST4H4 C5orf64 ZF...                  27   \n",
       "C931  KLHL26 KDM2B PDXDC2P UBA7 CXXC5 UBE2R2 UBE2L3 ...                  21   \n",
       "C937  TTC17 USP37 ZNF131 LSM14A ZCCHC8 HNRNPA1 MSL2 ...                  13   \n",
       "C939  XRCC1 ZNHIT3 NHEJ1 XRCC3 LIG3 MUS81 RAD51D WRN...                  10   \n",
       "C940  TTC12 FTO LRRCC1 FAM160B1 CSPP1 RPGRIP1L CEP12...                  10   \n",
       "C945  NUP88 AURKB SAE1 TSR1 DDX20 POM121C AAAS SLC37...                   9   \n",
       "C946  LAMTOR2 ATP6V1F PEPD SNF8 TPGS2 TRMT112 FIBP TBCB                   8   \n",
       "C947   RPL5 RPL22L1 SMG6 RPL10A RPLP2 UBQLN4 RPS10 SSR3                   8   \n",
       "C948     ZNF747 KPNA2 KPNA4 ZNF689 ZNF688 ZNF764 ZNF785                   7   \n",
       "C951          TIPIN KNTC1 POLK TRAIP CDCA5 ZWILCH CENPO                   7   \n",
       "C953         RPL5 RPS10 RPL22L1 RPL10A RPLP2 SMG6 BOLA2                   7   \n",
       "C954       LUZP1 TMOD3 CFL1 FBXO46 BASP1 MYO19 KIAA1211                   7   \n",
       "C955       CACYBP CPSF6 RANBP17 AP3M1 IPO9 IPO11 ARL13B                   7   \n",
       "C956  ZC4H2 SORT1 RANBP17 IPO11 IPO9 GTF2IRD2B GTF2IRD1                   7   \n",
       "C957                MSH6 MLH3 PMS2P3 PMS2P5 MSH3 YJEFN3                   6   \n",
       "C961                   GYS1 PHKG2 PPP1R3A PDRG1 PPP1R3B                   5   \n",
       "C962                     FOSL1 CREB3L3 NFE2L1 NQO1 NFE2                   5   \n",
       "C965                    ATXN2L CHD8 SETD1A KMT2B PHLPP1                   5   \n",
       "C966                          BCL7C ARID1B BCL7A ARID1A                   4   \n",
       "C967                              ZNF789 SP2 EZH2 MYSM1                   4   \n",
       "C971                       ZCCHC9 TMEM161B DDX41 ZCCHC7                   4   \n",
       "C972                            ASXL2 MAGI1 ASXL3 SCMH1                   4   \n",
       "C973                      MPG REXO1 AC108488.2 PAFAH1B2                   4   \n",
       "C974                         ADARB1 DRAP1 IFRD2 CCDC124                   4   \n",
       "C975                             TCP1 PTPA TSSK6 ALKBH3                   4   \n",
       "C976                          ARMCX4 DECR2 GRID1 DPAGT1                   4   \n",
       "C978                         FARSA MPV17L2 ACO2 TOMM40L                   4   \n",
       "C930  SHOX2 HOXC12 ATG9B POU3F3 HOXA13 HOXA4 EBF2 HO...                  25   \n",
       "C932  RPRML FAIM2 NEFL OPCML NTM ADAM22 GRIA1 BSN NP...                  19   \n",
       "C933  CTSW LIMD2 AC004997.1 LRRC25 APOBR MYO1F ITGAD...                  17   \n",
       "C935  ZCCHC4 PDZK1IP1 LCN15 ITLN1 FUT6 RAB25 ANGPTL6...                  15   \n",
       "C936  KCNJ12 TMEM236 SOWAHD QRFP DGKI GNB1 GPR4 PLCB...                  14   \n",
       "C943  NCOA7 ENDOD1 PRKCD INSM2 LYSMD2 LYSMD4 SMPD3 F...                   9   \n",
       "C944  KRTAP9-9 KRTAP1-3 FBLL1 LGR4 DMPK KRTAP4-3 PLE...                   9   \n",
       "C977                           TP73 TBX6 TP63 LOC613037                   4   \n",
       "C950  DEFB105A SPAG11B DEFB105B DEFB110 DEFB114 DEFB...                   7   \n",
       "C968                          PRR20D ZC3H10 PRR20C JUND                   4   \n",
       "C934  IPP UBE2R2 KLHL26 KDM2B FBH1 FBXO46 MIB2 FBXO3...                  16   \n",
       "C963                      RPL5 RPL22L1 RPLP2 SMG6 RPS10                   5   \n",
       "\n",
       "     CD_Labeled CD_MemberList_LogSize CD_CommunityName CD_AnnotatedMembers  \\\n",
       "C925      False                 9.836                                        \n",
       "C928      False                 5.615                                        \n",
       "C960      False                 2.322                                        \n",
       "C964      False                 2.322                                        \n",
       "C969      False                   2.0                                        \n",
       "C938      False                 3.459                                        \n",
       "C970      False                   2.0                                        \n",
       "C941      False                  3.17                                        \n",
       "C942      False                  3.17                                        \n",
       "C958      False                 2.585                                        \n",
       "C949      False                 2.807                                        \n",
       "C952      False                 2.807                                        \n",
       "C959      False                 2.585                                        \n",
       "C926      False                 8.892                                        \n",
       "C927      False                   8.5                                        \n",
       "C929      False                 4.755                                        \n",
       "C931      False                 4.392                                        \n",
       "C937      False                   3.7                                        \n",
       "C939      False                 3.322                                        \n",
       "C940      False                 3.322                                        \n",
       "C945      False                  3.17                                        \n",
       "C946      False                   3.0                                        \n",
       "C947      False                   3.0                                        \n",
       "C948      False                 2.807                                        \n",
       "C951      False                 2.807                                        \n",
       "C953      False                 2.807                                        \n",
       "C954      False                 2.807                                        \n",
       "C955      False                 2.807                                        \n",
       "C956      False                 2.807                                        \n",
       "C957      False                 2.585                                        \n",
       "C961      False                 2.322                                        \n",
       "C962      False                 2.322                                        \n",
       "C965      False                 2.322                                        \n",
       "C966      False                   2.0                                        \n",
       "C967      False                   2.0                                        \n",
       "C971      False                   2.0                                        \n",
       "C972      False                   2.0                                        \n",
       "C973      False                   2.0                                        \n",
       "C974      False                   2.0                                        \n",
       "C975      False                   2.0                                        \n",
       "C976      False                   2.0                                        \n",
       "C978      False                   2.0                                        \n",
       "C930      False                 4.644                                        \n",
       "C932      False                 4.248                                        \n",
       "C933      False                 4.087                                        \n",
       "C935      False                 3.907                                        \n",
       "C936      False                 3.807                                        \n",
       "C943      False                  3.17                                        \n",
       "C944      False                  3.17                                        \n",
       "C977      False                   2.0                                        \n",
       "C950      False                 2.807                                        \n",
       "C968      False                   2.0                                        \n",
       "C934      False                   4.0                                        \n",
       "C963      False                 2.322                                        \n",
       "\n",
       "     CD_AnnotatedMembers_Size CD_AnnotatedMembers_Overlap  \\\n",
       "C925                        0                         0.0   \n",
       "C928                        0                         0.0   \n",
       "C960                        0                         0.0   \n",
       "C964                        0                         0.0   \n",
       "C969                        0                         0.0   \n",
       "C938                        0                         0.0   \n",
       "C970                        0                         0.0   \n",
       "C941                        0                         0.0   \n",
       "C942                        0                         0.0   \n",
       "C958                        0                         0.0   \n",
       "C949                        0                         0.0   \n",
       "C952                        0                         0.0   \n",
       "C959                        0                         0.0   \n",
       "C926                        0                         0.0   \n",
       "C927                        0                         0.0   \n",
       "C929                        0                         0.0   \n",
       "C931                        0                         0.0   \n",
       "C937                        0                         0.0   \n",
       "C939                        0                         0.0   \n",
       "C940                        0                         0.0   \n",
       "C945                        0                         0.0   \n",
       "C946                        0                         0.0   \n",
       "C947                        0                         0.0   \n",
       "C948                        0                         0.0   \n",
       "C951                        0                         0.0   \n",
       "C953                        0                         0.0   \n",
       "C954                        0                         0.0   \n",
       "C955                        0                         0.0   \n",
       "C956                        0                         0.0   \n",
       "C957                        0                         0.0   \n",
       "C961                        0                         0.0   \n",
       "C962                        0                         0.0   \n",
       "C965                        0                         0.0   \n",
       "C966                        0                         0.0   \n",
       "C967                        0                         0.0   \n",
       "C971                        0                         0.0   \n",
       "C972                        0                         0.0   \n",
       "C973                        0                         0.0   \n",
       "C974                        0                         0.0   \n",
       "C975                        0                         0.0   \n",
       "C976                        0                         0.0   \n",
       "C978                        0                         0.0   \n",
       "C930                        0                         0.0   \n",
       "C932                        0                         0.0   \n",
       "C933                        0                         0.0   \n",
       "C935                        0                         0.0   \n",
       "C936                        0                         0.0   \n",
       "C943                        0                         0.0   \n",
       "C944                        0                         0.0   \n",
       "C977                        0                         0.0   \n",
       "C950                        0                         0.0   \n",
       "C968                        0                         0.0   \n",
       "C934                        0                         0.0   \n",
       "C963                        0                         0.0   \n",
       "\n",
       "     CD_AnnotatedMembers_Pvalue  HiDeF_persistence represents  system_ID  \n",
       "C925                        0.0                110       C925          0  \n",
       "C928                        0.0                  8       C928          1  \n",
       "C960                        0.0                 97       C960          2  \n",
       "C964                        0.0                  6       C964          3  \n",
       "C969                        0.0                 12       C969          4  \n",
       "C938                        0.0                 13       C938          5  \n",
       "C970                        0.0                 21       C970          6  \n",
       "C941                        0.0                 28       C941          7  \n",
       "C942                        0.0                 19       C942          8  \n",
       "C958                        0.0                  7       C958          9  \n",
       "C949                        0.0                 23       C949         10  \n",
       "C952                        0.0                  7       C952         11  \n",
       "C959                        0.0                  5       C959         12  \n",
       "C926                        0.0                 12       C926         13  \n",
       "C927                        0.0                 14       C927         14  \n",
       "C929                        0.0                 29       C929         15  \n",
       "C931                        0.0                  5       C931         16  \n",
       "C937                        0.0                 18       C937         17  \n",
       "C939                        0.0                 19       C939         18  \n",
       "C940                        0.0                  9       C940         19  \n",
       "C945                        0.0                  5       C945         20  \n",
       "C946                        0.0                  5       C946         21  \n",
       "C947                        0.0                  7       C947         22  \n",
       "C948                        0.0                 25       C948         23  \n",
       "C951                        0.0                  7       C951         24  \n",
       "C953                        0.0                  6       C953         25  \n",
       "C954                        0.0                  6       C954         26  \n",
       "C955                        0.0                  6       C955         27  \n",
       "C956                        0.0                  6       C956         28  \n",
       "C957                        0.0                 28       C957         29  \n",
       "C961                        0.0                 13       C961         30  \n",
       "C962                        0.0                  7       C962         31  \n",
       "C965                        0.0                  5       C965         32  \n",
       "C966                        0.0                 22       C966         33  \n",
       "C967                        0.0                 17       C967         34  \n",
       "C971                        0.0                  9       C971         35  \n",
       "C972                        0.0                 12       C972         36  \n",
       "C973                        0.0                  7       C973         37  \n",
       "C974                        0.0                  6       C974         38  \n",
       "C975                        0.0                  6       C975         39  \n",
       "C976                        0.0                  6       C976         40  \n",
       "C978                        0.0                  5       C978         41  \n",
       "C930                        0.0                 32       C930         42  \n",
       "C932                        0.0                 14       C932         43  \n",
       "C933                        0.0                 14       C933         44  \n",
       "C935                        0.0                  6       C935         45  \n",
       "C936                        0.0                 14       C936         46  \n",
       "C943                        0.0                  7       C943         47  \n",
       "C944                        0.0                 11       C944         48  \n",
       "C977                        0.0                  5       C977         49  \n",
       "C950                        0.0                 11       C950         50  \n",
       "C968                        0.0                 14       C968         51  \n",
       "C934                        0.0                 24       C934         52  \n",
       "C963                        0.0                  6       C963         53  "
      ]
     },
     "execution_count": 115,
     "metadata": {},
     "output_type": "execute_result"
    }
   ],
   "source": [
    "hier_human_df"
   ]
  },
  {
   "cell_type": "code",
   "execution_count": 116,
   "metadata": {
    "ExecuteTime": {
     "end_time": "2022-03-24T19:51:06.138733Z",
     "start_time": "2022-03-24T19:50:09.299091Z"
    }
   },
   "outputs": [
    {
     "name": "stdout",
     "output_type": "stream",
     "text": [
      "C925 : 914\n",
      "C928 : 49\n",
      "C960 : 5\n",
      "C964 : 5\n",
      "C969 : 4\n",
      "C938 : 11\n",
      "C970 : 4\n",
      "C941 : 9\n",
      "C942 : 9\n",
      "C958 : 6\n",
      "C949 : 7\n",
      "C952 : 7\n",
      "C959 : 6\n",
      "C926 : 475\n",
      "C927 : 362\n",
      "C929 : 27\n",
      "C931 : 21\n",
      "C937 : 13\n",
      "C939 : 10\n",
      "C940 : 10\n",
      "C945 : 9\n",
      "C946 : 8\n",
      "C947 : 8\n",
      "C948 : 7\n",
      "C951 : 7\n",
      "C953 : 7\n",
      "C954 : 7\n",
      "C955 : 7\n",
      "C956 : 7\n",
      "C957 : 6\n",
      "C961 : 5\n",
      "C962 : 5\n",
      "C965 : 5\n",
      "C966 : 4\n",
      "C967 : 4\n",
      "C971 : 4\n",
      "C972 : 4\n",
      "C973 : 4\n",
      "C974 : 4\n",
      "C975 : 4\n",
      "C976 : 4\n",
      "C978 : 4\n",
      "C930 : 25\n",
      "C932 : 19\n",
      "C933 : 17\n",
      "C935 : 15\n",
      "C936 : 14\n",
      "C943 : 9\n",
      "C944 : 9\n",
      "C977 : 4\n",
      "C950 : 7\n",
      "C968 : 4\n",
      "C934 : 16\n",
      "C963 : 5\n"
     ]
    }
   ],
   "source": [
    "human_anno = annotate_hierarchy(hier_human_df)"
   ]
  },
  {
   "cell_type": "code",
   "execution_count": 117,
   "metadata": {
    "ExecuteTime": {
     "end_time": "2022-03-24T19:51:06.148507Z",
     "start_time": "2022-03-24T19:51:06.139707Z"
    }
   },
   "outputs": [],
   "source": [
    "human_anno.to_csv(\"~/Data/Transfer/rat/human_only_all_annotations2.tsv\", sep=\"\\t\")"
   ]
  },
  {
   "cell_type": "code",
   "execution_count": 29,
   "metadata": {
    "ExecuteTime": {
     "end_time": "2022-03-24T21:56:20.597396Z",
     "start_time": "2022-03-24T21:55:55.702749Z"
    }
   },
   "outputs": [
    {
     "name": "stderr",
     "output_type": "stream",
     "text": [
      "100%|██████████| 54/54 [00:22<00:00,  2.44it/s]\n"
     ]
    }
   ],
   "source": [
    "human_phenotypes = []\n",
    "term_counts, gene_mapping, term_mapping = genes_per_node(MPO2)\n",
    "for community in tqdm(hier_human_df.index):\n",
    "    x = community_term_enrichment(community, hier_human_df, MPO2, mgi_df, term_counts, gene_mapping, G_int=G)\n",
    "    x = x.assign(name=community)\n",
    "    human_phenotypes.append(x)"
   ]
  },
  {
   "cell_type": "code",
   "execution_count": 30,
   "metadata": {
    "ExecuteTime": {
     "end_time": "2022-03-24T21:56:22.579390Z",
     "start_time": "2022-03-24T21:56:22.566956Z"
    }
   },
   "outputs": [],
   "source": [
    "human_results = pd.concat(human_phenotypes)"
   ]
  },
  {
   "cell_type": "code",
   "execution_count": 31,
   "metadata": {
    "ExecuteTime": {
     "end_time": "2022-03-24T21:56:26.828689Z",
     "start_time": "2022-03-24T21:56:26.525980Z"
    }
   },
   "outputs": [],
   "source": [
    "human_results.to_csv(DATADIR+\"human_only_enrichment_results.tsv\", sep=\"\\t\")"
   ]
  },
  {
   "cell_type": "code",
   "execution_count": 120,
   "metadata": {
    "ExecuteTime": {
     "end_time": "2022-03-24T19:51:31.853942Z",
     "start_time": "2022-03-24T19:51:31.753121Z"
    }
   },
   "outputs": [],
   "source": [
    "human_fracs = get_seed_gene_fractions(hier_human_df, seed_bin_human_BMI, seed_bin_rat_BMI)\n",
    "hier_human_df= hier_human_df.join(human_fracs.loc[:, (\"h_seed\", \"r_seed\", \"overlap\", \"network\")])\n"
   ]
  },
  {
   "cell_type": "code",
   "execution_count": 121,
   "metadata": {
    "ExecuteTime": {
     "end_time": "2022-03-24T19:51:31.862769Z",
     "start_time": "2022-03-24T19:51:31.854849Z"
    }
   },
   "outputs": [],
   "source": [
    "human_gbs = human_results.loc[mps]\n",
    "human_gbs = human_gbs[human_gbs[\"OR_p\"] < 0.05]\n",
    "human_gbs = human_gbs.pivot(index=\"name\", columns=[\"description\"], values=[\"OR\"])"
   ]
  },
  {
   "cell_type": "code",
   "execution_count": 122,
   "metadata": {
    "ExecuteTime": {
     "end_time": "2022-03-24T19:51:31.952230Z",
     "start_time": "2022-03-24T19:51:31.863760Z"
    }
   },
   "outputs": [],
   "source": [
    "\n",
    "hier_human_df = hier_human_df.join(human_gbs.droplevel(level=0, axis=1))"
   ]
  },
  {
   "cell_type": "code",
   "execution_count": 123,
   "metadata": {
    "ExecuteTime": {
     "end_time": "2022-03-24T19:51:31.966497Z",
     "start_time": "2022-03-24T19:51:31.954538Z"
    }
   },
   "outputs": [],
   "source": [
    "human_anno_filt = human_anno[human_anno[\"term_size\"] < 1000]\n",
    "human_anno_filt[\"percent\"] = human_anno_filt[\"intersection_size\"] / human_anno_filt[\"query_size\"]\n",
    "human_annot_filt = human_anno_filt[human_anno_filt[\"percent\"] > 0.10].sort_values(by=\"p_value\")"
   ]
  },
  {
   "cell_type": "code",
   "execution_count": 124,
   "metadata": {
    "ExecuteTime": {
     "end_time": "2022-03-24T19:51:31.978741Z",
     "start_time": "2022-03-24T19:51:31.967307Z"
    }
   },
   "outputs": [],
   "source": [
    "human_annotations = human_annot_filt.drop_duplicates(subset=\"community\").loc[:, (\"name\", \"p_value\", \"intersection_size\", \"community\")]\n",
    "human_annotations.set_index(\"community\", inplace=True, drop=True)\n",
    "human_annotations.index.name=None\n",
    "human_annotations.columns = [\"go_annotation\", \"GO_p\", \"GO_intersect\"]"
   ]
  },
  {
   "cell_type": "code",
   "execution_count": 125,
   "metadata": {
    "ExecuteTime": {
     "end_time": "2022-03-24T19:51:31.990818Z",
     "start_time": "2022-03-24T19:51:31.979490Z"
    }
   },
   "outputs": [],
   "source": [
    "hier_human_df= hier_human_df.join(human_annotations)"
   ]
  },
  {
   "cell_type": "code",
   "execution_count": 126,
   "metadata": {
    "ExecuteTime": {
     "end_time": "2022-03-24T19:51:32.007503Z",
     "start_time": "2022-03-24T19:51:31.991544Z"
    }
   },
   "outputs": [],
   "source": [
    "\n",
    "hier_human_df.to_csv(DATADIR+\"hier_human_only_df2.tsv\", sep=\"\\t\")"
   ]
  },
  {
   "cell_type": "markdown",
   "metadata": {},
   "source": [
    "## Export results to cytoscape files"
   ]
  },
  {
   "cell_type": "markdown",
   "metadata": {},
   "source": [
    "### Rat"
   ]
  },
  {
   "cell_type": "code",
   "execution_count": 127,
   "metadata": {
    "ExecuteTime": {
     "end_time": "2022-03-24T19:52:02.839896Z",
     "start_time": "2022-03-24T19:51:32.008226Z"
    }
   },
   "outputs": [
    {
     "name": "stdout",
     "output_type": "stream",
     "text": [
      "NDEx server (probably ndexbio.org): ndexbio.org\n",
      "NDEx user name: snwright\n",
      "NDEx password: ········\n",
      "Generating CX\n"
     ]
    }
   ],
   "source": [
    "SERVER = input('NDEx server (probably ndexbio.org): ')\n",
    "USERNAME = input('NDEx user name: ')\n",
    "PASSWORD = getpass.getpass('NDEx password: ')\n",
    "network_uuid = G_rat_cx.upload_to(SERVER, USERNAME, PASSWORD)"
   ]
  },
  {
   "cell_type": "code",
   "execution_count": 131,
   "metadata": {
    "ExecuteTime": {
     "end_time": "2022-03-24T19:53:08.760972Z",
     "start_time": "2022-03-24T19:52:59.943747Z"
    }
   },
   "outputs": [
    {
     "name": "stdout",
     "output_type": "stream",
     "text": [
      "NDEx server (probably ndexbio.org): ndexbio.org\n",
      "NDEx user name: snwright\n",
      "NDEx password: ········\n",
      "Generating CX\n"
     ]
    }
   ],
   "source": [
    "G_rat.set_name(\"RatOnly-systemsMap\")\n",
    "SERVER = input('NDEx server (probably ndexbio.org): ')\n",
    "USERNAME = input('NDEx user name: ')\n",
    "PASSWORD = getpass.getpass('NDEx password: ')\n",
    "network_uuid = G_rat.upload_to(SERVER, USERNAME, PASSWORD)"
   ]
  },
  {
   "cell_type": "code",
   "execution_count": 128,
   "metadata": {
    "ExecuteTime": {
     "end_time": "2022-03-24T19:52:02.842662Z",
     "start_time": "2022-03-24T19:52:02.840747Z"
    }
   },
   "outputs": [
    {
     "name": "stdout",
     "output_type": "stream",
     "text": [
      "https://www.ndexbio.org/v2/network/e00a960c-abab-11ec-b3be-0ac135e8bacf\n"
     ]
    }
   ],
   "source": [
    "print(network_uuid)"
   ]
  },
  {
   "cell_type": "markdown",
   "metadata": {},
   "source": [
    "### Human"
   ]
  },
  {
   "cell_type": "code",
   "execution_count": 129,
   "metadata": {
    "ExecuteTime": {
     "end_time": "2022-03-24T19:52:14.098969Z",
     "start_time": "2022-03-24T19:52:02.843665Z"
    }
   },
   "outputs": [
    {
     "name": "stdout",
     "output_type": "stream",
     "text": [
      "NDEx server (probably ndexbio.org): ndexbio.org\n",
      "NDEx user name: snwright\n",
      "NDEx password: ········\n",
      "Generating CX\n"
     ]
    }
   ],
   "source": [
    "SERVER = input('NDEx server (probably ndexbio.org): ')\n",
    "USERNAME = input('NDEx user name: ')\n",
    "PASSWORD = getpass.getpass('NDEx password: ')\n",
    "network_uuid = G_human_cx.upload_to(SERVER, USERNAME, PASSWORD)"
   ]
  },
  {
   "cell_type": "code",
   "execution_count": 132,
   "metadata": {
    "ExecuteTime": {
     "end_time": "2022-03-24T19:53:26.571622Z",
     "start_time": "2022-03-24T19:53:18.089586Z"
    }
   },
   "outputs": [
    {
     "name": "stdout",
     "output_type": "stream",
     "text": [
      "NDEx server (probably ndexbio.org): ndexbio.org\n",
      "NDEx user name: snwright\n",
      "NDEx password: ········\n",
      "Generating CX\n"
     ]
    }
   ],
   "source": [
    "G_human.set_name(\"HumanOnly-systemsMap\")\n",
    "SERVER = input('NDEx server (probably ndexbio.org): ')\n",
    "USERNAME = input('NDEx user name: ')\n",
    "PASSWORD = getpass.getpass('NDEx password: ')\n",
    "network_uuid = G_human.upload_to(SERVER, USERNAME, PASSWORD)"
   ]
  },
  {
   "cell_type": "code",
   "execution_count": 130,
   "metadata": {
    "ExecuteTime": {
     "end_time": "2022-03-24T19:52:14.104212Z",
     "start_time": "2022-03-24T19:52:14.100803Z"
    }
   },
   "outputs": [
    {
     "name": "stdout",
     "output_type": "stream",
     "text": [
      "https://www.ndexbio.org/v2/network/e6c0e0df-abab-11ec-b3be-0ac135e8bacf\n"
     ]
    }
   ],
   "source": [
    "print(network_uuid)"
   ]
  },
  {
   "cell_type": "markdown",
   "metadata": {},
   "source": [
    "## Explore enrichments"
   ]
  },
  {
   "cell_type": "markdown",
   "metadata": {},
   "source": [
    "### Rat"
   ]
  },
  {
   "cell_type": "code",
   "execution_count": 34,
   "metadata": {
    "ExecuteTime": {
     "end_time": "2022-03-24T21:58:32.544595Z",
     "start_time": "2022-03-24T21:58:32.542541Z"
    }
   },
   "outputs": [],
   "source": [
    "rat_comms = [\"C688\",\"C690\",\"C692\",\"C695\",\"C697\",\"C704\",\"C706\",\"C712\",\"C717\",'C721','C722','C730','C739','C740','C744']"
   ]
  },
  {
   "cell_type": "code",
   "execution_count": 22,
   "metadata": {
    "ExecuteTime": {
     "end_time": "2022-03-24T21:53:05.345623Z",
     "start_time": "2022-03-24T21:53:05.337484Z"
    }
   },
   "outputs": [],
   "source": [
    "hier_rat_df = pd.read_csv(DATADIR+\"hier_rat_only_df.tsv\", sep=\"\\t\", index_col=0)\n",
    "hier_rat_df[\"CD_MemberList\"] = hier_rat_df.CD_MemberList.apply(lambda x: x[2:-2].split(\"', '\"))"
   ]
  },
  {
   "cell_type": "code",
   "execution_count": 38,
   "metadata": {
    "ExecuteTime": {
     "end_time": "2022-03-24T22:03:19.987884Z",
     "start_time": "2022-03-24T22:03:19.985515Z"
    }
   },
   "outputs": [],
   "source": [
    "rat_annotations = pd.DataFrame({\"represents\":hier_rat_df.index, \"name\":hier_rat_df.index})"
   ]
  },
  {
   "cell_type": "code",
   "execution_count": 32,
   "metadata": {
    "ExecuteTime": {
     "end_time": "2022-03-24T21:56:59.000500Z",
     "start_time": "2022-03-24T21:56:58.934399Z"
    }
   },
   "outputs": [
    {
     "data": {
      "text/html": [
       "<div>\n",
       "<style scoped>\n",
       "    .dataframe tbody tr th:only-of-type {\n",
       "        vertical-align: middle;\n",
       "    }\n",
       "\n",
       "    .dataframe tbody tr th {\n",
       "        vertical-align: top;\n",
       "    }\n",
       "\n",
       "    .dataframe thead th {\n",
       "        text-align: right;\n",
       "    }\n",
       "</style>\n",
       "<table border=\"1\" class=\"dataframe\">\n",
       "  <thead>\n",
       "    <tr style=\"text-align: right;\">\n",
       "      <th></th>\n",
       "      <th>observed</th>\n",
       "      <th>total</th>\n",
       "      <th>OR</th>\n",
       "      <th>OR_p</th>\n",
       "      <th>OR_CI_lower</th>\n",
       "      <th>OR_CI_upper</th>\n",
       "      <th>hyper_p</th>\n",
       "      <th>sig_5e6</th>\n",
       "      <th>description</th>\n",
       "      <th>size</th>\n",
       "      <th>name</th>\n",
       "    </tr>\n",
       "  </thead>\n",
       "  <tbody>\n",
       "    <tr>\n",
       "      <th>MP:0000001</th>\n",
       "      <td>461</td>\n",
       "      <td>12416</td>\n",
       "      <td>1.240954</td>\n",
       "      <td>0.013246</td>\n",
       "      <td>1.046099</td>\n",
       "      <td>1.472103</td>\n",
       "      <td>0.005413</td>\n",
       "      <td>False</td>\n",
       "      <td>mammalian phenotype</td>\n",
       "      <td>654</td>\n",
       "      <td>C688</td>\n",
       "    </tr>\n",
       "    <tr>\n",
       "      <th>MP:0005376</th>\n",
       "      <td>246</td>\n",
       "      <td>6165</td>\n",
       "      <td>1.247545</td>\n",
       "      <td>0.007171</td>\n",
       "      <td>1.061786</td>\n",
       "      <td>1.465803</td>\n",
       "      <td>0.003367</td>\n",
       "      <td>False</td>\n",
       "      <td>homeostasis/metabolism phenotype</td>\n",
       "      <td>654</td>\n",
       "      <td>C688</td>\n",
       "    </tr>\n",
       "    <tr>\n",
       "      <th>MP:0005378</th>\n",
       "      <td>226</td>\n",
       "      <td>5952</td>\n",
       "      <td>1.147186</td>\n",
       "      <td>0.101154</td>\n",
       "      <td>0.973497</td>\n",
       "      <td>1.351864</td>\n",
       "      <td>0.046977</td>\n",
       "      <td>False</td>\n",
       "      <td>growth/size/body region phenotype</td>\n",
       "      <td>654</td>\n",
       "      <td>C688</td>\n",
       "    </tr>\n",
       "    <tr>\n",
       "      <th>MP:0010768</th>\n",
       "      <td>225</td>\n",
       "      <td>6248</td>\n",
       "      <td>1.057398</td>\n",
       "      <td>0.505453</td>\n",
       "      <td>0.897223</td>\n",
       "      <td>1.246167</td>\n",
       "      <td>0.238719</td>\n",
       "      <td>False</td>\n",
       "      <td>mortality/aging</td>\n",
       "      <td>654</td>\n",
       "      <td>C688</td>\n",
       "    </tr>\n",
       "    <tr>\n",
       "      <th>MP:0001764</th>\n",
       "      <td>222</td>\n",
       "      <td>5499</td>\n",
       "      <td>1.255167</td>\n",
       "      <td>0.006939</td>\n",
       "      <td>1.064257</td>\n",
       "      <td>1.480322</td>\n",
       "      <td>0.003311</td>\n",
       "      <td>False</td>\n",
       "      <td>abnormal homeostasis</td>\n",
       "      <td>654</td>\n",
       "      <td>C688</td>\n",
       "    </tr>\n",
       "  </tbody>\n",
       "</table>\n",
       "</div>"
      ],
      "text/plain": [
       "            observed  total        OR      OR_p  OR_CI_lower  OR_CI_upper  \\\n",
       "MP:0000001       461  12416  1.240954  0.013246     1.046099     1.472103   \n",
       "MP:0005376       246   6165  1.247545  0.007171     1.061786     1.465803   \n",
       "MP:0005378       226   5952  1.147186  0.101154     0.973497     1.351864   \n",
       "MP:0010768       225   6248  1.057398  0.505453     0.897223     1.246167   \n",
       "MP:0001764       222   5499  1.255167  0.006939     1.064257     1.480322   \n",
       "\n",
       "             hyper_p  sig_5e6                        description  size  name  \n",
       "MP:0000001  0.005413    False                mammalian phenotype   654  C688  \n",
       "MP:0005376  0.003367    False   homeostasis/metabolism phenotype   654  C688  \n",
       "MP:0005378  0.046977    False  growth/size/body region phenotype   654  C688  \n",
       "MP:0010768  0.238719    False                    mortality/aging   654  C688  \n",
       "MP:0001764  0.003311    False               abnormal homeostasis   654  C688  "
      ]
     },
     "execution_count": 32,
     "metadata": {},
     "output_type": "execute_result"
    }
   ],
   "source": [
    "rat_results = pd.read_csv(DATADIR+\"rat_only_enrichment_results.tsv\", sep=\"\\t\", index_col=0)"
   ]
  },
  {
   "cell_type": "code",
   "execution_count": 42,
   "metadata": {
    "ExecuteTime": {
     "end_time": "2022-03-24T22:05:18.679016Z",
     "start_time": "2022-03-24T22:05:17.745733Z"
    }
   },
   "outputs": [
    {
     "data": {
      "text/html": [
       "<div>\n",
       "<style scoped>\n",
       "    .dataframe tbody tr th:only-of-type {\n",
       "        vertical-align: middle;\n",
       "    }\n",
       "\n",
       "    .dataframe tbody tr th {\n",
       "        vertical-align: top;\n",
       "    }\n",
       "\n",
       "    .dataframe thead th {\n",
       "        text-align: right;\n",
       "    }\n",
       "</style>\n",
       "<table border=\"1\" class=\"dataframe\">\n",
       "  <thead>\n",
       "    <tr style=\"text-align: right;\">\n",
       "      <th>name_x</th>\n",
       "      <th>C688</th>\n",
       "      <th>C690</th>\n",
       "      <th>C692</th>\n",
       "      <th>C695</th>\n",
       "      <th>C697</th>\n",
       "      <th>C704</th>\n",
       "      <th>C706</th>\n",
       "      <th>C712</th>\n",
       "      <th>C717</th>\n",
       "      <th>C721</th>\n",
       "      <th>C722</th>\n",
       "      <th>C730</th>\n",
       "      <th>C739</th>\n",
       "      <th>C740</th>\n",
       "      <th>C744</th>\n",
       "    </tr>\n",
       "    <tr>\n",
       "      <th>description</th>\n",
       "      <th></th>\n",
       "      <th></th>\n",
       "      <th></th>\n",
       "      <th></th>\n",
       "      <th></th>\n",
       "      <th></th>\n",
       "      <th></th>\n",
       "      <th></th>\n",
       "      <th></th>\n",
       "      <th></th>\n",
       "      <th></th>\n",
       "      <th></th>\n",
       "      <th></th>\n",
       "      <th></th>\n",
       "      <th></th>\n",
       "    </tr>\n",
       "  </thead>\n",
       "  <tbody>\n",
       "    <tr>\n",
       "      <th>growth/size/body region phenotype</th>\n",
       "      <td>NaN</td>\n",
       "      <td>1.827574</td>\n",
       "      <td>7.723123</td>\n",
       "      <td>0.281633</td>\n",
       "      <td>9.211794</td>\n",
       "      <td>3.24634</td>\n",
       "      <td>4.328398</td>\n",
       "      <td>NaN</td>\n",
       "      <td>21.654325</td>\n",
       "      <td>7.574601</td>\n",
       "      <td>7.574601</td>\n",
       "      <td>NaN</td>\n",
       "      <td>25.969728</td>\n",
       "      <td>10.818060</td>\n",
       "      <td>NaN</td>\n",
       "    </tr>\n",
       "    <tr>\n",
       "      <th>postnatal growth/weight/body size</th>\n",
       "      <td>NaN</td>\n",
       "      <td>1.683776</td>\n",
       "      <td>4.192741</td>\n",
       "      <td>NaN</td>\n",
       "      <td>4.383665</td>\n",
       "      <td>NaN</td>\n",
       "      <td>3.980932</td>\n",
       "      <td>3.316565</td>\n",
       "      <td>6.969404</td>\n",
       "      <td>NaN</td>\n",
       "      <td>NaN</td>\n",
       "      <td>NaN</td>\n",
       "      <td>NaN</td>\n",
       "      <td>NaN</td>\n",
       "      <td>NaN</td>\n",
       "    </tr>\n",
       "    <tr>\n",
       "      <th>body composition</th>\n",
       "      <td>NaN</td>\n",
       "      <td>1.860052</td>\n",
       "      <td>4.997667</td>\n",
       "      <td>NaN</td>\n",
       "      <td>6.351856</td>\n",
       "      <td>NaN</td>\n",
       "      <td>4.116453</td>\n",
       "      <td>NaN</td>\n",
       "      <td>10.094458</td>\n",
       "      <td>4.609346</td>\n",
       "      <td>NaN</td>\n",
       "      <td>NaN</td>\n",
       "      <td>NaN</td>\n",
       "      <td>5.760331</td>\n",
       "      <td>NaN</td>\n",
       "    </tr>\n",
       "    <tr>\n",
       "      <th>prenatal growth/weight/body size</th>\n",
       "      <td>NaN</td>\n",
       "      <td>NaN</td>\n",
       "      <td>2.460507</td>\n",
       "      <td>NaN</td>\n",
       "      <td>NaN</td>\n",
       "      <td>NaN</td>\n",
       "      <td>8.537977</td>\n",
       "      <td>NaN</td>\n",
       "      <td>NaN</td>\n",
       "      <td>NaN</td>\n",
       "      <td>NaN</td>\n",
       "      <td>NaN</td>\n",
       "      <td>NaN</td>\n",
       "      <td>NaN</td>\n",
       "      <td>NaN</td>\n",
       "    </tr>\n",
       "    <tr>\n",
       "      <th>body size</th>\n",
       "      <td>NaN</td>\n",
       "      <td>1.725109</td>\n",
       "      <td>4.079438</td>\n",
       "      <td>NaN</td>\n",
       "      <td>3.534184</td>\n",
       "      <td>NaN</td>\n",
       "      <td>4.709775</td>\n",
       "      <td>3.923622</td>\n",
       "      <td>5.652095</td>\n",
       "      <td>NaN</td>\n",
       "      <td>NaN</td>\n",
       "      <td>NaN</td>\n",
       "      <td>NaN</td>\n",
       "      <td>NaN</td>\n",
       "      <td>7.060055</td>\n",
       "    </tr>\n",
       "    <tr>\n",
       "      <th>prenatal body size</th>\n",
       "      <td>NaN</td>\n",
       "      <td>NaN</td>\n",
       "      <td>NaN</td>\n",
       "      <td>NaN</td>\n",
       "      <td>NaN</td>\n",
       "      <td>NaN</td>\n",
       "      <td>8.143382</td>\n",
       "      <td>NaN</td>\n",
       "      <td>NaN</td>\n",
       "      <td>NaN</td>\n",
       "      <td>NaN</td>\n",
       "      <td>5.419572</td>\n",
       "      <td>NaN</td>\n",
       "      <td>NaN</td>\n",
       "      <td>NaN</td>\n",
       "    </tr>\n",
       "    <tr>\n",
       "      <th>embryo size</th>\n",
       "      <td>NaN</td>\n",
       "      <td>NaN</td>\n",
       "      <td>NaN</td>\n",
       "      <td>NaN</td>\n",
       "      <td>NaN</td>\n",
       "      <td>NaN</td>\n",
       "      <td>6.533406</td>\n",
       "      <td>NaN</td>\n",
       "      <td>NaN</td>\n",
       "      <td>NaN</td>\n",
       "      <td>NaN</td>\n",
       "      <td>NaN</td>\n",
       "      <td>NaN</td>\n",
       "      <td>NaN</td>\n",
       "      <td>NaN</td>\n",
       "    </tr>\n",
       "  </tbody>\n",
       "</table>\n",
       "</div>"
      ],
      "text/plain": [
       "name_x                             C688      C690      C692      C695  \\\n",
       "description                                                             \n",
       "growth/size/body region phenotype   NaN  1.827574  7.723123  0.281633   \n",
       "postnatal growth/weight/body size   NaN  1.683776  4.192741       NaN   \n",
       "body composition                    NaN  1.860052  4.997667       NaN   \n",
       "prenatal growth/weight/body size    NaN       NaN  2.460507       NaN   \n",
       "body size                           NaN  1.725109  4.079438       NaN   \n",
       "prenatal body size                  NaN       NaN       NaN       NaN   \n",
       "embryo size                         NaN       NaN       NaN       NaN   \n",
       "\n",
       "name_x                                 C697     C704      C706      C712  \\\n",
       "description                                                                \n",
       "growth/size/body region phenotype  9.211794  3.24634  4.328398       NaN   \n",
       "postnatal growth/weight/body size  4.383665      NaN  3.980932  3.316565   \n",
       "body composition                   6.351856      NaN  4.116453       NaN   \n",
       "prenatal growth/weight/body size        NaN      NaN  8.537977       NaN   \n",
       "body size                          3.534184      NaN  4.709775  3.923622   \n",
       "prenatal body size                      NaN      NaN  8.143382       NaN   \n",
       "embryo size                             NaN      NaN  6.533406       NaN   \n",
       "\n",
       "name_x                                  C717      C721      C722      C730  \\\n",
       "description                                                                  \n",
       "growth/size/body region phenotype  21.654325  7.574601  7.574601       NaN   \n",
       "postnatal growth/weight/body size   6.969404       NaN       NaN       NaN   \n",
       "body composition                   10.094458  4.609346       NaN       NaN   \n",
       "prenatal growth/weight/body size         NaN       NaN       NaN       NaN   \n",
       "body size                           5.652095       NaN       NaN       NaN   \n",
       "prenatal body size                       NaN       NaN       NaN  5.419572   \n",
       "embryo size                              NaN       NaN       NaN       NaN   \n",
       "\n",
       "name_x                                  C739       C740      C744  \n",
       "description                                                        \n",
       "growth/size/body region phenotype  25.969728  10.818060       NaN  \n",
       "postnatal growth/weight/body size        NaN        NaN       NaN  \n",
       "body composition                         NaN   5.760331       NaN  \n",
       "prenatal growth/weight/body size         NaN        NaN       NaN  \n",
       "body size                                NaN        NaN  7.060055  \n",
       "prenatal body size                       NaN        NaN       NaN  \n",
       "embryo size                              NaN        NaN       NaN  "
      ]
     },
     "execution_count": 42,
     "metadata": {},
     "output_type": "execute_result"
    },
    {
     "data": {
      "image/png": "[encoded data removed]",
      "text/plain": [
       "<Figure size 864x168 with 2 Axes>"
      ]
     },
     "metadata": {
      "needs_background": "light"
     },
     "output_type": "display_data"
    }
   ],
   "source": [
    "\n",
    "plot_community_heatmap(rat_results, mps, rat_comms, rat_annotations, MPO2, filter_th=0.05, stat=\"OR\", filter_stat=\"OR_p\",\n",
    "                          ylabel_groups=None, color_range=None, vert=None, horz=12)"
   ]
  },
  {
   "cell_type": "markdown",
   "metadata": {},
   "source": [
    "### Human"
   ]
  },
  {
   "cell_type": "code",
   "execution_count": 27,
   "metadata": {
    "ExecuteTime": {
     "end_time": "2022-03-24T21:55:38.366896Z",
     "start_time": "2022-03-24T21:55:38.342374Z"
    }
   },
   "outputs": [],
   "source": [
    "hier_human_df = pd.read_csv(DATADIR+\"hier_human_only_df2.tsv\", sep=\"\\t\", index_col=0)\n",
    "hier_human_df[\"CD_MemberList\"] = hier_human_df.CD_MemberList.apply(lambda x: x[2:-2].split(\"', '\"))"
   ]
  },
  {
   "cell_type": "code",
   "execution_count": 33,
   "metadata": {
    "ExecuteTime": {
     "end_time": "2022-03-24T21:57:14.803456Z",
     "start_time": "2022-03-24T21:57:14.743763Z"
    }
   },
   "outputs": [
    {
     "data": {
      "text/html": [
       "<div>\n",
       "<style scoped>\n",
       "    .dataframe tbody tr th:only-of-type {\n",
       "        vertical-align: middle;\n",
       "    }\n",
       "\n",
       "    .dataframe tbody tr th {\n",
       "        vertical-align: top;\n",
       "    }\n",
       "\n",
       "    .dataframe thead th {\n",
       "        text-align: right;\n",
       "    }\n",
       "</style>\n",
       "<table border=\"1\" class=\"dataframe\">\n",
       "  <thead>\n",
       "    <tr style=\"text-align: right;\">\n",
       "      <th></th>\n",
       "      <th>observed</th>\n",
       "      <th>total</th>\n",
       "      <th>OR</th>\n",
       "      <th>OR_p</th>\n",
       "      <th>OR_CI_lower</th>\n",
       "      <th>OR_CI_upper</th>\n",
       "      <th>hyper_p</th>\n",
       "      <th>sig_5e6</th>\n",
       "      <th>description</th>\n",
       "      <th>size</th>\n",
       "      <th>name</th>\n",
       "    </tr>\n",
       "  </thead>\n",
       "  <tbody>\n",
       "    <tr>\n",
       "      <th>MP:0000001</th>\n",
       "      <td>652</td>\n",
       "      <td>12416</td>\n",
       "      <td>1.299275</td>\n",
       "      <td>4.669190e-04</td>\n",
       "      <td>1.122050</td>\n",
       "      <td>1.504492</td>\n",
       "      <td>1.662458e-04</td>\n",
       "      <td>False</td>\n",
       "      <td>mammalian phenotype</td>\n",
       "      <td>914</td>\n",
       "      <td>C925</td>\n",
       "    </tr>\n",
       "    <tr>\n",
       "      <th>MP:0010768</th>\n",
       "      <td>372</td>\n",
       "      <td>6248</td>\n",
       "      <td>1.405166</td>\n",
       "      <td>8.804435e-07</td>\n",
       "      <td>1.226980</td>\n",
       "      <td>1.609228</td>\n",
       "      <td>4.803153e-07</td>\n",
       "      <td>True</td>\n",
       "      <td>mortality/aging</td>\n",
       "      <td>914</td>\n",
       "      <td>C925</td>\n",
       "    </tr>\n",
       "    <tr>\n",
       "      <th>MP:0010769</th>\n",
       "      <td>351</td>\n",
       "      <td>5844</td>\n",
       "      <td>1.408854</td>\n",
       "      <td>9.442906e-07</td>\n",
       "      <td>1.228446</td>\n",
       "      <td>1.615756</td>\n",
       "      <td>5.426258e-07</td>\n",
       "      <td>True</td>\n",
       "      <td>abnormal survival</td>\n",
       "      <td>914</td>\n",
       "      <td>C925</td>\n",
       "    </tr>\n",
       "    <tr>\n",
       "      <th>MP:0005378</th>\n",
       "      <td>342</td>\n",
       "      <td>5952</td>\n",
       "      <td>1.310482</td>\n",
       "      <td>1.179688e-04</td>\n",
       "      <td>1.141968</td>\n",
       "      <td>1.503863</td>\n",
       "      <td>5.996213e-05</td>\n",
       "      <td>False</td>\n",
       "      <td>growth/size/body region phenotype</td>\n",
       "      <td>914</td>\n",
       "      <td>C925</td>\n",
       "    </tr>\n",
       "    <tr>\n",
       "      <th>MP:0010770</th>\n",
       "      <td>329</td>\n",
       "      <td>5265</td>\n",
       "      <td>1.477763</td>\n",
       "      <td>3.646079e-08</td>\n",
       "      <td>1.286009</td>\n",
       "      <td>1.698110</td>\n",
       "      <td>2.560850e-08</td>\n",
       "      <td>True</td>\n",
       "      <td>preweaning lethality</td>\n",
       "      <td>914</td>\n",
       "      <td>C925</td>\n",
       "    </tr>\n",
       "  </tbody>\n",
       "</table>\n",
       "</div>"
      ],
      "text/plain": [
       "            observed  total        OR          OR_p  OR_CI_lower  OR_CI_upper  \\\n",
       "MP:0000001       652  12416  1.299275  4.669190e-04     1.122050     1.504492   \n",
       "MP:0010768       372   6248  1.405166  8.804435e-07     1.226980     1.609228   \n",
       "MP:0010769       351   5844  1.408854  9.442906e-07     1.228446     1.615756   \n",
       "MP:0005378       342   5952  1.310482  1.179688e-04     1.141968     1.503863   \n",
       "MP:0010770       329   5265  1.477763  3.646079e-08     1.286009     1.698110   \n",
       "\n",
       "                 hyper_p  sig_5e6                        description  size  \\\n",
       "MP:0000001  1.662458e-04    False                mammalian phenotype   914   \n",
       "MP:0010768  4.803153e-07     True                    mortality/aging   914   \n",
       "MP:0010769  5.426258e-07     True                  abnormal survival   914   \n",
       "MP:0005378  5.996213e-05    False  growth/size/body region phenotype   914   \n",
       "MP:0010770  2.560850e-08     True               preweaning lethality   914   \n",
       "\n",
       "            name  \n",
       "MP:0000001  C925  \n",
       "MP:0010768  C925  \n",
       "MP:0010769  C925  \n",
       "MP:0005378  C925  \n",
       "MP:0010770  C925  "
      ]
     },
     "execution_count": 33,
     "metadata": {},
     "output_type": "execute_result"
    }
   ],
   "source": [
    "human_results = pd.read_csv(DATADIR+\"human_only_enrichment_results.tsv\", sep=\"\\t\", index_col=0)\n",
    "human_results.head()"
   ]
  },
  {
   "cell_type": "code",
   "execution_count": 109,
   "metadata": {
    "ExecuteTime": {
     "end_time": "2022-03-25T16:50:11.933071Z",
     "start_time": "2022-03-25T16:50:11.914743Z"
    }
   },
   "outputs": [
    {
     "data": {
      "text/html": [
       "<div>\n",
       "<style scoped>\n",
       "    .dataframe tbody tr th:only-of-type {\n",
       "        vertical-align: middle;\n",
       "    }\n",
       "\n",
       "    .dataframe tbody tr th {\n",
       "        vertical-align: top;\n",
       "    }\n",
       "\n",
       "    .dataframe thead th {\n",
       "        text-align: right;\n",
       "    }\n",
       "</style>\n",
       "<table border=\"1\" class=\"dataframe\">\n",
       "  <thead>\n",
       "    <tr style=\"text-align: right;\">\n",
       "      <th></th>\n",
       "      <th>CD_MemberList</th>\n",
       "      <th>CD_MemberList_Size</th>\n",
       "      <th>CD_Labeled</th>\n",
       "      <th>CD_MemberList_LogSize</th>\n",
       "      <th>CD_CommunityName</th>\n",
       "      <th>CD_AnnotatedMembers</th>\n",
       "      <th>CD_AnnotatedMembers_Size</th>\n",
       "      <th>CD_AnnotatedMembers_Overlap</th>\n",
       "      <th>CD_AnnotatedMembers_Pvalue</th>\n",
       "      <th>HiDeF_persistence</th>\n",
       "      <th>...</th>\n",
       "      <th>abnormal body composition</th>\n",
       "      <th>abnormal body size</th>\n",
       "      <th>abnormal embryo size</th>\n",
       "      <th>abnormal postnatal growth/weight/body size</th>\n",
       "      <th>abnormal prenatal body size</th>\n",
       "      <th>abnormal prenatal growth/weight/body size</th>\n",
       "      <th>growth/size/body region phenotype</th>\n",
       "      <th>go_annotation</th>\n",
       "      <th>GO_p</th>\n",
       "      <th>GO_intersect</th>\n",
       "    </tr>\n",
       "  </thead>\n",
       "  <tbody>\n",
       "    <tr>\n",
       "      <th>C925</th>\n",
       "      <td>[GXYLT2, DDX19B, CDC37, HOXC12, FREM3, ULK1, A...</td>\n",
       "      <td>914</td>\n",
       "      <td>False</td>\n",
       "      <td>9.836</td>\n",
       "      <td>NaN</td>\n",
       "      <td>NaN</td>\n",
       "      <td>0</td>\n",
       "      <td>0.0</td>\n",
       "      <td>0.0</td>\n",
       "      <td>110</td>\n",
       "      <td>...</td>\n",
       "      <td>NaN</td>\n",
       "      <td>1.213640</td>\n",
       "      <td>1.700507</td>\n",
       "      <td>1.252411</td>\n",
       "      <td>1.672613</td>\n",
       "      <td>1.663216</td>\n",
       "      <td>1.310482</td>\n",
       "      <td>NaN</td>\n",
       "      <td>NaN</td>\n",
       "      <td>NaN</td>\n",
       "    </tr>\n",
       "    <tr>\n",
       "      <th>C928</th>\n",
       "      <td>[BOLL, C3orf20, LRRC66, ITLN1, JUND, FIBCD1, P...</td>\n",
       "      <td>49</td>\n",
       "      <td>False</td>\n",
       "      <td>5.615</td>\n",
       "      <td>NaN</td>\n",
       "      <td>NaN</td>\n",
       "      <td>0</td>\n",
       "      <td>0.0</td>\n",
       "      <td>0.0</td>\n",
       "      <td>8</td>\n",
       "      <td>...</td>\n",
       "      <td>NaN</td>\n",
       "      <td>NaN</td>\n",
       "      <td>NaN</td>\n",
       "      <td>NaN</td>\n",
       "      <td>NaN</td>\n",
       "      <td>NaN</td>\n",
       "      <td>0.421068</td>\n",
       "      <td>protein side chain deglutamylation</td>\n",
       "      <td>3.321941e-08</td>\n",
       "      <td>4.0</td>\n",
       "    </tr>\n",
       "    <tr>\n",
       "      <th>C960</th>\n",
       "      <td>[TGFB1, SLC35F4, SLC35G5, SLC35G2, SLC35F5]</td>\n",
       "      <td>5</td>\n",
       "      <td>False</td>\n",
       "      <td>2.322</td>\n",
       "      <td>NaN</td>\n",
       "      <td>NaN</td>\n",
       "      <td>0</td>\n",
       "      <td>0.0</td>\n",
       "      <td>0.0</td>\n",
       "      <td>97</td>\n",
       "      <td>...</td>\n",
       "      <td>NaN</td>\n",
       "      <td>NaN</td>\n",
       "      <td>NaN</td>\n",
       "      <td>NaN</td>\n",
       "      <td>NaN</td>\n",
       "      <td>NaN</td>\n",
       "      <td>NaN</td>\n",
       "      <td>NaN</td>\n",
       "      <td>NaN</td>\n",
       "      <td>NaN</td>\n",
       "    </tr>\n",
       "    <tr>\n",
       "      <th>C964</th>\n",
       "      <td>[SENP3, NCKAP5L, ZNF438, CCDC122, RABEP1]</td>\n",
       "      <td>5</td>\n",
       "      <td>False</td>\n",
       "      <td>2.322</td>\n",
       "      <td>NaN</td>\n",
       "      <td>NaN</td>\n",
       "      <td>0</td>\n",
       "      <td>0.0</td>\n",
       "      <td>0.0</td>\n",
       "      <td>6</td>\n",
       "      <td>...</td>\n",
       "      <td>NaN</td>\n",
       "      <td>NaN</td>\n",
       "      <td>NaN</td>\n",
       "      <td>NaN</td>\n",
       "      <td>NaN</td>\n",
       "      <td>NaN</td>\n",
       "      <td>NaN</td>\n",
       "      <td>NaN</td>\n",
       "      <td>NaN</td>\n",
       "      <td>NaN</td>\n",
       "    </tr>\n",
       "    <tr>\n",
       "      <th>C969</th>\n",
       "      <td>[SEC16B, PRDX2, MSRA, ERP44]</td>\n",
       "      <td>4</td>\n",
       "      <td>False</td>\n",
       "      <td>2.000</td>\n",
       "      <td>NaN</td>\n",
       "      <td>NaN</td>\n",
       "      <td>0</td>\n",
       "      <td>0.0</td>\n",
       "      <td>0.0</td>\n",
       "      <td>12</td>\n",
       "      <td>...</td>\n",
       "      <td>17.283148</td>\n",
       "      <td>14.121019</td>\n",
       "      <td>NaN</td>\n",
       "      <td>11.937285</td>\n",
       "      <td>NaN</td>\n",
       "      <td>NaN</td>\n",
       "      <td>NaN</td>\n",
       "      <td>NaN</td>\n",
       "      <td>NaN</td>\n",
       "      <td>NaN</td>\n",
       "    </tr>\n",
       "  </tbody>\n",
       "</table>\n",
       "<p>5 rows × 26 columns</p>\n",
       "</div>"
      ],
      "text/plain": [
       "                                          CD_MemberList  CD_MemberList_Size  \\\n",
       "C925  [GXYLT2, DDX19B, CDC37, HOXC12, FREM3, ULK1, A...                 914   \n",
       "C928  [BOLL, C3orf20, LRRC66, ITLN1, JUND, FIBCD1, P...                  49   \n",
       "C960        [TGFB1, SLC35F4, SLC35G5, SLC35G2, SLC35F5]                   5   \n",
       "C964          [SENP3, NCKAP5L, ZNF438, CCDC122, RABEP1]                   5   \n",
       "C969                       [SEC16B, PRDX2, MSRA, ERP44]                   4   \n",
       "\n",
       "      CD_Labeled  CD_MemberList_LogSize  CD_CommunityName  \\\n",
       "C925       False                  9.836               NaN   \n",
       "C928       False                  5.615               NaN   \n",
       "C960       False                  2.322               NaN   \n",
       "C964       False                  2.322               NaN   \n",
       "C969       False                  2.000               NaN   \n",
       "\n",
       "      CD_AnnotatedMembers  CD_AnnotatedMembers_Size  \\\n",
       "C925                  NaN                         0   \n",
       "C928                  NaN                         0   \n",
       "C960                  NaN                         0   \n",
       "C964                  NaN                         0   \n",
       "C969                  NaN                         0   \n",
       "\n",
       "      CD_AnnotatedMembers_Overlap  CD_AnnotatedMembers_Pvalue  \\\n",
       "C925                          0.0                         0.0   \n",
       "C928                          0.0                         0.0   \n",
       "C960                          0.0                         0.0   \n",
       "C964                          0.0                         0.0   \n",
       "C969                          0.0                         0.0   \n",
       "\n",
       "      HiDeF_persistence  ... abnormal body composition  abnormal body size  \\\n",
       "C925                110  ...                       NaN            1.213640   \n",
       "C928                  8  ...                       NaN                 NaN   \n",
       "C960                 97  ...                       NaN                 NaN   \n",
       "C964                  6  ...                       NaN                 NaN   \n",
       "C969                 12  ...                 17.283148           14.121019   \n",
       "\n",
       "      abnormal embryo size  abnormal postnatal growth/weight/body size  \\\n",
       "C925              1.700507                                    1.252411   \n",
       "C928                   NaN                                         NaN   \n",
       "C960                   NaN                                         NaN   \n",
       "C964                   NaN                                         NaN   \n",
       "C969                   NaN                                   11.937285   \n",
       "\n",
       "      abnormal prenatal body size  abnormal prenatal growth/weight/body size  \\\n",
       "C925                     1.672613                                   1.663216   \n",
       "C928                          NaN                                        NaN   \n",
       "C960                          NaN                                        NaN   \n",
       "C964                          NaN                                        NaN   \n",
       "C969                          NaN                                        NaN   \n",
       "\n",
       "      growth/size/body region phenotype                       go_annotation  \\\n",
       "C925                           1.310482                                 NaN   \n",
       "C928                           0.421068  protein side chain deglutamylation   \n",
       "C960                                NaN                                 NaN   \n",
       "C964                                NaN                                 NaN   \n",
       "C969                                NaN                                 NaN   \n",
       "\n",
       "              GO_p  GO_intersect  \n",
       "C925           NaN           NaN  \n",
       "C928  3.321941e-08           4.0  \n",
       "C960           NaN           NaN  \n",
       "C964           NaN           NaN  \n",
       "C969           NaN           NaN  \n",
       "\n",
       "[5 rows x 26 columns]"
      ]
     },
     "execution_count": 109,
     "metadata": {},
     "output_type": "execute_result"
    }
   ],
   "source": [
    "hier_human_df.head()"
   ]
  },
  {
   "cell_type": "markdown",
   "metadata": {},
   "source": [
    "## COMBO HIERARCHY"
   ]
  },
  {
   "cell_type": "code",
   "execution_count": 49,
   "metadata": {
    "ExecuteTime": {
     "end_time": "2022-03-24T22:26:42.967393Z",
     "start_time": "2022-03-24T22:26:42.963403Z"
    }
   },
   "outputs": [
    {
     "data": {
      "text/plain": [
       "None          16550\n",
       "human-only      925\n",
       "rat-only        688\n",
       "Name: NewSubGraph, dtype: int64"
      ]
     },
     "execution_count": 49,
     "metadata": {},
     "output_type": "execute_result"
    }
   ],
   "source": [
    "data_all.NewSubGraph.value_counts()"
   ]
  },
  {
   "cell_type": "code",
   "execution_count": 53,
   "metadata": {
    "ExecuteTime": {
     "end_time": "2022-03-24T22:27:36.385937Z",
     "start_time": "2022-03-24T22:27:36.380424Z"
    }
   },
   "outputs": [
    {
     "data": {
      "text/plain": [
       "(2270, 8)"
      ]
     },
     "execution_count": 53,
     "metadata": {},
     "output_type": "execute_result"
    }
   ],
   "source": [
    "data_all[data_all.NewSubGraph != \"None\"].shape"
   ]
  },
  {
   "cell_type": "code",
   "execution_count": 54,
   "metadata": {
    "ExecuteTime": {
     "end_time": "2022-03-24T22:28:05.844998Z",
     "start_time": "2022-03-24T22:28:05.507392Z"
    }
   },
   "outputs": [],
   "source": [
    "G_combo = G.subgraph(nodes=data_all.loc[data_all.NewSubGraph!=\"None\"].index)\n",
    "G_combo_cx = ndex2.create_nice_cx_from_networkx(G_combo)\n",
    "G_combo_cx.set_name(\"comboGraph\")"
   ]
  },
  {
   "cell_type": "code",
   "execution_count": 57,
   "metadata": {
    "ExecuteTime": {
     "end_time": "2022-03-24T22:29:37.380631Z",
     "start_time": "2022-03-24T22:29:27.246597Z"
    }
   },
   "outputs": [
    {
     "name": "stdout",
     "output_type": "stream",
     "text": [
      "Hierarchy name: hidefv1.1beta_(none)_comboGraph\n",
      "# nodes: 130\n",
      "# edges: 131\n",
      "number of nodes:\n",
      "130\n",
      "\n",
      "number of edges:\n",
      "131\n"
     ]
    }
   ],
   "source": [
    "G_combo, hier_combo_df = create_hierarchy(G_combo_cx, max_resolution=20)"
   ]
  },
  {
   "cell_type": "code",
   "execution_count": 58,
   "metadata": {
    "ExecuteTime": {
     "end_time": "2022-03-24T22:33:01.828026Z",
     "start_time": "2022-03-24T22:30:39.598593Z"
    },
    "scrolled": true
   },
   "outputs": [
    {
     "name": "stdout",
     "output_type": "stream",
     "text": [
      "C2270 : 2252\n",
      "C2308 : 12\n",
      "C2318 : 10\n",
      "C2321 : 10\n",
      "C2326 : 9\n",
      "C2328 : 9\n",
      "C2335 : 8\n",
      "C2336 : 8\n",
      "C2341 : 7\n",
      "C2342 : 7\n",
      "C2347 : 7\n",
      "C2350 : 7\n",
      "C2352 : 6\n",
      "C2356 : 6\n",
      "C2359 : 6\n",
      "C2364 : 5\n",
      "C2370 : 5\n",
      "C2377 : 4\n",
      "C2379 : 4\n",
      "C2380 : 4\n",
      "C2381 : 4\n",
      "C2388 : 4\n",
      "C2271 : 1055\n",
      "C2272 : 952\n",
      "C2280 : 36\n",
      "C2292 : 17\n",
      "C2303 : 13\n",
      "C2310 : 11\n",
      "C2314 : 10\n",
      "C2320 : 10\n",
      "C2322 : 10\n",
      "C2333 : 8\n",
      "C2338 : 7\n",
      "C2339 : 7\n",
      "C2349 : 7\n",
      "C2360 : 6\n",
      "C2362 : 5\n",
      "C2363 : 5\n",
      "C2365 : 5\n",
      "C2367 : 5\n",
      "C2368 : 5\n",
      "C2374 : 5\n",
      "C2375 : 4\n",
      "C2383 : 4\n",
      "C2391 : 4\n",
      "C2392 : 4\n",
      "C2397 : 4\n",
      "C2398 : 4\n",
      "C2274 : 402\n",
      "C2282 : 34\n",
      "C2286 : 28\n",
      "C2295 : 16\n",
      "C2296 : 16\n",
      "C2302 : 13\n",
      "C2309 : 11\n",
      "C2317 : 10\n",
      "C2319 : 10\n",
      "C2324 : 9\n",
      "C2327 : 9\n",
      "C2329 : 9\n",
      "C2343 : 7\n",
      "C2354 : 6\n",
      "C2366 : 5\n",
      "C2369 : 5\n",
      "C2372 : 5\n",
      "C2373 : 5\n",
      "C2382 : 4\n",
      "C2395 : 4\n",
      "C2399 : 4\n",
      "C2273 : 435\n",
      "p_value                                                   0.000014\n",
      "intersections    [SYT9, SYT4, SYT12, SYT6, SYT7, SYT17, SYT2, S...\n",
      "Name: regulation of dopamine secretion, dtype: object\n",
      "p_value                                                   0.000014\n",
      "intersections    [SYT9, SYT4, SYT12, SYT6, SYT7, SYT17, SYT2, S...\n",
      "Name: dopamine secretion, dtype: object\n",
      "p_value                                                   0.000137\n",
      "intersections    [SYT9, SYT4, SYT12, SYT6, SYT7, SYT17, SYT2, S...\n",
      "Name: dopamine transport, dtype: object\n",
      "C2275 : 72\n",
      "C2276 : 47\n",
      "C2277 : 45\n",
      "C2278 : 42\n",
      "C2279 : 42\n",
      "C2294 : 17\n",
      "C2304 : 13\n",
      "C2361 : 6\n",
      "C2315 : 10\n",
      "C2285 : 29\n",
      "p_value                                                        0.0\n",
      "intersections    [SYT2, SYT6, SYT9, SYT12, SYT4, SYT17, SYT7, S...\n",
      "Name: dopamine secretion, dtype: object\n",
      "p_value                                                        0.0\n",
      "intersections    [SYT2, SYT6, SYT9, SYT12, SYT4, SYT17, SYT7, S...\n",
      "Name: regulation of dopamine secretion, dtype: object\n",
      "p_value                                                        0.0\n",
      "intersections    [SYT2, SYT6, SYT9, SYT12, SYT4, SYT17, SYT7, S...\n",
      "Name: dopamine transport, dtype: object\n",
      "C2288 : 27\n",
      "C2290 : 20\n",
      "C2291 : 20\n",
      "C2297 : 16\n",
      "C2330 : 9\n",
      "C2313 : 11\n",
      "C2316 : 10\n",
      "C2332 : 8\n",
      "C2334 : 8\n",
      "C2344 : 7\n",
      "C2345 : 7\n",
      "C2351 : 6\n",
      "C2353 : 6\n",
      "C2371 : 5\n",
      "C2376 : 4\n",
      "C2378 : 4\n",
      "C2385 : 4\n",
      "C2386 : 4\n",
      "C2387 : 4\n",
      "C2389 : 4\n",
      "C2390 : 4\n",
      "C2393 : 4\n",
      "C2396 : 4\n",
      "C2284 : 29\n",
      "C2287 : 28\n",
      "C2300 : 15\n",
      "C2281 : 34\n",
      "C2289 : 24\n",
      "C2311 : 11\n",
      "C2283 : 29\n",
      "C2301 : 14\n",
      "C2357 : 6\n",
      "C2323 : 9\n",
      "C2293 : 17\n",
      "C2306 : 12\n",
      "C2299 : 15\n",
      "C2312 : 11\n",
      "C2307 : 12\n",
      "C2298 : 15\n",
      "C2305 : 12\n",
      "C2346 : 7\n",
      "C2384 : 4\n",
      "C2331 : 8\n",
      "C2325 : 9\n",
      "C2358 : 6\n",
      "C2340 : 7\n",
      "C2348 : 7\n",
      "C2337 : 7\n",
      "C2394 : 4\n",
      "C2355 : 6\n"
     ]
    }
   ],
   "source": [
    "combo_anno = annotate_hierarchy(hier_combo_df)"
   ]
  },
  {
   "cell_type": "code",
   "execution_count": 59,
   "metadata": {
    "ExecuteTime": {
     "end_time": "2022-03-24T22:34:53.554886Z",
     "start_time": "2022-03-24T22:34:53.486386Z"
    }
   },
   "outputs": [],
   "source": [
    "combo_anno.to_csv(\"~/Data/Transfer/rat/combo_all_annotations.tsv\", sep=\"\\t\")"
   ]
  },
  {
   "cell_type": "code",
   "execution_count": 60,
   "metadata": {
    "ExecuteTime": {
     "end_time": "2022-03-24T22:35:48.265543Z",
     "start_time": "2022-03-24T22:34:55.537182Z"
    }
   },
   "outputs": [
    {
     "name": "stderr",
     "output_type": "stream",
     "text": [
      " 11%|█         | 14/130 [00:08<00:18,  6.26it/s]"
     ]
    },
    {
     "name": "stdout",
     "output_type": "stream",
     "text": [
      "0/6 in MPO.genes/seeds\n"
     ]
    },
    {
     "name": "stderr",
     "output_type": "stream",
     "text": [
      " 15%|█▌        | 20/130 [00:09<00:13,  8.29it/s]"
     ]
    },
    {
     "name": "stdout",
     "output_type": "stream",
     "text": [
      "0/4 in MPO.genes/seeds\n"
     ]
    },
    {
     "name": "stderr",
     "output_type": "stream",
     "text": [
      " 50%|█████     | 65/130 [00:29<00:20,  3.13it/s]"
     ]
    },
    {
     "name": "stdout",
     "output_type": "stream",
     "text": [
      "0/4 in MPO.genes/seeds\n"
     ]
    },
    {
     "name": "stderr",
     "output_type": "stream",
     "text": [
      "100%|██████████| 130/130 [00:49<00:00,  2.61it/s]\n"
     ]
    }
   ],
   "source": [
    "combo_phenotypes = []\n",
    "term_counts, gene_mapping, term_mapping = genes_per_node(MPO2)\n",
    "for community in tqdm(hier_combo_df.index):\n",
    "    x = community_term_enrichment(community, hier_combo_df, MPO2, mgi_df, term_counts, gene_mapping, G_int=G)\n",
    "    x = x.assign(name=community)\n",
    "    combo_phenotypes.append(x)"
   ]
  },
  {
   "cell_type": "code",
   "execution_count": 61,
   "metadata": {
    "ExecuteTime": {
     "end_time": "2022-03-24T22:36:30.821846Z",
     "start_time": "2022-03-24T22:36:30.791211Z"
    }
   },
   "outputs": [],
   "source": [
    "combo_results = pd.concat(combo_phenotypes)"
   ]
  },
  {
   "cell_type": "code",
   "execution_count": 62,
   "metadata": {
    "ExecuteTime": {
     "end_time": "2022-03-24T22:36:34.744756Z",
     "start_time": "2022-03-24T22:36:34.100606Z"
    }
   },
   "outputs": [],
   "source": [
    "combo_results.to_csv(DATADIR+\"combo_only_enrichment_results.tsv\", sep=\"\\t\")"
   ]
  },
  {
   "cell_type": "code",
   "execution_count": 72,
   "metadata": {
    "ExecuteTime": {
     "end_time": "2022-03-24T22:37:28.613230Z",
     "start_time": "2022-03-24T22:37:28.261362Z"
    }
   },
   "outputs": [],
   "source": [
    "combo_fracs = get_seed_gene_fractions(hier_combo_df, seed_bin_human_BMI, seed_bin_rat_BMI)\n",
    "hier_combo_df= hier_combo_df.join(combo_fracs.loc[:, (\"h_seed\", \"r_seed\", \"overlap\", \"network\")])"
   ]
  },
  {
   "cell_type": "code",
   "execution_count": 73,
   "metadata": {
    "ExecuteTime": {
     "end_time": "2022-03-24T22:37:31.869890Z",
     "start_time": "2022-03-24T22:37:31.858076Z"
    }
   },
   "outputs": [],
   "source": [
    "\n",
    "combo_gbs = combo_results.loc[mps]\n",
    "combo_gbs = combo_gbs[combo_gbs[\"OR_p\"] < 0.05]\n",
    "combo_gbs = combo_gbs.pivot(index=\"name\", columns=[\"description\"], values=[\"OR\"])"
   ]
  },
  {
   "cell_type": "code",
   "execution_count": 74,
   "metadata": {
    "ExecuteTime": {
     "end_time": "2022-03-24T22:37:35.136170Z",
     "start_time": "2022-03-24T22:37:35.133735Z"
    }
   },
   "outputs": [],
   "source": [
    "hier_combo_df = hier_combo_df.join(combo_gbs.droplevel(level=0, axis=1))"
   ]
  },
  {
   "cell_type": "code",
   "execution_count": 77,
   "metadata": {
    "ExecuteTime": {
     "end_time": "2022-03-24T22:38:39.533496Z",
     "start_time": "2022-03-24T22:38:39.528505Z"
    }
   },
   "outputs": [],
   "source": [
    "# add initial name from gprofiler\n",
    "combo_anno_filt = combo_anno[combo_anno[\"term_size\"] < 1000]\n",
    "combo_anno_filt[\"percent\"] = combo_anno_filt[\"intersection_size\"] / combo_anno_filt[\"query_size\"]\n",
    "combo_annot_filt = combo_anno_filt[combo_anno_filt[\"percent\"] > 0.25].sort_values(by=\"p_value\")"
   ]
  },
  {
   "cell_type": "code",
   "execution_count": 82,
   "metadata": {
    "ExecuteTime": {
     "end_time": "2022-03-24T22:39:19.634502Z",
     "start_time": "2022-03-24T22:39:19.630643Z"
    }
   },
   "outputs": [],
   "source": [
    "combo_annotations = combo_annot_filt.drop_duplicates(subset=\"community\").loc[:, (\"name\", \"p_value\", \"intersection_size\", \"community\")]\n",
    "combo_annotations.set_index(\"community\", inplace=True, drop=True)\n",
    "combo_annotations.index.name=None\n",
    "combo_annotations.columns = [\"go_annotation\", \"GO_p\", \"GO_intersect\"]"
   ]
  },
  {
   "cell_type": "code",
   "execution_count": 83,
   "metadata": {
    "ExecuteTime": {
     "end_time": "2022-03-24T22:39:22.964779Z",
     "start_time": "2022-03-24T22:39:22.959367Z"
    }
   },
   "outputs": [
    {
     "data": {
      "text/html": [
       "<div>\n",
       "<style scoped>\n",
       "    .dataframe tbody tr th:only-of-type {\n",
       "        vertical-align: middle;\n",
       "    }\n",
       "\n",
       "    .dataframe tbody tr th {\n",
       "        vertical-align: top;\n",
       "    }\n",
       "\n",
       "    .dataframe thead th {\n",
       "        text-align: right;\n",
       "    }\n",
       "</style>\n",
       "<table border=\"1\" class=\"dataframe\">\n",
       "  <thead>\n",
       "    <tr style=\"text-align: right;\">\n",
       "      <th></th>\n",
       "      <th>go_annotation</th>\n",
       "      <th>GO_p</th>\n",
       "      <th>GO_intersect</th>\n",
       "    </tr>\n",
       "  </thead>\n",
       "  <tbody>\n",
       "    <tr>\n",
       "      <th>C2278</th>\n",
       "      <td>glycosaminoglycan biosynthetic process</td>\n",
       "      <td>5.234215e-48</td>\n",
       "      <td>25</td>\n",
       "    </tr>\n",
       "    <tr>\n",
       "      <th>C2280</th>\n",
       "      <td>phospholipid metabolic process</td>\n",
       "      <td>1.819841e-42</td>\n",
       "      <td>29</td>\n",
       "    </tr>\n",
       "    <tr>\n",
       "      <th>C2281</th>\n",
       "      <td>sensory perception of chemical stimulus</td>\n",
       "      <td>3.220614e-30</td>\n",
       "      <td>23</td>\n",
       "    </tr>\n",
       "    <tr>\n",
       "      <th>C2285</th>\n",
       "      <td>exocytosis</td>\n",
       "      <td>1.996820e-25</td>\n",
       "      <td>19</td>\n",
       "    </tr>\n",
       "    <tr>\n",
       "      <th>C2275</th>\n",
       "      <td>sensory perception</td>\n",
       "      <td>1.044596e-21</td>\n",
       "      <td>31</td>\n",
       "    </tr>\n",
       "  </tbody>\n",
       "</table>\n",
       "</div>"
      ],
      "text/plain": [
       "                                 go_annotation          GO_p  GO_intersect\n",
       "C2278   glycosaminoglycan biosynthetic process  5.234215e-48            25\n",
       "C2280           phospholipid metabolic process  1.819841e-42            29\n",
       "C2281  sensory perception of chemical stimulus  3.220614e-30            23\n",
       "C2285                               exocytosis  1.996820e-25            19\n",
       "C2275                       sensory perception  1.044596e-21            31"
      ]
     },
     "execution_count": 83,
     "metadata": {},
     "output_type": "execute_result"
    }
   ],
   "source": [
    "combo_annotations.head()"
   ]
  },
  {
   "cell_type": "code",
   "execution_count": 84,
   "metadata": {
    "ExecuteTime": {
     "end_time": "2022-03-24T22:39:26.251757Z",
     "start_time": "2022-03-24T22:39:26.249373Z"
    }
   },
   "outputs": [],
   "source": [
    "hier_combo_df= hier_combo_df.join(combo_annotations)"
   ]
  },
  {
   "cell_type": "code",
   "execution_count": 85,
   "metadata": {
    "ExecuteTime": {
     "end_time": "2022-03-24T22:39:30.735263Z",
     "start_time": "2022-03-24T22:39:30.726618Z"
    }
   },
   "outputs": [],
   "source": [
    "\n",
    "hier_combo_df.to_csv(DATADIR+\"hier_combo_df.tsv\", sep=\"\\t\")"
   ]
  },
  {
   "cell_type": "code",
   "execution_count": 86,
   "metadata": {
    "ExecuteTime": {
     "end_time": "2022-03-24T22:40:28.055616Z",
     "start_time": "2022-03-24T22:40:17.967772Z"
    }
   },
   "outputs": [
    {
     "name": "stdout",
     "output_type": "stream",
     "text": [
      "NDEx server (probably ndexbio.org): ndexbio.org\n",
      "NDEx user name: snwright\n",
      "NDEx password: ········\n",
      "Generating CX\n"
     ]
    }
   ],
   "source": [
    "SERVER = input('NDEx server (probably ndexbio.org): ')\n",
    "USERNAME = input('NDEx user name: ')\n",
    "PASSWORD = getpass.getpass('NDEx password: ')\n",
    "network_uuid = G_combo_cx.upload_to(SERVER, USERNAME, PASSWORD)"
   ]
  },
  {
   "cell_type": "code",
   "execution_count": 87,
   "metadata": {
    "ExecuteTime": {
     "end_time": "2022-03-24T22:40:39.873915Z",
     "start_time": "2022-03-24T22:40:31.360874Z"
    }
   },
   "outputs": [
    {
     "name": "stdout",
     "output_type": "stream",
     "text": [
      "NDEx server (probably ndexbio.org): ndexbio.org\n",
      "NDEx user name: snwright\n",
      "NDEx password: ········\n",
      "Generating CX\n"
     ]
    }
   ],
   "source": [
    "G_combo.set_name(\"combo-systemsMap\")\n",
    "SERVER = input('NDEx server (probably ndexbio.org): ')\n",
    "USERNAME = input('NDEx user name: ')\n",
    "PASSWORD = getpass.getpass('NDEx password: ')\n",
    "network_uuid = G_combo.upload_to(SERVER, USERNAME, PASSWORD)"
   ]
  },
  {
   "cell_type": "markdown",
   "metadata": {},
   "source": [
    "## Gene Lists"
   ]
  },
  {
   "cell_type": "code",
   "execution_count": 118,
   "metadata": {
    "ExecuteTime": {
     "end_time": "2022-03-25T16:58:19.608881Z",
     "start_time": "2022-03-25T16:58:19.605337Z"
    }
   },
   "outputs": [],
   "source": [
    "def write_gene_lists(hier_df,out_dir, prefix=\"\", community=None):\n",
    "    if community is not None:\n",
    "        genes = hier_df.loc[community, \"CD_MemberList\"]\n",
    "        if type(genes) == str:\n",
    "            genes = genes.split(\" \")\n",
    "        with open(out_dir+prefix+community+\".txt\", 'w') as file:\n",
    "            file.writelines( \"%s\\n\" % item for item in genes)\n",
    "    else:\n",
    "        for comm in tqdm(hier_df.index):\n",
    "            genes = hier_df.loc[comm, \"CD_MemberList\"]\n",
    "            if type(genes) == str:\n",
    "                genes = genes.split(\" \")\n",
    "            with open(out_dir+prefix+comm+\".txt\", 'w') as file:\n",
    "                file.writelines( \"%s\\n\" % item for item in genes)"
   ]
  },
  {
   "cell_type": "code",
   "execution_count": 119,
   "metadata": {
    "ExecuteTime": {
     "end_time": "2022-03-25T16:58:25.359043Z",
     "start_time": "2022-03-25T16:58:25.039895Z"
    }
   },
   "outputs": [
    {
     "name": "stderr",
     "output_type": "stream",
     "text": [
      "100%|██████████| 54/54 [00:00<00:00, 182.97it/s]\n"
     ]
    }
   ],
   "source": [
    "OUTDIR = \"/cellar/users/snwright/Data/Transfer/rat/Community_Gene_Lists/\"\n",
    "write_gene_lists(hier_human_df, OUTDIR, prefix=\"H_\",community=None)"
   ]
  },
  {
   "cell_type": "code",
   "execution_count": 120,
   "metadata": {
    "ExecuteTime": {
     "end_time": "2022-03-25T16:58:47.378076Z",
     "start_time": "2022-03-25T16:58:47.190208Z"
    }
   },
   "outputs": [
    {
     "name": "stderr",
     "output_type": "stream",
     "text": [
      "100%|██████████| 67/67 [00:00<00:00, 369.24it/s]\n"
     ]
    }
   ],
   "source": [
    "write_gene_lists(hier_rat_df, OUTDIR, prefix=\"R_\",community=None)"
   ]
  },
  {
   "cell_type": "code",
   "execution_count": 128,
   "metadata": {
    "ExecuteTime": {
     "end_time": "2022-03-25T17:25:48.846509Z",
     "start_time": "2022-03-25T17:25:48.839180Z"
    }
   },
   "outputs": [
    {
     "data": {
      "text/html": [
       "<div>\n",
       "<style scoped>\n",
       "    .dataframe tbody tr th:only-of-type {\n",
       "        vertical-align: middle;\n",
       "    }\n",
       "\n",
       "    .dataframe tbody tr th {\n",
       "        vertical-align: top;\n",
       "    }\n",
       "\n",
       "    .dataframe thead th {\n",
       "        text-align: right;\n",
       "    }\n",
       "</style>\n",
       "<table border=\"1\" class=\"dataframe\">\n",
       "  <thead>\n",
       "    <tr style=\"text-align: right;\">\n",
       "      <th></th>\n",
       "      <th>genes</th>\n",
       "      <th>source</th>\n",
       "    </tr>\n",
       "  </thead>\n",
       "  <tbody>\n",
       "    <tr>\n",
       "      <th>0</th>\n",
       "      <td>GXYLT2</td>\n",
       "      <td>network</td>\n",
       "    </tr>\n",
       "    <tr>\n",
       "      <th>1</th>\n",
       "      <td>DDX19B</td>\n",
       "      <td>network</td>\n",
       "    </tr>\n",
       "    <tr>\n",
       "      <th>2</th>\n",
       "      <td>CDC37</td>\n",
       "      <td>network</td>\n",
       "    </tr>\n",
       "    <tr>\n",
       "      <th>3</th>\n",
       "      <td>HOXC12</td>\n",
       "      <td>network</td>\n",
       "    </tr>\n",
       "    <tr>\n",
       "      <th>4</th>\n",
       "      <td>FREM3</td>\n",
       "      <td>network</td>\n",
       "    </tr>\n",
       "    <tr>\n",
       "      <th>...</th>\n",
       "      <td>...</td>\n",
       "      <td>...</td>\n",
       "    </tr>\n",
       "    <tr>\n",
       "      <th>909</th>\n",
       "      <td>DDX20</td>\n",
       "      <td>network</td>\n",
       "    </tr>\n",
       "    <tr>\n",
       "      <th>910</th>\n",
       "      <td>PARD3B</td>\n",
       "      <td>network</td>\n",
       "    </tr>\n",
       "    <tr>\n",
       "      <th>911</th>\n",
       "      <td>ITGAX</td>\n",
       "      <td>network</td>\n",
       "    </tr>\n",
       "    <tr>\n",
       "      <th>912</th>\n",
       "      <td>ANKRD42</td>\n",
       "      <td>network</td>\n",
       "    </tr>\n",
       "    <tr>\n",
       "      <th>913</th>\n",
       "      <td>NQO1</td>\n",
       "      <td>network</td>\n",
       "    </tr>\n",
       "  </tbody>\n",
       "</table>\n",
       "<p>914 rows × 2 columns</p>\n",
       "</div>"
      ],
      "text/plain": [
       "       genes   source\n",
       "0     GXYLT2  network\n",
       "1     DDX19B  network\n",
       "2      CDC37  network\n",
       "3     HOXC12  network\n",
       "4      FREM3  network\n",
       "..       ...      ...\n",
       "909    DDX20  network\n",
       "910   PARD3B  network\n",
       "911    ITGAX  network\n",
       "912  ANKRD42  network\n",
       "913     NQO1  network\n",
       "\n",
       "[914 rows x 2 columns]"
      ]
     },
     "execution_count": 128,
     "metadata": {},
     "output_type": "execute_result"
    }
   ],
   "source": [
    "h_genes"
   ]
  },
  {
   "cell_type": "code",
   "execution_count": 129,
   "metadata": {
    "ExecuteTime": {
     "end_time": "2022-03-25T17:27:20.127491Z",
     "start_time": "2022-03-25T17:27:20.125356Z"
    }
   },
   "outputs": [],
   "source": [
    "def get_source(gene):\n",
    "    if gene in seed_bin_human_BMI:\n",
    "        if gene in seed_bin_rat_BMI:\n",
    "            return \"both\"\n",
    "        else:\n",
    "            return \"human\"\n",
    "    elif gene in seed_bin_rat_BMI:\n",
    "        return \"rat\"\n",
    "    else:\n",
    "        return \"network\""
   ]
  },
  {
   "cell_type": "code",
   "execution_count": 72,
   "metadata": {
    "ExecuteTime": {
     "end_time": "2022-03-29T18:46:26.630035Z",
     "start_time": "2022-03-29T18:46:26.613657Z"
    }
   },
   "outputs": [
    {
     "ename": "NameError",
     "evalue": "name 'hier_human_df' is not defined",
     "output_type": "error",
     "traceback": [
      "\u001b[0;31m---------------------------------------------------------------------------\u001b[0m",
      "\u001b[0;31mNameError\u001b[0m                                 Traceback (most recent call last)",
      "\u001b[0;32m/tmp/ipykernel_564534/906311180.py\u001b[0m in \u001b[0;36m<module>\u001b[0;34m\u001b[0m\n\u001b[0;32m----> 1\u001b[0;31m \u001b[0mh_genes\u001b[0m \u001b[0;34m=\u001b[0m \u001b[0mpd\u001b[0m\u001b[0;34m.\u001b[0m\u001b[0mDataFrame\u001b[0m\u001b[0;34m(\u001b[0m\u001b[0;34m{\u001b[0m\u001b[0;34m\"name\"\u001b[0m\u001b[0;34m:\u001b[0m\u001b[0mhier_human_df\u001b[0m\u001b[0;34m.\u001b[0m\u001b[0mloc\u001b[0m\u001b[0;34m[\u001b[0m\u001b[0;34m\"C925\"\u001b[0m\u001b[0;34m,\u001b[0m \u001b[0;34m\"CD_MemberList\"\u001b[0m\u001b[0;34m]\u001b[0m\u001b[0;34m}\u001b[0m\u001b[0;34m)\u001b[0m\u001b[0;34m\u001b[0m\u001b[0;34m\u001b[0m\u001b[0m\n\u001b[0m\u001b[1;32m      2\u001b[0m \u001b[0mh_genes\u001b[0m\u001b[0;34m[\u001b[0m\u001b[0;34m\"source\"\u001b[0m\u001b[0;34m]\u001b[0m \u001b[0;34m=\u001b[0m \u001b[0mh_genes\u001b[0m\u001b[0;34m[\u001b[0m\u001b[0;34m\"name\"\u001b[0m\u001b[0;34m]\u001b[0m\u001b[0;34m.\u001b[0m\u001b[0mapply\u001b[0m\u001b[0;34m(\u001b[0m\u001b[0mget_source\u001b[0m\u001b[0;34m)\u001b[0m\u001b[0;34m\u001b[0m\u001b[0;34m\u001b[0m\u001b[0m\n\u001b[1;32m      3\u001b[0m \u001b[0mh_genes\u001b[0m\u001b[0;34m.\u001b[0m\u001b[0mto_csv\u001b[0m\u001b[0;34m(\u001b[0m\u001b[0mOUTDIR\u001b[0m \u001b[0;34m+\u001b[0m \u001b[0;34m\"../human_only_gene_sources.tsv\"\u001b[0m\u001b[0;34m,\u001b[0m \u001b[0msep\u001b[0m\u001b[0;34m=\u001b[0m\u001b[0;34m\"\\t\"\u001b[0m\u001b[0;34m,\u001b[0m \u001b[0mindex\u001b[0m\u001b[0;34m=\u001b[0m\u001b[0;32mFalse\u001b[0m\u001b[0;34m)\u001b[0m\u001b[0;34m\u001b[0m\u001b[0;34m\u001b[0m\u001b[0m\n",
      "\u001b[0;31mNameError\u001b[0m: name 'hier_human_df' is not defined"
     ]
    }
   ],
   "source": [
    "h_genes = pd.DataFrame({\"name\":hier_human_df.loc[\"C925\", \"CD_MemberList\"]})\n",
    "h_genes[\"source\"] = h_genes[\"name\"].apply(get_source)\n",
    "h_genes.to_csv(OUTDIR + \"../human_only_gene_sources.tsv\", sep=\"\\t\", index=False)"
   ]
  },
  {
   "cell_type": "code",
   "execution_count": 136,
   "metadata": {
    "ExecuteTime": {
     "end_time": "2022-03-25T17:28:44.685925Z",
     "start_time": "2022-03-25T17:28:44.681323Z"
    }
   },
   "outputs": [
    {
     "data": {
      "text/plain": [
       "human      561\n",
       "network    353\n",
       "Name: source, dtype: int64"
      ]
     },
     "execution_count": 136,
     "metadata": {},
     "output_type": "execute_result"
    }
   ],
   "source": [
    "h_genes.source.value_counts()"
   ]
  },
  {
   "cell_type": "code",
   "execution_count": 141,
   "metadata": {
    "ExecuteTime": {
     "end_time": "2022-03-25T17:30:36.129004Z",
     "start_time": "2022-03-25T17:30:36.068694Z"
    }
   },
   "outputs": [],
   "source": [
    "r_genes = pd.DataFrame({\"name\":hier_rat_df.loc[\"C688\", \"CD_MemberList\"]})\n",
    "r_genes[\"source\"] = r_genes[\"name\"].apply(get_source)\n",
    "r_genes.to_csv(OUTDIR + \"../rat_only_gene_sources.tsv\", sep=\"\\t\", index=False)"
   ]
  },
  {
   "cell_type": "code",
   "execution_count": 139,
   "metadata": {
    "ExecuteTime": {
     "end_time": "2022-03-25T17:29:20.163757Z",
     "start_time": "2022-03-25T17:29:20.158701Z"
    }
   },
   "outputs": [
    {
     "data": {
      "text/plain": [
       "network    506\n",
       "rat        122\n",
       "human       21\n",
       "both         5\n",
       "Name: source, dtype: int64"
      ]
     },
     "execution_count": 139,
     "metadata": {},
     "output_type": "execute_result"
    }
   ],
   "source": [
    "r_genes.source.value_counts()"
   ]
  },
  {
   "cell_type": "markdown",
   "metadata": {},
   "source": [
    "## Query MyGeneInfo"
   ]
  },
  {
   "cell_type": "code",
   "execution_count": 193,
   "metadata": {
    "ExecuteTime": {
     "end_time": "2022-03-29T19:21:35.819791Z",
     "start_time": "2022-03-29T19:21:35.784912Z"
    }
   },
   "outputs": [],
   "source": [
    "OUTDIR = \"/cellar/users/snwright/Data/Transfer/rat/Community_Gene_Lists/\"\n",
    "h_genes= pd.read_csv(OUTDIR + \"../human_only_gene_sources.tsv\", sep=\"\\t\", index_col=None)\n",
    "r_genes= pd.read_csv(OUTDIR + \"../rat_only_gene_sources.tsv\", sep=\"\\t\", index_col=None)"
   ]
  },
  {
   "cell_type": "code",
   "execution_count": 194,
   "metadata": {
    "ExecuteTime": {
     "end_time": "2022-03-29T19:21:36.536422Z",
     "start_time": "2022-03-29T19:21:36.533436Z"
    }
   },
   "outputs": [],
   "source": [
    "import mygene\n",
    "mg = mygene.MyGeneInfo()"
   ]
  },
  {
   "cell_type": "code",
   "execution_count": 195,
   "metadata": {
    "ExecuteTime": {
     "end_time": "2022-03-29T19:21:39.192425Z",
     "start_time": "2022-03-29T19:21:37.306301Z"
    }
   },
   "outputs": [
    {
     "name": "stdout",
     "output_type": "stream",
     "text": [
      "querying 1-914...done.\n",
      "Finished.\n",
      "38 input query terms found dup hits:\n",
      "\t[('MMP25', 3), ('CKB', 2), ('GALNT16', 2), ('PDXDC2P', 2), ('ELOA3B', 2), ('LTBP3', 2), ('LIG3', 2),\n",
      "6 input query terms found no hit:\n",
      "\t['AC108488.2', 'LOC613037', 'AC004080.3', 'AC010422.6', 'AC006538.2', 'AC004997.1']\n",
      "Pass \"returnall=True\" to return complete lists of duplicate or missing query terms.\n"
     ]
    }
   ],
   "source": [
    "updated_h_genes = mg.querymany(h_genes[\"name\"], as_dataframe=True, species='human', scopes='symbol, alias', fields='symbol')\n",
    "updated_h_genes = updated_h_genes.sort_values(by=\"_score\", ascending=False)\n",
    "updated_h_genes = updated_h_genes[~updated_h_genes.index.duplicated(keep='first')]"
   ]
  },
  {
   "cell_type": "code",
   "execution_count": 196,
   "metadata": {
    "ExecuteTime": {
     "end_time": "2022-03-29T19:21:41.564521Z",
     "start_time": "2022-03-29T19:21:39.548961Z"
    }
   },
   "outputs": [
    {
     "name": "stdout",
     "output_type": "stream",
     "text": [
      "querying 1-908...done.\n",
      "Finished.\n",
      "7 input query terms found dup hits:\n",
      "\t[('KNCN', 2), ('SOWAHC', 2), ('ASXL3', 2), ('PCDH7', 2), ('PDRG1', 2), ('MANF', 2), ('FAM114A2', 2)]\n",
      "106 input query terms found no hit:\n",
      "\t['PRR20D', 'PPAN-P2RY11', 'LINC01600', 'KRTAP9-9', 'C5orf64', 'NT5C1B-RDH14', 'RPS10-NUDT3', 'TBC1D3\n",
      "Pass \"returnall=True\" to return complete lists of duplicate or missing query terms.\n"
     ]
    }
   ],
   "source": [
    "h_orthologs = mg.querymany(updated_h_genes.loc[~updated_h_genes[\"symbol\"].isna(), (\"symbol\")].values, \n",
    "                           as_dataframe=True, species='rat', scopes='symbol', fields='symbol')\n",
    "h_orthologs = h_orthologs.sort_values(by=\"_score\", ascending=False)\n",
    "h_orthologs = h_orthologs[~h_orthologs.index.duplicated(keep=\"first\")]\n",
    "h_orthologs[\"new_query\"] = h_orthologs.index\n",
    "h_orthologs = h_orthologs.loc[:, (\"new_query\", \"symbol\")]\n",
    "h_orthologs.columns = [\"new_query\", \"rat_symbol\"]"
   ]
  },
  {
   "cell_type": "code",
   "execution_count": 197,
   "metadata": {
    "ExecuteTime": {
     "end_time": "2022-03-29T19:21:41.925946Z",
     "start_time": "2022-03-29T19:21:41.917640Z"
    }
   },
   "outputs": [],
   "source": [
    "h_data = updated_h_genes.merge(h_orthologs.loc[:, (\"new_query\",\"rat_symbol\")], left_on=\"symbol\", right_on=\"new_query\")"
   ]
  },
  {
   "cell_type": "code",
   "execution_count": 198,
   "metadata": {
    "ExecuteTime": {
     "end_time": "2022-03-29T19:21:44.146120Z",
     "start_time": "2022-03-29T19:21:42.278042Z"
    }
   },
   "outputs": [
    {
     "name": "stdout",
     "output_type": "stream",
     "text": [
      "querying 1-908...done.\n",
      "Finished.\n",
      "11 input query terms found dup hits:\n",
      "\t[('LCN15', 2), ('ALDOA', 2), ('HOXB13', 2), ('PHF11', 2), ('CDK3', 2), ('TRIM8', 2), ('LAMTOR2', 2),\n",
      "106 input query terms found no hit:\n",
      "\t['PRR20D', 'PPAN-P2RY11', 'LINC01600', 'KRTAP9-9', 'C5orf64', 'NT5C1B-RDH14', 'RPS10-NUDT3', 'TBC1D3\n",
      "Pass \"returnall=True\" to return complete lists of duplicate or missing query terms.\n"
     ]
    }
   ],
   "source": [
    "h_orthologs = mg.querymany(updated_h_genes.loc[~updated_h_genes[\"symbol\"].isna(), (\"symbol\")].values, \n",
    "                           as_dataframe=True, species='mouse', scopes='symbol', fields='symbol')\n",
    "h_orthologs = h_orthologs.sort_values(by=\"_score\", ascending=False)\n",
    "h_orthologs = h_orthologs[~h_orthologs.index.duplicated(keep=\"first\")]\n",
    "h_orthologs[\"new_query\"] = h_orthologs.index\n",
    "h_orthologs = h_orthologs.loc[:, (\"new_query\", \"symbol\")]\n",
    "h_orthologs.columns = [\"new_query\", \"mouse_symbol\"]"
   ]
  },
  {
   "cell_type": "code",
   "execution_count": 199,
   "metadata": {
    "ExecuteTime": {
     "end_time": "2022-03-29T19:21:44.507185Z",
     "start_time": "2022-03-29T19:21:44.497356Z"
    }
   },
   "outputs": [],
   "source": [
    "h_data = h_data.merge(h_orthologs.loc[:, (\"new_query\",\"mouse_symbol\")], left_on=\"symbol\", right_on=\"new_query\")\n",
    "h_data = h_data.loc[:, (\"symbol\", \"mouse_symbol\", \"rat_symbol\")]"
   ]
  },
  {
   "cell_type": "code",
   "execution_count": 200,
   "metadata": {
    "ExecuteTime": {
     "end_time": "2022-03-29T19:21:44.863051Z",
     "start_time": "2022-03-29T19:21:44.852641Z"
    }
   },
   "outputs": [],
   "source": [
    "updated_h_genes[\"query\"] = updated_h_genes.index\n",
    "h_final = updated_h_genes.merge(h_data, on=\"symbol\").loc[:, (\"symbol\", \"mouse_symbol\", \"rat_symbol\", \"query\")].sort_values(by=\"rat_symbol\")"
   ]
  },
  {
   "cell_type": "code",
   "execution_count": 209,
   "metadata": {
    "ExecuteTime": {
     "end_time": "2022-03-29T19:22:01.445791Z",
     "start_time": "2022-03-29T19:22:01.441408Z"
    }
   },
   "outputs": [],
   "source": [
    "h_final = h_final.set_index(\"query\")"
   ]
  },
  {
   "cell_type": "code",
   "execution_count": 211,
   "metadata": {
    "ExecuteTime": {
     "end_time": "2022-03-29T19:22:18.031876Z",
     "start_time": "2022-03-29T19:22:17.988974Z"
    }
   },
   "outputs": [
    {
     "data": {
      "text/html": [
       "<div>\n",
       "<style scoped>\n",
       "    .dataframe tbody tr th:only-of-type {\n",
       "        vertical-align: middle;\n",
       "    }\n",
       "\n",
       "    .dataframe tbody tr th {\n",
       "        vertical-align: top;\n",
       "    }\n",
       "\n",
       "    .dataframe thead th {\n",
       "        text-align: right;\n",
       "    }\n",
       "</style>\n",
       "<table border=\"1\" class=\"dataframe\">\n",
       "  <thead>\n",
       "    <tr style=\"text-align: right;\">\n",
       "      <th></th>\n",
       "      <th>symbol</th>\n",
       "      <th>mouse_symbol</th>\n",
       "      <th>rat_symbol</th>\n",
       "    </tr>\n",
       "  </thead>\n",
       "  <tbody>\n",
       "    <tr>\n",
       "      <th>count</th>\n",
       "      <td>908</td>\n",
       "      <td>802</td>\n",
       "      <td>802</td>\n",
       "    </tr>\n",
       "    <tr>\n",
       "      <th>unique</th>\n",
       "      <td>908</td>\n",
       "      <td>802</td>\n",
       "      <td>802</td>\n",
       "    </tr>\n",
       "    <tr>\n",
       "      <th>top</th>\n",
       "      <td>AAAS</td>\n",
       "      <td>Aaas</td>\n",
       "      <td>Aaas</td>\n",
       "    </tr>\n",
       "    <tr>\n",
       "      <th>freq</th>\n",
       "      <td>1</td>\n",
       "      <td>1</td>\n",
       "      <td>1</td>\n",
       "    </tr>\n",
       "  </tbody>\n",
       "</table>\n",
       "</div>"
      ],
      "text/plain": [
       "       symbol mouse_symbol rat_symbol\n",
       "count     908          802        802\n",
       "unique    908          802        802\n",
       "top      AAAS         Aaas       Aaas\n",
       "freq        1            1          1"
      ]
     },
     "execution_count": 211,
     "metadata": {},
     "output_type": "execute_result"
    }
   ],
   "source": [
    "h_final.describe()"
   ]
  },
  {
   "cell_type": "code",
   "execution_count": 214,
   "metadata": {
    "ExecuteTime": {
     "end_time": "2022-03-29T19:23:19.566778Z",
     "start_time": "2022-03-29T19:23:19.563307Z"
    }
   },
   "outputs": [
    {
     "data": {
      "text/plain": [
       "0.11674008810572688"
      ]
     },
     "execution_count": 214,
     "metadata": {},
     "output_type": "execute_result"
    }
   ],
   "source": [
    "(908-802)/908"
   ]
  },
  {
   "cell_type": "code",
   "execution_count": 217,
   "metadata": {
    "ExecuteTime": {
     "end_time": "2022-03-29T19:25:13.534071Z",
     "start_time": "2022-03-29T19:25:13.479000Z"
    }
   },
   "outputs": [],
   "source": [
    "h_final.sort_index().to_csv(OUTDIR+\"../human_only_orthologs.tsv\", sep=\"\\t\")"
   ]
  },
  {
   "cell_type": "markdown",
   "metadata": {},
   "source": [
    "### Rat"
   ]
  },
  {
   "cell_type": "code",
   "execution_count": 201,
   "metadata": {
    "ExecuteTime": {
     "end_time": "2022-03-29T19:21:46.965219Z",
     "start_time": "2022-03-29T19:21:45.219741Z"
    }
   },
   "outputs": [
    {
     "name": "stdout",
     "output_type": "stream",
     "text": [
      "querying 1-654...done.\n",
      "Finished.\n",
      "16 input query terms found dup hits:\n",
      "\t[('MDP1', 2), ('PAK5', 3), ('EIF3FP3', 2), ('HNRNPA3P1', 2), ('F3', 2), ('VDAC1P5', 2), ('LPCAT4', 2\n",
      "2 input query terms found no hit:\n",
      "\t['AC067968.1', 'AC135068.1']\n",
      "Pass \"returnall=True\" to return complete lists of duplicate or missing query terms.\n"
     ]
    }
   ],
   "source": [
    "updated_r_genes = mg.querymany(r_genes[\"name\"], as_dataframe=True, species='human', scopes='symbol, alias', fields='symbol')\n",
    "updated_r_genes = updated_r_genes.sort_values(by=\"_score\", ascending=False)\n",
    "updated_r_genes = updated_r_genes[~updated_r_genes.index.duplicated(keep='first')]"
   ]
  },
  {
   "cell_type": "code",
   "execution_count": 202,
   "metadata": {
    "ExecuteTime": {
     "end_time": "2022-03-29T19:21:48.897155Z",
     "start_time": "2022-03-29T19:21:47.308985Z"
    }
   },
   "outputs": [
    {
     "name": "stdout",
     "output_type": "stream",
     "text": [
      "querying 1-652...done.\n",
      "Finished.\n",
      "1 input query terms found dup hits:\n",
      "\t[('ARHGAP40', 2)]\n",
      "64 input query terms found no hit:\n",
      "\t['C3CER1', 'CTAGE8', 'CDY2A', 'POTEE', 'CGB2', 'JMJD7-PLA2G4B', 'ZNF587', 'C6orf226', 'C17orf97', 'V\n",
      "Pass \"returnall=True\" to return complete lists of duplicate or missing query terms.\n"
     ]
    }
   ],
   "source": [
    "r_orthologs = mg.querymany(updated_r_genes.loc[~updated_r_genes[\"symbol\"].isna(), (\"symbol\")].values, \n",
    "                           as_dataframe=True, species='rat', scopes='symbol', fields='symbol')\n",
    "r_orthologs = r_orthologs.sort_values(by=\"_score\", ascending=False)\n",
    "r_orthologs = r_orthologs[~r_orthologs.index.duplicated(keep=\"first\")]\n",
    "r_orthologs[\"new_query\"] = r_orthologs.index\n",
    "r_orthologs = r_orthologs.loc[:, (\"new_query\", \"symbol\")]\n",
    "r_orthologs.columns = [\"new_query\", \"rat_symbol\"]"
   ]
  },
  {
   "cell_type": "code",
   "execution_count": 203,
   "metadata": {
    "ExecuteTime": {
     "end_time": "2022-03-29T19:21:49.241938Z",
     "start_time": "2022-03-29T19:21:49.234349Z"
    }
   },
   "outputs": [],
   "source": [
    "r_data = updated_r_genes.merge(r_orthologs.loc[:, (\"new_query\",\"rat_symbol\")], left_on=\"symbol\", right_on=\"new_query\")"
   ]
  },
  {
   "cell_type": "code",
   "execution_count": 204,
   "metadata": {
    "ExecuteTime": {
     "end_time": "2022-03-29T19:21:51.225593Z",
     "start_time": "2022-03-29T19:21:49.587668Z"
    }
   },
   "outputs": [
    {
     "name": "stdout",
     "output_type": "stream",
     "text": [
      "querying 1-652...done.\n",
      "Finished.\n",
      "1 input query terms found dup hits:\n",
      "\t[('CD300A', 2)]\n",
      "75 input query terms found no hit:\n",
      "\t['C3CER1', 'CTAGE8', 'CDY2A', 'POTEE', 'CGB2', 'JMJD7-PLA2G4B', 'ZNF587', 'C6orf226', 'C17orf97', 'V\n",
      "Pass \"returnall=True\" to return complete lists of duplicate or missing query terms.\n"
     ]
    }
   ],
   "source": [
    "r_orthologs = mg.querymany(updated_r_genes.loc[~updated_r_genes[\"symbol\"].isna(), (\"symbol\")].values, \n",
    "                           as_dataframe=True, species='mouse', scopes='symbol', fields='symbol')\n",
    "r_orthologs = r_orthologs.sort_values(by=\"_score\", ascending=False)\n",
    "r_orthologs = r_orthologs[~r_orthologs.index.duplicated(keep=\"first\")]\n",
    "r_orthologs[\"new_query\"] = r_orthologs.index\n",
    "r_orthologs = r_orthologs.loc[:, (\"new_query\", \"symbol\")]\n",
    "r_orthologs.columns = [\"new_query\", \"mouse_symbol\"]"
   ]
  },
  {
   "cell_type": "code",
   "execution_count": 205,
   "metadata": {
    "ExecuteTime": {
     "end_time": "2022-03-29T19:21:51.572930Z",
     "start_time": "2022-03-29T19:21:51.562674Z"
    }
   },
   "outputs": [],
   "source": [
    "r_data = r_data.merge(r_orthologs.loc[:, (\"new_query\",\"mouse_symbol\")], left_on=\"symbol\", right_on=\"new_query\")\n",
    "r_data = r_data.loc[:, (\"symbol\", \"mouse_symbol\", \"rat_symbol\")]\n"
   ]
  },
  {
   "cell_type": "code",
   "execution_count": 206,
   "metadata": {
    "ExecuteTime": {
     "end_time": "2022-03-29T19:21:51.910693Z",
     "start_time": "2022-03-29T19:21:51.902492Z"
    }
   },
   "outputs": [
    {
     "data": {
      "text/html": [
       "<div>\n",
       "<style scoped>\n",
       "    .dataframe tbody tr th:only-of-type {\n",
       "        vertical-align: middle;\n",
       "    }\n",
       "\n",
       "    .dataframe tbody tr th {\n",
       "        vertical-align: top;\n",
       "    }\n",
       "\n",
       "    .dataframe thead th {\n",
       "        text-align: right;\n",
       "    }\n",
       "</style>\n",
       "<table border=\"1\" class=\"dataframe\">\n",
       "  <thead>\n",
       "    <tr style=\"text-align: right;\">\n",
       "      <th></th>\n",
       "      <th>symbol</th>\n",
       "      <th>mouse_symbol</th>\n",
       "      <th>rat_symbol</th>\n",
       "    </tr>\n",
       "  </thead>\n",
       "  <tbody>\n",
       "    <tr>\n",
       "      <th>0</th>\n",
       "      <td>C3CER1</td>\n",
       "      <td>NaN</td>\n",
       "      <td>NaN</td>\n",
       "    </tr>\n",
       "    <tr>\n",
       "      <th>1</th>\n",
       "      <td>CTAGE8</td>\n",
       "      <td>NaN</td>\n",
       "      <td>NaN</td>\n",
       "    </tr>\n",
       "    <tr>\n",
       "      <th>2</th>\n",
       "      <td>CDY2A</td>\n",
       "      <td>NaN</td>\n",
       "      <td>NaN</td>\n",
       "    </tr>\n",
       "    <tr>\n",
       "      <th>3</th>\n",
       "      <td>POTEE</td>\n",
       "      <td>NaN</td>\n",
       "      <td>NaN</td>\n",
       "    </tr>\n",
       "    <tr>\n",
       "      <th>4</th>\n",
       "      <td>CGB2</td>\n",
       "      <td>NaN</td>\n",
       "      <td>NaN</td>\n",
       "    </tr>\n",
       "  </tbody>\n",
       "</table>\n",
       "</div>"
      ],
      "text/plain": [
       "   symbol mouse_symbol rat_symbol\n",
       "0  C3CER1          NaN        NaN\n",
       "1  CTAGE8          NaN        NaN\n",
       "2   CDY2A          NaN        NaN\n",
       "3   POTEE          NaN        NaN\n",
       "4    CGB2          NaN        NaN"
      ]
     },
     "execution_count": 206,
     "metadata": {},
     "output_type": "execute_result"
    }
   ],
   "source": [
    "r_data.head()"
   ]
  },
  {
   "cell_type": "code",
   "execution_count": 207,
   "metadata": {
    "ExecuteTime": {
     "end_time": "2022-03-29T19:21:52.248486Z",
     "start_time": "2022-03-29T19:21:52.238431Z"
    }
   },
   "outputs": [],
   "source": [
    "updated_r_genes[\"query\"] = updated_r_genes.index\n",
    "r_final = updated_r_genes.merge(r_data, on=\"symbol\").loc[:, (\"symbol\", \"mouse_symbol\", \"rat_symbol\", \"query\")].sort_values(by=\"rat_symbol\")"
   ]
  },
  {
   "cell_type": "code",
   "execution_count": 208,
   "metadata": {
    "ExecuteTime": {
     "end_time": "2022-03-29T19:21:52.586123Z",
     "start_time": "2022-03-29T19:21:52.582422Z"
    }
   },
   "outputs": [],
   "source": [
    "r_final = r_final.set_index(\"query\")"
   ]
  },
  {
   "cell_type": "code",
   "execution_count": 212,
   "metadata": {
    "ExecuteTime": {
     "end_time": "2022-03-29T19:22:38.541676Z",
     "start_time": "2022-03-29T19:22:38.525949Z"
    }
   },
   "outputs": [
    {
     "data": {
      "text/html": [
       "<div>\n",
       "<style scoped>\n",
       "    .dataframe tbody tr th:only-of-type {\n",
       "        vertical-align: middle;\n",
       "    }\n",
       "\n",
       "    .dataframe tbody tr th {\n",
       "        vertical-align: top;\n",
       "    }\n",
       "\n",
       "    .dataframe thead th {\n",
       "        text-align: right;\n",
       "    }\n",
       "</style>\n",
       "<table border=\"1\" class=\"dataframe\">\n",
       "  <thead>\n",
       "    <tr style=\"text-align: right;\">\n",
       "      <th></th>\n",
       "      <th>symbol</th>\n",
       "      <th>mouse_symbol</th>\n",
       "      <th>rat_symbol</th>\n",
       "    </tr>\n",
       "  </thead>\n",
       "  <tbody>\n",
       "    <tr>\n",
       "      <th>count</th>\n",
       "      <td>652</td>\n",
       "      <td>577</td>\n",
       "      <td>588</td>\n",
       "    </tr>\n",
       "    <tr>\n",
       "      <th>unique</th>\n",
       "      <td>652</td>\n",
       "      <td>577</td>\n",
       "      <td>588</td>\n",
       "    </tr>\n",
       "    <tr>\n",
       "      <th>top</th>\n",
       "      <td>AAGAB</td>\n",
       "      <td>Aagab</td>\n",
       "      <td>Aagab</td>\n",
       "    </tr>\n",
       "    <tr>\n",
       "      <th>freq</th>\n",
       "      <td>1</td>\n",
       "      <td>1</td>\n",
       "      <td>1</td>\n",
       "    </tr>\n",
       "  </tbody>\n",
       "</table>\n",
       "</div>"
      ],
      "text/plain": [
       "       symbol mouse_symbol rat_symbol\n",
       "count     652          577        588\n",
       "unique    652          577        588\n",
       "top     AAGAB        Aagab      Aagab\n",
       "freq        1            1          1"
      ]
     },
     "execution_count": 212,
     "metadata": {},
     "output_type": "execute_result"
    }
   ],
   "source": [
    "r_final.describe()"
   ]
  },
  {
   "cell_type": "code",
   "execution_count": 216,
   "metadata": {
    "ExecuteTime": {
     "end_time": "2022-03-29T19:24:52.472052Z",
     "start_time": "2022-03-29T19:24:52.414177Z"
    }
   },
   "outputs": [],
   "source": [
    "r_final.sort_index().to_csv(OUTDIR+\"../rat_only_orthologs.tsv\", sep=\"\\t\")"
   ]
  },
  {
   "cell_type": "markdown",
   "metadata": {},
   "source": [
    "## GWAS Catalog data"
   ]
  },
  {
   "cell_type": "code",
   "execution_count": 283,
   "metadata": {},
   "outputs": [],
   "source": [
    "gwas =pd.read_csv(\"~/Data/Transfer/rat/BMI subset.csv\")"
   ]
  },
  {
   "cell_type": "code",
   "execution_count": 284,
   "metadata": {},
   "outputs": [
    {
     "data": {
      "text/html": [
       "<div>\n",
       "<style scoped>\n",
       "    .dataframe tbody tr th:only-of-type {\n",
       "        vertical-align: middle;\n",
       "    }\n",
       "\n",
       "    .dataframe tbody tr th {\n",
       "        vertical-align: top;\n",
       "    }\n",
       "\n",
       "    .dataframe thead th {\n",
       "        text-align: right;\n",
       "    }\n",
       "</style>\n",
       "<table border=\"1\" class=\"dataframe\">\n",
       "  <thead>\n",
       "    <tr style=\"text-align: right;\">\n",
       "      <th></th>\n",
       "      <th>Mapped gene</th>\n",
       "      <th>Reported trait</th>\n",
       "      <th>Trait(s)</th>\n",
       "      <th>PubMed ID</th>\n",
       "    </tr>\n",
       "  </thead>\n",
       "  <tbody>\n",
       "    <tr>\n",
       "      <th>0</th>\n",
       "      <td>ACOXL, MIR4435-2HG</td>\n",
       "      <td>Adult onset asthma and/or BMI</td>\n",
       "      <td>adult onset asthma, body mass index</td>\n",
       "      <td>31669095</td>\n",
       "    </tr>\n",
       "    <tr>\n",
       "      <th>1</th>\n",
       "      <td>COL16A1</td>\n",
       "      <td>Adult onset asthma and/or BMI</td>\n",
       "      <td>adult onset asthma, body mass index</td>\n",
       "      <td>31669095</td>\n",
       "    </tr>\n",
       "    <tr>\n",
       "      <th>2</th>\n",
       "      <td>ERBB3</td>\n",
       "      <td>Adult onset asthma and/or BMI</td>\n",
       "      <td>adult onset asthma, body mass index</td>\n",
       "      <td>31669095</td>\n",
       "    </tr>\n",
       "    <tr>\n",
       "      <th>3</th>\n",
       "      <td>PLAGL1</td>\n",
       "      <td>Adult onset asthma and/or BMI</td>\n",
       "      <td>adult onset asthma, body mass index</td>\n",
       "      <td>31669095</td>\n",
       "    </tr>\n",
       "    <tr>\n",
       "      <th>4</th>\n",
       "      <td>POU2F1</td>\n",
       "      <td>Adult onset asthma and/or BMI</td>\n",
       "      <td>adult onset asthma, body mass index</td>\n",
       "      <td>31669095</td>\n",
       "    </tr>\n",
       "  </tbody>\n",
       "</table>\n",
       "</div>"
      ],
      "text/plain": [
       "          Mapped gene                 Reported trait  \\\n",
       "0  ACOXL, MIR4435-2HG  Adult onset asthma and/or BMI   \n",
       "1             COL16A1  Adult onset asthma and/or BMI   \n",
       "2               ERBB3  Adult onset asthma and/or BMI   \n",
       "3              PLAGL1  Adult onset asthma and/or BMI   \n",
       "4              POU2F1  Adult onset asthma and/or BMI   \n",
       "\n",
       "                              Trait(s)  PubMed ID  \n",
       "0  adult onset asthma, body mass index   31669095  \n",
       "1  adult onset asthma, body mass index   31669095  \n",
       "2  adult onset asthma, body mass index   31669095  \n",
       "3  adult onset asthma, body mass index   31669095  \n",
       "4  adult onset asthma, body mass index   31669095  "
      ]
     },
     "execution_count": 284,
     "metadata": {},
     "output_type": "execute_result"
    }
   ],
   "source": [
    "gwas.head()"
   ]
  },
  {
   "cell_type": "markdown",
   "metadata": {},
   "source": [
    "## Tissue Enrichment"
   ]
  },
  {
   "cell_type": "code",
   "execution_count": 33,
   "metadata": {
    "ExecuteTime": {
     "end_time": "2022-04-18T17:11:39.672106Z",
     "start_time": "2022-04-18T17:11:39.665381Z"
    }
   },
   "outputs": [],
   "source": [
    "c_tsea = pd.read_csv(\"/cellar/users/snwright/Data/rat/data/C_TSEA.txt\", index_col=0, sep=\"\\t\")\n",
    "c_tsea[\"C_FDR\"] = c_tsea[\"0.05\"].apply(lambda x: float(x.split(\" \")[2]))\n",
    "c_tsea_p = c_tsea.loc[:, \"C_FDR\"]"
   ]
  },
  {
   "cell_type": "code",
   "execution_count": 49,
   "metadata": {
    "ExecuteTime": {
     "end_time": "2022-04-18T17:15:02.807756Z",
     "start_time": "2022-04-18T17:15:02.800204Z"
    }
   },
   "outputs": [],
   "source": [
    "h_tsea = pd.read_csv(\"/cellar/users/snwright/Data/rat/data/H_TSEA.txt\", index_col=0, sep=\"\\t\")\n",
    "h_tsea[\"H_FDR\"] = h_tsea[\"0.05\"].apply(lambda x: float(x.split(\" \")[0]))\n",
    "h_tsea_p = h_tsea.loc[:, \"H_FDR\"]"
   ]
  },
  {
   "cell_type": "code",
   "execution_count": 50,
   "metadata": {
    "ExecuteTime": {
     "end_time": "2022-04-18T17:15:05.411576Z",
     "start_time": "2022-04-18T17:15:05.404650Z"
    }
   },
   "outputs": [
    {
     "data": {
      "text/html": [
       "<div>\n",
       "<style scoped>\n",
       "    .dataframe tbody tr th:only-of-type {\n",
       "        vertical-align: middle;\n",
       "    }\n",
       "\n",
       "    .dataframe tbody tr th {\n",
       "        vertical-align: top;\n",
       "    }\n",
       "\n",
       "    .dataframe thead th {\n",
       "        text-align: right;\n",
       "    }\n",
       "</style>\n",
       "<table border=\"1\" class=\"dataframe\">\n",
       "  <thead>\n",
       "    <tr style=\"text-align: right;\">\n",
       "      <th></th>\n",
       "      <th>0.05</th>\n",
       "      <th>0.01</th>\n",
       "      <th>0.001</th>\n",
       "      <th>0.0001</th>\n",
       "      <th>H_FDR</th>\n",
       "    </tr>\n",
       "    <tr>\n",
       "      <th>Tissues and P-Values</th>\n",
       "      <th></th>\n",
       "      <th></th>\n",
       "      <th></th>\n",
       "      <th></th>\n",
       "      <th></th>\n",
       "    </tr>\n",
       "  </thead>\n",
       "  <tbody>\n",
       "    <tr>\n",
       "      <th>Adipose Tissue</th>\n",
       "      <td>0.998 ( 0.998 )</td>\n",
       "      <td>0.989 ( 0.997 )</td>\n",
       "      <td>1.0 ( 1.0 )</td>\n",
       "      <td>1.0 ( 1.0 )</td>\n",
       "      <td>0.998</td>\n",
       "    </tr>\n",
       "    <tr>\n",
       "      <th>Adrenal Gland</th>\n",
       "      <td>0.837 ( 0.998 )</td>\n",
       "      <td>0.993 ( 0.997 )</td>\n",
       "      <td>0.805 ( 1.0 )</td>\n",
       "      <td>0.359 ( 1.0 )</td>\n",
       "      <td>0.837</td>\n",
       "    </tr>\n",
       "    <tr>\n",
       "      <th>Blood</th>\n",
       "      <td>0.794 ( 0.998 )</td>\n",
       "      <td>0.69 ( 0.997 )</td>\n",
       "      <td>0.651 ( 1.0 )</td>\n",
       "      <td>1.0 ( 1.0 )</td>\n",
       "      <td>0.794</td>\n",
       "    </tr>\n",
       "    <tr>\n",
       "      <th>Blood Vessel</th>\n",
       "      <td>0.669 ( 0.998 )</td>\n",
       "      <td>0.732 ( 0.997 )</td>\n",
       "      <td>1.0 ( 1.0 )</td>\n",
       "      <td>1.0 ( 1.0 )</td>\n",
       "      <td>0.669</td>\n",
       "    </tr>\n",
       "    <tr>\n",
       "      <th>Brain</th>\n",
       "      <td>0.151 ( 0.998 )</td>\n",
       "      <td>0.103 ( 0.997 )</td>\n",
       "      <td>0.044 ( 0.553 )</td>\n",
       "      <td>0.193 ( 1.0 )</td>\n",
       "      <td>0.151</td>\n",
       "    </tr>\n",
       "    <tr>\n",
       "      <th>Breast</th>\n",
       "      <td>0.988 ( 0.998 )</td>\n",
       "      <td>0.491 ( 0.997 )</td>\n",
       "      <td>0.792 ( 1.0 )</td>\n",
       "      <td>1.0 ( 1.0 )</td>\n",
       "      <td>0.988</td>\n",
       "    </tr>\n",
       "    <tr>\n",
       "      <th>Colon</th>\n",
       "      <td>0.642 ( 0.998 )</td>\n",
       "      <td>0.503 ( 0.997 )</td>\n",
       "      <td>0.779 ( 1.0 )</td>\n",
       "      <td>0.979 ( 1.0 )</td>\n",
       "      <td>0.642</td>\n",
       "    </tr>\n",
       "    <tr>\n",
       "      <th>Esophagus</th>\n",
       "      <td>0.936 ( 0.998 )</td>\n",
       "      <td>0.984 ( 0.997 )</td>\n",
       "      <td>1.0 ( 1.0 )</td>\n",
       "      <td>1.0 ( 1.0 )</td>\n",
       "      <td>0.936</td>\n",
       "    </tr>\n",
       "    <tr>\n",
       "      <th>Fallopian Tube</th>\n",
       "      <td>0.867 ( 0.998 )</td>\n",
       "      <td>0.825 ( 0.997 )</td>\n",
       "      <td>0.348 ( 1.0 )</td>\n",
       "      <td>1.0 ( 1.0 )</td>\n",
       "      <td>0.867</td>\n",
       "    </tr>\n",
       "    <tr>\n",
       "      <th>Heart</th>\n",
       "      <td>0.689 ( 0.998 )</td>\n",
       "      <td>0.237 ( 0.997 )</td>\n",
       "      <td>0.233 ( 1.0 )</td>\n",
       "      <td>0.486 ( 1.0 )</td>\n",
       "      <td>0.689</td>\n",
       "    </tr>\n",
       "    <tr>\n",
       "      <th>Kidney</th>\n",
       "      <td>0.677 ( 0.998 )</td>\n",
       "      <td>0.469 ( 0.997 )</td>\n",
       "      <td>0.012 ( 0.312 )</td>\n",
       "      <td>0.008 ( 0.191 )</td>\n",
       "      <td>0.677</td>\n",
       "    </tr>\n",
       "    <tr>\n",
       "      <th>Liver</th>\n",
       "      <td>0.959 ( 0.998 )</td>\n",
       "      <td>0.967 ( 0.997 )</td>\n",
       "      <td>0.851 ( 1.0 )</td>\n",
       "      <td>0.625 ( 1.0 )</td>\n",
       "      <td>0.959</td>\n",
       "    </tr>\n",
       "    <tr>\n",
       "      <th>Lung</th>\n",
       "      <td>0.995 ( 0.998 )</td>\n",
       "      <td>0.864 ( 0.997 )</td>\n",
       "      <td>0.45 ( 1.0 )</td>\n",
       "      <td>0.325 ( 1.0 )</td>\n",
       "      <td>0.995</td>\n",
       "    </tr>\n",
       "    <tr>\n",
       "      <th>Muscle</th>\n",
       "      <td>0.79 ( 0.998 )</td>\n",
       "      <td>0.672 ( 0.997 )</td>\n",
       "      <td>0.981 ( 1.0 )</td>\n",
       "      <td>1.0 ( 1.0 )</td>\n",
       "      <td>0.790</td>\n",
       "    </tr>\n",
       "    <tr>\n",
       "      <th>Nerve</th>\n",
       "      <td>0.8 ( 0.998 )</td>\n",
       "      <td>0.101 ( 0.997 )</td>\n",
       "      <td>0.347 ( 1.0 )</td>\n",
       "      <td>1.0 ( 1.0 )</td>\n",
       "      <td>0.800</td>\n",
       "    </tr>\n",
       "    <tr>\n",
       "      <th>Ovary</th>\n",
       "      <td>0.943 ( 0.998 )</td>\n",
       "      <td>0.762 ( 0.997 )</td>\n",
       "      <td>1.0 ( 1.0 )</td>\n",
       "      <td>1.0 ( 1.0 )</td>\n",
       "      <td>0.943</td>\n",
       "    </tr>\n",
       "    <tr>\n",
       "      <th>Pancreas</th>\n",
       "      <td>0.697 ( 0.998 )</td>\n",
       "      <td>0.789 ( 0.997 )</td>\n",
       "      <td>0.6 ( 1.0 )</td>\n",
       "      <td>1.0 ( 1.0 )</td>\n",
       "      <td>0.697</td>\n",
       "    </tr>\n",
       "    <tr>\n",
       "      <th>Pituitary</th>\n",
       "      <td>0.257 ( 0.998 )</td>\n",
       "      <td>0.736 ( 0.997 )</td>\n",
       "      <td>0.991 ( 1.0 )</td>\n",
       "      <td>1.0 ( 1.0 )</td>\n",
       "      <td>0.257</td>\n",
       "    </tr>\n",
       "    <tr>\n",
       "      <th>Prostate</th>\n",
       "      <td>0.445 ( 0.998 )</td>\n",
       "      <td>0.979 ( 0.997 )</td>\n",
       "      <td>0.851 ( 1.0 )</td>\n",
       "      <td>0.681 ( 1.0 )</td>\n",
       "      <td>0.445</td>\n",
       "    </tr>\n",
       "    <tr>\n",
       "      <th>Skin</th>\n",
       "      <td>0.681 ( 0.998 )</td>\n",
       "      <td>0.917 ( 0.997 )</td>\n",
       "      <td>0.998 ( 1.0 )</td>\n",
       "      <td>1.0 ( 1.0 )</td>\n",
       "      <td>0.681</td>\n",
       "    </tr>\n",
       "    <tr>\n",
       "      <th>Stomach</th>\n",
       "      <td>0.718 ( 0.998 )</td>\n",
       "      <td>0.992 ( 0.997 )</td>\n",
       "      <td>0.963 ( 1.0 )</td>\n",
       "      <td>1.0 ( 1.0 )</td>\n",
       "      <td>0.718</td>\n",
       "    </tr>\n",
       "    <tr>\n",
       "      <th>Testis</th>\n",
       "      <td>0.886 ( 0.998 )</td>\n",
       "      <td>0.997 ( 0.997 )</td>\n",
       "      <td>0.997 ( 1.0 )</td>\n",
       "      <td>1.0 ( 1.0 )</td>\n",
       "      <td>0.886</td>\n",
       "    </tr>\n",
       "    <tr>\n",
       "      <th>Thyroid</th>\n",
       "      <td>0.988 ( 0.998 )</td>\n",
       "      <td>0.513 ( 0.997 )</td>\n",
       "      <td>0.225 ( 1.0 )</td>\n",
       "      <td>0.749 ( 1.0 )</td>\n",
       "      <td>0.988</td>\n",
       "    </tr>\n",
       "    <tr>\n",
       "      <th>Uterus</th>\n",
       "      <td>0.962 ( 0.998 )</td>\n",
       "      <td>0.936 ( 0.997 )</td>\n",
       "      <td>1.0 ( 1.0 )</td>\n",
       "      <td>1.0 ( 1.0 )</td>\n",
       "      <td>0.962</td>\n",
       "    </tr>\n",
       "    <tr>\n",
       "      <th>Vagina</th>\n",
       "      <td>0.966 ( 0.998 )</td>\n",
       "      <td>0.978 ( 0.997 )</td>\n",
       "      <td>0.412 ( 1.0 )</td>\n",
       "      <td>0.533 ( 1.0 )</td>\n",
       "      <td>0.966</td>\n",
       "    </tr>\n",
       "  </tbody>\n",
       "</table>\n",
       "</div>"
      ],
      "text/plain": [
       "                                 0.05             0.01            0.001  \\\n",
       "Tissues and P-Values                                                      \n",
       "Adipose Tissue        0.998 ( 0.998 )  0.989 ( 0.997 )      1.0 ( 1.0 )   \n",
       "Adrenal Gland         0.837 ( 0.998 )  0.993 ( 0.997 )    0.805 ( 1.0 )   \n",
       "Blood                 0.794 ( 0.998 )   0.69 ( 0.997 )    0.651 ( 1.0 )   \n",
       "Blood Vessel          0.669 ( 0.998 )  0.732 ( 0.997 )      1.0 ( 1.0 )   \n",
       "Brain                 0.151 ( 0.998 )  0.103 ( 0.997 )  0.044 ( 0.553 )   \n",
       "Breast                0.988 ( 0.998 )  0.491 ( 0.997 )    0.792 ( 1.0 )   \n",
       "Colon                 0.642 ( 0.998 )  0.503 ( 0.997 )    0.779 ( 1.0 )   \n",
       "Esophagus             0.936 ( 0.998 )  0.984 ( 0.997 )      1.0 ( 1.0 )   \n",
       "Fallopian Tube        0.867 ( 0.998 )  0.825 ( 0.997 )    0.348 ( 1.0 )   \n",
       "Heart                 0.689 ( 0.998 )  0.237 ( 0.997 )    0.233 ( 1.0 )   \n",
       "Kidney                0.677 ( 0.998 )  0.469 ( 0.997 )  0.012 ( 0.312 )   \n",
       "Liver                 0.959 ( 0.998 )  0.967 ( 0.997 )    0.851 ( 1.0 )   \n",
       "Lung                  0.995 ( 0.998 )  0.864 ( 0.997 )     0.45 ( 1.0 )   \n",
       "Muscle                 0.79 ( 0.998 )  0.672 ( 0.997 )    0.981 ( 1.0 )   \n",
       "Nerve                   0.8 ( 0.998 )  0.101 ( 0.997 )    0.347 ( 1.0 )   \n",
       "Ovary                 0.943 ( 0.998 )  0.762 ( 0.997 )      1.0 ( 1.0 )   \n",
       "Pancreas              0.697 ( 0.998 )  0.789 ( 0.997 )      0.6 ( 1.0 )   \n",
       "Pituitary             0.257 ( 0.998 )  0.736 ( 0.997 )    0.991 ( 1.0 )   \n",
       "Prostate              0.445 ( 0.998 )  0.979 ( 0.997 )    0.851 ( 1.0 )   \n",
       "Skin                  0.681 ( 0.998 )  0.917 ( 0.997 )    0.998 ( 1.0 )   \n",
       "Stomach               0.718 ( 0.998 )  0.992 ( 0.997 )    0.963 ( 1.0 )   \n",
       "Testis                0.886 ( 0.998 )  0.997 ( 0.997 )    0.997 ( 1.0 )   \n",
       "Thyroid               0.988 ( 0.998 )  0.513 ( 0.997 )    0.225 ( 1.0 )   \n",
       "Uterus                0.962 ( 0.998 )  0.936 ( 0.997 )      1.0 ( 1.0 )   \n",
       "Vagina                0.966 ( 0.998 )  0.978 ( 0.997 )    0.412 ( 1.0 )   \n",
       "\n",
       "                               0.0001  H_FDR  \n",
       "Tissues and P-Values                          \n",
       "Adipose Tissue            1.0 ( 1.0 )  0.998  \n",
       "Adrenal Gland           0.359 ( 1.0 )  0.837  \n",
       "Blood                     1.0 ( 1.0 )  0.794  \n",
       "Blood Vessel              1.0 ( 1.0 )  0.669  \n",
       "Brain                   0.193 ( 1.0 )  0.151  \n",
       "Breast                    1.0 ( 1.0 )  0.988  \n",
       "Colon                   0.979 ( 1.0 )  0.642  \n",
       "Esophagus                 1.0 ( 1.0 )  0.936  \n",
       "Fallopian Tube            1.0 ( 1.0 )  0.867  \n",
       "Heart                   0.486 ( 1.0 )  0.689  \n",
       "Kidney                0.008 ( 0.191 )  0.677  \n",
       "Liver                   0.625 ( 1.0 )  0.959  \n",
       "Lung                    0.325 ( 1.0 )  0.995  \n",
       "Muscle                    1.0 ( 1.0 )  0.790  \n",
       "Nerve                     1.0 ( 1.0 )  0.800  \n",
       "Ovary                     1.0 ( 1.0 )  0.943  \n",
       "Pancreas                  1.0 ( 1.0 )  0.697  \n",
       "Pituitary                 1.0 ( 1.0 )  0.257  \n",
       "Prostate                0.681 ( 1.0 )  0.445  \n",
       "Skin                      1.0 ( 1.0 )  0.681  \n",
       "Stomach                   1.0 ( 1.0 )  0.718  \n",
       "Testis                    1.0 ( 1.0 )  0.886  \n",
       "Thyroid                 0.749 ( 1.0 )  0.988  \n",
       "Uterus                    1.0 ( 1.0 )  0.962  \n",
       "Vagina                  0.533 ( 1.0 )  0.966  "
      ]
     },
     "execution_count": 50,
     "metadata": {},
     "output_type": "execute_result"
    }
   ],
   "source": [
    "h_tsea"
   ]
  },
  {
   "cell_type": "code",
   "execution_count": 51,
   "metadata": {
    "ExecuteTime": {
     "end_time": "2022-04-18T17:15:07.423824Z",
     "start_time": "2022-04-18T17:15:07.417175Z"
    }
   },
   "outputs": [],
   "source": [
    "r_tsea = pd.read_csv(\"/cellar/users/snwright/Data/rat/data/R_TSEA.txt\", index_col=0, sep=\"\\t\")\n",
    "r_tsea[\"R_FDR\"] = r_tsea[\"0.05\"].apply(lambda x: float(x.split(\" \")[2]))\n",
    "r_tsea_p = r_tsea.loc[:, \"R_FDR\"]"
   ]
  },
  {
   "cell_type": "code",
   "execution_count": 57,
   "metadata": {
    "ExecuteTime": {
     "end_time": "2022-04-18T17:15:51.551020Z",
     "start_time": "2022-04-18T17:15:51.546748Z"
    }
   },
   "outputs": [],
   "source": [
    "results = pd.concat([c_tsea_p, h_tsea_p, r_tsea_p], axis=1)\n",
    "results = -1 * np.log10(results)\n",
    "results = results.sort_values(by=['C_FDR', \"R_FDR\", \"H_FDR\"], ascending=False)"
   ]
  },
  {
   "cell_type": "code",
   "execution_count": 53,
   "metadata": {
    "ExecuteTime": {
     "end_time": "2022-04-18T17:15:09.296946Z",
     "start_time": "2022-04-18T17:15:09.291384Z"
    }
   },
   "outputs": [
    {
     "data": {
      "text/html": [
       "<div>\n",
       "<style scoped>\n",
       "    .dataframe tbody tr th:only-of-type {\n",
       "        vertical-align: middle;\n",
       "    }\n",
       "\n",
       "    .dataframe tbody tr th {\n",
       "        vertical-align: top;\n",
       "    }\n",
       "\n",
       "    .dataframe thead th {\n",
       "        text-align: right;\n",
       "    }\n",
       "</style>\n",
       "<table border=\"1\" class=\"dataframe\">\n",
       "  <thead>\n",
       "    <tr style=\"text-align: right;\">\n",
       "      <th></th>\n",
       "      <th>C_FDR</th>\n",
       "      <th>H_FDR</th>\n",
       "      <th>R_FDR</th>\n",
       "    </tr>\n",
       "    <tr>\n",
       "      <th>Tissues and P-Values</th>\n",
       "      <th></th>\n",
       "      <th></th>\n",
       "      <th></th>\n",
       "    </tr>\n",
       "  </thead>\n",
       "  <tbody>\n",
       "    <tr>\n",
       "      <th>Testis</th>\n",
       "      <td>0.000435</td>\n",
       "      <td>0.052566</td>\n",
       "      <td>0.017277</td>\n",
       "    </tr>\n",
       "    <tr>\n",
       "      <th>Ovary</th>\n",
       "      <td>0.000435</td>\n",
       "      <td>0.025488</td>\n",
       "      <td>0.049149</td>\n",
       "    </tr>\n",
       "    <tr>\n",
       "      <th>Esophagus</th>\n",
       "      <td>0.000435</td>\n",
       "      <td>0.028724</td>\n",
       "      <td>0.074688</td>\n",
       "    </tr>\n",
       "    <tr>\n",
       "      <th>Kidney</th>\n",
       "      <td>0.000435</td>\n",
       "      <td>0.169411</td>\n",
       "      <td>0.074688</td>\n",
       "    </tr>\n",
       "    <tr>\n",
       "      <th>Blood</th>\n",
       "      <td>0.000435</td>\n",
       "      <td>0.100179</td>\n",
       "      <td>0.148130</td>\n",
       "    </tr>\n",
       "    <tr>\n",
       "      <th>Lung</th>\n",
       "      <td>0.000435</td>\n",
       "      <td>0.002177</td>\n",
       "      <td>0.339135</td>\n",
       "    </tr>\n",
       "    <tr>\n",
       "      <th>Heart</th>\n",
       "      <td>0.000435</td>\n",
       "      <td>0.161781</td>\n",
       "      <td>0.342944</td>\n",
       "    </tr>\n",
       "    <tr>\n",
       "      <th>Liver</th>\n",
       "      <td>0.000435</td>\n",
       "      <td>0.018181</td>\n",
       "      <td>0.667562</td>\n",
       "    </tr>\n",
       "    <tr>\n",
       "      <th>Stomach</th>\n",
       "      <td>0.000435</td>\n",
       "      <td>0.143876</td>\n",
       "      <td>0.737549</td>\n",
       "    </tr>\n",
       "    <tr>\n",
       "      <th>Breast</th>\n",
       "      <td>0.000435</td>\n",
       "      <td>0.005243</td>\n",
       "      <td>1.522879</td>\n",
       "    </tr>\n",
       "    <tr>\n",
       "      <th>Adipose Tissue</th>\n",
       "      <td>0.000435</td>\n",
       "      <td>0.000869</td>\n",
       "      <td>3.000000</td>\n",
       "    </tr>\n",
       "    <tr>\n",
       "      <th>Fallopian Tube</th>\n",
       "      <td>0.119186</td>\n",
       "      <td>0.061981</td>\n",
       "      <td>0.200659</td>\n",
       "    </tr>\n",
       "    <tr>\n",
       "      <th>Skin</th>\n",
       "      <td>0.124360</td>\n",
       "      <td>0.166853</td>\n",
       "      <td>0.148130</td>\n",
       "    </tr>\n",
       "    <tr>\n",
       "      <th>Thyroid</th>\n",
       "      <td>0.221849</td>\n",
       "      <td>0.005243</td>\n",
       "      <td>0.148130</td>\n",
       "    </tr>\n",
       "    <tr>\n",
       "      <th>Prostate</th>\n",
       "      <td>0.447332</td>\n",
       "      <td>0.351640</td>\n",
       "      <td>0.074688</td>\n",
       "    </tr>\n",
       "    <tr>\n",
       "      <th>Blood Vessel</th>\n",
       "      <td>0.447332</td>\n",
       "      <td>0.174574</td>\n",
       "      <td>0.148130</td>\n",
       "    </tr>\n",
       "    <tr>\n",
       "      <th>Vagina</th>\n",
       "      <td>0.447332</td>\n",
       "      <td>0.015023</td>\n",
       "      <td>0.987163</td>\n",
       "    </tr>\n",
       "    <tr>\n",
       "      <th>Adrenal Gland</th>\n",
       "      <td>0.476254</td>\n",
       "      <td>0.077275</td>\n",
       "      <td>0.148130</td>\n",
       "    </tr>\n",
       "    <tr>\n",
       "      <th>Muscle</th>\n",
       "      <td>0.686133</td>\n",
       "      <td>0.102373</td>\n",
       "      <td>0.352617</td>\n",
       "    </tr>\n",
       "    <tr>\n",
       "      <th>Colon</th>\n",
       "      <td>0.749580</td>\n",
       "      <td>0.192465</td>\n",
       "      <td>0.352617</td>\n",
       "    </tr>\n",
       "    <tr>\n",
       "      <th>Pituitary</th>\n",
       "      <td>0.982967</td>\n",
       "      <td>0.590067</td>\n",
       "      <td>-0.000000</td>\n",
       "    </tr>\n",
       "    <tr>\n",
       "      <th>Pancreas</th>\n",
       "      <td>1.173925</td>\n",
       "      <td>0.156767</td>\n",
       "      <td>0.368556</td>\n",
       "    </tr>\n",
       "    <tr>\n",
       "      <th>Uterus</th>\n",
       "      <td>1.173925</td>\n",
       "      <td>0.016825</td>\n",
       "      <td>0.737549</td>\n",
       "    </tr>\n",
       "    <tr>\n",
       "      <th>Nerve</th>\n",
       "      <td>2.096910</td>\n",
       "      <td>0.096910</td>\n",
       "      <td>1.522879</td>\n",
       "    </tr>\n",
       "    <tr>\n",
       "      <th>Brain</th>\n",
       "      <td>6.506263</td>\n",
       "      <td>0.821023</td>\n",
       "      <td>-0.000000</td>\n",
       "    </tr>\n",
       "  </tbody>\n",
       "</table>\n",
       "</div>"
      ],
      "text/plain": [
       "                         C_FDR     H_FDR     R_FDR\n",
       "Tissues and P-Values                              \n",
       "Testis                0.000435  0.052566  0.017277\n",
       "Ovary                 0.000435  0.025488  0.049149\n",
       "Esophagus             0.000435  0.028724  0.074688\n",
       "Kidney                0.000435  0.169411  0.074688\n",
       "Blood                 0.000435  0.100179  0.148130\n",
       "Lung                  0.000435  0.002177  0.339135\n",
       "Heart                 0.000435  0.161781  0.342944\n",
       "Liver                 0.000435  0.018181  0.667562\n",
       "Stomach               0.000435  0.143876  0.737549\n",
       "Breast                0.000435  0.005243  1.522879\n",
       "Adipose Tissue        0.000435  0.000869  3.000000\n",
       "Fallopian Tube        0.119186  0.061981  0.200659\n",
       "Skin                  0.124360  0.166853  0.148130\n",
       "Thyroid               0.221849  0.005243  0.148130\n",
       "Prostate              0.447332  0.351640  0.074688\n",
       "Blood Vessel          0.447332  0.174574  0.148130\n",
       "Vagina                0.447332  0.015023  0.987163\n",
       "Adrenal Gland         0.476254  0.077275  0.148130\n",
       "Muscle                0.686133  0.102373  0.352617\n",
       "Colon                 0.749580  0.192465  0.352617\n",
       "Pituitary             0.982967  0.590067 -0.000000\n",
       "Pancreas              1.173925  0.156767  0.368556\n",
       "Uterus                1.173925  0.016825  0.737549\n",
       "Nerve                 2.096910  0.096910  1.522879\n",
       "Brain                 6.506263  0.821023 -0.000000"
      ]
     },
     "execution_count": 53,
     "metadata": {},
     "output_type": "execute_result"
    }
   ],
   "source": [
    "results"
   ]
  },
  {
   "cell_type": "code",
   "execution_count": 83,
   "metadata": {
    "ExecuteTime": {
     "end_time": "2022-04-18T17:36:54.294925Z",
     "start_time": "2022-04-18T17:36:51.993803Z"
    }
   },
   "outputs": [
    {
     "data": {
      "image/png": "[encoded data removed]",
      "text/plain": [
       "<Figure size 720x144 with 1 Axes>"
      ]
     },
     "metadata": {
      "needs_background": "light"
     },
     "output_type": "display_data"
    }
   ],
   "source": [
    "results.columns = [\"Conserved\", \"Human-Specific\", \"Rat-Specific\"]\n",
    "fig, ax = plt.subplots(figsize=(10,2))\n",
    "results.plot.bar(ax=ax, width=0.8, color=[\"#f5793a\", \"#85c0f9\", \"#a95aa1\"], fontsize=14)\n",
    "ax.set_ylabel(\"-log10(p-value)\", fontsize=14)\n",
    "ax.set_xlabel(None)\n",
    "plt.hlines(-1 *np.log10(0.05),-0.5, 24.5, color=\"black\", linestyle=\"dashed\", linewidth=0.5)\n",
    "plt.legend(fontsize=12)\n",
    "plt.savefig(\"/cellar/users/snwright/Data/Transfer/rat/triple_tissue_enrich.png\", bbox_inches=\"tight\", dpi=400)"
   ]
  }
 ],
 "metadata": {
  "celltoolbar": "Initialization Cell",
  "kernelspec": {
   "display_name": "Python [conda env:netcoloc]",
   "language": "python",
   "name": "conda-env-netcoloc-py"
  },
  "language_info": {
   "codemirror_mode": {
    "name": "ipython",
    "version": 3
   },
   "file_extension": ".py",
   "mimetype": "text/x-python",
   "name": "python",
   "nbconvert_exporter": "python",
   "pygments_lexer": "ipython3",
   "version": "3.9.7"
  },
  "toc": {
   "base_numbering": 1,
   "nav_menu": {},
   "number_sections": true,
   "sideBar": true,
   "skip_h1_title": false,
   "title_cell": "Table of Contents",
   "title_sidebar": "Contents",
   "toc_cell": false,
   "toc_position": {
    "height": "47.7135px",
    "left": "83px",
    "top": "111.125px",
    "width": "165px"
   },
   "toc_section_display": true,
   "toc_window_display": true
  },
  "varInspector": {
   "cols": {
    "lenName": 16,
    "lenType": 16,
    "lenVar": 40
   },
   "kernels_config": {
    "python": {
     "delete_cmd_postfix": "",
     "delete_cmd_prefix": "del ",
     "library": "var_list.py",
     "varRefreshCmd": "print(var_dic_list())"
    },
    "r": {
     "delete_cmd_postfix": ") ",
     "delete_cmd_prefix": "rm(",
     "library": "var_list.r",
     "varRefreshCmd": "cat(var_dic_list()) "
    }
   },
   "types_to_exclude": [
    "module",
    "function",
    "builtin_function_or_method",
    "instance",
    "_Feature"
   ],
   "window_display": false
  }
 },
 "nbformat": 4,
 "nbformat_minor": 2
}
