{
 "cells": [
  {
   "attachments": {},
   "cell_type": "markdown",
   "metadata": {},
   "source": [
    "# <a id='toc1_'></a>[Introduction](#toc0_)\n",
    "\n",
    "This notebook analyses the proteins within the PCNet network that are proximal to only one of the two species BMI GWAS results. We examine the distribution of $NPS_r$ and $NPS_h$ scores for BMI to define thresholds for rat-specific and human-specific networks. We compare the tissue expression patterns of the species-specific network and the conserved BMI network. We then analyze these species-specific networks, along with the conserved network, in the context of a expanded network of all proteins with high NPS in one or both species. \n",
    "\n",
    "**Figures produced in this notebook:**\n",
    "* Figure 6A - Scatterplot showing the definition of subnetworks based on NPS scores.\n",
    "* Figure 6B - Bar chart comparing the sources of genes in each of the subnetworks\n",
    "* Figure 6C - Human tissue gene expression results for each of the subnetworks\n",
    "* Figure 6D - Mouse tissue gene expression results for each of the subnetworks\n",
    "* Figure 6E - Data for this figure is generated in this notebook, the hierarchy figure was produced in Cytoscape\n",
    "* Supplemental Figure 6 - Definitions of Species-Specific networks\n",
    "\n",
    "**Note on re-running the analysis:**\n",
    "* If `rerun_analysis==True` the hierarchical community detection and annotation of the expanded network will be repeated. Because this process is not deterministic the results will vary slightly from the study results. \n",
    "* If `rerun_analysis==False` the hierarchy will be loaded from file."
   ]
  },
  {
   "cell_type": "code",
   "execution_count": 1,
   "metadata": {
    "ExecuteTime": {
     "end_time": "2023-02-05T01:49:31.358479Z",
     "start_time": "2023-02-05T01:49:31.355937Z"
    }
   },
   "outputs": [],
   "source": [
    "rerun_analysis = False"
   ]
  },
  {
   "attachments": {},
   "cell_type": "markdown",
   "metadata": {},
   "source": [
    "**Table of contents**<a id='toc0_'></a>    \n",
    "- [Introduction](#toc1_)    \n",
    "- [Set Up](#toc2_)    \n",
    "  - [Libraries and paths](#toc2_1_)    \n",
    "  - [Input Data](#toc2_2_)    \n",
    "- [Defining species specific Networks](#toc3_)    \n",
    "  - [Distributions of the species NPS](#toc3_1_)    \n",
    "  - [Set thresholds](#toc3_2_)    \n",
    "  - [Identify subgraphs](#toc3_3_)    \n",
    "    - [ADDED Assess the impact of thresholds on network size](#toc3_3_1_)    \n",
    "    - [END ADDED](#toc3_3_2_)    \n",
    "  - [Visualize the species specific networks](#toc3_4_)    \n",
    "  - [Assess seed gene fractions](#toc3_5_)    \n",
    "- [Tissue enrichments of conserved & species specific networks](#toc4_)    \n",
    "  - [Get gene lists for each subnetwork](#toc4_1_)    \n",
    "  - [Import tissue enrichment results](#toc4_2_)    \n",
    "  - [Visualize tissue enrichment results](#toc4_3_)    \n",
    "- [Hierarchical Community Detection of Species Specific Networks](#toc5_)    \n",
    "  - [Define the expanded network](#toc5_1_)    \n",
    "  - [Perform hierarchical community detection](#toc5_2_)    \n",
    "  - [Annotate the hiearchy with GO terms](#toc5_3_)    \n",
    "  - [Annotate the global systems map](#toc5_4_)    \n",
    "  - [Upload the expanded systems map](#toc5_5_)    \n",
    "  - [Visualize over-represented communities](#toc5_6_)    \n",
    "  - [ADDED MGD Enrichment](#toc5_7_)    \n",
    "  - [END ADDED](#toc5_8_)    \n",
    "  - [ADDED Table 7 Analysis](#toc5_9_)    \n",
    "  - [END ADDED](#toc5_10_)    \n",
    "- [Scaled Figures](#toc6_)    \n",
    "\n",
    "<!-- vscode-jupyter-toc-config\n",
    "\tnumbering=false\n",
    "\tanchor=true\n",
    "\tflat=false\n",
    "\tminLevel=1\n",
    "\tmaxLevel=6\n",
    "\t/vscode-jupyter-toc-config -->\n",
    "<!-- THIS CELL WILL BE REPLACED ON TOC UPDATE. DO NOT WRITE YOUR TEXT IN THIS CELL -->"
   ]
  },
  {
   "cell_type": "markdown",
   "metadata": {},
   "source": [
    "# <a id='toc2_'></a>[Set Up](#toc0_)"
   ]
  },
  {
   "cell_type": "markdown",
   "metadata": {},
   "source": [
    "## <a id='toc2_1_'></a>[Libraries and paths](#toc0_)"
   ]
  },
  {
   "cell_type": "code",
   "execution_count": 2,
   "metadata": {
    "ExecuteTime": {
     "end_time": "2023-02-16T23:55:38.849440Z",
     "start_time": "2023-02-16T23:55:38.847007Z"
    },
    "init_cell": true
   },
   "outputs": [
    {
     "name": "stderr",
     "output_type": "stream",
     "text": [
      "DISCLAIMIER: cdapsutil is experimental and may contain errors and interfaces may change\n"
     ]
    }
   ],
   "source": [
    "import os\n",
    "import sys\n",
    "import pandas as pd\n",
    "import matplotlib.pyplot as plt\n",
    "import matplotlib\n",
    "import seaborn as sns\n",
    "import numpy as np\n",
    "from tqdm import tqdm\n",
    "import cdapsutil\n",
    "import ndex2\n",
    "from scipy.stats import hypergeom\n",
    "from statsmodels.stats.multitest import fdrcorrection\n",
    "from gprofiler import GProfiler\n",
    "gp = GProfiler(\"MyToolName/0.1\")"
   ]
  },
  {
   "cell_type": "code",
   "execution_count": 3,
   "metadata": {
    "ExecuteTime": {
     "end_time": "2023-02-16T23:55:39.521634Z",
     "start_time": "2023-02-16T23:55:39.519792Z"
    },
    "init_cell": true
   },
   "outputs": [],
   "source": [
    "# Set up directory paths. Defaults to the Data/ and Figures/ folders within the repository.\n",
    "cwd = os.path.dirname(os.getcwd())\n",
    "DATADIR = os.path.join(cwd, \"Data/\")\n",
    "FIGDIR = os.path.join(cwd, \"Figures/\")"
   ]
  },
  {
   "cell_type": "code",
   "execution_count": 4,
   "metadata": {
    "ExecuteTime": {
     "end_time": "2023-02-05T01:49:34.667899Z",
     "start_time": "2023-02-05T01:49:34.666075Z"
    }
   },
   "outputs": [],
   "source": [
    "sys.path.append(cwd)\n",
    "from analysis_functions import *\n",
    "from updated_netcoloc_functions import *"
   ]
  },
  {
   "cell_type": "markdown",
   "metadata": {},
   "source": [
    "## <a id='toc2_2_'></a>[Input Data](#toc0_)"
   ]
  },
  {
   "cell_type": "code",
   "execution_count": 5,
   "metadata": {},
   "outputs": [
    {
     "name": "stdout",
     "output_type": "stream",
     "text": [
      "number of nodes:\n",
      "18820\n",
      "\n",
      "number of edges:\n",
      "2693109\n"
     ]
    }
   ],
   "source": [
    "pc_nodes, G = load_pcnet()"
   ]
  },
  {
   "cell_type": "code",
   "execution_count": 8,
   "metadata": {
    "ExecuteTime": {
     "end_time": "2023-02-16T23:55:39.671785Z",
     "start_time": "2023-02-16T23:55:39.586470Z"
    },
    "init_cell": true,
    "scrolled": true
   },
   "outputs": [
    {
     "data": {
      "text/html": [
       "<div>\n",
       "<style scoped>\n",
       "    .dataframe tbody tr th:only-of-type {\n",
       "        vertical-align: middle;\n",
       "    }\n",
       "\n",
       "    .dataframe tbody tr th {\n",
       "        vertical-align: top;\n",
       "    }\n",
       "\n",
       "    .dataframe thead th {\n",
       "        text-align: right;\n",
       "    }\n",
       "</style>\n",
       "<table border=\"1\" class=\"dataframe\">\n",
       "  <thead>\n",
       "    <tr style=\"text-align: right;\">\n",
       "      <th></th>\n",
       "      <th>NPS_r</th>\n",
       "      <th>NPS_h</th>\n",
       "      <th>NPS_hr</th>\n",
       "    </tr>\n",
       "    <tr>\n",
       "      <th>gene</th>\n",
       "      <th></th>\n",
       "      <th></th>\n",
       "      <th></th>\n",
       "    </tr>\n",
       "  </thead>\n",
       "  <tbody>\n",
       "    <tr>\n",
       "      <th>A1BG</th>\n",
       "      <td>0.125314</td>\n",
       "      <td>-0.488576</td>\n",
       "      <td>-0.061226</td>\n",
       "    </tr>\n",
       "    <tr>\n",
       "      <th>A1CF</th>\n",
       "      <td>2.540447</td>\n",
       "      <td>2.186042</td>\n",
       "      <td>5.553524</td>\n",
       "    </tr>\n",
       "    <tr>\n",
       "      <th>A2M</th>\n",
       "      <td>0.651845</td>\n",
       "      <td>-0.581848</td>\n",
       "      <td>-0.379275</td>\n",
       "    </tr>\n",
       "    <tr>\n",
       "      <th>A2ML1</th>\n",
       "      <td>-1.315517</td>\n",
       "      <td>-1.108608</td>\n",
       "      <td>1.458393</td>\n",
       "    </tr>\n",
       "    <tr>\n",
       "      <th>A3GALT2</th>\n",
       "      <td>-0.546107</td>\n",
       "      <td>-0.243477</td>\n",
       "      <td>0.132964</td>\n",
       "    </tr>\n",
       "  </tbody>\n",
       "</table>\n",
       "</div>"
      ],
      "text/plain": [
       "            NPS_r     NPS_h    NPS_hr\n",
       "gene                                 \n",
       "A1BG     0.125314 -0.488576 -0.061226\n",
       "A1CF     2.540447  2.186042  5.553524\n",
       "A2M      0.651845 -0.581848 -0.379275\n",
       "A2ML1   -1.315517 -1.108608  1.458393\n",
       "A3GALT2 -0.546107 -0.243477  0.132964"
      ]
     },
     "execution_count": 8,
     "metadata": {},
     "output_type": "execute_result"
    }
   ],
   "source": [
    "# load data, contains original subgraphs\n",
    "data = pd.read_csv(DATADIR + \"outputs/rat_human_BMI_all_NPS.tsv\", sep = \"\\t\", index_col=0)\n",
    "data.head()"
   ]
  },
  {
   "cell_type": "code",
   "execution_count": 6,
   "metadata": {
    "ExecuteTime": {
     "end_time": "2023-02-05T01:49:38.600720Z",
     "start_time": "2023-02-05T01:49:38.591737Z"
    }
   },
   "outputs": [
    {
     "name": "stdout",
     "output_type": "stream",
     "text": [
      "Number of human BMI seeds: 1958\n",
      "Number of rat BMI seeds: 295\n"
     ]
    }
   ],
   "source": [
    "# load seed genes\n",
    "seed_bin_human_BMI = pd.read_csv(DATADIR+\"inputs/human_BMI_all_seed_genes.txt\", header=None)[0].tolist()\n",
    "print(\"Number of human BMI seeds:\", len(seed_bin_human_BMI))\n",
    "\n",
    "seed_bin_rat_BMI=pd.read_csv(DATADIR+'inputs/ratBMI_seed_genes.txt',sep='\\t')['0'].tolist()\n",
    "print(\"Number of rat BMI seeds:\", len(seed_bin_rat_BMI))"
   ]
  },
  {
   "cell_type": "code",
   "execution_count": 9,
   "metadata": {
    "ExecuteTime": {
     "end_time": "2023-02-15T19:04:35.070209Z",
     "start_time": "2023-02-15T19:04:34.696479Z"
    }
   },
   "outputs": [],
   "source": [
    "# classify each gene based on seed gene status\n",
    "data = data.assign(rat_seed=[1 if gene in seed_bin_rat_BMI else 0 for gene in data.index])\n",
    "data = data.assign(human_seed=[1 if gene in seed_bin_human_BMI else 0 for gene in data.index])"
   ]
  },
  {
   "cell_type": "markdown",
   "metadata": {},
   "source": [
    "# <a id='toc3_'></a>[Defining species specific Networks](#toc0_)"
   ]
  },
  {
   "cell_type": "markdown",
   "metadata": {},
   "source": [
    "## <a id='toc3_1_'></a>[Distributions of the species NPS](#toc0_)\n",
    "\n",
    "To determine appropriate thresholds for each species we examine the distribution of network proximity scores (NPS). "
   ]
  },
  {
   "cell_type": "code",
   "execution_count": 10,
   "metadata": {
    "ExecuteTime": {
     "end_time": "2023-02-15T19:03:04.471319Z",
     "start_time": "2023-02-15T19:03:03.821205Z"
    }
   },
   "outputs": [
    {
     "data": {
      "text/plain": [
       "<matplotlib.legend.Legend at 0x1554cd468d00>"
      ]
     },
     "execution_count": 10,
     "metadata": {},
     "output_type": "execute_result"
    },
    {
     "data": {
      "image/png": "[encoded data removed]",
      "text/plain": [
       "<Figure size 1008x216 with 2 Axes>"
      ]
     },
     "metadata": {
      "needs_background": "light"
     },
     "output_type": "display_data"
    }
   ],
   "source": [
    "matplotlib.rcParams.update({'font.size': 14})\n",
    "fig, [ax1, ax2] = plt.subplots(nrows=1, ncols=2, figsize=(14, 3))\n",
    "_, bins, _ = ax1.hist(data.NPS_r, bins=100, alpha=0.7, density=True, label=\"Rat\", color=\"#a95aa1\")\n",
    "_ = ax1.hist(data.NPS_h, bins=bins, alpha=0.7, density=True, label=\"Human\", color=\"#85c0f9\")\n",
    "ax1.set_ylabel(\"Density\")\n",
    "ax1.set_xlabel(\"NPS\")\n",
    "ax1.legend()\n",
    "\n",
    "_, bins, _ = ax2.hist(data[data.rat_seed==0].NPS_r, bins=50, alpha=0.7, density=True, label=\"Rat\", color=\"#a95aa1\")\n",
    "_ = ax2.hist(data[data.human_seed==0].NPS_h, bins=bins, alpha=0.7, density=True, label=\"Human\", color=\"#85c0f9\")\n",
    "ax2.set_ylabel(\"Density\")\n",
    "ax2.set_xlabel(\"NPS (no seed genes)\")\n",
    "ax2.legend()"
   ]
  },
  {
   "cell_type": "code",
   "execution_count": 11,
   "metadata": {
    "ExecuteTime": {
     "end_time": "2023-02-15T19:04:40.775449Z",
     "start_time": "2023-02-15T19:04:40.766111Z"
    }
   },
   "outputs": [
    {
     "data": {
      "text/html": [
       "<div>\n",
       "<style scoped>\n",
       "    .dataframe tbody tr th:only-of-type {\n",
       "        vertical-align: middle;\n",
       "    }\n",
       "\n",
       "    .dataframe tbody tr th {\n",
       "        vertical-align: top;\n",
       "    }\n",
       "\n",
       "    .dataframe thead th {\n",
       "        text-align: right;\n",
       "    }\n",
       "</style>\n",
       "<table border=\"1\" class=\"dataframe\">\n",
       "  <thead>\n",
       "    <tr style=\"text-align: right;\">\n",
       "      <th></th>\n",
       "      <th>NPS_r</th>\n",
       "      <th>NPS_h</th>\n",
       "    </tr>\n",
       "  </thead>\n",
       "  <tbody>\n",
       "    <tr>\n",
       "      <th>count</th>\n",
       "      <td>18820.000000</td>\n",
       "      <td>18820.000000</td>\n",
       "    </tr>\n",
       "    <tr>\n",
       "      <th>mean</th>\n",
       "      <td>0.166117</td>\n",
       "      <td>1.064944</td>\n",
       "    </tr>\n",
       "    <tr>\n",
       "      <th>std</th>\n",
       "      <td>1.819963</td>\n",
       "      <td>3.034380</td>\n",
       "    </tr>\n",
       "    <tr>\n",
       "      <th>min</th>\n",
       "      <td>-2.908312</td>\n",
       "      <td>-3.953688</td>\n",
       "    </tr>\n",
       "    <tr>\n",
       "      <th>25%</th>\n",
       "      <td>-0.699091</td>\n",
       "      <td>-0.227384</td>\n",
       "    </tr>\n",
       "    <tr>\n",
       "      <th>50%</th>\n",
       "      <td>-0.220273</td>\n",
       "      <td>0.450951</td>\n",
       "    </tr>\n",
       "    <tr>\n",
       "      <th>75%</th>\n",
       "      <td>0.566990</td>\n",
       "      <td>1.240185</td>\n",
       "    </tr>\n",
       "    <tr>\n",
       "      <th>max</th>\n",
       "      <td>31.286290</td>\n",
       "      <td>34.273300</td>\n",
       "    </tr>\n",
       "  </tbody>\n",
       "</table>\n",
       "</div>"
      ],
      "text/plain": [
       "              NPS_r         NPS_h\n",
       "count  18820.000000  18820.000000\n",
       "mean       0.166117      1.064944\n",
       "std        1.819963      3.034380\n",
       "min       -2.908312     -3.953688\n",
       "25%       -0.699091     -0.227384\n",
       "50%       -0.220273      0.450951\n",
       "75%        0.566990      1.240185\n",
       "max       31.286290     34.273300"
      ]
     },
     "execution_count": 11,
     "metadata": {},
     "output_type": "execute_result"
    }
   ],
   "source": [
    "# Summarize the NPS scores, including seed genes\n",
    "data.loc[:, (\"NPS_r\", \"NPS_h\")].describe()"
   ]
  },
  {
   "cell_type": "code",
   "execution_count": 12,
   "metadata": {
    "ExecuteTime": {
     "end_time": "2023-02-15T19:04:46.496544Z",
     "start_time": "2023-02-15T19:04:46.490152Z"
    }
   },
   "outputs": [
    {
     "data": {
      "text/plain": [
       "count    18525.000000\n",
       "mean        -0.013611\n",
       "std          1.030633\n",
       "min         -2.908312\n",
       "50%         -0.237388\n",
       "75%          0.518693\n",
       "80%          0.729556\n",
       "85%          1.005072\n",
       "90%          1.354651\n",
       "95%          1.952714\n",
       "max          6.798332\n",
       "Name: NPS_r, dtype: float64"
      ]
     },
     "execution_count": 12,
     "metadata": {},
     "output_type": "execute_result"
    }
   ],
   "source": [
    "# Summarize the NPS_r scores, excluding seed genes\n",
    "data[data.rat_seed==0].NPS_r.describe(percentiles=[0.5, 0.75, 0.8, 0.85, 0.9, 0.95])"
   ]
  },
  {
   "cell_type": "code",
   "execution_count": 11,
   "metadata": {
    "ExecuteTime": {
     "end_time": "2023-02-15T19:04:52.181523Z",
     "start_time": "2023-02-15T19:04:52.175687Z"
    }
   },
   "outputs": [
    {
     "data": {
      "text/plain": [
       "count    16862.000000\n",
       "mean         0.425921\n",
       "std          1.047217\n",
       "min         -3.953688\n",
       "50%          0.348532\n",
       "75%          1.069361\n",
       "80%          1.240472\n",
       "85%          1.464345\n",
       "90%          1.742707\n",
       "95%          2.219446\n",
       "max          6.620334\n",
       "Name: NPS_h, dtype: float64"
      ]
     },
     "execution_count": 11,
     "metadata": {},
     "output_type": "execute_result"
    }
   ],
   "source": [
    "# Summarise the NPS_h scores, excluding seed genes\n",
    "data[data.human_seed==0].NPS_h.describe(percentiles=[0.5, 0.75, 0.8, 0.85, 0.9, 0.95])"
   ]
  },
  {
   "attachments": {},
   "cell_type": "markdown",
   "metadata": {},
   "source": [
    "## <a id='toc3_2_'></a>[Set thresholds](#toc0_)\n",
    "\n",
    "Based on the above distributions we set:\n",
    "\n",
    "* same-species threshold to be greater than $\\mu_{sameSpecies} + \\sigma_{sameSpecies}$\n",
    "* other-species threshold to be less than $\\mu_{otherSpecies}$\n",
    "* expanded thresholds to give a network between 500-1000 genes.\n",
    "\n",
    "**Combo thresholds are used as follows:**  \n",
    "\n",
    "Conserved: $z_{rat}\\bullet z_{human} > combo$  \n",
    "  \n",
    "Rat Only: $z_{rat}\\bullet (z_{human} - 1) < combo$  \n",
    "  \n",
    "Human Only: $(z_{rat}-1)\\bullet z_{human} < combo$"
   ]
  },
  {
   "cell_type": "code",
   "execution_count": 13,
   "metadata": {
    "ExecuteTime": {
     "end_time": "2023-02-16T23:55:39.674727Z",
     "start_time": "2023-02-16T23:55:39.672708Z"
    },
    "init_cell": true
   },
   "outputs": [],
   "source": [
    "# set thresholds:\n",
    "conserved = {\"rat\":1, \"human\":1, \"combo\":3}\n",
    "rat_only = {\"rat\":1, \"human\":0.5, \"combo\":-2}\n",
    "human_only = {\"rat\":0, \"human\":1.5, \"combo\":-4}"
   ]
  },
  {
   "cell_type": "markdown",
   "metadata": {},
   "source": [
    "## <a id='toc3_3_'></a>[Identify subgraphs](#toc0_)"
   ]
  },
  {
   "cell_type": "code",
   "execution_count": 17,
   "metadata": {
    "ExecuteTime": {
     "end_time": "2023-02-15T19:05:03.520509Z",
     "start_time": "2023-02-15T19:05:03.515553Z"
    },
    "code_folding": []
   },
   "outputs": [],
   "source": [
    "def sub_graph(data, rat_th_dict, human_th_dict, conserved_th_dict):\n",
    "    \"\"\"Wrapper function to assign each gene in data to a subnetwork based on the thresholds defined\n",
    "\n",
    "    Args:\n",
    "        data (pandas.DataFrame): DataFrame containing the genes and their NPS scores\n",
    "        rat_th_dict (dict): A dictionary specifying the three thresholds to define the rat-Specific network\n",
    "        human_th_dict (dict): A dictionary specifying the three thresholds to define the human-Specific network\n",
    "        conserved_th_dict (dict): A dictionary specifying the three thresholds to define the conserved network\n",
    "\n",
    "    Returns:\n",
    "        pandas.DataFrame: The input data set with a new/updated subgraph column for all subnetworks\n",
    "    \"\"\"\n",
    "    if \"subgraph\" not in data.columns:\n",
    "        data = data.assign(subgraph=\"PCNet\")\n",
    "    else:\n",
    "        data[\"subgraph\"] = \"PCNet\"\n",
    "    data = assign_sub_graph(data, th_dict = conserved_th_dict, name=\"conserved\")\n",
    "    data = assign_sub_graph(data, th_dict = rat_th_dict, name=\"rat\")\n",
    "    data = assign_sub_graph(data, th_dict = human_th_dict, name=\"human\")\n",
    "    return data\n",
    "\n",
    "def assign_sub_graph(data, rat_th=None, human_th=None, combo_th=None, th_dict=None, name=\"conserved\"):\n",
    "    \"\"\"Assigns sub_graph annotations based on input thresholds\n",
    "\n",
    "    Args:\n",
    "        data (_type_): _description_\n",
    "        rat_th (_type_, optional): If assigning the rat-Specific network, rat-Specific thresholds. Defaults to None.\n",
    "        human_th (_type_, optional): If assigning the human-Specific network, human-Specific thresholds. Defaults to None.\n",
    "        combo_th (_type_, optional): If assigning the conserved network, conserved thresholds. Defaults to None.\n",
    "        th_dict (_type_, optional): Dictionary of all thresholds.  Defaults to None.\n",
    "        name (str, optional): Name of the subgraph being assigned. Defaults to \"conserved\".\n",
    "\n",
    "    Returns:\n",
    "        pandas.DataFrame: The input data set with a new/updated subgraph column for a single subnetwork\n",
    "    \"\"\"\n",
    "    if th_dict is not None:\n",
    "        rat_th = th_dict[\"rat\"]\n",
    "        combo_th = th_dict[\"combo\"]\n",
    "        human_th = th_dict[\"human\"]\n",
    "    if \"subgraph\" not in data.columns:\n",
    "        data = data.assign(subgraph=\"PCNet\")\n",
    "    if name == \"rat\":\n",
    "        data.loc[((data.NPS_r > rat_th) & (data.NPS_h < human_th) & (data.NPS_r * (data.NPS_h - 1) < combo_th)), \n",
    "                (\"subgraph\")] = \"Rat-Specific\"\n",
    "    elif name == \"human\":\n",
    "        data.loc[((data.NPS_r < rat_th) & (data.NPS_h > human_th) & ((data.NPS_r - 1)*(data.NPS_h) < combo_th)), \n",
    "                (\"subgraph\")] = \"Human-Specific\"\n",
    "    else:\n",
    "        data.loc[((data.NPS_r > rat_th) & (data.NPS_h > human_th) & (data.NPS_hr > combo_th)), (\"subgraph\")] = \"Conserved\"\n",
    "    return data"
   ]
  },
  {
   "cell_type": "code",
   "execution_count": 18,
   "metadata": {
    "ExecuteTime": {
     "end_time": "2023-02-15T19:05:09.235260Z",
     "start_time": "2023-02-15T19:05:09.228191Z"
    }
   },
   "outputs": [],
   "source": [
    "# classify each gene based on membership to sub networks\n",
    "data = assign_sub_graph(data, th_dict = conserved, name=\"conserved\")\n",
    "data = assign_sub_graph(data, th_dict = rat_only, name=\"rat\")\n",
    "data = assign_sub_graph(data, th_dict = human_only, name=\"human\")"
   ]
  },
  {
   "cell_type": "code",
   "execution_count": 22,
   "metadata": {
    "ExecuteTime": {
     "end_time": "2023-02-15T19:05:14.937998Z",
     "start_time": "2023-02-15T19:05:14.932720Z"
    }
   },
   "outputs": [
    {
     "name": "stdout",
     "output_type": "stream",
     "text": [
      "Number of genes in each subnetwork:\n"
     ]
    },
    {
     "data": {
      "text/plain": [
       "subgraph\n",
       "PCNet             16550\n",
       "Human-Specific      925\n",
       "Rat-Specific        688\n",
       "Conserved           657\n",
       "dtype: int64"
      ]
     },
     "execution_count": 22,
     "metadata": {},
     "output_type": "execute_result"
    }
   ],
   "source": [
    "# number of genes in each subnetwork\n",
    "print(\"Number of genes in each subnetwork:\")\n",
    "data.value_counts(\"subgraph\", dropna=False)"
   ]
  },
  {
   "cell_type": "code",
   "execution_count": 20,
   "metadata": {
    "ExecuteTime": {
     "end_time": "2023-02-15T19:05:20.785799Z",
     "start_time": "2023-02-15T19:05:20.649162Z"
    }
   },
   "outputs": [],
   "source": [
    "# export the data\n",
    "data.to_csv(DATADIR + \"outputs/rat_only_human_only_networks.tsv\", sep=\"\\t\")"
   ]
  },
  {
   "cell_type": "markdown",
   "metadata": {},
   "source": [
    "### <a id='toc3_3_1_'></a>[ADDED Assess the impact of thresholds on network size](#toc0_)"
   ]
  },
  {
   "cell_type": "code",
   "execution_count": 21,
   "metadata": {
    "ExecuteTime": {
     "end_time": "2023-02-05T01:49:45.162366Z",
     "start_time": "2023-02-05T01:49:45.140177Z"
    }
   },
   "outputs": [],
   "source": [
    "data= pd.read_csv(DATADIR + \"outputs/rat_only_human_only_networks.tsv\", sep=\"\\t\")"
   ]
  },
  {
   "cell_type": "markdown",
   "metadata": {
    "ExecuteTime": {
     "end_time": "2023-02-15T19:03:17.947852Z",
     "start_time": "2023-02-15T19:03:17.945320Z"
    }
   },
   "source": [
    "def get_network_stats(G, genes):\n",
    "    subG = nx.Graph(G.subgraph(genes))\n",
    "    to_be_removed = [x for  x in subG.nodes() if subG.degree(x) < 1]\n",
    "    subG.remove_nodes_from(to_be_removed)\n",
    "    comps = nx.number_connected_components(subG)\n",
    "    density = nx.density(subG)\n",
    "    return comps, density\n",
    "    "
   ]
  },
  {
   "cell_type": "markdown",
   "metadata": {},
   "source": [
    "## <a id='toc3_4_'></a>[Visualize the species specific networks](#toc0_)"
   ]
  },
  {
   "cell_type": "code",
   "execution_count": 23,
   "metadata": {
    "ExecuteTime": {
     "end_time": "2023-02-15T19:03:25.654638Z",
     "start_time": "2023-02-15T19:03:25.642857Z"
    },
    "code_folding": [],
    "run_control": {
     "marked": true
    }
   },
   "outputs": [],
   "source": [
    "def plot_species_nps(data, subgraph, th_dict=None, ax=None, legend=None, fontsize=7):\n",
    "    \"\"\"Plot the species and conserved networks as a function of NPSh and NPSr.\n",
    "\n",
    "    Args:\n",
    "        data (pandas.DataFrame): Gene-subnetwork mapping\n",
    "        subgraph (str): Name of the subnetwork\n",
    "        th_dict (dict, optional): Thresholds to define the subnetwork. Defaults to None.\n",
    "        ax (matplotlib.pyplot.Axes, optional): Axis to plot the figure on. Defaults to None.\n",
    "        legend (str, optional): Input to seaborn to toggle legend. Defaults to None.\n",
    "        fontsize (int, optional): Fontsize for plotting labels. Defaults to 7.\n",
    "    \"\"\"\n",
    "    x_points = [(i+0.0001)/10 for i in range(-50,250)]\n",
    "    if subgraph == \"conserved\":\n",
    "        cmap = {\"Conserved\": \"#F5793A\", **{k:\"grey\" for k in [\"Rat-Specific\", \"PCNet\", \"Human-Specific\"]}}\n",
    "        combo_line = [th_dict[\"combo\"]/x for x in x_points if x > th_dict[\"combo\"]/25]\n",
    "        ax.plot([x for x in x_points if x > th_dict[\"combo\"]/25], combo_line, color=\"#f5793a\", linewidth=1)\n",
    "        ax.text(x=10, y=30, s=\"$NPS_r > \"+str(th_dict[\"rat\"])+\"$\", color=\"#a95aa1\", fontsize=fontsize)\n",
    "        ax.text(x=10, y=26, s=\"$NPS_h > \"+str(th_dict[\"human\"])+\"$\", color=\"#85c0f9\", fontsize=fontsize)\n",
    "        ax.text(x=10, y=22, s=\"$NPS_{hr} > \"+str(th_dict[\"combo\"])+\"$\", color=\"#f5793a\", fontsize=fontsize)\n",
    "    elif subgraph == \"rat\":\n",
    "        cmap = {\"Rat-Specific\": \"#a95aa1\", **{k:\"grey\" for k in [\"Conserved\", \"PCNet\", \"Human-Specific\"]}}\n",
    "        combo_line = [th_dict[\"combo\"]/(x-1) for x in x_points if x < 1 + th_dict[\"combo\"]/25]\n",
    "        ax.plot([x for x in x_points if x < 1 + th_dict[\"combo\"]/25], combo_line, color=\"#f5793a\", linewidth=1)\n",
    "        ax.text(x=10, y=30, s=\"$NPS_r > \"+str(th_dict[\"rat\"])+\"$\", color=\"#a95aa1\", fontsize=fontsize)\n",
    "        ax.text(x=10, y=26, s=\"$NPS_h < \"+str(th_dict[\"human\"])+\"$\", color=\"#85c0f9\", fontsize=fontsize)\n",
    "        ax.text(x=10, y=22, s=\"$NPS_r(NPS_h-1) < \"+str(th_dict[\"combo\"])+\"$\", color=\"#f5793a\", fontsize=fontsize)\n",
    "    elif subgraph == \"human\":\n",
    "        cmap = {\"Human-Specific\": \"#85c0f9\", **{k:\"grey\" for k in [\"Rat-Specific\", \"PCNet\", \"Conserved\"]}}\n",
    "        combo_line = [1 + th_dict[\"combo\"]/x for x in x_points if x > th_dict[\"combo\"]/-6]\n",
    "        ax.plot([x for x in x_points if x > th_dict[\"combo\"]/-6], combo_line, color=\"#f5793a\", linewidth=1)\n",
    "        ax.text(x=10, y=30, s=\"$NPS_r < \"+str(th_dict[\"rat\"])+\"$\", color=\"#a95aa1\", fontsize=fontsize)\n",
    "        ax.text(x=10, y=26, s=\"$NPS_h > \"+str(th_dict[\"human\"])+\"$\", color=\"#85c0f9\", fontsize=fontsize)\n",
    "        ax.text(x=10, y=22, s=\"$NPS_h(NPS_r-1) < \"+str(th_dict[\"combo\"])+\"$\", color=\"#f5793a\", fontsize=fontsize)\n",
    "    else:\n",
    "        cmap = {\"Conserved\": \"#F5793A\",\"Rat-Specific\": \"#a95aa1\", \"Human-Specific\": \"#85c0f9\", \"PCNet\":\"grey\" }\n",
    "    \n",
    "    sns.scatterplot(data=data, x=\"NPS_h\", y=\"NPS_r\", hue=\"subgraph\", palette=cmap, s=2, ax=ax, markers=True, alpha=0.8,\n",
    "                legend=legend)\n",
    "    if th_dict is not None:\n",
    "        ax.hlines(y=th_dict[\"rat\"], xmin=-5, xmax=25, color=\"#a95aa1\", alpha=1, zorder=4, linewidth=1)\n",
    "        ax.vlines(x=th_dict[\"human\"], ymin=-5, ymax=25, color=\"#85c0f9\", alpha=1, zorder=3, linewidth=1)\n",
    "    ax.set_ylabel(\"NPS$_r$\", fontsize=fontsize)\n",
    "    ax.set_xlabel(\"NPS$_h$\", fontsize=fontsize)\n",
    "    ax.spines['left'].set(position=('data', 0.0), zorder=2)\n",
    "    ax.spines['bottom'].set(position=('data', 0.0), zorder=2)\n",
    "    ax.spines['top'].set_position(('data', 0.0))\n",
    "    ax.spines['right'].set_position(('data', 0.0))\n",
    "    ax.set_xticks([ 5, 10, 15, 20, 25, 30])\n",
    "    ax.set_xticklabels(labels=[ 5, 10, 15, 20, 25, 30], fontsize=fontsize, zorder=10)\n",
    "    ax.set_yticks([ 5, 10, 15, 20, 25, 30])\n",
    "    ax.set_yticklabels(labels=[ 5, 10, 15, 20, 25, 30], fontsize=fontsize, zorder=10)"
   ]
  },
  {
   "attachments": {},
   "cell_type": "markdown",
   "metadata": {},
   "source": [
    "### Supplemental Figure 6A-C"
   ]
  },
  {
   "cell_type": "code",
   "execution_count": 25,
   "metadata": {
    "ExecuteTime": {
     "end_time": "2023-02-15T19:05:30.813854Z",
     "start_time": "2023-02-15T19:05:26.480749Z"
    }
   },
   "outputs": [
    {
     "data": {
      "image/png": "[encoded data removed]",
      "text/plain": [
       "<Figure size 1296x432 with 3 Axes>"
      ]
     },
     "metadata": {
      "needs_background": "light"
     },
     "output_type": "display_data"
    }
   ],
   "source": [
    "fig, [ax1, ax2, ax3] = plt.subplots(nrows=1, ncols=3, figsize=(18, 6))\n",
    "plot_species_nps(data, \"conserved\", conserved, ax1, fontsize=12)\n",
    "plot_species_nps(data, \"rat\", rat_only, ax2, fontsize=12)\n",
    "plot_species_nps(data, \"human\", human_only, ax3, fontsize=12)\n",
    "ax1.set_title(\"a - Conserved\", loc=\"left\", fontsize=12)\n",
    "ax2.set_title(\"b - Rat-Specific\", loc=\"left\", fontsize=12)\n",
    "ax3.set_title(\"c - Human-Specific\", loc=\"left\", fontsize=12)\n",
    "plt.savefig(FIGDIR + \"Sup6_definition_of_networks.png\", dpi=400, bbox_inches=\"tight\")"
   ]
  },
  {
   "attachments": {},
   "cell_type": "markdown",
   "metadata": {},
   "source": [
    "### Figure 6A"
   ]
  },
  {
   "cell_type": "code",
   "execution_count": 27,
   "metadata": {
    "ExecuteTime": {
     "end_time": "2022-09-14T00:59:13.306775Z",
     "start_time": "2022-09-14T00:59:10.361391Z"
    }
   },
   "outputs": [
    {
     "data": {
      "image/png": "[encoded data removed]",
      "text/plain": [
       "<Figure size 720x288 with 2 Axes>"
      ]
     },
     "metadata": {
      "needs_background": "light"
     },
     "output_type": "display_data"
    }
   ],
   "source": [
    "fig, [ax1, ax2] = plt.subplots(nrows=1, ncols=2, figsize=(10,4))\n",
    "plot_species_nps(data, \"all\", ax=ax1, legend=\"brief\")\n",
    "plot_species_nps(data[data.rat_seed+data.human_seed==0], \"all\", ax=ax2, legend=\"brief\")\n",
    "_ = ax2.set_title(\"No seed genes\")\n",
    "_ = ax1.set_title(\"All genes\")"
   ]
  },
  {
   "attachments": {},
   "cell_type": "markdown",
   "metadata": {},
   "source": [
    "## Assess varying thresholds for defining networks\n",
    "\n",
    "Here we evaluate the effect of modifying the expanded NPS threshold, keeping the individual species NPS thresholds constant. "
   ]
  },
  {
   "cell_type": "code",
   "execution_count": 30,
   "metadata": {
    "ExecuteTime": {
     "end_time": "2023-02-04T23:15:32.260946Z",
     "start_time": "2023-02-04T23:14:55.253794Z"
    }
   },
   "outputs": [],
   "source": [
    "test_data = data.copy()\n",
    "combo_thresholds = [i/20 for i in range(10, 101)]\n",
    "sizes = {}\n",
    "for tau in combo_thresholds:\n",
    "    rat_th = {\"rat\":1, \"human\":0.5, \"combo\":-1 * tau}\n",
    "    human_th = {\"rat\":0, \"human\":1.5, \"combo\":-1 * tau}\n",
    "    conserved = {\"rat\":1, \"human\":1, \"combo\": tau}\n",
    "    test_data = sub_graph(test_data, rat_th, human_th, conserved)\n",
    "    sizes[tau] = test_data.value_counts(\"subgraph\", dropna=False)\n",
    "size_df = pd.DataFrame.from_dict(sizes).T"
   ]
  },
  {
   "attachments": {},
   "cell_type": "markdown",
   "metadata": {},
   "source": [
    "### Supplemental Figure 6D"
   ]
  },
  {
   "cell_type": "code",
   "execution_count": 31,
   "metadata": {
    "ExecuteTime": {
     "end_time": "2023-02-08T20:50:25.921486Z",
     "start_time": "2023-02-08T20:50:24.248015Z"
    }
   },
   "outputs": [
    {
     "data": {
      "image/png": "[encoded data removed]",
      "text/plain": [
       "<Figure size 288x216 with 1 Axes>"
      ]
     },
     "metadata": {
      "needs_background": "light"
     },
     "output_type": "display_data"
    }
   ],
   "source": [
    "#plt.plot(size_df.index, size_df.Conserved, color=\"#f5793a\", label=\"Conserved\")\n",
    "_, (ax1) = plt.subplots(nrows=1, ncols=1, figsize=(4,3)) #gridspec_kw ={'hspace':0.05})\n",
    "plt.sca(ax1)\n",
    "plt.plot(size_df.index, size_df[\"Human-Specific\"], color=\"#85c0f9\", label=\"Human-Specific\", zorder=2)\n",
    "plt.plot(size_df.index, size_df['Rat-Specific'], color=\"#a95aa1\", label=\"Rat-Specific\", zorder=2)\n",
    "plt.plot(size_df.index, size_df['Conserved'], color=\"#F5793A\", label=\"Conserved\", zorder=2)\n",
    "ax1.scatter(x=[3], y=[657], s=20, zorder=5, color=\"#F5793A\", edgecolor=\"black\")\n",
    "ax1.scatter(x=[2], y=[688], s=20, zorder=5, color=\"#a95aa1\", edgecolor=\"black\")\n",
    "ax1.scatter(x=[4], y=[925], s=20, zorder=5, color=\"#85c0f9\", edgecolor=\"black\")\n",
    "ax1.scatter(x=[4], y=[800], s=20, zorder=0, color=\"white\", edgecolor=\"black\", label=\"Selected Threshold\")\n",
    "plt.ylabel(\"Subnetwork Size (# Genes)\", fontsize=7)\n",
    "plt.xlabel('expanded NPS threshold', fontsize=7)\n",
    "#plt.hlines(y=657, xmin=0, xmax=5, color=\"#F5793A\", linestyle=\"--\", linewidth=1, label=\"Conserved\")\n",
    "ax1.fill_between(size_df.index, 1000, 500, color=\"lightgrey\", label=\"Target Range\", zorder=1)\n",
    "#plt.hlines(y=[500, 1000], xmin=0, xmax=5, color=\"black\", linestyle=\"--\", linewidth=1, label=\"Target Range\")\n",
    "plt.xlim(1, 5)\n",
    "ax1.tick_params(labelsize=7)\n",
    "plt.legend(fontsize=7, frameon=False)\n",
    "\n",
    "plt.savefig(FIGDIR + \"Sup6d_threshold_network_structure.png\", dpi=600, bbox_inches=\"tight\")"
   ]
  },
  {
   "cell_type": "markdown",
   "metadata": {},
   "source": [
    "## <a id='toc3_5_'></a>[Assess seed gene fractions](#toc0_)"
   ]
  },
  {
   "cell_type": "code",
   "execution_count": 32,
   "metadata": {
    "ExecuteTime": {
     "end_time": "2023-02-09T20:27:19.688262Z",
     "start_time": "2023-02-09T20:27:19.680172Z"
    }
   },
   "outputs": [
    {
     "data": {
      "text/html": [
       "<div>\n",
       "<style scoped>\n",
       "    .dataframe tbody tr th:only-of-type {\n",
       "        vertical-align: middle;\n",
       "    }\n",
       "\n",
       "    .dataframe tbody tr th {\n",
       "        vertical-align: top;\n",
       "    }\n",
       "\n",
       "    .dataframe thead th {\n",
       "        text-align: right;\n",
       "    }\n",
       "</style>\n",
       "<table border=\"1\" class=\"dataframe\">\n",
       "  <thead>\n",
       "    <tr style=\"text-align: right;\">\n",
       "      <th></th>\n",
       "      <th>gene</th>\n",
       "      <th>NPS_r</th>\n",
       "      <th>NPS_h</th>\n",
       "      <th>NPS_hr</th>\n",
       "      <th>rat_seed</th>\n",
       "      <th>human_seed</th>\n",
       "      <th>subgraph</th>\n",
       "      <th>overlapping_seeds</th>\n",
       "    </tr>\n",
       "  </thead>\n",
       "  <tbody>\n",
       "    <tr>\n",
       "      <th>0</th>\n",
       "      <td>A1BG</td>\n",
       "      <td>0.125314</td>\n",
       "      <td>-0.488576</td>\n",
       "      <td>-0.061226</td>\n",
       "      <td>0</td>\n",
       "      <td>0</td>\n",
       "      <td>PCNet</td>\n",
       "      <td>0</td>\n",
       "    </tr>\n",
       "    <tr>\n",
       "      <th>1</th>\n",
       "      <td>A1CF</td>\n",
       "      <td>2.540447</td>\n",
       "      <td>2.186042</td>\n",
       "      <td>5.553524</td>\n",
       "      <td>0</td>\n",
       "      <td>0</td>\n",
       "      <td>Conserved</td>\n",
       "      <td>0</td>\n",
       "    </tr>\n",
       "    <tr>\n",
       "      <th>2</th>\n",
       "      <td>A2M</td>\n",
       "      <td>0.651845</td>\n",
       "      <td>-0.581848</td>\n",
       "      <td>-0.379275</td>\n",
       "      <td>0</td>\n",
       "      <td>0</td>\n",
       "      <td>PCNet</td>\n",
       "      <td>0</td>\n",
       "    </tr>\n",
       "    <tr>\n",
       "      <th>3</th>\n",
       "      <td>A2ML1</td>\n",
       "      <td>-1.315517</td>\n",
       "      <td>-1.108608</td>\n",
       "      <td>1.458393</td>\n",
       "      <td>0</td>\n",
       "      <td>0</td>\n",
       "      <td>PCNet</td>\n",
       "      <td>0</td>\n",
       "    </tr>\n",
       "    <tr>\n",
       "      <th>4</th>\n",
       "      <td>A3GALT2</td>\n",
       "      <td>-0.546107</td>\n",
       "      <td>-0.243477</td>\n",
       "      <td>0.132964</td>\n",
       "      <td>0</td>\n",
       "      <td>1</td>\n",
       "      <td>PCNet</td>\n",
       "      <td>0</td>\n",
       "    </tr>\n",
       "  </tbody>\n",
       "</table>\n",
       "</div>"
      ],
      "text/plain": [
       "      gene     NPS_r     NPS_h    NPS_hr  rat_seed  human_seed   subgraph  \\\n",
       "0     A1BG  0.125314 -0.488576 -0.061226         0           0      PCNet   \n",
       "1     A1CF  2.540447  2.186042  5.553524         0           0  Conserved   \n",
       "2      A2M  0.651845 -0.581848 -0.379275         0           0      PCNet   \n",
       "3    A2ML1 -1.315517 -1.108608  1.458393         0           0      PCNet   \n",
       "4  A3GALT2 -0.546107 -0.243477  0.132964         0           1      PCNet   \n",
       "\n",
       "   overlapping_seeds  \n",
       "0                  0  \n",
       "1                  0  \n",
       "2                  0  \n",
       "3                  0  \n",
       "4                  0  "
      ]
     },
     "execution_count": 32,
     "metadata": {},
     "output_type": "execute_result"
    }
   ],
   "source": [
    "data = data.assign(overlapping_seeds=1*(data.rat_seed + data.human_seed==2))\n",
    "data.head()"
   ]
  },
  {
   "cell_type": "code",
   "execution_count": 34,
   "metadata": {
    "ExecuteTime": {
     "end_time": "2022-09-14T00:59:13.472909Z",
     "start_time": "2022-09-14T00:59:13.433942Z"
    }
   },
   "outputs": [],
   "source": [
    "# summarize the source of genes in each subgraph\n",
    "subgraph_stats = data.groupby(\"subgraph\").sum().loc[:, (\"rat_seed\", \"human_seed\", \"overlapping_seeds\")]\n",
    "subgraph_stats = subgraph_stats.join(data.groupby(\"subgraph\").count().loc[:, \"NPS_r\"])\n",
    "subgraph_stats = subgraph_stats.rename(columns={\"NPS_r\":\"count\"})\n",
    "subgraph_stats[\"Network\"] = subgraph_stats[\"count\"].values - subgraph_stats.loc[:,(\"rat_seed\", \"human_seed\", \"overlapping_seeds\")].sum(axis=1).values\n",
    "subgraph_stats.drop(columns=[\"count\"], inplace=True)\n",
    "subgraph_stats = subgraph_stats.loc[:,( \"human_seed\", \"overlapping_seeds\",\"rat_seed\", \"Network\") ]"
   ]
  },
  {
   "cell_type": "code",
   "execution_count": 35,
   "metadata": {
    "ExecuteTime": {
     "end_time": "2022-09-14T00:59:13.479549Z",
     "start_time": "2022-09-14T00:59:13.473804Z"
    }
   },
   "outputs": [],
   "source": [
    "# summarize the source of network implicated genes in each subgraph\n",
    "subgraph_stats[\"Network (Conserved)\"] = 0\n",
    "subgraph_stats.loc[\"Conserved\", (\"Network (Conserved)\")] = subgraph_stats.loc[\"Conserved\", (\"Network\")]\n",
    "subgraph_stats[\"Network (Rat)\"] = 0\n",
    "subgraph_stats.loc[\"Rat-Specific\", (\"Network (Rat)\")] = subgraph_stats.loc[\"Rat-Specific\", (\"Network\")]\n",
    "subgraph_stats[\"Network (Human)\"] = 0\n",
    "subgraph_stats.loc[\"Human-Specific\", (\"Network (Human)\"\n",
    "                                    )] = subgraph_stats.loc[\"Human-Specific\", (\"Network\")]\n",
    "subgraph_stats.drop(columns = [\"Network\"], inplace=True)"
   ]
  },
  {
   "cell_type": "code",
   "execution_count": 36,
   "metadata": {
    "ExecuteTime": {
     "end_time": "2022-09-14T00:59:13.514641Z",
     "start_time": "2022-09-14T00:59:13.505591Z"
    }
   },
   "outputs": [],
   "source": [
    "subgraph_stats.columns = [\"Human Seed\", \"Shared Seed\", \"Rat Seed\", \"Network (Conserved)\",\"Network (Rat)\",\"Network (Human)\"]"
   ]
  },
  {
   "attachments": {},
   "cell_type": "markdown",
   "metadata": {},
   "source": [
    "### Figure 6B"
   ]
  },
  {
   "cell_type": "code",
   "execution_count": 43,
   "metadata": {
    "ExecuteTime": {
     "end_time": "2022-09-14T00:59:14.936267Z",
     "start_time": "2022-09-14T00:59:13.515441Z"
    }
   },
   "outputs": [
    {
     "data": {
      "image/png": "[encoded data removed]",
      "text/plain": [
       "<Figure size 324x288 with 1 Axes>"
      ]
     },
     "metadata": {
      "needs_background": "light"
     },
     "output_type": "display_data"
    }
   ],
   "source": [
    "fig, ax = plt.subplots(ncols=1, nrows=1, figsize=(4.5,4))\n",
    "subgraph_stats.loc[[\"Conserved\", \"Rat-Specific\", \"Human-Specific\"]].plot(kind=\"bar\", stacked=True, ax=ax,\n",
    "                                                                color=[\"#85c0f9\", \"#0051a2\",\"#a95aa1\", \"#F5793a\", \"#e5a9df\", \"#c9e1f8\"])\n",
    "plt.legend(ncol=2, handletextpad=0.3, labelspacing=0.2, borderpad=0.4, columnspacing=0.5, fontsize=12, frameon=False, loc=\"upper center\", bbox_to_anchor=(0.25, 1.1, 0.5, 0.25))\n",
    "#plt.ylim((0, 1300))\n",
    "#ax.get_legend().remove()\n",
    "plt.xticks(fontsize=12)\n",
    "plt.yticks([0,200, 400, 600, 800, 1000],fontsize=12)\n",
    "ax.set_xticklabels(labels=[\"Conserved\", \"Rat-Sepcific\", \"Human-Specific\"])\n",
    "plt.xlabel(None)\n",
    "ax.tick_params(axis='x', pad=1, length=0)\n",
    "ax.tick_params(axis='y', pad=1, length=2)\n",
    "plt.ylabel(\"Number of Genes\", fontsize=12)\n",
    "plt.savefig(FIGDIR + \"6b_species_specific_bars.png\", dpi=400, bbox_inches=\"tight\")"
   ]
  },
  {
   "cell_type": "markdown",
   "metadata": {},
   "source": [
    "# <a id='toc4_'></a>[Tissue enrichments of conserved & species specific networks](#toc0_)\n",
    "\n",
    "Tissue enrichments were done using:\n",
    "* Human: http://genetics.wustl.edu/jdlab/tsea/\n",
    "* Mouse: https://tissueenrich.gdcb.iastate.edu/\n",
    "\n",
    "For mouse tissue enrichments, all genes were converted to mouse orthologs using the MGD data downloaded for functional enrichment. "
   ]
  },
  {
   "cell_type": "code",
   "execution_count": 44,
   "metadata": {
    "ExecuteTime": {
     "end_time": "2022-09-14T00:59:14.940551Z",
     "start_time": "2022-09-14T00:59:14.937435Z"
    }
   },
   "outputs": [],
   "source": [
    "def to_mouse_genes(gene_list, mgi_df):\n",
    "    orthos = mgi_df.loc[mgi_df.human_ortholog.isin(gene_list), (\"gene_name\")].unique()\n",
    "    return orthos"
   ]
  },
  {
   "cell_type": "markdown",
   "metadata": {},
   "source": [
    "## <a id='toc4_1_'></a>[Get gene lists for each subnetwork](#toc0_)"
   ]
  },
  {
   "cell_type": "code",
   "execution_count": 46,
   "metadata": {
    "ExecuteTime": {
     "end_time": "2022-09-14T00:59:15.082988Z",
     "start_time": "2022-09-14T00:59:14.943222Z"
    }
   },
   "outputs": [],
   "source": [
    "# create lists of genes within the three subgraphs\n",
    "with open(DATADIR + \"outputs/subgraph_genes_conserved.txt\", 'w') as fp:\n",
    "    fp.write('\\n'.join(data.loc[data.subgraph==\"Conserved\"].gene.values))\n",
    "with open(DATADIR + \"outputs/subgraph_genes_rat.txt\", 'w') as fp:\n",
    "    fp.write('\\n'.join(data.loc[data.subgraph==\"Rat-Specific\"].gene.values))\n",
    "with open(DATADIR + \"outputs/subgraph_genes_human.txt\", 'w') as fp:\n",
    "    fp.write('\\n'.join(data.loc[data.subgraph==\"Human-Specific\"].gene.values))"
   ]
  },
  {
   "cell_type": "code",
   "execution_count": 47,
   "metadata": {
    "ExecuteTime": {
     "end_time": "2023-02-05T01:48:56.368938Z",
     "start_time": "2023-02-05T01:48:53.613135Z"
    }
   },
   "outputs": [],
   "source": [
    "mgi_df = load_MGI_mouseKO_data(url='http://www.informatics.jax.org/downloads/reports/MGI_PhenoGenoMP.rpt',\n",
    "                                        map_using=\"mgi\", update=False, data_loc=DATADIR+\"Reference/\")"
   ]
  },
  {
   "cell_type": "code",
   "execution_count": 48,
   "metadata": {
    "ExecuteTime": {
     "end_time": "2022-09-14T00:59:18.889095Z",
     "start_time": "2022-09-14T00:59:18.723995Z"
    }
   },
   "outputs": [],
   "source": [
    "# create subgraph lists with mouse orthologs\n",
    "with open(DATADIR + \"outputs/subgraph_genes_conserved_mouse_ortho.txt\", 'w') as fp:\n",
    "    fp.write('\\n'.join(to_mouse_genes(data.loc[data.subgraph==\"Conserved\"].gene.values, mgi_df)))\n",
    "with open(DATADIR + \"outputs/subgraph_genes_rat_mouse_ortho.txt\", 'w') as fp:\n",
    "    fp.write('\\n'.join(to_mouse_genes(data.loc[data.subgraph==\"Rat-Specific\"].gene.values, mgi_df)))\n",
    "with open(DATADIR + \"outputs/subgraph_genes_human_mouse_ortho.txt\", 'w') as fp:\n",
    "    fp.write('\\n'.join(to_mouse_genes(data.loc[data.subgraph==\"Human-Specific\"].gene.values, mgi_df)))"
   ]
  },
  {
   "cell_type": "markdown",
   "metadata": {},
   "source": [
    "## <a id='toc4_2_'></a>[Import tissue enrichment results](#toc0_)"
   ]
  },
  {
   "cell_type": "code",
   "execution_count": 49,
   "metadata": {
    "ExecuteTime": {
     "end_time": "2022-09-14T00:59:18.945840Z",
     "start_time": "2022-09-14T00:59:18.889876Z"
    }
   },
   "outputs": [],
   "source": [
    "# read in the results of tissue enrichments in human tissue\n",
    "human_te_files = {\"C\":DATADIR+\"outputs/C_TSEA.txt\", \"R\":DATADIR+\"outputs/R_TSEA.txt\", \"H\":DATADIR+\"outputs/H_TSEA.txt\"}\n",
    "human_te = {}\n",
    "for subgraph in human_te_files:\n",
    "    tsea = pd.read_csv(human_te_files[subgraph], index_col=0, sep=\"\\t\")\n",
    "    tsea[subgraph+\"_FDR\"] = tsea[\"0.05\"].apply(lambda x: -1 * np.log10(float(x.split(\" \")[2])))\n",
    "    human_te[subgraph] = tsea.loc[:, (subgraph+\"_FDR\")]\n",
    "human_te = pd.DataFrame.from_dict(human_te)"
   ]
  },
  {
   "cell_type": "code",
   "execution_count": 50,
   "metadata": {
    "ExecuteTime": {
     "end_time": "2022-09-14T00:59:19.039471Z",
     "start_time": "2022-09-14T00:59:18.946644Z"
    }
   },
   "outputs": [],
   "source": [
    "# read in the results of tissue enrichments in mouse tissue\n",
    "mouse_te_files = {\"C\":DATADIR+\"outputs/C_TSEA_mouse_ENCODE.tsv\", \n",
    "                    \"R\":DATADIR+\"outputs/R_TSEA_mouse_ENCODE.tsv\", \n",
    "                    \"H\":DATADIR+\"outputs/H_TSEA_mouse_ENCODE.tsv\"}\n",
    "mouse_te = {}\n",
    "for subgraph in mouse_te_files:\n",
    "    tsea = pd.read_csv(mouse_te_files[subgraph], index_col=0, sep=\"\\t\")\n",
    "    tsea[subgraph+\"_FDR\"] = -1* np.log10(fdrcorrection(10**(-1* tsea[\"-Log10PValue\"]))[1])\n",
    "    mouse_te[subgraph] = tsea.loc[:, (subgraph+\"_FDR\")]\n",
    "mouse_te = pd.DataFrame.from_dict(mouse_te)"
   ]
  },
  {
   "cell_type": "markdown",
   "metadata": {},
   "source": [
    "## <a id='toc4_3_'></a>[Visualize tissue enrichment results](#toc0_)"
   ]
  },
  {
   "attachments": {},
   "cell_type": "markdown",
   "metadata": {},
   "source": [
    "### Figure 6C"
   ]
  },
  {
   "cell_type": "code",
   "execution_count": 60,
   "metadata": {
    "ExecuteTime": {
     "end_time": "2022-09-14T01:00:13.252497Z",
     "start_time": "2022-09-14T01:00:10.801041Z"
    }
   },
   "outputs": [
    {
     "data": {
      "image/png": "[encoded data removed]",
      "text/plain": [
       "<Figure size 720x216 with 1 Axes>"
      ]
     },
     "metadata": {
      "needs_background": "light"
     },
     "output_type": "display_data"
    }
   ],
   "source": [
    "human_te.columns = [\"Conserved\", \"Rat-Specific\", \"Human-Specific\"]\n",
    "human_te = human_te.sort_values(by=[\"Conserved\", \"Rat-Specific\"], ascending=False)\n",
    "fig, ax = plt.subplots(figsize=(10,3))\n",
    "human_te.plot.bar(ax=ax, width=0.8, color=[\"#f5793a\", \"#a95aa1\", \"#85c0f9\"], fontsize=12)\n",
    "ax.set_ylabel(\"Significance (-log$_{10}$q)\", fontsize=12)\n",
    "ax.set_xlabel(None)\n",
    "plt.hlines(-1 *np.log10(0.05),-0.5, 24.5, color=\"black\", linestyle=\"dashed\", linewidth=0.5)\n",
    "plt.legend(fontsize=12, frameon=False,handletextpad=0.3, labelspacing=0.2 )\n",
    "plt.tick_params(axis='x', pad=1, length=0)\n",
    "plt.tick_params(axis='y', pad=1, length=2)\n",
    "plt.yticks([0,2,4,6])\n",
    "plt.savefig(FIGDIR+\"6c_tissue_enrichment_human_GTEx.png\", bbox_inches=\"tight\", dpi=400)\n"
   ]
  },
  {
   "attachments": {},
   "cell_type": "markdown",
   "metadata": {},
   "source": [
    "### Figure 6D"
   ]
  },
  {
   "cell_type": "code",
   "execution_count": 59,
   "metadata": {
    "ExecuteTime": {
     "end_time": "2022-09-08T19:43:42.834838Z",
     "start_time": "2022-09-08T19:43:40.885419Z"
    }
   },
   "outputs": [
    {
     "data": {
      "image/png": "[encoded data removed]",
      "text/plain": [
       "<Figure size 720x216 with 1 Axes>"
      ]
     },
     "metadata": {
      "needs_background": "light"
     },
     "output_type": "display_data"
    }
   ],
   "source": [
    "mouse_te.columns = [\"Conserved\", \"Rat-Specific\", \"Human-Specific\"]\n",
    "mouse_te = mouse_te.sort_values(by=[\"Conserved\", \"Rat-Specific\", \"Human-Specific\"], ascending=False)\n",
    "fig, ax = plt.subplots(figsize=(10,3))\n",
    "mouse_te.plot.bar(ax=ax, width=0.8, color=[\"#f5793a\", \"#a95aa1\", \"#85c0f9\"], fontsize=12)\n",
    "ax.set_ylabel('Significance (-log$_{10}$q)', fontsize=12)\n",
    "ax.set_xlabel(None)\n",
    "plt.hlines(-1 *np.log10(0.05),-0.5, 24.5, color=\"black\", linestyle=\"dashed\", linewidth=0.5)\n",
    "plt.legend(fontsize=12, frameon=False,handletextpad=0.3, labelspacing=0.2 )\n",
    "plt.tick_params(axis='x', pad=1, length=0)\n",
    "plt.tick_params(axis='y', pad=1, length=2)\n",
    "plt.yticks([0,1,2,3,4,5])\n",
    "#plt.title(\"Enrichment of Tissue-Specific Genes from mouse ENCODE\")\n",
    "plt.savefig(FIGDIR+\"6d_tissue_enrichment_mouse_ENCODE.png\", bbox_inches=\"tight\", dpi=400)\n"
   ]
  },
  {
   "cell_type": "markdown",
   "metadata": {},
   "source": [
    "# <a id='toc5_'></a>[Hierarchical Community Detection of Species Specific Networks](#toc0_)"
   ]
  },
  {
   "attachments": {},
   "cell_type": "markdown",
   "metadata": {},
   "source": [
    "## <a id='toc5_1_'></a>[Define the expanded network](#toc0_)\n",
    "\n",
    "To create a unified network for analyzing conserved, rat-specific and human-specific genes we take all genes with $NPS_r > 1$ **or** $NPS_h$ > 1.5 - corresponding to the same-species thresholds used to define the rat-specific and human-specific networks. "
   ]
  },
  {
   "cell_type": "code",
   "execution_count": 63,
   "metadata": {
    "ExecuteTime": {
     "end_time": "2023-02-09T21:08:12.873153Z",
     "start_time": "2023-02-09T21:08:12.866708Z"
    }
   },
   "outputs": [],
   "source": [
    "if 'gene' in data.columns:\n",
    "    data = data.set_index('gene', drop=True)"
   ]
  },
  {
   "cell_type": "code",
   "execution_count": 67,
   "metadata": {
    "ExecuteTime": {
     "end_time": "2023-02-09T21:08:28.840898Z",
     "start_time": "2023-02-09T21:08:28.836264Z"
    }
   },
   "outputs": [],
   "source": [
    "# extract just the nodes meeting our criteria\n",
    "data[\"in_expanded\"] = data.apply(lambda x: (x.NPS_r > rat_th['rat']) or (x.NPS_h > human_th['human']), axis=1)\n",
    "G_all = G.subgraph(nodes=data.loc[data[\"in_expanded\"]].index)"
   ]
  },
  {
   "cell_type": "code",
   "execution_count": 68,
   "metadata": {
    "ExecuteTime": {
     "end_time": "2023-02-09T21:08:48.186490Z",
     "start_time": "2023-02-09T21:08:48.183475Z"
    }
   },
   "outputs": [
    {
     "name": "stdout",
     "output_type": "stream",
     "text": [
      "Number of genes in combined network: 6025\n"
     ]
    }
   ],
   "source": [
    "print(\"Number of genes in expanded network:\", len(G_all.nodes))"
   ]
  },
  {
   "attachments": {},
   "cell_type": "markdown",
   "metadata": {},
   "source": [
    "### Figure 6A"
   ]
  },
  {
   "cell_type": "code",
   "execution_count": 70,
   "metadata": {
    "ExecuteTime": {
     "end_time": "2022-09-08T19:44:08.830869Z",
     "start_time": "2022-09-08T19:44:07.930050Z"
    },
    "code_folding": [],
    "run_control": {
     "marked": true
    }
   },
   "outputs": [
    {
     "data": {
      "image/png": "[encoded data removed]",
      "text/plain": [
       "<Figure size 288x288 with 1 Axes>"
      ]
     },
     "metadata": {
      "needs_background": "light"
     },
     "output_type": "display_data"
    }
   ],
   "source": [
    "fig, ax = plt.subplots(nrows=1, ncols=1, figsize=(4,4))\n",
    "cmap = {\"Conserved\": \"#F5793A\",\"Rat-Specific\": \"#a95aa1\", \"Human-Specific\": \"#85c0f9\", \"PCNet\":\"grey\" }\n",
    "sns.scatterplot(data=data[((data.rat_seed+data.human_seed==0) & (data.in_expanded))], x=\"NPS_h\", y=\"NPS_r\", hue=\"subgraph\", palette=cmap, \n",
    "                s=3, ax=ax, markers=True, alpha=0.8, edgecolor='face')\n",
    "sns.scatterplot(data=data[((data.rat_seed+data.human_seed==0) & (~data.in_expanded))], x=\"NPS_h\", y=\"NPS_r\", color='silver',\n",
    "                s=3, ax=ax, markers=True, alpha=0.8, edgecolor='face')\n",
    "ax.set_xticks([ -2 ,0, 2, 4, 6])\n",
    "ax.set_yticks([ -2 ,0, 2, 4, 6])\n",
    "ax.tick_params(labelsize=7)\n",
    "plt.xlabel(\"$NPS_h$\", fontsize=7)\n",
    "plt.ylabel(\"$NPS_r$\", fontsize=7)\n",
    "ax.get_legend().remove()\n",
    "#plt.legend(ncol=1, handletextpad=0.05, labelspacing=0.1, borderpad=0.4, fontsize=7, frameon=False, markerscale=0.5,\n",
    "#          labels=[\"expanded Network\", \"Conserved\", \"Human-Specific\", \"Rat-Specific\"])\n",
    "ax.spines['top'].set_position(('data', 0.0))\n",
    "ax.spines['right'].set_position(('data', 0.0))\n",
    "plt.savefig(FIGDIR+\"6a_subnetworks_no_seeds.png\",  dpi=400, bbox_inches=\"tight\")\n"
   ]
  },
  {
   "cell_type": "markdown",
   "metadata": {},
   "source": [
    "## <a id='toc5_2_'></a>[Perform hierarchical community detection](#toc0_)"
   ]
  },
  {
   "cell_type": "code",
   "execution_count": 72,
   "metadata": {
    "ExecuteTime": {
     "end_time": "2023-02-09T21:11:50.768669Z",
     "start_time": "2023-02-09T21:11:39.617816Z"
    }
   },
   "outputs": [],
   "source": [
    "if rerun_analysis:\n",
    "    cd = cdapsutil.CommunityDetection()\n",
    "    G_all_cx = ndex2.create_nice_cx_from_networkx(G_all)\n",
    "    G_all_cx.set_name(\"Combined Rat-Human-Conserved BMI Network\")\n",
    "    G_all_hier = cd.run_community_detection(G_all_cx, algorithm='hidefv1.1beta',arguments={'--maxres':str(20)})\n",
    "    print('Hierarchy name: ' + str(G_all_hier.get_name()))\n",
    "    print('# nodes: ' + str(len(G_all_hier.get_nodes())))\n",
    "    print('# edges: ' + str(len(G_all_hier.get_edges())))\n",
    "    all_hier_nx = G_all_hier.to_networkx(mode='default')\n",
    "    nodes = all_hier_nx.nodes()\n",
    "# print out interactome num nodes and edges for diagnostic purposes\n",
    "    print('number of nodes:')\n",
    "    print(len(all_hier_nx.nodes()))\n",
    "    print('\\nnumber of edges:')\n",
    "    print(len(all_hier_nx.edges()))\n",
    "# add node attributes to dataframe for easier access\n",
    "    all_hier_df = pd.DataFrame.from_dict(dict(all_hier_nx.nodes(data=True)), orient='index')\n",
    "    all_hier_df['system_ID']=all_hier_df.index.tolist()\n",
    "# fix column types\n",
    "    all_hier_df['CD_MemberList_Size']=[int(x) for x in all_hier_df['CD_MemberList_Size'].tolist()]\n",
    "    all_hier_df['HiDeF_persistence']=[int(x) for x in all_hier_df['HiDeF_persistence'].tolist()]\n",
    "    all_hier_df.set_index(\"name\", inplace=True, drop=True)\n",
    "    all_hier_df.index.name=None\n",
    "    all_hier_df.to_csv(DATADIR + \"outputs/RERUN_species_expand_hierarchy_data.tsv\", sep=\"\\t\", index=True)\n",
    "else:\n",
    "    # load the hierarchy data\n",
    "    all_hier_df = pd.read_csv(DATADIR + \"outputs/species_expanded_hierarchy_data.tsv\", sep=\"\\t\", index_col=0)"
   ]
  },
  {
   "cell_type": "markdown",
   "metadata": {},
   "source": [
    "## <a id='toc5_3_'></a>[Annotate the hiearchy with GO terms](#toc0_)"
   ]
  },
  {
   "cell_type": "code",
   "execution_count": 74,
   "metadata": {
    "ExecuteTime": {
     "end_time": "2023-02-09T20:17:10.367164Z",
     "start_time": "2023-02-09T20:17:10.363698Z"
    }
   },
   "outputs": [],
   "source": [
    "\n",
    "def filter_go_annotations(go_df, term_min=50, term_max=1000, p_th=1e-4, min_intersection=3):\n",
    "    go_df = go_df[(go_df['term_size'] <= term_max) & (go_df['term_size'] >= term_min)]\n",
    "    go_df = go_df[go_df['intersection_size'] >= min_intersection]\n",
    "    go_df = go_df[go_df['p_value'] < p_th] # set a stringent pvalue threshold\n",
    "    go_df['sum_PR'] = go_df['recall'] + go_df['precision']\n",
    "    go_df = go_df.sort_values('sum_PR',ascending=False)\n",
    "    return go_df"
   ]
  },
  {
   "cell_type": "code",
   "execution_count": 75,
   "metadata": {
    "ExecuteTime": {
     "end_time": "2023-02-09T21:15:13.179719Z",
     "start_time": "2023-02-09T21:12:24.484392Z"
    }
   },
   "outputs": [],
   "source": [
    "# Annotate with GO terms\n",
    "# gprofiler annotation of clusters\n",
    "if rerun_analysis:\n",
    "    system_names = {}\n",
    "    all_results = []\n",
    "    for comm in tqdm(all_hier_df.index.tolist()):\n",
    "        if isinstance(all_hier_df['CD_MemberList'].loc[comm], str):\n",
    "            focal_genes=all_hier_df['CD_MemberList'].loc[comm].split(' ')\n",
    "        else:\n",
    "            focal_genes=all_hier_df['CD_MemberList'].loc[comm]\n",
    "        print(comm,\":\", len(focal_genes))\n",
    "        system_names[comm] = comm # default is to keep identifier as name, will be replaced if confident annotation available\n",
    "        if len(focal_genes)>2:\n",
    "            # sometimes we get server errors, can usually be resolved by just retrying the submission\n",
    "            retry=True\n",
    "            attempts=1\n",
    "            while retry and attempts < 10:\n",
    "                try:\n",
    "                    gp_temp = pd.DataFrame(gp.profile(focal_genes,significance_threshold_method='fdr',\n",
    "                                            sources=['GO:BP'], no_evidences=False))\n",
    "                    retry=False\n",
    "                    if len(gp_temp)>0: # make sure data is not empty\n",
    "                        gp_temp[\"community\"] = comm\n",
    "                        all_results.append(gp_temp)\n",
    "                        gp_temp = filter_go_annotations(gp_temp, 50, 1000, 1e-3, 3)\n",
    "                        if len(gp_temp)>1:\n",
    "                            system_names[comm] = gp_temp.head(1)['name'].tolist()[0]\n",
    "                    #all_results.append(gp_temp)\n",
    "                except AssertionError:\n",
    "                    attempts += 1\n",
    "                    print(\"Server error. Retrying....\")\n",
    "    go_results = pd.concat(all_results)\n",
    "    go_results.to_csv(DATADIR+\"outputs/rerun_species_expand_hierarchy_GO_enrichment.tsv\", index=True, sep=\"\\t\")\n",
    "            \n",
    "else:\n",
    "    go_results = pd.read_csv(DATADIR+ \"outputs/species_expanded_hierarchy_GO_enrichment.tsv\", index_col=None, sep=\"\\t\")\n",
    "    go_results = filter_go_annotations(go_results, 50, 1000, 1e-3, 3)\n",
    "    system_names = {}\n",
    "    for comm in all_hier_df.index.tolist():\n",
    "        if comm in go_results['community'].tolist():\n",
    "            system_names[comm] = go_results[go_results['community']==comm]['name'].tolist()[0]\n",
    "        else:\n",
    "            system_names[comm] = comm"
   ]
  },
  {
   "cell_type": "code",
   "execution_count": 386,
   "metadata": {
    "ExecuteTime": {
     "end_time": "2023-02-09T21:16:50.440350Z",
     "start_time": "2023-02-09T21:16:50.434283Z"
    }
   },
   "outputs": [],
   "source": [
    "# Save the system annotations\n",
    "pd.DataFrame.from_dict(system_names, orient=\"index\").to_csv(DATADIR + \"outputs/rerun_species_expanded_hierarchy_system_names.tsv\", sep=\"\\t\")"
   ]
  },
  {
   "cell_type": "markdown",
   "metadata": {},
   "source": [
    "## <a id='toc5_4_'></a>[Annotate the global systems map](#toc0_)"
   ]
  },
  {
   "cell_type": "code",
   "execution_count": null,
   "metadata": {
    "ExecuteTime": {
     "end_time": "2023-02-09T21:16:57.224724Z",
     "start_time": "2023-02-09T21:16:57.221635Z"
    }
   },
   "outputs": [],
   "source": [
    "# split the gene list into a list object\n",
    "all_hier_df[\"CD_MemberList\"] = all_hier_df.CD_MemberList.apply(lambda x: x.split(\" \"))"
   ]
  },
  {
   "cell_type": "code",
   "execution_count": 79,
   "metadata": {
    "ExecuteTime": {
     "end_time": "2023-02-09T21:17:04.004244Z",
     "start_time": "2023-02-09T21:17:03.995840Z"
    }
   },
   "outputs": [],
   "source": [
    "conserved_net_genes = data.loc[(data.subgraph == \"Conserved\") & (data.rat_seed + data.human_seed + data.overlapping_seeds == 0)].index.values\n",
    "rat_net_genes = data.loc[(data.subgraph == \"Rat-Specific\") & (data.rat_seed + data.human_seed + data.overlapping_seeds == 0)].index.values\n",
    "human_net_genes = data.loc[(data.subgraph == \"Human-Specific\") & (data.rat_seed + data.human_seed + data.overlapping_seeds == 0)].index.values"
   ]
  },
  {
   "cell_type": "code",
   "execution_count": 80,
   "metadata": {
    "ExecuteTime": {
     "end_time": "2023-02-09T21:17:11.552623Z",
     "start_time": "2023-02-09T21:17:10.645868Z"
    }
   },
   "outputs": [],
   "source": [
    "# Fraction of genes from each subnetwork\n",
    "all_hier_df[\"frac_conserved\"] = all_hier_df.CD_MemberList.apply(lambda x: len(data.loc[(data.index.isin(x)) & (data.subgraph==\"Conserved\")].index.values)/len(x))\n",
    "all_hier_df[\"frac_rat\"] = all_hier_df.CD_MemberList.apply(lambda x: len(data.loc[(data.index.isin(x)) & (data.subgraph==\"Rat-Specific\")].index.values)/len(x))\n",
    "all_hier_df[\"frac_human\"] = all_hier_df.CD_MemberList.apply(lambda x: len(data.loc[(data.index.isin(x)) & (data.subgraph==\"Human-Specific\")].index.values)/len(x))"
   ]
  },
  {
   "cell_type": "code",
   "execution_count": 85,
   "metadata": {
    "ExecuteTime": {
     "end_time": "2023-02-09T21:17:18.275971Z",
     "start_time": "2023-02-09T21:17:18.273048Z"
    }
   },
   "outputs": [],
   "source": [
    "hier_fractions = all_hier_df.loc[:,(\"CD_MemberList\", \"CD_MemberList_Size\", \"frac_conserved\", \"frac_rat\", \"frac_human\")]"
   ]
  },
  {
   "cell_type": "code",
   "execution_count": 86,
   "metadata": {
    "ExecuteTime": {
     "end_time": "2023-02-09T21:17:25.986500Z",
     "start_time": "2023-02-09T21:17:24.804501Z"
    }
   },
   "outputs": [],
   "source": [
    "hier_fractions[\"h_seed\"] = hier_fractions.CD_MemberList.apply(lambda x: len(data.loc[(data.index.isin(x)) & (data.human_seed==1) & (data.overlapping_seeds==0)]))\n",
    "hier_fractions[\"hr_seed\"] = hier_fractions.CD_MemberList.apply(lambda x: len(data.loc[(data.index.isin(x)) & (data.overlapping_seeds==1)]))\n",
    "hier_fractions[\"r_seed\"] = hier_fractions.CD_MemberList.apply(lambda x: len(data.loc[(data.index.isin(x)) & (data.rat_seed==1) & (data.overlapping_seeds==0)]))\n",
    "hier_fractions[\"h_net\"] = hier_fractions.CD_MemberList.apply(lambda x: len(data.loc[(data.index.isin(x)) & (data.index.isin(human_net_genes))]))\n",
    "hier_fractions[\"c_net\"] = hier_fractions.CD_MemberList.apply(lambda x: len(data.loc[(data.index.isin(x)) & (data.index.isin(conserved_net_genes))]))\n",
    "hier_fractions[\"r_net\"] = hier_fractions.CD_MemberList.apply(lambda x: len(data.loc[(data.index.isin(x)) & (data.index.isin(rat_net_genes))]))"
   ]
  },
  {
   "cell_type": "code",
   "execution_count": 87,
   "metadata": {},
   "outputs": [
    {
     "data": {
      "text/html": [
       "<div>\n",
       "<style scoped>\n",
       "    .dataframe tbody tr th:only-of-type {\n",
       "        vertical-align: middle;\n",
       "    }\n",
       "\n",
       "    .dataframe tbody tr th {\n",
       "        vertical-align: top;\n",
       "    }\n",
       "\n",
       "    .dataframe thead th {\n",
       "        text-align: right;\n",
       "    }\n",
       "</style>\n",
       "<table border=\"1\" class=\"dataframe\">\n",
       "  <thead>\n",
       "    <tr style=\"text-align: right;\">\n",
       "      <th></th>\n",
       "      <th>CD_MemberList</th>\n",
       "      <th>CD_MemberList_Size</th>\n",
       "      <th>frac_conserved</th>\n",
       "      <th>frac_rat</th>\n",
       "      <th>frac_human</th>\n",
       "      <th>h_seed</th>\n",
       "      <th>hr_seed</th>\n",
       "      <th>r_seed</th>\n",
       "      <th>h_net</th>\n",
       "      <th>c_net</th>\n",
       "      <th>r_net</th>\n",
       "    </tr>\n",
       "  </thead>\n",
       "  <tbody>\n",
       "    <tr>\n",
       "      <th>C6025</th>\n",
       "      <td>[RP9P, PCDHGA12, MLXIP, CHPF, GRB10, FCHSD1, Z...</td>\n",
       "      <td>6022</td>\n",
       "      <td>0.109100</td>\n",
       "      <td>0.114248</td>\n",
       "      <td>0.153437</td>\n",
       "      <td>1338</td>\n",
       "      <td>29</td>\n",
       "      <td>266</td>\n",
       "      <td>357</td>\n",
       "      <td>336</td>\n",
       "      <td>537</td>\n",
       "    </tr>\n",
       "    <tr>\n",
       "      <th>C6026</th>\n",
       "      <td>[HOXB9, PKIA, PCDHGA12, P2RX6, CNTN5, BARHL2, ...</td>\n",
       "      <td>2493</td>\n",
       "      <td>0.120337</td>\n",
       "      <td>0.130766</td>\n",
       "      <td>0.145608</td>\n",
       "      <td>520</td>\n",
       "      <td>15</td>\n",
       "      <td>114</td>\n",
       "      <td>128</td>\n",
       "      <td>166</td>\n",
       "      <td>254</td>\n",
       "    </tr>\n",
       "    <tr>\n",
       "      <th>C6028</th>\n",
       "      <td>[RAB7B, FBXO25, RP9P, IGF2R, TCAF1, ZFP62, KDM...</td>\n",
       "      <td>1188</td>\n",
       "      <td>0.111111</td>\n",
       "      <td>0.122896</td>\n",
       "      <td>0.115320</td>\n",
       "      <td>251</td>\n",
       "      <td>8</td>\n",
       "      <td>59</td>\n",
       "      <td>47</td>\n",
       "      <td>62</td>\n",
       "      <td>113</td>\n",
       "    </tr>\n",
       "    <tr>\n",
       "      <th>C6029</th>\n",
       "      <td>[CKAP5, DTD1, SLC3A2, TRAIP, POLR2C, CLN3, CPO...</td>\n",
       "      <td>1144</td>\n",
       "      <td>0.098776</td>\n",
       "      <td>0.100524</td>\n",
       "      <td>0.192308</td>\n",
       "      <td>293</td>\n",
       "      <td>2</td>\n",
       "      <td>51</td>\n",
       "      <td>84</td>\n",
       "      <td>47</td>\n",
       "      <td>90</td>\n",
       "    </tr>\n",
       "    <tr>\n",
       "      <th>C6041</th>\n",
       "      <td>[SGK3, PRKX, MAP2K6, STK36, DAPK2, STK33, HIPK...</td>\n",
       "      <td>87</td>\n",
       "      <td>0.126437</td>\n",
       "      <td>0.000000</td>\n",
       "      <td>0.114943</td>\n",
       "      <td>17</td>\n",
       "      <td>1</td>\n",
       "      <td>2</td>\n",
       "      <td>5</td>\n",
       "      <td>5</td>\n",
       "      <td>0</td>\n",
       "    </tr>\n",
       "  </tbody>\n",
       "</table>\n",
       "</div>"
      ],
      "text/plain": [
       "                                           CD_MemberList  CD_MemberList_Size  \\\n",
       "C6025  [RP9P, PCDHGA12, MLXIP, CHPF, GRB10, FCHSD1, Z...                6022   \n",
       "C6026  [HOXB9, PKIA, PCDHGA12, P2RX6, CNTN5, BARHL2, ...                2493   \n",
       "C6028  [RAB7B, FBXO25, RP9P, IGF2R, TCAF1, ZFP62, KDM...                1188   \n",
       "C6029  [CKAP5, DTD1, SLC3A2, TRAIP, POLR2C, CLN3, CPO...                1144   \n",
       "C6041  [SGK3, PRKX, MAP2K6, STK36, DAPK2, STK33, HIPK...                  87   \n",
       "\n",
       "       frac_conserved  frac_rat  frac_human  h_seed  hr_seed  r_seed  h_net  \\\n",
       "C6025        0.109100  0.114248    0.153437    1338       29     266    357   \n",
       "C6026        0.120337  0.130766    0.145608     520       15     114    128   \n",
       "C6028        0.111111  0.122896    0.115320     251        8      59     47   \n",
       "C6029        0.098776  0.100524    0.192308     293        2      51     84   \n",
       "C6041        0.126437  0.000000    0.114943      17        1       2      5   \n",
       "\n",
       "       c_net  r_net  \n",
       "C6025    336    537  \n",
       "C6026    166    254  \n",
       "C6028     62    113  \n",
       "C6029     47     90  \n",
       "C6041      5      0  "
      ]
     },
     "execution_count": 87,
     "metadata": {},
     "output_type": "execute_result"
    }
   ],
   "source": [
    "hier_fractions.head()"
   ]
  },
  {
   "cell_type": "code",
   "execution_count": 89,
   "metadata": {
    "ExecuteTime": {
     "end_time": "2023-02-09T21:17:32.713521Z",
     "start_time": "2023-02-09T21:17:32.706113Z"
    }
   },
   "outputs": [],
   "source": [
    "hier_fractions.to_csv(DATADIR+\"outputs/rerun_species_subnetwork_expanded_hierarchy_fractions.tsv\", sep=\"\\t\")"
   ]
  },
  {
   "attachments": {},
   "cell_type": "markdown",
   "metadata": {},
   "source": [
    "# Identify species-specific communities"
   ]
  },
  {
   "cell_type": "code",
   "execution_count": 90,
   "metadata": {
    "ExecuteTime": {
     "end_time": "2023-02-09T21:17:39.500982Z",
     "start_time": "2023-02-09T21:17:39.431641Z"
    }
   },
   "outputs": [],
   "source": [
    "# significance of the number of genes from each subnetwork\n",
    "M = 6025\n",
    "all_hier_df[\"p_rat\"] = all_hier_df.apply(lambda x: hypergeom.sf(M=6025, n=688, N=x.CD_MemberList_Size, \n",
    "                                                                k=int(x.frac_rat*x.CD_MemberList_Size)), axis=1)\n",
    "all_hier_df[\"p_human\"] = all_hier_df.apply(lambda x: hypergeom.sf(M=6025, n=925, N=x.CD_MemberList_Size, \n",
    "                                                                k=int(x.frac_human*x.CD_MemberList_Size)), axis=1)\n",
    "all_hier_df[\"p_conserved\"] = all_hier_df.apply(lambda x: hypergeom.sf(M=6025, n=657, N=x.CD_MemberList_Size, \n",
    "                                                                k=int(x.frac_conserved*x.CD_MemberList_Size)), axis=1)"
   ]
  },
  {
   "cell_type": "code",
   "execution_count": 91,
   "metadata": {
    "ExecuteTime": {
     "end_time": "2023-02-09T21:17:46.254626Z",
     "start_time": "2023-02-09T21:17:46.250721Z"
    }
   },
   "outputs": [],
   "source": [
    "# perform multiple hypothesis correction for each test\n",
    "all_hier_df[\"q_rat\"] = fdrcorrection(all_hier_df[\"p_rat\"])[1]\n",
    "all_hier_df[\"q_human\"] = fdrcorrection(all_hier_df[\"p_human\"])[1]\n",
    "all_hier_df[\"q_conserved\"] = fdrcorrection(all_hier_df[\"p_conserved\"])[1]"
   ]
  },
  {
   "cell_type": "code",
   "execution_count": 92,
   "metadata": {
    "ExecuteTime": {
     "end_time": "2023-02-09T21:17:53.012387Z",
     "start_time": "2023-02-09T21:17:53.005409Z"
    }
   },
   "outputs": [],
   "source": [
    "# identify the significantly over-represented communities\n",
    "all_hier_df[\"sig_rat\"] = 1 * (all_hier_df[\"q_rat\"] < 0.05)\n",
    "all_hier_df[\"sig_human\"] = 1 * (all_hier_df[\"q_human\"] < 0.05)\n",
    "all_hier_df[\"sig_conserved\"] = 1 * (all_hier_df[\"q_conserved\"] < 0.05)\n",
    "all_hier_df[\"sig_network\"] = \"\"\n",
    "all_hier_df.loc[all_hier_df[\"sig_rat\"] == 1, \"sig_network\"] += \"rat\"\n",
    "all_hier_df.loc[all_hier_df[\"sig_human\"] == 1, \"sig_network\"] += \"human\"\n",
    "all_hier_df.loc[all_hier_df[\"sig_conserved\"] == 1, \"sig_network\"] += \"conserved\""
   ]
  },
  {
   "attachments": {},
   "cell_type": "markdown",
   "metadata": {},
   "source": [
    "### Human-Specific Communities"
   ]
  },
  {
   "cell_type": "code",
   "execution_count": 110,
   "metadata": {},
   "outputs": [
    {
     "name": "stdout",
     "output_type": "stream",
     "text": [
      "Human-Specific Communities:\n",
      "C6029 : cytoplasmic translation\n",
      "C6081 : C6081\n",
      "C6051 : carbohydrate derivative biosynthetic process\n",
      "C6052 : chromatin organization\n",
      "C6034 : cellular response to DNA damage stimulus\n"
     ]
    }
   ],
   "source": [
    "print(\"Human-Specific Communities:\")\n",
    "print(\"\\n\".join([x+\" : \" +system_names[x] for x in all_hier_df[all_hier_df.sig_network == \"human\"].index]))"
   ]
  },
  {
   "attachments": {},
   "cell_type": "markdown",
   "metadata": {},
   "source": [
    "### Rat-Specific Communities"
   ]
  },
  {
   "cell_type": "code",
   "execution_count": 109,
   "metadata": {},
   "outputs": [
    {
     "name": "stdout",
     "output_type": "stream",
     "text": [
      "\n",
      "Rat-Specific Communities:\n",
      "C6025 : proteoglycan biosynthetic process\n",
      "C6026 : proteoglycan biosynthetic process\n",
      "C6045 : glycerolipid metabolic process\n",
      "C6076 : vesicle-mediated transport to the plasma membrane\n",
      "C6087 : C6087\n",
      "C6090 : peptide metabolic process\n",
      "C6092 : C6092\n",
      "C6104 : C6104\n",
      "C6088 : odontogenesis of dentin-containing tooth\n",
      "C6061 : cytokine-mediated signaling pathway\n",
      "C6033 : regulation of locomotion\n",
      "C6036 : sexual reproduction\n",
      "C6102 : C6102\n",
      "C6039 : leukocyte activation\n",
      "C6080 : water homeostasis\n",
      "C6037 : adenylate cyclase-modulating G protein-coupled receptor signaling pathway\n",
      "C6099 : C6099\n",
      "C6038 : regulation of locomotion\n",
      "C6096 : detection of chemical stimulus involved in sensory perception of smell\n"
     ]
    }
   ],
   "source": [
    "\n",
    "print(\"\\nRat-Specific Communities:\")\n",
    "print(\"\\n\".join([x+\" : \" +system_names[x] for x in all_hier_df[all_hier_df.sig_network.isin([\"rat\", \"ratconserved\"])].index]))"
   ]
  },
  {
   "attachments": {},
   "cell_type": "markdown",
   "metadata": {},
   "source": [
    "### Conserved Communities"
   ]
  },
  {
   "cell_type": "code",
   "execution_count": 108,
   "metadata": {},
   "outputs": [
    {
     "name": "stdout",
     "output_type": "stream",
     "text": [
      "\n",
      "Conserved Communities:\n",
      "C6025 : proteoglycan biosynthetic process\n",
      "C6055 : membrane fusion\n",
      "C6035 : proteoglycan biosynthetic process\n",
      "C6037 : adenylate cyclase-modulating G protein-coupled receptor signaling pathway\n",
      "C6056 : C6056\n",
      "C6073 : demethylation\n",
      "C6040 : proteoglycan biosynthetic process\n"
     ]
    }
   ],
   "source": [
    "print(\"\\nConserved Communities:\")\n",
    "print(\"\\n\".join([x+\" : \" +system_names[x] for x in all_hier_df[all_hier_df.sig_network.isin([\"conserved\", \"ratconserved\"])].index]))"
   ]
  },
  {
   "cell_type": "code",
   "execution_count": 62,
   "metadata": {
    "ExecuteTime": {
     "end_time": "2022-09-08T19:44:10.722974Z",
     "start_time": "2022-09-08T19:44:10.704908Z"
    }
   },
   "outputs": [],
   "source": [
    "# save the table of hierarchy data\n",
    "if rerun_analysis:\n",
    "    all_hier_df.to_csv(DATADIR + \"outputs/rerun_species_expanded_hierarchy_data.tsv\", sep=\"\\t\")"
   ]
  },
  {
   "cell_type": "markdown",
   "metadata": {},
   "source": [
    "## <a id='toc5_6_'></a>[Visualize over-represented communities](#toc0_)"
   ]
  },
  {
   "cell_type": "code",
   "execution_count": 112,
   "metadata": {
    "ExecuteTime": {
     "end_time": "2023-02-09T20:29:53.149992Z",
     "start_time": "2023-02-09T20:29:37.180131Z"
    }
   },
   "outputs": [
    {
     "name": "stderr",
     "output_type": "stream",
     "text": [
      "/cellar/users/snwright/anaconda3/envs/rat_pub/lib/python3.9/site-packages/pandas/core/internals/blocks.py:402: RuntimeWarning: divide by zero encountered in log10\n",
      "  result = func(self.values, **kwargs)\n"
     ]
    },
    {
     "data": {
      "image/png": "[encoded data removed]",
      "text/plain": [
       "<Figure size 1440x288 with 1 Axes>"
      ]
     },
     "metadata": {
      "needs_background": "light"
     },
     "output_type": "display_data"
    }
   ],
   "source": [
    "fig, ax = plt.subplots(nrows=1, ncols=1, figsize=(20, 4))\n",
    "plot_data = all_hier_df.sort_values(by=[\"q_conserved\", \"q_rat\", \"q_human\"]).loc[:, (\"q_conserved\", \"q_rat\", \"q_human\")]\n",
    "(-1 * np.log10(plot_data)).plot.bar(ax=ax, width=0.8, color=[\"#f5793a\", \"#a95aa1\", \"#85c0f9\"])\n",
    "plt.xlabel(\"Community\", fontsize=16)\n",
    "_ = plt.ylabel(\"Significance (-log$_{10}(q)$)\", fontsize=16)\n",
    "_ = plt.title(\"Results of hypergeometric test for number of subnetwork genes in each community\")"
   ]
  },
  {
   "cell_type": "markdown",
   "metadata": {},
   "source": [
    "## <a id='toc5_7_'></a>[ADDED MGD Enrichment](#toc0_)"
   ]
  },
  {
   "cell_type": "code",
   "execution_count": 123,
   "metadata": {
    "ExecuteTime": {
     "end_time": "2023-02-05T01:51:53.269415Z",
     "start_time": "2023-02-05T01:51:53.253933Z"
    }
   },
   "outputs": [
    {
     "data": {
      "text/html": [
       "<div>\n",
       "<style scoped>\n",
       "    .dataframe tbody tr th:only-of-type {\n",
       "        vertical-align: middle;\n",
       "    }\n",
       "\n",
       "    .dataframe tbody tr th {\n",
       "        vertical-align: top;\n",
       "    }\n",
       "\n",
       "    .dataframe thead th {\n",
       "        text-align: right;\n",
       "    }\n",
       "</style>\n",
       "<table border=\"1\" class=\"dataframe\">\n",
       "  <thead>\n",
       "    <tr style=\"text-align: right;\">\n",
       "      <th></th>\n",
       "      <th>CD_MemberList</th>\n",
       "      <th>CD_MemberList_Size</th>\n",
       "      <th>CD_Labeled</th>\n",
       "      <th>CD_MemberList_LogSize</th>\n",
       "      <th>CD_CommunityName</th>\n",
       "      <th>CD_AnnotatedMembers</th>\n",
       "      <th>CD_AnnotatedMembers_Size</th>\n",
       "      <th>CD_AnnotatedMembers_Overlap</th>\n",
       "      <th>CD_AnnotatedMembers_Pvalue</th>\n",
       "      <th>HiDeF_persistence</th>\n",
       "      <th>...</th>\n",
       "      <th>p_rat</th>\n",
       "      <th>p_human</th>\n",
       "      <th>p_conserved</th>\n",
       "      <th>q_rat</th>\n",
       "      <th>q_human</th>\n",
       "      <th>q_conserved</th>\n",
       "      <th>sig_rat</th>\n",
       "      <th>sig_human</th>\n",
       "      <th>sig_conserved</th>\n",
       "      <th>sig_network</th>\n",
       "    </tr>\n",
       "  </thead>\n",
       "  <tbody>\n",
       "    <tr>\n",
       "      <th>C6025</th>\n",
       "      <td>[RP9P, PCDHGA12, MLXIP, CHPF, GRB10, FCHSD1, Z...</td>\n",
       "      <td>6022</td>\n",
       "      <td>False</td>\n",
       "      <td>12.556</td>\n",
       "      <td>NaN</td>\n",
       "      <td>NaN</td>\n",
       "      <td>0</td>\n",
       "      <td>0.0</td>\n",
       "      <td>0.0</td>\n",
       "      <td>113</td>\n",
       "      <td>...</td>\n",
       "      <td>0.000000</td>\n",
       "      <td>0.606457</td>\n",
       "      <td>0.000000</td>\n",
       "      <td>0.000000</td>\n",
       "      <td>0.999983</td>\n",
       "      <td>0.000000</td>\n",
       "      <td>1</td>\n",
       "      <td>0</td>\n",
       "      <td>1</td>\n",
       "      <td>ratconserved</td>\n",
       "    </tr>\n",
       "    <tr>\n",
       "      <th>C6026</th>\n",
       "      <td>[HOXB9, PKIA, PCDHGA12, P2RX6, CNTN5, BARHL2, ...</td>\n",
       "      <td>2493</td>\n",
       "      <td>False</td>\n",
       "      <td>11.284</td>\n",
       "      <td>NaN</td>\n",
       "      <td>NaN</td>\n",
       "      <td>0</td>\n",
       "      <td>0.0</td>\n",
       "      <td>0.0</td>\n",
       "      <td>19</td>\n",
       "      <td>...</td>\n",
       "      <td>0.000309</td>\n",
       "      <td>0.918908</td>\n",
       "      <td>0.008275</td>\n",
       "      <td>0.001786</td>\n",
       "      <td>0.999983</td>\n",
       "      <td>0.083789</td>\n",
       "      <td>1</td>\n",
       "      <td>0</td>\n",
       "      <td>0</td>\n",
       "      <td>rat</td>\n",
       "    </tr>\n",
       "    <tr>\n",
       "      <th>C6028</th>\n",
       "      <td>[RAB7B, FBXO25, RP9P, IGF2R, TCAF1, ZFP62, KDM...</td>\n",
       "      <td>1188</td>\n",
       "      <td>False</td>\n",
       "      <td>10.214</td>\n",
       "      <td>NaN</td>\n",
       "      <td>NaN</td>\n",
       "      <td>0</td>\n",
       "      <td>0.0</td>\n",
       "      <td>0.0</td>\n",
       "      <td>5</td>\n",
       "      <td>...</td>\n",
       "      <td>0.135187</td>\n",
       "      <td>0.999983</td>\n",
       "      <td>0.376671</td>\n",
       "      <td>0.377591</td>\n",
       "      <td>0.999983</td>\n",
       "      <td>0.736591</td>\n",
       "      <td>0</td>\n",
       "      <td>0</td>\n",
       "      <td>0</td>\n",
       "      <td>NaN</td>\n",
       "    </tr>\n",
       "    <tr>\n",
       "      <th>C6029</th>\n",
       "      <td>[CKAP5, DTD1, SLC3A2, TRAIP, POLR2C, CLN3, CPO...</td>\n",
       "      <td>1144</td>\n",
       "      <td>False</td>\n",
       "      <td>10.160</td>\n",
       "      <td>NaN</td>\n",
       "      <td>NaN</td>\n",
       "      <td>0</td>\n",
       "      <td>0.0</td>\n",
       "      <td>0.0</td>\n",
       "      <td>14</td>\n",
       "      <td>...</td>\n",
       "      <td>0.942474</td>\n",
       "      <td>0.000032</td>\n",
       "      <td>0.882806</td>\n",
       "      <td>0.999976</td>\n",
       "      <td>0.002223</td>\n",
       "      <td>0.935703</td>\n",
       "      <td>0</td>\n",
       "      <td>1</td>\n",
       "      <td>0</td>\n",
       "      <td>human</td>\n",
       "    </tr>\n",
       "    <tr>\n",
       "      <th>C6041</th>\n",
       "      <td>[SGK3, PRKX, MAP2K6, STK36, DAPK2, STK33, HIPK...</td>\n",
       "      <td>87</td>\n",
       "      <td>False</td>\n",
       "      <td>6.443</td>\n",
       "      <td>NaN</td>\n",
       "      <td>NaN</td>\n",
       "      <td>0</td>\n",
       "      <td>0.0</td>\n",
       "      <td>0.0</td>\n",
       "      <td>44</td>\n",
       "      <td>...</td>\n",
       "      <td>0.999976</td>\n",
       "      <td>0.801528</td>\n",
       "      <td>0.235666</td>\n",
       "      <td>0.999976</td>\n",
       "      <td>0.999983</td>\n",
       "      <td>0.736591</td>\n",
       "      <td>0</td>\n",
       "      <td>0</td>\n",
       "      <td>0</td>\n",
       "      <td>NaN</td>\n",
       "    </tr>\n",
       "  </tbody>\n",
       "</table>\n",
       "<p>5 rows × 28 columns</p>\n",
       "</div>"
      ],
      "text/plain": [
       "                                           CD_MemberList  CD_MemberList_Size  \\\n",
       "C6025  [RP9P, PCDHGA12, MLXIP, CHPF, GRB10, FCHSD1, Z...                6022   \n",
       "C6026  [HOXB9, PKIA, PCDHGA12, P2RX6, CNTN5, BARHL2, ...                2493   \n",
       "C6028  [RAB7B, FBXO25, RP9P, IGF2R, TCAF1, ZFP62, KDM...                1188   \n",
       "C6029  [CKAP5, DTD1, SLC3A2, TRAIP, POLR2C, CLN3, CPO...                1144   \n",
       "C6041  [SGK3, PRKX, MAP2K6, STK36, DAPK2, STK33, HIPK...                  87   \n",
       "\n",
       "       CD_Labeled  CD_MemberList_LogSize  CD_CommunityName  \\\n",
       "C6025       False                 12.556               NaN   \n",
       "C6026       False                 11.284               NaN   \n",
       "C6028       False                 10.214               NaN   \n",
       "C6029       False                 10.160               NaN   \n",
       "C6041       False                  6.443               NaN   \n",
       "\n",
       "       CD_AnnotatedMembers  CD_AnnotatedMembers_Size  \\\n",
       "C6025                  NaN                         0   \n",
       "C6026                  NaN                         0   \n",
       "C6028                  NaN                         0   \n",
       "C6029                  NaN                         0   \n",
       "C6041                  NaN                         0   \n",
       "\n",
       "       CD_AnnotatedMembers_Overlap  CD_AnnotatedMembers_Pvalue  \\\n",
       "C6025                          0.0                         0.0   \n",
       "C6026                          0.0                         0.0   \n",
       "C6028                          0.0                         0.0   \n",
       "C6029                          0.0                         0.0   \n",
       "C6041                          0.0                         0.0   \n",
       "\n",
       "       HiDeF_persistence  ...     p_rat   p_human  p_conserved     q_rat  \\\n",
       "C6025                113  ...  0.000000  0.606457     0.000000  0.000000   \n",
       "C6026                 19  ...  0.000309  0.918908     0.008275  0.001786   \n",
       "C6028                  5  ...  0.135187  0.999983     0.376671  0.377591   \n",
       "C6029                 14  ...  0.942474  0.000032     0.882806  0.999976   \n",
       "C6041                 44  ...  0.999976  0.801528     0.235666  0.999976   \n",
       "\n",
       "        q_human  q_conserved  sig_rat  sig_human  sig_conserved   sig_network  \n",
       "C6025  0.999983     0.000000        1          0              1  ratconserved  \n",
       "C6026  0.999983     0.083789        1          0              0           rat  \n",
       "C6028  0.999983     0.736591        0          0              0           NaN  \n",
       "C6029  0.002223     0.935703        0          1              0         human  \n",
       "C6041  0.999983     0.736591        0          0              0           NaN  \n",
       "\n",
       "[5 rows x 28 columns]"
      ]
     },
     "execution_count": 123,
     "metadata": {},
     "output_type": "execute_result"
    }
   ],
   "source": [
    "all_hier_df.head()"
   ]
  },
  {
   "cell_type": "code",
   "execution_count": 125,
   "metadata": {
    "ExecuteTime": {
     "end_time": "2023-02-05T02:00:45.750770Z",
     "start_time": "2023-02-05T02:00:43.039020Z"
    }
   },
   "outputs": [],
   "source": [
    "# load mappings between genes and mammalian phenotypes\n",
    "mgi_df = load_MGI_mouseKO_data(url='http://www.informatics.jax.org/downloads/reports/MGI_PhenoGenoMP.rpt', \n",
    "                               map_using=\"mgi\", update=False, data_loc=DATADIR+\"Reference/\")"
   ]
  },
  {
   "cell_type": "code",
   "execution_count": 126,
   "metadata": {
    "ExecuteTime": {
     "end_time": "2023-02-05T02:00:47.361095Z",
     "start_time": "2023-02-05T02:00:47.358848Z"
    }
   },
   "outputs": [],
   "source": [
    "symbol_list = {'GARS': 'GARS1',\n",
    " 'GGT2': 'GGT2P',\n",
    " 'MARS': 'MARS1',\n",
    " 'HIST1H2BC': 'H2BC4',\n",
    " 'GBA': 'GBA1',\n",
    " 'HIST1H2BG': 'H2BC8',\n",
    " 'HIST1H2BF': 'H2BC7',\n",
    " 'HIST1H2BE': 'H2BC6',\n",
    " 'HIST1H2BI': 'H2BC10',\n",
    " 'CBWD3': 'ZNG1C',\n",
    " 'BHLHB9': 'GPRASP3',\n",
    " 'ELOA3': 'ELOA3P',\n",
    " 'ELOA3B': 'ELOA3BP',\n",
    " 'SMIM11B': 'SMIM11',\n",
    " 'CBSL': 'CBS',\n",
    " 'C2orf27B': 'CDRT15P3',\n",
    " 'LINC00846': 'TCP10L'}"
   ]
  },
  {
   "cell_type": "code",
   "execution_count": 127,
   "metadata": {
    "ExecuteTime": {
     "end_time": "2023-02-05T02:00:50.346619Z",
     "start_time": "2023-02-05T02:00:50.342522Z"
    }
   },
   "outputs": [],
   "source": [
    "def update_nodes(nodelist, manual_updates=None):\n",
    "    approved = mg.querymany(nodelist, as_dataframe=True, species='human', scopes='symbol', fields='symbol')\n",
    "    approved[\"input\"] = approved.index\n",
    "    approved = approved.drop_duplicates(subset=[\"input\", \"symbol\"])\n",
    "    missing = approved[~approved.notfound.isna()].input.values\n",
    "    missing_df = mg.querymany(missing,as_dataframe=True, species='human', scopes='alias', fields='symbol')\n",
    "    dups = missing_df.loc[missing_df.index.duplicated()].index.values\n",
    "    if manual_updates is None:\n",
    "        keep_dups = {}\n",
    "        for gene in dups:\n",
    "            print(missing_df.loc[gene])\n",
    "            keep_dups[gene] = input()\n",
    "    else:\n",
    "        keep_dups = manual_updates\n",
    "    missing_df = missing_df.loc[~missing_df.index.isin(dups)]\n",
    "    approved = approved[approved.notfound.isna()]\n",
    "    dup_df = pd.DataFrame({\"symbol\":keep_dups.values()}, index=keep_dups.keys())\n",
    "    out_df = pd.concat([approved, missing_df[missing_df.notfound.isna()], dup_df])\n",
    "    return out_df, keep_dups"
   ]
  },
  {
   "cell_type": "code",
   "execution_count": 128,
   "metadata": {
    "ExecuteTime": {
     "end_time": "2023-02-05T02:01:30.740942Z",
     "start_time": "2023-02-05T02:00:53.193316Z"
    }
   },
   "outputs": [
    {
     "name": "stdout",
     "output_type": "stream",
     "text": [
      "querying 1-1000...done.\n",
      "querying 1001-2000...done.\n",
      "querying 2001-3000...done.\n",
      "querying 3001-4000...done.\n",
      "querying 4001-5000...done.\n",
      "querying 5001-6000...done.\n",
      "querying 6001-7000...done.\n",
      "querying 7001-8000...done.\n",
      "querying 8001-9000...done.\n",
      "querying 9001-10000...done.\n",
      "querying 10001-11000...done.\n",
      "querying 11001-12000...done.\n",
      "querying 12001-13000...done.\n",
      "querying 13001-14000...done.\n",
      "querying 14001-15000...done.\n",
      "querying 15001-16000...done.\n",
      "querying 16001-17000...done.\n",
      "querying 17001-18000...done.\n",
      "querying 18001-18820...done.\n",
      "Finished.\n",
      "228 input query terms found dup hits:\n",
      "\t[('TCEA1P2', 2), ('USP12P1', 2), ('TBC1D29P', 2), ('RAB42P1', 2), ('WDR82P1', 3), ('FBXL21P', 2), ('\n",
      "577 input query terms found no hit:\n",
      "\t['EEF1AKNMT', 'AC022826.2', 'TMEM189-UBE2V1', 'WRB', 'ARNTL', 'KIF1BP', 'TTC37', 'TMEM251', 'MARCH5'\n",
      "Pass \"returnall=True\" to return complete lists of duplicate or missing query terms.\n",
      "querying 1-577...done.\n",
      "Finished.\n",
      "17 input query terms found dup hits:\n",
      "\t[('GARS', 2), ('GGT2', 2), ('MARS', 2), ('HIST1H2BC', 2), ('GBA', 2), ('HIST1H2BG', 2), ('HIST1H2BF'\n",
      "162 input query terms found no hit:\n",
      "\t['AC022826.2', 'AL136295.5', 'MT-CO3', 'LOC105369243', 'AL136295.1', 'LOC101060399', 'AC006486.1', '\n",
      "Pass \"returnall=True\" to return complete lists of duplicate or missing query terms.\n"
     ]
    }
   ],
   "source": [
    "updated_pc_nodes, _ = update_nodes(pc_nodes, symbol_list)"
   ]
  },
  {
   "cell_type": "code",
   "execution_count": 129,
   "metadata": {
    "ExecuteTime": {
     "end_time": "2023-02-05T02:01:36.300674Z",
     "start_time": "2023-02-05T02:01:36.260482Z"
    }
   },
   "outputs": [],
   "source": [
    "mgi_df = change_symbols(mgi_df, updated_pc_nodes)"
   ]
  },
  {
   "cell_type": "code",
   "execution_count": 130,
   "metadata": {
    "ExecuteTime": {
     "end_time": "2023-02-05T02:01:40.433331Z",
     "start_time": "2023-02-05T02:01:38.765927Z"
    }
   },
   "outputs": [
    {
     "name": "stdout",
     "output_type": "stream",
     "text": [
      "14555\n",
      "WARNING: Dropping 96543 duplicate gene-term connections\n"
     ]
    }
   ],
   "source": [
    "MPO = load_MPO(url='http://www.informatics.jax.org/downloads/reports/MPheno_OBO.ontology', \n",
    "                          use_genes=True, mapping=mgi_df, data_loc=DATADIR+\"Reference/\", update=False)"
   ]
  },
  {
   "cell_type": "code",
   "execution_count": 131,
   "metadata": {
    "ExecuteTime": {
     "end_time": "2023-02-05T02:01:43.926427Z",
     "start_time": "2023-02-05T02:01:41.151187Z"
    }
   },
   "outputs": [],
   "source": [
    "term_counts, gene_mapping, term_mapping = genes_per_node(MPO)"
   ]
  },
  {
   "cell_type": "code",
   "execution_count": 132,
   "metadata": {
    "ExecuteTime": {
     "end_time": "2023-02-05T02:01:44.892229Z",
     "start_time": "2023-02-05T02:01:44.797838Z"
    }
   },
   "outputs": [],
   "source": [
    "mp_graph = get_mp_graph(DATADIR+\"Reference/parsed_mp.txt\")"
   ]
  },
  {
   "cell_type": "code",
   "execution_count": 398,
   "metadata": {
    "ExecuteTime": {
     "end_time": "2023-02-09T21:19:16.231488Z",
     "start_time": "2023-02-09T21:18:27.033272Z"
    }
   },
   "outputs": [
    {
     "name": "stderr",
     "output_type": "stream",
     "text": [
      "100%|██████████| 137/137 [00:48<00:00,  2.82it/s]\n"
     ]
    },
    {
     "name": "stdout",
     "output_type": "stream",
     "text": [
      "0/4 in MPO.genes/seeds\n"
     ]
    }
   ],
   "source": [
    "if True:\n",
    "    bmi_phenotypes = []\n",
    "    for community in tqdm(all_hier_df.index):\n",
    "        x = community_term_enrichment(community,  all_hier_df, MPO, mgi_df, term_counts, gene_mapping, G_int=G)\n",
    "        x = x.assign(name=community)\n",
    "        bmi_phenotypes.append(x)\n",
    "    bmi_pheno_results = pd.concat(bmi_phenotypes)\n",
    "    bmi_pheno_results.to_csv(DATADIR + \"outputs/RERUN_expand_hierarchy_MGD_Full_enrichment_results.tsv\", sep=\"\\t\")"
   ]
  },
  {
   "cell_type": "code",
   "execution_count": 399,
   "metadata": {
    "ExecuteTime": {
     "end_time": "2023-02-09T21:19:22.294742Z",
     "start_time": "2023-02-09T21:19:22.282608Z"
    }
   },
   "outputs": [],
   "source": [
    "body_size_terms = [num_to_mp(x) for x in [1697, 10866, 3956, 5451]]\n",
    "body_size_enrichments = bmi_pheno_results[bmi_pheno_results.OR_p<0.05].loc[body_size_terms].sort_values(by=\"OR_p\")"
   ]
  },
  {
   "cell_type": "code",
   "execution_count": 403,
   "metadata": {
    "ExecuteTime": {
     "end_time": "2023-02-09T21:19:48.886260Z",
     "start_time": "2023-02-09T21:19:48.878841Z"
    }
   },
   "outputs": [
    {
     "data": {
      "text/html": [
       "<div>\n",
       "<style scoped>\n",
       "    .dataframe tbody tr th:only-of-type {\n",
       "        vertical-align: middle;\n",
       "    }\n",
       "\n",
       "    .dataframe tbody tr th {\n",
       "        vertical-align: top;\n",
       "    }\n",
       "\n",
       "    .dataframe thead th {\n",
       "        text-align: right;\n",
       "    }\n",
       "</style>\n",
       "<table border=\"1\" class=\"dataframe\">\n",
       "  <thead>\n",
       "    <tr style=\"text-align: right;\">\n",
       "      <th></th>\n",
       "      <th>name</th>\n",
       "      <th>annotation</th>\n",
       "    </tr>\n",
       "  </thead>\n",
       "  <tbody>\n",
       "    <tr>\n",
       "      <th>0</th>\n",
       "      <td>C2270</td>\n",
       "      <td>proteoglycan biosynthetic process</td>\n",
       "    </tr>\n",
       "    <tr>\n",
       "      <th>1</th>\n",
       "      <td>C2304</td>\n",
       "      <td>protein processing</td>\n",
       "    </tr>\n",
       "    <tr>\n",
       "      <th>2</th>\n",
       "      <td>C2313</td>\n",
       "      <td>C2313</td>\n",
       "    </tr>\n",
       "    <tr>\n",
       "      <th>3</th>\n",
       "      <td>C2314</td>\n",
       "      <td>C2314</td>\n",
       "    </tr>\n",
       "    <tr>\n",
       "      <th>4</th>\n",
       "      <td>C2315</td>\n",
       "      <td>carbohydrate transport</td>\n",
       "    </tr>\n",
       "  </tbody>\n",
       "</table>\n",
       "</div>"
      ],
      "text/plain": [
       "    name                         annotation\n",
       "0  C2270  proteoglycan biosynthetic process\n",
       "1  C2304                 protein processing\n",
       "2  C2313                              C2313\n",
       "3  C2314                              C2314\n",
       "4  C2315             carbohydrate transport"
      ]
     },
     "execution_count": 403,
     "metadata": {},
     "output_type": "execute_result"
    }
   ],
   "source": [
    "system_names = pd.read_csv(DATADIR + \"outputs/rerun_species_expandd_hierarchy_system_names.tsv\", sep=\"\\t\", names=[\"name\", \"annotation\"], skiprows=1)\n",
    "system_names.head()"
   ]
  },
  {
   "cell_type": "code",
   "execution_count": 404,
   "metadata": {
    "ExecuteTime": {
     "end_time": "2023-02-09T21:19:54.922884Z",
     "start_time": "2023-02-09T21:19:54.920526Z"
    }
   },
   "outputs": [],
   "source": [
    "body_size_enrichments[\"MP\"] = body_size_enrichments.index"
   ]
  },
  {
   "cell_type": "code",
   "execution_count": 405,
   "metadata": {
    "ExecuteTime": {
     "end_time": "2023-02-09T21:20:00.972049Z",
     "start_time": "2023-02-09T21:20:00.968161Z"
    }
   },
   "outputs": [],
   "source": [
    "body_size_enrichments = body_size_enrichments.expand(system_names, on=\"name\", how='left')"
   ]
  },
  {
   "cell_type": "code",
   "execution_count": 172,
   "metadata": {
    "ExecuteTime": {
     "end_time": "2023-02-05T02:23:09.812295Z",
     "start_time": "2023-02-05T02:23:09.806329Z"
    }
   },
   "outputs": [],
   "source": [
    "ors = body_size_enrichments.pivot_table(values=\"OR\", columns =\"description\", index=\"name\").fillna(0)"
   ]
  },
  {
   "cell_type": "code",
   "execution_count": 171,
   "metadata": {
    "ExecuteTime": {
     "end_time": "2023-02-05T02:23:07.382669Z",
     "start_time": "2023-02-05T02:23:07.376516Z"
    }
   },
   "outputs": [],
   "source": [
    "pvals = body_size_enrichments.pivot_table(values=\"OR_p\", columns =\"description\", index=\"name\").fillna(1)"
   ]
  },
  {
   "cell_type": "code",
   "execution_count": 175,
   "metadata": {
    "ExecuteTime": {
     "end_time": "2023-02-05T02:23:47.442169Z",
     "start_time": "2023-02-05T02:23:47.439704Z"
    }
   },
   "outputs": [],
   "source": [
    "ors[pvals >0.05] = 0"
   ]
  },
  {
   "cell_type": "code",
   "execution_count": 176,
   "metadata": {
    "ExecuteTime": {
     "end_time": "2023-02-05T02:23:52.617113Z",
     "start_time": "2023-02-05T02:23:52.610199Z"
    }
   },
   "outputs": [
    {
     "data": {
      "text/html": [
       "<div>\n",
       "<style scoped>\n",
       "    .dataframe tbody tr th:only-of-type {\n",
       "        vertical-align: middle;\n",
       "    }\n",
       "\n",
       "    .dataframe tbody tr th {\n",
       "        vertical-align: top;\n",
       "    }\n",
       "\n",
       "    .dataframe thead th {\n",
       "        text-align: right;\n",
       "    }\n",
       "</style>\n",
       "<table border=\"1\" class=\"dataframe\">\n",
       "  <thead>\n",
       "    <tr style=\"text-align: right;\">\n",
       "      <th>description</th>\n",
       "      <th>abnormal body composition</th>\n",
       "      <th>abnormal body size</th>\n",
       "      <th>abnormal embryo size</th>\n",
       "      <th>abnormal prenatal body size</th>\n",
       "    </tr>\n",
       "    <tr>\n",
       "      <th>name</th>\n",
       "      <th></th>\n",
       "      <th></th>\n",
       "      <th></th>\n",
       "      <th></th>\n",
       "    </tr>\n",
       "  </thead>\n",
       "  <tbody>\n",
       "    <tr>\n",
       "      <th>C6025</th>\n",
       "      <td>1.247271</td>\n",
       "      <td>1.283264</td>\n",
       "      <td>1.480298</td>\n",
       "      <td>1.465953</td>\n",
       "    </tr>\n",
       "    <tr>\n",
       "      <th>C6026</th>\n",
       "      <td>1.364501</td>\n",
       "      <td>1.376595</td>\n",
       "      <td>0.000000</td>\n",
       "      <td>0.000000</td>\n",
       "    </tr>\n",
       "    <tr>\n",
       "      <th>C6027</th>\n",
       "      <td>1.395540</td>\n",
       "      <td>1.300738</td>\n",
       "      <td>0.501237</td>\n",
       "      <td>0.575052</td>\n",
       "    </tr>\n",
       "    <tr>\n",
       "      <th>C6028</th>\n",
       "      <td>1.229434</td>\n",
       "      <td>1.244609</td>\n",
       "      <td>1.457928</td>\n",
       "      <td>1.420106</td>\n",
       "    </tr>\n",
       "    <tr>\n",
       "      <th>C6029</th>\n",
       "      <td>0.000000</td>\n",
       "      <td>0.000000</td>\n",
       "      <td>2.238287</td>\n",
       "      <td>2.107526</td>\n",
       "    </tr>\n",
       "    <tr>\n",
       "      <th>C6030</th>\n",
       "      <td>0.798823</td>\n",
       "      <td>0.768251</td>\n",
       "      <td>1.637416</td>\n",
       "      <td>1.595764</td>\n",
       "    </tr>\n",
       "    <tr>\n",
       "      <th>C6031</th>\n",
       "      <td>1.941365</td>\n",
       "      <td>1.677239</td>\n",
       "      <td>2.011435</td>\n",
       "      <td>2.020635</td>\n",
       "    </tr>\n",
       "    <tr>\n",
       "      <th>C6032</th>\n",
       "      <td>1.863191</td>\n",
       "      <td>1.619335</td>\n",
       "      <td>1.642572</td>\n",
       "      <td>1.846559</td>\n",
       "    </tr>\n",
       "    <tr>\n",
       "      <th>C6034</th>\n",
       "      <td>0.000000</td>\n",
       "      <td>0.000000</td>\n",
       "      <td>3.803150</td>\n",
       "      <td>3.654473</td>\n",
       "    </tr>\n",
       "    <tr>\n",
       "      <th>C6036</th>\n",
       "      <td>0.347119</td>\n",
       "      <td>0.370940</td>\n",
       "      <td>0.000000</td>\n",
       "      <td>0.132791</td>\n",
       "    </tr>\n",
       "    <tr>\n",
       "      <th>C6038</th>\n",
       "      <td>1.646460</td>\n",
       "      <td>1.578023</td>\n",
       "      <td>0.000000</td>\n",
       "      <td>0.000000</td>\n",
       "    </tr>\n",
       "    <tr>\n",
       "      <th>C6043</th>\n",
       "      <td>0.000000</td>\n",
       "      <td>0.000000</td>\n",
       "      <td>5.295880</td>\n",
       "      <td>5.065482</td>\n",
       "    </tr>\n",
       "    <tr>\n",
       "      <th>C6044</th>\n",
       "      <td>2.343224</td>\n",
       "      <td>1.795805</td>\n",
       "      <td>0.000000</td>\n",
       "      <td>0.000000</td>\n",
       "    </tr>\n",
       "    <tr>\n",
       "      <th>C6045</th>\n",
       "      <td>2.046624</td>\n",
       "      <td>2.072002</td>\n",
       "      <td>0.000000</td>\n",
       "      <td>0.000000</td>\n",
       "    </tr>\n",
       "    <tr>\n",
       "      <th>C6046</th>\n",
       "      <td>0.000000</td>\n",
       "      <td>0.348865</td>\n",
       "      <td>0.000000</td>\n",
       "      <td>0.000000</td>\n",
       "    </tr>\n",
       "    <tr>\n",
       "      <th>C6047</th>\n",
       "      <td>2.528648</td>\n",
       "      <td>2.242762</td>\n",
       "      <td>3.292773</td>\n",
       "      <td>2.729012</td>\n",
       "    </tr>\n",
       "    <tr>\n",
       "      <th>C6048</th>\n",
       "      <td>2.080154</td>\n",
       "      <td>2.046327</td>\n",
       "      <td>0.000000</td>\n",
       "      <td>0.000000</td>\n",
       "    </tr>\n",
       "    <tr>\n",
       "      <th>C6049</th>\n",
       "      <td>0.000000</td>\n",
       "      <td>0.000000</td>\n",
       "      <td>4.606043</td>\n",
       "      <td>4.301853</td>\n",
       "    </tr>\n",
       "    <tr>\n",
       "      <th>C6052</th>\n",
       "      <td>0.000000</td>\n",
       "      <td>0.000000</td>\n",
       "      <td>4.452159</td>\n",
       "      <td>4.208411</td>\n",
       "    </tr>\n",
       "    <tr>\n",
       "      <th>C6060</th>\n",
       "      <td>0.000000</td>\n",
       "      <td>2.080573</td>\n",
       "      <td>0.000000</td>\n",
       "      <td>0.000000</td>\n",
       "    </tr>\n",
       "    <tr>\n",
       "      <th>C6061</th>\n",
       "      <td>2.771146</td>\n",
       "      <td>2.261784</td>\n",
       "      <td>0.000000</td>\n",
       "      <td>3.506205</td>\n",
       "    </tr>\n",
       "    <tr>\n",
       "      <th>C6063</th>\n",
       "      <td>0.000000</td>\n",
       "      <td>0.000000</td>\n",
       "      <td>3.398662</td>\n",
       "      <td>4.246240</td>\n",
       "    </tr>\n",
       "    <tr>\n",
       "      <th>C6067</th>\n",
       "      <td>0.000000</td>\n",
       "      <td>0.000000</td>\n",
       "      <td>3.151189</td>\n",
       "      <td>0.000000</td>\n",
       "    </tr>\n",
       "    <tr>\n",
       "      <th>C6069</th>\n",
       "      <td>3.049245</td>\n",
       "      <td>3.340559</td>\n",
       "      <td>0.000000</td>\n",
       "      <td>0.000000</td>\n",
       "    </tr>\n",
       "    <tr>\n",
       "      <th>C6073</th>\n",
       "      <td>4.555154</td>\n",
       "      <td>5.130048</td>\n",
       "      <td>3.752255</td>\n",
       "      <td>4.088643</td>\n",
       "    </tr>\n",
       "    <tr>\n",
       "      <th>C6079</th>\n",
       "      <td>0.000000</td>\n",
       "      <td>0.000000</td>\n",
       "      <td>3.690594</td>\n",
       "      <td>0.000000</td>\n",
       "    </tr>\n",
       "    <tr>\n",
       "      <th>C6080</th>\n",
       "      <td>3.157138</td>\n",
       "      <td>0.000000</td>\n",
       "      <td>0.000000</td>\n",
       "      <td>0.000000</td>\n",
       "    </tr>\n",
       "    <tr>\n",
       "      <th>C6082</th>\n",
       "      <td>3.214844</td>\n",
       "      <td>3.544915</td>\n",
       "      <td>0.000000</td>\n",
       "      <td>0.000000</td>\n",
       "    </tr>\n",
       "    <tr>\n",
       "      <th>C6086</th>\n",
       "      <td>0.000000</td>\n",
       "      <td>3.938102</td>\n",
       "      <td>0.000000</td>\n",
       "      <td>0.000000</td>\n",
       "    </tr>\n",
       "    <tr>\n",
       "      <th>C6088</th>\n",
       "      <td>0.000000</td>\n",
       "      <td>3.938102</td>\n",
       "      <td>0.000000</td>\n",
       "      <td>0.000000</td>\n",
       "    </tr>\n",
       "  </tbody>\n",
       "</table>\n",
       "</div>"
      ],
      "text/plain": [
       "description  abnormal body composition  abnormal body size  \\\n",
       "name                                                         \n",
       "C6025                         1.247271            1.283264   \n",
       "C6026                         1.364501            1.376595   \n",
       "C6027                         1.395540            1.300738   \n",
       "C6028                         1.229434            1.244609   \n",
       "C6029                         0.000000            0.000000   \n",
       "C6030                         0.798823            0.768251   \n",
       "C6031                         1.941365            1.677239   \n",
       "C6032                         1.863191            1.619335   \n",
       "C6034                         0.000000            0.000000   \n",
       "C6036                         0.347119            0.370940   \n",
       "C6038                         1.646460            1.578023   \n",
       "C6043                         0.000000            0.000000   \n",
       "C6044                         2.343224            1.795805   \n",
       "C6045                         2.046624            2.072002   \n",
       "C6046                         0.000000            0.348865   \n",
       "C6047                         2.528648            2.242762   \n",
       "C6048                         2.080154            2.046327   \n",
       "C6049                         0.000000            0.000000   \n",
       "C6052                         0.000000            0.000000   \n",
       "C6060                         0.000000            2.080573   \n",
       "C6061                         2.771146            2.261784   \n",
       "C6063                         0.000000            0.000000   \n",
       "C6067                         0.000000            0.000000   \n",
       "C6069                         3.049245            3.340559   \n",
       "C6073                         4.555154            5.130048   \n",
       "C6079                         0.000000            0.000000   \n",
       "C6080                         3.157138            0.000000   \n",
       "C6082                         3.214844            3.544915   \n",
       "C6086                         0.000000            3.938102   \n",
       "C6088                         0.000000            3.938102   \n",
       "\n",
       "description  abnormal embryo size  abnormal prenatal body size  \n",
       "name                                                            \n",
       "C6025                    1.480298                     1.465953  \n",
       "C6026                    0.000000                     0.000000  \n",
       "C6027                    0.501237                     0.575052  \n",
       "C6028                    1.457928                     1.420106  \n",
       "C6029                    2.238287                     2.107526  \n",
       "C6030                    1.637416                     1.595764  \n",
       "C6031                    2.011435                     2.020635  \n",
       "C6032                    1.642572                     1.846559  \n",
       "C6034                    3.803150                     3.654473  \n",
       "C6036                    0.000000                     0.132791  \n",
       "C6038                    0.000000                     0.000000  \n",
       "C6043                    5.295880                     5.065482  \n",
       "C6044                    0.000000                     0.000000  \n",
       "C6045                    0.000000                     0.000000  \n",
       "C6046                    0.000000                     0.000000  \n",
       "C6047                    3.292773                     2.729012  \n",
       "C6048                    0.000000                     0.000000  \n",
       "C6049                    4.606043                     4.301853  \n",
       "C6052                    4.452159                     4.208411  \n",
       "C6060                    0.000000                     0.000000  \n",
       "C6061                    0.000000                     3.506205  \n",
       "C6063                    3.398662                     4.246240  \n",
       "C6067                    3.151189                     0.000000  \n",
       "C6069                    0.000000                     0.000000  \n",
       "C6073                    3.752255                     4.088643  \n",
       "C6079                    3.690594                     0.000000  \n",
       "C6080                    0.000000                     0.000000  \n",
       "C6082                    0.000000                     0.000000  \n",
       "C6086                    0.000000                     0.000000  \n",
       "C6088                    0.000000                     0.000000  "
      ]
     },
     "execution_count": 176,
     "metadata": {},
     "output_type": "execute_result"
    }
   ],
   "source": [
    "ors"
   ]
  },
  {
   "cell_type": "code",
   "execution_count": 180,
   "metadata": {
    "ExecuteTime": {
     "end_time": "2023-02-05T02:27:50.789889Z",
     "start_time": "2023-02-05T02:27:50.714435Z"
    }
   },
   "outputs": [],
   "source": [
    "ors.to_csv(\"/cellar/users/snwright/Data/Transfer/rat/expanded_hierarchy_enrichments_sig.tsv\", sep=\"\\t\")"
   ]
  },
  {
   "cell_type": "code",
   "execution_count": 249,
   "metadata": {
    "ExecuteTime": {
     "end_time": "2023-02-09T19:28:33.047177Z",
     "start_time": "2023-02-09T19:28:33.044769Z"
    }
   },
   "outputs": [],
   "source": [
    "human_list = [\"C6029\",\"C6034\",  \"C6052\", \"C6081\", \"C6051\"]\n",
    "conserved_list = [\"C6055\", \"C6056\",\"C6073\", \"C6035\", \"C6040\", \"C6037\"]\n",
    "rat_list = [\"C6061\", \"C6033\", \"C6038\", \"C6088\", \"C6036\", \"C6039\", \"C6080\",\"C6090\", \"C6087\", \"C6045\", \"C6076\"]\n",
    "comms = human_list+conserved_list + rat_list"
   ]
  },
  {
   "cell_type": "code",
   "execution_count": 406,
   "metadata": {
    "ExecuteTime": {
     "end_time": "2023-02-09T21:20:06.996273Z",
     "start_time": "2023-02-09T21:20:06.993696Z"
    }
   },
   "outputs": [],
   "source": [
    "body_size_enrichments = body_size_enrichments.set_index(\"MP\")"
   ]
  },
  {
   "cell_type": "code",
   "execution_count": 407,
   "metadata": {
    "ExecuteTime": {
     "end_time": "2023-02-09T21:20:12.995858Z",
     "start_time": "2023-02-09T21:20:12.992667Z"
    }
   },
   "outputs": [],
   "source": [
    "body_size_enrichments.index.name=None"
   ]
  },
  {
   "cell_type": "code",
   "execution_count": 356,
   "metadata": {
    "ExecuteTime": {
     "end_time": "2023-02-09T21:00:30.253528Z",
     "start_time": "2023-02-09T21:00:30.249944Z"
    }
   },
   "outputs": [],
   "source": [
    "comms = [\"C6247\",\n",
    "\"C6242\",\n",
    "\"C6229\",\n",
    "\"C6227\",\n",
    "\"C6226\",\n",
    "\"C6225\",\n",
    "\"C6206\",\n",
    "\"C6201\",\n",
    "\"C6200\",\n",
    "\"C6199\",\n",
    "\"C6197\",\n",
    "\"C6195\",\n",
    "\"C6188\",\n",
    "\"C6183\",\n",
    "\"C6176\",\n",
    "\"C6167\",\n",
    "\"C6163\",\n",
    "\"C6160\",\n",
    "\"C6157\",\n",
    "\"C6153\",\n",
    "\"C6151\",\n",
    "\"C6150\",\n",
    "\"C6146\",\n",
    "\"C6136\",\n",
    "\"C6134\",\n",
    "\"C6129\",\n",
    "\"C6128\",\n",
    "\"C6124\",\n",
    "\"C6122\",\n",
    "\"C6119\",\n",
    "\"C6116\",\n",
    "\"C6114\",\n",
    "\"C6113\",\n",
    "\"C6112\",\n",
    "\"C6108\",\n",
    "\"C6099\",\n",
    "\"C6092\",\n",
    "\"C6091\",\n",
    "\"C6090\",\n",
    "\"C6086\",\n",
    "\"C6080\",\n",
    "\"C6073\",\n",
    "\"C6069\",\n",
    "\"C6062\",\n",
    "\"C6057\",\n",
    "\"C6053\",\n",
    "\"C6052\",\n",
    "\"C6049\",\n",
    "\"C6047\",\n",
    "\"C6046\",\n",
    "\"C6043\",\n",
    "\"C6040\",\n",
    "\"C6036\",\n",
    "\"C6035\",\n",
    "\"C6034\",\n",
    "\"C6033\",\n",
    "\"C6032\",\n",
    "\"C6031\",\n",
    "\"C6029\",\n",
    "\"C6028\",\n",
    "\"C6027\",\n",
    "\"C6026\",\n",
    "\"C6025\"]"
   ]
  },
  {
   "cell_type": "raw",
   "metadata": {},
   "source": []
  },
  {
   "cell_type": "code",
   "execution_count": 411,
   "metadata": {
    "ExecuteTime": {
     "end_time": "2023-02-09T21:20:56.251372Z",
     "start_time": "2023-02-09T21:20:56.247720Z"
    }
   },
   "outputs": [
    {
     "data": {
      "text/plain": [
       "human                44\n",
       "rat                  26\n",
       "ratconserved         20\n",
       "conserved            19\n",
       "rathuman             13\n",
       "humanconserved        9\n",
       "rathumanconserved     6\n",
       "Name: sig_network, dtype: int64"
      ]
     },
     "execution_count": 411,
     "metadata": {},
     "output_type": "execute_result"
    }
   ],
   "source": [
    "all_hier_df.sig_network.value_counts()"
   ]
  },
  {
   "cell_type": "code",
   "execution_count": 408,
   "metadata": {
    "ExecuteTime": {
     "end_time": "2023-02-09T21:20:18.944919Z",
     "start_time": "2023-02-09T21:20:18.936222Z"
    }
   },
   "outputs": [
    {
     "data": {
      "text/html": [
       "<div>\n",
       "<style scoped>\n",
       "    .dataframe tbody tr th:only-of-type {\n",
       "        vertical-align: middle;\n",
       "    }\n",
       "\n",
       "    .dataframe tbody tr th {\n",
       "        vertical-align: top;\n",
       "    }\n",
       "\n",
       "    .dataframe thead th {\n",
       "        text-align: right;\n",
       "    }\n",
       "</style>\n",
       "<table border=\"1\" class=\"dataframe\">\n",
       "  <thead>\n",
       "    <tr style=\"text-align: right;\">\n",
       "      <th></th>\n",
       "      <th>observed</th>\n",
       "      <th>total</th>\n",
       "      <th>OR</th>\n",
       "      <th>OR_p</th>\n",
       "      <th>OR_CI_lower</th>\n",
       "      <th>OR_CI_upper</th>\n",
       "      <th>hyper_p</th>\n",
       "      <th>sig_5e6</th>\n",
       "      <th>description</th>\n",
       "      <th>size</th>\n",
       "      <th>name</th>\n",
       "      <th>annotation</th>\n",
       "    </tr>\n",
       "  </thead>\n",
       "  <tbody>\n",
       "    <tr>\n",
       "      <th>MP:0010866</th>\n",
       "      <td>112.0</td>\n",
       "      <td>1088.0</td>\n",
       "      <td>1.974383</td>\n",
       "      <td>9.521199e-11</td>\n",
       "      <td>1.606928</td>\n",
       "      <td>2.425864</td>\n",
       "      <td>5.780056e-10</td>\n",
       "      <td>True</td>\n",
       "      <td>abnormal prenatal body size</td>\n",
       "      <td>1086.0</td>\n",
       "      <td>C2271</td>\n",
       "      <td>demethylation</td>\n",
       "    </tr>\n",
       "    <tr>\n",
       "      <th>MP:0001697</th>\n",
       "      <td>96.0</td>\n",
       "      <td>912.0</td>\n",
       "      <td>2.010458</td>\n",
       "      <td>5.858471e-10</td>\n",
       "      <td>1.611857</td>\n",
       "      <td>2.507629</td>\n",
       "      <td>3.130741e-09</td>\n",
       "      <td>True</td>\n",
       "      <td>abnormal embryo size</td>\n",
       "      <td>1086.0</td>\n",
       "      <td>C2271</td>\n",
       "      <td>demethylation</td>\n",
       "    </tr>\n",
       "    <tr>\n",
       "      <th>MP:0010866</th>\n",
       "      <td>9.0</td>\n",
       "      <td>1088.0</td>\n",
       "      <td>7.034688</td>\n",
       "      <td>1.052780e-06</td>\n",
       "      <td>3.214173</td>\n",
       "      <td>15.396443</td>\n",
       "      <td>4.150481e-06</td>\n",
       "      <td>True</td>\n",
       "      <td>abnormal prenatal body size</td>\n",
       "      <td>30.0</td>\n",
       "      <td>C2285</td>\n",
       "      <td>chromosome organization</td>\n",
       "    </tr>\n",
       "    <tr>\n",
       "      <th>MP:0001697</th>\n",
       "      <td>8.0</td>\n",
       "      <td>912.0</td>\n",
       "      <td>7.194690</td>\n",
       "      <td>1.902971e-06</td>\n",
       "      <td>3.194390</td>\n",
       "      <td>16.204525</td>\n",
       "      <td>8.063826e-06</td>\n",
       "      <td>False</td>\n",
       "      <td>abnormal embryo size</td>\n",
       "      <td>30.0</td>\n",
       "      <td>C2285</td>\n",
       "      <td>chromosome organization</td>\n",
       "    </tr>\n",
       "    <tr>\n",
       "      <th>MP:0005451</th>\n",
       "      <td>13.0</td>\n",
       "      <td>2776.0</td>\n",
       "      <td>6.857796</td>\n",
       "      <td>2.680716e-06</td>\n",
       "      <td>3.069231</td>\n",
       "      <td>15.322851</td>\n",
       "      <td>1.012624e-06</td>\n",
       "      <td>True</td>\n",
       "      <td>abnormal body composition</td>\n",
       "      <td>24.0</td>\n",
       "      <td>C2288</td>\n",
       "      <td>adenylate cyclase-modulating G protein-coupled...</td>\n",
       "    </tr>\n",
       "  </tbody>\n",
       "</table>\n",
       "</div>"
      ],
      "text/plain": [
       "            observed   total        OR          OR_p  OR_CI_lower  \\\n",
       "MP:0010866     112.0  1088.0  1.974383  9.521199e-11     1.606928   \n",
       "MP:0001697      96.0   912.0  2.010458  5.858471e-10     1.611857   \n",
       "MP:0010866       9.0  1088.0  7.034688  1.052780e-06     3.214173   \n",
       "MP:0001697       8.0   912.0  7.194690  1.902971e-06     3.194390   \n",
       "MP:0005451      13.0  2776.0  6.857796  2.680716e-06     3.069231   \n",
       "\n",
       "            OR_CI_upper       hyper_p sig_5e6                  description  \\\n",
       "MP:0010866     2.425864  5.780056e-10    True  abnormal prenatal body size   \n",
       "MP:0001697     2.507629  3.130741e-09    True         abnormal embryo size   \n",
       "MP:0010866    15.396443  4.150481e-06    True  abnormal prenatal body size   \n",
       "MP:0001697    16.204525  8.063826e-06   False         abnormal embryo size   \n",
       "MP:0005451    15.322851  1.012624e-06    True    abnormal body composition   \n",
       "\n",
       "              size   name                                         annotation  \n",
       "MP:0010866  1086.0  C2271                                      demethylation  \n",
       "MP:0001697  1086.0  C2271                                      demethylation  \n",
       "MP:0010866    30.0  C2285                            chromosome organization  \n",
       "MP:0001697    30.0  C2285                            chromosome organization  \n",
       "MP:0005451    24.0  C2288  adenylate cyclase-modulating G protein-coupled...  "
      ]
     },
     "execution_count": 408,
     "metadata": {},
     "output_type": "execute_result"
    }
   ],
   "source": [
    "body_size_enrichments.head()"
   ]
  },
  {
   "cell_type": "code",
   "execution_count": 431,
   "metadata": {
    "ExecuteTime": {
     "end_time": "2023-02-09T21:27:51.733765Z",
     "start_time": "2023-02-09T21:27:44.884391Z"
    }
   },
   "outputs": [
    {
     "data": {
      "image/png": "[encoded data removed]",
      "text/plain": [
       "<Figure size 1152x108 with 2 Axes>"
      ]
     },
     "metadata": {
      "needs_background": "light"
     },
     "output_type": "display_data"
    }
   ],
   "source": [
    "_ = plot_community_heatmap(body_size_enrichments, [body_size_terms[i] for i in [2,3,1,0]],all_hier_df[all_hier_df.sig_network.isin([\"conserved\", \"ratconserved\", \"rathumanconserved\", \"humanconserved\", \"rathuman\"])].index,  annotations=None, stat=\"OR\", filter_stat=\"OR_p\", \n",
    "                       color_range = [0, 5], MPO=MPO, vert = 1.5, horz=16, xlabel=\"annotation\", filter_th=0.05)"
   ]
  },
  {
   "cell_type": "code",
   "execution_count": 434,
   "metadata": {
    "ExecuteTime": {
     "end_time": "2023-02-09T21:29:49.512801Z",
     "start_time": "2023-02-09T21:29:49.507430Z"
    }
   },
   "outputs": [
    {
     "data": {
      "text/html": [
       "<div>\n",
       "<style scoped>\n",
       "    .dataframe tbody tr th:only-of-type {\n",
       "        vertical-align: middle;\n",
       "    }\n",
       "\n",
       "    .dataframe tbody tr th {\n",
       "        vertical-align: top;\n",
       "    }\n",
       "\n",
       "    .dataframe thead th {\n",
       "        text-align: right;\n",
       "    }\n",
       "</style>\n",
       "<table border=\"1\" class=\"dataframe\">\n",
       "  <thead>\n",
       "    <tr style=\"text-align: right;\">\n",
       "      <th></th>\n",
       "      <th>name</th>\n",
       "      <th>annotation</th>\n",
       "    </tr>\n",
       "  </thead>\n",
       "  <tbody>\n",
       "    <tr>\n",
       "      <th>16</th>\n",
       "      <td>C2368</td>\n",
       "      <td>regulation of ERBB signaling pathway</td>\n",
       "    </tr>\n",
       "    <tr>\n",
       "      <th>35</th>\n",
       "      <td>C2322</td>\n",
       "      <td>demethylation</td>\n",
       "    </tr>\n",
       "    <tr>\n",
       "      <th>47</th>\n",
       "      <td>C2361</td>\n",
       "      <td>C2361</td>\n",
       "    </tr>\n",
       "    <tr>\n",
       "      <th>55</th>\n",
       "      <td>C2378</td>\n",
       "      <td>C2378</td>\n",
       "    </tr>\n",
       "    <tr>\n",
       "      <th>75</th>\n",
       "      <td>C2282</td>\n",
       "      <td>chromatin organization</td>\n",
       "    </tr>\n",
       "    <tr>\n",
       "      <th>77</th>\n",
       "      <td>C2285</td>\n",
       "      <td>chromosome organization</td>\n",
       "    </tr>\n",
       "    <tr>\n",
       "      <th>106</th>\n",
       "      <td>C2288</td>\n",
       "      <td>adenylate cyclase-modulating G protein-coupled...</td>\n",
       "    </tr>\n",
       "    <tr>\n",
       "      <th>115</th>\n",
       "      <td>C2294</td>\n",
       "      <td>cell division</td>\n",
       "    </tr>\n",
       "    <tr>\n",
       "      <th>118</th>\n",
       "      <td>C2312</td>\n",
       "      <td>adenylate cyclase-inhibiting G protein-coupled...</td>\n",
       "    </tr>\n",
       "    <tr>\n",
       "      <th>119</th>\n",
       "      <td>C2327</td>\n",
       "      <td>adenylate cyclase-modulating G protein-coupled...</td>\n",
       "    </tr>\n",
       "  </tbody>\n",
       "</table>\n",
       "</div>"
      ],
      "text/plain": [
       "      name                                         annotation\n",
       "16   C2368               regulation of ERBB signaling pathway\n",
       "35   C2322                                      demethylation\n",
       "47   C2361                                              C2361\n",
       "55   C2378                                              C2378\n",
       "75   C2282                             chromatin organization\n",
       "77   C2285                            chromosome organization\n",
       "106  C2288  adenylate cyclase-modulating G protein-coupled...\n",
       "115  C2294                                      cell division\n",
       "118  C2312  adenylate cyclase-inhibiting G protein-coupled...\n",
       "119  C2327  adenylate cyclase-modulating G protein-coupled..."
      ]
     },
     "execution_count": 434,
     "metadata": {},
     "output_type": "execute_result"
    }
   ],
   "source": [
    "system_names[system_names[\"name\"].isin([\"C2368\", \"C2322\", \"C2361\", \"C2378\", \"C2282\", \"C2285\", \"C2288\", \"C2294\", \"C2312\", \"C2327\"])]"
   ]
  },
  {
   "cell_type": "code",
   "execution_count": 437,
   "metadata": {
    "ExecuteTime": {
     "end_time": "2023-02-09T21:33:21.635985Z",
     "start_time": "2023-02-09T21:33:21.629630Z"
    }
   },
   "outputs": [
    {
     "data": {
      "text/html": [
       "<div>\n",
       "<style scoped>\n",
       "    .dataframe tbody tr th:only-of-type {\n",
       "        vertical-align: middle;\n",
       "    }\n",
       "\n",
       "    .dataframe tbody tr th {\n",
       "        vertical-align: top;\n",
       "    }\n",
       "\n",
       "    .dataframe thead th {\n",
       "        text-align: right;\n",
       "    }\n",
       "</style>\n",
       "<table border=\"1\" class=\"dataframe\">\n",
       "  <thead>\n",
       "    <tr style=\"text-align: right;\">\n",
       "      <th></th>\n",
       "      <th>name</th>\n",
       "      <th>annotation</th>\n",
       "    </tr>\n",
       "  </thead>\n",
       "  <tbody>\n",
       "    <tr>\n",
       "      <th>13</th>\n",
       "      <td>C2351</td>\n",
       "      <td>cellular respiration</td>\n",
       "    </tr>\n",
       "    <tr>\n",
       "      <th>42</th>\n",
       "      <td>C2354</td>\n",
       "      <td>C2354</td>\n",
       "    </tr>\n",
       "    <tr>\n",
       "      <th>46</th>\n",
       "      <td>C2360</td>\n",
       "      <td>protein import into nucleus</td>\n",
       "    </tr>\n",
       "    <tr>\n",
       "      <th>48</th>\n",
       "      <td>C2366</td>\n",
       "      <td>C2366</td>\n",
       "    </tr>\n",
       "    <tr>\n",
       "      <th>94</th>\n",
       "      <td>C2402</td>\n",
       "      <td>C2402</td>\n",
       "    </tr>\n",
       "    <tr>\n",
       "      <th>125</th>\n",
       "      <td>C2341</td>\n",
       "      <td>DNA repair</td>\n",
       "    </tr>\n",
       "  </tbody>\n",
       "</table>\n",
       "</div>"
      ],
      "text/plain": [
       "      name                   annotation\n",
       "13   C2351         cellular respiration\n",
       "42   C2354                        C2354\n",
       "46   C2360  protein import into nucleus\n",
       "48   C2366                        C2366\n",
       "94   C2402                        C2402\n",
       "125  C2341                   DNA repair"
      ]
     },
     "execution_count": 437,
     "metadata": {},
     "output_type": "execute_result"
    }
   ],
   "source": [
    "system_names[system_names[\"name\"].isin([\"C2341\", \"C2402\", \"C2366\", \"C2360\", \"C2351\", \"C2354\"])]"
   ]
  },
  {
   "cell_type": "code",
   "execution_count": 438,
   "metadata": {
    "ExecuteTime": {
     "end_time": "2023-02-09T21:33:54.662634Z",
     "start_time": "2023-02-09T21:33:54.657706Z"
    }
   },
   "outputs": [
    {
     "data": {
      "text/html": [
       "<div>\n",
       "<style scoped>\n",
       "    .dataframe tbody tr th:only-of-type {\n",
       "        vertical-align: middle;\n",
       "    }\n",
       "\n",
       "    .dataframe tbody tr th {\n",
       "        vertical-align: top;\n",
       "    }\n",
       "\n",
       "    .dataframe thead th {\n",
       "        text-align: right;\n",
       "    }\n",
       "</style>\n",
       "<table border=\"1\" class=\"dataframe\">\n",
       "  <thead>\n",
       "    <tr style=\"text-align: right;\">\n",
       "      <th></th>\n",
       "      <th>name</th>\n",
       "      <th>annotation</th>\n",
       "    </tr>\n",
       "  </thead>\n",
       "  <tbody>\n",
       "    <tr>\n",
       "      <th>44</th>\n",
       "      <td>C2357</td>\n",
       "      <td>C2357</td>\n",
       "    </tr>\n",
       "    <tr>\n",
       "      <th>104</th>\n",
       "      <td>C2299</td>\n",
       "      <td>smoothened signaling pathway</td>\n",
       "    </tr>\n",
       "  </tbody>\n",
       "</table>\n",
       "</div>"
      ],
      "text/plain": [
       "      name                    annotation\n",
       "44   C2357                         C2357\n",
       "104  C2299  smoothened signaling pathway"
      ]
     },
     "execution_count": 438,
     "metadata": {},
     "output_type": "execute_result"
    }
   ],
   "source": [
    "system_names[system_names[\"name\"].isin([\"C2357\", \"C2299\"])]"
   ]
  },
  {
   "cell_type": "code",
   "execution_count": 428,
   "metadata": {
    "ExecuteTime": {
     "end_time": "2023-02-09T21:27:12.625698Z",
     "start_time": "2023-02-09T21:27:09.987216Z"
    }
   },
   "outputs": [
    {
     "data": {
      "image/png": "[encoded data removed]",
      "text/plain": [
       "<Figure size 1152x108 with 2 Axes>"
      ]
     },
     "metadata": {
      "needs_background": "light"
     },
     "output_type": "display_data"
    }
   ],
   "source": [
    "_ = plot_community_heatmap(body_size_enrichments, [body_size_terms[i] for i in [2,3,1,0]],all_hier_df[all_hier_df.sig_network.isin([\"human\"])].index,  annotations=None, stat=\"OR\", filter_stat=\"OR_p\", \n",
    "                       color_range = [0, 5], MPO=MPO, vert = 1.5, horz=16, xlabel=\"annotation\", filter_th=0.05)"
   ]
  },
  {
   "cell_type": "code",
   "execution_count": 444,
   "metadata": {
    "ExecuteTime": {
     "end_time": "2023-02-09T21:35:18.369627Z",
     "start_time": "2023-02-09T21:35:18.367322Z"
    }
   },
   "outputs": [
    {
     "name": "stdout",
     "output_type": "stream",
     "text": [
      "proteoglycan biosynthetic process\n",
      "small molecule biosynthetic process\n",
      "proteoglycan biosynthetic process\n",
      "carbohydrate derivative biosynthetic process\n",
      "proteoglycan biosynthetic process\n"
     ]
    }
   ],
   "source": [
    "for sys in system_names.annotation:\n",
    "    if \"syn\" in sys:\n",
    "        print(sys)"
   ]
  },
  {
   "cell_type": "code",
   "execution_count": 432,
   "metadata": {
    "ExecuteTime": {
     "end_time": "2023-02-09T21:27:59.653440Z",
     "start_time": "2023-02-09T21:27:58.606416Z"
    }
   },
   "outputs": [
    {
     "data": {
      "image/png": "[encoded data removed]",
      "text/plain": [
       "<Figure size 1152x108 with 2 Axes>"
      ]
     },
     "metadata": {
      "needs_background": "light"
     },
     "output_type": "display_data"
    }
   ],
   "source": [
    "_ = plot_community_heatmap(body_size_enrichments, [body_size_terms[i] for i in [2,3,1,0]],all_hier_df[all_hier_df.sig_network.isin([\"rat\"])].index,  annotations=None, stat=\"OR\", filter_stat=\"OR_p\", \n",
    "                       color_range = [0, 5], MPO=MPO, vert = 1.5, horz=16, xlabel=\"annotation\", filter_th=0.05)"
   ]
  },
  {
   "cell_type": "code",
   "execution_count": null,
   "metadata": {},
   "outputs": [],
   "source": []
  },
  {
   "cell_type": "code",
   "execution_count": 424,
   "metadata": {
    "ExecuteTime": {
     "end_time": "2023-02-09T21:25:22.887912Z",
     "start_time": "2023-02-09T21:25:22.884636Z"
    }
   },
   "outputs": [
    {
     "data": {
      "text/plain": [
       "Index(['C2370', 'C2375', 'C2378', 'C2397', 'C2404', 'C2282', 'C2285', 'C2308',\n",
       "       'C2294'],\n",
       "      dtype='object')"
      ]
     },
     "execution_count": 424,
     "metadata": {},
     "output_type": "execute_result"
    }
   ],
   "source": [
    "all_hier_df[all_hier_df.sig_network==\"humanconserved\"].index"
   ]
  },
  {
   "cell_type": "code",
   "execution_count": 422,
   "metadata": {
    "ExecuteTime": {
     "end_time": "2023-02-09T21:24:07.226658Z",
     "start_time": "2023-02-09T21:24:07.213050Z"
    }
   },
   "outputs": [
    {
     "data": {
      "text/html": [
       "<div>\n",
       "<style scoped>\n",
       "    .dataframe tbody tr th:only-of-type {\n",
       "        vertical-align: middle;\n",
       "    }\n",
       "\n",
       "    .dataframe tbody tr th {\n",
       "        vertical-align: top;\n",
       "    }\n",
       "\n",
       "    .dataframe thead th {\n",
       "        text-align: right;\n",
       "    }\n",
       "</style>\n",
       "<table border=\"1\" class=\"dataframe\">\n",
       "  <thead>\n",
       "    <tr style=\"text-align: right;\">\n",
       "      <th></th>\n",
       "      <th>CD_MemberList</th>\n",
       "      <th>CD_MemberList_Size</th>\n",
       "      <th>CD_Labeled</th>\n",
       "      <th>CD_MemberList_LogSize</th>\n",
       "      <th>CD_CommunityName</th>\n",
       "      <th>CD_AnnotatedMembers</th>\n",
       "      <th>CD_AnnotatedMembers_Size</th>\n",
       "      <th>CD_AnnotatedMembers_Overlap</th>\n",
       "      <th>CD_AnnotatedMembers_Pvalue</th>\n",
       "      <th>HiDeF_persistence</th>\n",
       "      <th>...</th>\n",
       "      <th>p_rat</th>\n",
       "      <th>p_human</th>\n",
       "      <th>p_conserved</th>\n",
       "      <th>q_rat</th>\n",
       "      <th>q_human</th>\n",
       "      <th>q_conserved</th>\n",
       "      <th>sig_rat</th>\n",
       "      <th>sig_human</th>\n",
       "      <th>sig_conserved</th>\n",
       "      <th>sig_network</th>\n",
       "    </tr>\n",
       "  </thead>\n",
       "  <tbody>\n",
       "    <tr>\n",
       "      <th>C2368</th>\n",
       "      <td>[EGFR, ZFYVE28, NUMBL, SH3TC2, EHD4]</td>\n",
       "      <td>5</td>\n",
       "      <td>False</td>\n",
       "      <td>2.322</td>\n",
       "      <td></td>\n",
       "      <td></td>\n",
       "      <td>0</td>\n",
       "      <td>0.0</td>\n",
       "      <td>0.0</td>\n",
       "      <td>13</td>\n",
       "      <td>...</td>\n",
       "      <td>7.669279e-04</td>\n",
       "      <td>0.565555</td>\n",
       "      <td>1.090141e-02</td>\n",
       "      <td>2.101382e-03</td>\n",
       "      <td>0.752243</td>\n",
       "      <td>2.928417e-02</td>\n",
       "      <td>1</td>\n",
       "      <td>0</td>\n",
       "      <td>1</td>\n",
       "      <td>ratconserved</td>\n",
       "    </tr>\n",
       "    <tr>\n",
       "      <th>C2273</th>\n",
       "      <td>[OR8S1, OR10A5, GRK5, F2R, TMEM236, OR6B2, QRF...</td>\n",
       "      <td>72</td>\n",
       "      <td>False</td>\n",
       "      <td>6.17</td>\n",
       "      <td></td>\n",
       "      <td></td>\n",
       "      <td>0</td>\n",
       "      <td>0.0</td>\n",
       "      <td>0.0</td>\n",
       "      <td>54</td>\n",
       "      <td>...</td>\n",
       "      <td>2.433504e-14</td>\n",
       "      <td>0.307143</td>\n",
       "      <td>4.617151e-10</td>\n",
       "      <td>2.222600e-13</td>\n",
       "      <td>0.452458</td>\n",
       "      <td>4.518212e-09</td>\n",
       "      <td>1</td>\n",
       "      <td>0</td>\n",
       "      <td>1</td>\n",
       "      <td>ratconserved</td>\n",
       "    </tr>\n",
       "    <tr>\n",
       "      <th>C2288</th>\n",
       "      <td>[TMEM236, FFAR4, GAL, PRLHR, POMC, PTH2R, ADCY...</td>\n",
       "      <td>24</td>\n",
       "      <td>False</td>\n",
       "      <td>4.585</td>\n",
       "      <td></td>\n",
       "      <td></td>\n",
       "      <td>0</td>\n",
       "      <td>0.0</td>\n",
       "      <td>0.0</td>\n",
       "      <td>18</td>\n",
       "      <td>...</td>\n",
       "      <td>3.706075e-08</td>\n",
       "      <td>0.303851</td>\n",
       "      <td>2.868490e-03</td>\n",
       "      <td>2.115551e-07</td>\n",
       "      <td>0.452458</td>\n",
       "      <td>1.091620e-02</td>\n",
       "      <td>1</td>\n",
       "      <td>0</td>\n",
       "      <td>1</td>\n",
       "      <td>ratconserved</td>\n",
       "    </tr>\n",
       "    <tr>\n",
       "      <th>C2327</th>\n",
       "      <td>[ADCYAP1, GPR176, MC4R, FFAR4, ADORA2A, VIPR1,...</td>\n",
       "      <td>10</td>\n",
       "      <td>False</td>\n",
       "      <td>3.322</td>\n",
       "      <td></td>\n",
       "      <td></td>\n",
       "      <td>0</td>\n",
       "      <td>0.0</td>\n",
       "      <td>0.0</td>\n",
       "      <td>6</td>\n",
       "      <td>...</td>\n",
       "      <td>2.163713e-05</td>\n",
       "      <td>0.811400</td>\n",
       "      <td>2.395092e-03</td>\n",
       "      <td>8.011588e-05</td>\n",
       "      <td>0.882236</td>\n",
       "      <td>9.943259e-03</td>\n",
       "      <td>1</td>\n",
       "      <td>0</td>\n",
       "      <td>1</td>\n",
       "      <td>ratconserved</td>\n",
       "    </tr>\n",
       "  </tbody>\n",
       "</table>\n",
       "<p>4 rows × 25 columns</p>\n",
       "</div>"
      ],
      "text/plain": [
       "                                           CD_MemberList  CD_MemberList_Size  \\\n",
       "C2368               [EGFR, ZFYVE28, NUMBL, SH3TC2, EHD4]                   5   \n",
       "C2273  [OR8S1, OR10A5, GRK5, F2R, TMEM236, OR6B2, QRF...                  72   \n",
       "C2288  [TMEM236, FFAR4, GAL, PRLHR, POMC, PTH2R, ADCY...                  24   \n",
       "C2327  [ADCYAP1, GPR176, MC4R, FFAR4, ADORA2A, VIPR1,...                  10   \n",
       "\n",
       "      CD_Labeled CD_MemberList_LogSize CD_CommunityName CD_AnnotatedMembers  \\\n",
       "C2368      False                 2.322                                        \n",
       "C2273      False                  6.17                                        \n",
       "C2288      False                 4.585                                        \n",
       "C2327      False                 3.322                                        \n",
       "\n",
       "      CD_AnnotatedMembers_Size CD_AnnotatedMembers_Overlap  \\\n",
       "C2368                        0                         0.0   \n",
       "C2273                        0                         0.0   \n",
       "C2288                        0                         0.0   \n",
       "C2327                        0                         0.0   \n",
       "\n",
       "      CD_AnnotatedMembers_Pvalue  HiDeF_persistence  ...         p_rat  \\\n",
       "C2368                        0.0                 13  ...  7.669279e-04   \n",
       "C2273                        0.0                 54  ...  2.433504e-14   \n",
       "C2288                        0.0                 18  ...  3.706075e-08   \n",
       "C2327                        0.0                  6  ...  2.163713e-05   \n",
       "\n",
       "        p_human   p_conserved         q_rat   q_human   q_conserved  sig_rat  \\\n",
       "C2368  0.565555  1.090141e-02  2.101382e-03  0.752243  2.928417e-02        1   \n",
       "C2273  0.307143  4.617151e-10  2.222600e-13  0.452458  4.518212e-09        1   \n",
       "C2288  0.303851  2.868490e-03  2.115551e-07  0.452458  1.091620e-02        1   \n",
       "C2327  0.811400  2.395092e-03  8.011588e-05  0.882236  9.943259e-03        1   \n",
       "\n",
       "       sig_human  sig_conserved   sig_network  \n",
       "C2368          0              1  ratconserved  \n",
       "C2273          0              1  ratconserved  \n",
       "C2288          0              1  ratconserved  \n",
       "C2327          0              1  ratconserved  \n",
       "\n",
       "[4 rows x 25 columns]"
      ]
     },
     "execution_count": 422,
     "metadata": {},
     "output_type": "execute_result"
    }
   ],
   "source": [
    "all_hier_df.loc[[\"C2368\", \"C2273\", \"C2288\", \"C2327\"]]"
   ]
  },
  {
   "cell_type": "code",
   "execution_count": 370,
   "metadata": {
    "ExecuteTime": {
     "end_time": "2023-02-09T21:06:27.173862Z",
     "start_time": "2023-02-09T21:06:27.168468Z"
    }
   },
   "outputs": [
    {
     "data": {
      "text/html": [
       "<div>\n",
       "<style scoped>\n",
       "    .dataframe tbody tr th:only-of-type {\n",
       "        vertical-align: middle;\n",
       "    }\n",
       "\n",
       "    .dataframe tbody tr th {\n",
       "        vertical-align: top;\n",
       "    }\n",
       "\n",
       "    .dataframe thead th {\n",
       "        text-align: right;\n",
       "    }\n",
       "</style>\n",
       "<table border=\"1\" class=\"dataframe\">\n",
       "  <thead>\n",
       "    <tr style=\"text-align: right;\">\n",
       "      <th></th>\n",
       "      <th>observed</th>\n",
       "      <th>total</th>\n",
       "      <th>OR</th>\n",
       "      <th>OR_p</th>\n",
       "      <th>OR_CI_lower</th>\n",
       "      <th>OR_CI_upper</th>\n",
       "      <th>hyper_p</th>\n",
       "      <th>sig_5e6</th>\n",
       "      <th>description</th>\n",
       "      <th>size</th>\n",
       "      <th>name</th>\n",
       "      <th>annotation</th>\n",
       "    </tr>\n",
       "  </thead>\n",
       "  <tbody>\n",
       "  </tbody>\n",
       "</table>\n",
       "</div>"
      ],
      "text/plain": [
       "Empty DataFrame\n",
       "Columns: [observed, total, OR, OR_p, OR_CI_lower, OR_CI_upper, hyper_p, sig_5e6, description, size, name, annotation]\n",
       "Index: []"
      ]
     },
     "execution_count": 370,
     "metadata": {},
     "output_type": "execute_result"
    }
   ],
   "source": [
    "body_size_enrichments[body_size_enrichments[\"name\"]==\"C6043\"]"
   ]
  },
  {
   "cell_type": "code",
   "execution_count": 252,
   "metadata": {
    "ExecuteTime": {
     "end_time": "2023-02-09T19:30:28.223128Z",
     "start_time": "2023-02-09T19:30:28.170375Z"
    }
   },
   "outputs": [],
   "source": [
    "from plotting_functions import *"
   ]
  },
  {
   "cell_type": "code",
   "execution_count": 279,
   "metadata": {
    "ExecuteTime": {
     "end_time": "2023-02-09T19:39:07.672306Z",
     "start_time": "2023-02-09T19:39:07.637147Z"
    }
   },
   "outputs": [],
   "source": [
    "??plot_community_heatmap"
   ]
  },
  {
   "cell_type": "markdown",
   "metadata": {},
   "source": [
    "## <a id='toc5_8_'></a>[END ADDED](#toc0_)"
   ]
  },
  {
   "cell_type": "markdown",
   "metadata": {},
   "source": [
    "## <a id='toc5_9_'></a>[ADDED Table 7 Analysis](#toc0_)"
   ]
  },
  {
   "cell_type": "code",
   "execution_count": 447,
   "metadata": {
    "ExecuteTime": {
     "end_time": "2023-02-09T23:13:23.101752Z",
     "start_time": "2023-02-09T23:13:23.046141Z"
    }
   },
   "outputs": [],
   "source": [
    "table7 = pd.read_csv(\"/cellar/users/snwright/Data/Transfer/rat/table7.tsv\",sep=\"\\t\")"
   ]
  },
  {
   "cell_type": "code",
   "execution_count": 453,
   "metadata": {
    "ExecuteTime": {
     "end_time": "2023-02-09T23:16:09.812932Z",
     "start_time": "2023-02-09T23:16:09.806319Z"
    }
   },
   "outputs": [
    {
     "data": {
      "text/html": [
       "<div>\n",
       "<style scoped>\n",
       "    .dataframe tbody tr th:only-of-type {\n",
       "        vertical-align: middle;\n",
       "    }\n",
       "\n",
       "    .dataframe tbody tr th {\n",
       "        vertical-align: top;\n",
       "    }\n",
       "\n",
       "    .dataframe thead th {\n",
       "        text-align: right;\n",
       "    }\n",
       "</style>\n",
       "<table border=\"1\" class=\"dataframe\">\n",
       "  <thead>\n",
       "    <tr style=\"text-align: right;\">\n",
       "      <th></th>\n",
       "      <th>NPS_r</th>\n",
       "      <th>NPS_h</th>\n",
       "      <th>NPS_hr</th>\n",
       "      <th>subgraph</th>\n",
       "      <th>rat_seed</th>\n",
       "      <th>human_seed</th>\n",
       "      <th>overlapping_seeds</th>\n",
       "    </tr>\n",
       "    <tr>\n",
       "      <th>gene</th>\n",
       "      <th></th>\n",
       "      <th></th>\n",
       "      <th></th>\n",
       "      <th></th>\n",
       "      <th></th>\n",
       "      <th></th>\n",
       "      <th></th>\n",
       "    </tr>\n",
       "  </thead>\n",
       "  <tbody>\n",
       "    <tr>\n",
       "      <th>A1BG</th>\n",
       "      <td>0.125314</td>\n",
       "      <td>-0.488576</td>\n",
       "      <td>-0.061226</td>\n",
       "      <td>PCNet</td>\n",
       "      <td>0</td>\n",
       "      <td>0</td>\n",
       "      <td>0</td>\n",
       "    </tr>\n",
       "    <tr>\n",
       "      <th>A1CF</th>\n",
       "      <td>2.540447</td>\n",
       "      <td>2.186042</td>\n",
       "      <td>5.553524</td>\n",
       "      <td>Conserved</td>\n",
       "      <td>0</td>\n",
       "      <td>0</td>\n",
       "      <td>0</td>\n",
       "    </tr>\n",
       "    <tr>\n",
       "      <th>A2M</th>\n",
       "      <td>0.651845</td>\n",
       "      <td>-0.581848</td>\n",
       "      <td>-0.379275</td>\n",
       "      <td>PCNet</td>\n",
       "      <td>0</td>\n",
       "      <td>0</td>\n",
       "      <td>0</td>\n",
       "    </tr>\n",
       "    <tr>\n",
       "      <th>A2ML1</th>\n",
       "      <td>-1.315517</td>\n",
       "      <td>-1.108608</td>\n",
       "      <td>1.458393</td>\n",
       "      <td>PCNet</td>\n",
       "      <td>0</td>\n",
       "      <td>0</td>\n",
       "      <td>0</td>\n",
       "    </tr>\n",
       "    <tr>\n",
       "      <th>A3GALT2</th>\n",
       "      <td>-0.546107</td>\n",
       "      <td>-0.243477</td>\n",
       "      <td>0.132964</td>\n",
       "      <td>PCNet</td>\n",
       "      <td>0</td>\n",
       "      <td>1</td>\n",
       "      <td>0</td>\n",
       "    </tr>\n",
       "  </tbody>\n",
       "</table>\n",
       "</div>"
      ],
      "text/plain": [
       "            NPS_r     NPS_h    NPS_hr   subgraph  rat_seed  human_seed  \\\n",
       "gene                                                                     \n",
       "A1BG     0.125314 -0.488576 -0.061226      PCNet         0           0   \n",
       "A1CF     2.540447  2.186042  5.553524  Conserved         0           0   \n",
       "A2M      0.651845 -0.581848 -0.379275      PCNet         0           0   \n",
       "A2ML1   -1.315517 -1.108608  1.458393      PCNet         0           0   \n",
       "A3GALT2 -0.546107 -0.243477  0.132964      PCNet         0           1   \n",
       "\n",
       "         overlapping_seeds  \n",
       "gene                        \n",
       "A1BG                     0  \n",
       "A1CF                     0  \n",
       "A2M                      0  \n",
       "A2ML1                    0  \n",
       "A3GALT2                  0  "
      ]
     },
     "execution_count": 453,
     "metadata": {},
     "output_type": "execute_result"
    }
   ],
   "source": [
    "data.head()"
   ]
  },
  {
   "cell_type": "code",
   "execution_count": 454,
   "metadata": {
    "ExecuteTime": {
     "end_time": "2023-02-09T23:16:42.855008Z",
     "start_time": "2023-02-09T23:16:41.151714Z"
    }
   },
   "outputs": [],
   "source": [
    "table7[\"Network\"] = table7.gene.apply(lambda x: data.loc[x].subgraph)"
   ]
  },
  {
   "cell_type": "code",
   "execution_count": 479,
   "metadata": {
    "ExecuteTime": {
     "end_time": "2023-02-09T23:33:29.328198Z",
     "start_time": "2023-02-09T23:33:29.323891Z"
    }
   },
   "outputs": [],
   "source": [
    "gene_counts = table7.groupby(\"Network\").InMGD.sum()"
   ]
  },
  {
   "cell_type": "code",
   "execution_count": 467,
   "metadata": {
    "ExecuteTime": {
     "end_time": "2023-02-09T23:21:13.548710Z",
     "start_time": "2023-02-09T23:21:13.544561Z"
    }
   },
   "outputs": [
    {
     "data": {
      "text/plain": [
       "Network\n",
       "PCNet         0.219094\n",
       "Conserved     0.277017\n",
       "Human-Only    0.268108\n",
       "Rat-Only      0.220930\n",
       "dtype: float64"
      ]
     },
     "execution_count": 467,
     "metadata": {},
     "output_type": "execute_result"
    }
   ],
   "source": [
    "plot_df[[\"PCNet\", \"Conserved\", \"Human-Specific\", \"Rat-Specific\"]]"
   ]
  },
  {
   "cell_type": "code",
   "execution_count": 484,
   "metadata": {
    "ExecuteTime": {
     "end_time": "2023-02-09T23:36:33.577478Z",
     "start_time": "2023-02-09T23:36:33.571172Z"
    }
   },
   "outputs": [],
   "source": [
    "def plot_validation_bars(data, gene_counts, ylabel='', idx=[\"Both\", \"Human\", \"Rat\", \"Network\"],\n",
    "                        labels = [\"Human\\n& Rat\", \"Human\\nSeed\", \"Rat\\nSeed\", \"Network\\nImplicated\"], ax=None):\n",
    "    data = data[idx]\n",
    "    gene_counts = gene_counts[idx]\n",
    "    color_map = {\"Both\":\"#0051a2\", \"Human\":\"#85c0f9\", \"Rat\":\"#a95aa1\",\"Network\":\"#f5793a\", \"PCNet\": \"lightgrey\", \n",
    "                 \"All MGD\":'lightgrey',  \"Conserved\":'peachpuff', \"Human-Specific\":'powderblue', \"Rat-Specific\":'plum'}\n",
    "    if ax is None:\n",
    "        _ = plt.figure(figsize=(3,2))\n",
    "        ax = plt.gca()\n",
    "    try:\n",
    "        sns.barplot(x = data.index, y=data.values,palette=color_map, ax=ax)\n",
    "    except:\n",
    "        sns.barplot(x = data.index, y=data.values, ax=ax)\n",
    "    plt.ylim((0, 1))\n",
    "    ax.tick_params(pad=1, labelsize=7)\n",
    "    ax.set_xlabel(\"Gene Source\", fontsize=7)\n",
    "    plt.sca(ax)\n",
    "    plt.yticks([0,0.2,0.4, 0.6, 0.8, 1], labels=[\"0%\", \"20%\", \"40%\", \"60%\", \"80%\", \"100%\"])\n",
    "    ax.set_xticklabels(labels)\n",
    "    ax.set_ylabel(ylabel, fontsize=7, labelpad=0)\n",
    "    for i, bar in enumerate(data.index):\n",
    "        ax.annotate(\"(\"+str(int(data[bar]*gene_counts[bar]))+\")\", xy=(i, data[bar]+0.02), ha='center', fontsize=7)\n",
    "        ax.annotate(str(round(100*data[bar], 1))+\"%\", xy=(i, data[bar]+0.08), ha='center', fontsize=7)"
   ]
  },
  {
   "cell_type": "code",
   "execution_count": 499,
   "metadata": {
    "ExecuteTime": {
     "end_time": "2023-02-11T18:11:37.209992Z",
     "start_time": "2023-02-11T18:11:36.771875Z"
    },
    "scrolled": true
   },
   "outputs": [
    {
     "data": {
      "image/png": "[encoded data removed]",
      "text/plain": [
       "<Figure size 216x144 with 1 Axes>"
      ]
     },
     "metadata": {
      "needs_background": "light"
     },
     "output_type": "display_data"
    }
   ],
   "source": [
    "plot_df = table7.groupby(\"Network\")[\"MGD:BodySize\"].sum()/table7.groupby(\"Network\").InMGD.sum()\n",
    "plot_validation_bars(plot_df, gene_counts, idx=[\"PCNet\", \"Conserved\", \"Human-Specific\", \"Rat-Specific\"], \n",
    "                     labels = [\"PCNet\", \"Conserved\\nNetwork\", \"Human-Specific\", \"Rat-Specific\"])"
   ]
  },
  {
   "cell_type": "code",
   "execution_count": 486,
   "metadata": {
    "ExecuteTime": {
     "end_time": "2023-02-09T23:37:52.282936Z",
     "start_time": "2023-02-09T23:37:52.274765Z"
    }
   },
   "outputs": [
    {
     "data": {
      "text/html": [
       "<div>\n",
       "<style scoped>\n",
       "    .dataframe tbody tr th:only-of-type {\n",
       "        vertical-align: middle;\n",
       "    }\n",
       "\n",
       "    .dataframe tbody tr th {\n",
       "        vertical-align: top;\n",
       "    }\n",
       "\n",
       "    .dataframe thead th {\n",
       "        text-align: right;\n",
       "    }\n",
       "</style>\n",
       "<table border=\"1\" class=\"dataframe\">\n",
       "  <thead>\n",
       "    <tr style=\"text-align: right;\">\n",
       "      <th></th>\n",
       "      <th>gene</th>\n",
       "      <th>rat_seed</th>\n",
       "      <th>human_seed</th>\n",
       "      <th>both_seed</th>\n",
       "      <th>network_implicated</th>\n",
       "      <th>Conserved_Source</th>\n",
       "      <th>MP:0001697</th>\n",
       "      <th>MP:0010866</th>\n",
       "      <th>MP:0003956</th>\n",
       "      <th>MP:0005451</th>\n",
       "      <th>MP:0001261</th>\n",
       "      <th>MP:0020182</th>\n",
       "      <th>MGD:BodySize</th>\n",
       "      <th>MGD:Obesity/BMI</th>\n",
       "      <th>InMGD</th>\n",
       "      <th>Network</th>\n",
       "    </tr>\n",
       "  </thead>\n",
       "  <tbody>\n",
       "    <tr>\n",
       "      <th>0</th>\n",
       "      <td>UBE2Q1</td>\n",
       "      <td>0</td>\n",
       "      <td>0</td>\n",
       "      <td>0</td>\n",
       "      <td>1</td>\n",
       "      <td>NaN</td>\n",
       "      <td>0</td>\n",
       "      <td>0</td>\n",
       "      <td>0</td>\n",
       "      <td>0</td>\n",
       "      <td>0</td>\n",
       "      <td>0</td>\n",
       "      <td>0</td>\n",
       "      <td>0</td>\n",
       "      <td>1</td>\n",
       "      <td>PCNet</td>\n",
       "    </tr>\n",
       "    <tr>\n",
       "      <th>1</th>\n",
       "      <td>RNF14</td>\n",
       "      <td>0</td>\n",
       "      <td>0</td>\n",
       "      <td>0</td>\n",
       "      <td>1</td>\n",
       "      <td>NaN</td>\n",
       "      <td>0</td>\n",
       "      <td>0</td>\n",
       "      <td>0</td>\n",
       "      <td>0</td>\n",
       "      <td>0</td>\n",
       "      <td>0</td>\n",
       "      <td>0</td>\n",
       "      <td>0</td>\n",
       "      <td>1</td>\n",
       "      <td>PCNet</td>\n",
       "    </tr>\n",
       "    <tr>\n",
       "      <th>2</th>\n",
       "      <td>UBE2Q2</td>\n",
       "      <td>0</td>\n",
       "      <td>1</td>\n",
       "      <td>0</td>\n",
       "      <td>0</td>\n",
       "      <td>NaN</td>\n",
       "      <td>0</td>\n",
       "      <td>0</td>\n",
       "      <td>0</td>\n",
       "      <td>0</td>\n",
       "      <td>0</td>\n",
       "      <td>0</td>\n",
       "      <td>0</td>\n",
       "      <td>0</td>\n",
       "      <td>0</td>\n",
       "      <td>PCNet</td>\n",
       "    </tr>\n",
       "    <tr>\n",
       "      <th>3</th>\n",
       "      <td>TMCO1</td>\n",
       "      <td>0</td>\n",
       "      <td>0</td>\n",
       "      <td>0</td>\n",
       "      <td>1</td>\n",
       "      <td>NaN</td>\n",
       "      <td>0</td>\n",
       "      <td>0</td>\n",
       "      <td>1</td>\n",
       "      <td>1</td>\n",
       "      <td>0</td>\n",
       "      <td>0</td>\n",
       "      <td>1</td>\n",
       "      <td>0</td>\n",
       "      <td>1</td>\n",
       "      <td>PCNet</td>\n",
       "    </tr>\n",
       "    <tr>\n",
       "      <th>4</th>\n",
       "      <td>UBAC1</td>\n",
       "      <td>0</td>\n",
       "      <td>0</td>\n",
       "      <td>0</td>\n",
       "      <td>1</td>\n",
       "      <td>NaN</td>\n",
       "      <td>0</td>\n",
       "      <td>0</td>\n",
       "      <td>0</td>\n",
       "      <td>0</td>\n",
       "      <td>0</td>\n",
       "      <td>0</td>\n",
       "      <td>0</td>\n",
       "      <td>0</td>\n",
       "      <td>1</td>\n",
       "      <td>PCNet</td>\n",
       "    </tr>\n",
       "  </tbody>\n",
       "</table>\n",
       "</div>"
      ],
      "text/plain": [
       "     gene  rat_seed  human_seed  both_seed  network_implicated  \\\n",
       "0  UBE2Q1         0           0          0                   1   \n",
       "1   RNF14         0           0          0                   1   \n",
       "2  UBE2Q2         0           1          0                   0   \n",
       "3   TMCO1         0           0          0                   1   \n",
       "4   UBAC1         0           0          0                   1   \n",
       "\n",
       "  Conserved_Source  MP:0001697  MP:0010866  MP:0003956  MP:0005451  \\\n",
       "0              NaN           0           0           0           0   \n",
       "1              NaN           0           0           0           0   \n",
       "2              NaN           0           0           0           0   \n",
       "3              NaN           0           0           1           1   \n",
       "4              NaN           0           0           0           0   \n",
       "\n",
       "   MP:0001261  MP:0020182  MGD:BodySize  MGD:Obesity/BMI  InMGD Network  \n",
       "0           0           0             0                0      1   PCNet  \n",
       "1           0           0             0                0      1   PCNet  \n",
       "2           0           0             0                0      0   PCNet  \n",
       "3           0           0             1                0      1   PCNet  \n",
       "4           0           0             0                0      1   PCNet  "
      ]
     },
     "execution_count": 486,
     "metadata": {},
     "output_type": "execute_result"
    }
   ],
   "source": [
    "results = {}\n",
    "for comm in BMI_hier_df.index:\n",
    "    genes = BMI_hier_df.loc[comm].CD_MemberList\n",
    "\n",
    "    comm_df = table7[table7.gene.isin(genes)]\n",
    "    results[comm] = comm_df.groupby(\"Network\")[\"MGD:BodySize\"].sum()/comm_df.groupby(\"Network\").InMGD.sum()\n",
    "results = pd.DataFrame.from_dict(results).T\n",
    "results[\"mean\"] = results.apply(lambda x: np.nanmean([x.Rat, x.Both, x.Human, x.Network]), axis=1)\n",
    "results = results.sort_values(by=\"mean\", ascending=False)"
   ]
  },
  {
   "cell_type": "code",
   "execution_count": 473,
   "metadata": {
    "ExecuteTime": {
     "end_time": "2023-02-09T23:24:35.816917Z",
     "start_time": "2023-02-09T23:24:35.811634Z"
    }
   },
   "outputs": [
    {
     "data": {
      "text/plain": [
       "Network\n",
       "Conserved      182\n",
       "Human-Only     248\n",
       "PCNet         3626\n",
       "Rat-Only       152\n",
       "Name: MGD:BodySize, dtype: int64"
      ]
     },
     "execution_count": 473,
     "metadata": {},
     "output_type": "execute_result"
    }
   ],
   "source": [
    "table7.groupby(\"Network\")[\"MGD:BodySize\"].sum()"
   ]
  },
  {
   "cell_type": "code",
   "execution_count": 475,
   "metadata": {
    "ExecuteTime": {
     "end_time": "2023-02-09T23:27:13.377886Z",
     "start_time": "2023-02-09T23:27:13.372358Z"
    }
   },
   "outputs": [
    {
     "data": {
      "text/plain": [
       "Conserved_Source\n",
       "Both        6\n",
       "Human      57\n",
       "Network    92\n",
       "Rat        27\n",
       "Name: MGD:BodySize, dtype: int64"
      ]
     },
     "execution_count": 475,
     "metadata": {},
     "output_type": "execute_result"
    }
   ],
   "source": [
    "table7.groupby(\"Conserved_Source\")[\"MGD:BodySize\"].sum()"
   ]
  },
  {
   "cell_type": "code",
   "execution_count": 477,
   "metadata": {
    "ExecuteTime": {
     "end_time": "2023-02-09T23:32:24.684905Z",
     "start_time": "2023-02-09T23:32:24.679745Z"
    }
   },
   "outputs": [
    {
     "data": {
      "text/plain": [
       "Network\n",
       "Conserved       472\n",
       "Human-Only      654\n",
       "PCNet         10809\n",
       "Rat-Only        474\n",
       "Name: InMGD, dtype: int64"
      ]
     },
     "execution_count": 477,
     "metadata": {},
     "output_type": "execute_result"
    }
   ],
   "source": [
    "table7.groupby(\"Network\").InMGD.sum()"
   ]
  },
  {
   "cell_type": "code",
   "execution_count": 462,
   "metadata": {
    "ExecuteTime": {
     "end_time": "2023-02-09T23:19:28.633367Z",
     "start_time": "2023-02-09T23:19:28.630171Z"
    }
   },
   "outputs": [
    {
     "data": {
      "text/plain": [
       "Network\n",
       "Conserved     0.277017\n",
       "Human-Only    0.268108\n",
       "PCNet         0.219094\n",
       "Rat-Only      0.220930\n",
       "dtype: float64"
      ]
     },
     "execution_count": 462,
     "metadata": {},
     "output_type": "execute_result"
    }
   ],
   "source": [
    "plot_df"
   ]
  },
  {
   "cell_type": "markdown",
   "metadata": {},
   "source": [
    "## <a id='toc5_10_'></a>[END ADDED](#toc0_)"
   ]
  },
  {
   "cell_type": "markdown",
   "metadata": {},
   "source": [
    "# <a id='toc6_'></a>[Scaled Figures](#toc0_)"
   ]
  },
  {
   "cell_type": "code",
   "execution_count": 537,
   "metadata": {
    "ExecuteTime": {
     "end_time": "2023-02-15T19:06:05.102509Z",
     "start_time": "2023-02-15T19:06:01.833471Z"
    }
   },
   "outputs": [
    {
     "data": {
      "image/png": "[encoded data removed]",
      "text/plain": [
       "<Figure size 468x144 with 3 Axes>"
      ]
     },
     "metadata": {
      "needs_background": "light"
     },
     "output_type": "display_data"
    }
   ],
   "source": [
    "fig, [ax1, ax2, ax3] = plt.subplots(nrows=1, ncols=3, figsize=(6.5, 2))\n",
    "plot_species_nps(data, \"conserved\", conserved, ax1)\n",
    "plot_species_nps(data, \"rat\", rat_only, ax2)\n",
    "plot_species_nps(data, \"human\", human_only, ax3)\n",
    "ax1.set_title(\"a\", loc=\"left\", fontsize=12)\n",
    "ax2.set_title(\"b\", loc=\"left\", fontsize=12)\n",
    "ax3.set_title(\"c\", loc=\"left\", fontsize=12)\n",
    "ax1.set_xticklabels([])\n",
    "ax2.set_xticklabels([])\n",
    "ax3.set_xticklabels([])\n",
    "ax1.set_yticklabels([])\n",
    "ax2.set_yticklabels([])\n",
    "ax3.set_yticklabels([])\n",
    "#plt.savefig(FIGDIR + \"definition_of_networks.png\", dpi=400, bbox_inches=\"tight\")\n",
    "plt.savefig(\"/cellar/users/snwright/Data/Transfer/rat/UpdatedFigures/resub_threshold_plots_no_axis labels.png\", dpi=600, bbox_inches=\"tight\")"
   ]
  },
  {
   "cell_type": "code",
   "execution_count": 65,
   "metadata": {
    "ExecuteTime": {
     "end_time": "2022-09-08T19:44:19.937195Z",
     "start_time": "2022-09-08T19:44:19.361181Z"
    }
   },
   "outputs": [
    {
     "data": {
      "image/png": "[encoded data removed]",
      "text/plain": [
       "<Figure size 180x144 with 1 Axes>"
      ]
     },
     "metadata": {
      "needs_background": "light"
     },
     "output_type": "display_data"
    }
   ],
   "source": [
    "fig, ax = plt.subplots(ncols=1, nrows=1, figsize=(2.5,2))\n",
    "subgraph_stats.loc[[\"Conserved\", \"Rat-Specific\", \"Human-Specific\"]].plot(kind=\"bar\", stacked=True, ax=ax,\n",
    "                                                                 color=[\"#85c0f9\", \"#0051a2\",\"#a95aa1\", \"#F5793a\", \"#e5a9df\", \"#c9e1f8\"])\n",
    "plt.legend(ncol=2, handletextpad=0.3, labelspacing=0.2, borderpad=0.4, columnspacing=0.5, fontsize=7, frameon=False)\n",
    "#plt.ylim((0, 1300))\n",
    "ax.get_legend().remove()\n",
    "plt.xticks(fontsize=7)\n",
    "plt.yticks([0,200, 400, 600, 800, 1000],fontsize=7)\n",
    "ax.set_xticklabels(labels=[\"Conserved\", \"Rat-Sepcific\", \"Human-Specific\"])\n",
    "plt.xlabel(None)\n",
    "ax.tick_params(axis='x', pad=1, length=0)\n",
    "ax.tick_params(axis='y', pad=1, length=2)\n",
    "plt.ylabel(\"Number of Genes\", fontsize=7)\n",
    "plt.savefig(FIGDIR+\"species_specific_bars_scaled.png\",  dpi=400, bbox_inches=\"tight\")"
   ]
  },
  {
   "cell_type": "code",
   "execution_count": 66,
   "metadata": {
    "ExecuteTime": {
     "end_time": "2022-09-08T19:44:21.735738Z",
     "start_time": "2022-09-08T19:44:19.938112Z"
    }
   },
   "outputs": [
    {
     "data": {
      "image/png": "[encoded data removed]",
      "text/plain": [
       "<Figure size 360x144 with 1 Axes>"
      ]
     },
     "metadata": {
      "needs_background": "light"
     },
     "output_type": "display_data"
    }
   ],
   "source": [
    "human_te.columns = [\"Conserved\", \"Rat-Specific\", \"Human-Specific\"]\n",
    "human_te = human_te.sort_values(by=[\"Conserved\", \"Rat-Specific\"], ascending=False)\n",
    "fig, ax = plt.subplots(figsize=(5,2))\n",
    "human_te.plot.bar(ax=ax, width=0.8, color=[\"#f5793a\", \"#a95aa1\", \"#85c0f9\"], fontsize=7)\n",
    "ax.set_ylabel(\"-log10(q)\", fontsize=7)\n",
    "ax.set_xlabel(None)\n",
    "plt.hlines(-1 *np.log10(0.05),-0.5, 24.5, color=\"black\", linestyle=\"dashed\", linewidth=0.5)\n",
    "plt.legend(fontsize=7, frameon=False,handletextpad=0.3, labelspacing=0.2 )\n",
    "plt.tick_params(axis='x', pad=1, length=0)\n",
    "plt.tick_params(axis='y', pad=1, length=2)\n",
    "plt.yticks([0,2,4,6])\n",
    "plt.savefig(FIGDIR+\"tissue_enrichment_human_GTEx_scaled.png\", bbox_inches=\"tight\", dpi=400)\n"
   ]
  },
  {
   "cell_type": "code",
   "execution_count": 67,
   "metadata": {
    "ExecuteTime": {
     "end_time": "2022-09-08T19:44:23.304424Z",
     "start_time": "2022-09-08T19:44:21.736638Z"
    }
   },
   "outputs": [
    {
     "data": {
      "image/png": "[encoded data removed]",
      "text/plain": [
       "<Figure size 360x144 with 1 Axes>"
      ]
     },
     "metadata": {
      "needs_background": "light"
     },
     "output_type": "display_data"
    }
   ],
   "source": [
    "mouse_te.columns = [\"Conserved\", \"Rat-Specific\", \"Human-Specific\"]\n",
    "mouse_te = mouse_te.sort_values(by=[\"Conserved\", \"Rat-Specific\", \"Human-Specific\"], ascending=False)\n",
    "fig, ax = plt.subplots(figsize=(5,2))\n",
    "mouse_te.plot.bar(ax=ax, width=0.8, color=[\"#f5793a\", \"#a95aa1\", \"#85c0f9\"], fontsize=7)\n",
    "ax.set_ylabel(\"-log10(q)\", fontsize=7)\n",
    "ax.set_xlabel(None)\n",
    "plt.hlines(-1 *np.log10(0.05),-0.5, 24.5, color=\"black\", linestyle=\"dashed\", linewidth=0.5)\n",
    "plt.legend(fontsize=7, frameon=False,handletextpad=0.3, labelspacing=0.2 )\n",
    "plt.tick_params(axis='x', pad=1, length=0)\n",
    "plt.tick_params(axis='y', pad=1, length=2)\n",
    "plt.yticks([0,1,2,3,4,5])\n",
    "#plt.title(\"Enrichment of Tissue-Specific Genes from mouse ENCODE\")\n",
    "plt.savefig(FIGDIR+\"tissue_enrichment_mouse_ENCODE_scaled.png\", bbox_inches=\"tight\", dpi=400)"
   ]
  }
 ],
 "metadata": {
  "celltoolbar": "Initialization Cell",
  "kernelspec": {
   "display_name": "rat_pub",
   "language": "python",
   "name": "python3"
  },
  "language_info": {
   "codemirror_mode": {
    "name": "ipython",
    "version": 3
   },
   "file_extension": ".py",
   "mimetype": "text/x-python",
   "name": "python",
   "nbconvert_exporter": "python",
   "pygments_lexer": "ipython3",
   "version": "3.9.13"
  },
  "toc": {
   "base_numbering": 1,
   "nav_menu": {},
   "number_sections": true,
   "sideBar": true,
   "skip_h1_title": false,
   "title_cell": "Table of Contents",
   "title_sidebar": "Contents",
   "toc_cell": false,
   "toc_position": {
    "height": "47.7135px",
    "left": "83px",
    "top": "111.125px",
    "width": "299.323px"
   },
   "toc_section_display": true,
   "toc_window_display": true
  },
  "varInspector": {
   "cols": {
    "lenName": 16,
    "lenType": 16,
    "lenVar": 40
   },
   "kernels_config": {
    "python": {
     "delete_cmd_postfix": "",
     "delete_cmd_prefix": "del ",
     "library": "var_list.py",
     "varRefreshCmd": "print(var_dic_list())"
    },
    "r": {
     "delete_cmd_postfix": ") ",
     "delete_cmd_prefix": "rm(",
     "library": "var_list.r",
     "varRefreshCmd": "cat(var_dic_list()) "
    }
   },
   "types_to_exclude": [
    "module",
    "function",
    "builtin_function_or_method",
    "instance",
    "_Feature"
   ],
   "window_display": false
  },
  "vscode": {
   "interpreter": {
    "hash": "eb788ec3ba05df980f1c4f03e807cc8f78f1f2809fc63f6ff165b0eb594b515c"
   }
  }
 },
 "nbformat": 4,
 "nbformat_minor": 2
}
