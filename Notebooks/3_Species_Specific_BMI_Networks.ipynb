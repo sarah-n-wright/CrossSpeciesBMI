{
 "cells": [
  {
   "cell_type": "markdown",
   "metadata": {},
   "source": [
    "# TODO\n",
    "\n",
    "* fix mouse ortholog gene lists used for tissue enrichment\n",
    "* test on another platform\n",
    "\n",
    "**DONE**\n",
    "* Write intro\n",
    "* test with `rerun_analysis = False`\n",
    "* test with `rerun_analysis = True`\n"
   ]
  },
  {
   "cell_type": "markdown",
   "metadata": {},
   "source": [
    "# Introduction\n",
    "\n",
    "This notebook analyses the proteins within the PCNet network that are proximal to only one of the two species BMI GWAS results. We examine the distribution of $NPS_r$ and $NPS_h$ scores for BMI to define thresholds for rat-specific and human-specific networks. We compare the tissue expression patterns of the species-specific network and the conserved BMI network. We then analyze these species-specific networks, along with the conserved network, in the context of a combined network of all proteins with high NPS in one or both species. \n",
    "\n",
    "**Figures produced in this notebook:**\n",
    "* Figure 6a - Scatterplot showing the definition of subnetworks based on NPS scores.\n",
    "* Figure 6b - Bar chart comparing the sources of genes in each of the subnetworks\n",
    "* Figure 6c - Human tissue gene expression results for each of the subnetworks\n",
    "* Figure 6d - Mouse tissue gene expression results for each of the subnetworks\n",
    "* Figure 6e - Data for this figure is generated in this notebook, the hierarchy figure was produced in Cytoscape\n",
    "\n",
    "**Note on re-running the analysis:**\n",
    "* If `rerun_analysis==True` the hierarchical community detection and annotation of the combined network will be repeated. Because this process is not deterministic the results will vary slightly from the study results. \n",
    "* If `rerun_analysis==False` the hierarchy will be loaded from file."
   ]
  },
  {
   "cell_type": "code",
   "execution_count": 81,
   "metadata": {
    "ExecuteTime": {
     "end_time": "2022-08-08T04:16:22.306235Z",
     "start_time": "2022-08-08T04:16:22.304703Z"
    }
   },
   "outputs": [],
   "source": [
    "rerun_analysis = False"
   ]
  },
  {
   "cell_type": "markdown",
   "metadata": {},
   "source": [
    "# Set Up"
   ]
  },
  {
   "cell_type": "markdown",
   "metadata": {},
   "source": [
    "## Libraries and paths"
   ]
  },
  {
   "cell_type": "code",
   "execution_count": 82,
   "metadata": {
    "ExecuteTime": {
     "end_time": "2022-08-08T04:16:22.368757Z",
     "start_time": "2022-08-08T04:16:22.308084Z"
    },
    "init_cell": true
   },
   "outputs": [],
   "source": [
    "import os\n",
    "import sys\n",
    "import pandas as pd\n",
    "import matplotlib.pyplot as plt\n",
    "import matplotlib\n",
    "import seaborn as sns\n",
    "import numpy as np\n",
    "from tqdm import tqdm\n",
    "import cdapsutil\n",
    "import ndex2\n",
    "from scipy.stats import hypergeom\n",
    "from statsmodels.stats.multitest import fdrcorrection\n",
    "from gprofiler import GProfiler\n",
    "gp = GProfiler(\"MyToolName/0.1\")"
   ]
  },
  {
   "cell_type": "code",
   "execution_count": 83,
   "metadata": {
    "ExecuteTime": {
     "end_time": "2022-08-08T04:16:22.377899Z",
     "start_time": "2022-08-08T04:16:22.369517Z"
    },
    "init_cell": true
   },
   "outputs": [],
   "source": [
    "# Set up directory paths. Defaults to the Data/ and Figures/ folders within the repository.\n",
    "cwd = os.path.dirname(os.getcwd())\n",
    "DATADIR = os.path.join(cwd, \"Data/\")\n",
    "FIGDIR = os.path.join(cwd, \"Figures/\")"
   ]
  },
  {
   "cell_type": "code",
   "execution_count": 84,
   "metadata": {
    "ExecuteTime": {
     "end_time": "2022-08-08T04:16:22.386234Z",
     "start_time": "2022-08-08T04:16:22.378573Z"
    }
   },
   "outputs": [],
   "source": [
    "sys.path.append(cwd)\n",
    "from analysis_functions import *\n",
    "from updated_netcoloc_functions import *"
   ]
  },
  {
   "cell_type": "markdown",
   "metadata": {},
   "source": [
    "## Input Data"
   ]
  },
  {
   "cell_type": "code",
   "execution_count": 85,
   "metadata": {
    "ExecuteTime": {
     "end_time": "2022-08-08T04:16:22.424426Z",
     "start_time": "2022-08-08T04:16:22.387051Z"
    },
    "init_cell": true,
    "scrolled": true
   },
   "outputs": [
    {
     "data": {
      "text/html": [
       "<div>\n",
       "<style scoped>\n",
       "    .dataframe tbody tr th:only-of-type {\n",
       "        vertical-align: middle;\n",
       "    }\n",
       "\n",
       "    .dataframe tbody tr th {\n",
       "        vertical-align: top;\n",
       "    }\n",
       "\n",
       "    .dataframe thead th {\n",
       "        text-align: right;\n",
       "    }\n",
       "</style>\n",
       "<table border=\"1\" class=\"dataframe\">\n",
       "  <thead>\n",
       "    <tr style=\"text-align: right;\">\n",
       "      <th></th>\n",
       "      <th>NPS_r</th>\n",
       "      <th>NPS_h</th>\n",
       "      <th>NPS_hr</th>\n",
       "    </tr>\n",
       "    <tr>\n",
       "      <th>gene</th>\n",
       "      <th></th>\n",
       "      <th></th>\n",
       "      <th></th>\n",
       "    </tr>\n",
       "  </thead>\n",
       "  <tbody>\n",
       "    <tr>\n",
       "      <th>A1BG</th>\n",
       "      <td>0.125314</td>\n",
       "      <td>-0.488576</td>\n",
       "      <td>-0.061226</td>\n",
       "    </tr>\n",
       "    <tr>\n",
       "      <th>A1CF</th>\n",
       "      <td>2.540447</td>\n",
       "      <td>2.186042</td>\n",
       "      <td>5.553524</td>\n",
       "    </tr>\n",
       "    <tr>\n",
       "      <th>A2M</th>\n",
       "      <td>0.651845</td>\n",
       "      <td>-0.581848</td>\n",
       "      <td>-0.379275</td>\n",
       "    </tr>\n",
       "    <tr>\n",
       "      <th>A2ML1</th>\n",
       "      <td>-1.315517</td>\n",
       "      <td>-1.108608</td>\n",
       "      <td>1.458393</td>\n",
       "    </tr>\n",
       "    <tr>\n",
       "      <th>A3GALT2</th>\n",
       "      <td>-0.546107</td>\n",
       "      <td>-0.243477</td>\n",
       "      <td>0.132964</td>\n",
       "    </tr>\n",
       "  </tbody>\n",
       "</table>\n",
       "</div>"
      ],
      "text/plain": [
       "            NPS_r     NPS_h    NPS_hr\n",
       "gene                                 \n",
       "A1BG     0.125314 -0.488576 -0.061226\n",
       "A1CF     2.540447  2.186042  5.553524\n",
       "A2M      0.651845 -0.581848 -0.379275\n",
       "A2ML1   -1.315517 -1.108608  1.458393\n",
       "A3GALT2 -0.546107 -0.243477  0.132964"
      ]
     },
     "execution_count": 85,
     "metadata": {},
     "output_type": "execute_result"
    }
   ],
   "source": [
    "# load data, contains original subgraphs\n",
    "data = pd.read_csv(DATADIR + \"outputs/rat_human_BMI_all_NPS.tsv\", sep = \"\\t\", index_col=0)\n",
    "data.head()"
   ]
  },
  {
   "cell_type": "code",
   "execution_count": 86,
   "metadata": {
    "ExecuteTime": {
     "end_time": "2022-08-08T04:16:22.437072Z",
     "start_time": "2022-08-08T04:16:22.425314Z"
    }
   },
   "outputs": [
    {
     "name": "stdout",
     "output_type": "stream",
     "text": [
      "Number of human BMI seeds: 1958\n",
      "Number of rat BMI seeds: 295\n"
     ]
    }
   ],
   "source": [
    "# load seed genes\n",
    "seed_bin_human_BMI = pd.read_csv(DATADIR+\"inputs/human_BMI_all_seed_genes.txt\", header=None)[0].tolist()\n",
    "print(\"Number of human BMI seeds:\", len(seed_bin_human_BMI))\n",
    "\n",
    "seed_bin_rat_BMI=pd.read_csv(DATADIR+'inputs/ratBMI_seed_genes.txt',sep='\\t')['0'].tolist()\n",
    "print(\"Number of rat BMI seeds:\", len(seed_bin_rat_BMI))"
   ]
  },
  {
   "cell_type": "code",
   "execution_count": 87,
   "metadata": {
    "ExecuteTime": {
     "end_time": "2022-08-08T04:16:22.837358Z",
     "start_time": "2022-08-08T04:16:22.437920Z"
    }
   },
   "outputs": [],
   "source": [
    "# classify each gene based on seed gene status\n",
    "data = data.assign(rat_seed=[1 if gene in seed_bin_rat_BMI else 0 for gene in data.index])\n",
    "data = data.assign(human_seed=[1 if gene in seed_bin_human_BMI else 0 for gene in data.index])"
   ]
  },
  {
   "cell_type": "markdown",
   "metadata": {},
   "source": [
    "# Defining species specific Networks"
   ]
  },
  {
   "cell_type": "markdown",
   "metadata": {},
   "source": [
    "## Distributions of the species NPS\n",
    "\n",
    "To determine appropriate thresholds for each species we examine the distribution of network proximity scores (NPS). "
   ]
  },
  {
   "cell_type": "code",
   "execution_count": 88,
   "metadata": {
    "ExecuteTime": {
     "end_time": "2022-08-08T04:16:23.715625Z",
     "start_time": "2022-08-08T04:16:22.838198Z"
    }
   },
   "outputs": [
    {
     "data": {
      "text/plain": [
       "<matplotlib.legend.Legend at 0x1554d6ebd820>"
      ]
     },
     "execution_count": 88,
     "metadata": {},
     "output_type": "execute_result"
    },
    {
     "data": {
      "image/png": "[encoded data removed]",
      "text/plain": [
       "<Figure size 1008x216 with 2 Axes>"
      ]
     },
     "metadata": {
      "needs_background": "light"
     },
     "output_type": "display_data"
    }
   ],
   "source": [
    "matplotlib.rcParams.update({'font.size': 14})\n",
    "fig, [ax1, ax2] = plt.subplots(nrows=1, ncols=2, figsize=(14, 3))\n",
    "_, bins, _ = ax1.hist(data.NPS_r, bins=100, alpha=0.7, density=True, label=\"Rat\", color=\"#a95aa1\")\n",
    "_ = ax1.hist(data.NPS_h, bins=bins, alpha=0.7, density=True, label=\"Human\", color=\"#85c0f9\")\n",
    "ax1.set_ylabel(\"Density\")\n",
    "ax1.set_xlabel(\"NPS\")\n",
    "ax1.legend()\n",
    "\n",
    "_, bins, _ = ax2.hist(data[data.rat_seed==0].NPS_r, bins=50, alpha=0.7, density=True, label=\"Rat\", color=\"#a95aa1\")\n",
    "_ = ax2.hist(data[data.human_seed==0].NPS_h, bins=bins, alpha=0.7, density=True, label=\"Human\", color=\"#85c0f9\")\n",
    "ax2.set_ylabel(\"Density\")\n",
    "ax2.set_xlabel(\"NPS (no seed genes)\")\n",
    "ax2.legend()\n"
   ]
  },
  {
   "cell_type": "code",
   "execution_count": 89,
   "metadata": {
    "ExecuteTime": {
     "end_time": "2022-08-08T04:16:23.731501Z",
     "start_time": "2022-08-08T04:16:23.716432Z"
    }
   },
   "outputs": [
    {
     "data": {
      "text/html": [
       "<div>\n",
       "<style scoped>\n",
       "    .dataframe tbody tr th:only-of-type {\n",
       "        vertical-align: middle;\n",
       "    }\n",
       "\n",
       "    .dataframe tbody tr th {\n",
       "        vertical-align: top;\n",
       "    }\n",
       "\n",
       "    .dataframe thead th {\n",
       "        text-align: right;\n",
       "    }\n",
       "</style>\n",
       "<table border=\"1\" class=\"dataframe\">\n",
       "  <thead>\n",
       "    <tr style=\"text-align: right;\">\n",
       "      <th></th>\n",
       "      <th>NPS_r</th>\n",
       "      <th>NPS_h</th>\n",
       "    </tr>\n",
       "  </thead>\n",
       "  <tbody>\n",
       "    <tr>\n",
       "      <th>count</th>\n",
       "      <td>18820.000000</td>\n",
       "      <td>18820.000000</td>\n",
       "    </tr>\n",
       "    <tr>\n",
       "      <th>mean</th>\n",
       "      <td>0.166117</td>\n",
       "      <td>1.064944</td>\n",
       "    </tr>\n",
       "    <tr>\n",
       "      <th>std</th>\n",
       "      <td>1.819963</td>\n",
       "      <td>3.034380</td>\n",
       "    </tr>\n",
       "    <tr>\n",
       "      <th>min</th>\n",
       "      <td>-2.908312</td>\n",
       "      <td>-3.953688</td>\n",
       "    </tr>\n",
       "    <tr>\n",
       "      <th>25%</th>\n",
       "      <td>-0.699091</td>\n",
       "      <td>-0.227384</td>\n",
       "    </tr>\n",
       "    <tr>\n",
       "      <th>50%</th>\n",
       "      <td>-0.220273</td>\n",
       "      <td>0.450951</td>\n",
       "    </tr>\n",
       "    <tr>\n",
       "      <th>75%</th>\n",
       "      <td>0.566990</td>\n",
       "      <td>1.240185</td>\n",
       "    </tr>\n",
       "    <tr>\n",
       "      <th>max</th>\n",
       "      <td>31.286290</td>\n",
       "      <td>34.273300</td>\n",
       "    </tr>\n",
       "  </tbody>\n",
       "</table>\n",
       "</div>"
      ],
      "text/plain": [
       "              NPS_r         NPS_h\n",
       "count  18820.000000  18820.000000\n",
       "mean       0.166117      1.064944\n",
       "std        1.819963      3.034380\n",
       "min       -2.908312     -3.953688\n",
       "25%       -0.699091     -0.227384\n",
       "50%       -0.220273      0.450951\n",
       "75%        0.566990      1.240185\n",
       "max       31.286290     34.273300"
      ]
     },
     "execution_count": 89,
     "metadata": {},
     "output_type": "execute_result"
    }
   ],
   "source": [
    "data.loc[:, (\"NPS_r\", \"NPS_h\")].describe()"
   ]
  },
  {
   "cell_type": "code",
   "execution_count": 90,
   "metadata": {
    "ExecuteTime": {
     "end_time": "2022-08-08T04:16:23.741552Z",
     "start_time": "2022-08-08T04:16:23.732286Z"
    }
   },
   "outputs": [
    {
     "data": {
      "text/plain": [
       "count    18525.000000\n",
       "mean        -0.013611\n",
       "std          1.030633\n",
       "min         -2.908312\n",
       "50%         -0.237388\n",
       "75%          0.518693\n",
       "80%          0.729556\n",
       "85%          1.005072\n",
       "90%          1.354651\n",
       "95%          1.952714\n",
       "max          6.798332\n",
       "Name: NPS_r, dtype: float64"
      ]
     },
     "execution_count": 90,
     "metadata": {},
     "output_type": "execute_result"
    }
   ],
   "source": [
    "data[data.rat_seed==0].NPS_r.describe(percentiles=[0.5, 0.75, 0.8, 0.85, 0.9, 0.95])"
   ]
  },
  {
   "cell_type": "code",
   "execution_count": 91,
   "metadata": {
    "ExecuteTime": {
     "end_time": "2022-08-08T04:16:23.751848Z",
     "start_time": "2022-08-08T04:16:23.742546Z"
    }
   },
   "outputs": [
    {
     "data": {
      "text/plain": [
       "count    16862.000000\n",
       "mean         0.425921\n",
       "std          1.047217\n",
       "min         -3.953688\n",
       "50%          0.348532\n",
       "75%          1.069361\n",
       "80%          1.240472\n",
       "85%          1.464345\n",
       "90%          1.742707\n",
       "95%          2.219446\n",
       "max          6.620334\n",
       "Name: NPS_h, dtype: float64"
      ]
     },
     "execution_count": 91,
     "metadata": {},
     "output_type": "execute_result"
    }
   ],
   "source": [
    "data[data.human_seed==0].NPS_h.describe(percentiles=[0.5, 0.75, 0.8, 0.85, 0.9, 0.95])"
   ]
  },
  {
   "cell_type": "markdown",
   "metadata": {},
   "source": [
    "## Set thresholds\n",
    "\n",
    "Based on the above distributions we set:\n",
    "\n",
    "* same-species threshold to be greater than $\\mu_{sameSpecies} + \\sigma_{sameSpecies}$\n",
    "* other-species threshold to be less than $\\mu_{otherSpecies}$\n",
    "* combined thresholds to give a network between 500-1000 genes.\n",
    "\n",
    "**Combo thresholds are used as follows:**  \n",
    "\n",
    "Conserved: $z_{rat}\\bullet z_{human} > combo$  \n",
    "  \n",
    "Rat Only: $z_{rat}\\bullet (z_{human} - 1) < combo$  \n",
    "  \n",
    "Human Only: $(z_{rat}-1)\\bullet z_{human} < combo$"
   ]
  },
  {
   "cell_type": "code",
   "execution_count": 92,
   "metadata": {
    "ExecuteTime": {
     "end_time": "2022-08-08T04:16:23.757349Z",
     "start_time": "2022-08-08T04:16:23.752609Z"
    },
    "init_cell": true
   },
   "outputs": [],
   "source": [
    "# set thresholds:\n",
    "conserved = {\"rat\":1, \"human\":1, \"combo\":3}\n",
    "rat_only = {\"rat\":1, \"human\":0.5, \"combo\":-2}\n",
    "human_only = {\"rat\":0, \"human\":1.5, \"combo\":-4}"
   ]
  },
  {
   "cell_type": "markdown",
   "metadata": {},
   "source": [
    "## Identify subgraphs"
   ]
  },
  {
   "cell_type": "code",
   "execution_count": 93,
   "metadata": {
    "ExecuteTime": {
     "end_time": "2022-08-08T04:16:23.766765Z",
     "start_time": "2022-08-08T04:16:23.758083Z"
    },
    "code_folding": []
   },
   "outputs": [],
   "source": [
    "def assign_sub_graph(data, rat_th=None, human_th=None, combo_th=None, th_dict=None, name=\"conserved\"):\n",
    "    if th_dict is not None:\n",
    "        rat_th = th_dict[\"rat\"]\n",
    "        combo_th = th_dict[\"combo\"]\n",
    "        human_th = th_dict[\"human\"]\n",
    "    if \"subgraph\" not in data.columns:\n",
    "        data = data.assign(subgraph=\"PCNet\")\n",
    "    if name == \"rat\":\n",
    "        data.loc[((data.NPS_r > rat_th) & (data.NPS_h < human_th) & (data.NPS_r * (data.NPS_h - 1) < combo_th)), \n",
    "                 (\"subgraph\")] = \"Rat-Only\"\n",
    "    elif name == \"human\":\n",
    "        data.loc[((data.NPS_r < rat_th) & (data.NPS_h > human_th) & ((data.NPS_r - 1)*(data.NPS_h) < combo_th)), \n",
    "                 (\"subgraph\")] = \"Human-Only\"\n",
    "    else:\n",
    "        data.loc[((data.NPS_r > rat_th) & (data.NPS_h > human_th) & (data.NPS_hr > combo_th)), (\"subgraph\")] = \"Conserved\"\n",
    "    return data"
   ]
  },
  {
   "cell_type": "code",
   "execution_count": 94,
   "metadata": {
    "ExecuteTime": {
     "end_time": "2022-08-08T04:16:23.780697Z",
     "start_time": "2022-08-08T04:16:23.767592Z"
    }
   },
   "outputs": [],
   "source": [
    "# classify each gene based on membership to sub networks\n",
    "data = assign_sub_graph(data, th_dict = conserved, name=\"conserved\")\n",
    "data = assign_sub_graph(data, th_dict = rat_only, name=\"rat\")\n",
    "data = assign_sub_graph(data, th_dict = human_only, name=\"human\")"
   ]
  },
  {
   "cell_type": "code",
   "execution_count": 95,
   "metadata": {
    "ExecuteTime": {
     "end_time": "2022-08-08T04:16:23.789241Z",
     "start_time": "2022-08-08T04:16:23.782443Z"
    }
   },
   "outputs": [
    {
     "data": {
      "text/plain": [
       "subgraph\n",
       "PCNet         16550\n",
       "Human-Only      925\n",
       "Rat-Only        688\n",
       "Conserved       657\n",
       "dtype: int64"
      ]
     },
     "execution_count": 95,
     "metadata": {},
     "output_type": "execute_result"
    }
   ],
   "source": [
    "# number of genes in each subnetwork\n",
    "data.value_counts(\"subgraph\", dropna=False)"
   ]
  },
  {
   "cell_type": "code",
   "execution_count": 96,
   "metadata": {
    "ExecuteTime": {
     "end_time": "2022-08-08T04:16:23.872180Z",
     "start_time": "2022-08-08T04:16:23.791043Z"
    }
   },
   "outputs": [],
   "source": [
    "# export the data\n",
    "data.to_csv(DATADIR + \"outputs/rat_only_human_only_networks.tsv\", sep=\"\\t\")"
   ]
  },
  {
   "cell_type": "markdown",
   "metadata": {},
   "source": [
    "## Visualize the species specific networks"
   ]
  },
  {
   "cell_type": "code",
   "execution_count": 97,
   "metadata": {
    "ExecuteTime": {
     "end_time": "2022-08-08T04:16:23.885565Z",
     "start_time": "2022-08-08T04:16:23.873158Z"
    },
    "code_folding": [],
    "run_control": {
     "marked": true
    }
   },
   "outputs": [],
   "source": [
    "def plot_species_nps(data, subgraph, th_dict=None, ax=None, legend=None, fontsize=7):\n",
    "    x_points = [(i+0.0001)/10 for i in range(-50,250)]\n",
    "    if subgraph == \"conserved\":\n",
    "        cmap = {\"Conserved\": \"#F5793A\", **{k:\"grey\" for k in [\"Rat-Only\", \"PCNet\", \"Human-Only\"]}}\n",
    "        combo_line = [th_dict[\"combo\"]/x for x in x_points if x > th_dict[\"combo\"]/25]\n",
    "        ax.plot([x for x in x_points if x > th_dict[\"combo\"]/25], combo_line, color=\"#f5793a\", linewidth=1)\n",
    "        ax.text(x=10, y=30, s=\"$NPS_r > \"+str(th_dict[\"rat\"])+\"$\", color=\"#a95aa1\", fontsize=fontsize)\n",
    "        ax.text(x=10, y=26, s=\"$NPS_h > \"+str(th_dict[\"human\"])+\"$\", color=\"#85c0f9\", fontsize=fontsize)\n",
    "        ax.text(x=10, y=22, s=\"$NPS_{hr} > \"+str(th_dict[\"combo\"])+\"$\", color=\"#f5793a\", fontsize=fontsize)\n",
    "    elif subgraph == \"rat\":\n",
    "        cmap = {\"Rat-Only\": \"#a95aa1\", **{k:\"grey\" for k in [\"Conserved\", \"PCNet\", \"Human-Only\"]}}\n",
    "        combo_line = [th_dict[\"combo\"]/(x-1) for x in x_points if x < 1 + th_dict[\"combo\"]/25]\n",
    "        ax.plot([x for x in x_points if x < 1 + th_dict[\"combo\"]/25], combo_line, color=\"#f5793a\", linewidth=1)\n",
    "        ax.text(x=10, y=30, s=\"$NPS_r > \"+str(th_dict[\"rat\"])+\"$\", color=\"#a95aa1\", fontsize=fontsize)\n",
    "        ax.text(x=10, y=26, s=\"$NPS_h < \"+str(th_dict[\"human\"])+\"$\", color=\"#85c0f9\", fontsize=fontsize)\n",
    "        ax.text(x=10, y=22, s=\"$NPS_r(NPS_h-1) < \"+str(th_dict[\"combo\"])+\"$\", color=\"#f5793a\", fontsize=fontsize)\n",
    "    elif subgraph == \"human\":\n",
    "        cmap = {\"Human-Only\": \"#85c0f9\", **{k:\"grey\" for k in [\"Rat-Only\", \"PCNet\", \"Conserved\"]}}\n",
    "        combo_line = [1 + th_dict[\"combo\"]/x for x in x_points if x > th_dict[\"combo\"]/-6]\n",
    "        ax.plot([x for x in x_points if x > th_dict[\"combo\"]/-6], combo_line, color=\"#f5793a\", linewidth=1)\n",
    "        ax.text(x=10, y=30, s=\"$NPS_r < \"+str(th_dict[\"rat\"])+\"$\", color=\"#a95aa1\", fontsize=fontsize)\n",
    "        ax.text(x=10, y=26, s=\"$NPS_h > \"+str(th_dict[\"human\"])+\"$\", color=\"#85c0f9\", fontsize=fontsize)\n",
    "        ax.text(x=10, y=22, s=\"$NPS_h(NPS_r-1) < \"+str(th_dict[\"combo\"])+\"$\", color=\"#f5793a\", fontsize=fontsize)\n",
    "    else:\n",
    "        cmap = {\"Conserved\": \"#F5793A\",\"Rat-Only\": \"#a95aa1\", \"Human-Only\": \"#85c0f9\", \"PCNet\":\"grey\" }\n",
    "    \n",
    "    sns.scatterplot(data=data, x=\"NPS_h\", y=\"NPS_r\", hue=\"subgraph\", palette=cmap, s=2, ax=ax, markers=True, alpha=0.8,\n",
    "                legend=legend)\n",
    "    if th_dict is not None:\n",
    "        ax.hlines(y=th_dict[\"rat\"], xmin=-5, xmax=25, color=\"#a95aa1\", alpha=1, zorder=4, linewidth=1)\n",
    "        ax.vlines(x=th_dict[\"human\"], ymin=-5, ymax=25, color=\"#85c0f9\", alpha=1, zorder=3, linewidth=1)\n",
    "    ax.set_ylabel(\"NPS$_r$\", fontsize=fontsize)\n",
    "    ax.set_xlabel(\"NPS$_h$\", fontsize=fontsize)\n",
    "    ax.spines['left'].set(position=('data', 0.0), zorder=2)\n",
    "    ax.spines['bottom'].set(position=('data', 0.0), zorder=2)\n",
    "    ax.spines['top'].set_position(('data', 0.0))\n",
    "    ax.spines['right'].set_position(('data', 0.0))\n",
    "    ax.set_xticks([ 5, 10, 15, 20, 25, 30])\n",
    "    ax.set_xticklabels(labels=[ 5, 10, 15, 20, 25, 30], fontsize=fontsize, zorder=10)\n",
    "    ax.set_yticks([ 5, 10, 15, 20, 25, 30])\n",
    "    ax.set_yticklabels(labels=[ 5, 10, 15, 20, 25, 30], fontsize=fontsize, zorder=10)"
   ]
  },
  {
   "cell_type": "code",
   "execution_count": 98,
   "metadata": {
    "ExecuteTime": {
     "end_time": "2022-08-08T04:16:28.228408Z",
     "start_time": "2022-08-08T04:16:23.886353Z"
    }
   },
   "outputs": [
    {
     "data": {
      "image/png": "[encoded data removed]",
      "text/plain": [
       "<Figure size 1296x432 with 3 Axes>"
      ]
     },
     "metadata": {
      "needs_background": "light"
     },
     "output_type": "display_data"
    }
   ],
   "source": [
    "fig, [ax1, ax2, ax3] = plt.subplots(nrows=1, ncols=3, figsize=(18, 6))\n",
    "plot_species_nps(data, \"conserved\", conserved, ax1, fontsize=12)\n",
    "plot_species_nps(data, \"rat\", rat_only, ax2, fontsize=12)\n",
    "plot_species_nps(data, \"human\", human_only, ax3, fontsize=12)\n",
    "ax1.set_title(\"a\", loc=\"left\", fontsize=12)\n",
    "ax2.set_title(\"b\", loc=\"left\", fontsize=12)\n",
    "ax3.set_title(\"c\", loc=\"left\", fontsize=12)\n",
    "plt.savefig(FIGDIR + \"definition_of_networks.png\", dpi=400, bbox_inches=\"tight\")"
   ]
  },
  {
   "cell_type": "code",
   "execution_count": 99,
   "metadata": {
    "ExecuteTime": {
     "end_time": "2022-08-08T04:16:29.722541Z",
     "start_time": "2022-08-08T04:16:28.229884Z"
    }
   },
   "outputs": [
    {
     "data": {
      "image/png": "[encoded data removed]",
      "text/plain": [
       "<Figure size 864x288 with 2 Axes>"
      ]
     },
     "metadata": {
      "needs_background": "light"
     },
     "output_type": "display_data"
    }
   ],
   "source": [
    "fig, [ax1, ax2] = plt.subplots(nrows=1, ncols=2, figsize=(12,4))\n",
    "plot_species_nps(data, \"all\", ax=ax1, legend=\"brief\")\n",
    "plot_species_nps(data[data.rat_seed+data.human_seed==0], \"all\", ax=ax2, legend=\"brief\")\n",
    "_ = ax2.set_title(\"No seed genes\")\n",
    "_ = ax1.set_title(\"All genes\")"
   ]
  },
  {
   "cell_type": "code",
   "execution_count": 100,
   "metadata": {
    "ExecuteTime": {
     "end_time": "2022-08-08T04:16:29.732204Z",
     "start_time": "2022-08-08T04:16:29.725624Z"
    }
   },
   "outputs": [
    {
     "data": {
      "text/html": [
       "<div>\n",
       "<style scoped>\n",
       "    .dataframe tbody tr th:only-of-type {\n",
       "        vertical-align: middle;\n",
       "    }\n",
       "\n",
       "    .dataframe tbody tr th {\n",
       "        vertical-align: top;\n",
       "    }\n",
       "\n",
       "    .dataframe thead th {\n",
       "        text-align: right;\n",
       "    }\n",
       "</style>\n",
       "<table border=\"1\" class=\"dataframe\">\n",
       "  <thead>\n",
       "    <tr style=\"text-align: right;\">\n",
       "      <th></th>\n",
       "      <th>NPS_r</th>\n",
       "      <th>NPS_h</th>\n",
       "      <th>NPS_hr</th>\n",
       "      <th>rat_seed</th>\n",
       "      <th>human_seed</th>\n",
       "      <th>subgraph</th>\n",
       "    </tr>\n",
       "    <tr>\n",
       "      <th>gene</th>\n",
       "      <th></th>\n",
       "      <th></th>\n",
       "      <th></th>\n",
       "      <th></th>\n",
       "      <th></th>\n",
       "      <th></th>\n",
       "    </tr>\n",
       "  </thead>\n",
       "  <tbody>\n",
       "    <tr>\n",
       "      <th>A1BG</th>\n",
       "      <td>0.125314</td>\n",
       "      <td>-0.488576</td>\n",
       "      <td>-0.061226</td>\n",
       "      <td>0</td>\n",
       "      <td>0</td>\n",
       "      <td>PCNet</td>\n",
       "    </tr>\n",
       "    <tr>\n",
       "      <th>A1CF</th>\n",
       "      <td>2.540447</td>\n",
       "      <td>2.186042</td>\n",
       "      <td>5.553524</td>\n",
       "      <td>0</td>\n",
       "      <td>0</td>\n",
       "      <td>Conserved</td>\n",
       "    </tr>\n",
       "    <tr>\n",
       "      <th>A2M</th>\n",
       "      <td>0.651845</td>\n",
       "      <td>-0.581848</td>\n",
       "      <td>-0.379275</td>\n",
       "      <td>0</td>\n",
       "      <td>0</td>\n",
       "      <td>PCNet</td>\n",
       "    </tr>\n",
       "    <tr>\n",
       "      <th>A2ML1</th>\n",
       "      <td>-1.315517</td>\n",
       "      <td>-1.108608</td>\n",
       "      <td>1.458393</td>\n",
       "      <td>0</td>\n",
       "      <td>0</td>\n",
       "      <td>PCNet</td>\n",
       "    </tr>\n",
       "    <tr>\n",
       "      <th>A3GALT2</th>\n",
       "      <td>-0.546107</td>\n",
       "      <td>-0.243477</td>\n",
       "      <td>0.132964</td>\n",
       "      <td>0</td>\n",
       "      <td>1</td>\n",
       "      <td>PCNet</td>\n",
       "    </tr>\n",
       "  </tbody>\n",
       "</table>\n",
       "</div>"
      ],
      "text/plain": [
       "            NPS_r     NPS_h    NPS_hr  rat_seed  human_seed   subgraph\n",
       "gene                                                                  \n",
       "A1BG     0.125314 -0.488576 -0.061226         0           0      PCNet\n",
       "A1CF     2.540447  2.186042  5.553524         0           0  Conserved\n",
       "A2M      0.651845 -0.581848 -0.379275         0           0      PCNet\n",
       "A2ML1   -1.315517 -1.108608  1.458393         0           0      PCNet\n",
       "A3GALT2 -0.546107 -0.243477  0.132964         0           1      PCNet"
      ]
     },
     "execution_count": 100,
     "metadata": {},
     "output_type": "execute_result"
    }
   ],
   "source": [
    "data.head()"
   ]
  },
  {
   "cell_type": "markdown",
   "metadata": {},
   "source": [
    "## Assess seed gene fractions"
   ]
  },
  {
   "cell_type": "code",
   "execution_count": 101,
   "metadata": {
    "ExecuteTime": {
     "end_time": "2022-08-08T04:16:29.768193Z",
     "start_time": "2022-08-08T04:16:29.733022Z"
    }
   },
   "outputs": [
    {
     "data": {
      "text/html": [
       "<div>\n",
       "<style scoped>\n",
       "    .dataframe tbody tr th:only-of-type {\n",
       "        vertical-align: middle;\n",
       "    }\n",
       "\n",
       "    .dataframe tbody tr th {\n",
       "        vertical-align: top;\n",
       "    }\n",
       "\n",
       "    .dataframe thead th {\n",
       "        text-align: right;\n",
       "    }\n",
       "</style>\n",
       "<table border=\"1\" class=\"dataframe\">\n",
       "  <thead>\n",
       "    <tr style=\"text-align: right;\">\n",
       "      <th></th>\n",
       "      <th>NPS_r</th>\n",
       "      <th>NPS_h</th>\n",
       "      <th>NPS_hr</th>\n",
       "      <th>rat_seed</th>\n",
       "      <th>human_seed</th>\n",
       "      <th>subgraph</th>\n",
       "      <th>overlapping_seeds</th>\n",
       "    </tr>\n",
       "    <tr>\n",
       "      <th>gene</th>\n",
       "      <th></th>\n",
       "      <th></th>\n",
       "      <th></th>\n",
       "      <th></th>\n",
       "      <th></th>\n",
       "      <th></th>\n",
       "      <th></th>\n",
       "    </tr>\n",
       "  </thead>\n",
       "  <tbody>\n",
       "    <tr>\n",
       "      <th>A1BG</th>\n",
       "      <td>0.125314</td>\n",
       "      <td>-0.488576</td>\n",
       "      <td>-0.061226</td>\n",
       "      <td>0</td>\n",
       "      <td>0</td>\n",
       "      <td>PCNet</td>\n",
       "      <td>0</td>\n",
       "    </tr>\n",
       "    <tr>\n",
       "      <th>A1CF</th>\n",
       "      <td>2.540447</td>\n",
       "      <td>2.186042</td>\n",
       "      <td>5.553524</td>\n",
       "      <td>0</td>\n",
       "      <td>0</td>\n",
       "      <td>Conserved</td>\n",
       "      <td>0</td>\n",
       "    </tr>\n",
       "    <tr>\n",
       "      <th>A2M</th>\n",
       "      <td>0.651845</td>\n",
       "      <td>-0.581848</td>\n",
       "      <td>-0.379275</td>\n",
       "      <td>0</td>\n",
       "      <td>0</td>\n",
       "      <td>PCNet</td>\n",
       "      <td>0</td>\n",
       "    </tr>\n",
       "    <tr>\n",
       "      <th>A2ML1</th>\n",
       "      <td>-1.315517</td>\n",
       "      <td>-1.108608</td>\n",
       "      <td>1.458393</td>\n",
       "      <td>0</td>\n",
       "      <td>0</td>\n",
       "      <td>PCNet</td>\n",
       "      <td>0</td>\n",
       "    </tr>\n",
       "    <tr>\n",
       "      <th>A3GALT2</th>\n",
       "      <td>-0.546107</td>\n",
       "      <td>-0.243477</td>\n",
       "      <td>0.132964</td>\n",
       "      <td>0</td>\n",
       "      <td>1</td>\n",
       "      <td>PCNet</td>\n",
       "      <td>0</td>\n",
       "    </tr>\n",
       "  </tbody>\n",
       "</table>\n",
       "</div>"
      ],
      "text/plain": [
       "            NPS_r     NPS_h    NPS_hr  rat_seed  human_seed   subgraph  \\\n",
       "gene                                                                     \n",
       "A1BG     0.125314 -0.488576 -0.061226         0           0      PCNet   \n",
       "A1CF     2.540447  2.186042  5.553524         0           0  Conserved   \n",
       "A2M      0.651845 -0.581848 -0.379275         0           0      PCNet   \n",
       "A2ML1   -1.315517 -1.108608  1.458393         0           0      PCNet   \n",
       "A3GALT2 -0.546107 -0.243477  0.132964         0           1      PCNet   \n",
       "\n",
       "         overlapping_seeds  \n",
       "gene                        \n",
       "A1BG                     0  \n",
       "A1CF                     0  \n",
       "A2M                      0  \n",
       "A2ML1                    0  \n",
       "A3GALT2                  0  "
      ]
     },
     "execution_count": 101,
     "metadata": {},
     "output_type": "execute_result"
    }
   ],
   "source": [
    "data = data.assign(overlapping_seeds=1*(data.rat_seed + data.human_seed==2))\n",
    "data.head()"
   ]
  },
  {
   "cell_type": "code",
   "execution_count": 102,
   "metadata": {
    "ExecuteTime": {
     "end_time": "2022-08-08T04:16:29.779997Z",
     "start_time": "2022-08-08T04:16:29.769219Z"
    }
   },
   "outputs": [],
   "source": [
    "subgraph_stats = data.groupby(\"subgraph\").sum().loc[:, (\"rat_seed\", \"human_seed\", \"overlapping_seeds\")]"
   ]
  },
  {
   "cell_type": "code",
   "execution_count": 103,
   "metadata": {
    "ExecuteTime": {
     "end_time": "2022-08-08T04:16:29.812233Z",
     "start_time": "2022-08-08T04:16:29.780889Z"
    }
   },
   "outputs": [],
   "source": [
    "subgraph_stats = subgraph_stats.join(data.groupby(\"subgraph\").count().loc[:, \"NPS_r\"])\n",
    "subgraph_stats = subgraph_stats.rename(columns={\"NPS_r\":\"count\"})\n",
    "subgraph_stats[\"Network\"] = subgraph_stats[\"count\"].values - subgraph_stats.loc[:,(\"rat_seed\", \"human_seed\", \"overlapping_seeds\")].sum(axis=1).values\n",
    "subgraph_stats.drop(columns=[\"count\"], inplace=True)\n",
    "subgraph_stats = subgraph_stats.loc[:,( \"human_seed\", \"overlapping_seeds\",\"rat_seed\", \"Network\") ]"
   ]
  },
  {
   "cell_type": "code",
   "execution_count": 104,
   "metadata": {
    "ExecuteTime": {
     "end_time": "2022-08-08T04:16:29.817829Z",
     "start_time": "2022-08-08T04:16:29.813157Z"
    }
   },
   "outputs": [],
   "source": [
    "subgraph_stats[\"Network (Conserved)\"] = 0\n",
    "subgraph_stats.loc[\"Conserved\", (\"Network (Conserved)\")] = subgraph_stats.loc[\"Conserved\", (\"Network\")]\n",
    "subgraph_stats[\"Network (Rat)\"] = 0\n",
    "subgraph_stats.loc[\"Rat-Only\", (\"Network (Rat)\")] = subgraph_stats.loc[\"Rat-Only\", (\"Network\")]\n",
    "subgraph_stats[\"Network (Human)\"] = 0\n",
    "subgraph_stats.loc[\"Human-Only\", (\"Network (Human)\"\n",
    "                                 )] = subgraph_stats.loc[\"Human-Only\", (\"Network\")]\n",
    "subgraph_stats.drop(columns = [\"Network\"], inplace=True)"
   ]
  },
  {
   "cell_type": "code",
   "execution_count": 105,
   "metadata": {
    "ExecuteTime": {
     "end_time": "2022-08-08T04:16:29.830611Z",
     "start_time": "2022-08-08T04:16:29.818602Z"
    }
   },
   "outputs": [
    {
     "data": {
      "text/html": [
       "<div>\n",
       "<style scoped>\n",
       "    .dataframe tbody tr th:only-of-type {\n",
       "        vertical-align: middle;\n",
       "    }\n",
       "\n",
       "    .dataframe tbody tr th {\n",
       "        vertical-align: top;\n",
       "    }\n",
       "\n",
       "    .dataframe thead th {\n",
       "        text-align: right;\n",
       "    }\n",
       "</style>\n",
       "<table border=\"1\" class=\"dataframe\">\n",
       "  <thead>\n",
       "    <tr style=\"text-align: right;\">\n",
       "      <th></th>\n",
       "      <th>human_seed</th>\n",
       "      <th>overlapping_seeds</th>\n",
       "      <th>rat_seed</th>\n",
       "      <th>Network (Conserved)</th>\n",
       "      <th>Network (Rat)</th>\n",
       "      <th>Network (Human)</th>\n",
       "    </tr>\n",
       "    <tr>\n",
       "      <th>subgraph</th>\n",
       "      <th></th>\n",
       "      <th></th>\n",
       "      <th></th>\n",
       "      <th></th>\n",
       "      <th></th>\n",
       "      <th></th>\n",
       "    </tr>\n",
       "  </thead>\n",
       "  <tbody>\n",
       "    <tr>\n",
       "      <th>Conserved</th>\n",
       "      <td>228</td>\n",
       "      <td>21</td>\n",
       "      <td>114</td>\n",
       "      <td>294</td>\n",
       "      <td>0</td>\n",
       "      <td>0</td>\n",
       "    </tr>\n",
       "    <tr>\n",
       "      <th>Human-Only</th>\n",
       "      <td>567</td>\n",
       "      <td>0</td>\n",
       "      <td>0</td>\n",
       "      <td>0</td>\n",
       "      <td>0</td>\n",
       "      <td>358</td>\n",
       "    </tr>\n",
       "    <tr>\n",
       "      <th>PCNet</th>\n",
       "      <td>1136</td>\n",
       "      <td>3</td>\n",
       "      <td>52</td>\n",
       "      <td>0</td>\n",
       "      <td>0</td>\n",
       "      <td>0</td>\n",
       "    </tr>\n",
       "    <tr>\n",
       "      <th>Rat-Only</th>\n",
       "      <td>27</td>\n",
       "      <td>5</td>\n",
       "      <td>129</td>\n",
       "      <td>0</td>\n",
       "      <td>527</td>\n",
       "      <td>0</td>\n",
       "    </tr>\n",
       "  </tbody>\n",
       "</table>\n",
       "</div>"
      ],
      "text/plain": [
       "            human_seed  overlapping_seeds  rat_seed  Network (Conserved)  \\\n",
       "subgraph                                                                   \n",
       "Conserved          228                 21       114                  294   \n",
       "Human-Only         567                  0         0                    0   \n",
       "PCNet             1136                  3        52                    0   \n",
       "Rat-Only            27                  5       129                    0   \n",
       "\n",
       "            Network (Rat)  Network (Human)  \n",
       "subgraph                                    \n",
       "Conserved               0                0  \n",
       "Human-Only              0              358  \n",
       "PCNet                   0                0  \n",
       "Rat-Only              527                0  "
      ]
     },
     "execution_count": 105,
     "metadata": {},
     "output_type": "execute_result"
    }
   ],
   "source": [
    "subgraph_stats"
   ]
  },
  {
   "cell_type": "code",
   "execution_count": 106,
   "metadata": {
    "ExecuteTime": {
     "end_time": "2022-08-08T04:16:29.842377Z",
     "start_time": "2022-08-08T04:16:29.831450Z"
    }
   },
   "outputs": [],
   "source": [
    "subgraph_stats.columns = [\"Human Seed\", \"Shared Seed\", \"Rat Seed\", \"Network (Conserved)\",\"Network (Rat)\",\"Network (Human)\"]"
   ]
  },
  {
   "cell_type": "code",
   "execution_count": 107,
   "metadata": {
    "ExecuteTime": {
     "end_time": "2022-08-08T04:16:31.248667Z",
     "start_time": "2022-08-08T04:16:29.843244Z"
    }
   },
   "outputs": [
    {
     "data": {
      "image/png": "[encoded data removed]",
      "text/plain": [
       "<Figure size 324x288 with 1 Axes>"
      ]
     },
     "metadata": {
      "needs_background": "light"
     },
     "output_type": "display_data"
    }
   ],
   "source": [
    "fig, ax = plt.subplots(ncols=1, nrows=1, figsize=(4.5,4))\n",
    "subgraph_stats.loc[[\"Conserved\", \"Rat-Only\", \"Human-Only\"]].plot(kind=\"bar\", stacked=True, ax=ax,\n",
    "                                                                 color=[\"#85c0f9\", \"#0051a2\",\"#a95aa1\", \"#F5793a\", \"#e5a9df\", \"#c9e1f8\"])\n",
    "plt.legend(ncol=2, handletextpad=0.3, labelspacing=0.2, borderpad=0.4, columnspacing=0.5, fontsize=12, frameon=False)\n",
    "#plt.ylim((0, 1300))\n",
    "#ax.get_legend().remove()\n",
    "plt.xticks(fontsize=12)\n",
    "plt.yticks([0,200, 400, 600, 800, 1000],fontsize=12)\n",
    "ax.set_xticklabels(labels=[\"Conserved\", \"Rat-Sepcific\", \"Human-Specific\"])\n",
    "plt.xlabel(None)\n",
    "ax.tick_params(axis='x', pad=1, length=0)\n",
    "ax.tick_params(axis='y', pad=1, length=2)\n",
    "plt.ylabel(\"Number of Genes\", fontsize=12)\n",
    "plt.savefig(FIGDIR + \"species_specific_bars.png\", dpi=400, bbox_inches=\"tight\")"
   ]
  },
  {
   "cell_type": "markdown",
   "metadata": {},
   "source": [
    "# Tissue enrichments of conserved & species specific networks\n",
    "\n",
    "Tissue enrichments were done using:\n",
    "* Human: http://genetics.wustl.edu/jdlab/tsea/\n",
    "* Mouse: https://tissueenrich.gdcb.iastate.edu/\n",
    "\n",
    "For mouse tissue enrichments, all genes were converted to mouse orthologs using the MGD data downloaded for functional enrichment. "
   ]
  },
  {
   "cell_type": "code",
   "execution_count": 108,
   "metadata": {
    "ExecuteTime": {
     "end_time": "2022-08-08T04:16:31.252739Z",
     "start_time": "2022-08-08T04:16:31.249567Z"
    }
   },
   "outputs": [],
   "source": [
    "def to_mouse_genes(gene_list, mgi_df):\n",
    "    orthos = mgi_df.loc[mgi_df.human_ortholog.isin(gene_list), (\"gene_name\")].unique()\n",
    "    return orthos"
   ]
  },
  {
   "cell_type": "markdown",
   "metadata": {},
   "source": [
    "## Get gene lists for each subnetwork"
   ]
  },
  {
   "cell_type": "code",
   "execution_count": 109,
   "metadata": {
    "ExecuteTime": {
     "end_time": "2022-08-08T04:16:31.293399Z",
     "start_time": "2022-08-08T04:16:31.253448Z"
    }
   },
   "outputs": [],
   "source": [
    "# create lists of genes within the three subgraphs\n",
    "with open(DATADIR + \"outputs/subgraph_genes_conserved.txt\", 'w') as fp:\n",
    "    fp.write('\\n'.join(data.loc[data.subgraph==\"Conserved\"].index.values))\n",
    "with open(DATADIR + \"outputs/subgraph_genes_rat.txt\", 'w') as fp:\n",
    "    fp.write('\\n'.join(data.loc[data.subgraph==\"Rat-Only\"].index.values))\n",
    "with open(DATADIR + \"outputs/subgraph_genes_human.txt\", 'w') as fp:\n",
    "    fp.write('\\n'.join(data.loc[data.subgraph==\"Human-Only\"].index.values))"
   ]
  },
  {
   "cell_type": "code",
   "execution_count": 110,
   "metadata": {
    "ExecuteTime": {
     "end_time": "2022-08-08T04:16:34.585049Z",
     "start_time": "2022-08-08T04:16:31.294086Z"
    }
   },
   "outputs": [],
   "source": [
    "mgi_df = load_MGI_mouseKO_data(url='http://www.informatics.jax.org/downloads/reports/MGI_PhenoGenoMP.rpt',\n",
    "                                         map_using=\"mgi\", update=False, data_loc=DATADIR+\"Reference/\")"
   ]
  },
  {
   "cell_type": "code",
   "execution_count": 111,
   "metadata": {
    "ExecuteTime": {
     "end_time": "2022-08-08T04:16:34.646571Z",
     "start_time": "2022-08-08T04:16:34.586060Z"
    }
   },
   "outputs": [],
   "source": [
    "# create subgraph lists with mouse orthologs\n",
    "with open(DATADIR + \"outputs/subgraph_genes_conserved_mouse_ortho.txt\", 'w') as fp:\n",
    "    fp.write('\\n'.join(to_mouse_genes(data.loc[data.subgraph==\"Conserved\"].index.values, mgi_df)))\n",
    "with open(DATADIR + \"outputs/subgraph_genes_rat_mouse_ortho.txt\", 'w') as fp:\n",
    "    fp.write('\\n'.join(to_mouse_genes(data.loc[data.subgraph==\"Rat-Only\"].index.values, mgi_df)))\n",
    "with open(DATADIR + \"outputs/subgraph_genes_human_mouse_ortho.txt\", 'w') as fp:\n",
    "    fp.write('\\n'.join(to_mouse_genes(data.loc[data.subgraph==\"Human-Only\"].index.values, mgi_df)))"
   ]
  },
  {
   "cell_type": "markdown",
   "metadata": {},
   "source": [
    "## Import tissue enrichment results"
   ]
  },
  {
   "cell_type": "code",
   "execution_count": 112,
   "metadata": {
    "ExecuteTime": {
     "end_time": "2022-08-08T04:16:34.660303Z",
     "start_time": "2022-08-08T04:16:34.647540Z"
    }
   },
   "outputs": [],
   "source": [
    "# read in the results of tissue enrichments in human tissue\n",
    "human_te_files = {\"C\":DATADIR+\"outputs/C_TSEA.txt\", \"R\":DATADIR+\"outputs/R_TSEA.txt\", \"H\":DATADIR+\"outputs/H_TSEA.txt\"}\n",
    "human_te = {}\n",
    "for subgraph in human_te_files:\n",
    "    tsea = pd.read_csv(human_te_files[subgraph], index_col=0, sep=\"\\t\")\n",
    "    tsea[subgraph+\"_FDR\"] = tsea[\"0.05\"].apply(lambda x: -1 * np.log10(float(x.split(\" \")[2])))\n",
    "    human_te[subgraph] = tsea.loc[:, (subgraph+\"_FDR\")]\n",
    "human_te = pd.DataFrame.from_dict(human_te)"
   ]
  },
  {
   "cell_type": "code",
   "execution_count": 113,
   "metadata": {
    "ExecuteTime": {
     "end_time": "2022-08-08T04:16:34.673713Z",
     "start_time": "2022-08-08T04:16:34.661129Z"
    }
   },
   "outputs": [],
   "source": [
    "# read in the results of tissue enrichments in mouse tissue\n",
    "mouse_te_files = {\"C\":DATADIR+\"outputs/C_TSEA_mouse_ENCODE.tsv\", \n",
    "                  \"R\":DATADIR+\"outputs/R_TSEA_mouse_ENCODE.tsv\", \n",
    "                  \"H\":DATADIR+\"outputs/H_TSEA_mouse_ENCODE.tsv\"}\n",
    "mouse_te = {}\n",
    "for subgraph in mouse_te_files:\n",
    "    tsea = pd.read_csv(mouse_te_files[subgraph], index_col=0, sep=\"\\t\")\n",
    "    tsea[subgraph+\"_FDR\"] = -1* np.log10(fdrcorrection(10**(-1* tsea[\"-Log10PValue\"]))[1])\n",
    "    mouse_te[subgraph] = tsea.loc[:, (subgraph+\"_FDR\")]\n",
    "mouse_te = pd.DataFrame.from_dict(mouse_te)"
   ]
  },
  {
   "cell_type": "markdown",
   "metadata": {},
   "source": [
    "## Visualize tissue enrichment results"
   ]
  },
  {
   "cell_type": "code",
   "execution_count": 114,
   "metadata": {
    "ExecuteTime": {
     "end_time": "2022-08-08T04:16:36.882539Z",
     "start_time": "2022-08-08T04:16:34.674540Z"
    }
   },
   "outputs": [
    {
     "data": {
      "image/png": "[encoded data removed]",
      "text/plain": [
       "<Figure size 720x216 with 1 Axes>"
      ]
     },
     "metadata": {
      "needs_background": "light"
     },
     "output_type": "display_data"
    }
   ],
   "source": [
    "human_te.columns = [\"Conserved\", \"Rat-Specific\", \"Human-Specific\"]\n",
    "human_te = human_te.sort_values(by=[\"Conserved\", \"Rat-Specific\"], ascending=False)\n",
    "fig, ax = plt.subplots(figsize=(10,3))\n",
    "human_te.plot.bar(ax=ax, width=0.8, color=[\"#f5793a\", \"#a95aa1\", \"#85c0f9\"], fontsize=12)\n",
    "ax.set_ylabel(\"-log10(q)\", fontsize=12)\n",
    "ax.set_xlabel(None)\n",
    "plt.hlines(-1 *np.log10(0.05),-0.5, 24.5, color=\"black\", linestyle=\"dashed\", linewidth=0.5)\n",
    "plt.legend(fontsize=12, frameon=False,handletextpad=0.3, labelspacing=0.2 )\n",
    "plt.tick_params(axis='x', pad=1, length=0)\n",
    "plt.tick_params(axis='y', pad=1, length=2)\n",
    "plt.yticks([0,2,4,6])\n",
    "plt.savefig(FIGDIR+\"tissue_enrichment_human_GTEx.png\", bbox_inches=\"tight\", dpi=400)\n"
   ]
  },
  {
   "cell_type": "code",
   "execution_count": 115,
   "metadata": {
    "ExecuteTime": {
     "end_time": "2022-08-08T04:16:38.963288Z",
     "start_time": "2022-08-08T04:16:36.883440Z"
    }
   },
   "outputs": [
    {
     "data": {
      "image/png": "[encoded data removed]",
      "text/plain": [
       "<Figure size 720x216 with 1 Axes>"
      ]
     },
     "metadata": {
      "needs_background": "light"
     },
     "output_type": "display_data"
    }
   ],
   "source": [
    "mouse_te.columns = [\"Conserved\", \"Rat-Specific\", \"Human-Specific\"]\n",
    "mouse_te = mouse_te.sort_values(by=[\"Conserved\", \"Rat-Specific\", \"Human-Specific\"], ascending=False)\n",
    "fig, ax = plt.subplots(figsize=(10,3))\n",
    "mouse_te.plot.bar(ax=ax, width=0.8, color=[\"#f5793a\", \"#a95aa1\", \"#85c0f9\"], fontsize=12)\n",
    "ax.set_ylabel(\"-log10(q)\", fontsize=12)\n",
    "ax.set_xlabel(None)\n",
    "plt.hlines(-1 *np.log10(0.05),-0.5, 24.5, color=\"black\", linestyle=\"dashed\", linewidth=0.5)\n",
    "plt.legend(fontsize=12, frameon=False,handletextpad=0.3, labelspacing=0.2 )\n",
    "plt.tick_params(axis='x', pad=1, length=0)\n",
    "plt.tick_params(axis='y', pad=1, length=2)\n",
    "plt.yticks([0,1,2,3,4,5])\n",
    "#plt.title(\"Enrichment of Tissue-Specific Genes from mouse ENCODE\")\n",
    "plt.savefig(FIGDIR+\"tissue_enrichment_mouse_ENCODE.png\", bbox_inches=\"tight\", dpi=400)\n"
   ]
  },
  {
   "cell_type": "markdown",
   "metadata": {},
   "source": [
    "# Hierarchical Community Detection of Species Specific Networks"
   ]
  },
  {
   "cell_type": "markdown",
   "metadata": {},
   "source": [
    "## Define the combined network\n",
    "\n",
    "To create a unified network for analyzing conserved, rat-specific and human-specific genes we take all genes with $NPS_r > 1$ **or** $NPS_h$ > 1.5 - corresponding to the same-species thresholds used to define the rat-specific and human-specific networks. "
   ]
  },
  {
   "cell_type": "code",
   "execution_count": 116,
   "metadata": {
    "ExecuteTime": {
     "end_time": "2022-08-08T04:16:52.923648Z",
     "start_time": "2022-08-08T04:16:38.964564Z"
    }
   },
   "outputs": [
    {
     "name": "stdout",
     "output_type": "stream",
     "text": [
      "number of nodes:\n",
      "18820\n",
      "\n",
      "number of edges:\n",
      "2693109\n"
     ]
    }
   ],
   "source": [
    "pc_nodes, G = load_pcnet()"
   ]
  },
  {
   "cell_type": "code",
   "execution_count": 117,
   "metadata": {
    "ExecuteTime": {
     "end_time": "2022-08-08T04:16:53.880947Z",
     "start_time": "2022-08-08T04:16:52.924878Z"
    }
   },
   "outputs": [],
   "source": [
    "# extract just the nodes meeting our criteria\n",
    "G_all = G.subgraph(nodes=data.loc[(data.NPS_r > rat_only[\"rat\"]) | (data.NPS_h > human_only[\"human\"])].index)"
   ]
  },
  {
   "cell_type": "code",
   "execution_count": 118,
   "metadata": {
    "ExecuteTime": {
     "end_time": "2022-08-08T04:16:55.738778Z",
     "start_time": "2022-08-08T04:16:53.882488Z"
    }
   },
   "outputs": [],
   "source": [
    "G_all_cx = ndex2.create_nice_cx_from_networkx(G_all)\n",
    "G_all_cx.set_name(\"Combined Rat-Human-Conserved BMI Network\")"
   ]
  },
  {
   "cell_type": "code",
   "execution_count": 119,
   "metadata": {
    "ExecuteTime": {
     "end_time": "2022-08-08T04:17:06.279458Z",
     "start_time": "2022-08-08T04:16:55.739714Z"
    }
   },
   "outputs": [
    {
     "name": "stdout",
     "output_type": "stream",
     "text": [
      "Username:········\n",
      "Password:········\n",
      "Generating CX\n"
     ]
    },
    {
     "data": {
      "text/plain": [
       "'https://www.ndexbio.org/v2/network/f675d7e6-16d0-11ed-ac45-0ac135e8bacf'"
      ]
     },
     "execution_count": 119,
     "metadata": {},
     "output_type": "execute_result"
    }
   ],
   "source": [
    "# Save the network to NDEx\n",
    "username = getpass(\"Username:\")\n",
    "passwd = getpass(\"Password:\")\n",
    "client = ndex2.client.Ndex2(username=username, password=passwd)\n",
    "client.save_new_network(G_all_cx.to_cx(), visibility='PRIVATE')"
   ]
  },
  {
   "cell_type": "code",
   "execution_count": 120,
   "metadata": {
    "ExecuteTime": {
     "end_time": "2022-08-08T04:17:06.285171Z",
     "start_time": "2022-08-08T04:17:06.280344Z"
    }
   },
   "outputs": [
    {
     "name": "stdout",
     "output_type": "stream",
     "text": [
      "Number of genes in combined network: 6025\n"
     ]
    }
   ],
   "source": [
    "print(\"Number of genes in combined network:\", len(G_all.nodes))"
   ]
  },
  {
   "cell_type": "markdown",
   "metadata": {},
   "source": [
    "## Perform hierarchical community detection"
   ]
  },
  {
   "cell_type": "code",
   "execution_count": 121,
   "metadata": {
    "ExecuteTime": {
     "end_time": "2022-08-08T04:17:06.319499Z",
     "start_time": "2022-08-08T04:17:06.287209Z"
    }
   },
   "outputs": [],
   "source": [
    "if rerun_analysis:\n",
    "    cd = cdapsutil.CommunityDetection()\n",
    "    G_all_hier = cd.run_community_detection(G_all_cx, algorithm='hidefv1.1beta',arguments={'--maxres':str(10)})\n",
    "    print('Hierarchy name: ' + str(G_all_hier.get_name()))\n",
    "    print('# nodes: ' + str(len(G_all_hier.get_nodes())))\n",
    "    print('# edges: ' + str(len(G_all_hier.get_edges())))\n",
    "    all_hier_nx = G_all_hier.to_networkx(mode='default')\n",
    "    nodes = all_hier_nx.nodes()\n",
    "# print out interactome num nodes and edges for diagnostic purposes\n",
    "    print('number of nodes:')\n",
    "    print(len(all_hier_nx.nodes()))\n",
    "    print('\\nnumber of edges:')\n",
    "    print(len(all_hier_nx.edges()))\n",
    "# add node attributes to dataframe for easier access\n",
    "    all_hier_df = pd.DataFrame.from_dict(dict(all_hier_nx.nodes(data=True)), orient='index')\n",
    "    all_hier_df['system_ID']=all_hier_df.index.tolist()\n",
    "# fix column types\n",
    "    all_hier_df['CD_MemberList_Size']=[int(x) for x in all_hier_df['CD_MemberList_Size'].tolist()]\n",
    "    all_hier_df['HiDeF_persistence']=[int(x) for x in all_hier_df['HiDeF_persistence'].tolist()]\n",
    "    all_hier_df.set_index(\"name\", inplace=True, drop=True)\n",
    "    all_hier_df.index.name=None\n",
    "else:\n",
    "    # load the hierarchy data\n",
    "    all_hier_df = pd.read_csv(DATADIR + \"outputs/species_combined_hierarchy_data.tsv\", sep=\"\\t\", index_col=0)"
   ]
  },
  {
   "cell_type": "markdown",
   "metadata": {},
   "source": [
    "## Annotate the hiearchy with GO terms"
   ]
  },
  {
   "cell_type": "code",
   "execution_count": 122,
   "metadata": {
    "ExecuteTime": {
     "end_time": "2022-08-08T04:17:06.324291Z",
     "start_time": "2022-08-08T04:17:06.320310Z"
    }
   },
   "outputs": [],
   "source": [
    "\n",
    "def filter_go_annotations(go_df, term_min=50, term_max=1000, p_th=1e-4, min_intersection=3):\n",
    "    go_df = go_df[(go_df['term_size'] <= term_max) & (go_df['term_size'] >= term_min)]\n",
    "    go_df = go_df[go_df['intersection_size'] >= min_intersection]\n",
    "    go_df = go_df[go_df['p_value'] < p_th] # set a stringent pvalue threshold\n",
    "    go_df['sum_PR'] = go_df['recall'] + go_df['precision']\n",
    "    go_df = go_df.sort_values('sum_PR',ascending=False)\n",
    "    return go_df"
   ]
  },
  {
   "cell_type": "code",
   "execution_count": 123,
   "metadata": {
    "ExecuteTime": {
     "end_time": "2022-08-08T04:17:06.766708Z",
     "start_time": "2022-08-08T04:17:06.325027Z"
    }
   },
   "outputs": [],
   "source": [
    "# Annotate with GO terms\n",
    "# gprofiler annotation of clusters\n",
    "if rerun_analysis:\n",
    "    system_names = {}\n",
    "    all_results = []\n",
    "    for comm in tqdm(all_hier_df.index.tolist()):\n",
    "        if isinstance(all_hier_df['CD_MemberList'].loc[comm], str):\n",
    "            focal_genes=all_hier_df['CD_MemberList'].loc[comm].split(' ')\n",
    "        else:\n",
    "            focal_genes=all_hier_df['CD_MemberList'].loc[comm]\n",
    "        print(comm,\":\", len(focal_genes))\n",
    "        system_names[comm] = comm # default is to keep identifier as name, will be replaced if confident annotation available\n",
    "        if len(focal_genes)>2:\n",
    "            # sometimes we get server errors, can usually be resolved by just retrying the submission\n",
    "            retry=True\n",
    "            attempts=1\n",
    "            while retry and attempts < 10:\n",
    "                try:\n",
    "                    gp_temp = pd.DataFrame(gp.profile(focal_genes,significance_threshold_method='fdr',\n",
    "                                               sources=['GO:BP'], no_evidences=False))\n",
    "                    retry=False\n",
    "                    if len(gp_temp)>0: # make sure data is not empty\n",
    "                        gp_temp[\"community\"] = comm\n",
    "                        all_results.append(gp_temp)\n",
    "                        gp_temp = filter_go_annotations(gp_temp, 50, 1000, 1e-3, 3)\n",
    "                        if len(gp_temp)>1:\n",
    "                            system_names[comm] = gp_temp.head(1)['name'].tolist()[0]\n",
    "                    #all_results.append(gp_temp)\n",
    "                except AssertionError:\n",
    "                    attempts += 1\n",
    "                    print(\"Server error. Retrying....\")\n",
    "                 \n",
    "    go_results = pd.concat(all_results)\n",
    "    go_results.to_csv(DATADIR+\"outputs/rerun_species_combined_hierarchy_GO_enrichment.tsv\", index=True, sep=\"\\t\")\n",
    "            \n",
    "else:\n",
    "    go_results = pd.read_csv(DATADIR+ \"outputs/species_combined_hierarchy_GO_enrichment.tsv\", index_col=None, sep=\"\\t\")\n",
    "    go_results = filter_go_annotations(go_results, 50, 1000, 1e-3, 3)\n",
    "    system_names = {}\n",
    "    for comm in all_hier_df.index.tolist():\n",
    "        if comm in go_results['community'].tolist():\n",
    "            system_names[comm] = go_results[go_results['community']==comm]['name'].tolist()[0]\n",
    "        else:\n",
    "            system_names[comm] = comm"
   ]
  },
  {
   "cell_type": "code",
   "execution_count": 124,
   "metadata": {
    "ExecuteTime": {
     "end_time": "2022-08-08T04:17:06.774167Z",
     "start_time": "2022-08-08T04:17:06.767877Z"
    }
   },
   "outputs": [],
   "source": [
    "# Save the system annotations\n",
    "pd.DataFrame.from_dict(system_names, orient=\"index\").to_csv(DATADIR + \"outputs/species_combined_hierarchy_system_names.tsv\", sep=\"\\t\")"
   ]
  },
  {
   "cell_type": "markdown",
   "metadata": {
    "ExecuteTime": {
     "end_time": "2022-07-12T19:49:09.856949Z",
     "start_time": "2022-07-12T19:49:09.855240Z"
    }
   },
   "source": [
    "## Annotate the global systems map"
   ]
  },
  {
   "cell_type": "code",
   "execution_count": 125,
   "metadata": {
    "ExecuteTime": {
     "end_time": "2022-08-08T04:17:06.783606Z",
     "start_time": "2022-08-08T04:17:06.774955Z"
    }
   },
   "outputs": [],
   "source": [
    "# split the gene list into a list object\n",
    "all_hier_df[\"CD_MemberList\"] = all_hier_df.CD_MemberList.apply(lambda x: x.split(\" \"))"
   ]
  },
  {
   "cell_type": "code",
   "execution_count": 126,
   "metadata": {
    "ExecuteTime": {
     "end_time": "2022-08-08T04:17:06.800130Z",
     "start_time": "2022-08-08T04:17:06.784398Z"
    }
   },
   "outputs": [
    {
     "data": {
      "text/html": [
       "<div>\n",
       "<style scoped>\n",
       "    .dataframe tbody tr th:only-of-type {\n",
       "        vertical-align: middle;\n",
       "    }\n",
       "\n",
       "    .dataframe tbody tr th {\n",
       "        vertical-align: top;\n",
       "    }\n",
       "\n",
       "    .dataframe thead th {\n",
       "        text-align: right;\n",
       "    }\n",
       "</style>\n",
       "<table border=\"1\" class=\"dataframe\">\n",
       "  <thead>\n",
       "    <tr style=\"text-align: right;\">\n",
       "      <th></th>\n",
       "      <th>NPS_r</th>\n",
       "      <th>NPS_h</th>\n",
       "      <th>NPS_hr</th>\n",
       "      <th>rat_seed</th>\n",
       "      <th>human_seed</th>\n",
       "      <th>subgraph</th>\n",
       "      <th>overlapping_seeds</th>\n",
       "    </tr>\n",
       "    <tr>\n",
       "      <th>gene</th>\n",
       "      <th></th>\n",
       "      <th></th>\n",
       "      <th></th>\n",
       "      <th></th>\n",
       "      <th></th>\n",
       "      <th></th>\n",
       "      <th></th>\n",
       "    </tr>\n",
       "  </thead>\n",
       "  <tbody>\n",
       "    <tr>\n",
       "      <th>A1BG</th>\n",
       "      <td>0.125314</td>\n",
       "      <td>-0.488576</td>\n",
       "      <td>-0.061226</td>\n",
       "      <td>0</td>\n",
       "      <td>0</td>\n",
       "      <td>PCNet</td>\n",
       "      <td>0</td>\n",
       "    </tr>\n",
       "    <tr>\n",
       "      <th>A1CF</th>\n",
       "      <td>2.540447</td>\n",
       "      <td>2.186042</td>\n",
       "      <td>5.553524</td>\n",
       "      <td>0</td>\n",
       "      <td>0</td>\n",
       "      <td>Conserved</td>\n",
       "      <td>0</td>\n",
       "    </tr>\n",
       "    <tr>\n",
       "      <th>A2M</th>\n",
       "      <td>0.651845</td>\n",
       "      <td>-0.581848</td>\n",
       "      <td>-0.379275</td>\n",
       "      <td>0</td>\n",
       "      <td>0</td>\n",
       "      <td>PCNet</td>\n",
       "      <td>0</td>\n",
       "    </tr>\n",
       "    <tr>\n",
       "      <th>A2ML1</th>\n",
       "      <td>-1.315517</td>\n",
       "      <td>-1.108608</td>\n",
       "      <td>1.458393</td>\n",
       "      <td>0</td>\n",
       "      <td>0</td>\n",
       "      <td>PCNet</td>\n",
       "      <td>0</td>\n",
       "    </tr>\n",
       "    <tr>\n",
       "      <th>A3GALT2</th>\n",
       "      <td>-0.546107</td>\n",
       "      <td>-0.243477</td>\n",
       "      <td>0.132964</td>\n",
       "      <td>0</td>\n",
       "      <td>1</td>\n",
       "      <td>PCNet</td>\n",
       "      <td>0</td>\n",
       "    </tr>\n",
       "  </tbody>\n",
       "</table>\n",
       "</div>"
      ],
      "text/plain": [
       "            NPS_r     NPS_h    NPS_hr  rat_seed  human_seed   subgraph  \\\n",
       "gene                                                                     \n",
       "A1BG     0.125314 -0.488576 -0.061226         0           0      PCNet   \n",
       "A1CF     2.540447  2.186042  5.553524         0           0  Conserved   \n",
       "A2M      0.651845 -0.581848 -0.379275         0           0      PCNet   \n",
       "A2ML1   -1.315517 -1.108608  1.458393         0           0      PCNet   \n",
       "A3GALT2 -0.546107 -0.243477  0.132964         0           1      PCNet   \n",
       "\n",
       "         overlapping_seeds  \n",
       "gene                        \n",
       "A1BG                     0  \n",
       "A1CF                     0  \n",
       "A2M                      0  \n",
       "A2ML1                    0  \n",
       "A3GALT2                  0  "
      ]
     },
     "execution_count": 126,
     "metadata": {},
     "output_type": "execute_result"
    }
   ],
   "source": [
    "data.head()"
   ]
  },
  {
   "cell_type": "code",
   "execution_count": 127,
   "metadata": {
    "ExecuteTime": {
     "end_time": "2022-08-08T04:17:06.826422Z",
     "start_time": "2022-08-08T04:17:06.800944Z"
    }
   },
   "outputs": [],
   "source": [
    "conserved_net_genes = data.loc[(data.subgraph == \"Conserved\") & (data.rat_seed + data.human_seed + data.overlapping_seeds == 0)].index.values\n",
    "rat_net_genes = data.loc[(data.subgraph == \"Rat-Only\") & (data.rat_seed + data.human_seed + data.overlapping_seeds == 0)].index.values\n",
    "human_net_genes = data.loc[(data.subgraph == \"Human-Only\") & (data.rat_seed + data.human_seed + data.overlapping_seeds == 0)].index.values"
   ]
  },
  {
   "cell_type": "code",
   "execution_count": 128,
   "metadata": {
    "ExecuteTime": {
     "end_time": "2022-08-08T04:17:07.378294Z",
     "start_time": "2022-08-08T04:17:06.827232Z"
    }
   },
   "outputs": [],
   "source": [
    "# Fraction of genes from each subnetwork\n",
    "all_hier_df[\"frac_conserved\"] = all_hier_df.CD_MemberList.apply(lambda x: len(data.loc[(data.index.isin(x)) & (data.subgraph==\"Conserved\")].index.values)/len(x))\n",
    "all_hier_df[\"frac_rat\"] = all_hier_df.CD_MemberList.apply(lambda x: len(data.loc[(data.index.isin(x)) & (data.subgraph==\"Rat-Only\")].index.values)/len(x))\n",
    "all_hier_df[\"frac_human\"] = all_hier_df.CD_MemberList.apply(lambda x: len(data.loc[(data.index.isin(x)) & (data.subgraph==\"Human-Only\")].index.values)/len(x))"
   ]
  },
  {
   "cell_type": "code",
   "execution_count": 129,
   "metadata": {
    "ExecuteTime": {
     "end_time": "2022-08-08T04:17:07.382149Z",
     "start_time": "2022-08-08T04:17:07.379221Z"
    }
   },
   "outputs": [],
   "source": [
    "hier_fractions = all_hier_df.loc[:,(\"CD_MemberList\", \"CD_MemberList_Size\")]"
   ]
  },
  {
   "cell_type": "code",
   "execution_count": 130,
   "metadata": {
    "ExecuteTime": {
     "end_time": "2022-08-08T04:17:08.186680Z",
     "start_time": "2022-08-08T04:17:07.383210Z"
    }
   },
   "outputs": [],
   "source": [
    "hier_fractions[\"h_seed\"] = hier_fractions.CD_MemberList.apply(lambda x: len(data.loc[(data.index.isin(x)) & (data.human_seed==1) & (data.overlapping_seeds==0)]))\n",
    "hier_fractions[\"hr_seed\"] = hier_fractions.CD_MemberList.apply(lambda x: len(data.loc[(data.index.isin(x)) & (data.overlapping_seeds==1)]))\n",
    "hier_fractions[\"r_seed\"] = hier_fractions.CD_MemberList.apply(lambda x: len(data.loc[(data.index.isin(x)) & (data.rat_seed==1) & (data.overlapping_seeds==0)]))\n",
    "hier_fractions[\"h_net\"] = hier_fractions.CD_MemberList.apply(lambda x: len(data.loc[(data.index.isin(x)) & (data.index.isin(human_net_genes))]))\n",
    "hier_fractions[\"c_net\"] = hier_fractions.CD_MemberList.apply(lambda x: len(data.loc[(data.index.isin(x)) & (data.index.isin(conserved_net_genes))]))\n",
    "hier_fractions[\"r_net\"] = hier_fractions.CD_MemberList.apply(lambda x: len(data.loc[(data.index.isin(x)) & (data.index.isin(rat_net_genes))]))"
   ]
  },
  {
   "cell_type": "code",
   "execution_count": 131,
   "metadata": {
    "ExecuteTime": {
     "end_time": "2022-08-08T04:17:08.197560Z",
     "start_time": "2022-08-08T04:17:08.187597Z"
    }
   },
   "outputs": [],
   "source": [
    "hier_fractions.to_csv(DATADIR+\"outputs/species_subnetwork_combined_hierarchy_fractions.tsv\", sep=\"\\t\")"
   ]
  },
  {
   "cell_type": "code",
   "execution_count": 132,
   "metadata": {
    "ExecuteTime": {
     "end_time": "2022-08-08T04:17:08.292872Z",
     "start_time": "2022-08-08T04:17:08.198263Z"
    }
   },
   "outputs": [],
   "source": [
    "# significance of the number of genes from each subnetwork\n",
    "M = 6025\n",
    "all_hier_df[\"p_rat\"] = all_hier_df.apply(lambda x: hypergeom.sf(M=6025, n=688, N=x.CD_MemberList_Size, \n",
    "                                                                k=int(x.frac_rat*x.CD_MemberList_Size)), axis=1)\n",
    "all_hier_df[\"p_human\"] = all_hier_df.apply(lambda x: hypergeom.sf(M=6025, n=925, N=x.CD_MemberList_Size, \n",
    "                                                                k=int(x.frac_human*x.CD_MemberList_Size)), axis=1)\n",
    "all_hier_df[\"p_conserved\"] = all_hier_df.apply(lambda x: hypergeom.sf(M=6025, n=657, N=x.CD_MemberList_Size, \n",
    "                                                                k=int(x.frac_conserved*x.CD_MemberList_Size)), axis=1)"
   ]
  },
  {
   "cell_type": "code",
   "execution_count": 133,
   "metadata": {
    "ExecuteTime": {
     "end_time": "2022-08-08T04:17:08.296421Z",
     "start_time": "2022-08-08T04:17:08.293666Z"
    }
   },
   "outputs": [],
   "source": [
    "# perform multiple hypothesis correction for each test\n",
    "all_hier_df[\"q_rat\"] = fdrcorrection(all_hier_df[\"p_rat\"])[1]\n",
    "all_hier_df[\"q_human\"] = fdrcorrection(all_hier_df[\"p_human\"])[1]\n",
    "all_hier_df[\"q_conserved\"] = fdrcorrection(all_hier_df[\"p_conserved\"])[1]"
   ]
  },
  {
   "cell_type": "code",
   "execution_count": 134,
   "metadata": {
    "ExecuteTime": {
     "end_time": "2022-08-08T04:17:08.310264Z",
     "start_time": "2022-08-08T04:17:08.297349Z"
    }
   },
   "outputs": [],
   "source": [
    "# identify the significantly over-represented communities\n",
    "all_hier_df[\"sig_rat\"] = 1 * (all_hier_df[\"q_rat\"] < 0.05)\n",
    "all_hier_df[\"sig_human\"] = 1 * (all_hier_df[\"q_human\"] < 0.05)\n",
    "all_hier_df[\"sig_conserved\"] = 1 * (all_hier_df[\"q_conserved\"] < 0.05)\n",
    "all_hier_df[\"sig_network\"] = \"\"\n",
    "all_hier_df.loc[all_hier_df[\"sig_rat\"] == 1, \"sig_network\"] += \"rat\"\n",
    "all_hier_df.loc[all_hier_df[\"sig_human\"] == 1, \"sig_network\"] += \"human\"\n",
    "all_hier_df.loc[all_hier_df[\"sig_conserved\"] == 1, \"sig_network\"] += \"conserved\""
   ]
  },
  {
   "cell_type": "code",
   "execution_count": 135,
   "metadata": {
    "ExecuteTime": {
     "end_time": "2022-08-08T04:17:08.321687Z",
     "start_time": "2022-08-08T04:17:08.311087Z"
    }
   },
   "outputs": [],
   "source": [
    "if rerun_analysis:\n",
    "    # assign these attributes to the combined hierarchy\n",
    "    for idx, node in G_all_hier.get_nodes():\n",
    "        for attr in [\"frac_conserved\", \"frac_rat\", \"frac_human\", \"q_conserved\",\"q_rat\", \"q_human\", \"sig_rat\", \"sig_network\"]:\n",
    "            G_all_hier.set_node_attribute(idx, attr, all_hier_df.loc[node['n'], attr])\n",
    "        G_all_hier.set_node_attribute(idx, \"Annotation\", system_names[node['n']])\n",
    "    G_all_hier.set_name(\"Combined Rat-Human-Conserved BMI Hierarchy\")"
   ]
  },
  {
   "cell_type": "markdown",
   "metadata": {},
   "source": [
    "## Upload the combined systems map"
   ]
  },
  {
   "cell_type": "code",
   "execution_count": 136,
   "metadata": {
    "ExecuteTime": {
     "end_time": "2022-08-08T04:17:08.390844Z",
     "start_time": "2022-08-08T04:17:08.322443Z"
    }
   },
   "outputs": [],
   "source": [
    "if rerun_analysis:\n",
    "    username = getpass(\"Username:\")\n",
    "    passwd = getpass(\"Password:\")\n",
    "    client = ndex2.client.Ndex2(username=username, password=passwd)\n",
    "    client.save_new_network(G_all_hier.to_cx(), visibility='PRIVATE')"
   ]
  },
  {
   "cell_type": "code",
   "execution_count": 137,
   "metadata": {
    "ExecuteTime": {
     "end_time": "2022-08-08T04:17:08.400922Z",
     "start_time": "2022-08-08T04:17:08.392510Z"
    }
   },
   "outputs": [],
   "source": [
    "# save the table of hierarchy data\n",
    "if rerun_analysis:\n",
    "    all_hier_df.to_csv(DATADIR + \"outputs/rerun_species_combined_hierarchy_data.tsv\", sep=\"\\t\")"
   ]
  },
  {
   "cell_type": "markdown",
   "metadata": {},
   "source": [
    "## Visualize over-represented communities"
   ]
  },
  {
   "cell_type": "code",
   "execution_count": 138,
   "metadata": {
    "ExecuteTime": {
     "end_time": "2022-08-08T04:17:14.230406Z",
     "start_time": "2022-08-08T04:17:08.401728Z"
    }
   },
   "outputs": [
    {
     "data": {
      "image/png": "[encoded data removed]",
      "text/plain": [
       "<Figure size 1440x288 with 1 Axes>"
      ]
     },
     "metadata": {
      "needs_background": "light"
     },
     "output_type": "display_data"
    }
   ],
   "source": [
    "fig, ax = plt.subplots(nrows=1, ncols=1, figsize=(20, 4))\n",
    "plot_data = all_hier_df.sort_values(by=[\"q_conserved\", \"q_rat\", \"q_human\"]).loc[:, (\"q_conserved\", \"q_rat\", \"q_human\")]\n",
    "(-1 * np.log10(plot_data)).plot.bar(ax=ax, width=0.8, color=[\"#f5793a\", \"#a95aa1\", \"#85c0f9\"])\n",
    "plt.xlabel(\"Community\", fontsize=16)\n",
    "_ = plt.ylabel(\"-log$_{10}(q)$\", fontsize=16)\n",
    "_ = plt.title(\"Results of hypergeometric test for number of subnetwork genes in each community\")"
   ]
  },
  {
   "cell_type": "markdown",
   "metadata": {},
   "source": [
    "# Scaled Figures"
   ]
  },
  {
   "cell_type": "code",
   "execution_count": 139,
   "metadata": {
    "ExecuteTime": {
     "end_time": "2022-08-08T04:17:17.433019Z",
     "start_time": "2022-08-08T04:17:14.231328Z"
    }
   },
   "outputs": [
    {
     "data": {
      "image/png": "[encoded data removed]",
      "text/plain": [
       "<Figure size 468x144 with 3 Axes>"
      ]
     },
     "metadata": {
      "needs_background": "light"
     },
     "output_type": "display_data"
    }
   ],
   "source": [
    "fig, [ax1, ax2, ax3] = plt.subplots(nrows=1, ncols=3, figsize=(6.5, 2))\n",
    "plot_species_nps(data, \"conserved\", conserved, ax1)\n",
    "plot_species_nps(data, \"rat\", rat_only, ax2)\n",
    "plot_species_nps(data, \"human\", human_only, ax3)\n",
    "ax1.set_title(\"a\", loc=\"left\", fontsize=12)\n",
    "ax2.set_title(\"b\", loc=\"left\", fontsize=12)\n",
    "ax3.set_title(\"c\", loc=\"left\", fontsize=12)\n",
    "plt.savefig(FIGDIR + \"definition_of_networks.png\", dpi=400, bbox_inches=\"tight\")\n"
   ]
  },
  {
   "cell_type": "code",
   "execution_count": 140,
   "metadata": {
    "ExecuteTime": {
     "end_time": "2022-08-08T04:17:19.398776Z",
     "start_time": "2022-08-08T04:17:17.433950Z"
    }
   },
   "outputs": [
    {
     "data": {
      "image/png": "[encoded data removed]",
      "text/plain": [
       "<Figure size 288x288 with 1 Axes>"
      ]
     },
     "metadata": {
      "needs_background": "light"
     },
     "output_type": "display_data"
    }
   ],
   "source": [
    "fig, ax = plt.subplots(nrows=1, ncols=1, figsize=(4,4))\n",
    "cmap = {\"Conserved\": \"#F5793A\",\"Rat-Only\": \"#a95aa1\", \"Human-Only\": \"#85c0f9\", \"PCNet\":\"grey\" }\n",
    "sns.scatterplot(data=data[data.rat_seed+data.human_seed==0], x=\"NPS_h\", y=\"NPS_r\", hue=\"subgraph\", palette=cmap, s=5, ax=ax, markers=True, alpha=0.8)\n",
    "ax.set_xticks([ -2 ,0, 2, 4, 6])\n",
    "ax.set_yticks([ -2 ,0, 2, 4, 6])\n",
    "ax.tick_params(labelsize=7)\n",
    "plt.xlabel(\"$NPS_h$\", fontsize=7)\n",
    "plt.ylabel(\"$NPS_r$\", fontsize=7)\n",
    "ax.get_legend().remove()\n",
    "plt.legend(ncol=1, handletextpad=0.05, labelspacing=0.1, borderpad=0.4, fontsize=7, frameon=False, markerscale=0.5,\n",
    "          labels=[\"\", \"Combined Network\", \"Conserved\", \"Human-Specific\", \"Rat-Specific\"])\n",
    "ax.spines['top'].set_position(('data', 0.0))\n",
    "ax.spines['right'].set_position(('data', 0.0))\n",
    "plt.savefig(FIGDIR+\"subnetworks_no_seeds.png\",  dpi=400, bbox_inches=\"tight\")\n"
   ]
  },
  {
   "cell_type": "code",
   "execution_count": 141,
   "metadata": {
    "ExecuteTime": {
     "end_time": "2022-08-08T04:17:19.975609Z",
     "start_time": "2022-08-08T04:17:19.399799Z"
    }
   },
   "outputs": [
    {
     "data": {
      "image/png": "[encoded data removed]",
      "text/plain": [
       "<Figure size 180x144 with 1 Axes>"
      ]
     },
     "metadata": {
      "needs_background": "light"
     },
     "output_type": "display_data"
    }
   ],
   "source": [
    "fig, ax = plt.subplots(ncols=1, nrows=1, figsize=(2.5,2))\n",
    "subgraph_stats.loc[[\"Conserved\", \"Rat-Only\", \"Human-Only\"]].plot(kind=\"bar\", stacked=True, ax=ax,\n",
    "                                                                 color=[\"#85c0f9\", \"#0051a2\",\"#a95aa1\", \"#F5793a\", \"#e5a9df\", \"#c9e1f8\"])\n",
    "plt.legend(ncol=2, handletextpad=0.3, labelspacing=0.2, borderpad=0.4, columnspacing=0.5, fontsize=7, frameon=False)\n",
    "#plt.ylim((0, 1300))\n",
    "ax.get_legend().remove()\n",
    "plt.xticks(fontsize=7)\n",
    "plt.yticks([0,200, 400, 600, 800, 1000],fontsize=7)\n",
    "ax.set_xticklabels(labels=[\"Conserved\", \"Rat-Sepcific\", \"Human-Specific\"])\n",
    "plt.xlabel(None)\n",
    "ax.tick_params(axis='x', pad=1, length=0)\n",
    "ax.tick_params(axis='y', pad=1, length=2)\n",
    "plt.ylabel(\"Number of Genes\", fontsize=7)\n",
    "plt.savefig(FIGDIR+\"species_specific_bars.png\",  dpi=400, bbox_inches=\"tight\")"
   ]
  },
  {
   "cell_type": "code",
   "execution_count": 142,
   "metadata": {
    "ExecuteTime": {
     "end_time": "2022-08-08T04:17:22.714655Z",
     "start_time": "2022-08-08T04:17:19.976467Z"
    }
   },
   "outputs": [
    {
     "data": {
      "image/png": "[encoded data removed]",
      "text/plain": [
       "<Figure size 360x144 with 1 Axes>"
      ]
     },
     "metadata": {
      "needs_background": "light"
     },
     "output_type": "display_data"
    }
   ],
   "source": [
    "human_te.columns = [\"Conserved\", \"Rat-Specific\", \"Human-Specific\"]\n",
    "human_te = human_te.sort_values(by=[\"Conserved\", \"Rat-Specific\"], ascending=False)\n",
    "fig, ax = plt.subplots(figsize=(5,2))\n",
    "human_te.plot.bar(ax=ax, width=0.8, color=[\"#f5793a\", \"#a95aa1\", \"#85c0f9\"], fontsize=7)\n",
    "ax.set_ylabel(\"-log10(q)\", fontsize=7)\n",
    "ax.set_xlabel(None)\n",
    "plt.hlines(-1 *np.log10(0.05),-0.5, 24.5, color=\"black\", linestyle=\"dashed\", linewidth=0.5)\n",
    "plt.legend(fontsize=7, frameon=False,handletextpad=0.3, labelspacing=0.2 )\n",
    "plt.tick_params(axis='x', pad=1, length=0)\n",
    "plt.tick_params(axis='y', pad=1, length=2)\n",
    "plt.yticks([0,2,4,6])\n",
    "plt.savefig(FIGDIR+\"tissue_enrichment_human_GTEx.png\", bbox_inches=\"tight\", dpi=400)\n"
   ]
  },
  {
   "cell_type": "code",
   "execution_count": 143,
   "metadata": {
    "ExecuteTime": {
     "end_time": "2022-08-08T04:17:24.308473Z",
     "start_time": "2022-08-08T04:17:22.715627Z"
    }
   },
   "outputs": [
    {
     "data": {
      "image/png": "[encoded data removed]",
      "text/plain": [
       "<Figure size 360x144 with 1 Axes>"
      ]
     },
     "metadata": {
      "needs_background": "light"
     },
     "output_type": "display_data"
    }
   ],
   "source": [
    "mouse_te.columns = [\"Conserved\", \"Rat-Specific\", \"Human-Specific\"]\n",
    "mouse_te = mouse_te.sort_values(by=[\"Conserved\", \"Rat-Specific\", \"Human-Specific\"], ascending=False)\n",
    "fig, ax = plt.subplots(figsize=(5,2))\n",
    "mouse_te.plot.bar(ax=ax, width=0.8, color=[\"#f5793a\", \"#a95aa1\", \"#85c0f9\"], fontsize=7)\n",
    "ax.set_ylabel(\"-log10(q)\", fontsize=7)\n",
    "ax.set_xlabel(None)\n",
    "plt.hlines(-1 *np.log10(0.05),-0.5, 24.5, color=\"black\", linestyle=\"dashed\", linewidth=0.5)\n",
    "plt.legend(fontsize=7, frameon=False,handletextpad=0.3, labelspacing=0.2 )\n",
    "plt.tick_params(axis='x', pad=1, length=0)\n",
    "plt.tick_params(axis='y', pad=1, length=2)\n",
    "plt.yticks([0,1,2,3,4,5])\n",
    "#plt.title(\"Enrichment of Tissue-Specific Genes from mouse ENCODE\")\n",
    "plt.savefig(FIGDIR+\"tissue_enrichment_mouse_ENCODE.png\", bbox_inches=\"tight\", dpi=400)"
   ]
  }
 ],
 "metadata": {
  "celltoolbar": "Initialization Cell",
  "kernelspec": {
   "display_name": "Python [conda env:netcoloc]",
   "language": "python",
   "name": "conda-env-netcoloc-py"
  },
  "language_info": {
   "codemirror_mode": {
    "name": "ipython",
    "version": 3
   },
   "file_extension": ".py",
   "mimetype": "text/x-python",
   "name": "python",
   "nbconvert_exporter": "python",
   "pygments_lexer": "ipython3",
   "version": "3.9.7"
  },
  "toc": {
   "base_numbering": 1,
   "nav_menu": {},
   "number_sections": true,
   "sideBar": true,
   "skip_h1_title": false,
   "title_cell": "Table of Contents",
   "title_sidebar": "Contents",
   "toc_cell": false,
   "toc_position": {
    "height": "47.7135px",
    "left": "83px",
    "top": "111.125px",
    "width": "344px"
   },
   "toc_section_display": true,
   "toc_window_display": true
  },
  "varInspector": {
   "cols": {
    "lenName": 16,
    "lenType": 16,
    "lenVar": 40
   },
   "kernels_config": {
    "python": {
     "delete_cmd_postfix": "",
     "delete_cmd_prefix": "del ",
     "library": "var_list.py",
     "varRefreshCmd": "print(var_dic_list())"
    },
    "r": {
     "delete_cmd_postfix": ") ",
     "delete_cmd_prefix": "rm(",
     "library": "var_list.r",
     "varRefreshCmd": "cat(var_dic_list()) "
    }
   },
   "types_to_exclude": [
    "module",
    "function",
    "builtin_function_or_method",
    "instance",
    "_Feature"
   ],
   "window_display": false
  }
 },
 "nbformat": 4,
 "nbformat_minor": 2
}
