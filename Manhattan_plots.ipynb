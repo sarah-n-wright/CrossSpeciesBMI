{
 "cells": [
  {
   "cell_type": "markdown",
   "metadata": {},
   "source": [
    "# Some preliminary investigation of mapped rat genes\n",
    "\n",
    "make manhattan plots for rat traits"
   ]
  },
  {
   "cell_type": "markdown",
   "metadata": {},
   "source": [
    "**TODO**\n",
    "* make font easier to read, maybe make chromosomes unrotated but in more condensed font\n",
    "* decide on scales\n",
    "\n",
    "* see if qmplot makes nicer version. "
   ]
  },
  {
   "cell_type": "code",
   "execution_count": 4,
   "metadata": {
    "ExecuteTime": {
     "end_time": "2022-05-14T16:08:04.759530Z",
     "start_time": "2022-05-14T16:08:04.755376Z"
    },
    "init_cell": true
   },
   "outputs": [],
   "source": [
    "\n",
    "import numpy as np\n",
    "import matplotlib.pyplot as plt\n",
    "import seaborn as sns\n",
    "import networkx as nx\n",
    "import pandas as pd\n",
    "import random\n",
    "\n",
    "from IPython.display import display\n",
    "\n",
    "# latex rendering of text in graphs\n",
    "import matplotlib as mpl\n",
    "mpl.rc('text', usetex = False)\n",
    "mpl.rc('font', family = 'serif')\n",
    "\n",
    "from matplotlib import rcParams\n",
    "rcParams['font.family'] = 'sans-serif'\n",
    "rcParams['font.sans-serif'] = ['Arial']\n",
    "\n",
    "sns.set(font_scale=1.4)\n",
    "sns.set_style('white')\n",
    "\n",
    "sns.set_style(\"ticks\", {\"xtick.major.size\": 15, \"ytick.major.size\": 15})\n",
    "plt.rcParams['svg.fonttype'] = 'none'\n",
    "\n",
    "import sys\n",
    "\n",
    "# % matplotlib inline"
   ]
  },
  {
   "cell_type": "code",
   "execution_count": 5,
   "metadata": {
    "ExecuteTime": {
     "end_time": "2022-05-14T16:08:04.810253Z",
     "start_time": "2022-05-14T16:08:04.760564Z"
    },
    "init_cell": true
   },
   "outputs": [],
   "source": [
    "DATADIR = \"/cellar/users/snwright/Data/rat/data/\"\n",
    "OUTDIR = \"/cellar/users/snwright/Data/Transfer/rat/UpdatedFigures/\""
   ]
  },
  {
   "cell_type": "markdown",
   "metadata": {},
   "source": [
    "# SNP level"
   ]
  },
  {
   "cell_type": "code",
   "execution_count": 6,
   "metadata": {
    "ExecuteTime": {
     "end_time": "2022-05-14T16:08:07.870948Z",
     "start_time": "2022-05-14T16:08:04.811313Z"
    },
    "init_cell": true
   },
   "outputs": [
    {
     "data": {
      "text/html": [
       "<div>\n",
       "<style scoped>\n",
       "    .dataframe tbody tr th:only-of-type {\n",
       "        vertical-align: middle;\n",
       "    }\n",
       "\n",
       "    .dataframe tbody tr th {\n",
       "        vertical-align: top;\n",
       "    }\n",
       "\n",
       "    .dataframe thead th {\n",
       "        text-align: right;\n",
       "    }\n",
       "</style>\n",
       "<table border=\"1\" class=\"dataframe\">\n",
       "  <thead>\n",
       "    <tr style=\"text-align: right;\">\n",
       "      <th></th>\n",
       "      <th>Chr</th>\n",
       "      <th>SNP</th>\n",
       "      <th>bp</th>\n",
       "      <th>A1</th>\n",
       "      <th>A2</th>\n",
       "      <th>Freq</th>\n",
       "      <th>b</th>\n",
       "      <th>se</th>\n",
       "      <th>p</th>\n",
       "    </tr>\n",
       "    <tr>\n",
       "      <th>SNP</th>\n",
       "      <th></th>\n",
       "      <th></th>\n",
       "      <th></th>\n",
       "      <th></th>\n",
       "      <th></th>\n",
       "      <th></th>\n",
       "      <th></th>\n",
       "      <th></th>\n",
       "      <th></th>\n",
       "    </tr>\n",
       "  </thead>\n",
       "  <tbody>\n",
       "    <tr>\n",
       "      <th>chr10:142747</th>\n",
       "      <td>10</td>\n",
       "      <td>chr10:142747</td>\n",
       "      <td>142747</td>\n",
       "      <td>T</td>\n",
       "      <td>C</td>\n",
       "      <td>0.887157</td>\n",
       "      <td>-0.061013</td>\n",
       "      <td>0.033174</td>\n",
       "      <td>0.065889</td>\n",
       "    </tr>\n",
       "    <tr>\n",
       "      <th>chr10:143014</th>\n",
       "      <td>10</td>\n",
       "      <td>chr10:143014</td>\n",
       "      <td>143014</td>\n",
       "      <td>T</td>\n",
       "      <td>C</td>\n",
       "      <td>0.887157</td>\n",
       "      <td>-0.061013</td>\n",
       "      <td>0.033174</td>\n",
       "      <td>0.065889</td>\n",
       "    </tr>\n",
       "    <tr>\n",
       "      <th>chr10:143363</th>\n",
       "      <td>10</td>\n",
       "      <td>chr10:143363</td>\n",
       "      <td>143363</td>\n",
       "      <td>T</td>\n",
       "      <td>C</td>\n",
       "      <td>0.887157</td>\n",
       "      <td>-0.061013</td>\n",
       "      <td>0.033174</td>\n",
       "      <td>0.065889</td>\n",
       "    </tr>\n",
       "    <tr>\n",
       "      <th>chr10:143699</th>\n",
       "      <td>10</td>\n",
       "      <td>chr10:143699</td>\n",
       "      <td>143699</td>\n",
       "      <td>G</td>\n",
       "      <td>C</td>\n",
       "      <td>0.887294</td>\n",
       "      <td>-0.061025</td>\n",
       "      <td>0.033182</td>\n",
       "      <td>0.065899</td>\n",
       "    </tr>\n",
       "    <tr>\n",
       "      <th>chr10:143715</th>\n",
       "      <td>10</td>\n",
       "      <td>chr10:143715</td>\n",
       "      <td>143715</td>\n",
       "      <td>C</td>\n",
       "      <td>T</td>\n",
       "      <td>0.887294</td>\n",
       "      <td>-0.061025</td>\n",
       "      <td>0.033182</td>\n",
       "      <td>0.065899</td>\n",
       "    </tr>\n",
       "  </tbody>\n",
       "</table>\n",
       "</div>"
      ],
      "text/plain": [
       "              Chr           SNP      bp A1 A2      Freq         b        se  \\\n",
       "SNP                                                                           \n",
       "chr10:142747   10  chr10:142747  142747  T  C  0.887157 -0.061013  0.033174   \n",
       "chr10:143014   10  chr10:143014  143014  T  C  0.887157 -0.061013  0.033174   \n",
       "chr10:143363   10  chr10:143363  143363  T  C  0.887157 -0.061013  0.033174   \n",
       "chr10:143699   10  chr10:143699  143699  G  C  0.887294 -0.061025  0.033182   \n",
       "chr10:143715   10  chr10:143715  143715  C  T  0.887294 -0.061025  0.033182   \n",
       "\n",
       "                     p  \n",
       "SNP                     \n",
       "chr10:142747  0.065889  \n",
       "chr10:143014  0.065889  \n",
       "chr10:143363  0.065889  \n",
       "chr10:143699  0.065899  \n",
       "chr10:143715  0.065899  "
      ]
     },
     "execution_count": 6,
     "metadata": {},
     "output_type": "execute_result"
    }
   ],
   "source": [
    "\n",
    "rat_stats=pd.read_csv(DATADIR + 'allChr_physiological_bmi_wo_tail.assoc.txt',\n",
    "                      sep='\\t',names=['Chr','SNP','bp','A1','A2','Freq','b','se','p'])\n",
    "rat_stats.index=rat_stats['SNP']\n",
    "rat_stats.head()"
   ]
  },
  {
   "cell_type": "code",
   "execution_count": 12,
   "metadata": {
    "ExecuteTime": {
     "end_time": "2022-05-14T16:09:10.409340Z",
     "start_time": "2022-05-14T16:09:09.477088Z"
    },
    "init_cell": true
   },
   "outputs": [
    {
     "data": {
      "text/html": [
       "<div>\n",
       "<style scoped>\n",
       "    .dataframe tbody tr th:only-of-type {\n",
       "        vertical-align: middle;\n",
       "    }\n",
       "\n",
       "    .dataframe tbody tr th {\n",
       "        vertical-align: top;\n",
       "    }\n",
       "\n",
       "    .dataframe thead th {\n",
       "        text-align: right;\n",
       "    }\n",
       "</style>\n",
       "<table border=\"1\" class=\"dataframe\">\n",
       "  <thead>\n",
       "    <tr style=\"text-align: right;\">\n",
       "      <th></th>\n",
       "      <th>Chr</th>\n",
       "      <th>SNP</th>\n",
       "      <th>bp</th>\n",
       "      <th>A1</th>\n",
       "      <th>A2</th>\n",
       "      <th>Freq</th>\n",
       "      <th>b</th>\n",
       "      <th>se</th>\n",
       "      <th>p</th>\n",
       "    </tr>\n",
       "    <tr>\n",
       "      <th>SNP</th>\n",
       "      <th></th>\n",
       "      <th></th>\n",
       "      <th></th>\n",
       "      <th></th>\n",
       "      <th></th>\n",
       "      <th></th>\n",
       "      <th></th>\n",
       "      <th></th>\n",
       "      <th></th>\n",
       "    </tr>\n",
       "  </thead>\n",
       "  <tbody>\n",
       "    <tr>\n",
       "      <th>chr1:281788173</th>\n",
       "      <td>1</td>\n",
       "      <td>chr1:281788173</td>\n",
       "      <td>281788173</td>\n",
       "      <td>G</td>\n",
       "      <td>C</td>\n",
       "      <td>0.427729</td>\n",
       "      <td>-0.140088</td>\n",
       "      <td>0.020374</td>\n",
       "      <td>6.168170e-12</td>\n",
       "    </tr>\n",
       "    <tr>\n",
       "      <th>chr1:281756885</th>\n",
       "      <td>1</td>\n",
       "      <td>chr1:281756885</td>\n",
       "      <td>281756885</td>\n",
       "      <td>C</td>\n",
       "      <td>T</td>\n",
       "      <td>0.422587</td>\n",
       "      <td>-0.138345</td>\n",
       "      <td>0.020192</td>\n",
       "      <td>7.308500e-12</td>\n",
       "    </tr>\n",
       "    <tr>\n",
       "      <th>chr1:281758596</th>\n",
       "      <td>1</td>\n",
       "      <td>chr1:281758596</td>\n",
       "      <td>281758596</td>\n",
       "      <td>G</td>\n",
       "      <td>A</td>\n",
       "      <td>0.423009</td>\n",
       "      <td>-0.138230</td>\n",
       "      <td>0.020204</td>\n",
       "      <td>7.828660e-12</td>\n",
       "    </tr>\n",
       "    <tr>\n",
       "      <th>chr1:281742867</th>\n",
       "      <td>1</td>\n",
       "      <td>chr1:281742867</td>\n",
       "      <td>281742867</td>\n",
       "      <td>G</td>\n",
       "      <td>A</td>\n",
       "      <td>0.423050</td>\n",
       "      <td>-0.138145</td>\n",
       "      <td>0.020204</td>\n",
       "      <td>8.055750e-12</td>\n",
       "    </tr>\n",
       "    <tr>\n",
       "      <th>chr1:281747981</th>\n",
       "      <td>1</td>\n",
       "      <td>chr1:281747981</td>\n",
       "      <td>281747981</td>\n",
       "      <td>G</td>\n",
       "      <td>C</td>\n",
       "      <td>0.423063</td>\n",
       "      <td>-0.138108</td>\n",
       "      <td>0.020204</td>\n",
       "      <td>8.161730e-12</td>\n",
       "    </tr>\n",
       "  </tbody>\n",
       "</table>\n",
       "</div>"
      ],
      "text/plain": [
       "                Chr             SNP         bp A1 A2      Freq         b  \\\n",
       "SNP                                                                        \n",
       "chr1:281788173    1  chr1:281788173  281788173  G  C  0.427729 -0.140088   \n",
       "chr1:281756885    1  chr1:281756885  281756885  C  T  0.422587 -0.138345   \n",
       "chr1:281758596    1  chr1:281758596  281758596  G  A  0.423009 -0.138230   \n",
       "chr1:281742867    1  chr1:281742867  281742867  G  A  0.423050 -0.138145   \n",
       "chr1:281747981    1  chr1:281747981  281747981  G  C  0.423063 -0.138108   \n",
       "\n",
       "                      se             p  \n",
       "SNP                                     \n",
       "chr1:281788173  0.020374  6.168170e-12  \n",
       "chr1:281756885  0.020192  7.308500e-12  \n",
       "chr1:281758596  0.020204  7.828660e-12  \n",
       "chr1:281742867  0.020204  8.055750e-12  \n",
       "chr1:281747981  0.020204  8.161730e-12  "
      ]
     },
     "execution_count": 12,
     "metadata": {},
     "output_type": "execute_result"
    }
   ],
   "source": [
    "rat_stats.sort_values('p').head(5)"
   ]
  },
  {
   "cell_type": "code",
   "execution_count": 13,
   "metadata": {
    "ExecuteTime": {
     "end_time": "2022-05-14T16:09:36.620063Z",
     "start_time": "2022-05-14T16:09:34.989576Z"
    }
   },
   "outputs": [
    {
     "data": {
      "text/plain": [
       "Chr                 18\n",
       "SNP     chr18:61744577\n",
       "bp            61744577\n",
       "A1                   T\n",
       "A2                   C\n",
       "Freq          0.613713\n",
       "b             0.016431\n",
       "se            0.020515\n",
       "p              0.42317\n",
       "Name: chr18:61744577, dtype: object"
      ]
     },
     "execution_count": 13,
     "metadata": {},
     "output_type": "execute_result"
    }
   ],
   "source": [
    "rat_stats.loc[\"chr18:61744577\"]"
   ]
  },
  {
   "cell_type": "code",
   "execution_count": 8,
   "metadata": {
    "ExecuteTime": {
     "end_time": "2022-05-14T16:08:48.338711Z",
     "start_time": "2022-05-14T16:08:08.809305Z"
    },
    "init_cell": true
   },
   "outputs": [],
   "source": [
    "human_stats = pd.read_csv(\"~/Data/rat/data/GIANT_genomics/BMI/bmi.giant-ukbb.meta-analysis.combined.23May2018.txt.gz\", sep=\"\\s+\")"
   ]
  },
  {
   "cell_type": "code",
   "execution_count": 9,
   "metadata": {
    "ExecuteTime": {
     "end_time": "2022-05-14T16:08:49.772072Z",
     "start_time": "2022-05-14T16:08:48.339911Z"
    },
    "init_cell": true
   },
   "outputs": [],
   "source": [
    "human_stats = human_stats.dropna(subset=[\"CHR\", \"POS\"])"
   ]
  },
  {
   "cell_type": "markdown",
   "metadata": {},
   "source": [
    "# Make some manhattan plots"
   ]
  },
  {
   "cell_type": "code",
   "execution_count": 14,
   "metadata": {
    "ExecuteTime": {
     "end_time": "2022-05-14T16:10:40.062051Z",
     "start_time": "2022-05-14T16:10:40.060193Z"
    },
    "init_cell": true
   },
   "outputs": [],
   "source": [
    "import sys\n",
    "#sys.path.append('/Users/brinrosenthal/Google Drive/UCSD/cluster_code/assocplots')\n",
    "from assocplots import manhattan\n",
    "from assocplots import qqplot\n"
   ]
  },
  {
   "cell_type": "code",
   "execution_count": 11,
   "metadata": {
    "ExecuteTime": {
     "end_time": "2022-03-12T22:14:38.506377Z",
     "start_time": "2022-03-12T22:14:38.499112Z"
    }
   },
   "outputs": [
    {
     "data": {
      "text/html": [
       "<div>\n",
       "<style scoped>\n",
       "    .dataframe tbody tr th:only-of-type {\n",
       "        vertical-align: middle;\n",
       "    }\n",
       "\n",
       "    .dataframe tbody tr th {\n",
       "        vertical-align: top;\n",
       "    }\n",
       "\n",
       "    .dataframe thead th {\n",
       "        text-align: right;\n",
       "    }\n",
       "</style>\n",
       "<table border=\"1\" class=\"dataframe\">\n",
       "  <thead>\n",
       "    <tr style=\"text-align: right;\">\n",
       "      <th></th>\n",
       "      <th>Chr</th>\n",
       "      <th>SNP</th>\n",
       "      <th>bp</th>\n",
       "      <th>A1</th>\n",
       "      <th>A2</th>\n",
       "      <th>Freq</th>\n",
       "      <th>b</th>\n",
       "      <th>se</th>\n",
       "      <th>p</th>\n",
       "    </tr>\n",
       "    <tr>\n",
       "      <th>SNP</th>\n",
       "      <th></th>\n",
       "      <th></th>\n",
       "      <th></th>\n",
       "      <th></th>\n",
       "      <th></th>\n",
       "      <th></th>\n",
       "      <th></th>\n",
       "      <th></th>\n",
       "      <th></th>\n",
       "    </tr>\n",
       "  </thead>\n",
       "  <tbody>\n",
       "    <tr>\n",
       "      <th>chr10:142747</th>\n",
       "      <td>10</td>\n",
       "      <td>chr10:142747</td>\n",
       "      <td>142747</td>\n",
       "      <td>T</td>\n",
       "      <td>C</td>\n",
       "      <td>0.887157</td>\n",
       "      <td>-0.061013</td>\n",
       "      <td>0.033174</td>\n",
       "      <td>0.065889</td>\n",
       "    </tr>\n",
       "    <tr>\n",
       "      <th>chr10:143014</th>\n",
       "      <td>10</td>\n",
       "      <td>chr10:143014</td>\n",
       "      <td>143014</td>\n",
       "      <td>T</td>\n",
       "      <td>C</td>\n",
       "      <td>0.887157</td>\n",
       "      <td>-0.061013</td>\n",
       "      <td>0.033174</td>\n",
       "      <td>0.065889</td>\n",
       "    </tr>\n",
       "    <tr>\n",
       "      <th>chr10:143363</th>\n",
       "      <td>10</td>\n",
       "      <td>chr10:143363</td>\n",
       "      <td>143363</td>\n",
       "      <td>T</td>\n",
       "      <td>C</td>\n",
       "      <td>0.887157</td>\n",
       "      <td>-0.061013</td>\n",
       "      <td>0.033174</td>\n",
       "      <td>0.065889</td>\n",
       "    </tr>\n",
       "    <tr>\n",
       "      <th>chr10:143699</th>\n",
       "      <td>10</td>\n",
       "      <td>chr10:143699</td>\n",
       "      <td>143699</td>\n",
       "      <td>G</td>\n",
       "      <td>C</td>\n",
       "      <td>0.887294</td>\n",
       "      <td>-0.061025</td>\n",
       "      <td>0.033182</td>\n",
       "      <td>0.065899</td>\n",
       "    </tr>\n",
       "    <tr>\n",
       "      <th>chr10:143715</th>\n",
       "      <td>10</td>\n",
       "      <td>chr10:143715</td>\n",
       "      <td>143715</td>\n",
       "      <td>C</td>\n",
       "      <td>T</td>\n",
       "      <td>0.887294</td>\n",
       "      <td>-0.061025</td>\n",
       "      <td>0.033182</td>\n",
       "      <td>0.065899</td>\n",
       "    </tr>\n",
       "  </tbody>\n",
       "</table>\n",
       "</div>"
      ],
      "text/plain": [
       "              Chr           SNP      bp A1 A2      Freq         b        se  \\\n",
       "SNP                                                                           \n",
       "chr10:142747   10  chr10:142747  142747  T  C  0.887157 -0.061013  0.033174   \n",
       "chr10:143014   10  chr10:143014  143014  T  C  0.887157 -0.061013  0.033174   \n",
       "chr10:143363   10  chr10:143363  143363  T  C  0.887157 -0.061013  0.033174   \n",
       "chr10:143699   10  chr10:143699  143699  G  C  0.887294 -0.061025  0.033182   \n",
       "chr10:143715   10  chr10:143715  143715  C  T  0.887294 -0.061025  0.033182   \n",
       "\n",
       "                     p  \n",
       "SNP                     \n",
       "chr10:142747  0.065889  \n",
       "chr10:143014  0.065889  \n",
       "chr10:143363  0.065889  \n",
       "chr10:143699  0.065899  \n",
       "chr10:143715  0.065899  "
      ]
     },
     "execution_count": 11,
     "metadata": {},
     "output_type": "execute_result"
    }
   ],
   "source": [
    "rat_stats.head()"
   ]
  },
  {
   "cell_type": "code",
   "execution_count": 16,
   "metadata": {
    "ExecuteTime": {
     "end_time": "2022-05-14T16:10:55.495320Z",
     "start_time": "2022-05-14T16:10:48.968142Z"
    }
   },
   "outputs": [
    {
     "data": {
      "text/html": [
       "<div>\n",
       "<style scoped>\n",
       "    .dataframe tbody tr th:only-of-type {\n",
       "        vertical-align: middle;\n",
       "    }\n",
       "\n",
       "    .dataframe tbody tr th {\n",
       "        vertical-align: top;\n",
       "    }\n",
       "\n",
       "    .dataframe thead th {\n",
       "        text-align: right;\n",
       "    }\n",
       "</style>\n",
       "<table border=\"1\" class=\"dataframe\">\n",
       "  <thead>\n",
       "    <tr style=\"text-align: right;\">\n",
       "      <th></th>\n",
       "      <th>CHR</th>\n",
       "      <th>POS</th>\n",
       "      <th>Freq_Tested_Allele</th>\n",
       "      <th>BETA</th>\n",
       "      <th>SE</th>\n",
       "      <th>P</th>\n",
       "      <th>N</th>\n",
       "      <th>INFO</th>\n",
       "    </tr>\n",
       "  </thead>\n",
       "  <tbody>\n",
       "    <tr>\n",
       "      <th>count</th>\n",
       "      <td>2.738025e+07</td>\n",
       "      <td>2.738025e+07</td>\n",
       "      <td>2.738025e+07</td>\n",
       "      <td>2.738025e+07</td>\n",
       "      <td>2.738025e+07</td>\n",
       "      <td>2.738025e+07</td>\n",
       "      <td>2.738025e+07</td>\n",
       "      <td>2.735824e+07</td>\n",
       "    </tr>\n",
       "    <tr>\n",
       "      <th>mean</th>\n",
       "      <td>8.631817e+00</td>\n",
       "      <td>7.899083e+07</td>\n",
       "      <td>4.214980e-01</td>\n",
       "      <td>1.031143e-04</td>\n",
       "      <td>3.745263e-02</td>\n",
       "      <td>4.481125e-01</td>\n",
       "      <td>5.052238e+05</td>\n",
       "      <td>8.609404e-01</td>\n",
       "    </tr>\n",
       "    <tr>\n",
       "      <th>std</th>\n",
       "      <td>5.773689e+00</td>\n",
       "      <td>5.610100e+07</td>\n",
       "      <td>4.565328e-01</td>\n",
       "      <td>5.341663e-02</td>\n",
       "      <td>3.307152e-02</td>\n",
       "      <td>3.037933e-01</td>\n",
       "      <td>6.641069e+04</td>\n",
       "      <td>1.414008e-01</td>\n",
       "    </tr>\n",
       "    <tr>\n",
       "      <th>min</th>\n",
       "      <td>1.000000e+00</td>\n",
       "      <td>5.600000e+01</td>\n",
       "      <td>0.000000e+00</td>\n",
       "      <td>-9.010000e-01</td>\n",
       "      <td>1.600000e-03</td>\n",
       "      <td>0.000000e+00</td>\n",
       "      <td>1.010110e+05</td>\n",
       "      <td>3.000000e-01</td>\n",
       "    </tr>\n",
       "    <tr>\n",
       "      <th>25%</th>\n",
       "      <td>4.000000e+00</td>\n",
       "      <td>3.300897e+07</td>\n",
       "      <td>7.000000e-04</td>\n",
       "      <td>-1.510000e-02</td>\n",
       "      <td>6.900000e-03</td>\n",
       "      <td>1.718000e-01</td>\n",
       "      <td>4.846800e+05</td>\n",
       "      <td>7.956780e-01</td>\n",
       "    </tr>\n",
       "    <tr>\n",
       "      <th>50%</th>\n",
       "      <td>8.000000e+00</td>\n",
       "      <td>6.972904e+07</td>\n",
       "      <td>1.082000e-01</td>\n",
       "      <td>0.000000e+00</td>\n",
       "      <td>2.940000e-02</td>\n",
       "      <td>4.306000e-01</td>\n",
       "      <td>4.846800e+05</td>\n",
       "      <td>8.999540e-01</td>\n",
       "    </tr>\n",
       "    <tr>\n",
       "      <th>75%</th>\n",
       "      <td>1.300000e+01</td>\n",
       "      <td>1.147232e+08</td>\n",
       "      <td>9.972000e-01</td>\n",
       "      <td>1.540000e-02</td>\n",
       "      <td>5.980000e-02</td>\n",
       "      <td>7.115000e-01</td>\n",
       "      <td>4.846800e+05</td>\n",
       "      <td>9.780250e-01</td>\n",
       "    </tr>\n",
       "    <tr>\n",
       "      <th>max</th>\n",
       "      <td>2.200000e+01</td>\n",
       "      <td>2.492398e+08</td>\n",
       "      <td>9.999000e-01</td>\n",
       "      <td>6.941000e-01</td>\n",
       "      <td>1.788000e-01</td>\n",
       "      <td>1.000000e+00</td>\n",
       "      <td>8.068340e+05</td>\n",
       "      <td>1.000000e+00</td>\n",
       "    </tr>\n",
       "  </tbody>\n",
       "</table>\n",
       "</div>"
      ],
      "text/plain": [
       "                CHR           POS  Freq_Tested_Allele          BETA  \\\n",
       "count  2.738025e+07  2.738025e+07        2.738025e+07  2.738025e+07   \n",
       "mean   8.631817e+00  7.899083e+07        4.214980e-01  1.031143e-04   \n",
       "std    5.773689e+00  5.610100e+07        4.565328e-01  5.341663e-02   \n",
       "min    1.000000e+00  5.600000e+01        0.000000e+00 -9.010000e-01   \n",
       "25%    4.000000e+00  3.300897e+07        7.000000e-04 -1.510000e-02   \n",
       "50%    8.000000e+00  6.972904e+07        1.082000e-01  0.000000e+00   \n",
       "75%    1.300000e+01  1.147232e+08        9.972000e-01  1.540000e-02   \n",
       "max    2.200000e+01  2.492398e+08        9.999000e-01  6.941000e-01   \n",
       "\n",
       "                 SE             P             N          INFO  \n",
       "count  2.738025e+07  2.738025e+07  2.738025e+07  2.735824e+07  \n",
       "mean   3.745263e-02  4.481125e-01  5.052238e+05  8.609404e-01  \n",
       "std    3.307152e-02  3.037933e-01  6.641069e+04  1.414008e-01  \n",
       "min    1.600000e-03  0.000000e+00  1.010110e+05  3.000000e-01  \n",
       "25%    6.900000e-03  1.718000e-01  4.846800e+05  7.956780e-01  \n",
       "50%    2.940000e-02  4.306000e-01  4.846800e+05  8.999540e-01  \n",
       "75%    5.980000e-02  7.115000e-01  4.846800e+05  9.780250e-01  \n",
       "max    1.788000e-01  1.000000e+00  8.068340e+05  1.000000e+00  "
      ]
     },
     "execution_count": 16,
     "metadata": {},
     "output_type": "execute_result"
    }
   ],
   "source": [
    "human_stats.describe()"
   ]
  },
  {
   "cell_type": "code",
   "execution_count": 39,
   "metadata": {
    "ExecuteTime": {
     "end_time": "2022-03-12T23:20:39.226053Z",
     "start_time": "2022-03-12T23:20:39.205394Z"
    }
   },
   "outputs": [
    {
     "data": {
      "text/html": [
       "<div>\n",
       "<style scoped>\n",
       "    .dataframe tbody tr th:only-of-type {\n",
       "        vertical-align: middle;\n",
       "    }\n",
       "\n",
       "    .dataframe tbody tr th {\n",
       "        vertical-align: top;\n",
       "    }\n",
       "\n",
       "    .dataframe thead th {\n",
       "        text-align: right;\n",
       "    }\n",
       "</style>\n",
       "<table border=\"1\" class=\"dataframe\">\n",
       "  <thead>\n",
       "    <tr style=\"text-align: right;\">\n",
       "      <th></th>\n",
       "      <th>CHR</th>\n",
       "      <th>POS</th>\n",
       "      <th>SNP</th>\n",
       "      <th>Tested_Allele</th>\n",
       "      <th>Other_Allele</th>\n",
       "      <th>Freq_Tested_Allele</th>\n",
       "      <th>BETA</th>\n",
       "      <th>SE</th>\n",
       "      <th>P</th>\n",
       "      <th>N</th>\n",
       "      <th>INFO</th>\n",
       "    </tr>\n",
       "  </thead>\n",
       "  <tbody>\n",
       "  </tbody>\n",
       "</table>\n",
       "</div>"
      ],
      "text/plain": [
       "Empty DataFrame\n",
       "Columns: [CHR, POS, SNP, Tested_Allele, Other_Allele, Freq_Tested_Allele, BETA, SE, P, N, INFO]\n",
       "Index: []"
      ]
     },
     "execution_count": 39,
     "metadata": {},
     "output_type": "execute_result"
    }
   ],
   "source": [
    "human_stats[human_stats.POS.isna()]"
   ]
  },
  {
   "cell_type": "code",
   "execution_count": 17,
   "metadata": {
    "ExecuteTime": {
     "end_time": "2022-05-14T16:10:55.540603Z",
     "start_time": "2022-05-14T16:10:55.519874Z"
    },
    "code_folding": [],
    "init_cell": true,
    "run_control": {
     "marked": true
    }
   },
   "outputs": [],
   "source": [
    "import numpy as np\n",
    "\n",
    "import numpy as np\n",
    "import matplotlib as mpl\n",
    "#mpl.use('Agg')\n",
    "import matplotlib.pyplot as plt\n",
    "import re\n",
    "\n",
    "def sorted_nicely( l ):\n",
    "    \"\"\" Sort the given iterable in the way that humans expect.\"\"\"\n",
    "    convert = lambda text: int(text) if text.isdigit() else text\n",
    "    alphanum_key = lambda key: [ convert(c) for c in re.split('([0-9]+)', key) ]\n",
    "    return sorted(l, key = alphanum_key)\n",
    "\n",
    "def manhattan(p1, pos1, chr1, label1,\n",
    "               p2=None, pos2=None, chr2=None, label2=None,\n",
    "               plot_type='single',\n",
    "               chrs_plot=None, chrs_names=None,\n",
    "               cut = 2,\n",
    "               colors = ['k', '0.5'],\n",
    "               title='Title',\n",
    "               xlabel='chromosome',\n",
    "               ylabel='-log10(p-value)',\n",
    "               top1 = 0,\n",
    "               top2 = 0,\n",
    "               lines = [10, 15],\n",
    "               lines_colors = ['g', 'r'],\n",
    "               lines_styles = ['-', '--'],\n",
    "               lines_widths = [1,1],\n",
    "               zoom = None,\n",
    "               scaling = '-log10', \n",
    "              plot_grid_lines=True,\n",
    "              **kwargs):\n",
    "    '''\n",
    "    Static Manhattan plot\n",
    "    :param p1: p-values for the top panel\n",
    "    :param pos1: positions\n",
    "    :param chr1: chromosomes numbers\n",
    "    :param label1: label\n",
    "    :param p2: p-values for the bottom panel\n",
    "    :param pos2: positions\n",
    "    :param chr2: chromosomes numbers\n",
    "    :param label2: label\n",
    "    :param type: Can be 'single', 'double' or 'inverted'\n",
    "    :param chrs_plot: list of chromosomes that should be plotted. If empty [] all chromosomes will be plotted\n",
    "    :param cut: lower cut (default 2)\n",
    "    :param colors: sequence of colors (default: black/gray)\n",
    "    :param title: defines the title of the plot\n",
    "    :param xlabel: defines the xlabel of the plot\n",
    "    :param ylabel: defines the ylabel of the plot\n",
    "    :param top: Defines the upper limit of the plot. If 0, it is detected automatically.\n",
    "    :param lines: Horizontal lines to plot.\n",
    "    :param lines_colors: Colors for the horizontal lines.\n",
    "    :param lines_styles: Styles for the horizontal lines.\n",
    "    :param lines_widths: Widths for the horizontal lines.\n",
    "    :param zoom: [chromosome, position, range] Zooms into a region.\n",
    "    :param scaling: '-log10' or 'none' (default -log10)\n",
    "    :param plot_grid_lines: Should chromosome dividers be plotted? (default True)\n",
    "    :return:\n",
    "    '''\n",
    "\n",
    "    # Setting things up\n",
    "    shift=np.array([0.0])\n",
    "    plt.clf()\n",
    "\n",
    "    # If chrs_plot is empty, we need to generate a list of chromosomes\n",
    "    if chrs_plot is None:\n",
    "        chrs_list = np.unique(chr1)\n",
    "        if isinstance(chrs_list[0], str):\n",
    "            chrs_list = sorted_nicely(chrs_list)\n",
    "        else:\n",
    "            chrs_list.sort()\n",
    "    else:\n",
    "        chrs_list = chrs_plot\n",
    "\n",
    "\n",
    "    # If chrs_names is empty, we need to generate a list of names for chromosomes\n",
    "    if chrs_names is None:\n",
    "        chrs_names = [str(chrs_list[i]) for i in range(len(chrs_list))]\n",
    "\n",
    "    plot_positions = False\n",
    "    if len(chrs_list) == 1:\n",
    "        plot_positions = True\n",
    "\n",
    "\n",
    "    for ii, i in enumerate(chrs_list):\n",
    "        if plot_type != 'single':\n",
    "            ax1 = plt.subplot(2,1,1)\n",
    "        else:\n",
    "            plt.subplot(1,1,1)\n",
    "        # print(i)\n",
    "        filt = np.where(chr1==i)[0]\n",
    "        x = shift[-1]+pos1[filt]\n",
    "        if scaling=='-log10':\n",
    "            y = -np.log10(p1[filt])\n",
    "        elif scaling=='none':\n",
    "            y = p1[filt]\n",
    "        else:\n",
    "            raise ValueError('Wrong \"scaling\" mode. Choose between \"-log10\" and \"none\"')\n",
    "        plt.plot(x[y>cut], y[y>cut], '.', color=colors[ii % len(colors)], **kwargs)\n",
    "        shift_f = np.max(x)\n",
    "\n",
    "        if zoom is not None:\n",
    "            if zoom[0] == i:\n",
    "                zoom_shift = zoom[1] + shift[-1]\n",
    "\n",
    "        if plot_type != 'single':\n",
    "            plt.subplot(2,1,2)#, sharex=ax1)\n",
    "            filt = np.where(chr2==i)[0]\n",
    "            x = shift[-1]+pos2[filt]\n",
    "            if scaling=='-log10':\n",
    "                y = -np.log10(p2[filt])\n",
    "            elif scaling=='none':\n",
    "                y = p2[filt]\n",
    "            else:\n",
    "                raise ValueError('Wrong \"scaling\" mode. Choose between \"-log10\" and \"none\"')\n",
    "            plt.plot(x[y>cut], y[y>cut], '.', color=colors[ii % len(colors)])\n",
    "            shift_m = np.max(x)\n",
    "        else:\n",
    "            shift_m = 0\n",
    "\n",
    "        shift = np.append(shift, np.max([shift_f, shift_m]))\n",
    "\n",
    "        if plot_type != 'single':\n",
    "            plt.subplot(2,1,1)\n",
    "        else:\n",
    "            plt.subplot(1,1,1)\n",
    "        if plot_grid_lines:\n",
    "            plt.plot([shift[-1], shift[-1]], [0, 1000], '-', lw=0.5, color='lightgray', **kwargs)\n",
    "            plt.xlim([0, shift[-1]])\n",
    "\n",
    "            if plot_type != 'single':\n",
    "                plt.subplot(2,1,2)\n",
    "                plt.plot([shift[-1], shift[-1]], [0, 1000], '-', lw=0.5, color='lightgray', zorder=0)\n",
    "        plt.xlim([0, shift[-1]])\n",
    "        # print(shift)\n",
    "\n",
    "    # Defining top boundary of a plot\n",
    "    if top1 == 0:\n",
    "        if plot_type != 'single':\n",
    "            if scaling == '-log10':\n",
    "                top1 = np.ceil(np.max([np.max(-np.log10(p1)), np.max(-np.log10(p2))]))\n",
    "            elif scaling == 'none':\n",
    "                top1 = np.ceil(np.max([np.max(p1), np.max(p2)]))\n",
    "            else:\n",
    "                raise ValueError('Wrong \"scaling\" mode. Choose between \"-log10\" and \"none\"')\n",
    "        else:\n",
    "            if scaling == '-log10':\n",
    "                top1 = np.ceil(np.max(-np.log10(p1)))\n",
    "            elif scaling == 'none':\n",
    "                top1 = np.ceil(np.max(p1))\n",
    "            else:\n",
    "                raise ValueError('Wrong \"scaling\" mode. Choose between \"-log10\" and \"none\"')\n",
    "\n",
    "\n",
    "    if top2 == 0:\n",
    "        if plot_type != 'single':\n",
    "            top2 = top1\n",
    "\n",
    "    # Setting up the position of labels:\n",
    "    shift_label = shift[-1]\n",
    "    shift = (shift[1:]+shift[:-1])/2.\n",
    "    labels = chrs_names\n",
    "\n",
    "    # Plotting horizontal lines\n",
    "    for i, y in enumerate(lines):\n",
    "        if plot_type != 'single':\n",
    "            plt.subplot(2,1,1)\n",
    "            plt.axhline(y=y, color=lines_colors[i], linestyle=lines_styles[i], linewidth=lines_widths[i])\n",
    "            plt.subplot(2,1,2)\n",
    "            plt.axhline(y=y, color=lines_colors[i], linestyle=lines_styles[i], linewidth=lines_widths[i])\n",
    "        else:\n",
    "            plt.subplot(1,1,1)\n",
    "            plt.axhline(y=y, color=lines_colors[i], linestyle=lines_styles[i], linewidth=lines_widths[i])\n",
    "\n",
    "    if plot_type != 'single':\n",
    "        plt.subplot(2,1,1)\n",
    "        if not plot_positions:\n",
    "            plt.xticks(shift, labels)\n",
    "        plt.ylim([cut+0.05, top1])\n",
    "    else:\n",
    "        plt.subplot(1,1,1)\n",
    "        plt.ylim([cut, top1])\n",
    "    plt.title(title)\n",
    "    if plot_type != 'single':\n",
    "        plt.setp(plt.gca().get_xticklabels(), visible=False)\n",
    "        if not plot_positions:\n",
    "            plt.xticks(shift)\n",
    "    else:\n",
    "        if not plot_positions:\n",
    "            plt.xticks(shift, labels)\n",
    "\n",
    "    plt.text(shift_label*0.95,top1*0.95,label1,#bbox=dict(boxstyle=\"round\", fc=\"1.0\"),\n",
    "            verticalalignment='top', horizontalalignment='right')\n",
    "\n",
    "    if plot_type != 'single':\n",
    "        plt.subplot(2,1,2)\n",
    "        plt.ylim([cut, top2])\n",
    "        if plot_type == 'inverted':\n",
    "            plt.gca().invert_yaxis()\n",
    "        if not plot_positions:\n",
    "            plt.xticks(shift, labels)\n",
    "        if plot_type == 'inverted':\n",
    "            plt.text(shift_label*0.95,top2*0.95,label2,#bbox=dict(boxstyle=\"round\", fc=\"1.0\"),\n",
    "                verticalalignment='bottom', horizontalalignment='right')\n",
    "        else:\n",
    "            plt.text(shift_label*0.95,top2*0.95,label2,#bbox=dict(boxstyle=\"round\", fc=\"1.0\"),\n",
    "                verticalalignment='top', horizontalalignment='right')\n",
    "        plt.ylabel(ylabel)\n",
    "        plt.gca().yaxis.set_label_coords(-0.065,1.)\n",
    "        plt.xlabel(xlabel)\n",
    "        # plt.tight_layout(hspace=0.001)\n",
    "        plt.subplots_adjust(hspace=0.00)\n",
    "    else:\n",
    "        plt.ylabel(ylabel)\n",
    "        plt.xlabel(xlabel)\n",
    "\n",
    "    if zoom is not None:\n",
    "        if plot_type != 'single':\n",
    "            plt.subplot(2,1,1)\n",
    "            plt.xlim([zoom_shift-zoom[2], zoom_shift+zoom[2]])\n",
    "            plt.subplot(2,1,2)\n",
    "            plt.xlim([zoom_shift-zoom[2], zoom_shift+zoom[2]])\n",
    "        else:\n",
    "            plt.subplot(1,1,1)\n",
    "            plt.xlim([zoom_shift-zoom[2], zoom_shift+zoom[2]])\n",
    "\n",
    "    return 0"
   ]
  },
  {
   "cell_type": "code",
   "execution_count": 18,
   "metadata": {
    "ExecuteTime": {
     "end_time": "2022-05-14T16:10:56.389205Z",
     "start_time": "2022-05-14T16:10:56.387052Z"
    }
   },
   "outputs": [
    {
     "data": {
      "text/plain": [
       "7.301029995663981"
      ]
     },
     "execution_count": 18,
     "metadata": {},
     "output_type": "execute_result"
    }
   ],
   "source": [
    "-1 * np.log10(5e-8)"
   ]
  },
  {
   "cell_type": "code",
   "execution_count": 24,
   "metadata": {
    "ExecuteTime": {
     "end_time": "2022-05-14T16:15:31.969422Z",
     "start_time": "2022-05-14T16:15:00.597419Z"
    }
   },
   "outputs": [
    {
     "data": {
      "image/png": "[encoded data removed]",
      "text/plain": [
       "<Figure size 720x288 with 1 Axes>"
      ]
     },
     "metadata": {},
     "output_type": "display_data"
    }
   ],
   "source": [
    "plt.figure(figsize=(10,4))\n",
    "manhattan(p1=rat_stats['p'],pos1=rat_stats['bp'],chr1=rat_stats['Chr'],label1='',\n",
    "                    plot_type='single',cut=0,lines=[],lines_colors=['#E81700'], colors=['#6E3A68', '#A95AA1'],\n",
    "                    lines_widths = [2], lines_styles = [\"--\"],\n",
    "                   top1=12, markersize=3, plot_grid_lines=False)\n",
    "plt.title('')\n",
    "plt.xticks(rotation='vertical')\n",
    "plt.ylabel('rat BMI\\n-log10(p)')\n",
    "plt.savefig(OUTDIR + 'rat_BMI_manhattan.svg',bbox_inches='tight')\n",
    "plt.savefig(OUTDIR + 'rat_BMI_manhattan_200dpi.png',dpi=200,bbox_inches='tight')\n",
    "plt.savefig(OUTDIR + 'rat_BMI_manhattan_500dpi.png',dpi=500,bbox_inches='tight')"
   ]
  },
  {
   "cell_type": "code",
   "execution_count": 20,
   "metadata": {
    "ExecuteTime": {
     "end_time": "2022-05-14T16:11:14.198375Z",
     "start_time": "2022-05-14T16:11:10.824333Z"
    }
   },
   "outputs": [
    {
     "data": {
      "text/plain": [
       "Text(0, 0.5, 'rat BMI\\n-log10(p)')"
      ]
     },
     "execution_count": 20,
     "metadata": {},
     "output_type": "execute_result"
    },
    {
     "data": {
      "image/png": "[encoded data removed]",
      "text/plain": [
       "<Figure size 720x288 with 1 Axes>"
      ]
     },
     "metadata": {},
     "output_type": "display_data"
    }
   ],
   "source": [
    "plt.figure(figsize=(10,4))\n",
    "manhattan(p1=rat_stats['p'],pos1=rat_stats['bp'],chr1=rat_stats['Chr'],label1='',\n",
    "                    plot_type='single',cut=0,lines=[4,6],lines_colors=['r','k'], colors=['#703B6B', '#A95AA1'], \n",
    "                   top1=12, markersize=3)\n",
    "plt.title('')\n",
    "plt.xticks(rotation='vertical')\n",
    "plt.ylabel('rat BMI\\n-log10(p)')\n"
   ]
  },
  {
   "cell_type": "code",
   "execution_count": 35,
   "metadata": {
    "ExecuteTime": {
     "end_time": "2022-03-12T23:19:21.708004Z",
     "start_time": "2022-03-12T23:19:17.165450Z"
    },
    "scrolled": true
   },
   "outputs": [
    {
     "data": {
      "text/plain": [
       "Text(0, 0.5, 'rat BMI\\n-log10(p)')"
      ]
     },
     "execution_count": 35,
     "metadata": {},
     "output_type": "execute_result"
    },
    {
     "data": {
      "image/png": "[encoded data removed]",
      "text/plain": [
       "<Figure size 720x288 with 1 Axes>"
      ]
     },
     "metadata": {},
     "output_type": "display_data"
    }
   ],
   "source": [
    "plt.figure(figsize=(10,4))\n",
    "manhattan(p1=rat_stats['p'],pos1=rat_stats['bp'],chr1=rat_stats['Chr'],label1='',\n",
    "                    plot_type='single',cut=0,lines=[4,6],lines_colors=['r','k'], \n",
    "                   top1=12)\n",
    "plt.title('')\n",
    "plt.xticks(rotation='vertical')\n",
    "plt.ylabel('rat BMI\\n-log10(p)')\n",
    "#plt.savefig('../figures/rat_BMI_manhattan.png',dpi=300,bbox_inches='tight')"
   ]
  },
  {
   "cell_type": "code",
   "execution_count": 25,
   "metadata": {
    "ExecuteTime": {
     "end_time": "2022-05-14T16:36:14.647678Z",
     "start_time": "2022-05-14T16:20:28.827967Z"
    }
   },
   "outputs": [
    {
     "name": "stderr",
     "output_type": "stream",
     "text": [
      "/cellar/users/snwright/anaconda3/envs/netcoloc/lib/python3.9/site-packages/pandas/core/arraylike.py:364: RuntimeWarning: divide by zero encountered in log10\n",
      "  result = getattr(ufunc, method)(*inputs, **kwargs)\n"
     ]
    },
    {
     "data": {
      "image/png": "[encoded data removed]",
      "text/plain": [
       "<Figure size 720x288 with 1 Axes>"
      ]
     },
     "metadata": {},
     "output_type": "display_data"
    }
   ],
   "source": [
    "plt.figure(figsize=(10,4))\n",
    "manhattan(p1=human_stats['P'],pos1=human_stats['POS'].astype(int),chr1=human_stats['CHR'].astype(int),label1='',\n",
    "                    plot_type='single',cut=0,lines=[],lines_colors=['#E81700'], \n",
    "          colors = [\"#456582\", \"#85C0F9\"], lines_widths=[2], lines_styles=[\"--\"],\n",
    "                   top1 =100, plot_grid_lines=False)\n",
    "plt.title('')\n",
    "plt.xticks(rotation='vertical')\n",
    "plt.ylabel('Human BMI\\n-log10(p)')\n",
    "plt.savefig(OUTDIR + 'human_BMI_manhattan_500dpi.png',dpi=500,bbox_inches='tight')\n",
    "plt.savefig(OUTDIR + 'human_BMI_manhattan_200dpi.png',dpi=200,bbox_inches='tight')\n",
    "plt.savefig(OUTDIR + 'human_BMI_manhattan_500dpi.svg',bbox_inches='tight')"
   ]
  },
  {
   "cell_type": "code",
   "execution_count": 37,
   "metadata": {
    "ExecuteTime": {
     "end_time": "2022-03-12T23:20:37.115479Z",
     "start_time": "2022-03-12T23:20:02.352342Z"
    }
   },
   "outputs": [
    {
     "name": "stderr",
     "output_type": "stream",
     "text": [
      "/cellar/users/snwright/anaconda3/envs/netcoloc/lib/python3.9/site-packages/pandas/core/arraylike.py:364: RuntimeWarning: divide by zero encountered in log10\n",
      "  result = getattr(ufunc, method)(*inputs, **kwargs)\n",
      "/cellar/users/snwright/anaconda3/envs/netcoloc/lib/python3.9/site-packages/pandas/core/arraylike.py:364: RuntimeWarning: divide by zero encountered in log10\n",
      "  result = getattr(ufunc, method)(*inputs, **kwargs)\n"
     ]
    },
    {
     "ename": "ValueError",
     "evalue": "Axis limits cannot be NaN or Inf",
     "output_type": "error",
     "traceback": [
      "\u001b[0;31m---------------------------------------------------------------------------\u001b[0m",
      "\u001b[0;31mValueError\u001b[0m                                Traceback (most recent call last)",
      "\u001b[0;32m/tmp/ipykernel_37865/2743132534.py\u001b[0m in \u001b[0;36m<module>\u001b[0;34m\u001b[0m\n\u001b[1;32m      1\u001b[0m \u001b[0mplt\u001b[0m\u001b[0;34m.\u001b[0m\u001b[0mfigure\u001b[0m\u001b[0;34m(\u001b[0m\u001b[0mfigsize\u001b[0m\u001b[0;34m=\u001b[0m\u001b[0;34m(\u001b[0m\u001b[0;36m10\u001b[0m\u001b[0;34m,\u001b[0m\u001b[0;36m4\u001b[0m\u001b[0;34m)\u001b[0m\u001b[0;34m)\u001b[0m\u001b[0;34m\u001b[0m\u001b[0;34m\u001b[0m\u001b[0m\n\u001b[0;32m----> 2\u001b[0;31m manhattan(p1=human_stats['P'],pos1=human_stats['POS'].astype(int),chr1=human_stats['CHR'].astype(int),label1='',\n\u001b[0m\u001b[1;32m      3\u001b[0m                     plot_type='single',cut=0,lines=[8],lines_colors=['r'])\n\u001b[1;32m      4\u001b[0m \u001b[0mplt\u001b[0m\u001b[0;34m.\u001b[0m\u001b[0mtitle\u001b[0m\u001b[0;34m(\u001b[0m\u001b[0;34m''\u001b[0m\u001b[0;34m)\u001b[0m\u001b[0;34m\u001b[0m\u001b[0;34m\u001b[0m\u001b[0m\n\u001b[1;32m      5\u001b[0m \u001b[0mplt\u001b[0m\u001b[0;34m.\u001b[0m\u001b[0mxticks\u001b[0m\u001b[0;34m(\u001b[0m\u001b[0mrotation\u001b[0m\u001b[0;34m=\u001b[0m\u001b[0;34m'horizontal'\u001b[0m\u001b[0;34m,\u001b[0m\u001b[0;34m)\u001b[0m\u001b[0;34m\u001b[0m\u001b[0;34m\u001b[0m\u001b[0m\n",
      "\u001b[0;32m/tmp/ipykernel_37865/2343165442.py\u001b[0m in \u001b[0;36mmanhattan\u001b[0;34m(p1, pos1, chr1, label1, p2, pos2, chr2, label2, plot_type, chrs_plot, chrs_names, cut, colors, title, xlabel, ylabel, top1, top2, lines, lines_colors, lines_styles, lines_widths, zoom, scaling, **kwargs)\u001b[0m\n\u001b[1;32m    177\u001b[0m     \u001b[0;32melse\u001b[0m\u001b[0;34m:\u001b[0m\u001b[0;34m\u001b[0m\u001b[0;34m\u001b[0m\u001b[0m\n\u001b[1;32m    178\u001b[0m         \u001b[0mplt\u001b[0m\u001b[0;34m.\u001b[0m\u001b[0msubplot\u001b[0m\u001b[0;34m(\u001b[0m\u001b[0;36m1\u001b[0m\u001b[0;34m,\u001b[0m\u001b[0;36m1\u001b[0m\u001b[0;34m,\u001b[0m\u001b[0;36m1\u001b[0m\u001b[0;34m)\u001b[0m\u001b[0;34m\u001b[0m\u001b[0;34m\u001b[0m\u001b[0m\n\u001b[0;32m--> 179\u001b[0;31m         \u001b[0mplt\u001b[0m\u001b[0;34m.\u001b[0m\u001b[0mylim\u001b[0m\u001b[0;34m(\u001b[0m\u001b[0;34m[\u001b[0m\u001b[0mcut\u001b[0m\u001b[0;34m,\u001b[0m \u001b[0mtop1\u001b[0m\u001b[0;34m]\u001b[0m\u001b[0;34m)\u001b[0m\u001b[0;34m\u001b[0m\u001b[0;34m\u001b[0m\u001b[0m\n\u001b[0m\u001b[1;32m    180\u001b[0m     \u001b[0mplt\u001b[0m\u001b[0;34m.\u001b[0m\u001b[0mtitle\u001b[0m\u001b[0;34m(\u001b[0m\u001b[0mtitle\u001b[0m\u001b[0;34m)\u001b[0m\u001b[0;34m\u001b[0m\u001b[0;34m\u001b[0m\u001b[0m\n\u001b[1;32m    181\u001b[0m     \u001b[0;32mif\u001b[0m \u001b[0mplot_type\u001b[0m \u001b[0;34m!=\u001b[0m \u001b[0;34m'single'\u001b[0m\u001b[0;34m:\u001b[0m\u001b[0;34m\u001b[0m\u001b[0;34m\u001b[0m\u001b[0m\n",
      "\u001b[0;32m~/anaconda3/envs/netcoloc/lib/python3.9/site-packages/matplotlib/pyplot.py\u001b[0m in \u001b[0;36mylim\u001b[0;34m(*args, **kwargs)\u001b[0m\n\u001b[1;32m   1755\u001b[0m     \u001b[0;32mif\u001b[0m \u001b[0;32mnot\u001b[0m \u001b[0margs\u001b[0m \u001b[0;32mand\u001b[0m \u001b[0;32mnot\u001b[0m \u001b[0mkwargs\u001b[0m\u001b[0;34m:\u001b[0m\u001b[0;34m\u001b[0m\u001b[0;34m\u001b[0m\u001b[0m\n\u001b[1;32m   1756\u001b[0m         \u001b[0;32mreturn\u001b[0m \u001b[0max\u001b[0m\u001b[0;34m.\u001b[0m\u001b[0mget_ylim\u001b[0m\u001b[0;34m(\u001b[0m\u001b[0;34m)\u001b[0m\u001b[0;34m\u001b[0m\u001b[0;34m\u001b[0m\u001b[0m\n\u001b[0;32m-> 1757\u001b[0;31m     \u001b[0mret\u001b[0m \u001b[0;34m=\u001b[0m \u001b[0max\u001b[0m\u001b[0;34m.\u001b[0m\u001b[0mset_ylim\u001b[0m\u001b[0;34m(\u001b[0m\u001b[0;34m*\u001b[0m\u001b[0margs\u001b[0m\u001b[0;34m,\u001b[0m \u001b[0;34m**\u001b[0m\u001b[0mkwargs\u001b[0m\u001b[0;34m)\u001b[0m\u001b[0;34m\u001b[0m\u001b[0;34m\u001b[0m\u001b[0m\n\u001b[0m\u001b[1;32m   1758\u001b[0m     \u001b[0;32mreturn\u001b[0m \u001b[0mret\u001b[0m\u001b[0;34m\u001b[0m\u001b[0;34m\u001b[0m\u001b[0m\n\u001b[1;32m   1759\u001b[0m \u001b[0;34m\u001b[0m\u001b[0m\n",
      "\u001b[0;32m~/anaconda3/envs/netcoloc/lib/python3.9/site-packages/matplotlib/axes/_base.py\u001b[0m in \u001b[0;36mset_ylim\u001b[0;34m(self, bottom, top, emit, auto, ymin, ymax)\u001b[0m\n\u001b[1;32m   3847\u001b[0m         \u001b[0mself\u001b[0m\u001b[0;34m.\u001b[0m\u001b[0m_process_unit_info\u001b[0m\u001b[0;34m(\u001b[0m\u001b[0;34m[\u001b[0m\u001b[0;34m(\u001b[0m\u001b[0;34m\"y\"\u001b[0m\u001b[0;34m,\u001b[0m \u001b[0;34m(\u001b[0m\u001b[0mbottom\u001b[0m\u001b[0;34m,\u001b[0m \u001b[0mtop\u001b[0m\u001b[0;34m)\u001b[0m\u001b[0;34m)\u001b[0m\u001b[0;34m]\u001b[0m\u001b[0;34m,\u001b[0m \u001b[0mconvert\u001b[0m\u001b[0;34m=\u001b[0m\u001b[0;32mFalse\u001b[0m\u001b[0;34m)\u001b[0m\u001b[0;34m\u001b[0m\u001b[0;34m\u001b[0m\u001b[0m\n\u001b[1;32m   3848\u001b[0m         \u001b[0mbottom\u001b[0m \u001b[0;34m=\u001b[0m \u001b[0mself\u001b[0m\u001b[0;34m.\u001b[0m\u001b[0m_validate_converted_limits\u001b[0m\u001b[0;34m(\u001b[0m\u001b[0mbottom\u001b[0m\u001b[0;34m,\u001b[0m \u001b[0mself\u001b[0m\u001b[0;34m.\u001b[0m\u001b[0mconvert_yunits\u001b[0m\u001b[0;34m)\u001b[0m\u001b[0;34m\u001b[0m\u001b[0;34m\u001b[0m\u001b[0m\n\u001b[0;32m-> 3849\u001b[0;31m         \u001b[0mtop\u001b[0m \u001b[0;34m=\u001b[0m \u001b[0mself\u001b[0m\u001b[0;34m.\u001b[0m\u001b[0m_validate_converted_limits\u001b[0m\u001b[0;34m(\u001b[0m\u001b[0mtop\u001b[0m\u001b[0;34m,\u001b[0m \u001b[0mself\u001b[0m\u001b[0;34m.\u001b[0m\u001b[0mconvert_yunits\u001b[0m\u001b[0;34m)\u001b[0m\u001b[0;34m\u001b[0m\u001b[0;34m\u001b[0m\u001b[0m\n\u001b[0m\u001b[1;32m   3850\u001b[0m \u001b[0;34m\u001b[0m\u001b[0m\n\u001b[1;32m   3851\u001b[0m         \u001b[0;32mif\u001b[0m \u001b[0mbottom\u001b[0m \u001b[0;32mis\u001b[0m \u001b[0;32mNone\u001b[0m \u001b[0;32mor\u001b[0m \u001b[0mtop\u001b[0m \u001b[0;32mis\u001b[0m \u001b[0;32mNone\u001b[0m\u001b[0;34m:\u001b[0m\u001b[0;34m\u001b[0m\u001b[0;34m\u001b[0m\u001b[0m\n",
      "\u001b[0;32m~/anaconda3/envs/netcoloc/lib/python3.9/site-packages/matplotlib/axes/_base.py\u001b[0m in \u001b[0;36m_validate_converted_limits\u001b[0;34m(self, limit, convert)\u001b[0m\n\u001b[1;32m   3437\u001b[0m             if (isinstance(converted_limit, Real)\n\u001b[1;32m   3438\u001b[0m                     and not np.isfinite(converted_limit)):\n\u001b[0;32m-> 3439\u001b[0;31m                 \u001b[0;32mraise\u001b[0m \u001b[0mValueError\u001b[0m\u001b[0;34m(\u001b[0m\u001b[0;34m\"Axis limits cannot be NaN or Inf\"\u001b[0m\u001b[0;34m)\u001b[0m\u001b[0;34m\u001b[0m\u001b[0;34m\u001b[0m\u001b[0m\n\u001b[0m\u001b[1;32m   3440\u001b[0m             \u001b[0;32mreturn\u001b[0m \u001b[0mconverted_limit\u001b[0m\u001b[0;34m\u001b[0m\u001b[0;34m\u001b[0m\u001b[0m\n\u001b[1;32m   3441\u001b[0m \u001b[0;34m\u001b[0m\u001b[0m\n",
      "\u001b[0;31mValueError\u001b[0m: Axis limits cannot be NaN or Inf"
     ]
    },
    {
     "data": {
      "image/png": "[encoded data removed]",
      "text/plain": [
       "<Figure size 720x288 with 1 Axes>"
      ]
     },
     "metadata": {},
     "output_type": "display_data"
    }
   ],
   "source": [
    "plt.figure(figsize=(10,4))\n",
    "manhattan(p1=human_stats['P'],pos1=human_stats['POS'].astype(int),chr1=human_stats['CHR'].astype(int),label1='',\n",
    "                    plot_type='single',cut=0,lines=[8],lines_colors=['r'])\n",
    "plt.title('')\n",
    "plt.xticks(rotation='horizontal',)\n",
    "plt.ylabel('Human BMI\\n-log10(p)')\n",
    "#plt.savefig('../figures/rat_BMI_manhattan.png',dpi=300,bbox_inches='tight')"
   ]
  },
  {
   "cell_type": "markdown",
   "metadata": {},
   "source": [
    "## Alternative QMPlot"
   ]
  },
  {
   "cell_type": "code",
   "execution_count": 31,
   "metadata": {
    "ExecuteTime": {
     "end_time": "2022-03-12T23:14:04.422829Z",
     "start_time": "2022-03-12T23:14:04.402829Z"
    }
   },
   "outputs": [],
   "source": [
    "from qmplot import manhattanplot"
   ]
  }
 ],
 "metadata": {
  "celltoolbar": "Initialization Cell",
  "kernelspec": {
   "display_name": "Python [conda env:netcoloc]",
   "language": "python",
   "name": "conda-env-netcoloc-py"
  },
  "language_info": {
   "codemirror_mode": {
    "name": "ipython",
    "version": 3
   },
   "file_extension": ".py",
   "mimetype": "text/x-python",
   "name": "python",
   "nbconvert_exporter": "python",
   "pygments_lexer": "ipython3",
   "version": "3.9.7"
  },
  "toc": {
   "base_numbering": 1,
   "nav_menu": {},
   "number_sections": true,
   "sideBar": true,
   "skip_h1_title": false,
   "title_cell": "Table of Contents",
   "title_sidebar": "Contents",
   "toc_cell": false,
   "toc_position": {
    "height": "calc(100% - 180px)",
    "left": "10px",
    "top": "150px",
    "width": "341.458px"
   },
   "toc_section_display": true,
   "toc_window_display": true
  },
  "varInspector": {
   "cols": {
    "lenName": 16,
    "lenType": 16,
    "lenVar": 40
   },
   "kernels_config": {
    "python": {
     "delete_cmd_postfix": "",
     "delete_cmd_prefix": "del ",
     "library": "var_list.py",
     "varRefreshCmd": "print(var_dic_list())"
    },
    "r": {
     "delete_cmd_postfix": ") ",
     "delete_cmd_prefix": "rm(",
     "library": "var_list.r",
     "varRefreshCmd": "cat(var_dic_list()) "
    }
   },
   "types_to_exclude": [
    "module",
    "function",
    "builtin_function_or_method",
    "instance",
    "_Feature"
   ],
   "window_display": false
  }
 },
 "nbformat": 4,
 "nbformat_minor": 4
}
