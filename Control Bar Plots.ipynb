{
 "cells": [
  {
   "cell_type": "markdown",
   "metadata": {},
   "source": [
    "# Set Up"
   ]
  },
  {
   "cell_type": "code",
   "execution_count": 3,
   "metadata": {
    "ExecuteTime": {
     "end_time": "2022-05-14T16:50:05.556699Z",
     "start_time": "2022-05-14T16:50:05.124249Z"
    }
   },
   "outputs": [],
   "source": [
    "import pandas as pd\n",
    "import matplotlib.pyplot as plt\n",
    "import numpy as np\n",
    "from netcoloc import network_colocalization, netprop_zscore\n",
    "import seaborn as sns"
   ]
  },
  {
   "cell_type": "code",
   "execution_count": 10,
   "metadata": {
    "ExecuteTime": {
     "end_time": "2022-05-14T16:51:18.563565Z",
     "start_time": "2022-05-14T16:51:18.229348Z"
    }
   },
   "outputs": [],
   "source": [
    "from analysis_functions import *\n",
    "from plotting_functions import *\n",
    "from updated_netcoloc_functions import *"
   ]
  },
  {
   "cell_type": "code",
   "execution_count": 4,
   "metadata": {
    "ExecuteTime": {
     "end_time": "2022-05-14T16:50:06.066186Z",
     "start_time": "2022-05-14T16:50:06.063172Z"
    }
   },
   "outputs": [],
   "source": [
    "DATADIR= '~/Data/rat/data/final/'# location of input datasets\n",
    "OUTDIR= '/cellar/users/snwright/Data/Transfer/rat/' # path to save intermediate and final datasets\n",
    "ratThresh='relaxed'\n",
    "num_reps=1000\n",
    "mapper='PASCAL'\n",
    "adj_type='bonf'\n",
    "rerun_analysis=False"
   ]
  },
  {
   "cell_type": "code",
   "execution_count": 5,
   "metadata": {
    "ExecuteTime": {
     "end_time": "2022-05-14T16:50:07.144051Z",
     "start_time": "2022-05-14T16:50:07.116145Z"
    }
   },
   "outputs": [],
   "source": [
    "\n",
    "def calculate_significance_colocalized_network(z_dict, seed_dict, num_permutations=100, verbose=True, zthresh=3,\n",
    "                                              overlap_control=None, d1=None, d2=None):\n",
    "    \"\"\"\n",
    "    :param z_dict:\n",
    "    :param seed_dict:\n",
    "    :param num_permutations:\n",
    "    :param verbose:\n",
    "    :param zthresh:\n",
    "    \"\"\"\n",
    "\n",
    "    focal_diseases = list(z_dict.keys())\n",
    "    focal_diseases.reverse()\n",
    "    # get all combinations of diseases\n",
    "    focal_combinations = itertools.combinations(focal_diseases, 2)\n",
    "    # set up data frame to store results\n",
    "    network_overlap = pd.DataFrame({\"trait_pair\": focal_combinations})\n",
    "    network_overlap = network_overlap.reindex(columns=[\"num_overlap\", \"obs_exp\", \"pval_overlap\", \n",
    "                                                       \"exp_mean_overlap\", \"exp_std_overlap\"], \n",
    "                                              index = network_overlap.trait_pair.values)\n",
    "    # iterate over trait pairs\n",
    "    for trait_pair in network_overlap.index.values:\n",
    "        #extract the two traits\n",
    "        d1, d2 = trait_pair\n",
    "        # get the associated seed genes\n",
    "        seed1 = seed_dict[d1]\n",
    "        seed2 = seed_dict[d2]\n",
    "        # get the z scores following network propagation\n",
    "        z1=z_dict[d1]\n",
    "        z2=z_dict[d2] \n",
    "        if overlap_control == \"remove\":\n",
    "            overlapping_seeds = np.intersect1d(seed1,seed2)\n",
    "            z1_noseeds = z1.drop(overlapping_seeds, axis=0, inplace=True)\n",
    "            z2_noseeds = z2.drop(overlapping_seeds, axis=0, inplace=True)\n",
    "        elif overlap_control == \"bin\":\n",
    "            overlapping_seeds = np.intersect1d(seed1,seed2)\n",
    "            overlap_z1 = z1.loc[overlapping_seeds]\n",
    "            overlap_z2 = z2.loc[overlapping_seeds]\n",
    "            z1_noseeds = z1.drop(overlapping_seeds, axis=0, inplace=True)\n",
    "            z2_noseeds = z2.drop(overlapping_seeds, axis=0, inplace=True)\n",
    "\n",
    "        if preserve_topology == False:   \n",
    "            # perform permutations to calculate expected size of colocalized network\n",
    "            if overlap_control in [\"remove\", \"bin\"]:\n",
    "                z_d1d2_size,high_z_rand=network_colocalization.calculate_expected_overlap(z1_noseeds['z'],z2_noseeds['z'],\n",
    "                                                                                      plot=False,num_reps=num_permutations,\n",
    "                                                                                      z_score_threshold=zthresh,\n",
    "                                                                                      z1_threshold=1.0,\n",
    "                                                                                      z2_threshold=1.0)\n",
    "                if overlap_control == \"bin\":\n",
    "                    z_d1d2_size_overlap, high_z_rand_overlap = network_colocalization.calculate_expected_overlap(overlap_z1['z'],overlap_z2['z'],\n",
    "                                                                                      plot=False,num_reps=num_permutations,\n",
    "                                                                                      z_score_threshold=zthresh,\n",
    "                                                                                      z1_threshold=1.0,\n",
    "                                                                                      z2_threshold=1.0)\n",
    "                    z_d1d2_size += z_d1d2_size_overlap\n",
    "                    high_z_rand = list(np.array(high_z_rand) + np.array(high_z_rand_overlap))\n",
    "            else:\n",
    "                z_d1d2_size,high_z_rand=network_colocalization.calculate_expected_overlap(z1['z'],z2['z'],\n",
    "                                                                                      plot=False,num_reps=num_permutations,\n",
    "                                                                                      z_score_threshold=zthresh,\n",
    "                                                                                      z1_threshold=1.0,\n",
    "                                                                                      z2_threshold=1.0)\n",
    "        # store statistics in results table\n",
    "        ztemp = (z_d1d2_size-np.mean(high_z_rand))/np.std(high_z_rand)\n",
    "        ptemp = norm.sf(ztemp)\n",
    "        obs_exp_temp = float(z_d1d2_size)/np.mean(high_z_rand)\n",
    "    \n",
    "        network_overlap.loc[[trait_pair]] = [z_d1d2_size,obs_exp_temp, ptemp,np.mean(high_z_rand), np.std(high_z_rand)]\n",
    "        if verbose:\n",
    "            print(d1+' + '+d2+'\\ninclude seeds')\n",
    "            print('overlapping seeds = '+str(len(np.intersect1d(seed1,seed2))))\n",
    "            print(\"Observed overlap:\", z_d1d2_size)\n",
    "            print(\"Observed/expected:\",obs_exp_temp)\n",
    "            print(\"Probability of observed\", ptemp)\n",
    "            print('\\n')   \n",
    "        \n",
    "    return(network_overlap)\n",
    "\n",
    "## Added to netcoloc\n",
    "def calculate_expected_overlap(z_scores_1, z_scores_2, seed1=None, seed2=None, \n",
    "                               z_score_threshold=3, z1_threshold=1.5,\n",
    "                               z2_threshold=1.5,\n",
    "                               num_reps=1000, plot=False, overlap_control=None):\n",
    "    \"\"\"\n",
    "    Determines size of expected network overlap by randomly\n",
    "    shuffling gene names\n",
    "\n",
    "    :param z_scores_1: Result from :py:func:`~netcoloc.netprop_zscore.netprop_zscore`\n",
    "                       or :py:func:`~netcoloc.netprop_zscore.calculate_heat_zscores`\n",
    "                       containing the z-scores of each gene following network\n",
    "                       propagation. The index consists of gene names\n",
    "    :type z_scores_1: :py:class:`pandas.Series`\n",
    "    :param z_scores_2: Similar to **z_scores_1**. This and **z_scores_1**\n",
    "                       must contain the same genes (ie. come from the same\n",
    "                       interactome network)\n",
    "    :type z_scores_2: :py:class:`pandas.Series`\n",
    "    :param z_score_threshold: threshold to determine whether a gene is\n",
    "        a part of the network overlap or not. Genes with combined z-scores\n",
    "        below this threshold will be discarded\n",
    "    :type z_score_threshold: float\n",
    "    :param z1_threshold: individual z1-score threshold to determine whether a gene is\n",
    "        a part of the network overlap or not. Genes with z1-scores\n",
    "        below this threshold will be discarded\n",
    "    :type z1_threshold: float\n",
    "    :param z2_threshold: individual z2-score threshold to determine whether a gene is\n",
    "        a part of the network overlap or not. Genes with z2-scores\n",
    "        below this threshold will be discarded\n",
    "    :type z2_threshold: float\n",
    "    :param num_reps:\n",
    "    :param plot: If ``True``, distribution will be plotted\n",
    "    :type plot: bool\n",
    "    :return:\n",
    "    :rtype: float\n",
    "    \"\"\"\n",
    "    # Build a distribution of expected network overlap sizes by shuffling node names\n",
    "    random_network_overlap_sizes = []\n",
    "    if isinstance(z_scores_1, pd.DataFrame):\n",
    "        z1z2 = z_scores_1.join(z_scores_2, lsuffix=\"1\", rsuffix=\"2\")\n",
    "        z1z2 = z1z2.assign(zz=z1z2.z1 * z1z2.z2)\n",
    "    elif isinstance(z_scores_1, pd.Series):\n",
    "        z1z2 = pd.concat([z_scores_1, z_scores_2], axis=1)\n",
    "    if overlap_control == \"remove\":\n",
    "        seed_overlap = list(set(seed1).intersection(set(seed2)))\n",
    "        print(\"Overlap seed genes:\", len(seed_overlap))\n",
    "        z1z2.drop(seed_overlap, axis=0, inplace=True)\n",
    "    elif overlap_control == \"bin\":\n",
    "        seed_overlap = list(set(seed1).intersection(set(seed2)))\n",
    "        print(\"Overlap seed genes:\", len(seed_overlap))\n",
    "        overlap_z1z2 = z1z2.loc[seed_overlap]\n",
    "        overlap_z1 = np.array(overlap_z1z2.z1)\n",
    "        overlap_z2 = np.array(overlap_z1z2.z2)\n",
    "        z1z2.drop(seed_overlap, axis=0, inplace=True)\n",
    "    z1 = np.array(z1z2.z1)\n",
    "    z2 = np.array(z1z2.z2)\n",
    "    \n",
    "    network_overlap_size = len(calculate_network_overlap(z1z2.z1, z1z2.z2,\n",
    "                                                         z_score_threshold=z_score_threshold,\n",
    "                                                         z1_threshold=z1_threshold,\n",
    "                                                         z2_threshold=z2_threshold))\n",
    "    network_overlap_size += len(calculate_network_overlap(overlap_z1z2.z1, overlap_z1z2.z2,\n",
    "                                                         z_score_threshold=z_score_threshold,\n",
    "                                                         z1_threshold=z1_threshold,\n",
    "                                                         z2_threshold=z2_threshold))\n",
    "    \n",
    "    random_network_overlap_sizes = np.zeros(num_reps)\n",
    "    for i in tqdm(range(num_reps)):\n",
    "        perm_z1z2 = np.zeros(len(z1))\n",
    "        rn.shuffle(z1)\n",
    "        perm_size = len(calculate_network_overlap(z1, z2,\n",
    "                                                         z_score_threshold=z_score_threshold,\n",
    "                                                         z1_threshold=z1_threshold,\n",
    "                                                         z2_threshold=z2_threshold))\n",
    "        if overlap_control == \"bin\":\n",
    "            overlap_perm_z1z2 = np.zeros(len(overlap_z1))\n",
    "            rn.shuffle(overlap_z1) \n",
    "            perm_size_overlap = len(calculate_network_overlap(overlap_z1, overlap_z2,\n",
    "                                                         z_score_threshold=z_score_threshold,\n",
    "                                                         z1_threshold=z1_threshold,\n",
    "                                                         z2_threshold=z2_threshold))\n",
    "            \n",
    "            perm_size += perm_size_overlap\n",
    "                    \n",
    "        \n",
    "        random_network_overlap_sizes[i] = perm_size\n",
    "    \n",
    "\n",
    "    if plot:\n",
    "        plt.figure(figsize=(5, 4))\n",
    "        dfig = sns.histplot(random_network_overlap_sizes,\n",
    "                            label='Expected network intersection size')\n",
    "        plt.vlines(network_overlap_size, ymin=0, ymax=dfig.dataLim.bounds[3], color='r',\n",
    "                   label='Observed network intersection size')\n",
    "        plt.xlabel('Size of proximal subgraph, z > ' + str(z_score_threshold),\n",
    "                   fontsize=16)\n",
    "        plt.legend(fontsize=12)\n",
    "\n",
    "    return network_overlap_size, random_network_overlap_sizes\n",
    "\n",
    "     \n",
    "def plot_overlap_significance(primary, secondary, results_table):\n",
    "    \"\"\"\n",
    "    :param primary:\n",
    "    :param secondary:\n",
    "    :param results_table:\n",
    "    \"\"\"\n",
    "    pairs = [(primary, s)  if (primary, s) in results_table.index else (s, primary) for s in secondary]\n",
    "    pairs_data = results_table.loc[pairs]\n",
    "    pairs_data['xlabel'] = [primary+ \"-\" + s for s in secondary]\n",
    "    pairs_data['yerr_lower'] = pairs_data.apply(lambda x: x.obs_exp - x.num_overlap/(x.exp_mean_overlap + 1.96*x.exp_std_overlap), axis = 1)\n",
    "    pairs_data['yerr_upper'] = pairs_data.apply(lambda x: x.num_overlap/(x.exp_mean_overlap - 1.96*x.exp_std_overlap) - x.obs_exp, axis = 1)\n",
    "\n",
    "    plt.figure(figsize = (4,3))\n",
    "    plt.errorbar(np.arange(len(pairs_data)),pairs_data['obs_exp'],\n",
    "             yerr=[pairs_data['yerr_lower'],pairs_data['yerr_upper']],\n",
    "             fmt='o',color='k')\n",
    "    tmp=plt.xticks(np.arange(len(pairs_data)), pairs_data['xlabel'],fontsize=16,rotation='vertical')\n",
    "    plt.ylabel('observed/expected size \\nof network intersection\\n(95% CI)',fontsize=16)\n",
    "    plt.hlines(1,xmin=-.5,xmax=len(pairs_data),color='gray',linestyles='dashed')\n",
    "    plt.yticks(fontsize=16)\n",
    "    plt.xlim([-.5,len(pairs_data)-.5])\n",
    "    \n",
    "def plot_permutation_histogram(permuted, observed, title, xlabel, color=\"cornflowerblue\", arrow_color=\"red\"):\n",
    "    \"\"\"\n",
    "    Plot the observed mean of NPS_hr against a density histrogram of the means of permuted NPS_hr\n",
    "    :param permuted: Vector of means of permuted NPS_hr\n",
    "    :param observed: Observed mean of NPS_hr\n",
    "    :param title: String for plot title\n",
    "    :param xlabel: String for x-axis label\n",
    "    \"\"\"\n",
    "    plt.figure(figsize=(5, 4))\n",
    "    dfig = sns.histplot(permuted, label='Permuted', alpha=0.4, stat='density', bins=25, kde=True, \n",
    "                        edgecolor='w', color=color)\n",
    "    params = {'mathtext.default': 'regular' }          \n",
    "    plt.rcParams.update(params)\n",
    "    plt.xlabel(xlabel, fontsize=16)\n",
    "    diff = max(observed, max(permuted))-min(permuted)\n",
    "    plt.arrow(x = observed, y=dfig.dataLim.bounds[3]/2, dx=0, dy = -1 * dfig.dataLim.bounds[3]/2,label = \"Observed\",\n",
    "              width=diff/100, head_width=diff/15, head_length=dfig.dataLim.bounds[3]/20, overhang=0.5, \n",
    "              length_includes_head=True, color=arrow_color, zorder=50)\n",
    "    #plt.xlabel(xlabel, fontsize=12)\n",
    "    plt.ylabel(\"Density\", fontsize=16)\n",
    "    plt.legend(fontsize=12, loc=(0.6,0.75))\n",
    "    plt.xticks(fontsize=12)\n",
    "    plt.yticks(fontsize=12)\n",
    "    plt.locator_params(axis=\"y\", nbins=6)\n",
    "    plt.title(title+\" (p=\"+str(get_p_from_permutation_results(observed, permuted))+\")\", fontsize=16)\n",
    "\n",
    "## Added to netcoloc\n",
    "def get_p_from_permutation_results(observed, permuted):\n",
    "    \"\"\"\n",
    "    Calculates the significance of the observed mean relative to the empirical normal distribution of permuted means.\n",
    "    :param observed: observed mean NPS_hr\n",
    "    :param permuted: vector of means from permuted NPS_hr\n",
    "    \"\"\"\n",
    "    p = norm.sf((observed-np.mean(permuted))/np.std(permuted))\n",
    "    p = round(p, 4 - int(math.floor(math.log10(abs(p)))) - 1)\n",
    "    return(p)\n",
    "\n",
    "\n",
    "## Added to netcoloc\n",
    "def calculate_network_overlap(z_scores_1, z_scores_2, z_score_threshold=3,\n",
    "                              z1_threshold=1.5, z2_threshold=1.5):\n",
    "    \"\"\"\n",
    "    Function to determine which genes overlap. Returns a list of the\n",
    "    overlapping genes\n",
    "\n",
    "    :param z_scores_1: Result from :py:func:`~netcoloc.netprop_zscore.netprop_zscore`\n",
    "                       or :py:func:`~netcoloc.netprop_zscore.calculate_heat_zscores`\n",
    "                       containing the z-scores of each gene following network\n",
    "                       propagation. The index consists of gene names\n",
    "    :type z_scores_1: :py:class:`pandas.Series`\n",
    "    :param z_scores_2: Similar to **z_scores_1**. This and **z_scores_1**\n",
    "                       must contain the same genes (ie. come from the same\n",
    "                       interactome network)\n",
    "    :type z_scores_2: :py:class:`pandas.Series`\n",
    "    :param z_score_threshold: threshold to determine whether a gene is\n",
    "        a part of the network overlap or not. Genes with combined z-scores\n",
    "        below this threshold will be discarded\n",
    "    :type z_score_threshold: float\n",
    "    :param z1_threshold: individual z1-score threshold to determine whether a gene is\n",
    "        a part of the network overlap or not. Genes with z1-scores\n",
    "        below this threshold will be discarded\n",
    "    :type z1_threshold: float\n",
    "    :param z2_threshold: individual z2-score threshold to determine whether a gene is\n",
    "        a part of the network overlap or not. Genes with z2-scores\n",
    "        below this threshold will be discarded\n",
    "    :type z2_threshold: float\n",
    "    :return: genes in the network overlap (genes with high combined\n",
    "            z-scores)\n",
    "    :rtype: list\n",
    "    \"\"\"\n",
    "    if isinstance(z_scores_1, pd.Series):\n",
    "        z_scores_1 = z_scores_1.to_frame(name='z_scores_1')\n",
    "        z_scores_2 = z_scores_2.to_frame(name='z_scores_2')\n",
    "    elif isinstance(z_scores_1, np.ndarray):\n",
    "        z_scores_1 = pd.DataFrame({\"z_scores_1\":z_scores_1})\n",
    "        z_scores_2 = pd.DataFrame({\"z_scores_2\":z_scores_2})\n",
    "    else:\n",
    "        z_scores_1.columns = [\"z_scores_1\"]\n",
    "        z_scores_2.columns = [\"z_scores_2\"]\n",
    "    z_scores_joined = z_scores_1.join(z_scores_2)\n",
    "    z_scores_combined = (z_scores_joined['z_scores_1']\n",
    "                        * z_scores_joined['z_scores_2']\n",
    "                        * (z_scores_joined['z_scores_1'] > 0)\n",
    "                        * (z_scores_joined['z_scores_2'] > 0))\n",
    "    # get rid of unlikely genes which have low scores in either z1 or z2\n",
    "    high_z_score_genes = z_scores_combined[\n",
    "        (z_scores_combined >= z_score_threshold)\n",
    "         & (z_scores_joined['z_scores_1'] > z1_threshold)\n",
    "         & (z_scores_joined['z_scores_2'] > z2_threshold)\n",
    "    ].index.tolist()\n",
    "\n",
    "    return high_z_score_genes\n"
   ]
  },
  {
   "cell_type": "code",
   "execution_count": 6,
   "metadata": {
    "ExecuteTime": {
     "end_time": "2022-05-14T16:50:11.418097Z",
     "start_time": "2022-05-14T16:50:11.414422Z"
    }
   },
   "outputs": [],
   "source": [
    "def plot_trait_bar(obs, perm, ci=0.95):\n",
    "    transform = np.mean(perm) / perm\n",
    "    avg = np.mean(transform)\n",
    "    upper = np.quantile(transform, ci)\n",
    "    lower = np.quantile(transform, 1-ci)\n",
    "    observation = obs / np.mean(perm)\n",
    "    p_value = get_p_from_permutation_results(obs, perm)\n",
    "    plt.bar([\"observed\", \"permuted\"], [observation, avg], yerr=[[0, avg - lower], [0, upper- avg]], capsize=4,edgecolor=\"black\")\n",
    "\n",
    "def plot_control_bar(obs, perm, trait, ci=0.95):\n",
    "    transform = obs / perm\n",
    "    avg = np.mean(transform)\n",
    "    upper = np.quantile(transform, ci)\n",
    "    lower = np.quantile(transform, 1-ci)\n",
    "    p_value = get_p_from_permutation_results(obs, perm)\n",
    "    return pd.DataFrame({\"Mean\":avg, \"Upper\":upper, \"Lower\":lower, \"p\":p_value}, index=[trait])\n",
    "    #plt.bar([\"control\"], [avg], yerr=[[avg-lower], [upper-avg]])    "
   ]
  },
  {
   "cell_type": "code",
   "execution_count": 8,
   "metadata": {
    "ExecuteTime": {
     "end_time": "2022-05-14T16:50:29.633442Z",
     "start_time": "2022-05-14T16:50:29.630703Z"
    }
   },
   "outputs": [],
   "source": [
    "def load_human_seed_genes(filepath, interactome_nodes, trait=''):\n",
    "    \"\"\"\n",
    "    :param filepath:\n",
    "    :param interactome_nodes:\n",
    "    :param trait:\n",
    "    \"\"\"\n",
    "    all_scores = pd.read_csv(filepath, sep=\"\\t\", index_col='gene_symbol')\n",
    "    # subset to genes in the interactome\n",
    "    all_scores = all_scores.loc[list(np.intersect1d(all_scores.index.tolist(), interactome_nodes))]\n",
    "    # Calculate bonferroni corrected pvalue (alpha=0.05)\n",
    "    bonf_p = .05/len(all_scores)\n",
    "    # Get significant genes\n",
    "    seeds = all_scores[all_scores['pvalue'] < bonf_p].index.tolist()\n",
    "    print(\"Number of\",trait,\"seeds:\", len(seeds))\n",
    "    return seeds"
   ]
  },
  {
   "cell_type": "code",
   "execution_count": 11,
   "metadata": {
    "ExecuteTime": {
     "end_time": "2022-05-14T16:51:37.876896Z",
     "start_time": "2022-05-14T16:51:24.780682Z"
    }
   },
   "outputs": [
    {
     "name": "stdout",
     "output_type": "stream",
     "text": [
      "number of nodes:\n",
      "18820\n",
      "\n",
      "number of edges:\n",
      "2693109\n"
     ]
    }
   ],
   "source": [
    "pc_nodes, G_PC = load_pcnet()"
   ]
  },
  {
   "cell_type": "code",
   "execution_count": 12,
   "metadata": {
    "ExecuteTime": {
     "end_time": "2022-05-14T16:51:40.177700Z",
     "start_time": "2022-05-14T16:51:40.048789Z"
    }
   },
   "outputs": [
    {
     "name": "stdout",
     "output_type": "stream",
     "text": [
      "Number of BMI seeds: 1958\n",
      "Number of height seeds: 6140\n"
     ]
    }
   ],
   "source": [
    "# Human BMI seed genes\n",
    "seed_bin_human_BMI = load_human_seed_genes(DATADIR+'GIANT_BMI_pascal.sum.genescores.txt', \n",
    "                                           pc_nodes, 'BMI')\n",
    "# Human standing height seed genes\n",
    "seed_bin_human_height = load_human_seed_genes(DATADIR+'GIANT_standing_height_pascal.sum.genescores.txt', \n",
    "                                              pc_nodes, 'height')"
   ]
  },
  {
   "cell_type": "code",
   "execution_count": 13,
   "metadata": {
    "ExecuteTime": {
     "end_time": "2022-05-14T16:51:41.212668Z",
     "start_time": "2022-05-14T16:51:41.204118Z"
    }
   },
   "outputs": [
    {
     "name": "stdout",
     "output_type": "stream",
     "text": [
      "Number of rat BL seeds: 337\n",
      "Number of rat BMI seeds: 295\n"
     ]
    }
   ],
   "source": [
    "seed_bin_rat_BL=pd.read_csv(DATADIR+'ratBL_seed_'+ratThresh+'.txt',sep='\\t')['0'].tolist()\n",
    "print(\"Number of rat BL seeds:\", len(seed_bin_rat_BL))\n",
    "\n",
    "seed_bin_rat_BMI=pd.read_csv(DATADIR+'ratBMI_seed_'+ratThresh+'.txt',sep='\\t')['0'].tolist()\n",
    "print(\"Number of rat BMI seeds:\", len(seed_bin_rat_BMI))"
   ]
  },
  {
   "cell_type": "code",
   "execution_count": 14,
   "metadata": {
    "ExecuteTime": {
     "end_time": "2022-05-14T16:51:42.646114Z",
     "start_time": "2022-05-14T16:51:42.633485Z"
    },
    "init_cell": true
   },
   "outputs": [
    {
     "name": "stdout",
     "output_type": "stream",
     "text": [
      "Number of AR seeds: 34\n",
      "Number of BP1 seeds: 316\n",
      "Number of BP4 seeds: 239\n"
     ]
    }
   ],
   "source": [
    "# Human control trait seed genes\n",
    "seed_bin_human_AR = pd.read_csv(DATADIR+'humanAR_seed_'+mapper+'_'+adj_type+'_'+ratThresh+'.txt',\n",
    "                               sep=\"\\t\")['0'].tolist() # Arthritis\n",
    "seed_bin_human_BP1 = pd.read_csv(DATADIR+'humanBP1_seed_'+mapper+'_'+adj_type+'_'+ratThresh+'.txt',\n",
    "                               sep=\"\\t\")['0'].tolist() # Balding pattern 1\n",
    "seed_bin_human_BP4 = pd.read_csv(DATADIR+'humanBP4_seed_'+mapper+'_'+adj_type+'_'+ratThresh+'.txt',\n",
    "                               sep=\"\\t\")['0'].tolist() # Balding pattern 4\n",
    "print(\"Number of AR seeds:\", len(seed_bin_human_AR))\n",
    "print(\"Number of BP1 seeds:\", len(seed_bin_human_BP1))\n",
    "print(\"Number of BP4 seeds:\", len(seed_bin_human_BP4))"
   ]
  },
  {
   "cell_type": "code",
   "execution_count": 16,
   "metadata": {
    "ExecuteTime": {
     "end_time": "2022-05-14T16:52:25.237771Z",
     "start_time": "2022-05-14T16:52:24.598480Z"
    }
   },
   "outputs": [],
   "source": [
    "z_human_bin_BMI = netprop_zscore.get_consensus_z_scores(DATADIR+'z_human_bin_BMI_SAMPLED_500_100_weighted.tsv')\n",
    "z_human_bin_height = netprop_zscore.get_consensus_z_scores(DATADIR+'z_human_bin_Height_SAMPLED_500_100_weighted.tsv')\n",
    "out_name = 'rat_BMI_'+ratThresh\n",
    "z_rat_BMI=pd.read_csv(DATADIR+'z_'+out_name+'_'+str(num_reps)+'_reps.tsv',sep='\\t',\n",
    "                          index_col='gene',names=['gene','z'], header=0)\n",
    "out_name = 'rat_BL_'+ratThresh\n",
    "z_rat_BL=pd.read_csv(DATADIR + 'z_'+out_name+'_'+str(num_reps)+'_reps.tsv',sep='\\t',\n",
    "                         index_col='gene', names=['gene', 'z'], header=0)"
   ]
  },
  {
   "cell_type": "code",
   "execution_count": 17,
   "metadata": {
    "ExecuteTime": {
     "end_time": "2022-05-14T16:52:26.276889Z",
     "start_time": "2022-05-14T16:52:26.237796Z"
    }
   },
   "outputs": [],
   "source": [
    "out_name = 'human_AR_'+mapper+'_'+adj_type\n",
    "z_human_bin_AR=pd.read_csv(DATADIR+'z_'+out_name+'_'+str(num_reps)+'_reps.tsv',sep='\\t',\n",
    "                            index_col='gene',names=['gene','z'], header=0)\n",
    "\n",
    "out_name = 'human_BP1_'+mapper+'_'+adj_type\n",
    "z_human_bin_BP1=pd.read_csv(DATADIR+'z_'+out_name+'_'+str(num_reps)+'_reps.tsv',sep='\\t',\n",
    "                            index_col='gene',names=['gene','z'], header=0)\n",
    "\n",
    "out_name = 'human_BP4_'+mapper+'_'+adj_type\n",
    "z_human_bin_BP4=pd.read_csv(DATADIR+'z_'+out_name+'_'+str(num_reps)+'_reps.tsv',sep='\\t',\n",
    "                            index_col='gene',names=['gene','z'], header=0)"
   ]
  },
  {
   "cell_type": "code",
   "execution_count": 18,
   "metadata": {
    "ExecuteTime": {
     "end_time": "2022-05-14T16:52:27.604358Z",
     "start_time": "2022-05-14T16:52:27.602157Z"
    }
   },
   "outputs": [],
   "source": [
    "z_dict = {'hBMI':z_human_bin_BMI,'hHeight':z_human_bin_height,\n",
    "          'rBMI':z_rat_BMI,'rBL':z_rat_BL,\n",
    "          'hAR':z_human_bin_AR,'hBP1':z_human_bin_BP1,\n",
    "          'hBP4':z_human_bin_BP4}\n",
    "\n",
    "seed_dict = {'hBMI':seed_bin_human_BMI,'hHeight':seed_bin_human_height,\n",
    "             'rBMI':seed_bin_rat_BMI,'rBL':seed_bin_rat_BL,\n",
    "             'hAR':seed_bin_human_AR,'hBP1':seed_bin_human_BP1,\n",
    "             'hBP4':seed_bin_human_BP4}"
   ]
  },
  {
   "cell_type": "markdown",
   "metadata": {},
   "source": [
    "# Do Analysis"
   ]
  },
  {
   "cell_type": "code",
   "execution_count": 19,
   "metadata": {
    "ExecuteTime": {
     "end_time": "2022-05-14T16:52:29.596195Z",
     "start_time": "2022-05-14T16:52:29.594805Z"
    }
   },
   "outputs": [],
   "source": [
    "control_results = []"
   ]
  },
  {
   "cell_type": "code",
   "execution_count": 20,
   "metadata": {
    "ExecuteTime": {
     "end_time": "2022-05-14T16:52:46.659013Z",
     "start_time": "2022-05-14T16:52:32.798988Z"
    }
   },
   "outputs": [
    {
     "name": "stdout",
     "output_type": "stream",
     "text": [
      "Overlap seed genes: 2\n"
     ]
    },
    {
     "name": "stderr",
     "output_type": "stream",
     "text": [
      "100%|██████████| 1000/1000 [00:13<00:00, 73.09it/s]\n"
     ]
    }
   ],
   "source": [
    "obs_a, perm_a = calculate_expected_overlap(z_dict['rBMI'], z_dict['hAR'], \n",
    "                                                                      z_score_threshold=3, z1_threshold=1.0,\n",
    "                                                                      z2_threshold=1.0, num_reps=1000, plot=False, \n",
    "                                                                              overlap_control=\"bin\",\n",
    "                                                                              seed1=seed_dict['rBMI'], seed2=seed_dict['hAR'])"
   ]
  },
  {
   "cell_type": "code",
   "execution_count": 21,
   "metadata": {
    "ExecuteTime": {
     "end_time": "2022-05-14T16:53:17.996331Z",
     "start_time": "2022-05-14T16:53:16.704418Z"
    }
   },
   "outputs": [
    {
     "name": "stdout",
     "output_type": "stream",
     "text": [
      "Significance of colocalized network size: 0.9999\n"
     ]
    },
    {
     "data": {
      "image/png": "[encoded data removed]",
      "text/plain": [
       "<Figure size 360x288 with 1 Axes>"
      ]
     },
     "metadata": {
      "needs_background": "light"
     },
     "output_type": "display_data"
    }
   ],
   "source": [
    "\n",
    "control_results.append(plot_control_bar(obs_a, perm_a, \"hAR\"))\n",
    "plot_permutation_histogram(perm_a, obs_a,'rBMI/hAR', 'Size')\n",
    "print(\"Significance of colocalized network size:\", get_p_from_permutation_results(obs_a, perm_a))"
   ]
  },
  {
   "cell_type": "code",
   "execution_count": 22,
   "metadata": {
    "ExecuteTime": {
     "end_time": "2022-05-14T16:53:35.124424Z",
     "start_time": "2022-05-14T16:53:21.340179Z"
    }
   },
   "outputs": [
    {
     "name": "stdout",
     "output_type": "stream",
     "text": [
      "Overlap seed genes: 2\n"
     ]
    },
    {
     "name": "stderr",
     "output_type": "stream",
     "text": [
      "100%|██████████| 1000/1000 [00:13<00:00, 72.62it/s]\n"
     ]
    }
   ],
   "source": [
    "obs_b, perm_b = calculate_expected_overlap(z_dict['rBMI'], z_dict['hBP1'], \n",
    "                                                                      z_score_threshold=3, z1_threshold=1.0,\n",
    "                                                                      z2_threshold=1.0, num_reps=1000, plot=False, \n",
    "                                                                              overlap_control=\"bin\",\n",
    "                                                                              seed1=seed_dict['rBMI'], seed2=seed_dict['hBP1'])"
   ]
  },
  {
   "cell_type": "code",
   "execution_count": 23,
   "metadata": {
    "ExecuteTime": {
     "end_time": "2022-05-14T16:53:35.862930Z",
     "start_time": "2022-05-14T16:53:35.515752Z"
    }
   },
   "outputs": [
    {
     "name": "stdout",
     "output_type": "stream",
     "text": [
      "Significance of colocalized network size: 0.4543\n"
     ]
    },
    {
     "data": {
      "image/png": "[encoded data removed]",
      "text/plain": [
       "<Figure size 360x288 with 1 Axes>"
      ]
     },
     "metadata": {
      "needs_background": "light"
     },
     "output_type": "display_data"
    }
   ],
   "source": [
    "control_results.append(plot_control_bar(obs_b, perm_b, \"hBP1\"))\n",
    "plot_permutation_histogram(perm_b, obs_b,'rBMI/hAR', 'Size')\n",
    "print(\"Significance of colocalized network size:\", get_p_from_permutation_results(obs_b, perm_b))"
   ]
  },
  {
   "cell_type": "code",
   "execution_count": null,
   "metadata": {},
   "outputs": [],
   "source": []
  },
  {
   "cell_type": "code",
   "execution_count": 24,
   "metadata": {
    "ExecuteTime": {
     "end_time": "2022-05-14T16:53:49.396738Z",
     "start_time": "2022-05-14T16:53:35.954992Z"
    }
   },
   "outputs": [
    {
     "name": "stdout",
     "output_type": "stream",
     "text": [
      "Overlap seed genes: 1\n"
     ]
    },
    {
     "name": "stderr",
     "output_type": "stream",
     "text": [
      "100%|██████████| 1000/1000 [00:13<00:00, 74.48it/s]\n"
     ]
    }
   ],
   "source": [
    "obs_c, perm_c = calculate_expected_overlap(z_dict['rBMI'], z_dict['hBP4'], \n",
    "                                                                      z_score_threshold=3, z1_threshold=1.0,\n",
    "                                                                      z2_threshold=1.0, num_reps=1000, plot=False, \n",
    "                                                                              overlap_control=\"bin\",\n",
    "                                                                              seed1=seed_dict['rBMI'], seed2=seed_dict['hBP4'])"
   ]
  },
  {
   "cell_type": "code",
   "execution_count": 25,
   "metadata": {
    "ExecuteTime": {
     "end_time": "2022-05-14T16:53:49.862235Z",
     "start_time": "2022-05-14T16:53:49.509354Z"
    }
   },
   "outputs": [
    {
     "name": "stdout",
     "output_type": "stream",
     "text": [
      "Significance of colocalized network size: 0.9615\n"
     ]
    },
    {
     "data": {
      "image/png": "[encoded data removed]",
      "text/plain": [
       "<Figure size 360x288 with 1 Axes>"
      ]
     },
     "metadata": {
      "needs_background": "light"
     },
     "output_type": "display_data"
    }
   ],
   "source": [
    "control_results.append(plot_control_bar(obs_c, perm_c, \"hBP4\"))\n",
    "plot_permutation_histogram(perm_c, obs_c,'rBMI/hAR', 'Size')\n",
    "print(\"Significance of colocalized network size:\", get_p_from_permutation_results(obs_c, perm_c))"
   ]
  },
  {
   "cell_type": "code",
   "execution_count": 26,
   "metadata": {
    "ExecuteTime": {
     "end_time": "2022-05-14T16:54:03.668528Z",
     "start_time": "2022-05-14T16:53:49.964707Z"
    }
   },
   "outputs": [
    {
     "name": "stdout",
     "output_type": "stream",
     "text": [
      "Overlap seed genes: 109\n"
     ]
    },
    {
     "name": "stderr",
     "output_type": "stream",
     "text": [
      "100%|██████████| 1000/1000 [00:13<00:00, 73.05it/s]\n"
     ]
    }
   ],
   "source": [
    "obs_d, perm_d = calculate_expected_overlap(z_dict['rBMI'], z_dict['hHeight'], \n",
    "                                                                      z_score_threshold=3, z1_threshold=1.0,\n",
    "                                                                      z2_threshold=1.0, num_reps=1000, plot=False, \n",
    "                                                                              overlap_control=\"bin\",\n",
    "                                                                              seed1=seed_dict['rBMI'], seed2=seed_dict['hHeight'])"
   ]
  },
  {
   "cell_type": "code",
   "execution_count": 27,
   "metadata": {
    "ExecuteTime": {
     "end_time": "2022-05-14T16:54:04.155065Z",
     "start_time": "2022-05-14T16:54:03.791438Z"
    }
   },
   "outputs": [
    {
     "name": "stdout",
     "output_type": "stream",
     "text": [
      "Significance of colocalized network size: 0.9514\n"
     ]
    },
    {
     "data": {
      "image/png": "[encoded data removed]",
      "text/plain": [
       "<Figure size 360x288 with 1 Axes>"
      ]
     },
     "metadata": {
      "needs_background": "light"
     },
     "output_type": "display_data"
    }
   ],
   "source": [
    "control_results.append(plot_control_bar(obs_d, perm_d, \"hHeight\"))\n",
    "plot_permutation_histogram(perm_d, obs_d,'rBMI/hHeight', 'Size')\n",
    "print(\"Significance of colocalized network size:\", get_p_from_permutation_results(obs_d, perm_d))"
   ]
  },
  {
   "cell_type": "code",
   "execution_count": 28,
   "metadata": {
    "ExecuteTime": {
     "end_time": "2022-05-14T16:54:17.876207Z",
     "start_time": "2022-05-14T16:54:04.268451Z"
    }
   },
   "outputs": [
    {
     "name": "stdout",
     "output_type": "stream",
     "text": [
      "Overlap seed genes: 25\n"
     ]
    },
    {
     "name": "stderr",
     "output_type": "stream",
     "text": [
      "100%|██████████| 1000/1000 [00:13<00:00, 73.57it/s]\n"
     ]
    }
   ],
   "source": [
    "obs_e, perm_e = calculate_expected_overlap(z_dict['rBMI'], z_dict['rBL'], \n",
    "                                                                      z_score_threshold=3, z1_threshold=1.0,\n",
    "                                                                      z2_threshold=1.0, num_reps=1000, plot=False, \n",
    "                                                                              overlap_control=\"bin\",\n",
    "                                                                              seed1=seed_dict['rBMI'], seed2=seed_dict['rBL'])"
   ]
  },
  {
   "cell_type": "code",
   "execution_count": 29,
   "metadata": {
    "ExecuteTime": {
     "end_time": "2022-05-14T16:54:18.378434Z",
     "start_time": "2022-05-14T16:54:18.000088Z"
    }
   },
   "outputs": [
    {
     "name": "stdout",
     "output_type": "stream",
     "text": [
      "Significance of colocalized network size: 1.949e-07\n"
     ]
    },
    {
     "data": {
      "image/png": "[encoded data removed]",
      "text/plain": [
       "<Figure size 360x288 with 1 Axes>"
      ]
     },
     "metadata": {
      "needs_background": "light"
     },
     "output_type": "display_data"
    }
   ],
   "source": [
    "control_results.append(plot_control_bar(obs_e, perm_e, \"rBL\"))\n",
    "plot_permutation_histogram(perm_e, obs_e,'rBMI/rBL', 'Size')\n",
    "print(\"Significance of colocalized network size:\", get_p_from_permutation_results(obs_e, perm_e))"
   ]
  },
  {
   "cell_type": "code",
   "execution_count": 30,
   "metadata": {
    "ExecuteTime": {
     "end_time": "2022-05-14T16:54:32.096426Z",
     "start_time": "2022-05-14T16:54:18.502914Z"
    }
   },
   "outputs": [
    {
     "name": "stdout",
     "output_type": "stream",
     "text": [
      "Overlap seed genes: 29\n"
     ]
    },
    {
     "name": "stderr",
     "output_type": "stream",
     "text": [
      "100%|██████████| 1000/1000 [00:13<00:00, 73.65it/s]\n"
     ]
    }
   ],
   "source": [
    "obs_f, perm_f = calculate_expected_overlap(z_dict['rBMI'], z_dict['hBMI'], \n",
    "                                                                      z_score_threshold=3, z1_threshold=1.0,\n",
    "                                                                      z2_threshold=1.0, num_reps=1000, plot=False, \n",
    "                                                                              overlap_control=\"bin\",\n",
    "                                                                              seed1=seed_dict['rBMI'], seed2=seed_dict['hBMI'])"
   ]
  },
  {
   "cell_type": "code",
   "execution_count": 31,
   "metadata": {
    "ExecuteTime": {
     "end_time": "2022-05-14T16:54:32.658137Z",
     "start_time": "2022-05-14T16:54:32.242262Z"
    }
   },
   "outputs": [
    {
     "name": "stdout",
     "output_type": "stream",
     "text": [
      "Significance of colocalized network size: 2.404e-08\n"
     ]
    },
    {
     "data": {
      "image/png": "[encoded data removed]",
      "text/plain": [
       "<Figure size 360x288 with 1 Axes>"
      ]
     },
     "metadata": {
      "needs_background": "light"
     },
     "output_type": "display_data"
    }
   ],
   "source": [
    "control_results.append(plot_control_bar(obs_f, perm_f, \"hBMI\"))\n",
    "plot_permutation_histogram(perm_f, obs_f,'rBMI/rBL', 'Size')\n",
    "print(\"Significance of colocalized network size:\", get_p_from_permutation_results(obs_f, perm_f))"
   ]
  },
  {
   "cell_type": "code",
   "execution_count": 32,
   "metadata": {
    "ExecuteTime": {
     "end_time": "2022-05-14T16:54:46.840952Z",
     "start_time": "2022-05-14T16:54:33.085027Z"
    }
   },
   "outputs": [
    {
     "name": "stdout",
     "output_type": "stream",
     "text": [
      "Overlap seed genes: 57\n"
     ]
    },
    {
     "name": "stderr",
     "output_type": "stream",
     "text": [
      "100%|██████████| 1000/1000 [00:13<00:00, 72.77it/s]\n"
     ]
    }
   ],
   "source": [
    "obs_g, perm_g = calculate_expected_overlap(z_dict['rBL'], z_dict['hBMI'], \n",
    "                                                                      z_score_threshold=3, z1_threshold=1.0,\n",
    "                                                                      z2_threshold=1.0, num_reps=1000, plot=False, \n",
    "                                                                              overlap_control=\"bin\",\n",
    "                                                                              seed1=seed_dict['rBL'], seed2=seed_dict['hBMI'])"
   ]
  },
  {
   "cell_type": "code",
   "execution_count": 33,
   "metadata": {
    "ExecuteTime": {
     "end_time": "2022-05-14T16:54:46.999087Z",
     "start_time": "2022-05-14T16:54:46.996203Z"
    }
   },
   "outputs": [],
   "source": [
    "control_results.append(plot_control_bar(obs_g, perm_g, \"rBL/hBMI\"))"
   ]
  },
  {
   "cell_type": "code",
   "execution_count": 34,
   "metadata": {
    "ExecuteTime": {
     "end_time": "2022-05-14T16:55:00.804509Z",
     "start_time": "2022-05-14T16:54:47.144502Z"
    }
   },
   "outputs": [
    {
     "name": "stdout",
     "output_type": "stream",
     "text": [
      "Overlap seed genes: 166\n"
     ]
    },
    {
     "name": "stderr",
     "output_type": "stream",
     "text": [
      "100%|██████████| 1000/1000 [00:13<00:00, 73.28it/s]\n"
     ]
    }
   ],
   "source": [
    "obs_h, perm_h = calculate_expected_overlap(z_dict['rBL'], z_dict['hHeight'], \n",
    "                                                                      z_score_threshold=3, z1_threshold=1.0,\n",
    "                                                                      z2_threshold=1.0, num_reps=1000, plot=False, \n",
    "                                                                              overlap_control=\"bin\",\n",
    "                                                                              seed1=seed_dict['rBL'], seed2=seed_dict['hHeight'])"
   ]
  },
  {
   "cell_type": "code",
   "execution_count": 35,
   "metadata": {
    "ExecuteTime": {
     "end_time": "2022-05-14T16:55:00.962556Z",
     "start_time": "2022-05-14T16:55:00.959867Z"
    }
   },
   "outputs": [],
   "source": [
    "control_results.append(plot_control_bar(obs_h, perm_h, \"hBL/Height\"))\n"
   ]
  },
  {
   "cell_type": "code",
   "execution_count": 36,
   "metadata": {
    "ExecuteTime": {
     "end_time": "2022-05-14T16:55:01.121020Z",
     "start_time": "2022-05-14T16:55:01.118864Z"
    }
   },
   "outputs": [],
   "source": [
    "control_results = pd.concat(control_results)"
   ]
  },
  {
   "cell_type": "code",
   "execution_count": 37,
   "metadata": {
    "ExecuteTime": {
     "end_time": "2022-05-14T16:55:01.325647Z",
     "start_time": "2022-05-14T16:55:01.263391Z"
    }
   },
   "outputs": [
    {
     "data": {
      "text/html": [
       "<div>\n",
       "<style scoped>\n",
       "    .dataframe tbody tr th:only-of-type {\n",
       "        vertical-align: middle;\n",
       "    }\n",
       "\n",
       "    .dataframe tbody tr th {\n",
       "        vertical-align: top;\n",
       "    }\n",
       "\n",
       "    .dataframe thead th {\n",
       "        text-align: right;\n",
       "    }\n",
       "</style>\n",
       "<table border=\"1\" class=\"dataframe\">\n",
       "  <thead>\n",
       "    <tr style=\"text-align: right;\">\n",
       "      <th></th>\n",
       "      <th>Mean</th>\n",
       "      <th>Upper</th>\n",
       "      <th>Lower</th>\n",
       "      <th>p</th>\n",
       "    </tr>\n",
       "  </thead>\n",
       "  <tbody>\n",
       "    <tr>\n",
       "      <th>hAR</th>\n",
       "      <td>0.798221</td>\n",
       "      <td>0.872146</td>\n",
       "      <td>0.729008</td>\n",
       "      <td>9.999000e-01</td>\n",
       "    </tr>\n",
       "    <tr>\n",
       "      <th>hBP1</th>\n",
       "      <td>1.008609</td>\n",
       "      <td>1.103704</td>\n",
       "      <td>0.931105</td>\n",
       "      <td>4.543000e-01</td>\n",
       "    </tr>\n",
       "    <tr>\n",
       "      <th>hBP4</th>\n",
       "      <td>0.910323</td>\n",
       "      <td>0.992248</td>\n",
       "      <td>0.836601</td>\n",
       "      <td>9.615000e-01</td>\n",
       "    </tr>\n",
       "    <tr>\n",
       "      <th>hHeight</th>\n",
       "      <td>0.923397</td>\n",
       "      <td>1.000000</td>\n",
       "      <td>0.852090</td>\n",
       "      <td>9.514000e-01</td>\n",
       "    </tr>\n",
       "    <tr>\n",
       "      <th>rBL</th>\n",
       "      <td>1.258352</td>\n",
       "      <td>1.367698</td>\n",
       "      <td>1.160350</td>\n",
       "      <td>1.949000e-07</td>\n",
       "    </tr>\n",
       "    <tr>\n",
       "      <th>hBMI</th>\n",
       "      <td>1.190401</td>\n",
       "      <td>1.256214</td>\n",
       "      <td>1.125000</td>\n",
       "      <td>2.404000e-08</td>\n",
       "    </tr>\n",
       "    <tr>\n",
       "      <th>rBL/hBMI</th>\n",
       "      <td>1.223286</td>\n",
       "      <td>1.292599</td>\n",
       "      <td>1.155385</td>\n",
       "      <td>1.904000e-11</td>\n",
       "    </tr>\n",
       "    <tr>\n",
       "      <th>hBL/Height</th>\n",
       "      <td>1.381732</td>\n",
       "      <td>1.478788</td>\n",
       "      <td>1.291005</td>\n",
       "      <td>2.394000e-21</td>\n",
       "    </tr>\n",
       "  </tbody>\n",
       "</table>\n",
       "</div>"
      ],
      "text/plain": [
       "                Mean     Upper     Lower             p\n",
       "hAR         0.798221  0.872146  0.729008  9.999000e-01\n",
       "hBP1        1.008609  1.103704  0.931105  4.543000e-01\n",
       "hBP4        0.910323  0.992248  0.836601  9.615000e-01\n",
       "hHeight     0.923397  1.000000  0.852090  9.514000e-01\n",
       "rBL         1.258352  1.367698  1.160350  1.949000e-07\n",
       "hBMI        1.190401  1.256214  1.125000  2.404000e-08\n",
       "rBL/hBMI    1.223286  1.292599  1.155385  1.904000e-11\n",
       "hBL/Height  1.381732  1.478788  1.291005  2.394000e-21"
      ]
     },
     "execution_count": 37,
     "metadata": {},
     "output_type": "execute_result"
    }
   ],
   "source": [
    "control_results"
   ]
  },
  {
   "cell_type": "code",
   "execution_count": 59,
   "metadata": {
    "ExecuteTime": {
     "end_time": "2022-05-14T17:02:10.585330Z",
     "start_time": "2022-05-14T17:02:08.896399Z"
    },
    "run_control": {
     "marked": true
    },
    "scrolled": true
   },
   "outputs": [
    {
     "data": {
      "image/png": "[encoded data removed]",
      "text/plain": [
       "<Figure size 432x288 with 1 Axes>"
      ]
     },
     "metadata": {
      "needs_background": "light"
     },
     "output_type": "display_data"
    }
   ],
   "source": [
    "#plt.figure(figsize=(3, 4))\n",
    "plot_results = control_results.loc[[\"hBMI\",\"rBL\", \"hBL/Height\", \"rBL/hBMI\", \"hHeight\", \"hAR\", \"hBP1\", \"hBP4\"]]\n",
    "plt.bar(x = [\"hBMI\",\"rBL\", \"hBL/Height\", \"rBL/hBMI\", \"hHeight\", \"hAR\", \"hBP1\", \"hBP4\"],\n",
    "       bottom= 1, height = plot_results.Mean - 1, capsize=4, edgecolor=\"black\",\n",
    "        yerr = [plot_results.Mean - plot_results.Lower, plot_results.Upper - plot_results.Mean],\n",
    "       color = [\"#f5793a\"] + [\"white\"]*3 + [\"grey\"]*4)\n",
    "\n",
    "plt.xticks(fontsize=16, rotation=90, ticks=[\"hBMI\", \"rBL\",\"hBL/Height\", \"rBL/hBMI\", \"hHeight\", \"hAR\", \"hBP1\", \"hBP4\"], \n",
    "          labels = [\"Rat/Human BMI\", \"Rat BMI/BL\", \"Rat BL/Human Height\", \"Rat BL/Human BMI\", \"Rat BMI/Human Height\",\n",
    "                   \"Rat BMI/Human AR\", \"Rat BMI/Human BP1\", \"Rat BMI/Human BP4\"])\n",
    "plt.ylabel(\"Observed/Permuted size \\nof colocalized network\", fontsize=16)\n",
    "plt.yticks(fontsize=16)\n",
    "plt.hlines(y=1, xmin=-0.6, xmax=7.6, linestyle=\"dashed\", color=\"black\")\n",
    "plt.xlim(-0.6, 7.6)\n",
    "plt.ylim(0.7, 1.6)\n",
    "plt.savefig(\"/cellar/users/snwright/Data/Transfer/rat/control_plot2_May15.png\", bbox_inches=\"tight\", dpi=400)"
   ]
  },
  {
   "cell_type": "code",
   "execution_count": 60,
   "metadata": {
    "ExecuteTime": {
     "end_time": "2022-05-14T17:02:13.175001Z",
     "start_time": "2022-05-14T17:02:11.837522Z"
    },
    "run_control": {
     "marked": true
    }
   },
   "outputs": [
    {
     "data": {
      "image/png": "[encoded data removed]",
      "text/plain": [
       "<Figure size 360x216 with 1 Axes>"
      ]
     },
     "metadata": {
      "needs_background": "light"
     },
     "output_type": "display_data"
    }
   ],
   "source": [
    "plt.figure(figsize=(5, 3))\n",
    "plot_results = control_results.loc[[\"hBMI\",\"rBL\", \"hBL/Height\", \"hAR\", \"hBP1\", \"hBP4\"]]\n",
    "plt.bar(x = [\"hBMI\",\"rBL\", \"hBL/Height\", \"hAR\", \"hBP1\", \"hBP4\"],\n",
    "       bottom= 1, height = plot_results.Mean - 1, capsize=4, edgecolor=\"black\",\n",
    "        yerr = [plot_results.Mean - plot_results.Lower, plot_results.Upper - plot_results.Mean],\n",
    "       color = [\"#f5793a\"] + [\"white\"]*2 + [\"grey\"]*3)\n",
    "\n",
    "plt.xticks(fontsize=16, rotation=90, ticks=[\"hBMI\", \"rBL\",\"hBL/Height\", \"hAR\", \"hBP1\", \"hBP4\"], \n",
    "          labels = [\"Rat/Human BMI\", \"Rat BMI/BL\", \"Rat BL/Human Height\",\n",
    "                   \"Rat BMI/Human AR\", \"Rat BMI/Human BP1\", \"Rat BMI/Human BP4\"])\n",
    "plt.yticks(fontsize=16)\n",
    "plt.hlines(y=1, xmin=-0.6, xmax=5.6, linestyle=\"dashed\", color=\"black\")\n",
    "plt.ylabel(\"Observed/Permuted size \\nof colocalized network\", fontsize=16)\n",
    "plt.xlim(-0.6, 5.6)\n",
    "plt.ylim(0.7, 1.6)\n",
    "plt.savefig(\"/cellar/users/snwright/Data/Transfer/rat/control_plot_May15.png\", bbox_inches=\"tight\", dpi=400)"
   ]
  }
 ],
 "metadata": {
  "kernelspec": {
   "display_name": "Python [conda env:netcoloc_dev]",
   "language": "python",
   "name": "conda-env-netcoloc_dev-py"
  },
  "language_info": {
   "codemirror_mode": {
    "name": "ipython",
    "version": 3
   },
   "file_extension": ".py",
   "mimetype": "text/x-python",
   "name": "python",
   "nbconvert_exporter": "python",
   "pygments_lexer": "ipython3",
   "version": "3.9.7"
  },
  "toc": {
   "base_numbering": 1,
   "nav_menu": {},
   "number_sections": true,
   "sideBar": true,
   "skip_h1_title": false,
   "title_cell": "Table of Contents",
   "title_sidebar": "Contents",
   "toc_cell": false,
   "toc_position": {},
   "toc_section_display": true,
   "toc_window_display": false
  },
  "varInspector": {
   "cols": {
    "lenName": 16,
    "lenType": 16,
    "lenVar": 40
   },
   "kernels_config": {
    "python": {
     "delete_cmd_postfix": "",
     "delete_cmd_prefix": "del ",
     "library": "var_list.py",
     "varRefreshCmd": "print(var_dic_list())"
    },
    "r": {
     "delete_cmd_postfix": ") ",
     "delete_cmd_prefix": "rm(",
     "library": "var_list.r",
     "varRefreshCmd": "cat(var_dic_list()) "
    }
   },
   "types_to_exclude": [
    "module",
    "function",
    "builtin_function_or_method",
    "instance",
    "_Feature"
   ],
   "window_display": false
  }
 },
 "nbformat": 4,
 "nbformat_minor": 2
}
