{
 "cells": [
  {
   "cell_type": "markdown",
   "metadata": {},
   "source": [
    "# Check for significance in BMI subsystems\n",
    "\n",
    "Try integrating mouse KO data (from MGI)\n",
    "\n",
    "3/23/21: switch to sampled gene sets results\n",
    "\n",
    "6/14/21: add enrichment for just seed genes\n",
    "\n",
    "6/29/21: update to be more consistent with NetColoc notebooks\n",
    "\n",
    "8/9/21: add Brittany's BMI genes"
   ]
  },
  {
   "cell_type": "code",
   "execution_count": 1,
   "metadata": {
    "ExecuteTime": {
     "end_time": "2022-01-15T01:34:03.102087Z",
     "start_time": "2022-01-15T01:33:27.486442Z"
    }
   },
   "outputs": [
    {
     "name": "stderr",
     "output_type": "stream",
     "text": [
      "DISCLAIMIER: cdapsutil is experimental and may contain errors and interfaces may change\n"
     ]
    }
   ],
   "source": [
    "# load required packages\n",
    "\n",
    "import numpy as np\n",
    "import matplotlib.pyplot as plt\n",
    "import seaborn as sns\n",
    "import networkx as nx\n",
    "import pandas as pd\n",
    "import random\n",
    "\n",
    "from IPython.display import display\n",
    "\n",
    "import getpass\n",
    "import ndex2\n",
    "\n",
    "import json\n",
    "import cdapsutil\n",
    "\n",
    "# need ddot to parse the ontology\n",
    "import ddot\n",
    "from ddot import Ontology\n",
    "\n",
    "# annotate the clusters\n",
    "# gprofiler prelim annotation\n",
    "from gprofiler import GProfiler\n",
    "gp = GProfiler(\"MyToolName/0.1\")\n",
    "\n",
    "from statsmodels.stats import contingency_tables\n",
    "\n",
    "import requests\n",
    "\n",
    "# find human orthologs of mouse genes\n",
    "import mygene\n",
    "mg = mygene.MyGeneInfo()\n",
    "\n",
    "from scipy.stats import hypergeom\n",
    "from scipy.stats import norm\n",
    "\n",
    "# latex rendering of text in graphs\n",
    "import matplotlib as mpl\n",
    "mpl.rc('text', usetex = False)\n",
    "mpl.rc('font', family = 'serif')\n",
    "\n",
    "from matplotlib import rcParams\n",
    "rcParams['font.family'] = 'sans-serif'\n",
    "rcParams['font.sans-serif'] = ['Arial']\n",
    "\n",
    "sns.set(font_scale=1.4)\n",
    "\n",
    "sns.set_style('white')\n",
    "\n",
    "sns.set_style(\"ticks\", {\"xtick.major.size\": 15, \"ytick.major.size\": 15})\n",
    "plt.rcParams['svg.fonttype'] = 'none'\n",
    "\n",
    "import sys\n",
    "\n",
    "# % matplotlib inline"
   ]
  },
  {
   "cell_type": "markdown",
   "metadata": {},
   "source": [
    "# Load interactome"
   ]
  },
  {
   "cell_type": "code",
   "execution_count": 2,
   "metadata": {
    "ExecuteTime": {
     "end_time": "2022-01-15T01:34:17.757548Z",
     "start_time": "2022-01-15T01:34:03.104064Z"
    }
   },
   "outputs": [
    {
     "name": "stdout",
     "output_type": "stream",
     "text": [
      "number of nodes:\n",
      "18820\n",
      "\n",
      "number of edges:\n",
      "2693109\n"
     ]
    }
   ],
   "source": [
    "\n",
    "interactome_uuid='4de852d9-9908-11e9-bcaf-0ac135e8bacf' # for PCNet\n",
    "# interactome_uuid='275bd84e-3d18-11e8-a935-0ac135e8bacf' # for STRING high confidence\n",
    "ndex_server='public.ndexbio.org'\n",
    "ndex_user=None\n",
    "ndex_password=None\n",
    "G_int = ndex2.create_nice_cx_from_server(\n",
    "            ndex_server, \n",
    "            username=ndex_user, \n",
    "            password=ndex_password, \n",
    "            uuid=interactome_uuid\n",
    "        ).to_networkx()\n",
    "nodes = list(G_int.nodes)\n",
    "\n",
    "# pcnet appears to have some self edges... should remove them. \n",
    "G_int.remove_edges_from(nx.selfloop_edges(G_int))\n",
    "\n",
    "# print out interactome num nodes and edges for diagnostic purposes\n",
    "print('number of nodes:')\n",
    "print(len(G_int.nodes))\n",
    "print('\\nnumber of edges:')\n",
    "print(len(G_int.edges))"
   ]
  },
  {
   "cell_type": "code",
   "execution_count": 3,
   "metadata": {
    "ExecuteTime": {
     "end_time": "2022-01-15T01:34:17.761167Z",
     "start_time": "2022-01-15T01:34:17.758956Z"
    }
   },
   "outputs": [],
   "source": [
    "nodes = list(G_int.nodes)"
   ]
  },
  {
   "cell_type": "markdown",
   "metadata": {},
   "source": [
    "# First load overlap network computed in significance_network_overlap_sampling_210519.ipynb"
   ]
  },
  {
   "cell_type": "code",
   "execution_count": 4,
   "metadata": {
    "ExecuteTime": {
     "end_time": "2022-01-15T01:34:18.596319Z",
     "start_time": "2022-01-15T01:34:17.762861Z"
    }
   },
   "outputs": [
    {
     "name": "stdout",
     "output_type": "stream",
     "text": [
      "number of nodes:\n",
      "657\n",
      "\n",
      "number of edges:\n",
      "5287\n"
     ]
    }
   ],
   "source": [
    "\n",
    "ndex_server='public.ndexbio.org'\n",
    "ndex_user=None\n",
    "ndex_password=None\n",
    "G_overlap_cx = ndex2.create_nice_cx_from_server(\n",
    "            ndex_server, \n",
    "            username=ndex_user, \n",
    "            password=ndex_password, \n",
    "            uuid='e8cc9239-d91a-11eb-b666-0ac135e8bacf'\n",
    "        )\n",
    "\n",
    "\n",
    "# print out interactome num nodes and edges for diagnostic purposes\n",
    "G_overlap = G_overlap_cx.to_networkx()\n",
    "print('number of nodes:')\n",
    "print(len(G_overlap.nodes))\n",
    "print('\\nnumber of edges:')\n",
    "print(len(G_overlap.edges))"
   ]
  },
  {
   "cell_type": "code",
   "execution_count": 5,
   "metadata": {
    "ExecuteTime": {
     "end_time": "2022-01-15T01:34:18.654103Z",
     "start_time": "2022-01-15T01:34:18.597148Z"
    }
   },
   "outputs": [
    {
     "data": {
      "text/html": [
       "<div>\n",
       "<style scoped>\n",
       "    .dataframe tbody tr th:only-of-type {\n",
       "        vertical-align: middle;\n",
       "    }\n",
       "\n",
       "    .dataframe tbody tr th {\n",
       "        vertical-align: top;\n",
       "    }\n",
       "\n",
       "    .dataframe thead th {\n",
       "        text-align: right;\n",
       "    }\n",
       "</style>\n",
       "<table border=\"1\" class=\"dataframe\">\n",
       "  <thead>\n",
       "    <tr style=\"text-align: right;\">\n",
       "      <th></th>\n",
       "      <th>z_hBMI</th>\n",
       "      <th>hBMI_seeds</th>\n",
       "      <th>rBMI_seeds</th>\n",
       "      <th>z_both</th>\n",
       "      <th>z_rBMI</th>\n",
       "    </tr>\n",
       "  </thead>\n",
       "  <tbody>\n",
       "    <tr>\n",
       "      <th>EMILIN2</th>\n",
       "      <td>3.2993274507173282</td>\n",
       "      <td>0</td>\n",
       "      <td>0</td>\n",
       "      <td>4.319544181058447</td>\n",
       "      <td>1.3092196047771212</td>\n",
       "    </tr>\n",
       "    <tr>\n",
       "      <th>BACE2</th>\n",
       "      <td>2.8994208805031514</td>\n",
       "      <td>1</td>\n",
       "      <td>0</td>\n",
       "      <td>5.1352520072145325</td>\n",
       "      <td>1.7711302425066986</td>\n",
       "    </tr>\n",
       "    <tr>\n",
       "      <th>ABCF3</th>\n",
       "      <td>1.3422866127228419</td>\n",
       "      <td>0</td>\n",
       "      <td>0</td>\n",
       "      <td>3.1658845767318398</td>\n",
       "      <td>2.358575692198711</td>\n",
       "    </tr>\n",
       "    <tr>\n",
       "      <th>EIF2AK4</th>\n",
       "      <td>6.620334089952722</td>\n",
       "      <td>0</td>\n",
       "      <td>1</td>\n",
       "      <td>61.32723979498262</td>\n",
       "      <td>9.263466006655953</td>\n",
       "    </tr>\n",
       "    <tr>\n",
       "      <th>HSP90AB1</th>\n",
       "      <td>2.4374615254638914</td>\n",
       "      <td>0</td>\n",
       "      <td>1</td>\n",
       "      <td>25.352273034423177</td>\n",
       "      <td>10.401096702274387</td>\n",
       "    </tr>\n",
       "  </tbody>\n",
       "</table>\n",
       "</div>"
      ],
      "text/plain": [
       "                      z_hBMI hBMI_seeds rBMI_seeds              z_both  \\\n",
       "EMILIN2   3.2993274507173282          0          0   4.319544181058447   \n",
       "BACE2     2.8994208805031514          1          0  5.1352520072145325   \n",
       "ABCF3     1.3422866127228419          0          0  3.1658845767318398   \n",
       "EIF2AK4    6.620334089952722          0          1   61.32723979498262   \n",
       "HSP90AB1  2.4374615254638914          0          1  25.352273034423177   \n",
       "\n",
       "                      z_rBMI  \n",
       "EMILIN2   1.3092196047771212  \n",
       "BACE2     1.7711302425066986  \n",
       "ABCF3      2.358575692198711  \n",
       "EIF2AK4    9.263466006655953  \n",
       "HSP90AB1  10.401096702274387  "
      ]
     },
     "execution_count": 5,
     "metadata": {},
     "output_type": "execute_result"
    }
   ],
   "source": [
    "node_df = pd.DataFrame.from_dict(dict(G_overlap.nodes(data=True)), orient='index')\n",
    "node_df.head()"
   ]
  },
  {
   "cell_type": "code",
   "execution_count": 6,
   "metadata": {
    "ExecuteTime": {
     "end_time": "2022-01-15T01:34:18.737504Z",
     "start_time": "2022-01-15T01:34:18.654838Z"
    }
   },
   "outputs": [],
   "source": [
    "# compute cosine similarity transformation\n",
    "from netcoloc import network_colocalization"
   ]
  },
  {
   "cell_type": "code",
   "execution_count": 7,
   "metadata": {
    "ExecuteTime": {
     "end_time": "2022-01-15T01:34:18.787584Z",
     "start_time": "2022-01-15T01:34:18.738276Z"
    }
   },
   "outputs": [],
   "source": [
    "network_colocalization.transform_edges?"
   ]
  },
  {
   "cell_type": "code",
   "execution_count": 8,
   "metadata": {
    "ExecuteTime": {
     "end_time": "2022-01-15T01:35:02.330064Z",
     "start_time": "2022-01-15T01:34:18.788369Z"
    }
   },
   "outputs": [
    {
     "name": "stdout",
     "output_type": "stream",
     "text": [
      "computing the adjacency matrix...\n",
      "computing the cosine similarity...\n"
     ]
    },
    {
     "name": "stderr",
     "output_type": "stream",
     "text": [
      "/cellar/users/snwright/anaconda3/envs/netcoloc/lib/python3.9/site-packages/scipy/spatial/distance.py:699: RuntimeWarning: invalid value encountered in double_scalars\n",
      "  dist = 1.0 - uv / np.sqrt(uu * vv)\n"
     ]
    },
    {
     "name": "stdout",
     "output_type": "stream",
     "text": [
      "rank transforming...\n",
      "number of transformed edges returned = \n",
      "71\n",
      "657\n",
      "71\n"
     ]
    },
    {
     "name": "stderr",
     "output_type": "stream",
     "text": [
      "/cellar/users/snwright/anaconda3/envs/netcoloc/lib/python3.9/site-packages/netcoloc/network_colocalization.py:266: FutureWarning: Using a non-tuple sequence for multidimensional indexing is deprecated; use `arr[tuple(seq)]` instead of `arr[seq]`. In the future this will be interpreted as an array index, `arr[np.array(seq)]`, which will result either in an error or a different result.\n",
      "  sim_rank.values[[np.arange(sim_rank.shape[0])]*2] = 0\n"
     ]
    }
   ],
   "source": [
    "G_overlap_cosSim = network_colocalization.transform_edges(G_overlap,edge_weight_threshold=0.98)\n",
    "print(len(G_overlap_cosSim.nodes()))\n",
    "print(len(G_overlap_cosSim.edges()))"
   ]
  },
  {
   "cell_type": "code",
   "execution_count": 9,
   "metadata": {
    "ExecuteTime": {
     "end_time": "2022-01-15T01:35:02.335160Z",
     "start_time": "2022-01-15T01:35:02.332990Z"
    }
   },
   "outputs": [
    {
     "name": "stdout",
     "output_type": "stream",
     "text": [
      "657\n",
      "71\n"
     ]
    }
   ],
   "source": [
    "print(len(G_overlap_cosSim.nodes()))\n",
    "print(len(G_overlap_cosSim.edges()))"
   ]
  },
  {
   "cell_type": "code",
   "execution_count": null,
   "metadata": {
    "ExecuteTime": {
     "start_time": "2022-01-15T01:33:27.578Z"
    }
   },
   "outputs": [
    {
     "name": "stdout",
     "output_type": "stream",
     "text": [
      "657\n",
      "71\n"
     ]
    }
   ],
   "source": [
    "#upload G_cosSim to ndex\n",
    "print(len(G_overlap_cosSim.nodes()))\n",
    "print(len(G_overlap_cosSim.edges()))\n",
    "G_overlap_cosSim_cx = ndex2.create_nice_cx_from_networkx(G_overlap_cosSim)\n",
    "G_overlap_cosSim_cx.set_name('rat_human_BMI_CosSim98') \n",
    "for node_id, node in G_overlap_cosSim_cx.get_nodes():\n",
    "    data = node_df.loc[node['n']]\n",
    "    for row, value in data.items():\n",
    "        if row == 'd1_seeds' or row == 'd2_seeds' or row=='sum_seeds':\n",
    "            data_type = 'double'\n",
    "        elif row=='d1_name' or row=='d2_name':\n",
    "            data_type='string'\n",
    "        else:\n",
    "            data_type = 'double'\n",
    "        G_overlap_cosSim_cx.set_node_attribute(node_id, row, value, type=data_type)\n",
    "        \n",
    "        \n",
    "\n",
    "# apply a template style (834b6ad4-d2ea-11eb-b666-0ac135e8bacf)\n",
    "G_overlap_cosSim_cx.apply_template('ndexbio.org','2cbed84b-e5c3-11eb-b666-0ac135e8bacf')\n",
    "\n",
    "SERVER = input('NDEx server (probably ndexbio.org): ')\n",
    "USERNAME = input('NDEx user name: ')\n",
    "PASSWORD = getpass.getpass('NDEx password: ')\n",
    "network_uuid_NetColoc_CosSim = G_overlap_cosSim_cx.upload_to(SERVER, USERNAME, PASSWORD)"
   ]
  },
  {
   "cell_type": "markdown",
   "metadata": {},
   "source": [
    "# Build multiscale systems map\n",
    "\n"
   ]
  },
  {
   "cell_type": "code",
   "execution_count": null,
   "metadata": {},
   "outputs": [],
   "source": []
  },
  {
   "cell_type": "code",
   "execution_count": null,
   "metadata": {},
   "outputs": [],
   "source": []
  },
  {
   "cell_type": "code",
   "execution_count": null,
   "metadata": {},
   "outputs": [],
   "source": []
  },
  {
   "cell_type": "code",
   "execution_count": null,
   "metadata": {
    "ExecuteTime": {
     "start_time": "2022-01-15T01:33:27.825Z"
    }
   },
   "outputs": [],
   "source": [
    "cd = cdapsutil.CommunityDetection()\n",
    "\n",
    "# Run HiDeF on CDAPS REST service\n",
    "G_hier = cd.run_community_detection(G_overlap_cx, algorithm='hidefv1.1beta',arguments={'--maxres':'10'})"
   ]
  },
  {
   "cell_type": "code",
   "execution_count": null,
   "metadata": {
    "ExecuteTime": {
     "start_time": "2022-01-15T01:33:27.831Z"
    }
   },
   "outputs": [],
   "source": [
    "# Print information about hierarchy\n",
    "print('Hierarchy name: ' + str(G_hier.get_name()))\n",
    "print('# nodes: ' + str(len(G_hier.get_nodes())))\n",
    "print('# edges: ' + str(len(G_hier.get_edges())))"
   ]
  },
  {
   "cell_type": "code",
   "execution_count": null,
   "metadata": {
    "ExecuteTime": {
     "start_time": "2022-01-15T01:33:27.840Z"
    }
   },
   "outputs": [],
   "source": [
    "G_hier = G_hier.to_networkx(mode='default')\n",
    "G_hier\n",
    "\n",
    "nodes = G_hier.nodes()\n",
    "\n",
    "# print out interactome num nodes and edges for diagnostic purposes\n",
    "print('number of nodes:')\n",
    "print(len(G_hier.nodes()))\n",
    "print('\\nnumber of edges:')\n",
    "print(len(G_hier.edges()))"
   ]
  },
  {
   "cell_type": "code",
   "execution_count": null,
   "metadata": {
    "ExecuteTime": {
     "start_time": "2022-01-15T01:33:27.847Z"
    }
   },
   "outputs": [],
   "source": [
    "# add node attributes to dataframe for easier access\n",
    "hier_df = pd.DataFrame.from_dict(dict(G_hier.nodes(data=True)), orient='index')\n",
    "# relabel nodes in G_ASD\n",
    "# G_ASD=nx.relabel_nodes(G_ASD,dict(hier_df['CD_CommunityName']))\n",
    "hier_df['system_ID']=hier_df.index.tolist()\n",
    "# some columns are not the right type\n",
    "hier_df['CD_MemberList_Size']=[int(x) for x in hier_df['CD_MemberList_Size'].tolist()]\n",
    "hier_df['HiDeF_persistence']=[int(x) for x in hier_df['HiDeF_persistence'].tolist()]\n",
    "hier_df.head()"
   ]
  },
  {
   "cell_type": "markdown",
   "metadata": {},
   "source": [
    "# add fraction rat/human seeds"
   ]
  },
  {
   "cell_type": "code",
   "execution_count": null,
   "metadata": {
    "ExecuteTime": {
     "start_time": "2022-01-15T01:33:27.999Z"
    }
   },
   "outputs": [],
   "source": [
    "hier_df.index=hier_df['name']\n",
    "hier_df.head()\n",
    "\n",
    "H_seeds_overlap = node_df[node_df['hBMI_seeds']=='1'].index.tolist()\n",
    "print(len(H_seeds_overlap))\n",
    "\n",
    "R_seeds_overlap = node_df[node_df['rBMI_seeds']=='1'].index.tolist()\n",
    "print(len(R_seeds_overlap))\n",
    "\n",
    "num_d1_seeds, num_d2_seeds = [],[]\n",
    "frac_d1_seeds, frac_d2_seeds=[],[]\n",
    "systems_keep = []\n",
    "for c in hier_df.index.tolist():\n",
    "    system_genes = hier_df['CD_MemberList'].loc[c].split(' ')\n",
    "    num_H_temp = len(list(np.intersect1d(system_genes,H_seeds_overlap)))\n",
    "    num_R_temp = len(list(np.intersect1d(system_genes,R_seeds_overlap)))\n",
    "    if (num_H_temp+num_H_temp)>0: # keep the system if it has at least 1 seed genes\n",
    "        systems_keep.append(c)\n",
    "        num_d1_seeds.append(num_H_temp)\n",
    "        num_d2_seeds.append(num_R_temp)\n",
    "        \n",
    "        frac_d1_seeds.append(num_H_temp/np.float(len(system_genes)))\n",
    "        frac_d2_seeds.append(num_R_temp/np.float(len(system_genes)))\n",
    "\n",
    "        \n",
    "frac_no_seeds = np.subtract(1.0,np.add(frac_d1_seeds,frac_d2_seeds))\n",
    "\n",
    "hier_df = hier_df.loc[systems_keep]\n",
    "hier_df['num_d1_seeds']=num_d1_seeds\n",
    "hier_df['num_d2_seeds']=num_d2_seeds\n",
    "hier_df['frac_d1_seeds']=frac_d1_seeds\n",
    "hier_df['frac_d2_seeds']=frac_d2_seeds\n",
    "hier_df['frac_no_seeds']=frac_no_seeds\n",
    "print(len(hier_df))\n",
    "\n",
    "hier_df.head()\n",
    "    "
   ]
  },
  {
   "cell_type": "code",
   "execution_count": null,
   "metadata": {
    "ExecuteTime": {
     "start_time": "2022-01-15T01:33:28.003Z"
    }
   },
   "outputs": [],
   "source": [
    "# prune G_hier--> only keep systems with at least one seed gene\n",
    "\n",
    "nkeep=[]\n",
    "for n in list(G_hier.nodes()):\n",
    "    if G_hier.nodes(data=True)[n]['name'] in systems_keep:\n",
    "        nkeep.append(n)\n",
    "        \n",
    "\n",
    "G_hier = nx.subgraph(G_hier, nkeep)\n",
    "print(len(G_hier.nodes()))\n",
    "print(len(G_hier.edges()))"
   ]
  },
  {
   "cell_type": "code",
   "execution_count": null,
   "metadata": {},
   "outputs": [],
   "source": []
  },
  {
   "cell_type": "markdown",
   "metadata": {},
   "source": [
    "# System validation with mammalian phenotype ontology + mouse KO data"
   ]
  },
  {
   "cell_type": "code",
   "execution_count": null,
   "metadata": {
    "ExecuteTime": {
     "start_time": "2022-01-15T01:33:28.160Z"
    }
   },
   "outputs": [],
   "source": [
    "# download MGI phenotype data\n",
    "url = 'http://www.informatics.jax.org/downloads/reports/MGI_PhenoGenoMP.rpt'\n",
    "r = requests.get(url,allow_redirects=True)\n",
    "open('MGI_PhenoGenoMP.rpt','wb').write(r.content)\n",
    "\n",
    "# parse the downloaded MGI phenotype data\n",
    "mgi_df = pd.read_csv('MGI_PhenoGenoMP.rpt',sep='\\t',\n",
    "                    names=['MGI_Allele_Accession_ID','Allele symbol','involves','MP','PMID','MGI_marker_accession_ID'])\n",
    "# extract gene names\n",
    "gene_name = [a.split('<')[0] for a in mgi_df['Allele symbol'].tolist()]\n",
    "mgi_df['gene_name']=gene_name\n",
    "mgi_df.index=mgi_df['gene_name']\n",
    "display(mgi_df.head())\n",
    "\n",
    "# map mouse genes to human orthologs\n",
    "mouse_genes = list(np.unique(mgi_df['gene_name']))\n",
    "# mouse_genes = [g for g in mouse_genes if (not g.startswith('+'))]\n",
    "mg_mapped = mg.querymany(mouse_genes,as_dataframe=True,species=['mouse','human'],scopes='symbol',fields='symbol')\n",
    "\n",
    "# drop genes with no human ortholog\n",
    "print(len(mg_mapped))\n",
    "mg_mapped = mg_mapped.dropna(subset=['symbol'])\n",
    "print(len(mg_mapped))\n",
    "# drop duplicates\n",
    "mg_mapped = mg_mapped[~mg_mapped.index.duplicated(keep='first')]\n",
    "print(len(mg_mapped))\n",
    "mg_mapped.head()\n",
    "\n",
    "mgi_df['human_ortholog']=mgi_df['gene_name'].map(dict(mg_mapped['symbol']))\n",
    "mgi_df.head()"
   ]
  },
  {
   "cell_type": "code",
   "execution_count": null,
   "metadata": {
    "ExecuteTime": {
     "start_time": "2022-01-15T01:33:28.165Z"
    }
   },
   "outputs": [],
   "source": [
    "# download the mammalian phenotype ontology, parse with ddot\n",
    "url = 'http://www.informatics.jax.org/downloads/reports/MPheno_OBO.ontology'\n",
    "r = requests.get(url,allow_redirects=True)\n",
    "open('MPheno_OBO.ontology','wb').write(r.content)\n",
    "ddot.parse_obo('MPheno_OBO.ontology',\n",
    "               'parsed_mp.txt',\n",
    "              'id2name_mp.txt',\n",
    "              'id2namespace_mp.txt',\n",
    "              'altID_mp.txt')\n",
    "\n",
    "\n",
    "MP2desc = pd.read_csv('id2name_mp.txt',sep='\\t',\n",
    "                      names=['MP','description'],index_col='MP')\n",
    "\n",
    "MP2desc=MP2desc.loc[MP2desc.index.dropna()] # drop NAN from index\n",
    "print(len(MP2desc))\n",
    "\n",
    "\n",
    "display(MP2desc.head())\n",
    "\n",
    "hierarchy = pd.read_table('parsed_mp.txt',\n",
    "                          sep='\\t',\n",
    "                          header=None,\n",
    "                          names=['Parent', 'Child', 'Relation', 'Namespace'])\n",
    "\n",
    "display(hierarchy.head())\n",
    "\n",
    "MPO = Ontology.from_table(\n",
    "    table=hierarchy,\n",
    "    parent='Parent',\n",
    "    child='Child',\n",
    "    add_root_name='MP:00SUPER',\n",
    "    ignore_orphan_terms=True)\n",
    "#MPO.clear_node_attr()\n",
    "#MPO.clear_edge_attr()\n",
    "\n",
    "# add description to node attribute\n",
    "terms_keep = list(np.unique(hierarchy['Parent'].tolist()+hierarchy['Child'].tolist()))\n",
    "MPO.node_attr=MP2desc.loc[terms_keep]\n",
    "\n",
    "MPO"
   ]
  },
  {
   "cell_type": "code",
   "execution_count": null,
   "metadata": {
    "ExecuteTime": {
     "start_time": "2022-01-15T01:33:28.170Z"
    }
   },
   "outputs": [],
   "source": [
    "MP_focal_list = ['MP:0002089','MP:0002069','MP:0003633','MP:0001186']"
   ]
  },
  {
   "cell_type": "code",
   "execution_count": null,
   "metadata": {
    "ExecuteTime": {
     "start_time": "2022-01-15T01:33:28.178Z"
    }
   },
   "outputs": [],
   "source": [
    "from netcoloc import validation\n",
    "\n",
    "validation.MPO_enrichment_root(hier_df,MPO,mgi_df,MP_focal_list,G_int,verbose=True)"
   ]
  },
  {
   "cell_type": "code",
   "execution_count": null,
   "metadata": {
    "ExecuteTime": {
     "start_time": "2022-01-15T01:33:28.185Z"
    }
   },
   "outputs": [],
   "source": [
    "full_results = validation.MPO_enrichment_full(hier_df,MPO,mgi_df,MP_focal_list,G_int)"
   ]
  },
  {
   "cell_type": "code",
   "execution_count": null,
   "metadata": {
    "ExecuteTime": {
     "start_time": "2022-01-15T01:33:28.202Z"
    }
   },
   "outputs": [],
   "source": [
    "full_results.head()"
   ]
  },
  {
   "cell_type": "code",
   "execution_count": null,
   "metadata": {
    "ExecuteTime": {
     "start_time": "2022-01-15T01:33:28.210Z"
    }
   },
   "outputs": [],
   "source": [
    "# test for enrichment in root node\n",
    "OR_p_list,OR_CI_list,log_OR_list = [],[],[]\n",
    "num_genes_in_term_list=[]\n",
    "\n",
    "MP_keep_list = []\n",
    "\n",
    "# root node is the largest node\n",
    "hier_df.index=hier_df['name']\n",
    "root_node = hier_df['CD_MemberList_Size'].sort_values(ascending=False).head(1).index.tolist()[0]\n",
    "\n",
    "# get list of node names from G_int\n",
    "G_int_nodes = list(G_int.nodes())\n",
    "\n",
    "# add a negative control phenotype: abnormal mature B cell morphology: MP:0008171\n",
    "# negative controls are tough here because we're dealing with development... which impacts almost everything\n",
    "for MP_focal in MP_focal_list:\n",
    "    MP_desc_focal = dict(MP2desc['description'])[MP_focal]\n",
    "\n",
    "    # focus the hierarchy on one branch, and look up all terms within that branch\n",
    "    if len(MPO.parent_2_child[MP_focal])>0:\n",
    "        MPO_focal = MPO.focus(MP_focal,verbose=False)\n",
    "        focal_terms = MPO_focal.terms\n",
    "    else: # if the term has no children, just look at that term\n",
    "        focal_terms=[MP_focal]\n",
    "\n",
    "\n",
    "    # check enrichment in root node\n",
    "    focal_genes = hier_df['CD_MemberList'].loc[root_node].split(' ')\n",
    "    mgi_temp = mgi_df[mgi_df['MP'].isin(focal_terms)]\n",
    "    mgi_temp = mgi_temp.dropna(subset=['human_ortholog'])\n",
    "    mgi_genes = list(np.unique(mgi_temp['human_ortholog']))\n",
    "    mgi_genes = list(np.intersect1d(mgi_genes,G_int_nodes)) \n",
    "    \n",
    "    if (len(mgi_genes)>10) and (len(mgi_genes)<20000): # only test if there are at least 10 genes, and fewer than 2000 genes\n",
    "        print('\\n'+MP_desc_focal)\n",
    "        print('number of genes in root node = '+str(len(focal_genes)))\n",
    "        print('number of genes in focal MPO term = '+str(len(mgi_genes)))\n",
    "\n",
    "        q00 = len(np.intersect1d(mgi_genes,focal_genes))\n",
    "        print('number overlapping genes = '+str(q00))\n",
    "        q01 = len(mgi_genes)-q00\n",
    "        q10 = len(focal_genes)-q00\n",
    "        q11 = len(G_int_nodes)-q00-q01-q10\n",
    "        table_temp = [[q00,q01],[q10,q11]]\n",
    "\n",
    "        CT= contingency_tables.Table2x2(table_temp)\n",
    "        OR_p_temp = CT.log_oddsratio_pvalue()\n",
    "        OR_CI_temp = CT.log_oddsratio_confint()\n",
    "        log_OR_temp = CT.log_oddsratio\n",
    "        print(OR_p_temp)\n",
    "        print(OR_CI_temp)\n",
    "        print(log_OR_temp)\n",
    "\n",
    "        OR_p_list.append(OR_p_temp)\n",
    "        OR_CI_list.append(OR_CI_temp)\n",
    "        log_OR_list.append(log_OR_temp)\n",
    "        num_genes_in_term_list.append(len(mgi_genes))\n",
    "        \n",
    "        MP_keep_list.append(MP_focal)\n",
    "\n",
    "    \n",
    "OR_CI_lower, OR_CI_upper = zip(*OR_CI_list)\n",
    "\n",
    "root_KO_df = pd.DataFrame({'OR_p':OR_p_list,'log_OR':log_OR_list,\n",
    "                           'log_OR_CI_lower':OR_CI_lower,'log_OR_CI_upper':OR_CI_upper,\n",
    "                          'num_genes_in_term':num_genes_in_term_list},\n",
    "                          index=MP_keep_list)"
   ]
  },
  {
   "cell_type": "markdown",
   "metadata": {},
   "source": [
    "# Test enrichment for all systems"
   ]
  },
  {
   "cell_type": "code",
   "execution_count": null,
   "metadata": {
    "ExecuteTime": {
     "start_time": "2022-01-15T01:33:28.359Z"
    }
   },
   "outputs": [],
   "source": [
    "MP_focal_top = root_KO_df.head(10).index.tolist() # record the top 10 overall\n",
    "\n",
    "MP_full_results_df=pd.DataFrame(index=hier_df.index.tolist())\n",
    "\n",
    "for MP_focal in MP_focal_top:\n",
    "    MP_desc_focal = dict(MP2desc['description'])[MP_focal]\n",
    "    print(MP_desc_focal)\n",
    "\n",
    "    # focus the hierarchy on one branch, and look up all terms within that branch\n",
    "    if len(MPO.parent_2_child[MP_focal])>0:\n",
    "        MPO_focal = MPO.focus(MP_focal)\n",
    "        focal_terms = MPO_focal.terms\n",
    "    else: # if the term has no children, just look at that term\n",
    "        focal_terms=MP_focal\n",
    "\n",
    "\n",
    "    hyper_p_list = []\n",
    "    num_genes_list = []\n",
    "    genes_id_list = []\n",
    "\n",
    "    OR_p_list,OR_CI_list,log_OR_list=[],[],[]\n",
    "    for focal_cluster in hier_df.index.tolist():\n",
    "        #print(focal_cluster)\n",
    "        mFocal_genes = hier_df['CD_MemberList'].loc[focal_cluster].split(' ')\n",
    "\n",
    "\n",
    "        from scipy.stats import hypergeom\n",
    "        M=len(list(G_int.nodes())) # only keep genes in PCnet\n",
    "        # Look up all entries matching focal_terms, and mFocal_genes\n",
    "        mgi_temp = mgi_df[mgi_df['MP'].isin(focal_terms)]\n",
    "        mgi_temp = mgi_temp.dropna(subset=['human_ortholog'])\n",
    "        mgi_genes = list(np.unique(mgi_temp['human_ortholog']))\n",
    "        new_index=[g.upper() for g in mgi_temp.index.tolist()] \n",
    "        mgi_temp.index=new_index\n",
    "\n",
    "        N=len(np.intersect1d(list(np.unique(mgi_temp.index.tolist())),list(G_int.nodes()))) # only keep genes in PCnet\n",
    "\n",
    "        if len(np.intersect1d(mFocal_genes,mgi_temp.index.tolist()))>0:\n",
    "            mgi_genes = mgi_temp.index.tolist()\n",
    "            mgi_genes = list(np.intersect1d(mgi_genes,list(G_int.nodes())))\n",
    "            x = len(np.intersect1d(mFocal_genes,mgi_genes))\n",
    "            #print(x)\n",
    "            n=len(mFocal_genes)\n",
    "\n",
    "            #mgi_temp['MP_description']=mgi_temp['MP'].map(dict(MP2desc['description']))\n",
    "\n",
    "\n",
    "\n",
    "            #print(hypergeom.sf(x,M,n,N))\n",
    "            hyper_p_list.append(hypergeom.sf(x,M,n,N))\n",
    "            num_genes_list.append(x)\n",
    "            genes_id_list.append(' '.join(list(np.intersect1d(mFocal_genes,mgi_genes))))\n",
    "\n",
    "            q00 = len(np.intersect1d(mgi_genes,mFocal_genes))\n",
    "            q01 = len(mgi_genes)-q00\n",
    "\n",
    "            q10 = len(mFocal_genes)-q00\n",
    "            q11 = len(list(G_int.nodes()))-q00-q01-q10\n",
    "\n",
    "            table_temp = [[q00,q01],[q10,q11]]\n",
    "\n",
    "            CT= contingency_tables.Table2x2(table_temp)\n",
    "            OR_p_temp = CT.log_oddsratio_pvalue()\n",
    "            OR_CI_temp = CT.log_oddsratio_confint()\n",
    "            log_OR_temp = CT.log_oddsratio\n",
    "            #print(OR_p_temp)\n",
    "\n",
    "\n",
    "            OR_p_list.append(OR_p_temp)\n",
    "            OR_CI_list.append(OR_CI_temp)\n",
    "            log_OR_list.append(log_OR_temp)\n",
    "\n",
    "\n",
    "        else:\n",
    "            hyper_p_list.append(1)\n",
    "            num_genes_list.append(0)\n",
    "            genes_id_list.append('')\n",
    "\n",
    "            OR_p_list.append(1)\n",
    "            OR_CI_list.append(0)\n",
    "            log_OR_list.append(0)\n",
    "\n",
    "\n",
    "\n",
    "    MP_focal_df = pd.DataFrame({MP_desc_focal+':-log(OR_p)':-np.log10(OR_p_list),\n",
    "                                MP_desc_focal+':log_OR':log_OR_list,\n",
    "                                MP_desc_focal+':num_genes':num_genes_list,\n",
    "                                MP_desc_focal+':gene_ids':genes_id_list},index=hier_df.index.tolist())\n",
    "\n",
    "    if MP_desc_focal+':-log(OR_p)' not in MP_full_results_df.columns.tolist():\n",
    "        MP_full_results_df=MP_full_results_df.join(MP_focal_df)\n"
   ]
  },
  {
   "cell_type": "markdown",
   "metadata": {},
   "source": [
    "# gprofiler annotation of clusters"
   ]
  },
  {
   "cell_type": "code",
   "execution_count": null,
   "metadata": {},
   "outputs": [],
   "source": [
    "\n",
    "# print out GO pathways\n",
    "\n",
    "# hier_df = hier_df.sort_values('name')\n",
    "\n",
    "# ....this needs to be much more elegant...\n",
    "\n",
    "system_name_list = []\n",
    "for p in hier_df.index.tolist():\n",
    "    focal_genes=hier_df['CD_MemberList'].loc[p].split(' ')\n",
    "    print(p)\n",
    "    print(len(focal_genes))\n",
    "    if len(focal_genes)>2:\n",
    "        gp_temp = pd.DataFrame(gp.profile(focal_genes,significance_threshold_method='fdr',\n",
    "                                               sources=['GO:BP'],no_evidences=False))\n",
    "        if len(gp_temp)>0: # make sure data is not empty\n",
    "            \n",
    "            # make sure terms are specific, and overlap with at least 3 genes\n",
    "            gp_temp = gp_temp[(gp_temp['term_size']<1000)]\n",
    "            gp_temp = gp_temp[gp_temp['intersection_size']>=3]\n",
    "            \n",
    "            gp_temp = gp_temp[gp_temp['p_value']<1E-3] # set a stringent pvalue threshold\n",
    "            \n",
    "            # try sorting by precision + recall\n",
    "            #gp_temp['prec_plus_recall']=gp_temp['precision']+gp_temp['recall']\n",
    "            gp_temp = gp_temp.sort_values('p_value',ascending=True)\n",
    "            \n",
    "            gp_temp.index=gp_temp['name']\n",
    "            for t in gp_temp.index.tolist():\n",
    "                if t.lower().find('dopamin')>-1:\n",
    "                    print(gp_temp.loc[t][['p_value','intersections']])\n",
    "                    \n",
    "            gp_cols_keep = ['description','name','p_value','precision','recall',\n",
    "                            'query_size','effective_domain_size','intersection_size','native','source',\n",
    "                           'term_size','intersections']\n",
    "\n",
    "            \n",
    "            if len(gp_temp)>1:\n",
    "                system_name_list.append(gp_temp.head(1)['name'].tolist()[0])\n",
    "                gp_temp[gp_cols_keep].to_csv('../tables/rat_human_BMI_hierarchy_GO/'+str(p)+'.csv',sep=',',\n",
    "                          index=False)\n",
    "            else:\n",
    "                system_name_list.append(p)\n",
    "        else:\n",
    "            system_name_list.append(p)\n",
    "            \n",
    "\n",
    "        display(gp_temp.head())\n",
    "        \n",
    "    else:\n",
    "        system_name_list.append(p)"
   ]
  },
  {
   "cell_type": "markdown",
   "metadata": {},
   "source": [
    "# Load annotated hierarchy to ndex"
   ]
  },
  {
   "cell_type": "code",
   "execution_count": null,
   "metadata": {},
   "outputs": [],
   "source": [
    "d1='rat'\n",
    "d2='human'\n",
    "# add the best gprofiler annotation\n",
    "MP_full_results_df['gprofiler_name']=pd.Series(system_name_list,index=hier_df.index.tolist())\n",
    "# don't annotate the root node\n",
    "MP_full_results_df['gprofiler_name'].loc[root_node]=d1+'-'+d2+'BMI systems map'\n",
    "\n",
    "# also add the frac_seeds/num_seeds data here\n",
    "MP_full_results_df=MP_full_results_df.join(hier_df[['num_d1_seeds','num_d2_seeds','frac_d1_seeds','frac_d2_seeds','frac_no_seeds']],\n",
    "                                          how='left')\n",
    "\n",
    "MP_full_results_df.head()"
   ]
  },
  {
   "cell_type": "code",
   "execution_count": null,
   "metadata": {},
   "outputs": [],
   "source": [
    "# Convert G_hier to nice cx network\n",
    "node_id_to_node_name = nx.get_node_attributes(G_hier, 'name')\n",
    "for node_id in list(G_hier.nodes):\n",
    "    del G_hier.nodes[node_id]['name']\n",
    "\n",
    "G_hier_cx = ndex2.create_nice_cx_from_networkx(G_hier)\n",
    "\n",
    "for node_id, node in G_hier_cx.get_nodes():\n",
    "    node['n'] = node_id_to_node_name[node_id]"
   ]
  },
  {
   "cell_type": "code",
   "execution_count": null,
   "metadata": {},
   "outputs": [],
   "source": [
    "G_hier_cx.set_name('rat_human_BMI_systems_map') \n",
    "for node_id, node in G_hier_cx.get_nodes():\n",
    "    data = MP_full_results_df.loc[node['r']]\n",
    "    #print(data)\n",
    "    for row, value in data.items():\n",
    "        if (row.find('gene_ids')>-1) or (row=='gprofiler_name'):\n",
    "            data_type = \"string\"\n",
    "            value=str(value)\n",
    "        else:\n",
    "            data_type = \"double\"\n",
    "            value = str(value) # nice cx can only accept strings as values...\n",
    "            if value=='inf': # check if inf, set to -1 if so\n",
    "                value='-1'\n",
    "            \n",
    "        #print(value)\n",
    "        #print(type(value))\n",
    "        G_hier_cx.set_node_attribute(node_id, row, value, type=data_type)\n",
    "        \n",
    "# some CDAPs properties were corrupted on networkx conversion. Fix them here\n",
    "for node_id, node in G_hier_cx.get_nodes():\n",
    "    for i in np.arange(len(G_hier_cx.nodeAttributes[node_id])):\n",
    "        dict_temp = G_hier_cx.nodeAttributes[node_id][i]\n",
    "        if dict_temp['n'] in ['CD_MemberList_Size','CD_MemberList_LogSize','HiDeF_persistence']:\n",
    "            G_hier_cx.set_node_attribute(node_id, dict_temp['n'], dict_temp['v'], type='double',overwrite=True)\n",
    "            \n",
    "# apply a template style (36041bac-d2e3-11eb-b666-0ac135e8bacf)\n",
    "G_hier_cx.apply_template('ndexbio.org','36041bac-d2e3-11eb-b666-0ac135e8bacf')"
   ]
  },
  {
   "cell_type": "code",
   "execution_count": null,
   "metadata": {},
   "outputs": [],
   "source": [
    "#Upload to NDEx\n",
    "\n",
    "SERVER = input('NDEx server (probably ndexbio.org): ')\n",
    "USERNAME = input('NDEx user name: ')\n",
    "PASSWORD = getpass.getpass('NDEx password: ')\n",
    "network_uuid = G_hier_cx.upload_to(SERVER, USERNAME, PASSWORD)"
   ]
  },
  {
   "cell_type": "code",
   "execution_count": null,
   "metadata": {},
   "outputs": [],
   "source": []
  },
  {
   "cell_type": "code",
   "execution_count": null,
   "metadata": {},
   "outputs": [],
   "source": []
  },
  {
   "cell_type": "markdown",
   "metadata": {},
   "source": [
    "# Make the enrichment figure (redundant with above... integrate later)"
   ]
  },
  {
   "cell_type": "code",
   "execution_count": null,
   "metadata": {},
   "outputs": [],
   "source": [
    "# set some parameters\n",
    "ratThresh='relaxed' # relaxed or stringent\n",
    "\n",
    "num_reps=1000\n",
    "\n",
    "# set type of gene mapper\n",
    "mapper = 'PASCAL' # can be PASCAL or PREDIXCAN\n",
    "\n",
    "adj_type = 'bonf' # can be bonf or BH\n",
    "# bonf_p = .05/len(BMI_GIANT_pascal) #0.25/len(BMI_GIANT_pascal)\n",
    "# print(bonf_p)\n",
    "\n",
    "excl_rat_seeds = False # if true, exclude rat seed genes from relevant phenotype"
   ]
  },
  {
   "cell_type": "code",
   "execution_count": null,
   "metadata": {},
   "outputs": [],
   "source": [
    "# read in rat BMI seed genes, corresponding to parameters above\n",
    "rat_bmi_genes=pd.read_csv('seed_genes/ratBMI_seed_'+ratThresh+'.txt',sep='\\t')['0'].tolist()\n",
    "print(len(rat_bmi_genes))"
   ]
  },
  {
   "cell_type": "code",
   "execution_count": null,
   "metadata": {},
   "outputs": [],
   "source": [
    "# read in human BMI seed genes, corresponding to parameters above\n",
    "# h_bmi_genes=pd.read_csv('seed_genes/humanBMI_seed_'+mapper+'_'+adj_type+'_exclRatSeeds'+str(excl_rat_seeds)+ratThresh+'.txt',\n",
    "#                                      sep='\\t')['0'].tolist()\n",
    "BMI_GIANT_pascal = pd.read_csv('/Users/brinrosenthal/Documents/CCBB_tickets_data/GIANT_genomics/BMI/GIANT_BMI_pascal.sum.genescores.txt',\n",
    "                              sep='\\t')\n",
    "BMI_GIANT_pascal.index=BMI_GIANT_pascal['gene_symbol']\n",
    "BMI_GIANT_pascal = BMI_GIANT_pascal.loc[list(np.intersect1d(BMI_GIANT_pascal.index.tolist(),list(G_int.nodes)))]\n",
    "bonf_p = .05/len(BMI_GIANT_pascal)\n",
    "\n",
    "h_bmi_genes = BMI_GIANT_pascal[BMI_GIANT_pascal['pvalue']<bonf_p].index.tolist()\n",
    "\n",
    "print(len(h_bmi_genes))\n",
    "\n"
   ]
  },
  {
   "cell_type": "code",
   "execution_count": null,
   "metadata": {},
   "outputs": [],
   "source": []
  },
  {
   "cell_type": "code",
   "execution_count": null,
   "metadata": {},
   "outputs": [],
   "source": []
  },
  {
   "cell_type": "code",
   "execution_count": null,
   "metadata": {},
   "outputs": [],
   "source": [
    "BMI_GIANT_pascal.loc[h_bmi_genes].head()"
   ]
  },
  {
   "cell_type": "code",
   "execution_count": null,
   "metadata": {},
   "outputs": [],
   "source": []
  },
  {
   "cell_type": "code",
   "execution_count": null,
   "metadata": {},
   "outputs": [],
   "source": [
    "from statsmodels.stats import contingency_tables\n",
    "from scipy.stats import hypergeom"
   ]
  },
  {
   "cell_type": "code",
   "execution_count": null,
   "metadata": {},
   "outputs": [],
   "source": [
    "# MP:0001186 pigmentation phenotype\n",
    "# MP:0001533 skeletal phenotype\n",
    "MP_focal_list = ['MP:0002089','MP:0002069','MP:0003633','MP:0001186']\n",
    "OR_p_list,OR_CI_list,log_OR_list = [],[],[]\n",
    "root_node = hier_df['CD_MemberList_Size'].sort_values(ascending=False).head(1).index.tolist()[0]\n",
    "for MP_focal in MP_focal_list:\n",
    "    MP_desc_focal = dict(MP2desc['description'])[MP_focal]\n",
    "    print(MP_desc_focal)\n",
    "\n",
    "    # focus the hierarchy on one branch, and look up all terms within that branch\n",
    "    if len(MPO.parent_2_child[MP_focal])>0:\n",
    "        MPO_focal = MPO.focus(MP_focal)\n",
    "        focal_terms = MPO_focal.terms\n",
    "    else: # if the term has no children, just look at that term\n",
    "        focal_terms=MP_focal\n",
    "\n",
    "\n",
    "    # check enrichment in root node\n",
    "    focal_genes = hier_df['CD_MemberList'].loc[root_node].split(' ')\n",
    "    print(len(focal_genes))\n",
    "\n",
    "    mgi_temp = mgi_df[mgi_df['MP'].isin(focal_terms)]\n",
    "    mgi_genes = list(np.unique(mgi_temp['gene_name']))\n",
    "    mgi_genes = [g.upper() for g in mgi_genes]\n",
    "    print(len(mgi_genes))\n",
    "    mgi_genes = list(np.intersect1d(mgi_genes,G_int.nodes()))\n",
    "    print(len(mgi_genes))\n",
    "\n",
    "    q00 = len(np.intersect1d(mgi_genes,focal_genes))\n",
    "    q01 = len(mgi_genes)-q00\n",
    "\n",
    "    q10 = len(focal_genes)-q00\n",
    "    q11 = len(G_int.nodes())-q00-q01-q10\n",
    "\n",
    "    table_temp = [[q00,q01],[q10,q11]]\n",
    "    print(table_temp)\n",
    "\n",
    "    CT= contingency_tables.Table2x2(table_temp)\n",
    "    OR_p_temp = CT.log_oddsratio_pvalue()\n",
    "    OR_CI_temp = CT.log_oddsratio_confint()\n",
    "    log_OR_temp = CT.log_oddsratio\n",
    "    print(OR_p_temp)\n",
    "    print(OR_CI_temp)\n",
    "    print(log_OR_temp)\n",
    "    \n",
    "    OR_p_list.append(OR_p_temp)\n",
    "    OR_CI_list.append(OR_CI_temp)\n",
    "    log_OR_list.append(log_OR_temp)\n",
    "    \n",
    "    print(hypergeom.sf(q00,len(G_int.nodes()),len(focal_genes),len(mgi_genes)))\n",
    "    \n",
    "OR_CI_lower, OR_CI_upper = zip(*OR_CI_list)"
   ]
  },
  {
   "cell_type": "code",
   "execution_count": null,
   "metadata": {},
   "outputs": [],
   "source": [
    "np.exp(np.subtract(log_OR_list,OR_CI_lower))\n",
    "print(np.exp(OR_CI_lower))\n",
    "print(np.exp(OR_CI_upper))\n",
    "print(np.subtract(np.exp(log_OR_list),np.exp(OR_CI_lower)))\n",
    "print(np.subtract(np.exp(OR_CI_upper),np.exp(log_OR_list)))"
   ]
  },
  {
   "cell_type": "code",
   "execution_count": null,
   "metadata": {},
   "outputs": [],
   "source": [
    "plt.figure(figsize=(5,5))\n",
    "plt.errorbar(np.arange(len(MP_focal_list)),np.exp(log_OR_list),\n",
    "             yerr=[np.subtract(np.exp(log_OR_list),np.exp(OR_CI_lower)),\n",
    "                   np.subtract(np.exp(OR_CI_upper),np.exp(log_OR_list))],color='k',fmt='o')\n",
    "plt.plot(np.arange(len(MP_focal_list)),np.exp(log_OR_list),'o',color='k')\n",
    "plt.ylim([.2,2.8])\n",
    "\n",
    "plt.plot([-.5,3.5],[1,1],'--',color='gray')\n",
    "\n",
    "tmp=plt.xticks(np.arange(len(MP_focal_list)),MP2desc['description'].loc[MP_focal_list].tolist(),rotation='vertical')\n",
    "\n",
    "plt.ylabel('OR +- 95% CI')\n",
    "\n",
    "\n",
    "# ax = plt.gca()\n",
    "\n",
    "# ax.semilogy()\n",
    "# # plt.yticks(np.arange(.5, 3, .5))\n",
    "# plt.yticks([0.8,1.0,1.2,1.4,1.6,2.0,2.4])\n",
    "# from matplotlib.ticker import ScalarFormatter\n",
    "# ax.yaxis.set_major_formatter(ScalarFormatter())\n",
    "# ax.yaxis.set_minor_formatter(ScalarFormatter())\n",
    "\n",
    "# plt.savefig('../manuscript/figures/figure5/mouseKO_enrichment.png',dpi=300,bbox_inches='tight')\n",
    "# plt.savefig('../manuscript/figures/figure5/mouseKO_enrichment.svg',dpi=300,bbox_inches='tight')\n"
   ]
  },
  {
   "cell_type": "markdown",
   "metadata": {},
   "source": [
    "### Compare to enrichment for just seed genes (rat and human)\n"
   ]
  },
  {
   "cell_type": "code",
   "execution_count": null,
   "metadata": {},
   "outputs": [],
   "source": [
    "print(len(h_bmi_genes))\n",
    "print(len(rat_bmi_genes))"
   ]
  },
  {
   "cell_type": "code",
   "execution_count": null,
   "metadata": {},
   "outputs": [],
   "source": [
    "BMI_GIANT_pascal.loc[focal_genes_human].head()"
   ]
  },
  {
   "cell_type": "code",
   "execution_count": null,
   "metadata": {},
   "outputs": [],
   "source": [
    "MP_focal_list = ['MP:0002089','MP:0002069','MP:0003633','MP:0001186']\n",
    "OR_p_list_hseed,OR_CI_list_hseed,log_OR_list_hseed = [],[],[]\n",
    "OR_p_list_rseed,OR_CI_list_rseed,log_OR_list_rseed = [],[],[]\n",
    "for MP_focal in MP_focal_list:\n",
    "    MP_desc_focal = dict(MP2desc['description'])[MP_focal]\n",
    "    print(MP_desc_focal)\n",
    "\n",
    "    # focus the hierarchy on one branch, and look up all terms within that branch\n",
    "    if len(MPO.parent_2_child[MP_focal])>0:\n",
    "        MPO_focal = MPO.focus(MP_focal)\n",
    "        focal_terms = MPO_focal.terms\n",
    "    else: # if the term has no children, just look at that term\n",
    "        focal_terms=MP_focal\n",
    "\n",
    "\n",
    "    mgi_temp = mgi_df[mgi_df['MP'].isin(focal_terms)]\n",
    "    mgi_genes = list(np.unique(mgi_temp['gene_name']))\n",
    "    mgi_genes = [g.upper() for g in mgi_genes]\n",
    "    print(len(mgi_genes))\n",
    "    mgi_genes = list(np.intersect1d(mgi_genes,G_int.nodes()))\n",
    "    print(len(mgi_genes))\n",
    "    \n",
    "    \n",
    "    # check enrichment in human BMI seed genes\n",
    "    focal_genes_human = h_bmi_genes #BMI_GIANT_pascal.sort_values('pvalue',ascending=True).head(1000).index.tolist()\n",
    "    focal_genes_human = list(np.intersect1d(focal_genes_human,G_int.nodes())) # only use genes in interactome\n",
    "    print(len(focal_genes_human))\n",
    "    q00 = len(np.intersect1d(mgi_genes,focal_genes_human))\n",
    "    q01 = len(mgi_genes)-q00\n",
    "\n",
    "    q10 = len(focal_genes_human)-q00\n",
    "    q11 = len(G_int.nodes())-q00-q01-q10\n",
    "\n",
    "    table_temp = [[q00,q01],[q10,q11]]\n",
    "    print(table_temp)\n",
    "\n",
    "    CT= contingency_tables.Table2x2(table_temp)\n",
    "    OR_p_temp = CT.log_oddsratio_pvalue()\n",
    "    OR_CI_temp = CT.log_oddsratio_confint()\n",
    "    log_OR_temp = CT.log_oddsratio\n",
    "    print(OR_p_temp)\n",
    "    print(OR_CI_temp)\n",
    "    print(log_OR_temp)\n",
    "    \n",
    "    OR_p_list_hseed.append(OR_p_temp)\n",
    "    OR_CI_list_hseed.append(OR_CI_temp)\n",
    "    log_OR_list_hseed.append(log_OR_temp)\n",
    "    \n",
    "    # check enrichment in rat BMI seed genes\n",
    "    focal_genes_rat = rat_bmi_genes\n",
    "    focal_genes_rat = list(np.intersect1d(focal_genes_rat,G_int.nodes())) # only use genes in interactome\n",
    "    print(len(focal_genes_rat))\n",
    "\n",
    "    q00 = len(np.intersect1d(mgi_genes,focal_genes_rat))\n",
    "    q01 = len(mgi_genes)-q00\n",
    "\n",
    "    q10 = len(focal_genes_rat)-q00\n",
    "    q11 = len(G_int.nodes())-q00-q01-q10\n",
    "\n",
    "    table_temp = [[q00,q01],[q10,q11]]\n",
    "    print(table_temp)\n",
    "\n",
    "    CT= contingency_tables.Table2x2(table_temp)\n",
    "    OR_p_temp = CT.log_oddsratio_pvalue()\n",
    "    OR_CI_temp = CT.log_oddsratio_confint()\n",
    "    log_OR_temp = CT.log_oddsratio\n",
    "    print(OR_p_temp)\n",
    "    print(OR_CI_temp)\n",
    "    print(log_OR_temp)\n",
    "    \n",
    "    OR_p_list_rseed.append(OR_p_temp)\n",
    "    OR_CI_list_rseed.append(OR_CI_temp)\n",
    "    log_OR_list_rseed.append(log_OR_temp)\n",
    "    \n",
    "    #print(hypergeom.sf(q00,len(G_int.nodes()),len(focal_genes),len(mgi_genes)))\n",
    "    \n",
    "OR_CI_lower_hseed, OR_CI_upper_hseed = zip(*OR_CI_list_hseed)\n",
    "OR_CI_lower_rseed, OR_CI_upper_rseed = zip(*OR_CI_list_rseed)"
   ]
  },
  {
   "cell_type": "code",
   "execution_count": null,
   "metadata": {},
   "outputs": [],
   "source": [
    "# plot all together\n",
    "plt.figure(figsize=(5,5))\n",
    "\n",
    "# NetColoc subgraph\n",
    "plt.errorbar(np.exp(log_OR_list),np.arange(len(MP_focal_list))-.2,\n",
    "             xerr=[np.subtract(np.exp(log_OR_list),np.exp(OR_CI_lower)),\n",
    "                   np.subtract(np.exp(OR_CI_upper),np.exp(log_OR_list))],color='blue',fmt='o',\n",
    "             label='rat-human BMI network')\n",
    "plt.plot(np.exp(log_OR_list),np.arange(len(MP_focal_list))-.2,'o',color='blue')\n",
    "\n",
    "# r seeds \n",
    "plt.errorbar(np.exp(log_OR_list_rseed),np.arange(len(MP_focal_list)),\n",
    "             xerr=[np.subtract(np.exp(log_OR_list_rseed),np.exp(OR_CI_lower_rseed)),\n",
    "                   np.subtract(np.exp(OR_CI_upper_rseed),np.exp(log_OR_list_rseed))],color='k',fmt='o',\n",
    "             label='rat BMI seed genes')\n",
    "plt.plot(np.exp(log_OR_list_rseed),np.arange(len(MP_focal_list)),'o',color='k')\n",
    "\n",
    "# h seeds \n",
    "plt.errorbar(np.exp(log_OR_list_hseed),np.arange(len(MP_focal_list))+.2,\n",
    "             xerr=[np.subtract(np.exp(log_OR_list_hseed),np.exp(OR_CI_lower_hseed)),\n",
    "                   np.subtract(np.exp(OR_CI_upper_hseed),np.exp(log_OR_list_hseed))],color='#E221D9',fmt='o',\n",
    "            label='human BMI seed genes')\n",
    "plt.plot(np.exp(log_OR_list_hseed),np.arange(len(MP_focal_list))+.2,'o',color='#E221D9')\n",
    "# plt.ylim([.2,2.8])\n",
    "plt.gca().invert_yaxis()\n",
    "\n",
    "plt.plot([1,1],[-.5,3.5],'--',color='gray')\n",
    "plt.legend(bbox_to_anchor=(1.1, 1.05))\n",
    "\n",
    "tmp=plt.yticks(np.arange(len(MP_focal_list)),MP2desc['description'].loc[MP_focal_list].tolist(),rotation='horizontal')\n",
    "plt.xlabel('OR +- 95% CI')\n",
    "\n",
    "# plt.savefig('../manuscript/figures/figure5/mouseKO_enrichment.png',dpi=300,bbox_inches='tight')\n",
    "# plt.savefig('../manuscript/figures/figure5/mouseKO_enrichment.svg',dpi=300,bbox_inches='tight')"
   ]
  },
  {
   "cell_type": "code",
   "execution_count": null,
   "metadata": {},
   "outputs": [],
   "source": []
  },
  {
   "cell_type": "code",
   "execution_count": null,
   "metadata": {},
   "outputs": [],
   "source": []
  },
  {
   "cell_type": "markdown",
   "metadata": {},
   "source": [
    "# Load BMI genes called from Brittany's pipeline"
   ]
  },
  {
   "cell_type": "code",
   "execution_count": null,
   "metadata": {},
   "outputs": [],
   "source": [
    "BMI_brittany = pd.read_csv('../data/from_brittany/gene_list_bothsources_forBrin.csv',index_col='Unnamed: 0')\n",
    "print(len(BMI_brittany))\n",
    "BMI_brittany.head()"
   ]
  },
  {
   "cell_type": "code",
   "execution_count": null,
   "metadata": {},
   "outputs": [],
   "source": [
    "BMI_brit_sig = BMI_brittany[BMI_brittany['genotype_pval']<1E-4]\n",
    "\n",
    "print(len(BMI_brit_sig))\n",
    "BMI_brit_sig.head()"
   ]
  },
  {
   "cell_type": "code",
   "execution_count": null,
   "metadata": {},
   "outputs": [],
   "source": [
    "# ----------- get gene mapping info from brittany -----------"
   ]
  },
  {
   "cell_type": "code",
   "execution_count": null,
   "metadata": {},
   "outputs": [],
   "source": [
    "BMI_all_genes = list(np.unique(BMI_brittany['gene_symbol']))\n",
    "BMI_all_genes = [g.upper() for g in BMI_all_genes]\n",
    "print(len(BMI_all_genes))\n",
    "print(len(np.intersect1d(BMI_all_genes,list(G_int.nodes()))))"
   ]
  },
  {
   "cell_type": "code",
   "execution_count": null,
   "metadata": {},
   "outputs": [],
   "source": [
    "BMI_sig_genes = list(np.unique(BMI_brit_sig['gene_symbol']))\n",
    "BMI_sig_genes = [g.upper() for g in BMI_sig_genes]\n",
    "print(len(BMI_sig_genes))\n",
    "print(len(np.intersect1d(BMI_sig_genes,list(G_int.nodes()))))"
   ]
  },
  {
   "cell_type": "code",
   "execution_count": null,
   "metadata": {},
   "outputs": [],
   "source": [
    "print(len(np.intersect1d(BMI_sig_genes,node_df.index.tolist())))\n",
    "print(np.intersect1d(BMI_sig_genes,node_df.index.tolist()))"
   ]
  },
  {
   "cell_type": "code",
   "execution_count": null,
   "metadata": {},
   "outputs": [],
   "source": [
    "print(len(np.intersect1d(BMI_all_genes,node_df.index.tolist())))"
   ]
  },
  {
   "cell_type": "code",
   "execution_count": null,
   "metadata": {},
   "outputs": [],
   "source": []
  },
  {
   "cell_type": "code",
   "execution_count": null,
   "metadata": {},
   "outputs": [],
   "source": []
  }
 ],
 "metadata": {
  "kernelspec": {
   "display_name": "Python [conda env:netcoloc]",
   "language": "python",
   "name": "conda-env-netcoloc-py"
  },
  "language_info": {
   "codemirror_mode": {
    "name": "ipython",
    "version": 3
   },
   "file_extension": ".py",
   "mimetype": "text/x-python",
   "name": "python",
   "nbconvert_exporter": "python",
   "pygments_lexer": "ipython3",
   "version": "3.9.7"
  },
  "toc": {
   "base_numbering": 1,
   "nav_menu": {},
   "number_sections": true,
   "sideBar": true,
   "skip_h1_title": false,
   "title_cell": "Table of Contents",
   "title_sidebar": "Contents",
   "toc_cell": false,
   "toc_position": {
    "height": "calc(100% - 180px)",
    "left": "10px",
    "top": "150px",
    "width": "310.417px"
   },
   "toc_section_display": true,
   "toc_window_display": true
  },
  "varInspector": {
   "cols": {
    "lenName": 16,
    "lenType": 16,
    "lenVar": 40
   },
   "kernels_config": {
    "python": {
     "delete_cmd_postfix": "",
     "delete_cmd_prefix": "del ",
     "library": "var_list.py",
     "varRefreshCmd": "print(var_dic_list())"
    },
    "r": {
     "delete_cmd_postfix": ") ",
     "delete_cmd_prefix": "rm(",
     "library": "var_list.r",
     "varRefreshCmd": "cat(var_dic_list()) "
    }
   },
   "types_to_exclude": [
    "module",
    "function",
    "builtin_function_or_method",
    "instance",
    "_Feature"
   ],
   "window_display": false
  }
 },
 "nbformat": 4,
 "nbformat_minor": 4
}
