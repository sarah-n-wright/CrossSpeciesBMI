{
 "cells": [
  {
   "cell_type": "code",
   "execution_count": 144,
   "metadata": {
    "ExecuteTime": {
     "end_time": "2022-03-02T22:23:35.869650Z",
     "start_time": "2022-03-02T22:23:35.867785Z"
    }
   },
   "outputs": [],
   "source": [
    "import pandas as pd\n",
    "import matplotlib.pyplot as plt\n",
    "import numpy as np"
   ]
  },
  {
   "cell_type": "code",
   "execution_count": 145,
   "metadata": {
    "ExecuteTime": {
     "end_time": "2022-03-02T22:23:35.880066Z",
     "start_time": "2022-03-02T22:23:35.872437Z"
    }
   },
   "outputs": [],
   "source": [
    "DATADIR = \"/cellar/users/snwright/Data/Transfer/rat/\"\n",
    "datafile = \"BMI_genes_all_z_scores.tsv\" # uploaded as \"BMI_genes_all_z_scores.tsv\"\n",
    "do_plots = False"
   ]
  },
  {
   "cell_type": "code",
   "execution_count": 146,
   "metadata": {
    "ExecuteTime": {
     "end_time": "2022-03-02T22:23:35.992231Z",
     "start_time": "2022-03-02T22:23:35.881128Z"
    }
   },
   "outputs": [
    {
     "data": {
      "text/html": [
       "<div>\n",
       "<style scoped>\n",
       "    .dataframe tbody tr th:only-of-type {\n",
       "        vertical-align: middle;\n",
       "    }\n",
       "\n",
       "    .dataframe tbody tr th {\n",
       "        vertical-align: top;\n",
       "    }\n",
       "\n",
       "    .dataframe thead th {\n",
       "        text-align: right;\n",
       "    }\n",
       "</style>\n",
       "<table border=\"1\" class=\"dataframe\">\n",
       "  <thead>\n",
       "    <tr style=\"text-align: right;\">\n",
       "      <th></th>\n",
       "      <th>z_rat</th>\n",
       "      <th>z_human</th>\n",
       "      <th>z_both</th>\n",
       "      <th>SubGraph</th>\n",
       "      <th>rat_seed</th>\n",
       "      <th>human_seed</th>\n",
       "    </tr>\n",
       "  </thead>\n",
       "  <tbody>\n",
       "    <tr>\n",
       "      <th>UBE2Q1</th>\n",
       "      <td>-1.046722</td>\n",
       "      <td>-0.059048</td>\n",
       "      <td>0.061807</td>\n",
       "      <td>None</td>\n",
       "      <td>0</td>\n",
       "      <td>0</td>\n",
       "    </tr>\n",
       "    <tr>\n",
       "      <th>RNF14</th>\n",
       "      <td>0.246439</td>\n",
       "      <td>-0.413490</td>\n",
       "      <td>-0.101900</td>\n",
       "      <td>None</td>\n",
       "      <td>0</td>\n",
       "      <td>0</td>\n",
       "    </tr>\n",
       "    <tr>\n",
       "      <th>UBE2Q2</th>\n",
       "      <td>0.128908</td>\n",
       "      <td>-0.090295</td>\n",
       "      <td>-0.011640</td>\n",
       "      <td>None</td>\n",
       "      <td>0</td>\n",
       "      <td>1</td>\n",
       "    </tr>\n",
       "    <tr>\n",
       "      <th>TMCO1</th>\n",
       "      <td>1.451465</td>\n",
       "      <td>-0.319948</td>\n",
       "      <td>-0.464393</td>\n",
       "      <td>rat-only</td>\n",
       "      <td>0</td>\n",
       "      <td>0</td>\n",
       "    </tr>\n",
       "    <tr>\n",
       "      <th>UBAC1</th>\n",
       "      <td>-0.464716</td>\n",
       "      <td>1.268305</td>\n",
       "      <td>-0.589401</td>\n",
       "      <td>human-only</td>\n",
       "      <td>0</td>\n",
       "      <td>0</td>\n",
       "    </tr>\n",
       "  </tbody>\n",
       "</table>\n",
       "</div>"
      ],
      "text/plain": [
       "           z_rat   z_human    z_both    SubGraph  rat_seed  human_seed\n",
       "UBE2Q1 -1.046722 -0.059048  0.061807        None         0           0\n",
       "RNF14   0.246439 -0.413490 -0.101900        None         0           0\n",
       "UBE2Q2  0.128908 -0.090295 -0.011640        None         0           1\n",
       "TMCO1   1.451465 -0.319948 -0.464393    rat-only         0           0\n",
       "UBAC1  -0.464716  1.268305 -0.589401  human-only         0           0"
      ]
     },
     "execution_count": 146,
     "metadata": {},
     "output_type": "execute_result"
    }
   ],
   "source": [
    "# load data, contains original subgraphs\n",
    "data = pd.read_csv(DATADIR + datafile, sep = \"\\t\", index_col=0)\n",
    "data.head()"
   ]
  },
  {
   "cell_type": "code",
   "execution_count": 157,
   "metadata": {
    "ExecuteTime": {
     "end_time": "2022-03-02T22:25:25.973383Z",
     "start_time": "2022-03-02T22:25:25.971272Z"
    }
   },
   "outputs": [],
   "source": [
    "# set thresholds:\n",
    "conserved = {\"rat\":1, \"human\":1, \"combo\":3}\n",
    "rat_only = {\"rat\":1, \"human\":0.5, \"combo\":-2}\n",
    "human_only = {\"rat\":0, \"human\":1.5, \"combo\":-3}"
   ]
  },
  {
   "cell_type": "markdown",
   "metadata": {},
   "source": [
    "Original SubGraph designations come from thresholds:  \n",
    "`conserved = {\"rat\":1, \"human\":1, \"combo\":3}`  \n",
    "`rat_only = {\"rat\":1, \"human\":0.5, \"combo\":-1.5}`  \n",
    "`human_only = {\"rat\":0.5, \"human\":1, \"combo\":-1.5}`\n",
    "\n",
    "**Combo scores are used as follows:**  \n",
    "\n",
    "  \n",
    "Conserved: $z_{rat}\\bullet z_{human} > combo$  \n",
    "  \n",
    "Rat Only: $z_{rat}\\bullet (z_{human} - 1) < combo$  \n",
    "  \n",
    "Human Only: $(z_{rat}-1)\\bullet z_{human} < combo$"
   ]
  },
  {
   "cell_type": "markdown",
   "metadata": {},
   "source": [
    "## Conserved Network"
   ]
  },
  {
   "cell_type": "code",
   "execution_count": 148,
   "metadata": {
    "ExecuteTime": {
     "end_time": "2022-03-02T22:23:36.274488Z",
     "start_time": "2022-03-02T22:23:36.123542Z"
    }
   },
   "outputs": [],
   "source": [
    "data = data.assign(hue=[\"red\" if ((data.z_rat[i] > conserved[\"rat\"]) and \n",
    "                       (data.z_human[i] > conserved[\"human\"]) and\n",
    "                       (data.z_both[i] > conserved[\"combo\"])) else \"grey\" for i in data.index])"
   ]
  },
  {
   "cell_type": "code",
   "execution_count": 149,
   "metadata": {
    "ExecuteTime": {
     "end_time": "2022-03-02T22:23:36.283957Z",
     "start_time": "2022-03-02T22:23:36.275451Z"
    },
    "code_folding": [
     0
    ],
    "run_control": {
     "marked": true
    }
   },
   "outputs": [],
   "source": [
    "if do_plots:\n",
    "    fig, [ax1, ax2] = plt.subplots(1,2,figsize=(14,7))\n",
    "    ax1.scatter(data=data, x=\"z_human\", y=\"z_rat\", color=\"hue\", s=1, alpha=0.5)\n",
    "    ax1.plot([(i+0.2)/10 for i in range(1,250)],[conserved[\"combo\"] *10/(i+0.2) for i in range(1, 250)], color=\"blue\")\n",
    "    ax1.hlines(y=1, xmin=-5, xmax=25, color=\"blue\", alpha=0.7)\n",
    "    ax1.vlines(x=1, ymin=-5, ymax=25, color=\"blue\", alpha=0.7)\n",
    "    ax1.set_xlabel(\"Z_human\")\n",
    "    ax1.set_ylabel(\"Z_rat\")\n",
    "    ax1.set_xlim((-5, 28))\n",
    "    ax1.set_ylim((-5, 28))\n",
    "    ax1.spines['left'].set_position(('data', 0.0))\n",
    "    ax1.spines['bottom'].set_position(('data', 0.0))\n",
    "    ax1.spines['top'].set_position(('data', 0.0))\n",
    "    ax1.spines['right'].set_position(('data', 0.0))\n",
    "    _ = ax1.set_title(\"All genes\")\n",
    "\n",
    "# plot non-seeds only\n",
    "    data_non_seed = data.loc[((data.rat_seed ==0) & (data.human_seed==0))]\n",
    "\n",
    "    ax2.scatter(data=data_non_seed, x=\"z_human\", y=\"z_rat\", color=\"hue\", s=1, alpha=0.5, zorder=0)\n",
    "    ax2.plot([(i+0.2)/10 for i in range(1,250)],[conserved[\"combo\"]*10/(i+0.2) for i in range(1, 250)], color=\"orange\", zorder=1)\n",
    "    ax2.hlines(y=1, xmin=-5, xmax=6, color=\"darkorchid\", alpha=0.9)\n",
    "    ax2.vlines(x=1, ymin=-5, ymax=6, color=\"deepskyblue\", alpha=0.7)\n",
    "    ax2.text(s=str(conserved[\"human\"])+\" < Z_human\", x=1.2, y=-4, color=\"deepskyblue\")\n",
    "    ax2.text(s=str(conserved[\"rat\"])+\" < Z_rat\", x=-5, y=1.3, color=\"darkorchid\")\n",
    "    ax2.text(s=str(conserved[\"combo\"])+\" < Z_rat*Z_human\", x=0.5, y=7, color=\"orange\")\n",
    "    #plt.xlabel()\n",
    "    ax2.set_ylabel(\"Z_rat\", loc=\"top\")\n",
    "    ax2.set_xlim((-5, 8))\n",
    "    ax2.set_ylim((-5, 8))\n",
    "    ax2.spines['left'].set(position=('data', 0.0), zorder=2)\n",
    "    ax2.spines['bottom'].set(position=('data', 0.0), zorder=2)\n",
    "    ax2.set_xlabel(\"Z_human\", zorder=4, loc=\"right\")\n",
    "    ax2.spines['top'].set_position(('data', 0.0))\n",
    "    ax2.spines['right'].set_position(('data', 0.0))\n",
    "    _ =ax2.set_title(\"No seed genes\")\n"
   ]
  },
  {
   "cell_type": "markdown",
   "metadata": {},
   "source": [
    "## Rat Only and Human Only Networks"
   ]
  },
  {
   "cell_type": "code",
   "execution_count": 150,
   "metadata": {
    "ExecuteTime": {
     "end_time": "2022-03-02T22:23:36.895710Z",
     "start_time": "2022-03-02T22:23:36.284904Z"
    }
   },
   "outputs": [],
   "source": [
    "data_rat = data.assign(hue = [\"darkorchid\" if data.z_rat[i] > rat_only[\"rat\"] and data.z_human[i] < rat_only[\"human\"] and \n",
    "                              data.z_rat[i] * (data.z_human[i] - 1) < rat_only[\"combo\"]\n",
    "                              else data.hue[i] for i in data.index])\n",
    "\n",
    "data_human = data.assign(hue = [\"deepskyblue\" if data.z_human[i] > human_only[\"human\"] and data.z_rat[i] < human_only[\"rat\"] and \n",
    "                                    (data.z_rat[i]-1)*(data.z_human[i]) < human_only[\"combo\"]\n",
    "                                    else data.hue[i] for i in data.index])"
   ]
  },
  {
   "cell_type": "code",
   "execution_count": 151,
   "metadata": {
    "ExecuteTime": {
     "end_time": "2022-03-02T22:23:36.906654Z",
     "start_time": "2022-03-02T22:23:36.896930Z"
    },
    "code_folding": [
     0
    ],
    "run_control": {
     "marked": true
    }
   },
   "outputs": [],
   "source": [
    "if do_plots:\n",
    "    fig, [ax1, ax2] = plt.subplots(1, 2, figsize=(14,7))\n",
    "    ax1.scatter(data=data_rat, x=\"z_human\", y=\"z_rat\", color=\"hue\", s=1, alpha=0.5, zorder=0)\n",
    "    ax1.plot([(i+0.0001)/10 for i in range(-248,10)],[rat_only[\"combo\"]*10/(i-10+0.0001) for i in range(-248, 10)], color=\"orange\", zorder=1)\n",
    "    #plt.plot([(i+0.2)/10 for i in range(1,250)],[30/(i+0.2) for i in range(1, 250)], color=\"orange\", zorder=1)\n",
    "    ax1.hlines(y=1, xmin=-5, xmax=6, color=\"purple\", alpha=1)\n",
    "    ax1.vlines(x=0.5, ymin=-5, ymax=25, color=\"deepskyblue\", alpha=0.7)\n",
    "    ax1.text(s=\"Z_human < \"+str(rat_only[\"human\"]), x=-4, y=-4, color=\"deepskyblue\")\n",
    "    ax1.text(s=\"Z_rat > \"+str(rat_only[\"rat\"]), x=-5, y=1.3, color=\"purple\")\n",
    "    ax1.text(s=\"Z_rat*(Z_human-1) < \"+str(rat_only[\"combo\"]), x=2, y=13, color=\"orange\", fontsize=12)\n",
    "    #plt.text(s=\"Z_rat*Z_human > 3\", x=0.5, y=7, color=\"orange\")\n",
    "    #plt.xlabel()\n",
    "    ax1.set_ylabel(\"Z_rat\", loc=\"top\")\n",
    "    ax1.set_xlim((-5, 8))\n",
    "    ax1.set_ylim((-5, 25))\n",
    "    ax1.spines['left'].set(position=('data', 0.0), zorder=2)\n",
    "    ax1.spines['bottom'].set(position=('data', 0.0), zorder=2)\n",
    "    ax1.set_xlabel(\"Z_human\", zorder=4, loc=\"right\")\n",
    "    ax1.spines['top'].set_position(('data', 0.0))\n",
    "    ax1.spines['right'].set_position(('data', 0.0))\n",
    "    ax1.set_title(\"RAT ONLY\")\n",
    "\n",
    "# human only plot\n",
    "\n",
    "    ax2.scatter(data=data_human, x=\"z_human\", y=\"z_rat\", color=\"hue\", s=1, alpha=0.5, zorder=0)\n",
    "    #plt.plot([(i+0.0001)/10 for i in range(-248,10)],[-15/(i-10+0.0001) for i in range(-248, 10)], color=\"blue\", zorder=1)\n",
    "    ax2.plot([(i+0.0001)/10 for i in range(0,250)],[human_only[\"combo\"]*10/(i+0.0001)+1 for i in range(0, 250)], color=\"orange\", zorder=1)\n",
    "    ax2.hlines(y=0.5, xmin=-5, xmax=25, color=\"darkorchid\", alpha=1)\n",
    "    ax2.vlines(x=1, ymin=-5, ymax=25, color=\"blue\", alpha=0.7)\n",
    "    ax2.text(s=str(human_only[\"human\"])+\"< Z_human\", x=1.2, y=-4, color=\"blue\")\n",
    "    ax2.text(s=\"Z_rat < \"+str(human_only[\"rat\"]), x=-8, y=0.8, color=\"purple\")\n",
    "    ax2.text(s=\"(Z_rat-1)*Z_human < \"+str(human_only[\"combo\"]), x=15, y=2, color=\"orange\", fontsize=12)\n",
    "    #plt.text(s=\"Z_rat*Z_human > 3\", x=0.5, y=7, color=\"orange\")\n",
    "    #plt.xlabel()\n",
    "    ax2.set_ylabel(\"Z_rat\", loc=\"top\")\n",
    "    ax2.set_xlim((-5, 25))\n",
    "    ax2.set_ylim((-5, 8))\n",
    "    ax2.spines['left'].set(position=('data', 0.0), zorder=2)\n",
    "    ax2.spines['bottom'].set(position=('data', 0.0), zorder=2)\n",
    "    ax2.set_xlabel(\"Z_human\", zorder=4, loc=\"right\")\n",
    "    ax2.spines['top'].set_position(('data', 0.0))\n",
    "    ax2.spines['right'].set_position(('data', 0.0))\n",
    "    ax2.set_title(\"HUMAN ONLY\")\n"
   ]
  },
  {
   "cell_type": "markdown",
   "metadata": {},
   "source": [
    "## Summary"
   ]
  },
  {
   "cell_type": "code",
   "execution_count": 152,
   "metadata": {
    "ExecuteTime": {
     "end_time": "2022-03-02T22:23:37.272095Z",
     "start_time": "2022-03-02T22:23:36.907463Z"
    }
   },
   "outputs": [],
   "source": [
    "data_all = data_rat.assign(hue = [\"deepskyblue\" if data_rat.z_human[i] > human_only[\"human\"] and \n",
    "                                  data_rat.z_rat[i] < human_only[\"rat\"] and \n",
    "                                    (data_rat.z_rat[i]-1)*(data_rat.z_human[i]) < human_only[\"combo\"]\n",
    "                                    else data_rat.hue[i] for i in data_rat.index])"
   ]
  },
  {
   "cell_type": "code",
   "execution_count": 153,
   "metadata": {
    "ExecuteTime": {
     "end_time": "2022-03-02T22:23:37.282123Z",
     "start_time": "2022-03-02T22:23:37.274148Z"
    },
    "code_folding": [
     0
    ],
    "run_control": {
     "marked": true
    }
   },
   "outputs": [],
   "source": [
    "if do_plots:\n",
    "    fig, [ax1, ax2] = plt.subplots(1, 2,figsize=(14,7))\n",
    "\n",
    "    ax1.scatter(data=data_all, x=\"z_human\", y=\"z_rat\", color=\"hue\", s=1, alpha=0.5, zorder=0)\n",
    "    ax1.text(s=\"Conserved\", x=5, y=15, color=\"red\")\n",
    "    ax1.text(s=\"Rat-only\", x=-9, y=10, color=\"darkorchid\")\n",
    "    ax1.text(s=\"Human-only\", x=5, y=-4, color=\"deepskyblue\")\n",
    "    ax1.set_ylabel(\"Z_rat\", loc=\"top\")\n",
    "    ax1.set_xlim((-5, 25))\n",
    "    ax1.set_ylim((-5, 25))\n",
    "    ax1.spines['left'].set(position=('data', 0.0), zorder=2)\n",
    "    ax1.spines['bottom'].set(position=('data', 0.0), zorder=2)\n",
    "    ax1.set_xlabel(\"Z_human\", zorder=4, loc=\"right\")\n",
    "    ax1.spines['top'].set_position(('data', 0.0))\n",
    "    ax1.spines['right'].set_position(('data', 0.0))\n",
    "    ax1.set_title(\"All genes\")\n",
    "\n",
    "    ax2.scatter(data=data_all[((data_all.rat_seed ==0) & (data_all.human_seed==0))], x=\"z_human\", y=\"z_rat\", color=\"hue\", s=1, alpha=0.5, zorder=0)\n",
    "    ax2.text(s=\"Conserved\", x=3, y=6, color=\"red\")\n",
    "    ax2.text(s=\"Rat-only\", x=-4, y=4, color=\"darkorchid\")\n",
    "    ax2.text(s=\"Human-only\", x=5, y=-4, color=\"deepskyblue\")\n",
    "    ax2.set_ylabel(\"Z_rat\", loc=\"top\")\n",
    "    ax2.set_xlim((-5, 8))\n",
    "    ax2.set_ylim((-5, 8))\n",
    "    ax2.spines['left'].set(position=('data', 0.0), zorder=2)\n",
    "    ax2.spines['bottom'].set(position=('data', 0.0), zorder=2)\n",
    "    ax2.set_xlabel(\"Z_human\", zorder=4, loc=\"right\")\n",
    "    ax2.spines['top'].set_position(('data', 0.0))\n",
    "    ax2.spines['right'].set_position(('data', 0.0))\n",
    "    ax2.set_title(\"No seed genes\")"
   ]
  },
  {
   "cell_type": "code",
   "execution_count": 154,
   "metadata": {
    "ExecuteTime": {
     "end_time": "2022-03-02T22:23:37.405464Z",
     "start_time": "2022-03-02T22:23:37.283889Z"
    }
   },
   "outputs": [],
   "source": [
    "data_all[\"NewSubGraph\"] = data_all[\"hue\"].map({\"grey\":\"None\", \"darkorchid\":\"rat-only\", \"deepskyblue\":\"human-only\", \"red\":\"conserved\"})"
   ]
  },
  {
   "cell_type": "code",
   "execution_count": 155,
   "metadata": {
    "ExecuteTime": {
     "end_time": "2022-03-02T22:23:37.759368Z",
     "start_time": "2022-03-02T22:23:37.407261Z"
    }
   },
   "outputs": [
    {
     "name": "stdout",
     "output_type": "stream",
     "text": [
      "NewSubGraph\n",
      "None          16080\n",
      "conserved       657\n",
      "human-only     1395\n",
      "rat-only        688\n",
      "Name: hue, dtype: int64\n"
     ]
    },
    {
     "data": {
      "text/plain": [
       "Text(0.5, 1.0, 'Sub Graph Size')"
      ]
     },
     "execution_count": 155,
     "metadata": {},
     "output_type": "execute_result"
    },
    {
     "data": {
      "image/png": "[encoded data removed]",
      "text/plain": [
       "<Figure size 432x288 with 1 Axes>"
      ]
     },
     "metadata": {
      "needs_background": "light"
     },
     "output_type": "display_data"
    }
   ],
   "source": [
    "print(data_all.groupby(\"NewSubGraph\").count().loc[:, \"hue\"])\n",
    "data_all.groupby(\"NewSubGraph\").count().loc[:, \"hue\"].plot.bar()\n",
    "plt.title(\"Sub Graph Size\")"
   ]
  },
  {
   "cell_type": "code",
   "execution_count": 156,
   "metadata": {
    "ExecuteTime": {
     "end_time": "2022-03-02T22:23:38.073283Z",
     "start_time": "2022-03-02T22:23:37.761381Z"
    }
   },
   "outputs": [
    {
     "data": {
      "text/plain": [
       "Text(0.5, 1.0, 'Seed gene percentages')"
      ]
     },
     "execution_count": 156,
     "metadata": {},
     "output_type": "execute_result"
    },
    {
     "data": {
      "image/png": "[encoded data removed]",
      "text/plain": [
       "<Figure size 432x288 with 1 Axes>"
      ]
     },
     "metadata": {
      "needs_background": "light"
     },
     "output_type": "display_data"
    }
   ],
   "source": [
    "data_all.groupby(\"NewSubGraph\").mean().loc[:, (\"rat_seed\", \"human_seed\")].plot.bar()\n",
    "plt.title(\"Seed gene percentages\")"
   ]
  }
 ],
 "metadata": {
  "kernelspec": {
   "display_name": "Python [conda env:netcoloc]",
   "language": "python",
   "name": "conda-env-netcoloc-py"
  },
  "language_info": {
   "codemirror_mode": {
    "name": "ipython",
    "version": 3
   },
   "file_extension": ".py",
   "mimetype": "text/x-python",
   "name": "python",
   "nbconvert_exporter": "python",
   "pygments_lexer": "ipython3",
   "version": "3.9.7"
  },
  "toc": {
   "base_numbering": 1,
   "nav_menu": {},
   "number_sections": true,
   "sideBar": true,
   "skip_h1_title": false,
   "title_cell": "Table of Contents",
   "title_sidebar": "Contents",
   "toc_cell": false,
   "toc_position": {},
   "toc_section_display": true,
   "toc_window_display": true
  },
  "varInspector": {
   "cols": {
    "lenName": 16,
    "lenType": 16,
    "lenVar": 40
   },
   "kernels_config": {
    "python": {
     "delete_cmd_postfix": "",
     "delete_cmd_prefix": "del ",
     "library": "var_list.py",
     "varRefreshCmd": "print(var_dic_list())"
    },
    "r": {
     "delete_cmd_postfix": ") ",
     "delete_cmd_prefix": "rm(",
     "library": "var_list.r",
     "varRefreshCmd": "cat(var_dic_list()) "
    }
   },
   "types_to_exclude": [
    "module",
    "function",
    "builtin_function_or_method",
    "instance",
    "_Feature"
   ],
   "window_display": false
  }
 },
 "nbformat": 4,
 "nbformat_minor": 2
}
