{
 "cells": [
  {
   "cell_type": "code",
   "execution_count": 96,
   "metadata": {
    "ExecuteTime": {
     "end_time": "2022-04-07T23:28:19.125108Z",
     "start_time": "2022-04-07T23:28:19.123243Z"
    }
   },
   "outputs": [],
   "source": [
    "import pandas as pd\n",
    "import matplotlib.pyplot as plt\n",
    "from analysis_functions import *\n",
    "import numpy as np"
   ]
  },
  {
   "cell_type": "code",
   "execution_count": 97,
   "metadata": {
    "ExecuteTime": {
     "end_time": "2022-04-07T23:28:19.276780Z",
     "start_time": "2022-04-07T23:28:19.127189Z"
    }
   },
   "outputs": [
    {
     "data": {
      "text/html": [
       "<div>\n",
       "<style scoped>\n",
       "    .dataframe tbody tr th:only-of-type {\n",
       "        vertical-align: middle;\n",
       "    }\n",
       "\n",
       "    .dataframe tbody tr th {\n",
       "        vertical-align: top;\n",
       "    }\n",
       "\n",
       "    .dataframe thead th {\n",
       "        text-align: right;\n",
       "    }\n",
       "</style>\n",
       "<table border=\"1\" class=\"dataframe\">\n",
       "  <thead>\n",
       "    <tr style=\"text-align: right;\">\n",
       "      <th></th>\n",
       "      <th>z_rat</th>\n",
       "      <th>z_human</th>\n",
       "      <th>z_both</th>\n",
       "      <th>SubGraph</th>\n",
       "      <th>rat_seed</th>\n",
       "      <th>human_seed</th>\n",
       "    </tr>\n",
       "  </thead>\n",
       "  <tbody>\n",
       "    <tr>\n",
       "      <th>UBE2Q1</th>\n",
       "      <td>-1.046722</td>\n",
       "      <td>-0.059048</td>\n",
       "      <td>0.061807</td>\n",
       "      <td>None</td>\n",
       "      <td>0</td>\n",
       "      <td>0</td>\n",
       "    </tr>\n",
       "    <tr>\n",
       "      <th>RNF14</th>\n",
       "      <td>0.246439</td>\n",
       "      <td>-0.413490</td>\n",
       "      <td>-0.101900</td>\n",
       "      <td>None</td>\n",
       "      <td>0</td>\n",
       "      <td>0</td>\n",
       "    </tr>\n",
       "    <tr>\n",
       "      <th>UBE2Q2</th>\n",
       "      <td>0.128908</td>\n",
       "      <td>-0.090295</td>\n",
       "      <td>-0.011640</td>\n",
       "      <td>None</td>\n",
       "      <td>0</td>\n",
       "      <td>1</td>\n",
       "    </tr>\n",
       "    <tr>\n",
       "      <th>TMCO1</th>\n",
       "      <td>1.451465</td>\n",
       "      <td>-0.319948</td>\n",
       "      <td>-0.464393</td>\n",
       "      <td>rat-only</td>\n",
       "      <td>0</td>\n",
       "      <td>0</td>\n",
       "    </tr>\n",
       "    <tr>\n",
       "      <th>UBAC1</th>\n",
       "      <td>-0.464716</td>\n",
       "      <td>1.268305</td>\n",
       "      <td>-0.589401</td>\n",
       "      <td>human-only</td>\n",
       "      <td>0</td>\n",
       "      <td>0</td>\n",
       "    </tr>\n",
       "  </tbody>\n",
       "</table>\n",
       "</div>"
      ],
      "text/plain": [
       "           z_rat   z_human    z_both    SubGraph  rat_seed  human_seed\n",
       "UBE2Q1 -1.046722 -0.059048  0.061807        None         0           0\n",
       "RNF14   0.246439 -0.413490 -0.101900        None         0           0\n",
       "UBE2Q2  0.128908 -0.090295 -0.011640        None         0           1\n",
       "TMCO1   1.451465 -0.319948 -0.464393    rat-only         0           0\n",
       "UBAC1  -0.464716  1.268305 -0.589401  human-only         0           0"
      ]
     },
     "execution_count": 97,
     "metadata": {},
     "output_type": "execute_result"
    }
   ],
   "source": [
    "## Load the master z_score file (in the Google Drive)\n",
    "z_scores=pd.read_csv(\"~/Data/Transfer/rat/BMI_genes_all_z_scores.tsv\", sep=\"\\t\", index_col=0)\n",
    "z_scores.head()"
   ]
  },
  {
   "cell_type": "code",
   "execution_count": 98,
   "metadata": {
    "ExecuteTime": {
     "end_time": "2022-04-07T23:28:19.280525Z",
     "start_time": "2022-04-07T23:28:19.277868Z"
    }
   },
   "outputs": [],
   "source": [
    "overlap = z_scores[(z_scores[\"rat_seed\"]==1) & (z_scores[\"human_seed\"]==1)].index.tolist()\n",
    "missing_seed_genes = [\"MAPKBP1\", \"SRP19\", \"RBBP6\", \"C11orf58\", \"TENM4\", \"PITPNC1\", \"REEP5\", \"SLC5A11\"]"
   ]
  },
  {
   "cell_type": "code",
   "execution_count": 99,
   "metadata": {
    "ExecuteTime": {
     "end_time": "2022-04-07T23:28:19.350912Z",
     "start_time": "2022-04-07T23:28:19.281846Z"
    }
   },
   "outputs": [],
   "source": [
    "overlap = z_scores[(z_scores[\"rat_seed\"]==1) & (z_scores[\"human_seed\"]==1)]"
   ]
  },
  {
   "cell_type": "code",
   "execution_count": 100,
   "metadata": {
    "ExecuteTime": {
     "end_time": "2022-04-07T23:28:19.366814Z",
     "start_time": "2022-04-07T23:28:19.352141Z"
    }
   },
   "outputs": [],
   "source": [
    "overlap = overlap.assign(conserved=[0 if x in missing_seed_genes else 1 for x in overlap.index])"
   ]
  },
  {
   "cell_type": "code",
   "execution_count": 101,
   "metadata": {
    "ExecuteTime": {
     "end_time": "2022-04-07T23:28:19.685959Z",
     "start_time": "2022-04-07T23:28:19.367647Z"
    }
   },
   "outputs": [
    {
     "data": {
      "text/plain": [
       "conserved\n",
       "0    AxesSubplot(0.125,0.125;0.775x0.755)\n",
       "1    AxesSubplot(0.125,0.125;0.775x0.755)\n",
       "dtype: object"
      ]
     },
     "execution_count": 101,
     "metadata": {},
     "output_type": "execute_result"
    },
    {
     "data": {
      "image/png": "[encoded data removed]",
      "text/plain": [
       "<Figure size 432x288 with 1 Axes>"
      ]
     },
     "metadata": {
      "needs_background": "light"
     },
     "output_type": "display_data"
    }
   ],
   "source": [
    "fig, ax = plt.subplots(1,1)\n",
    "overlap.groupby(\"conserved\").plot(kind=\"hist\", y=\"z_rat\", xlim=(2, 25), bins=10, ax=ax, alpha=0.5)"
   ]
  },
  {
   "cell_type": "code",
   "execution_count": 102,
   "metadata": {
    "ExecuteTime": {
     "end_time": "2022-04-07T23:28:19.988395Z",
     "start_time": "2022-04-07T23:28:19.686826Z"
    }
   },
   "outputs": [
    {
     "data": {
      "text/plain": [
       "conserved\n",
       "0    AxesSubplot(0.125,0.125;0.775x0.755)\n",
       "1    AxesSubplot(0.125,0.125;0.775x0.755)\n",
       "dtype: object"
      ]
     },
     "execution_count": 102,
     "metadata": {},
     "output_type": "execute_result"
    },
    {
     "data": {
      "image/png": "[encoded data removed]",
      "text/plain": [
       "<Figure size 432x288 with 1 Axes>"
      ]
     },
     "metadata": {
      "needs_background": "light"
     },
     "output_type": "display_data"
    }
   ],
   "source": [
    "fig, ax = plt.subplots(1,1)\n",
    "overlap.groupby(\"conserved\").plot(kind=\"hist\", y=\"z_human\", xlim=(-3, 17),bins=10, ax=ax, alpha=0.5)"
   ]
  },
  {
   "cell_type": "markdown",
   "metadata": {},
   "source": [
    "## Result\n",
    "Missing genes are being excluded based on human z_score"
   ]
  },
  {
   "cell_type": "markdown",
   "metadata": {},
   "source": [
    "## But why?"
   ]
  },
  {
   "cell_type": "code",
   "execution_count": 103,
   "metadata": {
    "ExecuteTime": {
     "end_time": "2022-04-07T23:28:34.195748Z",
     "start_time": "2022-04-07T23:28:19.989206Z"
    }
   },
   "outputs": [
    {
     "name": "stdout",
     "output_type": "stream",
     "text": [
      "number of nodes:\n",
      "18820\n",
      "\n",
      "number of edges:\n",
      "2693109\n"
     ]
    }
   ],
   "source": [
    "pc_nodes, G = load_pcnet()"
   ]
  },
  {
   "cell_type": "markdown",
   "metadata": {},
   "source": [
    "### Degree\n",
    "\n",
    "They appear to have similar degree"
   ]
  },
  {
   "cell_type": "code",
   "execution_count": 104,
   "metadata": {
    "ExecuteTime": {
     "end_time": "2022-04-07T23:28:34.224845Z",
     "start_time": "2022-04-07T23:28:34.196688Z"
    }
   },
   "outputs": [],
   "source": [
    "degrees = np.array([G.degree()[x] for x in G.nodes])"
   ]
  },
  {
   "cell_type": "code",
   "execution_count": 105,
   "metadata": {
    "ExecuteTime": {
     "end_time": "2022-04-07T23:28:34.552531Z",
     "start_time": "2022-04-07T23:28:34.225783Z"
    }
   },
   "outputs": [
    {
     "data": {
      "text/plain": [
       "Text(0.5, 0, 'log10(degree)')"
      ]
     },
     "execution_count": 105,
     "metadata": {},
     "output_type": "execute_result"
    },
    {
     "data": {
      "image/png": "[encoded data removed]",
      "text/plain": [
       "<Figure size 432x288 with 1 Axes>"
      ]
     },
     "metadata": {
      "needs_background": "light"
     },
     "output_type": "display_data"
    }
   ],
   "source": [
    "_ = plt.hist(np.log10(degrees), bins=100)\n",
    "plt.xlabel(\"log10(degree)\")"
   ]
  },
  {
   "cell_type": "code",
   "execution_count": 106,
   "metadata": {
    "ExecuteTime": {
     "end_time": "2022-04-07T23:28:34.557033Z",
     "start_time": "2022-04-07T23:28:34.554221Z"
    }
   },
   "outputs": [],
   "source": [
    "n=len(degrees)\n",
    "degrees.sort()"
   ]
  },
  {
   "cell_type": "code",
   "execution_count": 107,
   "metadata": {
    "ExecuteTime": {
     "end_time": "2022-04-07T23:28:34.600115Z",
     "start_time": "2022-04-07T23:28:34.557794Z"
    }
   },
   "outputs": [],
   "source": [
    "overlap = overlap.assign(degree=[G.degree[x] for x in overlap.index])"
   ]
  },
  {
   "cell_type": "code",
   "execution_count": 108,
   "metadata": {
    "ExecuteTime": {
     "end_time": "2022-04-07T23:28:34.662548Z",
     "start_time": "2022-04-07T23:28:34.600953Z"
    }
   },
   "outputs": [],
   "source": [
    "def get_percentile(gene):\n",
    "    degree = G.degree[gene]\n",
    "    for i, d in enumerate(degrees):\n",
    "        if degree < d:\n",
    "            return i/len(degrees)\n",
    "    \n",
    "    "
   ]
  },
  {
   "cell_type": "code",
   "execution_count": null,
   "metadata": {
    "ExecuteTime": {
     "end_time": "2022-04-07T23:09:07.073882Z",
     "start_time": "2022-04-07T23:09:07.068524Z"
    }
   },
   "outputs": [],
   "source": []
  },
  {
   "cell_type": "code",
   "execution_count": 109,
   "metadata": {
    "ExecuteTime": {
     "end_time": "2022-04-07T23:28:34.768616Z",
     "start_time": "2022-04-07T23:28:34.663334Z"
    }
   },
   "outputs": [],
   "source": [
    "overlap = overlap.assign(degree_percentile=[get_percentile(x) for x in overlap.index])"
   ]
  },
  {
   "cell_type": "code",
   "execution_count": 110,
   "metadata": {
    "ExecuteTime": {
     "end_time": "2022-04-07T23:28:35.012534Z",
     "start_time": "2022-04-07T23:28:34.769270Z"
    }
   },
   "outputs": [
    {
     "data": {
      "text/plain": [
       "conserved\n",
       "0    AxesSubplot(0.125,0.125;0.775x0.755)\n",
       "1    AxesSubplot(0.125,0.125;0.775x0.755)\n",
       "dtype: object"
      ]
     },
     "execution_count": 110,
     "metadata": {},
     "output_type": "execute_result"
    },
    {
     "data": {
      "image/png": "[encoded data removed]",
      "text/plain": [
       "<Figure size 432x288 with 1 Axes>"
      ]
     },
     "metadata": {
      "needs_background": "light"
     },
     "output_type": "display_data"
    }
   ],
   "source": [
    "fig, ax = plt.subplots(1,1)\n",
    "overlap.groupby(\"conserved\").plot(kind=\"hist\", y=\"degree_percentile\",bins=10, ax=ax, alpha=0.5)"
   ]
  },
  {
   "cell_type": "code",
   "execution_count": 111,
   "metadata": {
    "ExecuteTime": {
     "end_time": "2022-04-07T23:28:35.022828Z",
     "start_time": "2022-04-07T23:28:35.013427Z"
    }
   },
   "outputs": [
    {
     "data": {
      "text/html": [
       "<div>\n",
       "<style scoped>\n",
       "    .dataframe tbody tr th:only-of-type {\n",
       "        vertical-align: middle;\n",
       "    }\n",
       "\n",
       "    .dataframe tbody tr th {\n",
       "        vertical-align: top;\n",
       "    }\n",
       "\n",
       "    .dataframe thead th {\n",
       "        text-align: right;\n",
       "    }\n",
       "</style>\n",
       "<table border=\"1\" class=\"dataframe\">\n",
       "  <thead>\n",
       "    <tr style=\"text-align: right;\">\n",
       "      <th></th>\n",
       "      <th>z_rat</th>\n",
       "      <th>z_human</th>\n",
       "      <th>z_both</th>\n",
       "      <th>SubGraph</th>\n",
       "      <th>rat_seed</th>\n",
       "      <th>human_seed</th>\n",
       "      <th>conserved</th>\n",
       "      <th>degree</th>\n",
       "      <th>degree_percentile</th>\n",
       "    </tr>\n",
       "  </thead>\n",
       "  <tbody>\n",
       "    <tr>\n",
       "      <th>RBBP6</th>\n",
       "      <td>9.143688</td>\n",
       "      <td>0.864612</td>\n",
       "      <td>7.905745</td>\n",
       "      <td>None</td>\n",
       "      <td>1</td>\n",
       "      <td>1</td>\n",
       "      <td>0</td>\n",
       "      <td>599</td>\n",
       "      <td>0.859299</td>\n",
       "    </tr>\n",
       "    <tr>\n",
       "      <th>UBR2</th>\n",
       "      <td>15.029108</td>\n",
       "      <td>16.665633</td>\n",
       "      <td>250.469601</td>\n",
       "      <td>conserved</td>\n",
       "      <td>1</td>\n",
       "      <td>1</td>\n",
       "      <td>1</td>\n",
       "      <td>856</td>\n",
       "      <td>0.930021</td>\n",
       "    </tr>\n",
       "    <tr>\n",
       "      <th>C11orf58</th>\n",
       "      <td>21.376714</td>\n",
       "      <td>-1.930446</td>\n",
       "      <td>-41.266600</td>\n",
       "      <td>rat-only</td>\n",
       "      <td>1</td>\n",
       "      <td>1</td>\n",
       "      <td>0</td>\n",
       "      <td>981</td>\n",
       "      <td>0.947662</td>\n",
       "    </tr>\n",
       "    <tr>\n",
       "      <th>REEP5</th>\n",
       "      <td>8.121855</td>\n",
       "      <td>-0.249465</td>\n",
       "      <td>-2.026122</td>\n",
       "      <td>rat-only</td>\n",
       "      <td>1</td>\n",
       "      <td>1</td>\n",
       "      <td>0</td>\n",
       "      <td>432</td>\n",
       "      <td>0.779437</td>\n",
       "    </tr>\n",
       "    <tr>\n",
       "      <th>SRP19</th>\n",
       "      <td>21.022496</td>\n",
       "      <td>-0.507409</td>\n",
       "      <td>-10.666995</td>\n",
       "      <td>rat-only</td>\n",
       "      <td>1</td>\n",
       "      <td>1</td>\n",
       "      <td>0</td>\n",
       "      <td>776</td>\n",
       "      <td>0.914081</td>\n",
       "    </tr>\n",
       "    <tr>\n",
       "      <th>PPP3CA</th>\n",
       "      <td>9.867179</td>\n",
       "      <td>11.558939</td>\n",
       "      <td>114.054121</td>\n",
       "      <td>conserved</td>\n",
       "      <td>1</td>\n",
       "      <td>1</td>\n",
       "      <td>1</td>\n",
       "      <td>733</td>\n",
       "      <td>0.902976</td>\n",
       "    </tr>\n",
       "    <tr>\n",
       "      <th>STK33</th>\n",
       "      <td>10.408183</td>\n",
       "      <td>11.586095</td>\n",
       "      <td>120.590197</td>\n",
       "      <td>conserved</td>\n",
       "      <td>1</td>\n",
       "      <td>1</td>\n",
       "      <td>1</td>\n",
       "      <td>179</td>\n",
       "      <td>0.519872</td>\n",
       "    </tr>\n",
       "    <tr>\n",
       "      <th>TBCC</th>\n",
       "      <td>13.357740</td>\n",
       "      <td>2.845800</td>\n",
       "      <td>38.013457</td>\n",
       "      <td>conserved</td>\n",
       "      <td>1</td>\n",
       "      <td>1</td>\n",
       "      <td>1</td>\n",
       "      <td>127</td>\n",
       "      <td>0.427736</td>\n",
       "    </tr>\n",
       "    <tr>\n",
       "      <th>MAPKBP1</th>\n",
       "      <td>11.633371</td>\n",
       "      <td>0.143226</td>\n",
       "      <td>1.666202</td>\n",
       "      <td>rat-only</td>\n",
       "      <td>1</td>\n",
       "      <td>1</td>\n",
       "      <td>0</td>\n",
       "      <td>126</td>\n",
       "      <td>0.425983</td>\n",
       "    </tr>\n",
       "    <tr>\n",
       "      <th>SOX6</th>\n",
       "      <td>8.858767</td>\n",
       "      <td>2.005534</td>\n",
       "      <td>17.766559</td>\n",
       "      <td>conserved</td>\n",
       "      <td>1</td>\n",
       "      <td>1</td>\n",
       "      <td>1</td>\n",
       "      <td>49</td>\n",
       "      <td>0.252285</td>\n",
       "    </tr>\n",
       "    <tr>\n",
       "      <th>TNRC6A</th>\n",
       "      <td>13.126106</td>\n",
       "      <td>15.070437</td>\n",
       "      <td>197.816156</td>\n",
       "      <td>conserved</td>\n",
       "      <td>1</td>\n",
       "      <td>1</td>\n",
       "      <td>1</td>\n",
       "      <td>204</td>\n",
       "      <td>0.556482</td>\n",
       "    </tr>\n",
       "    <tr>\n",
       "      <th>RIT2</th>\n",
       "      <td>9.828276</td>\n",
       "      <td>10.966713</td>\n",
       "      <td>107.783885</td>\n",
       "      <td>conserved</td>\n",
       "      <td>1</td>\n",
       "      <td>1</td>\n",
       "      <td>1</td>\n",
       "      <td>339</td>\n",
       "      <td>0.710202</td>\n",
       "    </tr>\n",
       "    <tr>\n",
       "      <th>TRIM66</th>\n",
       "      <td>8.105401</td>\n",
       "      <td>10.334195</td>\n",
       "      <td>83.762801</td>\n",
       "      <td>conserved</td>\n",
       "      <td>1</td>\n",
       "      <td>1</td>\n",
       "      <td>1</td>\n",
       "      <td>226</td>\n",
       "      <td>0.587566</td>\n",
       "    </tr>\n",
       "    <tr>\n",
       "      <th>RAB27B</th>\n",
       "      <td>6.857718</td>\n",
       "      <td>7.071134</td>\n",
       "      <td>48.491841</td>\n",
       "      <td>conserved</td>\n",
       "      <td>1</td>\n",
       "      <td>1</td>\n",
       "      <td>1</td>\n",
       "      <td>62</td>\n",
       "      <td>0.288045</td>\n",
       "    </tr>\n",
       "    <tr>\n",
       "      <th>GPRC5B</th>\n",
       "      <td>7.132631</td>\n",
       "      <td>8.855905</td>\n",
       "      <td>63.165899</td>\n",
       "      <td>conserved</td>\n",
       "      <td>1</td>\n",
       "      <td>1</td>\n",
       "      <td>1</td>\n",
       "      <td>95</td>\n",
       "      <td>0.365250</td>\n",
       "    </tr>\n",
       "    <tr>\n",
       "      <th>BAIAP2</th>\n",
       "      <td>10.394800</td>\n",
       "      <td>12.480816</td>\n",
       "      <td>129.735591</td>\n",
       "      <td>conserved</td>\n",
       "      <td>1</td>\n",
       "      <td>1</td>\n",
       "      <td>1</td>\n",
       "      <td>396</td>\n",
       "      <td>0.756376</td>\n",
       "    </tr>\n",
       "    <tr>\n",
       "      <th>PRPH2</th>\n",
       "      <td>8.455817</td>\n",
       "      <td>9.796283</td>\n",
       "      <td>82.835570</td>\n",
       "      <td>conserved</td>\n",
       "      <td>1</td>\n",
       "      <td>1</td>\n",
       "      <td>1</td>\n",
       "      <td>123</td>\n",
       "      <td>0.420191</td>\n",
       "    </tr>\n",
       "    <tr>\n",
       "      <th>CPNE4</th>\n",
       "      <td>4.976751</td>\n",
       "      <td>5.993961</td>\n",
       "      <td>29.830452</td>\n",
       "      <td>conserved</td>\n",
       "      <td>1</td>\n",
       "      <td>1</td>\n",
       "      <td>1</td>\n",
       "      <td>64</td>\n",
       "      <td>0.293092</td>\n",
       "    </tr>\n",
       "    <tr>\n",
       "      <th>GP2</th>\n",
       "      <td>12.852504</td>\n",
       "      <td>15.386866</td>\n",
       "      <td>197.759758</td>\n",
       "      <td>conserved</td>\n",
       "      <td>1</td>\n",
       "      <td>1</td>\n",
       "      <td>1</td>\n",
       "      <td>402</td>\n",
       "      <td>0.760946</td>\n",
       "    </tr>\n",
       "    <tr>\n",
       "      <th>AKAP6</th>\n",
       "      <td>12.670404</td>\n",
       "      <td>15.348961</td>\n",
       "      <td>194.477530</td>\n",
       "      <td>conserved</td>\n",
       "      <td>1</td>\n",
       "      <td>1</td>\n",
       "      <td>1</td>\n",
       "      <td>241</td>\n",
       "      <td>0.606270</td>\n",
       "    </tr>\n",
       "    <tr>\n",
       "      <th>HS6ST3</th>\n",
       "      <td>5.825620</td>\n",
       "      <td>5.404703</td>\n",
       "      <td>31.485745</td>\n",
       "      <td>conserved</td>\n",
       "      <td>1</td>\n",
       "      <td>1</td>\n",
       "      <td>1</td>\n",
       "      <td>45</td>\n",
       "      <td>0.239586</td>\n",
       "    </tr>\n",
       "    <tr>\n",
       "      <th>IQCK</th>\n",
       "      <td>7.297289</td>\n",
       "      <td>8.186858</td>\n",
       "      <td>59.741866</td>\n",
       "      <td>conserved</td>\n",
       "      <td>1</td>\n",
       "      <td>1</td>\n",
       "      <td>1</td>\n",
       "      <td>19</td>\n",
       "      <td>0.139054</td>\n",
       "    </tr>\n",
       "    <tr>\n",
       "      <th>TENM4</th>\n",
       "      <td>10.958192</td>\n",
       "      <td>0.443922</td>\n",
       "      <td>4.864587</td>\n",
       "      <td>rat-only</td>\n",
       "      <td>1</td>\n",
       "      <td>1</td>\n",
       "      <td>0</td>\n",
       "      <td>16</td>\n",
       "      <td>0.122529</td>\n",
       "    </tr>\n",
       "    <tr>\n",
       "      <th>CCDC68</th>\n",
       "      <td>11.743623</td>\n",
       "      <td>1.128733</td>\n",
       "      <td>13.255415</td>\n",
       "      <td>conserved</td>\n",
       "      <td>1</td>\n",
       "      <td>1</td>\n",
       "      <td>1</td>\n",
       "      <td>19</td>\n",
       "      <td>0.139054</td>\n",
       "    </tr>\n",
       "    <tr>\n",
       "      <th>AATK</th>\n",
       "      <td>11.415475</td>\n",
       "      <td>11.075728</td>\n",
       "      <td>126.434690</td>\n",
       "      <td>conserved</td>\n",
       "      <td>1</td>\n",
       "      <td>1</td>\n",
       "      <td>1</td>\n",
       "      <td>52</td>\n",
       "      <td>0.260733</td>\n",
       "    </tr>\n",
       "    <tr>\n",
       "      <th>GPR139</th>\n",
       "      <td>3.759341</td>\n",
       "      <td>3.982937</td>\n",
       "      <td>14.973217</td>\n",
       "      <td>conserved</td>\n",
       "      <td>1</td>\n",
       "      <td>1</td>\n",
       "      <td>1</td>\n",
       "      <td>33</td>\n",
       "      <td>0.199150</td>\n",
       "    </tr>\n",
       "    <tr>\n",
       "      <th>PITPNC1</th>\n",
       "      <td>10.311222</td>\n",
       "      <td>0.696540</td>\n",
       "      <td>7.182177</td>\n",
       "      <td>None</td>\n",
       "      <td>1</td>\n",
       "      <td>1</td>\n",
       "      <td>0</td>\n",
       "      <td>38</td>\n",
       "      <td>0.218119</td>\n",
       "    </tr>\n",
       "    <tr>\n",
       "      <th>SLC5A11</th>\n",
       "      <td>6.515312</td>\n",
       "      <td>0.713698</td>\n",
       "      <td>4.649967</td>\n",
       "      <td>None</td>\n",
       "      <td>1</td>\n",
       "      <td>1</td>\n",
       "      <td>0</td>\n",
       "      <td>48</td>\n",
       "      <td>0.249681</td>\n",
       "    </tr>\n",
       "    <tr>\n",
       "      <th>SYT14</th>\n",
       "      <td>7.733985</td>\n",
       "      <td>6.435059</td>\n",
       "      <td>49.768649</td>\n",
       "      <td>conserved</td>\n",
       "      <td>1</td>\n",
       "      <td>1</td>\n",
       "      <td>1</td>\n",
       "      <td>7</td>\n",
       "      <td>0.066791</td>\n",
       "    </tr>\n",
       "  </tbody>\n",
       "</table>\n",
       "</div>"
      ],
      "text/plain": [
       "              z_rat    z_human      z_both   SubGraph  rat_seed  human_seed  \\\n",
       "RBBP6      9.143688   0.864612    7.905745       None         1           1   \n",
       "UBR2      15.029108  16.665633  250.469601  conserved         1           1   \n",
       "C11orf58  21.376714  -1.930446  -41.266600   rat-only         1           1   \n",
       "REEP5      8.121855  -0.249465   -2.026122   rat-only         1           1   \n",
       "SRP19     21.022496  -0.507409  -10.666995   rat-only         1           1   \n",
       "PPP3CA     9.867179  11.558939  114.054121  conserved         1           1   \n",
       "STK33     10.408183  11.586095  120.590197  conserved         1           1   \n",
       "TBCC      13.357740   2.845800   38.013457  conserved         1           1   \n",
       "MAPKBP1   11.633371   0.143226    1.666202   rat-only         1           1   \n",
       "SOX6       8.858767   2.005534   17.766559  conserved         1           1   \n",
       "TNRC6A    13.126106  15.070437  197.816156  conserved         1           1   \n",
       "RIT2       9.828276  10.966713  107.783885  conserved         1           1   \n",
       "TRIM66     8.105401  10.334195   83.762801  conserved         1           1   \n",
       "RAB27B     6.857718   7.071134   48.491841  conserved         1           1   \n",
       "GPRC5B     7.132631   8.855905   63.165899  conserved         1           1   \n",
       "BAIAP2    10.394800  12.480816  129.735591  conserved         1           1   \n",
       "PRPH2      8.455817   9.796283   82.835570  conserved         1           1   \n",
       "CPNE4      4.976751   5.993961   29.830452  conserved         1           1   \n",
       "GP2       12.852504  15.386866  197.759758  conserved         1           1   \n",
       "AKAP6     12.670404  15.348961  194.477530  conserved         1           1   \n",
       "HS6ST3     5.825620   5.404703   31.485745  conserved         1           1   \n",
       "IQCK       7.297289   8.186858   59.741866  conserved         1           1   \n",
       "TENM4     10.958192   0.443922    4.864587   rat-only         1           1   \n",
       "CCDC68    11.743623   1.128733   13.255415  conserved         1           1   \n",
       "AATK      11.415475  11.075728  126.434690  conserved         1           1   \n",
       "GPR139     3.759341   3.982937   14.973217  conserved         1           1   \n",
       "PITPNC1   10.311222   0.696540    7.182177       None         1           1   \n",
       "SLC5A11    6.515312   0.713698    4.649967       None         1           1   \n",
       "SYT14      7.733985   6.435059   49.768649  conserved         1           1   \n",
       "\n",
       "          conserved  degree  degree_percentile  \n",
       "RBBP6             0     599           0.859299  \n",
       "UBR2              1     856           0.930021  \n",
       "C11orf58          0     981           0.947662  \n",
       "REEP5             0     432           0.779437  \n",
       "SRP19             0     776           0.914081  \n",
       "PPP3CA            1     733           0.902976  \n",
       "STK33             1     179           0.519872  \n",
       "TBCC              1     127           0.427736  \n",
       "MAPKBP1           0     126           0.425983  \n",
       "SOX6              1      49           0.252285  \n",
       "TNRC6A            1     204           0.556482  \n",
       "RIT2              1     339           0.710202  \n",
       "TRIM66            1     226           0.587566  \n",
       "RAB27B            1      62           0.288045  \n",
       "GPRC5B            1      95           0.365250  \n",
       "BAIAP2            1     396           0.756376  \n",
       "PRPH2             1     123           0.420191  \n",
       "CPNE4             1      64           0.293092  \n",
       "GP2               1     402           0.760946  \n",
       "AKAP6             1     241           0.606270  \n",
       "HS6ST3            1      45           0.239586  \n",
       "IQCK              1      19           0.139054  \n",
       "TENM4             0      16           0.122529  \n",
       "CCDC68            1      19           0.139054  \n",
       "AATK              1      52           0.260733  \n",
       "GPR139            1      33           0.199150  \n",
       "PITPNC1           0      38           0.218119  \n",
       "SLC5A11           0      48           0.249681  \n",
       "SYT14             1       7           0.066791  "
      ]
     },
     "execution_count": 111,
     "metadata": {},
     "output_type": "execute_result"
    }
   ],
   "source": [
    "overlap"
   ]
  },
  {
   "cell_type": "markdown",
   "metadata": {},
   "source": [
    "### They are genuinely far from other human seed genes"
   ]
  },
  {
   "cell_type": "markdown",
   "metadata": {},
   "source": [
    "#### Number of seed genes in first degree neighbors"
   ]
  },
  {
   "cell_type": "code",
   "execution_count": 112,
   "metadata": {
    "ExecuteTime": {
     "end_time": "2022-04-07T23:28:35.183360Z",
     "start_time": "2022-04-07T23:28:35.023726Z"
    }
   },
   "outputs": [],
   "source": [
    "human_seeds = [x for x in z_scores.index if z_scores.loc[x, \"human_seed\"]==1]"
   ]
  },
  {
   "cell_type": "code",
   "execution_count": 113,
   "metadata": {
    "ExecuteTime": {
     "end_time": "2022-04-07T23:28:35.338484Z",
     "start_time": "2022-04-07T23:28:35.184117Z"
    }
   },
   "outputs": [],
   "source": [
    "overlap = overlap.assign(human_neighbors=[len([n for n in G.neighbors(x) if n in human_seeds]) \n",
    "                                                                        for x in overlap.index])"
   ]
  },
  {
   "cell_type": "code",
   "execution_count": 114,
   "metadata": {
    "ExecuteTime": {
     "end_time": "2022-04-07T23:28:37.469780Z",
     "start_time": "2022-04-07T23:28:37.467310Z"
    }
   },
   "outputs": [],
   "source": [
    "overlap = overlap.assign(human_per=overlap.human_neighbors/overlap.degree)"
   ]
  },
  {
   "cell_type": "code",
   "execution_count": 115,
   "metadata": {
    "ExecuteTime": {
     "end_time": "2022-04-07T23:28:39.312738Z",
     "start_time": "2022-04-07T23:28:39.301088Z"
    }
   },
   "outputs": [
    {
     "data": {
      "text/html": [
       "<div>\n",
       "<style scoped>\n",
       "    .dataframe tbody tr th:only-of-type {\n",
       "        vertical-align: middle;\n",
       "    }\n",
       "\n",
       "    .dataframe tbody tr th {\n",
       "        vertical-align: top;\n",
       "    }\n",
       "\n",
       "    .dataframe thead th {\n",
       "        text-align: right;\n",
       "    }\n",
       "</style>\n",
       "<table border=\"1\" class=\"dataframe\">\n",
       "  <thead>\n",
       "    <tr style=\"text-align: right;\">\n",
       "      <th></th>\n",
       "      <th>z_rat</th>\n",
       "      <th>z_human</th>\n",
       "      <th>z_both</th>\n",
       "      <th>SubGraph</th>\n",
       "      <th>rat_seed</th>\n",
       "      <th>human_seed</th>\n",
       "      <th>conserved</th>\n",
       "      <th>degree</th>\n",
       "      <th>degree_percentile</th>\n",
       "      <th>human_neighbors</th>\n",
       "      <th>human_per</th>\n",
       "    </tr>\n",
       "  </thead>\n",
       "  <tbody>\n",
       "    <tr>\n",
       "      <th>RBBP6</th>\n",
       "      <td>9.143688</td>\n",
       "      <td>0.864612</td>\n",
       "      <td>7.905745</td>\n",
       "      <td>None</td>\n",
       "      <td>1</td>\n",
       "      <td>1</td>\n",
       "      <td>0</td>\n",
       "      <td>599</td>\n",
       "      <td>0.859299</td>\n",
       "      <td>78</td>\n",
       "      <td>0.130217</td>\n",
       "    </tr>\n",
       "    <tr>\n",
       "      <th>UBR2</th>\n",
       "      <td>15.029108</td>\n",
       "      <td>16.665633</td>\n",
       "      <td>250.469601</td>\n",
       "      <td>conserved</td>\n",
       "      <td>1</td>\n",
       "      <td>1</td>\n",
       "      <td>1</td>\n",
       "      <td>856</td>\n",
       "      <td>0.930021</td>\n",
       "      <td>107</td>\n",
       "      <td>0.125000</td>\n",
       "    </tr>\n",
       "    <tr>\n",
       "      <th>C11orf58</th>\n",
       "      <td>21.376714</td>\n",
       "      <td>-1.930446</td>\n",
       "      <td>-41.266600</td>\n",
       "      <td>rat-only</td>\n",
       "      <td>1</td>\n",
       "      <td>1</td>\n",
       "      <td>0</td>\n",
       "      <td>981</td>\n",
       "      <td>0.947662</td>\n",
       "      <td>90</td>\n",
       "      <td>0.091743</td>\n",
       "    </tr>\n",
       "    <tr>\n",
       "      <th>REEP5</th>\n",
       "      <td>8.121855</td>\n",
       "      <td>-0.249465</td>\n",
       "      <td>-2.026122</td>\n",
       "      <td>rat-only</td>\n",
       "      <td>1</td>\n",
       "      <td>1</td>\n",
       "      <td>0</td>\n",
       "      <td>432</td>\n",
       "      <td>0.779437</td>\n",
       "      <td>41</td>\n",
       "      <td>0.094907</td>\n",
       "    </tr>\n",
       "    <tr>\n",
       "      <th>SRP19</th>\n",
       "      <td>21.022496</td>\n",
       "      <td>-0.507409</td>\n",
       "      <td>-10.666995</td>\n",
       "      <td>rat-only</td>\n",
       "      <td>1</td>\n",
       "      <td>1</td>\n",
       "      <td>0</td>\n",
       "      <td>776</td>\n",
       "      <td>0.914081</td>\n",
       "      <td>81</td>\n",
       "      <td>0.104381</td>\n",
       "    </tr>\n",
       "    <tr>\n",
       "      <th>PPP3CA</th>\n",
       "      <td>9.867179</td>\n",
       "      <td>11.558939</td>\n",
       "      <td>114.054121</td>\n",
       "      <td>conserved</td>\n",
       "      <td>1</td>\n",
       "      <td>1</td>\n",
       "      <td>1</td>\n",
       "      <td>733</td>\n",
       "      <td>0.902976</td>\n",
       "      <td>100</td>\n",
       "      <td>0.136426</td>\n",
       "    </tr>\n",
       "    <tr>\n",
       "      <th>STK33</th>\n",
       "      <td>10.408183</td>\n",
       "      <td>11.586095</td>\n",
       "      <td>120.590197</td>\n",
       "      <td>conserved</td>\n",
       "      <td>1</td>\n",
       "      <td>1</td>\n",
       "      <td>1</td>\n",
       "      <td>179</td>\n",
       "      <td>0.519872</td>\n",
       "      <td>32</td>\n",
       "      <td>0.178771</td>\n",
       "    </tr>\n",
       "    <tr>\n",
       "      <th>TBCC</th>\n",
       "      <td>13.357740</td>\n",
       "      <td>2.845800</td>\n",
       "      <td>38.013457</td>\n",
       "      <td>conserved</td>\n",
       "      <td>1</td>\n",
       "      <td>1</td>\n",
       "      <td>1</td>\n",
       "      <td>127</td>\n",
       "      <td>0.427736</td>\n",
       "      <td>14</td>\n",
       "      <td>0.110236</td>\n",
       "    </tr>\n",
       "    <tr>\n",
       "      <th>MAPKBP1</th>\n",
       "      <td>11.633371</td>\n",
       "      <td>0.143226</td>\n",
       "      <td>1.666202</td>\n",
       "      <td>rat-only</td>\n",
       "      <td>1</td>\n",
       "      <td>1</td>\n",
       "      <td>0</td>\n",
       "      <td>126</td>\n",
       "      <td>0.425983</td>\n",
       "      <td>12</td>\n",
       "      <td>0.095238</td>\n",
       "    </tr>\n",
       "    <tr>\n",
       "      <th>SOX6</th>\n",
       "      <td>8.858767</td>\n",
       "      <td>2.005534</td>\n",
       "      <td>17.766559</td>\n",
       "      <td>conserved</td>\n",
       "      <td>1</td>\n",
       "      <td>1</td>\n",
       "      <td>1</td>\n",
       "      <td>49</td>\n",
       "      <td>0.252285</td>\n",
       "      <td>12</td>\n",
       "      <td>0.244898</td>\n",
       "    </tr>\n",
       "    <tr>\n",
       "      <th>TNRC6A</th>\n",
       "      <td>13.126106</td>\n",
       "      <td>15.070437</td>\n",
       "      <td>197.816156</td>\n",
       "      <td>conserved</td>\n",
       "      <td>1</td>\n",
       "      <td>1</td>\n",
       "      <td>1</td>\n",
       "      <td>204</td>\n",
       "      <td>0.556482</td>\n",
       "      <td>27</td>\n",
       "      <td>0.132353</td>\n",
       "    </tr>\n",
       "    <tr>\n",
       "      <th>RIT2</th>\n",
       "      <td>9.828276</td>\n",
       "      <td>10.966713</td>\n",
       "      <td>107.783885</td>\n",
       "      <td>conserved</td>\n",
       "      <td>1</td>\n",
       "      <td>1</td>\n",
       "      <td>1</td>\n",
       "      <td>339</td>\n",
       "      <td>0.710202</td>\n",
       "      <td>51</td>\n",
       "      <td>0.150442</td>\n",
       "    </tr>\n",
       "    <tr>\n",
       "      <th>TRIM66</th>\n",
       "      <td>8.105401</td>\n",
       "      <td>10.334195</td>\n",
       "      <td>83.762801</td>\n",
       "      <td>conserved</td>\n",
       "      <td>1</td>\n",
       "      <td>1</td>\n",
       "      <td>1</td>\n",
       "      <td>226</td>\n",
       "      <td>0.587566</td>\n",
       "      <td>30</td>\n",
       "      <td>0.132743</td>\n",
       "    </tr>\n",
       "    <tr>\n",
       "      <th>RAB27B</th>\n",
       "      <td>6.857718</td>\n",
       "      <td>7.071134</td>\n",
       "      <td>48.491841</td>\n",
       "      <td>conserved</td>\n",
       "      <td>1</td>\n",
       "      <td>1</td>\n",
       "      <td>1</td>\n",
       "      <td>62</td>\n",
       "      <td>0.288045</td>\n",
       "      <td>10</td>\n",
       "      <td>0.161290</td>\n",
       "    </tr>\n",
       "    <tr>\n",
       "      <th>GPRC5B</th>\n",
       "      <td>7.132631</td>\n",
       "      <td>8.855905</td>\n",
       "      <td>63.165899</td>\n",
       "      <td>conserved</td>\n",
       "      <td>1</td>\n",
       "      <td>1</td>\n",
       "      <td>1</td>\n",
       "      <td>95</td>\n",
       "      <td>0.365250</td>\n",
       "      <td>7</td>\n",
       "      <td>0.073684</td>\n",
       "    </tr>\n",
       "    <tr>\n",
       "      <th>BAIAP2</th>\n",
       "      <td>10.394800</td>\n",
       "      <td>12.480816</td>\n",
       "      <td>129.735591</td>\n",
       "      <td>conserved</td>\n",
       "      <td>1</td>\n",
       "      <td>1</td>\n",
       "      <td>1</td>\n",
       "      <td>396</td>\n",
       "      <td>0.756376</td>\n",
       "      <td>52</td>\n",
       "      <td>0.131313</td>\n",
       "    </tr>\n",
       "    <tr>\n",
       "      <th>PRPH2</th>\n",
       "      <td>8.455817</td>\n",
       "      <td>9.796283</td>\n",
       "      <td>82.835570</td>\n",
       "      <td>conserved</td>\n",
       "      <td>1</td>\n",
       "      <td>1</td>\n",
       "      <td>1</td>\n",
       "      <td>123</td>\n",
       "      <td>0.420191</td>\n",
       "      <td>17</td>\n",
       "      <td>0.138211</td>\n",
       "    </tr>\n",
       "    <tr>\n",
       "      <th>CPNE4</th>\n",
       "      <td>4.976751</td>\n",
       "      <td>5.993961</td>\n",
       "      <td>29.830452</td>\n",
       "      <td>conserved</td>\n",
       "      <td>1</td>\n",
       "      <td>1</td>\n",
       "      <td>1</td>\n",
       "      <td>64</td>\n",
       "      <td>0.293092</td>\n",
       "      <td>11</td>\n",
       "      <td>0.171875</td>\n",
       "    </tr>\n",
       "    <tr>\n",
       "      <th>GP2</th>\n",
       "      <td>12.852504</td>\n",
       "      <td>15.386866</td>\n",
       "      <td>197.759758</td>\n",
       "      <td>conserved</td>\n",
       "      <td>1</td>\n",
       "      <td>1</td>\n",
       "      <td>1</td>\n",
       "      <td>402</td>\n",
       "      <td>0.760946</td>\n",
       "      <td>57</td>\n",
       "      <td>0.141791</td>\n",
       "    </tr>\n",
       "    <tr>\n",
       "      <th>AKAP6</th>\n",
       "      <td>12.670404</td>\n",
       "      <td>15.348961</td>\n",
       "      <td>194.477530</td>\n",
       "      <td>conserved</td>\n",
       "      <td>1</td>\n",
       "      <td>1</td>\n",
       "      <td>1</td>\n",
       "      <td>241</td>\n",
       "      <td>0.606270</td>\n",
       "      <td>27</td>\n",
       "      <td>0.112033</td>\n",
       "    </tr>\n",
       "    <tr>\n",
       "      <th>HS6ST3</th>\n",
       "      <td>5.825620</td>\n",
       "      <td>5.404703</td>\n",
       "      <td>31.485745</td>\n",
       "      <td>conserved</td>\n",
       "      <td>1</td>\n",
       "      <td>1</td>\n",
       "      <td>1</td>\n",
       "      <td>45</td>\n",
       "      <td>0.239586</td>\n",
       "      <td>3</td>\n",
       "      <td>0.066667</td>\n",
       "    </tr>\n",
       "    <tr>\n",
       "      <th>IQCK</th>\n",
       "      <td>7.297289</td>\n",
       "      <td>8.186858</td>\n",
       "      <td>59.741866</td>\n",
       "      <td>conserved</td>\n",
       "      <td>1</td>\n",
       "      <td>1</td>\n",
       "      <td>1</td>\n",
       "      <td>19</td>\n",
       "      <td>0.139054</td>\n",
       "      <td>2</td>\n",
       "      <td>0.105263</td>\n",
       "    </tr>\n",
       "    <tr>\n",
       "      <th>TENM4</th>\n",
       "      <td>10.958192</td>\n",
       "      <td>0.443922</td>\n",
       "      <td>4.864587</td>\n",
       "      <td>rat-only</td>\n",
       "      <td>1</td>\n",
       "      <td>1</td>\n",
       "      <td>0</td>\n",
       "      <td>16</td>\n",
       "      <td>0.122529</td>\n",
       "      <td>1</td>\n",
       "      <td>0.062500</td>\n",
       "    </tr>\n",
       "    <tr>\n",
       "      <th>CCDC68</th>\n",
       "      <td>11.743623</td>\n",
       "      <td>1.128733</td>\n",
       "      <td>13.255415</td>\n",
       "      <td>conserved</td>\n",
       "      <td>1</td>\n",
       "      <td>1</td>\n",
       "      <td>1</td>\n",
       "      <td>19</td>\n",
       "      <td>0.139054</td>\n",
       "      <td>1</td>\n",
       "      <td>0.052632</td>\n",
       "    </tr>\n",
       "    <tr>\n",
       "      <th>AATK</th>\n",
       "      <td>11.415475</td>\n",
       "      <td>11.075728</td>\n",
       "      <td>126.434690</td>\n",
       "      <td>conserved</td>\n",
       "      <td>1</td>\n",
       "      <td>1</td>\n",
       "      <td>1</td>\n",
       "      <td>52</td>\n",
       "      <td>0.260733</td>\n",
       "      <td>9</td>\n",
       "      <td>0.173077</td>\n",
       "    </tr>\n",
       "    <tr>\n",
       "      <th>GPR139</th>\n",
       "      <td>3.759341</td>\n",
       "      <td>3.982937</td>\n",
       "      <td>14.973217</td>\n",
       "      <td>conserved</td>\n",
       "      <td>1</td>\n",
       "      <td>1</td>\n",
       "      <td>1</td>\n",
       "      <td>33</td>\n",
       "      <td>0.199150</td>\n",
       "      <td>4</td>\n",
       "      <td>0.121212</td>\n",
       "    </tr>\n",
       "    <tr>\n",
       "      <th>PITPNC1</th>\n",
       "      <td>10.311222</td>\n",
       "      <td>0.696540</td>\n",
       "      <td>7.182177</td>\n",
       "      <td>None</td>\n",
       "      <td>1</td>\n",
       "      <td>1</td>\n",
       "      <td>0</td>\n",
       "      <td>38</td>\n",
       "      <td>0.218119</td>\n",
       "      <td>5</td>\n",
       "      <td>0.131579</td>\n",
       "    </tr>\n",
       "    <tr>\n",
       "      <th>SLC5A11</th>\n",
       "      <td>6.515312</td>\n",
       "      <td>0.713698</td>\n",
       "      <td>4.649967</td>\n",
       "      <td>None</td>\n",
       "      <td>1</td>\n",
       "      <td>1</td>\n",
       "      <td>0</td>\n",
       "      <td>48</td>\n",
       "      <td>0.249681</td>\n",
       "      <td>8</td>\n",
       "      <td>0.166667</td>\n",
       "    </tr>\n",
       "    <tr>\n",
       "      <th>SYT14</th>\n",
       "      <td>7.733985</td>\n",
       "      <td>6.435059</td>\n",
       "      <td>49.768649</td>\n",
       "      <td>conserved</td>\n",
       "      <td>1</td>\n",
       "      <td>1</td>\n",
       "      <td>1</td>\n",
       "      <td>7</td>\n",
       "      <td>0.066791</td>\n",
       "      <td>2</td>\n",
       "      <td>0.285714</td>\n",
       "    </tr>\n",
       "  </tbody>\n",
       "</table>\n",
       "</div>"
      ],
      "text/plain": [
       "              z_rat    z_human      z_both   SubGraph  rat_seed  human_seed  \\\n",
       "RBBP6      9.143688   0.864612    7.905745       None         1           1   \n",
       "UBR2      15.029108  16.665633  250.469601  conserved         1           1   \n",
       "C11orf58  21.376714  -1.930446  -41.266600   rat-only         1           1   \n",
       "REEP5      8.121855  -0.249465   -2.026122   rat-only         1           1   \n",
       "SRP19     21.022496  -0.507409  -10.666995   rat-only         1           1   \n",
       "PPP3CA     9.867179  11.558939  114.054121  conserved         1           1   \n",
       "STK33     10.408183  11.586095  120.590197  conserved         1           1   \n",
       "TBCC      13.357740   2.845800   38.013457  conserved         1           1   \n",
       "MAPKBP1   11.633371   0.143226    1.666202   rat-only         1           1   \n",
       "SOX6       8.858767   2.005534   17.766559  conserved         1           1   \n",
       "TNRC6A    13.126106  15.070437  197.816156  conserved         1           1   \n",
       "RIT2       9.828276  10.966713  107.783885  conserved         1           1   \n",
       "TRIM66     8.105401  10.334195   83.762801  conserved         1           1   \n",
       "RAB27B     6.857718   7.071134   48.491841  conserved         1           1   \n",
       "GPRC5B     7.132631   8.855905   63.165899  conserved         1           1   \n",
       "BAIAP2    10.394800  12.480816  129.735591  conserved         1           1   \n",
       "PRPH2      8.455817   9.796283   82.835570  conserved         1           1   \n",
       "CPNE4      4.976751   5.993961   29.830452  conserved         1           1   \n",
       "GP2       12.852504  15.386866  197.759758  conserved         1           1   \n",
       "AKAP6     12.670404  15.348961  194.477530  conserved         1           1   \n",
       "HS6ST3     5.825620   5.404703   31.485745  conserved         1           1   \n",
       "IQCK       7.297289   8.186858   59.741866  conserved         1           1   \n",
       "TENM4     10.958192   0.443922    4.864587   rat-only         1           1   \n",
       "CCDC68    11.743623   1.128733   13.255415  conserved         1           1   \n",
       "AATK      11.415475  11.075728  126.434690  conserved         1           1   \n",
       "GPR139     3.759341   3.982937   14.973217  conserved         1           1   \n",
       "PITPNC1   10.311222   0.696540    7.182177       None         1           1   \n",
       "SLC5A11    6.515312   0.713698    4.649967       None         1           1   \n",
       "SYT14      7.733985   6.435059   49.768649  conserved         1           1   \n",
       "\n",
       "          conserved  degree  degree_percentile  human_neighbors  human_per  \n",
       "RBBP6             0     599           0.859299               78   0.130217  \n",
       "UBR2              1     856           0.930021              107   0.125000  \n",
       "C11orf58          0     981           0.947662               90   0.091743  \n",
       "REEP5             0     432           0.779437               41   0.094907  \n",
       "SRP19             0     776           0.914081               81   0.104381  \n",
       "PPP3CA            1     733           0.902976              100   0.136426  \n",
       "STK33             1     179           0.519872               32   0.178771  \n",
       "TBCC              1     127           0.427736               14   0.110236  \n",
       "MAPKBP1           0     126           0.425983               12   0.095238  \n",
       "SOX6              1      49           0.252285               12   0.244898  \n",
       "TNRC6A            1     204           0.556482               27   0.132353  \n",
       "RIT2              1     339           0.710202               51   0.150442  \n",
       "TRIM66            1     226           0.587566               30   0.132743  \n",
       "RAB27B            1      62           0.288045               10   0.161290  \n",
       "GPRC5B            1      95           0.365250                7   0.073684  \n",
       "BAIAP2            1     396           0.756376               52   0.131313  \n",
       "PRPH2             1     123           0.420191               17   0.138211  \n",
       "CPNE4             1      64           0.293092               11   0.171875  \n",
       "GP2               1     402           0.760946               57   0.141791  \n",
       "AKAP6             1     241           0.606270               27   0.112033  \n",
       "HS6ST3            1      45           0.239586                3   0.066667  \n",
       "IQCK              1      19           0.139054                2   0.105263  \n",
       "TENM4             0      16           0.122529                1   0.062500  \n",
       "CCDC68            1      19           0.139054                1   0.052632  \n",
       "AATK              1      52           0.260733                9   0.173077  \n",
       "GPR139            1      33           0.199150                4   0.121212  \n",
       "PITPNC1           0      38           0.218119                5   0.131579  \n",
       "SLC5A11           0      48           0.249681                8   0.166667  \n",
       "SYT14             1       7           0.066791                2   0.285714  "
      ]
     },
     "execution_count": 115,
     "metadata": {},
     "output_type": "execute_result"
    }
   ],
   "source": [
    "overlap"
   ]
  },
  {
   "cell_type": "code",
   "execution_count": 116,
   "metadata": {
    "ExecuteTime": {
     "end_time": "2022-04-07T23:29:21.225957Z",
     "start_time": "2022-04-07T23:29:20.964690Z"
    }
   },
   "outputs": [
    {
     "data": {
      "text/plain": [
       "conserved\n",
       "0    AxesSubplot(0.125,0.125;0.775x0.755)\n",
       "1    AxesSubplot(0.125,0.125;0.775x0.755)\n",
       "dtype: object"
      ]
     },
     "execution_count": 116,
     "metadata": {},
     "output_type": "execute_result"
    },
    {
     "data": {
      "image/png": "[encoded data removed]",
      "text/plain": [
       "<Figure size 432x288 with 1 Axes>"
      ]
     },
     "metadata": {
      "needs_background": "light"
     },
     "output_type": "display_data"
    }
   ],
   "source": [
    "fig, ax = plt.subplots(1,1)\n",
    "overlap.groupby(\"conserved\").plot(kind=\"hist\", y=\"human_per\",bins=10, ax=ax, alpha=0.5)"
   ]
  },
  {
   "cell_type": "markdown",
   "metadata": {},
   "source": [
    "### Are they false positives?\n",
    "\n",
    "* 5/8 of the non-conserved are not in GWAS catalog for BMI specifically (not taking BMI adjusted waist hip)\n",
    "* 3/21 of the conserved are not in the GWAS catalog. \n",
    "\n",
    "This should probably be repeated checking that we are not using the GIANT + ukbb meta analysis results from GWAS Catalog. But we could make a point that not only can we expand the overlap, we can also identify less confident findings from within the overlap itself. Could mention in relative to rat-only as a few are in there (but not all)."
   ]
  },
  {
   "cell_type": "code",
   "execution_count": null,
   "metadata": {},
   "outputs": [],
   "source": []
  }
 ],
 "metadata": {
  "kernelspec": {
   "display_name": "Python [conda env:netcoloc]",
   "language": "python",
   "name": "conda-env-netcoloc-py"
  },
  "language_info": {
   "codemirror_mode": {
    "name": "ipython",
    "version": 3
   },
   "file_extension": ".py",
   "mimetype": "text/x-python",
   "name": "python",
   "nbconvert_exporter": "python",
   "pygments_lexer": "ipython3",
   "version": "3.9.7"
  },
  "toc": {
   "base_numbering": 1,
   "nav_menu": {},
   "number_sections": true,
   "sideBar": true,
   "skip_h1_title": false,
   "title_cell": "Table of Contents",
   "title_sidebar": "Contents",
   "toc_cell": false,
   "toc_position": {},
   "toc_section_display": true,
   "toc_window_display": false
  },
  "varInspector": {
   "cols": {
    "lenName": 16,
    "lenType": 16,
    "lenVar": 40
   },
   "kernels_config": {
    "python": {
     "delete_cmd_postfix": "",
     "delete_cmd_prefix": "del ",
     "library": "var_list.py",
     "varRefreshCmd": "print(var_dic_list())"
    },
    "r": {
     "delete_cmd_postfix": ") ",
     "delete_cmd_prefix": "rm(",
     "library": "var_list.r",
     "varRefreshCmd": "cat(var_dic_list()) "
    }
   },
   "types_to_exclude": [
    "module",
    "function",
    "builtin_function_or_method",
    "instance",
    "_Feature"
   ],
   "window_display": false
  }
 },
 "nbformat": 4,
 "nbformat_minor": 2
}
